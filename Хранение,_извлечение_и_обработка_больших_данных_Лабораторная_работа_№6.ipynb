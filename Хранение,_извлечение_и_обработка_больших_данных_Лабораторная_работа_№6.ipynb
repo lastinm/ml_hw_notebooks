{
  "nbformat": 4,
  "nbformat_minor": 0,
  "metadata": {
    "colab": {
      "provenance": [],
      "authorship_tag": "ABX9TyMhpjpfkJQHLuli4lSmnhzi",
      "include_colab_link": true
    },
    "kernelspec": {
      "name": "python3",
      "display_name": "Python 3"
    },
    "language_info": {
      "name": "python"
    }
  },
  "cells": [
    {
      "cell_type": "markdown",
      "metadata": {
        "id": "view-in-github",
        "colab_type": "text"
      },
      "source": [
        "<a href=\"https://colab.research.google.com/github/lastinm/ml_hw_notebooks/blob/main/%D0%A5%D1%80%D0%B0%D0%BD%D0%B5%D0%BD%D0%B8%D0%B5%2C_%D0%B8%D0%B7%D0%B2%D0%BB%D0%B5%D1%87%D0%B5%D0%BD%D0%B8%D0%B5_%D0%B8_%D0%BE%D0%B1%D1%80%D0%B0%D0%B1%D0%BE%D1%82%D0%BA%D0%B0_%D0%B1%D0%BE%D0%BB%D1%8C%D1%88%D0%B8%D1%85_%D0%B4%D0%B0%D0%BD%D0%BD%D1%8B%D1%85_%D0%9B%D0%B0%D0%B1%D0%BE%D1%80%D0%B0%D1%82%D0%BE%D1%80%D0%BD%D0%B0%D1%8F_%D1%80%D0%B0%D0%B1%D0%BE%D1%82%D0%B0_%E2%84%966.ipynb\" target=\"_parent\"><img src=\"https://colab.research.google.com/assets/colab-badge.svg\" alt=\"Open In Colab\"/></a>"
      ]
    },
    {
      "cell_type": "markdown",
      "source": [
        "# Блок 1. Исходные данные"
      ],
      "metadata": {
        "id": "qIEPMDx4NKc9"
      }
    },
    {
      "cell_type": "markdown",
      "source": [
        "## 1. Найти (сгенерировать) набор данных, подходящий для выполнения всех заданий."
      ],
      "metadata": {
        "id": "RBQQCYkNNPeU"
      }
    },
    {
      "cell_type": "code",
      "execution_count": 4,
      "metadata": {
        "id": "EqqjsRRDL2OV"
      },
      "outputs": [],
      "source": [
        "# импорт необходимых библиотек\n",
        "from sklearn.datasets import load_iris\n",
        "from pyspark.sql import SparkSession\n",
        "from pyspark.sql.functions import avg, max, min, count\n",
        "import pandas as pd"
      ]
    },
    {
      "cell_type": "code",
      "source": [
        "# Создаем Spark-сессию\n",
        "spark = SparkSession.builder \\\n",
        "    .appName(\"Iris Dataset Analysis\") \\\n",
        "    .getOrCreate()"
      ],
      "metadata": {
        "id": "S06wk1r2P95c"
      },
      "execution_count": 9,
      "outputs": []
    },
    {
      "cell_type": "markdown",
      "source": [
        "## 2. Считать данные в датафрейм."
      ],
      "metadata": {
        "id": "MttZk4MMQbzA"
      }
    },
    {
      "cell_type": "code",
      "source": [
        "# Загрузка данных Iris\n",
        "iris_data = load_iris()\n",
        "iris_df = pd.DataFrame(data=iris_data.data, columns=iris_data.feature_names)\n",
        "iris_df['species'] = iris_data.target\n",
        "\n",
        "# Сохранение в CSV (либо можно использовать метод ниже для загрузки в PySpark)\n",
        "iris_df.to_csv(\"iris.csv\", index=False)\n",
        "\n",
        "# Загрузка в PySpark DataFrame\n",
        "iris_spark_df = spark.read.csv(\"iris.csv\", header=True, inferSchema=True)"
      ],
      "metadata": {
        "id": "ccOvyN7pQKSt"
      },
      "execution_count": 8,
      "outputs": []
    },
    {
      "cell_type": "markdown",
      "source": [
        "## 3. Проверить типы, выполнить преобразования типов, если это требуется."
      ],
      "metadata": {
        "id": "tRhrZQbGQm_5"
      }
    },
    {
      "cell_type": "code",
      "source": [
        "# Проверка типов данных\n",
        "iris_spark_df.printSchema()"
      ],
      "metadata": {
        "colab": {
          "base_uri": "https://localhost:8080/"
        },
        "id": "2hm8n69LQ2Rb",
        "outputId": "9c55f21c-5601-4e60-cfe0-27844dfccdc1"
      },
      "execution_count": 10,
      "outputs": [
        {
          "output_type": "stream",
          "name": "stdout",
          "text": [
            "root\n",
            " |-- sepal length (cm): double (nullable = true)\n",
            " |-- sepal width (cm): double (nullable = true)\n",
            " |-- petal length (cm): double (nullable = true)\n",
            " |-- petal width (cm): double (nullable = true)\n",
            " |-- species: integer (nullable = true)\n",
            "\n"
          ]
        }
      ]
    }
  ]
}