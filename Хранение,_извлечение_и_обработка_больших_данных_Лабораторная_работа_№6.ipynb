{
  "nbformat": 4,
  "nbformat_minor": 0,
  "metadata": {
    "colab": {
      "provenance": [],
      "authorship_tag": "ABX9TyPjltAW9n3QpjxI5e7H6p8F",
      "include_colab_link": true
    },
    "kernelspec": {
      "name": "python3",
      "display_name": "Python 3"
    },
    "language_info": {
      "name": "python"
    }
  },
  "cells": [
    {
      "cell_type": "markdown",
      "metadata": {
        "id": "view-in-github",
        "colab_type": "text"
      },
      "source": [
        "<a href=\"https://colab.research.google.com/github/lastinm/ml_hw_notebooks/blob/main/%D0%A5%D1%80%D0%B0%D0%BD%D0%B5%D0%BD%D0%B8%D0%B5%2C_%D0%B8%D0%B7%D0%B2%D0%BB%D0%B5%D1%87%D0%B5%D0%BD%D0%B8%D0%B5_%D0%B8_%D0%BE%D0%B1%D1%80%D0%B0%D0%B1%D0%BE%D1%82%D0%BA%D0%B0_%D0%B1%D0%BE%D0%BB%D1%8C%D1%88%D0%B8%D1%85_%D0%B4%D0%B0%D0%BD%D0%BD%D1%8B%D1%85_%D0%9B%D0%B0%D0%B1%D0%BE%D1%80%D0%B0%D1%82%D0%BE%D1%80%D0%BD%D0%B0%D1%8F_%D1%80%D0%B0%D0%B1%D0%BE%D1%82%D0%B0_%E2%84%966.ipynb\" target=\"_parent\"><img src=\"https://colab.research.google.com/assets/colab-badge.svg\" alt=\"Open In Colab\"/></a>"
      ]
    },
    {
      "cell_type": "markdown",
      "source": [
        "# Блок 1. Исходные данные"
      ],
      "metadata": {
        "id": "qIEPMDx4NKc9"
      }
    },
    {
      "cell_type": "markdown",
      "source": [
        "## 1. Найти (сгенерировать) набор данных, подходящий для выполнения всех заданий."
      ],
      "metadata": {
        "id": "RBQQCYkNNPeU"
      }
    },
    {
      "cell_type": "code",
      "execution_count": 1,
      "metadata": {
        "id": "EqqjsRRDL2OV"
      },
      "outputs": [],
      "source": [
        "# импорт необходимых библиотек\n",
        "from pyspark.sql import SparkSession\n",
        "from pyspark.sql import functions as F\n",
        "import pandas as pd"
      ]
    },
    {
      "cell_type": "code",
      "source": [
        "# Создаем Spark-сессию\n",
        "spark = SparkSession.builder \\\n",
        "    .appName(\"Iris Dataset Analysis\") \\\n",
        "    .getOrCreate()"
      ],
      "metadata": {
        "id": "S06wk1r2P95c"
      },
      "execution_count": 2,
      "outputs": []
    },
    {
      "cell_type": "markdown",
      "source": [
        "## 2. Считать данные в датафрейм"
      ],
      "metadata": {
        "id": "MttZk4MMQbzA"
      }
    },
    {
      "cell_type": "code",
      "source": [
        "# Загрузка набора данных Titanic\n",
        "# Если нет файла, то скачиваем его с GitHub по ссылке\n",
        "import os\n",
        "\n",
        "if not os.path.exists(\"/content/titanic.csv\"):\n",
        "  !wget https://raw.githubusercontent.com/datasciencedojo/datasets/master/titanic.csv"
      ],
      "metadata": {
        "id": "gO09PfFfX0j5"
      },
      "execution_count": 3,
      "outputs": []
    },
    {
      "cell_type": "code",
      "source": [
        "titanic_df = spark.read.csv(\"/content/titanic.csv\", header=True, inferSchema=True)\n",
        "\n",
        "# Показать первые 5 строк\n",
        "titanic_df.show(5)"
      ],
      "metadata": {
        "colab": {
          "base_uri": "https://localhost:8080/"
        },
        "id": "ueZXWJHHV5oI",
        "outputId": "9adf960c-e413-40b5-a155-d21e88ac5225"
      },
      "execution_count": 4,
      "outputs": [
        {
          "output_type": "stream",
          "name": "stdout",
          "text": [
            "+-----------+--------+------+--------------------+------+----+-----+-----+----------------+-------+-----+--------+\n",
            "|PassengerId|Survived|Pclass|                Name|   Sex| Age|SibSp|Parch|          Ticket|   Fare|Cabin|Embarked|\n",
            "+-----------+--------+------+--------------------+------+----+-----+-----+----------------+-------+-----+--------+\n",
            "|          1|       0|     3|Braund, Mr. Owen ...|  male|22.0|    1|    0|       A/5 21171|   7.25| NULL|       S|\n",
            "|          2|       1|     1|Cumings, Mrs. Joh...|female|38.0|    1|    0|        PC 17599|71.2833|  C85|       C|\n",
            "|          3|       1|     3|Heikkinen, Miss. ...|female|26.0|    0|    0|STON/O2. 3101282|  7.925| NULL|       S|\n",
            "|          4|       1|     1|Futrelle, Mrs. Ja...|female|35.0|    1|    0|          113803|   53.1| C123|       S|\n",
            "|          5|       0|     3|Allen, Mr. Willia...|  male|35.0|    0|    0|          373450|   8.05| NULL|       S|\n",
            "+-----------+--------+------+--------------------+------+----+-----+-----+----------------+-------+-----+--------+\n",
            "only showing top 5 rows\n",
            "\n"
          ]
        }
      ]
    },
    {
      "cell_type": "markdown",
      "source": [
        "## 3. Проверить типы, выполнить преобразования типов, если это требуется."
      ],
      "metadata": {
        "id": "tRhrZQbGQm_5"
      }
    },
    {
      "cell_type": "code",
      "source": [
        "# Проверка типов данных\n",
        "titanic_df.printSchema()"
      ],
      "metadata": {
        "colab": {
          "base_uri": "https://localhost:8080/"
        },
        "id": "2hm8n69LQ2Rb",
        "outputId": "dcdf393e-8508-46d8-ce2a-d6ea26a6446c"
      },
      "execution_count": 5,
      "outputs": [
        {
          "output_type": "stream",
          "name": "stdout",
          "text": [
            "root\n",
            " |-- PassengerId: integer (nullable = true)\n",
            " |-- Survived: integer (nullable = true)\n",
            " |-- Pclass: integer (nullable = true)\n",
            " |-- Name: string (nullable = true)\n",
            " |-- Sex: string (nullable = true)\n",
            " |-- Age: double (nullable = true)\n",
            " |-- SibSp: integer (nullable = true)\n",
            " |-- Parch: integer (nullable = true)\n",
            " |-- Ticket: string (nullable = true)\n",
            " |-- Fare: double (nullable = true)\n",
            " |-- Cabin: string (nullable = true)\n",
            " |-- Embarked: string (nullable = true)\n",
            "\n"
          ]
        }
      ]
    },
    {
      "cell_type": "code",
      "source": [
        "# Кодирование категориальных признаков. Преобразование текстовых данных в числовые:\n",
        "from pyspark.ml.feature import StringIndexer\n",
        "\n",
        "# Кодирование столбца 'Sex'\n",
        "sex_indexer = StringIndexer(inputCol=\"Sex\", outputCol=\"Sex_Index\")\n",
        "titanic_df = sex_indexer.fit(titanic_df).transform(titanic_df)"
      ],
      "metadata": {
        "id": "RA8NcxaBZiFA"
      },
      "execution_count": 6,
      "outputs": []
    },
    {
      "cell_type": "markdown",
      "source": [
        "## 4. Провести предварительную обработку (все пункты должны быть выполнены):"
      ],
      "metadata": {
        "id": "Xo4x11vBUSYL"
      }
    },
    {
      "cell_type": "markdown",
      "source": [
        "* Правило для одной колонки: расчет и замена средним по колонке."
      ],
      "metadata": {
        "id": "zilTNLsMbN7e"
      }
    },
    {
      "cell_type": "code",
      "source": [
        "# Подсчет количества пропущенных значений в колонке 'Age'\n",
        "missing_age_count = titanic_df.filter(titanic_df.Age.isNull()).count()\n",
        "\n",
        "# Общее количество строк\n",
        "total_count = titanic_df.count()\n",
        "print(f\"Общее количество строк: {total_count}\")\n",
        "\n",
        "# Вывод количества пропущенных значений\n",
        "print(f\"Количество пропущенных значений в колонке 'Age': {missing_age_count}\")"
      ],
      "metadata": {
        "colab": {
          "base_uri": "https://localhost:8080/"
        },
        "id": "FMKBYCRmbPhG",
        "outputId": "eca58e24-e6ec-426b-a4b9-605648bcf82e"
      },
      "execution_count": 7,
      "outputs": [
        {
          "output_type": "stream",
          "name": "stdout",
          "text": [
            "Общее количество строк: 891\n",
            "Количество пропущенных значений в колонке 'Age': 177\n"
          ]
        }
      ]
    },
    {
      "cell_type": "code",
      "source": [
        "# Шаг 1: Рассчитать среднее значение 'Age'\n",
        "mean_age = titanic_df.select(F.mean(F.col(\"Age\"))).first()[0]\n",
        "\n",
        "# Шаг 2: Заменить пропущенные значения на среднее\n",
        "titanic_df = titanic_df.na.fill({\"Age\": mean_age})\n",
        "\n",
        "# Теперь можно посмотреть обновленные данные\n",
        "titanic_df.show()"
      ],
      "metadata": {
        "colab": {
          "base_uri": "https://localhost:8080/"
        },
        "id": "XLZrUHeJcpuD",
        "outputId": "8df4f91b-dc26-420f-f31a-100f1738b164"
      },
      "execution_count": 8,
      "outputs": [
        {
          "output_type": "stream",
          "name": "stdout",
          "text": [
            "+-----------+--------+------+--------------------+------+-----------------+-----+-----+----------------+-------+-----+--------+---------+\n",
            "|PassengerId|Survived|Pclass|                Name|   Sex|              Age|SibSp|Parch|          Ticket|   Fare|Cabin|Embarked|Sex_Index|\n",
            "+-----------+--------+------+--------------------+------+-----------------+-----+-----+----------------+-------+-----+--------+---------+\n",
            "|          1|       0|     3|Braund, Mr. Owen ...|  male|             22.0|    1|    0|       A/5 21171|   7.25| NULL|       S|      0.0|\n",
            "|          2|       1|     1|Cumings, Mrs. Joh...|female|             38.0|    1|    0|        PC 17599|71.2833|  C85|       C|      1.0|\n",
            "|          3|       1|     3|Heikkinen, Miss. ...|female|             26.0|    0|    0|STON/O2. 3101282|  7.925| NULL|       S|      1.0|\n",
            "|          4|       1|     1|Futrelle, Mrs. Ja...|female|             35.0|    1|    0|          113803|   53.1| C123|       S|      1.0|\n",
            "|          5|       0|     3|Allen, Mr. Willia...|  male|             35.0|    0|    0|          373450|   8.05| NULL|       S|      0.0|\n",
            "|          6|       0|     3|    Moran, Mr. James|  male|29.69911764705882|    0|    0|          330877| 8.4583| NULL|       Q|      0.0|\n",
            "|          7|       0|     1|McCarthy, Mr. Tim...|  male|             54.0|    0|    0|           17463|51.8625|  E46|       S|      0.0|\n",
            "|          8|       0|     3|Palsson, Master. ...|  male|              2.0|    3|    1|          349909| 21.075| NULL|       S|      0.0|\n",
            "|          9|       1|     3|Johnson, Mrs. Osc...|female|             27.0|    0|    2|          347742|11.1333| NULL|       S|      1.0|\n",
            "|         10|       1|     2|Nasser, Mrs. Nich...|female|             14.0|    1|    0|          237736|30.0708| NULL|       C|      1.0|\n",
            "|         11|       1|     3|Sandstrom, Miss. ...|female|              4.0|    1|    1|         PP 9549|   16.7|   G6|       S|      1.0|\n",
            "|         12|       1|     1|Bonnell, Miss. El...|female|             58.0|    0|    0|          113783|  26.55| C103|       S|      1.0|\n",
            "|         13|       0|     3|Saundercock, Mr. ...|  male|             20.0|    0|    0|       A/5. 2151|   8.05| NULL|       S|      0.0|\n",
            "|         14|       0|     3|Andersson, Mr. An...|  male|             39.0|    1|    5|          347082| 31.275| NULL|       S|      0.0|\n",
            "|         15|       0|     3|Vestrom, Miss. Hu...|female|             14.0|    0|    0|          350406| 7.8542| NULL|       S|      1.0|\n",
            "|         16|       1|     2|Hewlett, Mrs. (Ma...|female|             55.0|    0|    0|          248706|   16.0| NULL|       S|      1.0|\n",
            "|         17|       0|     3|Rice, Master. Eugene|  male|              2.0|    4|    1|          382652| 29.125| NULL|       Q|      0.0|\n",
            "|         18|       1|     2|Williams, Mr. Cha...|  male|29.69911764705882|    0|    0|          244373|   13.0| NULL|       S|      0.0|\n",
            "|         19|       0|     3|Vander Planke, Mr...|female|             31.0|    1|    0|          345763|   18.0| NULL|       S|      1.0|\n",
            "|         20|       1|     3|Masselmani, Mrs. ...|female|29.69911764705882|    0|    0|            2649|  7.225| NULL|       C|      1.0|\n",
            "+-----------+--------+------+--------------------+------+-----------------+-----+-----+----------------+-------+-----+--------+---------+\n",
            "only showing top 20 rows\n",
            "\n"
          ]
        }
      ]
    },
    {
      "cell_type": "markdown",
      "source": [
        "* Правило для другой колонки: удалить колонку с отсутствующими значениями."
      ],
      "metadata": {
        "id": "ybBR378SdpJ7"
      }
    },
    {
      "cell_type": "code",
      "source": [
        "# Подсчет количества пропущенных значений в колонке 'Age'\n",
        "missing_age_count = titanic_df.filter(titanic_df.Cabin.isNull()).count()\n",
        "missing_age_count"
      ],
      "metadata": {
        "colab": {
          "base_uri": "https://localhost:8080/"
        },
        "id": "Z88jAQiVdoUz",
        "outputId": "f7bdb05a-ff3b-4db4-fce7-4bcd8f5cb8f2"
      },
      "execution_count": 9,
      "outputs": [
        {
          "output_type": "execute_result",
          "data": {
            "text/plain": [
              "687"
            ]
          },
          "metadata": {},
          "execution_count": 9
        }
      ]
    },
    {
      "cell_type": "code",
      "source": [
        "# Удалим полность колонку Cabin, т.к. в ней многие значения в ней отсутствуют,\n",
        "# и она содержит много уникальных значений.\n",
        "titanic_df = titanic_df.drop(\"Cabin\")\n",
        "titanic_df.show(5)"
      ],
      "metadata": {
        "colab": {
          "base_uri": "https://localhost:8080/"
        },
        "id": "w9u-LEOveyZV",
        "outputId": "fd316dbe-5a43-4e91-fab4-15d8f079f68e"
      },
      "execution_count": 10,
      "outputs": [
        {
          "output_type": "stream",
          "name": "stdout",
          "text": [
            "+-----------+--------+------+--------------------+------+----+-----+-----+----------------+-------+--------+---------+\n",
            "|PassengerId|Survived|Pclass|                Name|   Sex| Age|SibSp|Parch|          Ticket|   Fare|Embarked|Sex_Index|\n",
            "+-----------+--------+------+--------------------+------+----+-----+-----+----------------+-------+--------+---------+\n",
            "|          1|       0|     3|Braund, Mr. Owen ...|  male|22.0|    1|    0|       A/5 21171|   7.25|       S|      0.0|\n",
            "|          2|       1|     1|Cumings, Mrs. Joh...|female|38.0|    1|    0|        PC 17599|71.2833|       C|      1.0|\n",
            "|          3|       1|     3|Heikkinen, Miss. ...|female|26.0|    0|    0|STON/O2. 3101282|  7.925|       S|      1.0|\n",
            "|          4|       1|     1|Futrelle, Mrs. Ja...|female|35.0|    1|    0|          113803|   53.1|       S|      1.0|\n",
            "|          5|       0|     3|Allen, Mr. Willia...|  male|35.0|    0|    0|          373450|   8.05|       S|      0.0|\n",
            "+-----------+--------+------+--------------------+------+----+-----+-----+----------------+-------+--------+---------+\n",
            "only showing top 5 rows\n",
            "\n"
          ]
        }
      ]
    },
    {
      "cell_type": "markdown",
      "source": [
        "* Правило для другой колонки: удалить строки с отсутствующими значениями."
      ],
      "metadata": {
        "id": "J8nSps-WfS-y"
      }
    },
    {
      "cell_type": "code",
      "source": [
        "# Подсчет количества пропущенных значений в колонке 'Embarked'\n",
        "missing_age_count = titanic_df.filter(titanic_df.Embarked.isNull()).count()\n",
        "missing_age_count"
      ],
      "metadata": {
        "colab": {
          "base_uri": "https://localhost:8080/"
        },
        "id": "0yHv39X8gNwa",
        "outputId": "074712b8-53a9-4d59-8f11-ef12fe266571"
      },
      "execution_count": 11,
      "outputs": [
        {
          "output_type": "execute_result",
          "data": {
            "text/plain": [
              "2"
            ]
          },
          "metadata": {},
          "execution_count": 11
        }
      ]
    },
    {
      "cell_type": "code",
      "source": [
        "# Удаление строк с пропусками\n",
        "titanic_df = titanic_df.filter(titanic_df.Embarked.isNotNull())"
      ],
      "metadata": {
        "id": "9xUMQ-MyhIYy"
      },
      "execution_count": 12,
      "outputs": []
    },
    {
      "cell_type": "code",
      "source": [
        "# Кодирование столбца 'Embarked'\n",
        "embarked_indexer = StringIndexer(inputCol=\"Embarked\", outputCol=\"Embarked_Index\")\n",
        "titanic_df = embarked_indexer.fit(titanic_df).transform(titanic_df)"
      ],
      "metadata": {
        "id": "Y5ClTW-hg0Lf"
      },
      "execution_count": 13,
      "outputs": []
    },
    {
      "cell_type": "markdown",
      "source": [
        "* Удалить дубликаты строк."
      ],
      "metadata": {
        "id": "UQLuOMus7sFf"
      }
    },
    {
      "cell_type": "code",
      "source": [
        "# Общее количество строк\n",
        "print(f\"Общее количество строк до удаления дубликатов: {titanic_df.count()}\")\n",
        "\n",
        "titanic_df = titanic_df.dropDuplicates()\n",
        "\n",
        "# Количество строк после удаления дубликатов\n",
        "print(f\"Количество строк после удаления дубликатов: {titanic_df.count()}\")"
      ],
      "metadata": {
        "colab": {
          "base_uri": "https://localhost:8080/"
        },
        "id": "pyz40gBO8hF2",
        "outputId": "48c8846b-9096-4e9a-feb4-0fcec83c4167"
      },
      "execution_count": 14,
      "outputs": [
        {
          "output_type": "stream",
          "name": "stdout",
          "text": [
            "Общее количество строк до удаления дубликатов: 889\n",
            "Количество строк после удаления дубликатов: 889\n"
          ]
        }
      ]
    },
    {
      "cell_type": "markdown",
      "source": [
        "# Блок 2. Базовые запросы"
      ],
      "metadata": {
        "id": "GS2eQAnj91VK"
      }
    },
    {
      "cell_type": "markdown",
      "source": [
        "1. Выполнить фильтрацию по данным."
      ],
      "metadata": {
        "id": "pbOUsuqO94yi"
      }
    },
    {
      "cell_type": "code",
      "source": [
        "# К примеру, оберем всех пассажиров женского пола моложе 18 лет.\n",
        "titanic_df.filter(\"Age < 18 and Sex_Index = 1\").show(5)"
      ],
      "metadata": {
        "colab": {
          "base_uri": "https://localhost:8080/"
        },
        "id": "8nJcPl2890mK",
        "outputId": "865a17b1-c410-4aa8-bbbb-686ea3f1966d"
      },
      "execution_count": 15,
      "outputs": [
        {
          "output_type": "stream",
          "name": "stdout",
          "text": [
            "+-----------+--------+------+--------------------+------+----+-----+-----+----------+------+--------+---------+--------------+\n",
            "|PassengerId|Survived|Pclass|                Name|   Sex| Age|SibSp|Parch|    Ticket|  Fare|Embarked|Sex_Index|Embarked_Index|\n",
            "+-----------+--------+------+--------------------+------+----+-----+-----+----------+------+--------+---------+--------------+\n",
            "|        308|       1|     1|Penasco y Castell...|female|17.0|    1|    0|  PC 17758| 108.9|       C|      1.0|           1.0|\n",
            "|        542|       0|     3|Andersson, Miss. ...|female| 9.0|    4|    2|    347082|31.275|       S|      1.0|           0.0|\n",
            "|         85|       1|     2| Ilett, Miss. Bertha|female|17.0|    0|    0|SO/C 14885|  10.5|       S|      1.0|           0.0|\n",
            "|        778|       1|     3|Emanuel, Miss. Vi...|female| 5.0|    0|    0|    364516|12.475|       S|      1.0|           0.0|\n",
            "|         11|       1|     3|Sandstrom, Miss. ...|female| 4.0|    1|    1|   PP 9549|  16.7|       S|      1.0|           0.0|\n",
            "+-----------+--------+------+--------------------+------+----+-----+-----+----------+------+--------+---------+--------------+\n",
            "only showing top 5 rows\n",
            "\n"
          ]
        }
      ]
    },
    {
      "cell_type": "markdown",
      "source": [
        "2. Выполнить 2-3 группировки данных, с расчетом агрегированных значений (среднее, максимум, минимум)."
      ],
      "metadata": {
        "id": "KoesWdkX989i"
      }
    },
    {
      "cell_type": "code",
      "source": [
        "# Пример 1: Группировка по полу с расчетом средней, максимальной и минимальной стоимости билета\n",
        "gender_agg = titanic_df.groupBy(\"Sex_Index\") \\\n",
        "    .agg(\n",
        "        F.avg(\"Fare\").alias(\"Average_Fare\"),\n",
        "        F.max(\"Fare\").alias(\"Max_Fare\"),\n",
        "        F.min(\"Fare\").alias(\"Min_Fare\")\n",
        "    )\n",
        "print(\"Агрегация по полу:\")\n",
        "gender_agg.show()"
      ],
      "metadata": {
        "colab": {
          "base_uri": "https://localhost:8080/"
        },
        "id": "oogC3EA5-Q7l",
        "outputId": "7dc627b4-be82-46fc-e877-a427e32cbcb1"
      },
      "execution_count": 16,
      "outputs": [
        {
          "output_type": "stream",
          "name": "stdout",
          "text": [
            "Агрегация по полу:\n",
            "+---------+------------------+--------+--------+\n",
            "|Sex_Index|      Average_Fare|Max_Fare|Min_Fare|\n",
            "+---------+------------------+--------+--------+\n",
            "|      0.0|25.523893414211404|512.3292|     0.0|\n",
            "|      1.0| 44.25212435897435|512.3292|    6.75|\n",
            "+---------+------------------+--------+--------+\n",
            "\n"
          ]
        }
      ]
    },
    {
      "cell_type": "code",
      "source": [
        "# Пример 2: Группировка по классу пассажиров с расчетом средней, максимальной и минимальной стоимости билета\n",
        "class_agg = titanic_df.groupBy(\"Pclass\") \\\n",
        "    .agg(\n",
        "        F.avg(\"Age\").alias(\"Average_Age\"),\n",
        "        F.max(\"Age\").alias(\"Max_Age\"),\n",
        "        F.min(\"Age\").alias(\"Min_Age\")\n",
        "    )\n",
        "print(\"Агрегация по классу пассажиров:\")\n",
        "class_agg.show()"
      ],
      "metadata": {
        "colab": {
          "base_uri": "https://localhost:8080/"
        },
        "id": "z0W0PXf7_j2R",
        "outputId": "175e02bc-edd1-4530-bb4a-4e01e1da969d"
      },
      "execution_count": 17,
      "outputs": [
        {
          "output_type": "stream",
          "name": "stdout",
          "text": [
            "Агрегация по классу пассажиров:\n",
            "+------+------------------+-------+-------+\n",
            "|Pclass|       Average_Age|Max_Age|Min_Age|\n",
            "+------+------------------+-------+-------+\n",
            "|     1| 36.92707256734471|   80.0|   0.92|\n",
            "|     3|26.403258655804446|   74.0|   0.42|\n",
            "|     2|29.866958120204607|   70.0|   0.67|\n",
            "+------+------------------+-------+-------+\n",
            "\n"
          ]
        }
      ]
    },
    {
      "cell_type": "code",
      "source": [
        "# Пример 3: Группировка по классу и полу с расчетом средней стоимости билета\n",
        "gender_class_agg = titanic_df.groupBy(\"Pclass\", \"Sex\") \\\n",
        "    .agg(\n",
        "        F.avg(\"Fare\").alias(\"Average_Fare\"),\n",
        "        F.count(\"PassengerId\").alias(\"Count\")\n",
        "    ) \\\n",
        "    .orderBy(\"Pclass\", \"Count\")  # Сортировка по классу и количеству пассажиров\n",
        "\n",
        "print(\"Агрегация по полу и классу пассажиров:\")\n",
        "gender_class_agg.show()"
      ],
      "metadata": {
        "colab": {
          "base_uri": "https://localhost:8080/"
        },
        "id": "OxnbYzQj_4G7",
        "outputId": "49d518e1-fa8c-49b1-db17-e1b815168c8e"
      },
      "execution_count": 18,
      "outputs": [
        {
          "output_type": "stream",
          "name": "stdout",
          "text": [
            "Агрегация по полу и классу пассажиров:\n",
            "+------+------+------------------+-----+\n",
            "|Pclass|   Sex|      Average_Fare|Count|\n",
            "+------+------+------------------+-----+\n",
            "|     1|female|106.69374999999997|   92|\n",
            "|     1|  male| 67.22612704918032|  122|\n",
            "|     2|female|21.970121052631576|   76|\n",
            "|     2|  male| 19.74178240740741|  108|\n",
            "|     3|female|16.118809722222224|  144|\n",
            "|     3|  male| 12.66163256484151|  347|\n",
            "+------+------+------------------+-----+\n",
            "\n"
          ]
        }
      ]
    },
    {
      "cell_type": "markdown",
      "source": [
        "# Блок 3. Анализ числовых данных"
      ],
      "metadata": {
        "id": "b0qfDY5TBFvG"
      }
    },
    {
      "cell_type": "markdown",
      "source": [
        "1. Рассчитать числовые характеристики, включая асимметрию и эксцесс для числовых колонок."
      ],
      "metadata": {
        "id": "cJssZAtfBqs7"
      }
    },
    {
      "cell_type": "code",
      "source": [
        "# Выбор числовых столбцов для анализа\n",
        "numeric_columns = [\"Age\", \"Fare\"]  # Пример числовых колонок\n",
        "\n",
        "# Вычисление асимметрии и эксцесса для числовых колонок\n",
        "numerical_stats = titanic_df.select(\n",
        "    [F.skewness(col).alias(f\"{col}_skewness\") for col in numeric_columns] +\n",
        "    [F.kurtosis(col).alias(f\"{col}_kurtosis\") for col in numeric_columns]\n",
        ")\n",
        "\n",
        "# Вывод результатов\n",
        "print(\"Числовые характеристики (асимметрия и эксцесс):\")\n",
        "numerical_stats.show()"
      ],
      "metadata": {
        "colab": {
          "base_uri": "https://localhost:8080/"
        },
        "id": "SKywUiqkBoQD",
        "outputId": "76e096bf-74df-4307-e28a-3b4a5b401898"
      },
      "execution_count": 19,
      "outputs": [
        {
          "output_type": "stream",
          "name": "stdout",
          "text": [
            "Числовые характеристики (асимметрия и эксцесс):\n",
            "+------------------+-----------------+------------------+-----------------+\n",
            "|      Age_skewness|    Fare_skewness|      Age_kurtosis|    Fare_kurtosis|\n",
            "+------------------+-----------------+------------------+-----------------+\n",
            "|0.4309914863386597|4.793334993307852|0.9667674130563486|33.31357062160459|\n",
            "+------------------+-----------------+------------------+-----------------+\n",
            "\n"
          ]
        }
      ]
    },
    {
      "cell_type": "markdown",
      "source": [
        "2. Посчитайте матрицу корреляции для числовых признаков."
      ],
      "metadata": {
        "id": "MW0nFFQjEB0n"
      }
    },
    {
      "cell_type": "code",
      "source": [
        "# Выбор только нужных столбцов\n",
        "titanic_selected_df = titanic_df.select(\"Age\", \"Fare\")\n",
        "\n",
        "# Вычисление коэффициента корреляции\n",
        "age_fare_corr = titanic_selected_df.stat.corr(\"Age\", \"Fare\")\n",
        "print(f\"Коэффициент корреляции между 'Age' и 'Fare': {age_fare_corr}\")"
      ],
      "metadata": {
        "colab": {
          "base_uri": "https://localhost:8080/"
        },
        "id": "ex__1zrKEN3x",
        "outputId": "c89b41e3-9b6e-4c2a-bb9b-5c54da35330d"
      },
      "execution_count": 20,
      "outputs": [
        {
          "output_type": "stream",
          "name": "stdout",
          "text": [
            "Коэффициент корреляции между 'Age' и 'Fare': 0.08860447322905159\n"
          ]
        }
      ]
    },
    {
      "cell_type": "markdown",
      "source": [
        "3. Постройте визуализацию полученных расчетов."
      ],
      "metadata": {
        "id": "DFKLMIJ9FvG2"
      }
    },
    {
      "cell_type": "code",
      "source": [
        "import matplotlib.pyplot as plt\n",
        "import seaborn as sns\n",
        "\n",
        "# Переводим DataFrame PySpark в DataFrame Pandas\n",
        "titanic_df_pandas = titanic_df.toPandas()\n",
        "\n",
        "# Настройка стиля графика\n",
        "sns.set(style=\"whitegrid\")\n",
        "\n",
        "# Создание рассеянного графика\n",
        "plt.figure(figsize=(10, 6))\n",
        "sns.scatterplot(data=titanic_df_pandas, x=\"Age\", y=\"Fare\")\n",
        "\n",
        "# Добавление линии регрессии\n",
        "sns.regplot(data=titanic_df_pandas, x=\"Age\", y=\"Fare\", scatter=False, color='red')\n",
        "\n",
        "# Настройка заголовка и меток осей\n",
        "plt.title(\"Взаимосвязь между 'Age' и 'Fare'\", fontsize=16)\n",
        "plt.xlabel(\"Возраст\", fontsize=14)\n",
        "plt.ylabel(\"Стоимость билета\", fontsize=14)\n",
        "\n",
        "# Показ графика\n",
        "plt.show()"
      ],
      "metadata": {
        "colab": {
          "base_uri": "https://localhost:8080/",
          "height": 576
        },
        "id": "BiNXFUadFtW-",
        "outputId": "233766a3-fccb-4735-a4cd-bff92c9d0dce"
      },
      "execution_count": 21,
      "outputs": [
        {
          "output_type": "display_data",
          "data": {
            "text/plain": [
              "<Figure size 1000x600 with 1 Axes>"
            ],
            "image/png": "[encoded data removed]"
          },
          "metadata": {}
        }
      ]
    },
    {
      "cell_type": "markdown",
      "source": [
        "# Блок 4. Анализ категориальных данных"
      ],
      "metadata": {
        "id": "n7n3fQyCGkAV"
      }
    },
    {
      "cell_type": "markdown",
      "source": [
        "1. Рассчитайте стандартные характеристики для категориальных колонок (частота, процент от общего числа)."
      ],
      "metadata": {
        "id": "4nG38fuUGrWG"
      }
    },
    {
      "cell_type": "code",
      "source": [
        "# Подсчет частоты для колонки 'Embarked'\n",
        "embarked_counts = titanic_df.groupBy(\"Embarked\").agg(\n",
        "    F.count(\"Embarked\").alias(\"Frequency\")\n",
        ")\n",
        "\n",
        "# Подсчет доли от общего числа для 'Embarked'\n",
        "total_count = titanic_df.count()\n",
        "embarked_percent = embarked_counts.withColumn(\"Percentage\", (F.col(\"Frequency\") / total_count) * 100)\n",
        "\n",
        "# Отображение результатов для 'Embarked'\n",
        "embarked_percent.show()\n",
        "\n",
        "# Подсчет частоты для колонки 'Sex'\n",
        "sex_counts = titanic_df.groupBy(\"Sex\").agg(\n",
        "    F.count(\"Sex\").alias(\"Frequency\")\n",
        ")\n",
        "\n",
        "# Подсчет доли от общего числа для 'Sex'\n",
        "sex_percent = sex_counts.withColumn(\"Percentage\", (F.col(\"Frequency\") / total_count) * 100)\n",
        "\n",
        "# Отображение результатов для 'Sex'\n",
        "sex_percent.show()"
      ],
      "metadata": {
        "colab": {
          "base_uri": "https://localhost:8080/"
        },
        "id": "-SWvRJqqGub-",
        "outputId": "d0c07d3f-3c59-46db-8dbf-9c8ef12dc2b0"
      },
      "execution_count": 22,
      "outputs": [
        {
          "output_type": "stream",
          "name": "stdout",
          "text": [
            "+--------+---------+-----------------+\n",
            "|Embarked|Frequency|       Percentage|\n",
            "+--------+---------+-----------------+\n",
            "|       Q|       77|8.661417322834646|\n",
            "|       C|      168|18.89763779527559|\n",
            "|       S|      644|72.44094488188976|\n",
            "+--------+---------+-----------------+\n",
            "\n",
            "+------+---------+-----------------+\n",
            "|   Sex|Frequency|       Percentage|\n",
            "+------+---------+-----------------+\n",
            "|female|      312|35.09561304836895|\n",
            "|  male|      577|64.90438695163104|\n",
            "+------+---------+-----------------+\n",
            "\n"
          ]
        }
      ]
    },
    {
      "cell_type": "markdown",
      "source": [
        "2. Постройте визуализацию полученных расчетов."
      ],
      "metadata": {
        "id": "Va8B0fYTIZ4V"
      }
    },
    {
      "cell_type": "code",
      "source": [
        "# Преобразование результатов в Pandas DataFrame\n",
        "embarked_df = embarked_percent.toPandas()\n",
        "sex_df = sex_percent.toPandas()\n",
        "\n",
        "# Визуализация для 'Embarked'\n",
        "plt.figure(figsize=(10, 5))\n",
        "sns.barplot(data=embarked_df, x='Embarked', y='Frequency', hue='Embarked', palette='viridis', legend=False)\n",
        "plt.title('Frequency of Passengers by Embarked Port')\n",
        "plt.xlabel('Embarked Port')\n",
        "plt.ylabel('Frequency')\n",
        "plt.xticks(rotation=45)\n",
        "plt.show()\n",
        "\n",
        "# Визуализация для 'Sex_Index'\n",
        "plt.figure(figsize=(10, 5))\n",
        "sns.barplot(data=sex_df, x='Sex', y='Frequency', hue='Sex', palette='magma', legend=False)\n",
        "plt.title('Frequency of Passengers by Sex')\n",
        "plt.xlabel('Sex')\n",
        "plt.ylabel('Frequency')\n",
        "plt.xticks(rotation=45)\n",
        "plt.show()"
      ],
      "metadata": {
        "colab": {
          "base_uri": "https://localhost:8080/",
          "height": 1000
        },
        "id": "O5yNnU4lIbLm",
        "outputId": "86177814-b556-45cb-9fea-f8e21c64a2d1"
      },
      "execution_count": 23,
      "outputs": [
        {
          "output_type": "display_data",
          "data": {
            "text/plain": [
              "<Figure size 1000x500 with 1 Axes>"
            ],
            "image/png": "[encoded data removed]"
          },
          "metadata": {}
        },
        {
          "output_type": "display_data",
          "data": {
            "text/plain": [
              "<Figure size 1000x500 with 1 Axes>"
            ],
            "image/png": "[encoded data removed]"
          },
          "metadata": {}
        }
      ]
    },
    {
      "cell_type": "markdown",
      "source": [
        "# Блок 5. Применение ML"
      ],
      "metadata": {
        "id": "TMqv7AwxJXgm"
      }
    },
    {
      "cell_type": "code",
      "source": [
        "# VectorAssembler: Эта функция объединяет несколько колонок в одну, создавая вектор признаков,\n",
        "# что является обязательным шагом перед обучением модели.\n",
        "from pyspark.ml.feature import StringIndexer, VectorAssembler"
      ],
      "metadata": {
        "id": "h6dkY_PAKHI0"
      },
      "execution_count": 24,
      "outputs": []
    },
    {
      "cell_type": "code",
      "source": [
        "# Удаление оригинального столбца 'Sex'\n",
        "#titanic_df = titanic_df.drop(\"Sex\")\n",
        "\n",
        "# Теперь вы можете посмотреть результат\n",
        "#titanic_df.show(5)"
      ],
      "metadata": {
        "id": "xHDjRs0Easwy"
      },
      "execution_count": 25,
      "outputs": []
    },
    {
      "cell_type": "code",
      "source": [
        "# Шаг 4: Применение VectorAssembler для создания вектора признаков\n",
        "assembler = VectorAssembler(\n",
        "    inputCols=[\"Pclass\", \"Age\", \"SibSp\", \"Parch\", \"Fare\", \"Sex_Index\", \"Embarked_Index\"],\n",
        "    outputCol=\"features\"\n",
        ")\n",
        "\n",
        "final_df = assembler.transform(titanic_df)\n",
        "\n",
        "# Шаг 5: Показ результата\n",
        "final_df.select(\"PassengerId\", \"Survived\", \"features\").show(truncate=False)"
      ],
      "metadata": {
        "colab": {
          "base_uri": "https://localhost:8080/"
        },
        "id": "a1f09IudKDur",
        "outputId": "a4aadd41-0beb-4f22-8db1-68910236dc5a"
      },
      "execution_count": 26,
      "outputs": [
        {
          "output_type": "stream",
          "name": "stdout",
          "text": [
            "+-----------+--------+--------------------------------------------+\n",
            "|PassengerId|Survived|features                                    |\n",
            "+-----------+--------+--------------------------------------------+\n",
            "|31         |0       |[1.0,40.0,0.0,0.0,27.7208,0.0,1.0]          |\n",
            "|90         |0       |(7,[0,1,4],[3.0,24.0,8.05])                 |\n",
            "|294        |0       |[3.0,24.0,0.0,0.0,8.85,1.0,0.0]             |\n",
            "|594        |0       |[3.0,29.69911764705882,0.0,2.0,7.75,1.0,2.0]|\n",
            "|633        |1       |[1.0,32.0,0.0,0.0,30.5,0.0,1.0]             |\n",
            "|682        |1       |[1.0,27.0,0.0,0.0,76.7292,0.0,1.0]          |\n",
            "|704        |0       |[3.0,25.0,0.0,0.0,7.7417,0.0,2.0]           |\n",
            "|137        |1       |[1.0,19.0,0.0,2.0,26.2833,1.0,0.0]          |\n",
            "|142        |1       |[3.0,22.0,0.0,0.0,7.75,1.0,0.0]             |\n",
            "|159        |0       |(7,[0,1,4],[3.0,29.69911764705882,8.6625])  |\n",
            "|225        |1       |[1.0,38.0,1.0,0.0,90.0,0.0,0.0]             |\n",
            "|444        |1       |[2.0,28.0,0.0,0.0,13.0,1.0,0.0]             |\n",
            "|689        |0       |(7,[0,1,4],[3.0,18.0,7.7958])               |\n",
            "|308        |1       |[1.0,17.0,1.0,0.0,108.9,1.0,1.0]            |\n",
            "|338        |1       |[1.0,41.0,0.0,0.0,134.5,1.0,1.0]            |\n",
            "|509        |0       |(7,[0,1,4],[3.0,28.0,22.525])               |\n",
            "|542        |0       |[3.0,9.0,4.0,2.0,31.275,1.0,0.0]            |\n",
            "|84         |0       |(7,[0,1,4],[1.0,28.0,47.1])                 |\n",
            "|438        |1       |[2.0,24.0,2.0,3.0,18.75,1.0,0.0]            |\n",
            "|592        |1       |[1.0,52.0,1.0,0.0,78.2667,1.0,1.0]          |\n",
            "+-----------+--------+--------------------------------------------+\n",
            "only showing top 20 rows\n",
            "\n"
          ]
        }
      ]
    },
    {
      "cell_type": "code",
      "source": [
        "from pyspark.ml import Pipeline\n",
        "from pyspark.ml.feature import OneHotEncoder\n",
        "from pyspark.ml.classification import LogisticRegression\n",
        "from pyspark.ml.evaluation import BinaryClassificationEvaluator"
      ],
      "metadata": {
        "id": "TgfV5oo0LofZ"
      },
      "execution_count": 30,
      "outputs": []
    },
    {
      "cell_type": "code",
      "source": [
        "# Инициализация индексаторов и кодировщиков\n",
        "indexer_sex = StringIndexer(inputCol=\"Sex\", outputCol=\"SexIndex\")\n",
        "indexer_embarked = StringIndexer(inputCol=\"Embarked\", outputCol=\"EmbarkedIndex\")\n",
        "encoder_sex = OneHotEncoder(inputCols=[\"SexIndex\"], outputCols=[\"SexVec\"])\n",
        "encoder_embarked = OneHotEncoder(inputCols=[\"EmbarkedIndex\"], outputCols=[\"EmbarkedVec\"])\n",
        "\n",
        "# Сборка вектора признаков\n",
        "assembler = VectorAssembler(inputCols=[\"Pclass\", \"Age\", \"SibSp\", \"Parch\", \"Fare\", \"SexVec\", \"EmbarkedVec\"], outputCol=\"features\")\n",
        "\n",
        "# Логистическая регрессия\n",
        "lr = LogisticRegression(featuresCol=\"features\", labelCol=\"Survived\")\n",
        "\n",
        "# Создание пайплайна\n",
        "pipeline = Pipeline(stages=[indexer_sex, indexer_embarked, encoder_sex, encoder_embarked, assembler, lr])\n",
        "\n",
        "# Обучение модели\n",
        "model = pipeline.fit(titanic_df)\n",
        "\n",
        "# Оценка модели\n",
        "predictions = model.transform(titanic_df)\n",
        "evaluator = BinaryClassificationEvaluator(labelCol=\"Survived\")\n",
        "accuracy = evaluator.evaluate(predictions)\n",
        "print(f\"Accuracy: {accuracy}\")"
      ],
      "metadata": {
        "colab": {
          "base_uri": "https://localhost:8080/"
        },
        "id": "JlpbIAaZLpYJ",
        "outputId": "55e768b0-0dba-4d90-8150-f699e4ba3e88"
      },
      "execution_count": 31,
      "outputs": [
        {
          "output_type": "stream",
          "name": "stdout",
          "text": [
            "Accuracy: 0.8573047251687563\n"
          ]
        }
      ]
    },
    {
      "cell_type": "code",
      "source": [
        "# Остановка SparkSession\n",
        "spark.stop()"
      ],
      "metadata": {
        "id": "M8EJjsIC_1Yr"
      },
      "execution_count": 32,
      "outputs": []
    }
  ]
}