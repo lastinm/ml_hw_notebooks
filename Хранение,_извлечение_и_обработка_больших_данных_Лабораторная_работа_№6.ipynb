{
  "nbformat": 4,
  "nbformat_minor": 0,
  "metadata": {
    "colab": {
      "provenance": [],
      "authorship_tag": "ABX9TyNJH14pFbWNjQOfIKsCJ6gB",
      "include_colab_link": true
    },
    "kernelspec": {
      "name": "python3",
      "display_name": "Python 3"
    },
    "language_info": {
      "name": "python"
    }
  },
  "cells": [
    {
      "cell_type": "markdown",
      "metadata": {
        "id": "view-in-github",
        "colab_type": "text"
      },
      "source": [
        "<a href=\"https://colab.research.google.com/github/lastinm/ml_hw_notebooks/blob/main/%D0%A5%D1%80%D0%B0%D0%BD%D0%B5%D0%BD%D0%B8%D0%B5%2C_%D0%B8%D0%B7%D0%B2%D0%BB%D0%B5%D1%87%D0%B5%D0%BD%D0%B8%D0%B5_%D0%B8_%D0%BE%D0%B1%D1%80%D0%B0%D0%B1%D0%BE%D1%82%D0%BA%D0%B0_%D0%B1%D0%BE%D0%BB%D1%8C%D1%88%D0%B8%D1%85_%D0%B4%D0%B0%D0%BD%D0%BD%D1%8B%D1%85_%D0%9B%D0%B0%D0%B1%D0%BE%D1%80%D0%B0%D1%82%D0%BE%D1%80%D0%BD%D0%B0%D1%8F_%D1%80%D0%B0%D0%B1%D0%BE%D1%82%D0%B0_%E2%84%966.ipynb\" target=\"_parent\"><img src=\"https://colab.research.google.com/assets/colab-badge.svg\" alt=\"Open In Colab\"/></a>"
      ]
    },
    {
      "cell_type": "markdown",
      "source": [
        "# Блок 1. Исходные данные"
      ],
      "metadata": {
        "id": "qIEPMDx4NKc9"
      }
    },
    {
      "cell_type": "markdown",
      "source": [
        "## 1. Найти (сгенерировать) набор данных, подходящий для выполнения всех заданий."
      ],
      "metadata": {
        "id": "RBQQCYkNNPeU"
      }
    },
    {
      "cell_type": "code",
      "execution_count": 15,
      "metadata": {
        "id": "EqqjsRRDL2OV"
      },
      "outputs": [],
      "source": [
        "# импорт необходимых библиотек\n",
        "from pyspark.sql import SparkSession\n",
        "from pyspark.sql.functions import avg, max, min, count, col, mean\n",
        "import pandas as pd"
      ]
    },
    {
      "cell_type": "code",
      "source": [
        "# Создаем Spark-сессию\n",
        "spark = SparkSession.builder \\\n",
        "    .appName(\"Iris Dataset Analysis\") \\\n",
        "    .getOrCreate()"
      ],
      "metadata": {
        "id": "S06wk1r2P95c"
      },
      "execution_count": 2,
      "outputs": []
    },
    {
      "cell_type": "markdown",
      "source": [
        "## 2. Считать данные в датафрейм."
      ],
      "metadata": {
        "id": "MttZk4MMQbzA"
      }
    },
    {
      "cell_type": "code",
      "source": [
        "# Загрузка набора данных Titanic\n",
        "!wget https://raw.githubusercontent.com/datasciencedojo/datasets/master/titanic.csv"
      ],
      "metadata": {
        "colab": {
          "base_uri": "https://localhost:8080/"
        },
        "id": "gO09PfFfX0j5",
        "outputId": "7121c26e-b897-40fb-c0ff-170246ff2768"
      },
      "execution_count": 3,
      "outputs": [
        {
          "output_type": "stream",
          "name": "stdout",
          "text": [
            "--2025-01-07 10:59:21--  https://raw.githubusercontent.com/datasciencedojo/datasets/master/titanic.csv\n",
            "Resolving raw.githubusercontent.com (raw.githubusercontent.com)... 185.199.108.133, 185.199.109.133, 185.199.110.133, ...\n",
            "Connecting to raw.githubusercontent.com (raw.githubusercontent.com)|185.199.108.133|:443... connected.\n",
            "HTTP request sent, awaiting response... 200 OK\n",
            "Length: 60302 (59K) [text/plain]\n",
            "Saving to: ‘titanic.csv.1’\n",
            "\n",
            "\rtitanic.csv.1         0%[                    ]       0  --.-KB/s               \rtitanic.csv.1       100%[===================>]  58.89K  --.-KB/s    in 0.004s  \n",
            "\n",
            "2025-01-07 10:59:21 (12.9 MB/s) - ‘titanic.csv.1’ saved [60302/60302]\n",
            "\n"
          ]
        }
      ]
    },
    {
      "cell_type": "code",
      "source": [
        "titanic_df = spark.read.csv(\"/content/titanic.csv\", header=True, inferSchema=True)\n",
        "\n",
        "# Показать первые 5 строк\n",
        "titanic_df.show(5)"
      ],
      "metadata": {
        "colab": {
          "base_uri": "https://localhost:8080/"
        },
        "id": "ueZXWJHHV5oI",
        "outputId": "7ccceb95-4323-4d61-82f5-4d24a7e3c182"
      },
      "execution_count": 4,
      "outputs": [
        {
          "output_type": "stream",
          "name": "stdout",
          "text": [
            "+-----------+--------+------+--------------------+------+----+-----+-----+----------------+-------+-----+--------+\n",
            "|PassengerId|Survived|Pclass|                Name|   Sex| Age|SibSp|Parch|          Ticket|   Fare|Cabin|Embarked|\n",
            "+-----------+--------+------+--------------------+------+----+-----+-----+----------------+-------+-----+--------+\n",
            "|          1|       0|     3|Braund, Mr. Owen ...|  male|22.0|    1|    0|       A/5 21171|   7.25| NULL|       S|\n",
            "|          2|       1|     1|Cumings, Mrs. Joh...|female|38.0|    1|    0|        PC 17599|71.2833|  C85|       C|\n",
            "|          3|       1|     3|Heikkinen, Miss. ...|female|26.0|    0|    0|STON/O2. 3101282|  7.925| NULL|       S|\n",
            "|          4|       1|     1|Futrelle, Mrs. Ja...|female|35.0|    1|    0|          113803|   53.1| C123|       S|\n",
            "|          5|       0|     3|Allen, Mr. Willia...|  male|35.0|    0|    0|          373450|   8.05| NULL|       S|\n",
            "+-----------+--------+------+--------------------+------+----+-----+-----+----------------+-------+-----+--------+\n",
            "only showing top 5 rows\n",
            "\n"
          ]
        }
      ]
    },
    {
      "cell_type": "markdown",
      "source": [
        "## 3. Проверить типы, выполнить преобразования типов, если это требуется."
      ],
      "metadata": {
        "id": "tRhrZQbGQm_5"
      }
    },
    {
      "cell_type": "code",
      "source": [
        "# Проверка типов данных\n",
        "titanic_df.printSchema()"
      ],
      "metadata": {
        "colab": {
          "base_uri": "https://localhost:8080/"
        },
        "id": "2hm8n69LQ2Rb",
        "outputId": "6164b90f-5c3f-4db2-bf7a-c4f1762b46c3"
      },
      "execution_count": 5,
      "outputs": [
        {
          "output_type": "stream",
          "name": "stdout",
          "text": [
            "root\n",
            " |-- PassengerId: integer (nullable = true)\n",
            " |-- Survived: integer (nullable = true)\n",
            " |-- Pclass: integer (nullable = true)\n",
            " |-- Name: string (nullable = true)\n",
            " |-- Sex: string (nullable = true)\n",
            " |-- Age: double (nullable = true)\n",
            " |-- SibSp: integer (nullable = true)\n",
            " |-- Parch: integer (nullable = true)\n",
            " |-- Ticket: string (nullable = true)\n",
            " |-- Fare: double (nullable = true)\n",
            " |-- Cabin: string (nullable = true)\n",
            " |-- Embarked: string (nullable = true)\n",
            "\n"
          ]
        }
      ]
    },
    {
      "cell_type": "code",
      "source": [
        "# Кодирование категориальных признаков. Преобразование текстовых данных в числовые:\n",
        "from pyspark.ml.feature import StringIndexer\n",
        "\n",
        "# Кодирование столбца 'Sex'\n",
        "sex_indexer = StringIndexer(inputCol=\"Sex\", outputCol=\"Sex_Index\")\n",
        "titanic_df = sex_indexer.fit(titanic_df).transform(titanic_df)\n",
        "\n",
        "# Кодирование столбца 'Embarked'\n",
        "embarked_indexer = StringIndexer(inputCol=\"Embarked\", outputCol=\"Embarked_Index\")\n",
        "titanic_df = embarked_indexer.fit(titanic_df).transform(titanic_df)"
      ],
      "metadata": {
        "id": "RA8NcxaBZiFA"
      },
      "execution_count": 6,
      "outputs": []
    },
    {
      "cell_type": "code",
      "source": [
        "# Удаление оригинальных столбцов 'Sex' и 'Embarked'\n",
        "titanic_df = titanic_df.drop(\"Sex\", \"Embarked\")\n",
        "\n",
        "# Теперь вы можете посмотреть результат\n",
        "titanic_df.show(5)"
      ],
      "metadata": {
        "colab": {
          "base_uri": "https://localhost:8080/"
        },
        "id": "xHDjRs0Easwy",
        "outputId": "8e421732-abed-4b7c-b6ac-143d7812db27"
      },
      "execution_count": 8,
      "outputs": [
        {
          "output_type": "stream",
          "name": "stdout",
          "text": [
            "+-----------+--------+------+--------------------+----+-----+-----+----------------+-------+-----+---------+--------------+\n",
            "|PassengerId|Survived|Pclass|                Name| Age|SibSp|Parch|          Ticket|   Fare|Cabin|Sex_Index|Embarked_Index|\n",
            "+-----------+--------+------+--------------------+----+-----+-----+----------------+-------+-----+---------+--------------+\n",
            "|          1|       0|     3|Braund, Mr. Owen ...|22.0|    1|    0|       A/5 21171|   7.25| NULL|      0.0|           0.0|\n",
            "|          2|       1|     1|Cumings, Mrs. Joh...|38.0|    1|    0|        PC 17599|71.2833|  C85|      1.0|           1.0|\n",
            "|          3|       1|     3|Heikkinen, Miss. ...|26.0|    0|    0|STON/O2. 3101282|  7.925| NULL|      1.0|           0.0|\n",
            "|          4|       1|     1|Futrelle, Mrs. Ja...|35.0|    1|    0|          113803|   53.1| C123|      1.0|           0.0|\n",
            "|          5|       0|     3|Allen, Mr. Willia...|35.0|    0|    0|          373450|   8.05| NULL|      0.0|           0.0|\n",
            "+-----------+--------+------+--------------------+----+-----+-----+----------------+-------+-----+---------+--------------+\n",
            "only showing top 5 rows\n",
            "\n"
          ]
        }
      ]
    },
    {
      "cell_type": "markdown",
      "source": [
        "## 4. Провести предварительную обработку (все пункты должны быть выполнены):"
      ],
      "metadata": {
        "id": "Xo4x11vBUSYL"
      }
    },
    {
      "cell_type": "markdown",
      "source": [
        "* Правило для одной колонки: расчет и замена средним по колонке."
      ],
      "metadata": {
        "id": "zilTNLsMbN7e"
      }
    },
    {
      "cell_type": "code",
      "source": [
        "# Подсчет количества пропущенных значений в колонке 'Age'\n",
        "missing_age_count = titanic_df.filter(titanic_df.Age.isNull()).count()\n",
        "\n",
        "# Общее количество строк\n",
        "total_count = titanic_df.count()\n",
        "print(f\"Общее количество строк: {total_count}\")\n",
        "\n",
        "# Вывод количества пропущенных значений\n",
        "print(f\"Количество пропущенных значений в колонке 'Age': {missing_age_count}\")"
      ],
      "metadata": {
        "colab": {
          "base_uri": "https://localhost:8080/"
        },
        "id": "FMKBYCRmbPhG",
        "outputId": "45a44dd8-615a-40eb-85be-d400b070d289"
      },
      "execution_count": 13,
      "outputs": [
        {
          "output_type": "stream",
          "name": "stdout",
          "text": [
            "Общее количество строк: 891\n",
            "Количество пропущенных значений в колонке 'Age': 177\n"
          ]
        }
      ]
    },
    {
      "cell_type": "code",
      "source": [
        "# Шаг 1: Рассчитать среднее значение 'Age'\n",
        "mean_age = titanic_df.select(mean(col(\"Age\"))).first()[0]\n",
        "\n",
        "# Шаг 2: Заменить пропущенные значения на среднее\n",
        "titanic_df = titanic_df.na.fill({\"Age\": mean_age})\n",
        "\n",
        "# Теперь можно посмотреть обновленные данные\n",
        "titanic_df.show()"
      ],
      "metadata": {
        "colab": {
          "base_uri": "https://localhost:8080/"
        },
        "id": "XLZrUHeJcpuD",
        "outputId": "37ca33c2-b27f-44db-984d-dc3e9de3902e"
      },
      "execution_count": 16,
      "outputs": [
        {
          "output_type": "stream",
          "name": "stdout",
          "text": [
            "+-----------+--------+------+--------------------+-----------------+-----+-----+----------------+-------+-----+---------+--------------+\n",
            "|PassengerId|Survived|Pclass|                Name|              Age|SibSp|Parch|          Ticket|   Fare|Cabin|Sex_Index|Embarked_Index|\n",
            "+-----------+--------+------+--------------------+-----------------+-----+-----+----------------+-------+-----+---------+--------------+\n",
            "|          1|       0|     3|Braund, Mr. Owen ...|             22.0|    1|    0|       A/5 21171|   7.25| NULL|      0.0|           0.0|\n",
            "|          2|       1|     1|Cumings, Mrs. Joh...|             38.0|    1|    0|        PC 17599|71.2833|  C85|      1.0|           1.0|\n",
            "|          3|       1|     3|Heikkinen, Miss. ...|             26.0|    0|    0|STON/O2. 3101282|  7.925| NULL|      1.0|           0.0|\n",
            "|          4|       1|     1|Futrelle, Mrs. Ja...|             35.0|    1|    0|          113803|   53.1| C123|      1.0|           0.0|\n",
            "|          5|       0|     3|Allen, Mr. Willia...|             35.0|    0|    0|          373450|   8.05| NULL|      0.0|           0.0|\n",
            "|          6|       0|     3|    Moran, Mr. James|29.69911764705882|    0|    0|          330877| 8.4583| NULL|      0.0|           2.0|\n",
            "|          7|       0|     1|McCarthy, Mr. Tim...|             54.0|    0|    0|           17463|51.8625|  E46|      0.0|           0.0|\n",
            "|          8|       0|     3|Palsson, Master. ...|              2.0|    3|    1|          349909| 21.075| NULL|      0.0|           0.0|\n",
            "|          9|       1|     3|Johnson, Mrs. Osc...|             27.0|    0|    2|          347742|11.1333| NULL|      1.0|           0.0|\n",
            "|         10|       1|     2|Nasser, Mrs. Nich...|             14.0|    1|    0|          237736|30.0708| NULL|      1.0|           1.0|\n",
            "|         11|       1|     3|Sandstrom, Miss. ...|              4.0|    1|    1|         PP 9549|   16.7|   G6|      1.0|           0.0|\n",
            "|         12|       1|     1|Bonnell, Miss. El...|             58.0|    0|    0|          113783|  26.55| C103|      1.0|           0.0|\n",
            "|         13|       0|     3|Saundercock, Mr. ...|             20.0|    0|    0|       A/5. 2151|   8.05| NULL|      0.0|           0.0|\n",
            "|         14|       0|     3|Andersson, Mr. An...|             39.0|    1|    5|          347082| 31.275| NULL|      0.0|           0.0|\n",
            "|         15|       0|     3|Vestrom, Miss. Hu...|             14.0|    0|    0|          350406| 7.8542| NULL|      1.0|           0.0|\n",
            "|         16|       1|     2|Hewlett, Mrs. (Ma...|             55.0|    0|    0|          248706|   16.0| NULL|      1.0|           0.0|\n",
            "|         17|       0|     3|Rice, Master. Eugene|              2.0|    4|    1|          382652| 29.125| NULL|      0.0|           2.0|\n",
            "|         18|       1|     2|Williams, Mr. Cha...|29.69911764705882|    0|    0|          244373|   13.0| NULL|      0.0|           0.0|\n",
            "|         19|       0|     3|Vander Planke, Mr...|             31.0|    1|    0|          345763|   18.0| NULL|      1.0|           0.0|\n",
            "|         20|       1|     3|Masselmani, Mrs. ...|29.69911764705882|    0|    0|            2649|  7.225| NULL|      1.0|           1.0|\n",
            "+-----------+--------+------+--------------------+-----------------+-----+-----+----------------+-------+-----+---------+--------------+\n",
            "only showing top 20 rows\n",
            "\n"
          ]
        }
      ]
    },
    {
      "cell_type": "markdown",
      "source": [
        "* Правило для одной колонки: расчет и замена средним по колонке."
      ],
      "metadata": {
        "id": "jcQ79HG9UY1L"
      }
    }
  ]
}