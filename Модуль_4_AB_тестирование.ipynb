{
  "nbformat": 4,
  "nbformat_minor": 0,
  "metadata": {
    "colab": {
      "provenance": [],
      "authorship_tag": "ABX9TyORmCH6t7mg9sx2rmufgrUi",
      "include_colab_link": true
    },
    "kernelspec": {
      "name": "python3",
      "display_name": "Python 3"
    },
    "language_info": {
      "name": "python"
    }
  },
  "cells": [
    {
      "cell_type": "markdown",
      "metadata": {
        "id": "view-in-github",
        "colab_type": "text"
      },
      "source": [
        "<a href=\"https://colab.research.google.com/github/lastinm/ml_hw_notebooks/blob/main/%D0%9C%D0%BE%D0%B4%D1%83%D0%BB%D1%8C_4_AB_%D1%82%D0%B5%D1%81%D1%82%D0%B8%D1%80%D0%BE%D0%B2%D0%B0%D0%BD%D0%B8%D0%B5.ipynb\" target=\"_parent\"><img src=\"https://colab.research.google.com/assets/colab-badge.svg\" alt=\"Open In Colab\"/></a>"
      ]
    },
    {
      "cell_type": "code",
      "source": [
        "import pandas as pd\n",
        "import matplotlib.pyplot as plt\n",
        "import seaborn as sns"
      ],
      "metadata": {
        "id": "1rmZeDVMmWua"
      },
      "execution_count": 1,
      "outputs": []
    },
    {
      "cell_type": "code",
      "execution_count": 2,
      "metadata": {
        "colab": {
          "base_uri": "https://localhost:8080/"
        },
        "id": "iklCrLWClvaX",
        "outputId": "4a7cbe77-c5c8-4e8c-986a-d32f1a0bee72"
      },
      "outputs": [
        {
          "output_type": "stream",
          "name": "stdout",
          "text": [
            "Mounted at /content/drive\n"
          ]
        }
      ],
      "source": [
        "from google.colab import drive\n",
        "drive.mount('/content/drive')"
      ]
    },
    {
      "cell_type": "code",
      "source": [
        "# Чтение CSV файла напрямую из zip архива\n",
        "ab_data = pd.read_csv('/content/drive/MyDrive/Data/ab_data.zip', compression='zip', header=0, sep=',')\n",
        "ab_data.head()"
      ],
      "metadata": {
        "colab": {
          "base_uri": "https://localhost:8080/",
          "height": 206
        },
        "id": "aQ72ejWEmMRo",
        "outputId": "fdcaf57b-d1ee-4b59-9e8c-9747eb29c836"
      },
      "execution_count": 3,
      "outputs": [
        {
          "output_type": "execute_result",
          "data": {
            "text/plain": [
              "   user_id   timestamp group  converted\n",
              "0   851104  2017-01-21     A          0\n",
              "1   804228  2017-01-12     A          0\n",
              "2   661590  2017-01-11     B          0\n",
              "3   853541  2017-01-08     B          0\n",
              "4   864975  2017-01-21     A          1"
            ],
            "text/html": [
              "\n",
              "  <div id=\"df-193a6bc3-37b2-4498-814c-337064fe235e\" class=\"colab-df-container\">\n",
              "    <div>\n",
              "<style scoped>\n",
              "    .dataframe tbody tr th:only-of-type {\n",
              "        vertical-align: middle;\n",
              "    }\n",
              "\n",
              "    .dataframe tbody tr th {\n",
              "        vertical-align: top;\n",
              "    }\n",
              "\n",
              "    .dataframe thead th {\n",
              "        text-align: right;\n",
              "    }\n",
              "</style>\n",
              "<table border=\"1\" class=\"dataframe\">\n",
              "  <thead>\n",
              "    <tr style=\"text-align: right;\">\n",
              "      <th></th>\n",
              "      <th>user_id</th>\n",
              "      <th>timestamp</th>\n",
              "      <th>group</th>\n",
              "      <th>converted</th>\n",
              "    </tr>\n",
              "  </thead>\n",
              "  <tbody>\n",
              "    <tr>\n",
              "      <th>0</th>\n",
              "      <td>851104</td>\n",
              "      <td>2017-01-21</td>\n",
              "      <td>A</td>\n",
              "      <td>0</td>\n",
              "    </tr>\n",
              "    <tr>\n",
              "      <th>1</th>\n",
              "      <td>804228</td>\n",
              "      <td>2017-01-12</td>\n",
              "      <td>A</td>\n",
              "      <td>0</td>\n",
              "    </tr>\n",
              "    <tr>\n",
              "      <th>2</th>\n",
              "      <td>661590</td>\n",
              "      <td>2017-01-11</td>\n",
              "      <td>B</td>\n",
              "      <td>0</td>\n",
              "    </tr>\n",
              "    <tr>\n",
              "      <th>3</th>\n",
              "      <td>853541</td>\n",
              "      <td>2017-01-08</td>\n",
              "      <td>B</td>\n",
              "      <td>0</td>\n",
              "    </tr>\n",
              "    <tr>\n",
              "      <th>4</th>\n",
              "      <td>864975</td>\n",
              "      <td>2017-01-21</td>\n",
              "      <td>A</td>\n",
              "      <td>1</td>\n",
              "    </tr>\n",
              "  </tbody>\n",
              "</table>\n",
              "</div>\n",
              "    <div class=\"colab-df-buttons\">\n",
              "\n",
              "  <div class=\"colab-df-container\">\n",
              "    <button class=\"colab-df-convert\" onclick=\"convertToInteractive('df-193a6bc3-37b2-4498-814c-337064fe235e')\"\n",
              "            title=\"Convert this dataframe to an interactive table.\"\n",
              "            style=\"display:none;\">\n",
              "\n",
              "  <svg xmlns=\"http://www.w3.org/2000/svg\" height=\"24px\" viewBox=\"0 -960 960 960\">\n",
              "    <path d=\"M120-120v-720h720v720H120Zm60-500h600v-160H180v160Zm220 220h160v-160H400v160Zm0 220h160v-160H400v160ZM180-400h160v-160H180v160Zm440 0h160v-160H620v160ZM180-180h160v-160H180v160Zm440 0h160v-160H620v160Z\"/>\n",
              "  </svg>\n",
              "    </button>\n",
              "\n",
              "  <style>\n",
              "    .colab-df-container {\n",
              "      display:flex;\n",
              "      gap: 12px;\n",
              "    }\n",
              "\n",
              "    .colab-df-convert {\n",
              "      background-color: #E8F0FE;\n",
              "      border: none;\n",
              "      border-radius: 50%;\n",
              "      cursor: pointer;\n",
              "      display: none;\n",
              "      fill: #1967D2;\n",
              "      height: 32px;\n",
              "      padding: 0 0 0 0;\n",
              "      width: 32px;\n",
              "    }\n",
              "\n",
              "    .colab-df-convert:hover {\n",
              "      background-color: #E2EBFA;\n",
              "      box-shadow: 0px 1px 2px rgba(60, 64, 67, 0.3), 0px 1px 3px 1px rgba(60, 64, 67, 0.15);\n",
              "      fill: #174EA6;\n",
              "    }\n",
              "\n",
              "    .colab-df-buttons div {\n",
              "      margin-bottom: 4px;\n",
              "    }\n",
              "\n",
              "    [theme=dark] .colab-df-convert {\n",
              "      background-color: #3B4455;\n",
              "      fill: #D2E3FC;\n",
              "    }\n",
              "\n",
              "    [theme=dark] .colab-df-convert:hover {\n",
              "      background-color: #434B5C;\n",
              "      box-shadow: 0px 1px 3px 1px rgba(0, 0, 0, 0.15);\n",
              "      filter: drop-shadow(0px 1px 2px rgba(0, 0, 0, 0.3));\n",
              "      fill: #FFFFFF;\n",
              "    }\n",
              "  </style>\n",
              "\n",
              "    <script>\n",
              "      const buttonEl =\n",
              "        document.querySelector('#df-193a6bc3-37b2-4498-814c-337064fe235e button.colab-df-convert');\n",
              "      buttonEl.style.display =\n",
              "        google.colab.kernel.accessAllowed ? 'block' : 'none';\n",
              "\n",
              "      async function convertToInteractive(key) {\n",
              "        const element = document.querySelector('#df-193a6bc3-37b2-4498-814c-337064fe235e');\n",
              "        const dataTable =\n",
              "          await google.colab.kernel.invokeFunction('convertToInteractive',\n",
              "                                                    [key], {});\n",
              "        if (!dataTable) return;\n",
              "\n",
              "        const docLinkHtml = 'Like what you see? Visit the ' +\n",
              "          '<a target=\"_blank\" href=https://colab.research.google.com/notebooks/data_table.ipynb>data table notebook</a>'\n",
              "          + ' to learn more about interactive tables.';\n",
              "        element.innerHTML = '';\n",
              "        dataTable['output_type'] = 'display_data';\n",
              "        await google.colab.output.renderOutput(dataTable, element);\n",
              "        const docLink = document.createElement('div');\n",
              "        docLink.innerHTML = docLinkHtml;\n",
              "        element.appendChild(docLink);\n",
              "      }\n",
              "    </script>\n",
              "  </div>\n",
              "\n",
              "\n",
              "<div id=\"df-f7d54fb9-bf61-4f92-ba23-721bec125cfc\">\n",
              "  <button class=\"colab-df-quickchart\" onclick=\"quickchart('df-f7d54fb9-bf61-4f92-ba23-721bec125cfc')\"\n",
              "            title=\"Suggest charts\"\n",
              "            style=\"display:none;\">\n",
              "\n",
              "<svg xmlns=\"http://www.w3.org/2000/svg\" height=\"24px\"viewBox=\"0 0 24 24\"\n",
              "     width=\"24px\">\n",
              "    <g>\n",
              "        <path d=\"M19 3H5c-1.1 0-2 .9-2 2v14c0 1.1.9 2 2 2h14c1.1 0 2-.9 2-2V5c0-1.1-.9-2-2-2zM9 17H7v-7h2v7zm4 0h-2V7h2v10zm4 0h-2v-4h2v4z\"/>\n",
              "    </g>\n",
              "</svg>\n",
              "  </button>\n",
              "\n",
              "<style>\n",
              "  .colab-df-quickchart {\n",
              "      --bg-color: #E8F0FE;\n",
              "      --fill-color: #1967D2;\n",
              "      --hover-bg-color: #E2EBFA;\n",
              "      --hover-fill-color: #174EA6;\n",
              "      --disabled-fill-color: #AAA;\n",
              "      --disabled-bg-color: #DDD;\n",
              "  }\n",
              "\n",
              "  [theme=dark] .colab-df-quickchart {\n",
              "      --bg-color: #3B4455;\n",
              "      --fill-color: #D2E3FC;\n",
              "      --hover-bg-color: #434B5C;\n",
              "      --hover-fill-color: #FFFFFF;\n",
              "      --disabled-bg-color: #3B4455;\n",
              "      --disabled-fill-color: #666;\n",
              "  }\n",
              "\n",
              "  .colab-df-quickchart {\n",
              "    background-color: var(--bg-color);\n",
              "    border: none;\n",
              "    border-radius: 50%;\n",
              "    cursor: pointer;\n",
              "    display: none;\n",
              "    fill: var(--fill-color);\n",
              "    height: 32px;\n",
              "    padding: 0;\n",
              "    width: 32px;\n",
              "  }\n",
              "\n",
              "  .colab-df-quickchart:hover {\n",
              "    background-color: var(--hover-bg-color);\n",
              "    box-shadow: 0 1px 2px rgba(60, 64, 67, 0.3), 0 1px 3px 1px rgba(60, 64, 67, 0.15);\n",
              "    fill: var(--button-hover-fill-color);\n",
              "  }\n",
              "\n",
              "  .colab-df-quickchart-complete:disabled,\n",
              "  .colab-df-quickchart-complete:disabled:hover {\n",
              "    background-color: var(--disabled-bg-color);\n",
              "    fill: var(--disabled-fill-color);\n",
              "    box-shadow: none;\n",
              "  }\n",
              "\n",
              "  .colab-df-spinner {\n",
              "    border: 2px solid var(--fill-color);\n",
              "    border-color: transparent;\n",
              "    border-bottom-color: var(--fill-color);\n",
              "    animation:\n",
              "      spin 1s steps(1) infinite;\n",
              "  }\n",
              "\n",
              "  @keyframes spin {\n",
              "    0% {\n",
              "      border-color: transparent;\n",
              "      border-bottom-color: var(--fill-color);\n",
              "      border-left-color: var(--fill-color);\n",
              "    }\n",
              "    20% {\n",
              "      border-color: transparent;\n",
              "      border-left-color: var(--fill-color);\n",
              "      border-top-color: var(--fill-color);\n",
              "    }\n",
              "    30% {\n",
              "      border-color: transparent;\n",
              "      border-left-color: var(--fill-color);\n",
              "      border-top-color: var(--fill-color);\n",
              "      border-right-color: var(--fill-color);\n",
              "    }\n",
              "    40% {\n",
              "      border-color: transparent;\n",
              "      border-right-color: var(--fill-color);\n",
              "      border-top-color: var(--fill-color);\n",
              "    }\n",
              "    60% {\n",
              "      border-color: transparent;\n",
              "      border-right-color: var(--fill-color);\n",
              "    }\n",
              "    80% {\n",
              "      border-color: transparent;\n",
              "      border-right-color: var(--fill-color);\n",
              "      border-bottom-color: var(--fill-color);\n",
              "    }\n",
              "    90% {\n",
              "      border-color: transparent;\n",
              "      border-bottom-color: var(--fill-color);\n",
              "    }\n",
              "  }\n",
              "</style>\n",
              "\n",
              "  <script>\n",
              "    async function quickchart(key) {\n",
              "      const quickchartButtonEl =\n",
              "        document.querySelector('#' + key + ' button');\n",
              "      quickchartButtonEl.disabled = true;  // To prevent multiple clicks.\n",
              "      quickchartButtonEl.classList.add('colab-df-spinner');\n",
              "      try {\n",
              "        const charts = await google.colab.kernel.invokeFunction(\n",
              "            'suggestCharts', [key], {});\n",
              "      } catch (error) {\n",
              "        console.error('Error during call to suggestCharts:', error);\n",
              "      }\n",
              "      quickchartButtonEl.classList.remove('colab-df-spinner');\n",
              "      quickchartButtonEl.classList.add('colab-df-quickchart-complete');\n",
              "    }\n",
              "    (() => {\n",
              "      let quickchartButtonEl =\n",
              "        document.querySelector('#df-f7d54fb9-bf61-4f92-ba23-721bec125cfc button');\n",
              "      quickchartButtonEl.style.display =\n",
              "        google.colab.kernel.accessAllowed ? 'block' : 'none';\n",
              "    })();\n",
              "  </script>\n",
              "</div>\n",
              "    </div>\n",
              "  </div>\n"
            ],
            "application/vnd.google.colaboratory.intrinsic+json": {
              "type": "dataframe",
              "variable_name": "ab_data"
            }
          },
          "metadata": {},
          "execution_count": 3
        }
      ]
    },
    {
      "cell_type": "code",
      "source": [
        "ab_data.info()"
      ],
      "metadata": {
        "colab": {
          "base_uri": "https://localhost:8080/"
        },
        "id": "x5BsFZPwm3Nm",
        "outputId": "2b1e8466-60cb-41ae-b8ae-7520ec7e5559"
      },
      "execution_count": 4,
      "outputs": [
        {
          "output_type": "stream",
          "name": "stdout",
          "text": [
            "<class 'pandas.core.frame.DataFrame'>\n",
            "RangeIndex: 290482 entries, 0 to 290481\n",
            "Data columns (total 4 columns):\n",
            " #   Column     Non-Null Count   Dtype \n",
            "---  ------     --------------   ----- \n",
            " 0   user_id    290482 non-null  int64 \n",
            " 1   timestamp  290482 non-null  object\n",
            " 2   group      290482 non-null  object\n",
            " 3   converted  290482 non-null  int64 \n",
            "dtypes: int64(2), object(2)\n",
            "memory usage: 8.9+ MB\n"
          ]
        }
      ]
    },
    {
      "cell_type": "markdown",
      "source": [
        "Итак, в наших данных нет пропусков, однако нам нужно перевести столбец с информацией о дате события (timestamp) в формат datetime. Напомним: для этого мы можем воспользоваться функцией pandas to_datetime():"
      ],
      "metadata": {
        "id": "jKZVX33gpT9j"
      }
    },
    {
      "cell_type": "code",
      "source": [
        "ab_data['timestamp'] = pd.to_datetime(ab_data['timestamp'], format='%Y-%m-%d')"
      ],
      "metadata": {
        "id": "xxBlgBZ0nAD3"
      },
      "execution_count": 5,
      "outputs": []
    },
    {
      "cell_type": "markdown",
      "source": [
        "В итоге мы получили таблицу, в которой отображены входы клиента на сайт (сессия) и его действия."
      ],
      "metadata": {
        "id": "psDc0UGtpaVc"
      }
    },
    {
      "cell_type": "markdown",
      "source": [
        "Для того, чтобы получить показатель конверсии в группах на каждый день, нам необходимо предварительно сгруппировать наши данные по дате и группе и вычислить количество пользователей, заходивших на сайт, и суммарное количество совершённых целевых действий.\n",
        "\n",
        "Дополнительно для удобства сбросим индекс на сгруппированной таблице c помощью метода reset_index() и переименуем столбец user_id в users_count с помощью метода rename()."
      ],
      "metadata": {
        "id": "kz-8VMFlpR_r"
      }
    },
    {
      "cell_type": "code",
      "source": [
        "daily_data = ab_data.groupby(['timestamp','group']).agg({\n",
        "    'user_id':'count',\n",
        "    'converted':'sum'\n",
        "}).reset_index().rename(columns={'user_id': 'users_count'})\n",
        "daily_data.head()"
      ],
      "metadata": {
        "colab": {
          "base_uri": "https://localhost:8080/",
          "height": 206
        },
        "id": "25YSxQVnpNDK",
        "outputId": "3887b78a-a322-409a-8078-bb5a8a70c976"
      },
      "execution_count": 6,
      "outputs": [
        {
          "output_type": "execute_result",
          "data": {
            "text/plain": [
              "   timestamp group  users_count  converted\n",
              "0 2017-01-02     A         2851        357\n",
              "1 2017-01-02     B         2848        339\n",
              "2 2017-01-03     A         6584        749\n",
              "3 2017-01-03     B         6620        754\n",
              "4 2017-01-04     A         6573        797"
            ],
            "text/html": [
              "\n",
              "  <div id=\"df-b56e499e-a0f3-4178-bc7b-686eebb59aaa\" class=\"colab-df-container\">\n",
              "    <div>\n",
              "<style scoped>\n",
              "    .dataframe tbody tr th:only-of-type {\n",
              "        vertical-align: middle;\n",
              "    }\n",
              "\n",
              "    .dataframe tbody tr th {\n",
              "        vertical-align: top;\n",
              "    }\n",
              "\n",
              "    .dataframe thead th {\n",
              "        text-align: right;\n",
              "    }\n",
              "</style>\n",
              "<table border=\"1\" class=\"dataframe\">\n",
              "  <thead>\n",
              "    <tr style=\"text-align: right;\">\n",
              "      <th></th>\n",
              "      <th>timestamp</th>\n",
              "      <th>group</th>\n",
              "      <th>users_count</th>\n",
              "      <th>converted</th>\n",
              "    </tr>\n",
              "  </thead>\n",
              "  <tbody>\n",
              "    <tr>\n",
              "      <th>0</th>\n",
              "      <td>2017-01-02</td>\n",
              "      <td>A</td>\n",
              "      <td>2851</td>\n",
              "      <td>357</td>\n",
              "    </tr>\n",
              "    <tr>\n",
              "      <th>1</th>\n",
              "      <td>2017-01-02</td>\n",
              "      <td>B</td>\n",
              "      <td>2848</td>\n",
              "      <td>339</td>\n",
              "    </tr>\n",
              "    <tr>\n",
              "      <th>2</th>\n",
              "      <td>2017-01-03</td>\n",
              "      <td>A</td>\n",
              "      <td>6584</td>\n",
              "      <td>749</td>\n",
              "    </tr>\n",
              "    <tr>\n",
              "      <th>3</th>\n",
              "      <td>2017-01-03</td>\n",
              "      <td>B</td>\n",
              "      <td>6620</td>\n",
              "      <td>754</td>\n",
              "    </tr>\n",
              "    <tr>\n",
              "      <th>4</th>\n",
              "      <td>2017-01-04</td>\n",
              "      <td>A</td>\n",
              "      <td>6573</td>\n",
              "      <td>797</td>\n",
              "    </tr>\n",
              "  </tbody>\n",
              "</table>\n",
              "</div>\n",
              "    <div class=\"colab-df-buttons\">\n",
              "\n",
              "  <div class=\"colab-df-container\">\n",
              "    <button class=\"colab-df-convert\" onclick=\"convertToInteractive('df-b56e499e-a0f3-4178-bc7b-686eebb59aaa')\"\n",
              "            title=\"Convert this dataframe to an interactive table.\"\n",
              "            style=\"display:none;\">\n",
              "\n",
              "  <svg xmlns=\"http://www.w3.org/2000/svg\" height=\"24px\" viewBox=\"0 -960 960 960\">\n",
              "    <path d=\"M120-120v-720h720v720H120Zm60-500h600v-160H180v160Zm220 220h160v-160H400v160Zm0 220h160v-160H400v160ZM180-400h160v-160H180v160Zm440 0h160v-160H620v160ZM180-180h160v-160H180v160Zm440 0h160v-160H620v160Z\"/>\n",
              "  </svg>\n",
              "    </button>\n",
              "\n",
              "  <style>\n",
              "    .colab-df-container {\n",
              "      display:flex;\n",
              "      gap: 12px;\n",
              "    }\n",
              "\n",
              "    .colab-df-convert {\n",
              "      background-color: #E8F0FE;\n",
              "      border: none;\n",
              "      border-radius: 50%;\n",
              "      cursor: pointer;\n",
              "      display: none;\n",
              "      fill: #1967D2;\n",
              "      height: 32px;\n",
              "      padding: 0 0 0 0;\n",
              "      width: 32px;\n",
              "    }\n",
              "\n",
              "    .colab-df-convert:hover {\n",
              "      background-color: #E2EBFA;\n",
              "      box-shadow: 0px 1px 2px rgba(60, 64, 67, 0.3), 0px 1px 3px 1px rgba(60, 64, 67, 0.15);\n",
              "      fill: #174EA6;\n",
              "    }\n",
              "\n",
              "    .colab-df-buttons div {\n",
              "      margin-bottom: 4px;\n",
              "    }\n",
              "\n",
              "    [theme=dark] .colab-df-convert {\n",
              "      background-color: #3B4455;\n",
              "      fill: #D2E3FC;\n",
              "    }\n",
              "\n",
              "    [theme=dark] .colab-df-convert:hover {\n",
              "      background-color: #434B5C;\n",
              "      box-shadow: 0px 1px 3px 1px rgba(0, 0, 0, 0.15);\n",
              "      filter: drop-shadow(0px 1px 2px rgba(0, 0, 0, 0.3));\n",
              "      fill: #FFFFFF;\n",
              "    }\n",
              "  </style>\n",
              "\n",
              "    <script>\n",
              "      const buttonEl =\n",
              "        document.querySelector('#df-b56e499e-a0f3-4178-bc7b-686eebb59aaa button.colab-df-convert');\n",
              "      buttonEl.style.display =\n",
              "        google.colab.kernel.accessAllowed ? 'block' : 'none';\n",
              "\n",
              "      async function convertToInteractive(key) {\n",
              "        const element = document.querySelector('#df-b56e499e-a0f3-4178-bc7b-686eebb59aaa');\n",
              "        const dataTable =\n",
              "          await google.colab.kernel.invokeFunction('convertToInteractive',\n",
              "                                                    [key], {});\n",
              "        if (!dataTable) return;\n",
              "\n",
              "        const docLinkHtml = 'Like what you see? Visit the ' +\n",
              "          '<a target=\"_blank\" href=https://colab.research.google.com/notebooks/data_table.ipynb>data table notebook</a>'\n",
              "          + ' to learn more about interactive tables.';\n",
              "        element.innerHTML = '';\n",
              "        dataTable['output_type'] = 'display_data';\n",
              "        await google.colab.output.renderOutput(dataTable, element);\n",
              "        const docLink = document.createElement('div');\n",
              "        docLink.innerHTML = docLinkHtml;\n",
              "        element.appendChild(docLink);\n",
              "      }\n",
              "    </script>\n",
              "  </div>\n",
              "\n",
              "\n",
              "<div id=\"df-43ea186a-c7b3-4c99-ab5b-6bbca9383dac\">\n",
              "  <button class=\"colab-df-quickchart\" onclick=\"quickchart('df-43ea186a-c7b3-4c99-ab5b-6bbca9383dac')\"\n",
              "            title=\"Suggest charts\"\n",
              "            style=\"display:none;\">\n",
              "\n",
              "<svg xmlns=\"http://www.w3.org/2000/svg\" height=\"24px\"viewBox=\"0 0 24 24\"\n",
              "     width=\"24px\">\n",
              "    <g>\n",
              "        <path d=\"M19 3H5c-1.1 0-2 .9-2 2v14c0 1.1.9 2 2 2h14c1.1 0 2-.9 2-2V5c0-1.1-.9-2-2-2zM9 17H7v-7h2v7zm4 0h-2V7h2v10zm4 0h-2v-4h2v4z\"/>\n",
              "    </g>\n",
              "</svg>\n",
              "  </button>\n",
              "\n",
              "<style>\n",
              "  .colab-df-quickchart {\n",
              "      --bg-color: #E8F0FE;\n",
              "      --fill-color: #1967D2;\n",
              "      --hover-bg-color: #E2EBFA;\n",
              "      --hover-fill-color: #174EA6;\n",
              "      --disabled-fill-color: #AAA;\n",
              "      --disabled-bg-color: #DDD;\n",
              "  }\n",
              "\n",
              "  [theme=dark] .colab-df-quickchart {\n",
              "      --bg-color: #3B4455;\n",
              "      --fill-color: #D2E3FC;\n",
              "      --hover-bg-color: #434B5C;\n",
              "      --hover-fill-color: #FFFFFF;\n",
              "      --disabled-bg-color: #3B4455;\n",
              "      --disabled-fill-color: #666;\n",
              "  }\n",
              "\n",
              "  .colab-df-quickchart {\n",
              "    background-color: var(--bg-color);\n",
              "    border: none;\n",
              "    border-radius: 50%;\n",
              "    cursor: pointer;\n",
              "    display: none;\n",
              "    fill: var(--fill-color);\n",
              "    height: 32px;\n",
              "    padding: 0;\n",
              "    width: 32px;\n",
              "  }\n",
              "\n",
              "  .colab-df-quickchart:hover {\n",
              "    background-color: var(--hover-bg-color);\n",
              "    box-shadow: 0 1px 2px rgba(60, 64, 67, 0.3), 0 1px 3px 1px rgba(60, 64, 67, 0.15);\n",
              "    fill: var(--button-hover-fill-color);\n",
              "  }\n",
              "\n",
              "  .colab-df-quickchart-complete:disabled,\n",
              "  .colab-df-quickchart-complete:disabled:hover {\n",
              "    background-color: var(--disabled-bg-color);\n",
              "    fill: var(--disabled-fill-color);\n",
              "    box-shadow: none;\n",
              "  }\n",
              "\n",
              "  .colab-df-spinner {\n",
              "    border: 2px solid var(--fill-color);\n",
              "    border-color: transparent;\n",
              "    border-bottom-color: var(--fill-color);\n",
              "    animation:\n",
              "      spin 1s steps(1) infinite;\n",
              "  }\n",
              "\n",
              "  @keyframes spin {\n",
              "    0% {\n",
              "      border-color: transparent;\n",
              "      border-bottom-color: var(--fill-color);\n",
              "      border-left-color: var(--fill-color);\n",
              "    }\n",
              "    20% {\n",
              "      border-color: transparent;\n",
              "      border-left-color: var(--fill-color);\n",
              "      border-top-color: var(--fill-color);\n",
              "    }\n",
              "    30% {\n",
              "      border-color: transparent;\n",
              "      border-left-color: var(--fill-color);\n",
              "      border-top-color: var(--fill-color);\n",
              "      border-right-color: var(--fill-color);\n",
              "    }\n",
              "    40% {\n",
              "      border-color: transparent;\n",
              "      border-right-color: var(--fill-color);\n",
              "      border-top-color: var(--fill-color);\n",
              "    }\n",
              "    60% {\n",
              "      border-color: transparent;\n",
              "      border-right-color: var(--fill-color);\n",
              "    }\n",
              "    80% {\n",
              "      border-color: transparent;\n",
              "      border-right-color: var(--fill-color);\n",
              "      border-bottom-color: var(--fill-color);\n",
              "    }\n",
              "    90% {\n",
              "      border-color: transparent;\n",
              "      border-bottom-color: var(--fill-color);\n",
              "    }\n",
              "  }\n",
              "</style>\n",
              "\n",
              "  <script>\n",
              "    async function quickchart(key) {\n",
              "      const quickchartButtonEl =\n",
              "        document.querySelector('#' + key + ' button');\n",
              "      quickchartButtonEl.disabled = true;  // To prevent multiple clicks.\n",
              "      quickchartButtonEl.classList.add('colab-df-spinner');\n",
              "      try {\n",
              "        const charts = await google.colab.kernel.invokeFunction(\n",
              "            'suggestCharts', [key], {});\n",
              "      } catch (error) {\n",
              "        console.error('Error during call to suggestCharts:', error);\n",
              "      }\n",
              "      quickchartButtonEl.classList.remove('colab-df-spinner');\n",
              "      quickchartButtonEl.classList.add('colab-df-quickchart-complete');\n",
              "    }\n",
              "    (() => {\n",
              "      let quickchartButtonEl =\n",
              "        document.querySelector('#df-43ea186a-c7b3-4c99-ab5b-6bbca9383dac button');\n",
              "      quickchartButtonEl.style.display =\n",
              "        google.colab.kernel.accessAllowed ? 'block' : 'none';\n",
              "    })();\n",
              "  </script>\n",
              "</div>\n",
              "    </div>\n",
              "  </div>\n"
            ],
            "application/vnd.google.colaboratory.intrinsic+json": {
              "type": "dataframe",
              "variable_name": "daily_data",
              "summary": "{\n  \"name\": \"daily_data\",\n  \"rows\": 46,\n  \"fields\": [\n    {\n      \"column\": \"timestamp\",\n      \"properties\": {\n        \"dtype\": \"date\",\n        \"min\": \"2017-01-02 00:00:00\",\n        \"max\": \"2017-01-24 00:00:00\",\n        \"num_unique_values\": 23,\n        \"samples\": [\n          \"2017-01-17 00:00:00\",\n          \"2017-01-11 00:00:00\",\n          \"2017-01-02 00:00:00\"\n        ],\n        \"semantic_type\": \"\",\n        \"description\": \"\"\n      }\n    },\n    {\n      \"column\": \"group\",\n      \"properties\": {\n        \"dtype\": \"category\",\n        \"num_unique_values\": 2,\n        \"samples\": [\n          \"B\",\n          \"A\"\n        ],\n        \"semantic_type\": \"\",\n        \"description\": \"\"\n      }\n    },\n    {\n      \"column\": \"users_count\",\n      \"properties\": {\n        \"dtype\": \"number\",\n        \"std\": 957,\n        \"min\": 2848,\n        \"max\": 6765,\n        \"num_unique_values\": 41,\n        \"samples\": [\n          6607,\n          6624\n        ],\n        \"semantic_type\": \"\",\n        \"description\": \"\"\n      }\n    },\n    {\n      \"column\": \"converted\",\n      \"properties\": {\n        \"dtype\": \"number\",\n        \"std\": 116,\n        \"min\": 339,\n        \"max\": 851,\n        \"num_unique_values\": 40,\n        \"samples\": [\n          794,\n          844\n        ],\n        \"semantic_type\": \"\",\n        \"description\": \"\"\n      }\n    }\n  ]\n}"
            }
          },
          "metadata": {},
          "execution_count": 6
        }
      ]
    },
    {
      "cell_type": "markdown",
      "source": [
        "Примечание. Количество пользователей в день в контрольной и тестовой группе определяется как количество значений в столбце user_id в сгруппированных данных, а количество совершённых целевых действий — это просто сумма по столбцу converted (1 в строке означает положительный исход, то есть целевое действие было совершено, а 0 — отрицательный исход; просуммировав все 1 и 0 в группе, получим количество положительных исходов)."
      ],
      "metadata": {
        "id": "FvaqRQ-vpvan"
      }
    },
    {
      "cell_type": "markdown",
      "source": [
        "Для завершения этапа подготовки данных к анализу нам осталось рассчитать конверсию на каждый день проведения A/B-тестирования. Напомним: ежедневная конверсия рассчитывается как отношение числа посетителей сайта, выполнивших на нём какие-либо целевые действия в день, к ежедневному общему числу посетителей сайта, умноженная на 100 %:\n",
        "\n",
        " — количество посетителей сайта, выполнивших целевое действие в день ;\n",
        " — общее количество посетителей сайта в день ;\n",
        " — конверсия в день ."
      ],
      "metadata": {
        "id": "XPBHXOUFp1Mg"
      }
    },
    {
      "cell_type": "code",
      "source": [
        "# Функция для расчета конверсии\n",
        "def calculate_conversion(row):\n",
        "    return (row['converted'] / row['users_count']) * 100\n",
        "\n",
        "# Применяем функцию к каждой строке DataFrame\n",
        "daily_data['conversion'] = daily_data.apply(calculate_conversion, axis=1)"
      ],
      "metadata": {
        "id": "lilGwbioqhZG"
      },
      "execution_count": 7,
      "outputs": []
    },
    {
      "cell_type": "code",
      "source": [
        "# Извлечение значения для группы A на 5 января 2017 года\n",
        "result = daily_data.loc[(daily_data['timestamp'] == '2017-01-05') & (daily_data['group'] == 'A')]\n",
        "result"
      ],
      "metadata": {
        "colab": {
          "base_uri": "https://localhost:8080/",
          "height": 81
        },
        "id": "BmOCnOoLroc3",
        "outputId": "0bf91dbd-aaa5-4591-b6d5-7e6f7ef96584"
      },
      "execution_count": 8,
      "outputs": [
        {
          "output_type": "execute_result",
          "data": {
            "text/plain": [
              "   timestamp group  users_count  converted  conversion\n",
              "6 2017-01-05     A         6419        791   12.322792"
            ],
            "text/html": [
              "\n",
              "  <div id=\"df-a8d95414-ef6d-4fe9-9e52-76c2795e3fdf\" class=\"colab-df-container\">\n",
              "    <div>\n",
              "<style scoped>\n",
              "    .dataframe tbody tr th:only-of-type {\n",
              "        vertical-align: middle;\n",
              "    }\n",
              "\n",
              "    .dataframe tbody tr th {\n",
              "        vertical-align: top;\n",
              "    }\n",
              "\n",
              "    .dataframe thead th {\n",
              "        text-align: right;\n",
              "    }\n",
              "</style>\n",
              "<table border=\"1\" class=\"dataframe\">\n",
              "  <thead>\n",
              "    <tr style=\"text-align: right;\">\n",
              "      <th></th>\n",
              "      <th>timestamp</th>\n",
              "      <th>group</th>\n",
              "      <th>users_count</th>\n",
              "      <th>converted</th>\n",
              "      <th>conversion</th>\n",
              "    </tr>\n",
              "  </thead>\n",
              "  <tbody>\n",
              "    <tr>\n",
              "      <th>6</th>\n",
              "      <td>2017-01-05</td>\n",
              "      <td>A</td>\n",
              "      <td>6419</td>\n",
              "      <td>791</td>\n",
              "      <td>12.322792</td>\n",
              "    </tr>\n",
              "  </tbody>\n",
              "</table>\n",
              "</div>\n",
              "    <div class=\"colab-df-buttons\">\n",
              "\n",
              "  <div class=\"colab-df-container\">\n",
              "    <button class=\"colab-df-convert\" onclick=\"convertToInteractive('df-a8d95414-ef6d-4fe9-9e52-76c2795e3fdf')\"\n",
              "            title=\"Convert this dataframe to an interactive table.\"\n",
              "            style=\"display:none;\">\n",
              "\n",
              "  <svg xmlns=\"http://www.w3.org/2000/svg\" height=\"24px\" viewBox=\"0 -960 960 960\">\n",
              "    <path d=\"M120-120v-720h720v720H120Zm60-500h600v-160H180v160Zm220 220h160v-160H400v160Zm0 220h160v-160H400v160ZM180-400h160v-160H180v160Zm440 0h160v-160H620v160ZM180-180h160v-160H180v160Zm440 0h160v-160H620v160Z\"/>\n",
              "  </svg>\n",
              "    </button>\n",
              "\n",
              "  <style>\n",
              "    .colab-df-container {\n",
              "      display:flex;\n",
              "      gap: 12px;\n",
              "    }\n",
              "\n",
              "    .colab-df-convert {\n",
              "      background-color: #E8F0FE;\n",
              "      border: none;\n",
              "      border-radius: 50%;\n",
              "      cursor: pointer;\n",
              "      display: none;\n",
              "      fill: #1967D2;\n",
              "      height: 32px;\n",
              "      padding: 0 0 0 0;\n",
              "      width: 32px;\n",
              "    }\n",
              "\n",
              "    .colab-df-convert:hover {\n",
              "      background-color: #E2EBFA;\n",
              "      box-shadow: 0px 1px 2px rgba(60, 64, 67, 0.3), 0px 1px 3px 1px rgba(60, 64, 67, 0.15);\n",
              "      fill: #174EA6;\n",
              "    }\n",
              "\n",
              "    .colab-df-buttons div {\n",
              "      margin-bottom: 4px;\n",
              "    }\n",
              "\n",
              "    [theme=dark] .colab-df-convert {\n",
              "      background-color: #3B4455;\n",
              "      fill: #D2E3FC;\n",
              "    }\n",
              "\n",
              "    [theme=dark] .colab-df-convert:hover {\n",
              "      background-color: #434B5C;\n",
              "      box-shadow: 0px 1px 3px 1px rgba(0, 0, 0, 0.15);\n",
              "      filter: drop-shadow(0px 1px 2px rgba(0, 0, 0, 0.3));\n",
              "      fill: #FFFFFF;\n",
              "    }\n",
              "  </style>\n",
              "\n",
              "    <script>\n",
              "      const buttonEl =\n",
              "        document.querySelector('#df-a8d95414-ef6d-4fe9-9e52-76c2795e3fdf button.colab-df-convert');\n",
              "      buttonEl.style.display =\n",
              "        google.colab.kernel.accessAllowed ? 'block' : 'none';\n",
              "\n",
              "      async function convertToInteractive(key) {\n",
              "        const element = document.querySelector('#df-a8d95414-ef6d-4fe9-9e52-76c2795e3fdf');\n",
              "        const dataTable =\n",
              "          await google.colab.kernel.invokeFunction('convertToInteractive',\n",
              "                                                    [key], {});\n",
              "        if (!dataTable) return;\n",
              "\n",
              "        const docLinkHtml = 'Like what you see? Visit the ' +\n",
              "          '<a target=\"_blank\" href=https://colab.research.google.com/notebooks/data_table.ipynb>data table notebook</a>'\n",
              "          + ' to learn more about interactive tables.';\n",
              "        element.innerHTML = '';\n",
              "        dataTable['output_type'] = 'display_data';\n",
              "        await google.colab.output.renderOutput(dataTable, element);\n",
              "        const docLink = document.createElement('div');\n",
              "        docLink.innerHTML = docLinkHtml;\n",
              "        element.appendChild(docLink);\n",
              "      }\n",
              "    </script>\n",
              "  </div>\n",
              "\n",
              "    </div>\n",
              "  </div>\n"
            ],
            "application/vnd.google.colaboratory.intrinsic+json": {
              "type": "dataframe",
              "variable_name": "result",
              "summary": "{\n  \"name\": \"result\",\n  \"rows\": 1,\n  \"fields\": [\n    {\n      \"column\": \"timestamp\",\n      \"properties\": {\n        \"dtype\": \"date\",\n        \"min\": \"2017-01-05 00:00:00\",\n        \"max\": \"2017-01-05 00:00:00\",\n        \"num_unique_values\": 1,\n        \"samples\": [\n          \"2017-01-05 00:00:00\"\n        ],\n        \"semantic_type\": \"\",\n        \"description\": \"\"\n      }\n    },\n    {\n      \"column\": \"group\",\n      \"properties\": {\n        \"dtype\": \"string\",\n        \"num_unique_values\": 1,\n        \"samples\": [\n          \"A\"\n        ],\n        \"semantic_type\": \"\",\n        \"description\": \"\"\n      }\n    },\n    {\n      \"column\": \"users_count\",\n      \"properties\": {\n        \"dtype\": \"number\",\n        \"std\": null,\n        \"min\": 6419,\n        \"max\": 6419,\n        \"num_unique_values\": 1,\n        \"samples\": [\n          6419\n        ],\n        \"semantic_type\": \"\",\n        \"description\": \"\"\n      }\n    },\n    {\n      \"column\": \"converted\",\n      \"properties\": {\n        \"dtype\": \"number\",\n        \"std\": null,\n        \"min\": 791,\n        \"max\": 791,\n        \"num_unique_values\": 1,\n        \"samples\": [\n          791\n        ],\n        \"semantic_type\": \"\",\n        \"description\": \"\"\n      }\n    },\n    {\n      \"column\": \"conversion\",\n      \"properties\": {\n        \"dtype\": \"number\",\n        \"std\": null,\n        \"min\": 12.322791712104689,\n        \"max\": 12.322791712104689,\n        \"num_unique_values\": 1,\n        \"samples\": [\n          12.322791712104689\n        ],\n        \"semantic_type\": \"\",\n        \"description\": \"\"\n      }\n    }\n  ]\n}"
            }
          },
          "metadata": {},
          "execution_count": 8
        }
      ]
    },
    {
      "cell_type": "code",
      "source": [
        "display(daily_data.head())"
      ],
      "metadata": {
        "colab": {
          "base_uri": "https://localhost:8080/",
          "height": 206
        },
        "id": "kKxy066oq3X5",
        "outputId": "e7657968-5cec-4060-b72b-b302c2eac75f"
      },
      "execution_count": 9,
      "outputs": [
        {
          "output_type": "display_data",
          "data": {
            "text/plain": [
              "   timestamp group  users_count  converted  conversion\n",
              "0 2017-01-02     A         2851        357   12.521922\n",
              "1 2017-01-02     B         2848        339   11.903090\n",
              "2 2017-01-03     A         6584        749   11.376063\n",
              "3 2017-01-03     B         6620        754   11.389728\n",
              "4 2017-01-04     A         6573        797   12.125361"
            ],
            "text/html": [
              "\n",
              "  <div id=\"df-b9c82b20-768f-4f0e-8438-693c5197d3dc\" class=\"colab-df-container\">\n",
              "    <div>\n",
              "<style scoped>\n",
              "    .dataframe tbody tr th:only-of-type {\n",
              "        vertical-align: middle;\n",
              "    }\n",
              "\n",
              "    .dataframe tbody tr th {\n",
              "        vertical-align: top;\n",
              "    }\n",
              "\n",
              "    .dataframe thead th {\n",
              "        text-align: right;\n",
              "    }\n",
              "</style>\n",
              "<table border=\"1\" class=\"dataframe\">\n",
              "  <thead>\n",
              "    <tr style=\"text-align: right;\">\n",
              "      <th></th>\n",
              "      <th>timestamp</th>\n",
              "      <th>group</th>\n",
              "      <th>users_count</th>\n",
              "      <th>converted</th>\n",
              "      <th>conversion</th>\n",
              "    </tr>\n",
              "  </thead>\n",
              "  <tbody>\n",
              "    <tr>\n",
              "      <th>0</th>\n",
              "      <td>2017-01-02</td>\n",
              "      <td>A</td>\n",
              "      <td>2851</td>\n",
              "      <td>357</td>\n",
              "      <td>12.521922</td>\n",
              "    </tr>\n",
              "    <tr>\n",
              "      <th>1</th>\n",
              "      <td>2017-01-02</td>\n",
              "      <td>B</td>\n",
              "      <td>2848</td>\n",
              "      <td>339</td>\n",
              "      <td>11.903090</td>\n",
              "    </tr>\n",
              "    <tr>\n",
              "      <th>2</th>\n",
              "      <td>2017-01-03</td>\n",
              "      <td>A</td>\n",
              "      <td>6584</td>\n",
              "      <td>749</td>\n",
              "      <td>11.376063</td>\n",
              "    </tr>\n",
              "    <tr>\n",
              "      <th>3</th>\n",
              "      <td>2017-01-03</td>\n",
              "      <td>B</td>\n",
              "      <td>6620</td>\n",
              "      <td>754</td>\n",
              "      <td>11.389728</td>\n",
              "    </tr>\n",
              "    <tr>\n",
              "      <th>4</th>\n",
              "      <td>2017-01-04</td>\n",
              "      <td>A</td>\n",
              "      <td>6573</td>\n",
              "      <td>797</td>\n",
              "      <td>12.125361</td>\n",
              "    </tr>\n",
              "  </tbody>\n",
              "</table>\n",
              "</div>\n",
              "    <div class=\"colab-df-buttons\">\n",
              "\n",
              "  <div class=\"colab-df-container\">\n",
              "    <button class=\"colab-df-convert\" onclick=\"convertToInteractive('df-b9c82b20-768f-4f0e-8438-693c5197d3dc')\"\n",
              "            title=\"Convert this dataframe to an interactive table.\"\n",
              "            style=\"display:none;\">\n",
              "\n",
              "  <svg xmlns=\"http://www.w3.org/2000/svg\" height=\"24px\" viewBox=\"0 -960 960 960\">\n",
              "    <path d=\"M120-120v-720h720v720H120Zm60-500h600v-160H180v160Zm220 220h160v-160H400v160Zm0 220h160v-160H400v160ZM180-400h160v-160H180v160Zm440 0h160v-160H620v160ZM180-180h160v-160H180v160Zm440 0h160v-160H620v160Z\"/>\n",
              "  </svg>\n",
              "    </button>\n",
              "\n",
              "  <style>\n",
              "    .colab-df-container {\n",
              "      display:flex;\n",
              "      gap: 12px;\n",
              "    }\n",
              "\n",
              "    .colab-df-convert {\n",
              "      background-color: #E8F0FE;\n",
              "      border: none;\n",
              "      border-radius: 50%;\n",
              "      cursor: pointer;\n",
              "      display: none;\n",
              "      fill: #1967D2;\n",
              "      height: 32px;\n",
              "      padding: 0 0 0 0;\n",
              "      width: 32px;\n",
              "    }\n",
              "\n",
              "    .colab-df-convert:hover {\n",
              "      background-color: #E2EBFA;\n",
              "      box-shadow: 0px 1px 2px rgba(60, 64, 67, 0.3), 0px 1px 3px 1px rgba(60, 64, 67, 0.15);\n",
              "      fill: #174EA6;\n",
              "    }\n",
              "\n",
              "    .colab-df-buttons div {\n",
              "      margin-bottom: 4px;\n",
              "    }\n",
              "\n",
              "    [theme=dark] .colab-df-convert {\n",
              "      background-color: #3B4455;\n",
              "      fill: #D2E3FC;\n",
              "    }\n",
              "\n",
              "    [theme=dark] .colab-df-convert:hover {\n",
              "      background-color: #434B5C;\n",
              "      box-shadow: 0px 1px 3px 1px rgba(0, 0, 0, 0.15);\n",
              "      filter: drop-shadow(0px 1px 2px rgba(0, 0, 0, 0.3));\n",
              "      fill: #FFFFFF;\n",
              "    }\n",
              "  </style>\n",
              "\n",
              "    <script>\n",
              "      const buttonEl =\n",
              "        document.querySelector('#df-b9c82b20-768f-4f0e-8438-693c5197d3dc button.colab-df-convert');\n",
              "      buttonEl.style.display =\n",
              "        google.colab.kernel.accessAllowed ? 'block' : 'none';\n",
              "\n",
              "      async function convertToInteractive(key) {\n",
              "        const element = document.querySelector('#df-b9c82b20-768f-4f0e-8438-693c5197d3dc');\n",
              "        const dataTable =\n",
              "          await google.colab.kernel.invokeFunction('convertToInteractive',\n",
              "                                                    [key], {});\n",
              "        if (!dataTable) return;\n",
              "\n",
              "        const docLinkHtml = 'Like what you see? Visit the ' +\n",
              "          '<a target=\"_blank\" href=https://colab.research.google.com/notebooks/data_table.ipynb>data table notebook</a>'\n",
              "          + ' to learn more about interactive tables.';\n",
              "        element.innerHTML = '';\n",
              "        dataTable['output_type'] = 'display_data';\n",
              "        await google.colab.output.renderOutput(dataTable, element);\n",
              "        const docLink = document.createElement('div');\n",
              "        docLink.innerHTML = docLinkHtml;\n",
              "        element.appendChild(docLink);\n",
              "      }\n",
              "    </script>\n",
              "  </div>\n",
              "\n",
              "\n",
              "<div id=\"df-d83b4261-93c2-4312-aca0-c1aff974f527\">\n",
              "  <button class=\"colab-df-quickchart\" onclick=\"quickchart('df-d83b4261-93c2-4312-aca0-c1aff974f527')\"\n",
              "            title=\"Suggest charts\"\n",
              "            style=\"display:none;\">\n",
              "\n",
              "<svg xmlns=\"http://www.w3.org/2000/svg\" height=\"24px\"viewBox=\"0 0 24 24\"\n",
              "     width=\"24px\">\n",
              "    <g>\n",
              "        <path d=\"M19 3H5c-1.1 0-2 .9-2 2v14c0 1.1.9 2 2 2h14c1.1 0 2-.9 2-2V5c0-1.1-.9-2-2-2zM9 17H7v-7h2v7zm4 0h-2V7h2v10zm4 0h-2v-4h2v4z\"/>\n",
              "    </g>\n",
              "</svg>\n",
              "  </button>\n",
              "\n",
              "<style>\n",
              "  .colab-df-quickchart {\n",
              "      --bg-color: #E8F0FE;\n",
              "      --fill-color: #1967D2;\n",
              "      --hover-bg-color: #E2EBFA;\n",
              "      --hover-fill-color: #174EA6;\n",
              "      --disabled-fill-color: #AAA;\n",
              "      --disabled-bg-color: #DDD;\n",
              "  }\n",
              "\n",
              "  [theme=dark] .colab-df-quickchart {\n",
              "      --bg-color: #3B4455;\n",
              "      --fill-color: #D2E3FC;\n",
              "      --hover-bg-color: #434B5C;\n",
              "      --hover-fill-color: #FFFFFF;\n",
              "      --disabled-bg-color: #3B4455;\n",
              "      --disabled-fill-color: #666;\n",
              "  }\n",
              "\n",
              "  .colab-df-quickchart {\n",
              "    background-color: var(--bg-color);\n",
              "    border: none;\n",
              "    border-radius: 50%;\n",
              "    cursor: pointer;\n",
              "    display: none;\n",
              "    fill: var(--fill-color);\n",
              "    height: 32px;\n",
              "    padding: 0;\n",
              "    width: 32px;\n",
              "  }\n",
              "\n",
              "  .colab-df-quickchart:hover {\n",
              "    background-color: var(--hover-bg-color);\n",
              "    box-shadow: 0 1px 2px rgba(60, 64, 67, 0.3), 0 1px 3px 1px rgba(60, 64, 67, 0.15);\n",
              "    fill: var(--button-hover-fill-color);\n",
              "  }\n",
              "\n",
              "  .colab-df-quickchart-complete:disabled,\n",
              "  .colab-df-quickchart-complete:disabled:hover {\n",
              "    background-color: var(--disabled-bg-color);\n",
              "    fill: var(--disabled-fill-color);\n",
              "    box-shadow: none;\n",
              "  }\n",
              "\n",
              "  .colab-df-spinner {\n",
              "    border: 2px solid var(--fill-color);\n",
              "    border-color: transparent;\n",
              "    border-bottom-color: var(--fill-color);\n",
              "    animation:\n",
              "      spin 1s steps(1) infinite;\n",
              "  }\n",
              "\n",
              "  @keyframes spin {\n",
              "    0% {\n",
              "      border-color: transparent;\n",
              "      border-bottom-color: var(--fill-color);\n",
              "      border-left-color: var(--fill-color);\n",
              "    }\n",
              "    20% {\n",
              "      border-color: transparent;\n",
              "      border-left-color: var(--fill-color);\n",
              "      border-top-color: var(--fill-color);\n",
              "    }\n",
              "    30% {\n",
              "      border-color: transparent;\n",
              "      border-left-color: var(--fill-color);\n",
              "      border-top-color: var(--fill-color);\n",
              "      border-right-color: var(--fill-color);\n",
              "    }\n",
              "    40% {\n",
              "      border-color: transparent;\n",
              "      border-right-color: var(--fill-color);\n",
              "      border-top-color: var(--fill-color);\n",
              "    }\n",
              "    60% {\n",
              "      border-color: transparent;\n",
              "      border-right-color: var(--fill-color);\n",
              "    }\n",
              "    80% {\n",
              "      border-color: transparent;\n",
              "      border-right-color: var(--fill-color);\n",
              "      border-bottom-color: var(--fill-color);\n",
              "    }\n",
              "    90% {\n",
              "      border-color: transparent;\n",
              "      border-bottom-color: var(--fill-color);\n",
              "    }\n",
              "  }\n",
              "</style>\n",
              "\n",
              "  <script>\n",
              "    async function quickchart(key) {\n",
              "      const quickchartButtonEl =\n",
              "        document.querySelector('#' + key + ' button');\n",
              "      quickchartButtonEl.disabled = true;  // To prevent multiple clicks.\n",
              "      quickchartButtonEl.classList.add('colab-df-spinner');\n",
              "      try {\n",
              "        const charts = await google.colab.kernel.invokeFunction(\n",
              "            'suggestCharts', [key], {});\n",
              "      } catch (error) {\n",
              "        console.error('Error during call to suggestCharts:', error);\n",
              "      }\n",
              "      quickchartButtonEl.classList.remove('colab-df-spinner');\n",
              "      quickchartButtonEl.classList.add('colab-df-quickchart-complete');\n",
              "    }\n",
              "    (() => {\n",
              "      let quickchartButtonEl =\n",
              "        document.querySelector('#df-d83b4261-93c2-4312-aca0-c1aff974f527 button');\n",
              "      quickchartButtonEl.style.display =\n",
              "        google.colab.kernel.accessAllowed ? 'block' : 'none';\n",
              "    })();\n",
              "  </script>\n",
              "</div>\n",
              "    </div>\n",
              "  </div>\n"
            ],
            "application/vnd.google.colaboratory.intrinsic+json": {
              "type": "dataframe",
              "summary": "{\n  \"name\": \"display(daily_data\",\n  \"rows\": 5,\n  \"fields\": [\n    {\n      \"column\": \"timestamp\",\n      \"properties\": {\n        \"dtype\": \"date\",\n        \"min\": \"2017-01-02 00:00:00\",\n        \"max\": \"2017-01-04 00:00:00\",\n        \"num_unique_values\": 3,\n        \"samples\": [\n          \"2017-01-02 00:00:00\",\n          \"2017-01-03 00:00:00\",\n          \"2017-01-04 00:00:00\"\n        ],\n        \"semantic_type\": \"\",\n        \"description\": \"\"\n      }\n    },\n    {\n      \"column\": \"group\",\n      \"properties\": {\n        \"dtype\": \"category\",\n        \"num_unique_values\": 2,\n        \"samples\": [\n          \"B\",\n          \"A\"\n        ],\n        \"semantic_type\": \"\",\n        \"description\": \"\"\n      }\n    },\n    {\n      \"column\": \"users_count\",\n      \"properties\": {\n        \"dtype\": \"number\",\n        \"std\": 2050,\n        \"min\": 2848,\n        \"max\": 6620,\n        \"num_unique_values\": 5,\n        \"samples\": [\n          2848,\n          6573\n        ],\n        \"semantic_type\": \"\",\n        \"description\": \"\"\n      }\n    },\n    {\n      \"column\": \"converted\",\n      \"properties\": {\n        \"dtype\": \"number\",\n        \"std\": 230,\n        \"min\": 339,\n        \"max\": 797,\n        \"num_unique_values\": 5,\n        \"samples\": [\n          339,\n          797\n        ],\n        \"semantic_type\": \"\",\n        \"description\": \"\"\n      }\n    },\n    {\n      \"column\": \"conversion\",\n      \"properties\": {\n        \"dtype\": \"number\",\n        \"std\": 0.49135336777842714,\n        \"min\": 11.376063183475091,\n        \"max\": 12.52192213258506,\n        \"num_unique_values\": 5,\n        \"samples\": [\n          11.90308988764045,\n          12.125361326639283\n        ],\n        \"semantic_type\": \"\",\n        \"description\": \"\"\n      }\n    }\n  ]\n}"
            }
          },
          "metadata": {}
        }
      ]
    },
    {
      "cell_type": "markdown",
      "source": [
        "# ВИЗУАЛЬНЫЙ АНАЛИЗ КОНВЕРСИИ В ГРУППАХ"
      ],
      "metadata": {
        "id": "1CH1mB35sc53"
      }
    },
    {
      "cell_type": "markdown",
      "source": [
        "Нам необходимо ответить на вопрос: в какой группе (А или B) показатель конверсии был выше, и на этой основе принять решение о том, какой из вариантов более эффективный.\n",
        "\n",
        "Давайте построим диаграмму boxplot для сравнения параметров распределения ежедневной конверсии по группам."
      ],
      "metadata": {
        "id": "JOckSzSMsfZ_"
      }
    },
    {
      "cell_type": "code",
      "source": [
        "# создаём фигуру размером 8x4\n",
        "fig = plt.figure(figsize=(8, 4))\n",
        "# добавляем систему координат\n",
        "ax = fig.add_axes([1, 1, 1, 1])\n",
        "# строим boxplot для conversion по признаку group\n",
        "sns.boxplot(data=daily_data, x='conversion', y='group', ax=ax)\n",
        "# задаём подпись к графику\n",
        "ax.set_title('Сравнение конверсии в группах')\n",
        "# задаём отображение сетки\n",
        "ax.grid(True);"
      ],
      "metadata": {
        "colab": {
          "base_uri": "https://localhost:8080/",
          "height": 502
        },
        "id": "0mJYfAljsg_o",
        "outputId": "3e0f508f-79a9-43b1-f84f-fc44b2e52767"
      },
      "execution_count": 10,
      "outputs": [
        {
          "output_type": "display_data",
          "data": {
            "text/plain": [
              "<Figure size 800x400 with 1 Axes>"
            ],
            "image/png": "[encoded data removed]"
          },
          "metadata": {}
        }
      ]
    },
    {
      "cell_type": "markdown",
      "source": [
        "Что можно сказать исходя из этого графика? Во-первых, медианное значение ежедневной конверсии в группе А, выше, чем в группе B. Во-вторых, разброс конверсии в группе B несколько больше, чем в группе A."
      ],
      "metadata": {
        "id": "HhbZF_pQtzEb"
      }
    },
    {
      "cell_type": "markdown",
      "source": [
        "Примечание. Прежде чем делать выводы по визуальному представлению данных, всегда обращайте внимание на численные значения показателей. Они могут различаться в масштабе графика, но на практике разница между ними не будет иметь значения. Также всегда стоит убедиться, что в данных нет выбросов (базовый вариант — сравнить медиану и среднее между собой). Далее мы ещё поговорим о стабилизации показателя во времени."
      ],
      "metadata": {
        "id": "QXyPPbo3t6Nj"
      }
    },
    {
      "cell_type": "markdown",
      "source": [
        "Давайте вычислим средний и медианный показатель конверсии в контрольной и тестовой группе и умножим результат на 100 (получим результат в процентах):"
      ],
      "metadata": {
        "id": "gvztW4KhuWrI"
      }
    },
    {
      "cell_type": "code",
      "source": [
        "conversion_piv = daily_data.groupby('group')['conversion'].agg(\n",
        "    ['mean', 'median']\n",
        ")\n",
        "display(conversion_piv)"
      ],
      "metadata": {
        "colab": {
          "base_uri": "https://localhost:8080/",
          "height": 143
        },
        "id": "c7e-wGwHuYhQ",
        "outputId": "cda05c78-1ba3-4e1a-faec-1417490c15b4"
      },
      "execution_count": 11,
      "outputs": [
        {
          "output_type": "display_data",
          "data": {
            "text/plain": [
              "            mean     median\n",
              "group                      \n",
              "A      12.032876  12.024261\n",
              "B      11.872697  11.829582"
            ],
            "text/html": [
              "\n",
              "  <div id=\"df-13ad050e-9745-4257-9032-8b6c85f4efdd\" class=\"colab-df-container\">\n",
              "    <div>\n",
              "<style scoped>\n",
              "    .dataframe tbody tr th:only-of-type {\n",
              "        vertical-align: middle;\n",
              "    }\n",
              "\n",
              "    .dataframe tbody tr th {\n",
              "        vertical-align: top;\n",
              "    }\n",
              "\n",
              "    .dataframe thead th {\n",
              "        text-align: right;\n",
              "    }\n",
              "</style>\n",
              "<table border=\"1\" class=\"dataframe\">\n",
              "  <thead>\n",
              "    <tr style=\"text-align: right;\">\n",
              "      <th></th>\n",
              "      <th>mean</th>\n",
              "      <th>median</th>\n",
              "    </tr>\n",
              "    <tr>\n",
              "      <th>group</th>\n",
              "      <th></th>\n",
              "      <th></th>\n",
              "    </tr>\n",
              "  </thead>\n",
              "  <tbody>\n",
              "    <tr>\n",
              "      <th>A</th>\n",
              "      <td>12.032876</td>\n",
              "      <td>12.024261</td>\n",
              "    </tr>\n",
              "    <tr>\n",
              "      <th>B</th>\n",
              "      <td>11.872697</td>\n",
              "      <td>11.829582</td>\n",
              "    </tr>\n",
              "  </tbody>\n",
              "</table>\n",
              "</div>\n",
              "    <div class=\"colab-df-buttons\">\n",
              "\n",
              "  <div class=\"colab-df-container\">\n",
              "    <button class=\"colab-df-convert\" onclick=\"convertToInteractive('df-13ad050e-9745-4257-9032-8b6c85f4efdd')\"\n",
              "            title=\"Convert this dataframe to an interactive table.\"\n",
              "            style=\"display:none;\">\n",
              "\n",
              "  <svg xmlns=\"http://www.w3.org/2000/svg\" height=\"24px\" viewBox=\"0 -960 960 960\">\n",
              "    <path d=\"M120-120v-720h720v720H120Zm60-500h600v-160H180v160Zm220 220h160v-160H400v160Zm0 220h160v-160H400v160ZM180-400h160v-160H180v160Zm440 0h160v-160H620v160ZM180-180h160v-160H180v160Zm440 0h160v-160H620v160Z\"/>\n",
              "  </svg>\n",
              "    </button>\n",
              "\n",
              "  <style>\n",
              "    .colab-df-container {\n",
              "      display:flex;\n",
              "      gap: 12px;\n",
              "    }\n",
              "\n",
              "    .colab-df-convert {\n",
              "      background-color: #E8F0FE;\n",
              "      border: none;\n",
              "      border-radius: 50%;\n",
              "      cursor: pointer;\n",
              "      display: none;\n",
              "      fill: #1967D2;\n",
              "      height: 32px;\n",
              "      padding: 0 0 0 0;\n",
              "      width: 32px;\n",
              "    }\n",
              "\n",
              "    .colab-df-convert:hover {\n",
              "      background-color: #E2EBFA;\n",
              "      box-shadow: 0px 1px 2px rgba(60, 64, 67, 0.3), 0px 1px 3px 1px rgba(60, 64, 67, 0.15);\n",
              "      fill: #174EA6;\n",
              "    }\n",
              "\n",
              "    .colab-df-buttons div {\n",
              "      margin-bottom: 4px;\n",
              "    }\n",
              "\n",
              "    [theme=dark] .colab-df-convert {\n",
              "      background-color: #3B4455;\n",
              "      fill: #D2E3FC;\n",
              "    }\n",
              "\n",
              "    [theme=dark] .colab-df-convert:hover {\n",
              "      background-color: #434B5C;\n",
              "      box-shadow: 0px 1px 3px 1px rgba(0, 0, 0, 0.15);\n",
              "      filter: drop-shadow(0px 1px 2px rgba(0, 0, 0, 0.3));\n",
              "      fill: #FFFFFF;\n",
              "    }\n",
              "  </style>\n",
              "\n",
              "    <script>\n",
              "      const buttonEl =\n",
              "        document.querySelector('#df-13ad050e-9745-4257-9032-8b6c85f4efdd button.colab-df-convert');\n",
              "      buttonEl.style.display =\n",
              "        google.colab.kernel.accessAllowed ? 'block' : 'none';\n",
              "\n",
              "      async function convertToInteractive(key) {\n",
              "        const element = document.querySelector('#df-13ad050e-9745-4257-9032-8b6c85f4efdd');\n",
              "        const dataTable =\n",
              "          await google.colab.kernel.invokeFunction('convertToInteractive',\n",
              "                                                    [key], {});\n",
              "        if (!dataTable) return;\n",
              "\n",
              "        const docLinkHtml = 'Like what you see? Visit the ' +\n",
              "          '<a target=\"_blank\" href=https://colab.research.google.com/notebooks/data_table.ipynb>data table notebook</a>'\n",
              "          + ' to learn more about interactive tables.';\n",
              "        element.innerHTML = '';\n",
              "        dataTable['output_type'] = 'display_data';\n",
              "        await google.colab.output.renderOutput(dataTable, element);\n",
              "        const docLink = document.createElement('div');\n",
              "        docLink.innerHTML = docLinkHtml;\n",
              "        element.appendChild(docLink);\n",
              "      }\n",
              "    </script>\n",
              "  </div>\n",
              "\n",
              "\n",
              "<div id=\"df-9e4d9675-54e3-4b16-84d2-cac0659455b2\">\n",
              "  <button class=\"colab-df-quickchart\" onclick=\"quickchart('df-9e4d9675-54e3-4b16-84d2-cac0659455b2')\"\n",
              "            title=\"Suggest charts\"\n",
              "            style=\"display:none;\">\n",
              "\n",
              "<svg xmlns=\"http://www.w3.org/2000/svg\" height=\"24px\"viewBox=\"0 0 24 24\"\n",
              "     width=\"24px\">\n",
              "    <g>\n",
              "        <path d=\"M19 3H5c-1.1 0-2 .9-2 2v14c0 1.1.9 2 2 2h14c1.1 0 2-.9 2-2V5c0-1.1-.9-2-2-2zM9 17H7v-7h2v7zm4 0h-2V7h2v10zm4 0h-2v-4h2v4z\"/>\n",
              "    </g>\n",
              "</svg>\n",
              "  </button>\n",
              "\n",
              "<style>\n",
              "  .colab-df-quickchart {\n",
              "      --bg-color: #E8F0FE;\n",
              "      --fill-color: #1967D2;\n",
              "      --hover-bg-color: #E2EBFA;\n",
              "      --hover-fill-color: #174EA6;\n",
              "      --disabled-fill-color: #AAA;\n",
              "      --disabled-bg-color: #DDD;\n",
              "  }\n",
              "\n",
              "  [theme=dark] .colab-df-quickchart {\n",
              "      --bg-color: #3B4455;\n",
              "      --fill-color: #D2E3FC;\n",
              "      --hover-bg-color: #434B5C;\n",
              "      --hover-fill-color: #FFFFFF;\n",
              "      --disabled-bg-color: #3B4455;\n",
              "      --disabled-fill-color: #666;\n",
              "  }\n",
              "\n",
              "  .colab-df-quickchart {\n",
              "    background-color: var(--bg-color);\n",
              "    border: none;\n",
              "    border-radius: 50%;\n",
              "    cursor: pointer;\n",
              "    display: none;\n",
              "    fill: var(--fill-color);\n",
              "    height: 32px;\n",
              "    padding: 0;\n",
              "    width: 32px;\n",
              "  }\n",
              "\n",
              "  .colab-df-quickchart:hover {\n",
              "    background-color: var(--hover-bg-color);\n",
              "    box-shadow: 0 1px 2px rgba(60, 64, 67, 0.3), 0 1px 3px 1px rgba(60, 64, 67, 0.15);\n",
              "    fill: var(--button-hover-fill-color);\n",
              "  }\n",
              "\n",
              "  .colab-df-quickchart-complete:disabled,\n",
              "  .colab-df-quickchart-complete:disabled:hover {\n",
              "    background-color: var(--disabled-bg-color);\n",
              "    fill: var(--disabled-fill-color);\n",
              "    box-shadow: none;\n",
              "  }\n",
              "\n",
              "  .colab-df-spinner {\n",
              "    border: 2px solid var(--fill-color);\n",
              "    border-color: transparent;\n",
              "    border-bottom-color: var(--fill-color);\n",
              "    animation:\n",
              "      spin 1s steps(1) infinite;\n",
              "  }\n",
              "\n",
              "  @keyframes spin {\n",
              "    0% {\n",
              "      border-color: transparent;\n",
              "      border-bottom-color: var(--fill-color);\n",
              "      border-left-color: var(--fill-color);\n",
              "    }\n",
              "    20% {\n",
              "      border-color: transparent;\n",
              "      border-left-color: var(--fill-color);\n",
              "      border-top-color: var(--fill-color);\n",
              "    }\n",
              "    30% {\n",
              "      border-color: transparent;\n",
              "      border-left-color: var(--fill-color);\n",
              "      border-top-color: var(--fill-color);\n",
              "      border-right-color: var(--fill-color);\n",
              "    }\n",
              "    40% {\n",
              "      border-color: transparent;\n",
              "      border-right-color: var(--fill-color);\n",
              "      border-top-color: var(--fill-color);\n",
              "    }\n",
              "    60% {\n",
              "      border-color: transparent;\n",
              "      border-right-color: var(--fill-color);\n",
              "    }\n",
              "    80% {\n",
              "      border-color: transparent;\n",
              "      border-right-color: var(--fill-color);\n",
              "      border-bottom-color: var(--fill-color);\n",
              "    }\n",
              "    90% {\n",
              "      border-color: transparent;\n",
              "      border-bottom-color: var(--fill-color);\n",
              "    }\n",
              "  }\n",
              "</style>\n",
              "\n",
              "  <script>\n",
              "    async function quickchart(key) {\n",
              "      const quickchartButtonEl =\n",
              "        document.querySelector('#' + key + ' button');\n",
              "      quickchartButtonEl.disabled = true;  // To prevent multiple clicks.\n",
              "      quickchartButtonEl.classList.add('colab-df-spinner');\n",
              "      try {\n",
              "        const charts = await google.colab.kernel.invokeFunction(\n",
              "            'suggestCharts', [key], {});\n",
              "      } catch (error) {\n",
              "        console.error('Error during call to suggestCharts:', error);\n",
              "      }\n",
              "      quickchartButtonEl.classList.remove('colab-df-spinner');\n",
              "      quickchartButtonEl.classList.add('colab-df-quickchart-complete');\n",
              "    }\n",
              "    (() => {\n",
              "      let quickchartButtonEl =\n",
              "        document.querySelector('#df-9e4d9675-54e3-4b16-84d2-cac0659455b2 button');\n",
              "      quickchartButtonEl.style.display =\n",
              "        google.colab.kernel.accessAllowed ? 'block' : 'none';\n",
              "    })();\n",
              "  </script>\n",
              "</div>\n",
              "    </div>\n",
              "  </div>\n"
            ],
            "application/vnd.google.colaboratory.intrinsic+json": {
              "type": "dataframe",
              "variable_name": "conversion_piv",
              "summary": "{\n  \"name\": \"conversion_piv\",\n  \"rows\": 2,\n  \"fields\": [\n    {\n      \"column\": \"group\",\n      \"properties\": {\n        \"dtype\": \"string\",\n        \"num_unique_values\": 2,\n        \"samples\": [\n          \"B\",\n          \"A\"\n        ],\n        \"semantic_type\": \"\",\n        \"description\": \"\"\n      }\n    },\n    {\n      \"column\": \"mean\",\n      \"properties\": {\n        \"dtype\": \"number\",\n        \"std\": 0.11326338499551511,\n        \"min\": 11.872697286282133,\n        \"max\": 12.032875901463076,\n        \"num_unique_values\": 2,\n        \"samples\": [\n          11.872697286282133,\n          12.032875901463076\n        ],\n        \"semantic_type\": \"\",\n        \"description\": \"\"\n      }\n    },\n    {\n      \"column\": \"median\",\n      \"properties\": {\n        \"dtype\": \"number\",\n        \"std\": 0.13765905025816072,\n        \"min\": 11.829581507780631,\n        \"max\": 12.024260803639121,\n        \"num_unique_values\": 2,\n        \"samples\": [\n          11.829581507780631,\n          12.024260803639121\n        ],\n        \"semantic_type\": \"\",\n        \"description\": \"\"\n      }\n    }\n  ]\n}"
            }
          },
          "metadata": {}
        }
      ]
    },
    {
      "cell_type": "markdown",
      "source": [
        "Из полученной таблицы видно, что медиана и среднее в каждой группе практически совпадают. При этом разница между показателями в группах менее 0.3 %!"
      ],
      "metadata": {
        "id": "hj0AhJ0Suig5"
      }
    },
    {
      "cell_type": "markdown",
      "source": [
        "Возникает вопрос: а значима ли вообще такая разница в показателях или она обусловлена случайностью, и варианты A и B одинаково эффективны по метрике конверсии?\n",
        "\n",
        "Прежде чем отвечать на этот вопрос, нам нужен ответ на другой вопрос: а стабилен ли показатель конверсии в группах во времени или он колеблется как «уж на сковородке»?"
      ],
      "metadata": {
        "id": "wyRnJixtuozK"
      }
    },
    {
      "cell_type": "markdown",
      "source": [
        "Примечание. Вопрос о стабильности метрик является обязательным. Прогонять результаты через статистические тесты можно только после того, как вы убедитесь, что разница в ваших показателях стабилизировалась во времени. Это связано с проблемой подглядывания, речь о которой пойдёт ниже.\n",
        "\n",
        "Тут нам помогут кумулятивные метрики."
      ],
      "metadata": {
        "id": "PY53W7W_uv5j"
      }
    },
    {
      "cell_type": "markdown",
      "source": [
        "# КУМУЛЯТИВНЫЕ МЕТРИКИ"
      ],
      "metadata": {
        "id": "ZPm1PiINuzD-"
      }
    },
    {
      "cell_type": "markdown",
      "source": [
        "Кумулятивная метрика — это отображение целевой метрики, когда вы отслеживаете её поведение за каждый день — накопленным итогом по дням."
      ],
      "metadata": {
        "id": "3oHCobmGvCgl"
      }
    },
    {
      "cell_type": "markdown",
      "source": [
        "Важно! Не стоит торопиться: как минимум дождитесь накопления запланированных объёмов выборки и длительности теста. Но и тут не стоит заканчивать тест — проверьте, стабилизировались ли метрики!\n",
        "\n",
        "То есть в начале теста любой полученный за день результат будет оказывать сильное влияние на результат теста. Но со временем данные будут накапливаться, и доля получаемых за день данных будет всё меньше и меньше воздействовать на уже накопленный результат."
      ],
      "metadata": {
        "id": "GrEUnfZXv8Am"
      }
    },
    {
      "cell_type": "markdown",
      "source": [
        "Примечание. Кумулятивная метрика считается стабилизированной, когда на графике прекращаются резкие пики и спады показателя, и линия постепенно выравнивается в горизонтальную прямую."
      ],
      "metadata": {
        "id": "W9NweYVVwSQZ"
      }
    },
    {
      "cell_type": "markdown",
      "source": [
        "Важно! Принимать какие-либо решения стоит только после того, как метрика стабилизируется! Согласно центральной предельной теореме и закону больших чисел, с увеличением объёма данных метрика стабилизируется и будет стремиться к реальному среднему."
      ],
      "metadata": {
        "id": "g7sbTMvtwVWh"
      }
    },
    {
      "cell_type": "markdown",
      "source": [
        "Примечание. В качестве кумулятивной метрики можно считать не только конверсию, но и выручку, средний чек, количество заказов, процент негативных комментариев, точность модели и так далее."
      ],
      "metadata": {
        "id": "_knvu9_fwa4C"
      }
    },
    {
      "cell_type": "markdown",
      "source": [
        "Итак, давайте применим новые знания к нашим данным и вычислим кумулятивную конверсию, а затем построим её график.\n",
        "\n",
        "Но для начала ради эксперимента посмотрим, как вообще изменялись показатели ежедневной конверсии в каждой группе во времени. Для этого построим линейные графики для каждой группы: по оси абсцисс отложим дату, а по оси ординат — показатель конверсии:"
      ],
      "metadata": {
        "id": "m6f0t2whwg1z"
      }
    },
    {
      "cell_type": "code",
      "source": [
        "# создаём фигуру размером 8x4\n",
        "fig = plt.figure(figsize=(8, 4))\n",
        "# добавляем систему координат\n",
        "ax = fig.add_axes([1, 1, 1, 1])\n",
        "# строим lineplot для конверсии во времени в каждой группе\n",
        "sns.lineplot(\n",
        "    data=daily_data,\n",
        "    x='timestamp',\n",
        "    y='conversion',\n",
        "    hue='group',\n",
        "    ax=ax\n",
        ")\n",
        "# задаём подпись к графику\n",
        "ax.set_title('График конверсии по дням')\n",
        "# задаём поворот меток на оси абсцисс\n",
        "ax.xaxis.set_tick_params(rotation=45)\n",
        "# задаём отображение сетки\n",
        "ax.grid(True);"
      ],
      "metadata": {
        "colab": {
          "base_uri": "https://localhost:8080/",
          "height": 555
        },
        "id": "e0rQ2kCkwhbL",
        "outputId": "97c9f192-c477-4c47-aa38-98c5cc04eab3"
      },
      "execution_count": 12,
      "outputs": [
        {
          "output_type": "display_data",
          "data": {
            "text/plain": [
              "<Figure size 800x400 with 1 Axes>"
            ],
            "image/png": "[encoded data removed]"
          },
          "metadata": {}
        }
      ]
    },
    {
      "cell_type": "markdown",
      "source": [
        "Что можно сказать по такому графику? Да практически ничего! Конверсия у обеих групп «скачет» день ото дня. Понять, какая из групп лучше, — практически невыполнимая задача.\n",
        "\n",
        "Именно поэтому и принято смотреть график кумулятивной конверсии, где за каждый день отображаются данные накопленным итогом.\n",
        "\n",
        "Для расчёта кумулятивного показателя суммы в Pandas есть специальный метод cumsum(). Давайте посмотрим, как он работает — сначала на данных о ежедневном количестве посетителей для группы А."
      ],
      "metadata": {
        "id": "xVAXkXctw1Q9"
      }
    },
    {
      "cell_type": "markdown",
      "source": [
        "Выберем данные для группы А и создадим в полученной таблице новый столбец cum_users_count, в который запишем результат работы метода cumsum() по столбцу users_count:"
      ],
      "metadata": {
        "id": "1hxbe1kZw9ef"
      }
    },
    {
      "cell_type": "code",
      "source": [
        "# выделяем данные группы А\n",
        "daily_data_a = daily_data[daily_data['group'] == 'A']\n",
        "# считаем кумулятивное количество посетителей\n",
        "daily_data_a.loc[:, 'cum_users_count'] = daily_data_a['users_count'].cumsum()\n",
        "# выводим время, количество посетителей и кумулятивное количество посетителей\n",
        "display(daily_data_a[['timestamp', 'users_count', 'cum_users_count']].head())"
      ],
      "metadata": {
        "colab": {
          "base_uri": "https://localhost:8080/",
          "height": 310
        },
        "id": "3oniDtelw_gn",
        "outputId": "db53b667-2435-4c02-f9c0-fc0bd79133bd"
      },
      "execution_count": 13,
      "outputs": [
        {
          "output_type": "stream",
          "name": "stderr",
          "text": [
            "<ipython-input-13-da614525bf09>:4: SettingWithCopyWarning: \n",
            "A value is trying to be set on a copy of a slice from a DataFrame.\n",
            "Try using .loc[row_indexer,col_indexer] = value instead\n",
            "\n",
            "See the caveats in the documentation: https://pandas.pydata.org/pandas-docs/stable/user_guide/indexing.html#returning-a-view-versus-a-copy\n",
            "  daily_data_a.loc[:, 'cum_users_count'] = daily_data_a['users_count'].cumsum()\n"
          ]
        },
        {
          "output_type": "display_data",
          "data": {
            "text/plain": [
              "   timestamp  users_count  cum_users_count\n",
              "0 2017-01-02         2851             2851\n",
              "2 2017-01-03         6584             9435\n",
              "4 2017-01-04         6573            16008\n",
              "6 2017-01-05         6419            22427\n",
              "8 2017-01-06         6604            29031"
            ],
            "text/html": [
              "\n",
              "  <div id=\"df-808f3d71-2e00-4fc8-a605-6d77d8b6bdcd\" class=\"colab-df-container\">\n",
              "    <div>\n",
              "<style scoped>\n",
              "    .dataframe tbody tr th:only-of-type {\n",
              "        vertical-align: middle;\n",
              "    }\n",
              "\n",
              "    .dataframe tbody tr th {\n",
              "        vertical-align: top;\n",
              "    }\n",
              "\n",
              "    .dataframe thead th {\n",
              "        text-align: right;\n",
              "    }\n",
              "</style>\n",
              "<table border=\"1\" class=\"dataframe\">\n",
              "  <thead>\n",
              "    <tr style=\"text-align: right;\">\n",
              "      <th></th>\n",
              "      <th>timestamp</th>\n",
              "      <th>users_count</th>\n",
              "      <th>cum_users_count</th>\n",
              "    </tr>\n",
              "  </thead>\n",
              "  <tbody>\n",
              "    <tr>\n",
              "      <th>0</th>\n",
              "      <td>2017-01-02</td>\n",
              "      <td>2851</td>\n",
              "      <td>2851</td>\n",
              "    </tr>\n",
              "    <tr>\n",
              "      <th>2</th>\n",
              "      <td>2017-01-03</td>\n",
              "      <td>6584</td>\n",
              "      <td>9435</td>\n",
              "    </tr>\n",
              "    <tr>\n",
              "      <th>4</th>\n",
              "      <td>2017-01-04</td>\n",
              "      <td>6573</td>\n",
              "      <td>16008</td>\n",
              "    </tr>\n",
              "    <tr>\n",
              "      <th>6</th>\n",
              "      <td>2017-01-05</td>\n",
              "      <td>6419</td>\n",
              "      <td>22427</td>\n",
              "    </tr>\n",
              "    <tr>\n",
              "      <th>8</th>\n",
              "      <td>2017-01-06</td>\n",
              "      <td>6604</td>\n",
              "      <td>29031</td>\n",
              "    </tr>\n",
              "  </tbody>\n",
              "</table>\n",
              "</div>\n",
              "    <div class=\"colab-df-buttons\">\n",
              "\n",
              "  <div class=\"colab-df-container\">\n",
              "    <button class=\"colab-df-convert\" onclick=\"convertToInteractive('df-808f3d71-2e00-4fc8-a605-6d77d8b6bdcd')\"\n",
              "            title=\"Convert this dataframe to an interactive table.\"\n",
              "            style=\"display:none;\">\n",
              "\n",
              "  <svg xmlns=\"http://www.w3.org/2000/svg\" height=\"24px\" viewBox=\"0 -960 960 960\">\n",
              "    <path d=\"M120-120v-720h720v720H120Zm60-500h600v-160H180v160Zm220 220h160v-160H400v160Zm0 220h160v-160H400v160ZM180-400h160v-160H180v160Zm440 0h160v-160H620v160ZM180-180h160v-160H180v160Zm440 0h160v-160H620v160Z\"/>\n",
              "  </svg>\n",
              "    </button>\n",
              "\n",
              "  <style>\n",
              "    .colab-df-container {\n",
              "      display:flex;\n",
              "      gap: 12px;\n",
              "    }\n",
              "\n",
              "    .colab-df-convert {\n",
              "      background-color: #E8F0FE;\n",
              "      border: none;\n",
              "      border-radius: 50%;\n",
              "      cursor: pointer;\n",
              "      display: none;\n",
              "      fill: #1967D2;\n",
              "      height: 32px;\n",
              "      padding: 0 0 0 0;\n",
              "      width: 32px;\n",
              "    }\n",
              "\n",
              "    .colab-df-convert:hover {\n",
              "      background-color: #E2EBFA;\n",
              "      box-shadow: 0px 1px 2px rgba(60, 64, 67, 0.3), 0px 1px 3px 1px rgba(60, 64, 67, 0.15);\n",
              "      fill: #174EA6;\n",
              "    }\n",
              "\n",
              "    .colab-df-buttons div {\n",
              "      margin-bottom: 4px;\n",
              "    }\n",
              "\n",
              "    [theme=dark] .colab-df-convert {\n",
              "      background-color: #3B4455;\n",
              "      fill: #D2E3FC;\n",
              "    }\n",
              "\n",
              "    [theme=dark] .colab-df-convert:hover {\n",
              "      background-color: #434B5C;\n",
              "      box-shadow: 0px 1px 3px 1px rgba(0, 0, 0, 0.15);\n",
              "      filter: drop-shadow(0px 1px 2px rgba(0, 0, 0, 0.3));\n",
              "      fill: #FFFFFF;\n",
              "    }\n",
              "  </style>\n",
              "\n",
              "    <script>\n",
              "      const buttonEl =\n",
              "        document.querySelector('#df-808f3d71-2e00-4fc8-a605-6d77d8b6bdcd button.colab-df-convert');\n",
              "      buttonEl.style.display =\n",
              "        google.colab.kernel.accessAllowed ? 'block' : 'none';\n",
              "\n",
              "      async function convertToInteractive(key) {\n",
              "        const element = document.querySelector('#df-808f3d71-2e00-4fc8-a605-6d77d8b6bdcd');\n",
              "        const dataTable =\n",
              "          await google.colab.kernel.invokeFunction('convertToInteractive',\n",
              "                                                    [key], {});\n",
              "        if (!dataTable) return;\n",
              "\n",
              "        const docLinkHtml = 'Like what you see? Visit the ' +\n",
              "          '<a target=\"_blank\" href=https://colab.research.google.com/notebooks/data_table.ipynb>data table notebook</a>'\n",
              "          + ' to learn more about interactive tables.';\n",
              "        element.innerHTML = '';\n",
              "        dataTable['output_type'] = 'display_data';\n",
              "        await google.colab.output.renderOutput(dataTable, element);\n",
              "        const docLink = document.createElement('div');\n",
              "        docLink.innerHTML = docLinkHtml;\n",
              "        element.appendChild(docLink);\n",
              "      }\n",
              "    </script>\n",
              "  </div>\n",
              "\n",
              "\n",
              "<div id=\"df-a3062fb8-9a38-4393-9866-69d476d67cd1\">\n",
              "  <button class=\"colab-df-quickchart\" onclick=\"quickchart('df-a3062fb8-9a38-4393-9866-69d476d67cd1')\"\n",
              "            title=\"Suggest charts\"\n",
              "            style=\"display:none;\">\n",
              "\n",
              "<svg xmlns=\"http://www.w3.org/2000/svg\" height=\"24px\"viewBox=\"0 0 24 24\"\n",
              "     width=\"24px\">\n",
              "    <g>\n",
              "        <path d=\"M19 3H5c-1.1 0-2 .9-2 2v14c0 1.1.9 2 2 2h14c1.1 0 2-.9 2-2V5c0-1.1-.9-2-2-2zM9 17H7v-7h2v7zm4 0h-2V7h2v10zm4 0h-2v-4h2v4z\"/>\n",
              "    </g>\n",
              "</svg>\n",
              "  </button>\n",
              "\n",
              "<style>\n",
              "  .colab-df-quickchart {\n",
              "      --bg-color: #E8F0FE;\n",
              "      --fill-color: #1967D2;\n",
              "      --hover-bg-color: #E2EBFA;\n",
              "      --hover-fill-color: #174EA6;\n",
              "      --disabled-fill-color: #AAA;\n",
              "      --disabled-bg-color: #DDD;\n",
              "  }\n",
              "\n",
              "  [theme=dark] .colab-df-quickchart {\n",
              "      --bg-color: #3B4455;\n",
              "      --fill-color: #D2E3FC;\n",
              "      --hover-bg-color: #434B5C;\n",
              "      --hover-fill-color: #FFFFFF;\n",
              "      --disabled-bg-color: #3B4455;\n",
              "      --disabled-fill-color: #666;\n",
              "  }\n",
              "\n",
              "  .colab-df-quickchart {\n",
              "    background-color: var(--bg-color);\n",
              "    border: none;\n",
              "    border-radius: 50%;\n",
              "    cursor: pointer;\n",
              "    display: none;\n",
              "    fill: var(--fill-color);\n",
              "    height: 32px;\n",
              "    padding: 0;\n",
              "    width: 32px;\n",
              "  }\n",
              "\n",
              "  .colab-df-quickchart:hover {\n",
              "    background-color: var(--hover-bg-color);\n",
              "    box-shadow: 0 1px 2px rgba(60, 64, 67, 0.3), 0 1px 3px 1px rgba(60, 64, 67, 0.15);\n",
              "    fill: var(--button-hover-fill-color);\n",
              "  }\n",
              "\n",
              "  .colab-df-quickchart-complete:disabled,\n",
              "  .colab-df-quickchart-complete:disabled:hover {\n",
              "    background-color: var(--disabled-bg-color);\n",
              "    fill: var(--disabled-fill-color);\n",
              "    box-shadow: none;\n",
              "  }\n",
              "\n",
              "  .colab-df-spinner {\n",
              "    border: 2px solid var(--fill-color);\n",
              "    border-color: transparent;\n",
              "    border-bottom-color: var(--fill-color);\n",
              "    animation:\n",
              "      spin 1s steps(1) infinite;\n",
              "  }\n",
              "\n",
              "  @keyframes spin {\n",
              "    0% {\n",
              "      border-color: transparent;\n",
              "      border-bottom-color: var(--fill-color);\n",
              "      border-left-color: var(--fill-color);\n",
              "    }\n",
              "    20% {\n",
              "      border-color: transparent;\n",
              "      border-left-color: var(--fill-color);\n",
              "      border-top-color: var(--fill-color);\n",
              "    }\n",
              "    30% {\n",
              "      border-color: transparent;\n",
              "      border-left-color: var(--fill-color);\n",
              "      border-top-color: var(--fill-color);\n",
              "      border-right-color: var(--fill-color);\n",
              "    }\n",
              "    40% {\n",
              "      border-color: transparent;\n",
              "      border-right-color: var(--fill-color);\n",
              "      border-top-color: var(--fill-color);\n",
              "    }\n",
              "    60% {\n",
              "      border-color: transparent;\n",
              "      border-right-color: var(--fill-color);\n",
              "    }\n",
              "    80% {\n",
              "      border-color: transparent;\n",
              "      border-right-color: var(--fill-color);\n",
              "      border-bottom-color: var(--fill-color);\n",
              "    }\n",
              "    90% {\n",
              "      border-color: transparent;\n",
              "      border-bottom-color: var(--fill-color);\n",
              "    }\n",
              "  }\n",
              "</style>\n",
              "\n",
              "  <script>\n",
              "    async function quickchart(key) {\n",
              "      const quickchartButtonEl =\n",
              "        document.querySelector('#' + key + ' button');\n",
              "      quickchartButtonEl.disabled = true;  // To prevent multiple clicks.\n",
              "      quickchartButtonEl.classList.add('colab-df-spinner');\n",
              "      try {\n",
              "        const charts = await google.colab.kernel.invokeFunction(\n",
              "            'suggestCharts', [key], {});\n",
              "      } catch (error) {\n",
              "        console.error('Error during call to suggestCharts:', error);\n",
              "      }\n",
              "      quickchartButtonEl.classList.remove('colab-df-spinner');\n",
              "      quickchartButtonEl.classList.add('colab-df-quickchart-complete');\n",
              "    }\n",
              "    (() => {\n",
              "      let quickchartButtonEl =\n",
              "        document.querySelector('#df-a3062fb8-9a38-4393-9866-69d476d67cd1 button');\n",
              "      quickchartButtonEl.style.display =\n",
              "        google.colab.kernel.accessAllowed ? 'block' : 'none';\n",
              "    })();\n",
              "  </script>\n",
              "</div>\n",
              "    </div>\n",
              "  </div>\n"
            ],
            "application/vnd.google.colaboratory.intrinsic+json": {
              "type": "dataframe",
              "summary": "{\n  \"name\": \"display(daily_data_a[['timestamp', 'users_count', 'cum_users_count']]\",\n  \"rows\": 5,\n  \"fields\": [\n    {\n      \"column\": \"timestamp\",\n      \"properties\": {\n        \"dtype\": \"date\",\n        \"min\": \"2017-01-02 00:00:00\",\n        \"max\": \"2017-01-06 00:00:00\",\n        \"num_unique_values\": 5,\n        \"samples\": [\n          \"2017-01-03 00:00:00\",\n          \"2017-01-06 00:00:00\",\n          \"2017-01-04 00:00:00\"\n        ],\n        \"semantic_type\": \"\",\n        \"description\": \"\"\n      }\n    },\n    {\n      \"column\": \"users_count\",\n      \"properties\": {\n        \"dtype\": \"number\",\n        \"std\": 1653,\n        \"min\": 2851,\n        \"max\": 6604,\n        \"num_unique_values\": 5,\n        \"samples\": [\n          6584,\n          6604,\n          6573\n        ],\n        \"semantic_type\": \"\",\n        \"description\": \"\"\n      }\n    },\n    {\n      \"column\": \"cum_users_count\",\n      \"properties\": {\n        \"dtype\": \"number\",\n        \"std\": 10333,\n        \"min\": 2851,\n        \"max\": 29031,\n        \"num_unique_values\": 5,\n        \"samples\": [\n          9435,\n          29031,\n          16008\n        ],\n        \"semantic_type\": \"\",\n        \"description\": \"\"\n      }\n    }\n  ]\n}"
            }
          },
          "metadata": {}
        }
      ]
    },
    {
      "cell_type": "markdown",
      "source": [
        "Как сделать такой расчёт для двух групп (А и B) сразу? Воспользуемся методом groupby: сгруппируем данные по признаку группы, и в каждой группе будем вычислять кумулятивные суммы признаков количества посетителей (users_count) и количества совершённых целевых действий (converted)."
      ],
      "metadata": {
        "id": "rhmQmCy6xS0a"
      }
    },
    {
      "cell_type": "markdown",
      "source": [
        "После этого рассчитаем кумулятивную конверсию — это отношение ежедневной кумулятивной суммы количества посетителей к ежедневной кумулятивной сумме количества совершённых целевых действий:"
      ],
      "metadata": {
        "id": "N-3VI7mqxVmq"
      }
    },
    {
      "cell_type": "code",
      "source": [
        "# вычисляем кумулятивную сумму количества посетителей\n",
        "daily_data['cum_users_count'] = daily_data.groupby(['group'])['users_count'].cumsum()\n",
        "# вычисляем кумулятивную сумму количества совершённых целевых действий\n",
        "daily_data['cum_converted'] = daily_data.groupby(['group'])['converted'].cumsum()\n",
        "# вычисляем кумулятивную конверсию\n",
        "daily_data['cum_conversion'] = daily_data['cum_converted']/daily_data['cum_users_count'] * 100\n",
        "display(daily_data.head())"
      ],
      "metadata": {
        "colab": {
          "base_uri": "https://localhost:8080/",
          "height": 206
        },
        "id": "liUEN4M1xYHy",
        "outputId": "7c7274a8-7639-4fcf-9a1d-3be02f7f8178"
      },
      "execution_count": 14,
      "outputs": [
        {
          "output_type": "display_data",
          "data": {
            "text/plain": [
              "   timestamp group  users_count  converted  conversion  cum_users_count  \\\n",
              "0 2017-01-02     A         2851        357   12.521922             2851   \n",
              "1 2017-01-02     B         2848        339   11.903090             2848   \n",
              "2 2017-01-03     A         6584        749   11.376063             9435   \n",
              "3 2017-01-03     B         6620        754   11.389728             9468   \n",
              "4 2017-01-04     A         6573        797   12.125361            16008   \n",
              "\n",
              "   cum_converted  cum_conversion  \n",
              "0            357       12.521922  \n",
              "1            339       11.903090  \n",
              "2           1106       11.722311  \n",
              "3           1093       11.544149  \n",
              "4           1903       11.887806  "
            ],
            "text/html": [
              "\n",
              "  <div id=\"df-cede6a00-158b-481c-a9e7-89d72fa1ee52\" class=\"colab-df-container\">\n",
              "    <div>\n",
              "<style scoped>\n",
              "    .dataframe tbody tr th:only-of-type {\n",
              "        vertical-align: middle;\n",
              "    }\n",
              "\n",
              "    .dataframe tbody tr th {\n",
              "        vertical-align: top;\n",
              "    }\n",
              "\n",
              "    .dataframe thead th {\n",
              "        text-align: right;\n",
              "    }\n",
              "</style>\n",
              "<table border=\"1\" class=\"dataframe\">\n",
              "  <thead>\n",
              "    <tr style=\"text-align: right;\">\n",
              "      <th></th>\n",
              "      <th>timestamp</th>\n",
              "      <th>group</th>\n",
              "      <th>users_count</th>\n",
              "      <th>converted</th>\n",
              "      <th>conversion</th>\n",
              "      <th>cum_users_count</th>\n",
              "      <th>cum_converted</th>\n",
              "      <th>cum_conversion</th>\n",
              "    </tr>\n",
              "  </thead>\n",
              "  <tbody>\n",
              "    <tr>\n",
              "      <th>0</th>\n",
              "      <td>2017-01-02</td>\n",
              "      <td>A</td>\n",
              "      <td>2851</td>\n",
              "      <td>357</td>\n",
              "      <td>12.521922</td>\n",
              "      <td>2851</td>\n",
              "      <td>357</td>\n",
              "      <td>12.521922</td>\n",
              "    </tr>\n",
              "    <tr>\n",
              "      <th>1</th>\n",
              "      <td>2017-01-02</td>\n",
              "      <td>B</td>\n",
              "      <td>2848</td>\n",
              "      <td>339</td>\n",
              "      <td>11.903090</td>\n",
              "      <td>2848</td>\n",
              "      <td>339</td>\n",
              "      <td>11.903090</td>\n",
              "    </tr>\n",
              "    <tr>\n",
              "      <th>2</th>\n",
              "      <td>2017-01-03</td>\n",
              "      <td>A</td>\n",
              "      <td>6584</td>\n",
              "      <td>749</td>\n",
              "      <td>11.376063</td>\n",
              "      <td>9435</td>\n",
              "      <td>1106</td>\n",
              "      <td>11.722311</td>\n",
              "    </tr>\n",
              "    <tr>\n",
              "      <th>3</th>\n",
              "      <td>2017-01-03</td>\n",
              "      <td>B</td>\n",
              "      <td>6620</td>\n",
              "      <td>754</td>\n",
              "      <td>11.389728</td>\n",
              "      <td>9468</td>\n",
              "      <td>1093</td>\n",
              "      <td>11.544149</td>\n",
              "    </tr>\n",
              "    <tr>\n",
              "      <th>4</th>\n",
              "      <td>2017-01-04</td>\n",
              "      <td>A</td>\n",
              "      <td>6573</td>\n",
              "      <td>797</td>\n",
              "      <td>12.125361</td>\n",
              "      <td>16008</td>\n",
              "      <td>1903</td>\n",
              "      <td>11.887806</td>\n",
              "    </tr>\n",
              "  </tbody>\n",
              "</table>\n",
              "</div>\n",
              "    <div class=\"colab-df-buttons\">\n",
              "\n",
              "  <div class=\"colab-df-container\">\n",
              "    <button class=\"colab-df-convert\" onclick=\"convertToInteractive('df-cede6a00-158b-481c-a9e7-89d72fa1ee52')\"\n",
              "            title=\"Convert this dataframe to an interactive table.\"\n",
              "            style=\"display:none;\">\n",
              "\n",
              "  <svg xmlns=\"http://www.w3.org/2000/svg\" height=\"24px\" viewBox=\"0 -960 960 960\">\n",
              "    <path d=\"M120-120v-720h720v720H120Zm60-500h600v-160H180v160Zm220 220h160v-160H400v160Zm0 220h160v-160H400v160ZM180-400h160v-160H180v160Zm440 0h160v-160H620v160ZM180-180h160v-160H180v160Zm440 0h160v-160H620v160Z\"/>\n",
              "  </svg>\n",
              "    </button>\n",
              "\n",
              "  <style>\n",
              "    .colab-df-container {\n",
              "      display:flex;\n",
              "      gap: 12px;\n",
              "    }\n",
              "\n",
              "    .colab-df-convert {\n",
              "      background-color: #E8F0FE;\n",
              "      border: none;\n",
              "      border-radius: 50%;\n",
              "      cursor: pointer;\n",
              "      display: none;\n",
              "      fill: #1967D2;\n",
              "      height: 32px;\n",
              "      padding: 0 0 0 0;\n",
              "      width: 32px;\n",
              "    }\n",
              "\n",
              "    .colab-df-convert:hover {\n",
              "      background-color: #E2EBFA;\n",
              "      box-shadow: 0px 1px 2px rgba(60, 64, 67, 0.3), 0px 1px 3px 1px rgba(60, 64, 67, 0.15);\n",
              "      fill: #174EA6;\n",
              "    }\n",
              "\n",
              "    .colab-df-buttons div {\n",
              "      margin-bottom: 4px;\n",
              "    }\n",
              "\n",
              "    [theme=dark] .colab-df-convert {\n",
              "      background-color: #3B4455;\n",
              "      fill: #D2E3FC;\n",
              "    }\n",
              "\n",
              "    [theme=dark] .colab-df-convert:hover {\n",
              "      background-color: #434B5C;\n",
              "      box-shadow: 0px 1px 3px 1px rgba(0, 0, 0, 0.15);\n",
              "      filter: drop-shadow(0px 1px 2px rgba(0, 0, 0, 0.3));\n",
              "      fill: #FFFFFF;\n",
              "    }\n",
              "  </style>\n",
              "\n",
              "    <script>\n",
              "      const buttonEl =\n",
              "        document.querySelector('#df-cede6a00-158b-481c-a9e7-89d72fa1ee52 button.colab-df-convert');\n",
              "      buttonEl.style.display =\n",
              "        google.colab.kernel.accessAllowed ? 'block' : 'none';\n",
              "\n",
              "      async function convertToInteractive(key) {\n",
              "        const element = document.querySelector('#df-cede6a00-158b-481c-a9e7-89d72fa1ee52');\n",
              "        const dataTable =\n",
              "          await google.colab.kernel.invokeFunction('convertToInteractive',\n",
              "                                                    [key], {});\n",
              "        if (!dataTable) return;\n",
              "\n",
              "        const docLinkHtml = 'Like what you see? Visit the ' +\n",
              "          '<a target=\"_blank\" href=https://colab.research.google.com/notebooks/data_table.ipynb>data table notebook</a>'\n",
              "          + ' to learn more about interactive tables.';\n",
              "        element.innerHTML = '';\n",
              "        dataTable['output_type'] = 'display_data';\n",
              "        await google.colab.output.renderOutput(dataTable, element);\n",
              "        const docLink = document.createElement('div');\n",
              "        docLink.innerHTML = docLinkHtml;\n",
              "        element.appendChild(docLink);\n",
              "      }\n",
              "    </script>\n",
              "  </div>\n",
              "\n",
              "\n",
              "<div id=\"df-398e8157-b972-4d43-bfdf-3fa69ede2bb8\">\n",
              "  <button class=\"colab-df-quickchart\" onclick=\"quickchart('df-398e8157-b972-4d43-bfdf-3fa69ede2bb8')\"\n",
              "            title=\"Suggest charts\"\n",
              "            style=\"display:none;\">\n",
              "\n",
              "<svg xmlns=\"http://www.w3.org/2000/svg\" height=\"24px\"viewBox=\"0 0 24 24\"\n",
              "     width=\"24px\">\n",
              "    <g>\n",
              "        <path d=\"M19 3H5c-1.1 0-2 .9-2 2v14c0 1.1.9 2 2 2h14c1.1 0 2-.9 2-2V5c0-1.1-.9-2-2-2zM9 17H7v-7h2v7zm4 0h-2V7h2v10zm4 0h-2v-4h2v4z\"/>\n",
              "    </g>\n",
              "</svg>\n",
              "  </button>\n",
              "\n",
              "<style>\n",
              "  .colab-df-quickchart {\n",
              "      --bg-color: #E8F0FE;\n",
              "      --fill-color: #1967D2;\n",
              "      --hover-bg-color: #E2EBFA;\n",
              "      --hover-fill-color: #174EA6;\n",
              "      --disabled-fill-color: #AAA;\n",
              "      --disabled-bg-color: #DDD;\n",
              "  }\n",
              "\n",
              "  [theme=dark] .colab-df-quickchart {\n",
              "      --bg-color: #3B4455;\n",
              "      --fill-color: #D2E3FC;\n",
              "      --hover-bg-color: #434B5C;\n",
              "      --hover-fill-color: #FFFFFF;\n",
              "      --disabled-bg-color: #3B4455;\n",
              "      --disabled-fill-color: #666;\n",
              "  }\n",
              "\n",
              "  .colab-df-quickchart {\n",
              "    background-color: var(--bg-color);\n",
              "    border: none;\n",
              "    border-radius: 50%;\n",
              "    cursor: pointer;\n",
              "    display: none;\n",
              "    fill: var(--fill-color);\n",
              "    height: 32px;\n",
              "    padding: 0;\n",
              "    width: 32px;\n",
              "  }\n",
              "\n",
              "  .colab-df-quickchart:hover {\n",
              "    background-color: var(--hover-bg-color);\n",
              "    box-shadow: 0 1px 2px rgba(60, 64, 67, 0.3), 0 1px 3px 1px rgba(60, 64, 67, 0.15);\n",
              "    fill: var(--button-hover-fill-color);\n",
              "  }\n",
              "\n",
              "  .colab-df-quickchart-complete:disabled,\n",
              "  .colab-df-quickchart-complete:disabled:hover {\n",
              "    background-color: var(--disabled-bg-color);\n",
              "    fill: var(--disabled-fill-color);\n",
              "    box-shadow: none;\n",
              "  }\n",
              "\n",
              "  .colab-df-spinner {\n",
              "    border: 2px solid var(--fill-color);\n",
              "    border-color: transparent;\n",
              "    border-bottom-color: var(--fill-color);\n",
              "    animation:\n",
              "      spin 1s steps(1) infinite;\n",
              "  }\n",
              "\n",
              "  @keyframes spin {\n",
              "    0% {\n",
              "      border-color: transparent;\n",
              "      border-bottom-color: var(--fill-color);\n",
              "      border-left-color: var(--fill-color);\n",
              "    }\n",
              "    20% {\n",
              "      border-color: transparent;\n",
              "      border-left-color: var(--fill-color);\n",
              "      border-top-color: var(--fill-color);\n",
              "    }\n",
              "    30% {\n",
              "      border-color: transparent;\n",
              "      border-left-color: var(--fill-color);\n",
              "      border-top-color: var(--fill-color);\n",
              "      border-right-color: var(--fill-color);\n",
              "    }\n",
              "    40% {\n",
              "      border-color: transparent;\n",
              "      border-right-color: var(--fill-color);\n",
              "      border-top-color: var(--fill-color);\n",
              "    }\n",
              "    60% {\n",
              "      border-color: transparent;\n",
              "      border-right-color: var(--fill-color);\n",
              "    }\n",
              "    80% {\n",
              "      border-color: transparent;\n",
              "      border-right-color: var(--fill-color);\n",
              "      border-bottom-color: var(--fill-color);\n",
              "    }\n",
              "    90% {\n",
              "      border-color: transparent;\n",
              "      border-bottom-color: var(--fill-color);\n",
              "    }\n",
              "  }\n",
              "</style>\n",
              "\n",
              "  <script>\n",
              "    async function quickchart(key) {\n",
              "      const quickchartButtonEl =\n",
              "        document.querySelector('#' + key + ' button');\n",
              "      quickchartButtonEl.disabled = true;  // To prevent multiple clicks.\n",
              "      quickchartButtonEl.classList.add('colab-df-spinner');\n",
              "      try {\n",
              "        const charts = await google.colab.kernel.invokeFunction(\n",
              "            'suggestCharts', [key], {});\n",
              "      } catch (error) {\n",
              "        console.error('Error during call to suggestCharts:', error);\n",
              "      }\n",
              "      quickchartButtonEl.classList.remove('colab-df-spinner');\n",
              "      quickchartButtonEl.classList.add('colab-df-quickchart-complete');\n",
              "    }\n",
              "    (() => {\n",
              "      let quickchartButtonEl =\n",
              "        document.querySelector('#df-398e8157-b972-4d43-bfdf-3fa69ede2bb8 button');\n",
              "      quickchartButtonEl.style.display =\n",
              "        google.colab.kernel.accessAllowed ? 'block' : 'none';\n",
              "    })();\n",
              "  </script>\n",
              "</div>\n",
              "    </div>\n",
              "  </div>\n"
            ],
            "application/vnd.google.colaboratory.intrinsic+json": {
              "type": "dataframe",
              "summary": "{\n  \"name\": \"display(daily_data\",\n  \"rows\": 5,\n  \"fields\": [\n    {\n      \"column\": \"timestamp\",\n      \"properties\": {\n        \"dtype\": \"date\",\n        \"min\": \"2017-01-02 00:00:00\",\n        \"max\": \"2017-01-04 00:00:00\",\n        \"num_unique_values\": 3,\n        \"samples\": [\n          \"2017-01-02 00:00:00\",\n          \"2017-01-03 00:00:00\",\n          \"2017-01-04 00:00:00\"\n        ],\n        \"semantic_type\": \"\",\n        \"description\": \"\"\n      }\n    },\n    {\n      \"column\": \"group\",\n      \"properties\": {\n        \"dtype\": \"category\",\n        \"num_unique_values\": 2,\n        \"samples\": [\n          \"B\",\n          \"A\"\n        ],\n        \"semantic_type\": \"\",\n        \"description\": \"\"\n      }\n    },\n    {\n      \"column\": \"users_count\",\n      \"properties\": {\n        \"dtype\": \"number\",\n        \"std\": 2050,\n        \"min\": 2848,\n        \"max\": 6620,\n        \"num_unique_values\": 5,\n        \"samples\": [\n          2848,\n          6573\n        ],\n        \"semantic_type\": \"\",\n        \"description\": \"\"\n      }\n    },\n    {\n      \"column\": \"converted\",\n      \"properties\": {\n        \"dtype\": \"number\",\n        \"std\": 230,\n        \"min\": 339,\n        \"max\": 797,\n        \"num_unique_values\": 5,\n        \"samples\": [\n          339,\n          797\n        ],\n        \"semantic_type\": \"\",\n        \"description\": \"\"\n      }\n    },\n    {\n      \"column\": \"conversion\",\n      \"properties\": {\n        \"dtype\": \"number\",\n        \"std\": 0.49135336777842714,\n        \"min\": 11.376063183475091,\n        \"max\": 12.52192213258506,\n        \"num_unique_values\": 5,\n        \"samples\": [\n          11.90308988764045,\n          12.125361326639283\n        ],\n        \"semantic_type\": \"\",\n        \"description\": \"\"\n      }\n    },\n    {\n      \"column\": \"cum_users_count\",\n      \"properties\": {\n        \"dtype\": \"number\",\n        \"std\": 5507,\n        \"min\": 2848,\n        \"max\": 16008,\n        \"num_unique_values\": 5,\n        \"samples\": [\n          2848,\n          16008\n        ],\n        \"semantic_type\": \"\",\n        \"description\": \"\"\n      }\n    },\n    {\n      \"column\": \"cum_converted\",\n      \"properties\": {\n        \"dtype\": \"number\",\n        \"std\": 647,\n        \"min\": 339,\n        \"max\": 1903,\n        \"num_unique_values\": 5,\n        \"samples\": [\n          339,\n          1903\n        ],\n        \"semantic_type\": \"\",\n        \"description\": \"\"\n      }\n    },\n    {\n      \"column\": \"cum_conversion\",\n      \"properties\": {\n        \"dtype\": \"number\",\n        \"std\": 0.36874519621919244,\n        \"min\": 11.544148711449091,\n        \"max\": 12.52192213258506,\n        \"num_unique_values\": 5,\n        \"samples\": [\n          11.90308988764045,\n          11.887806096951524\n        ],\n        \"semantic_type\": \"\",\n        \"description\": \"\"\n      }\n    }\n  ]\n}"
            }
          },
          "metadata": {}
        }
      ]
    },
    {
      "cell_type": "code",
      "source": [
        "# создаём фигуру размером 8x4\n",
        "fig = plt.figure(figsize=(8, 4))\n",
        "# добавляем систему координат\n",
        "ax = fig.add_axes([1, 1, 1, 1])\n",
        "# строим lineplot для кумулятивной конверсии во времени в каждой группе\n",
        "sns.lineplot(x='timestamp', y='cum_conversion', data=daily_data, hue='group', ax=ax)\n",
        "# задаём подпись к графику\n",
        "ax.set_title('График кумулятивной конверсии по дням')\n",
        "# задаём поворот меток на оси абсцисс\n",
        "ax.xaxis.set_tick_params(rotation = 45)\n",
        "# задаём отображение сетки\n",
        "ax.grid(True);"
      ],
      "metadata": {
        "colab": {
          "base_uri": "https://localhost:8080/",
          "height": 555
        },
        "id": "DhEpr5nzxfhM",
        "outputId": "64bae813-ab8e-44d5-d230-4f6bd4f4bf95"
      },
      "execution_count": 15,
      "outputs": [
        {
          "output_type": "display_data",
          "data": {
            "text/plain": [
              "<Figure size 800x400 with 1 Axes>"
            ],
            "image/png": "[encoded data removed]"
          },
          "metadata": {}
        }
      ]
    },
    {
      "cell_type": "markdown",
      "source": [
        "Что можно сказать теперь? До 2017-01-09 конверсия была нестабильна, но после 2017-01-11 резкие скачки прекратились (кривая графика переходит в прямую). Судя по графику, конверсия группы B стабильно хуже конверсии группы А на всём промежутке времени."
      ],
      "metadata": {
        "id": "PUlV5n_RyXrj"
      }
    },
    {
      "cell_type": "markdown",
      "source": [
        "Обратите внимание на различие в конверсии в первые дни теста: тут наглядно отображена проблема подглядывания, когда статистическая значимость ошибочно могла быть достигнута уже в самом начале теста.\n",
        "\n",
        "На основании стабилизированного кумулятивного графика мы можем сделать вывод, что длительность эксперимента была достаточной для того, чтобы судить о статистической значимости разности между показателем конверсии в группах."
      ],
      "metadata": {
        "id": "5yQ87nGrygyM"
      }
    },
    {
      "cell_type": "markdown",
      "source": [
        "СТАТИСТИЧЕСКИЕ ТЕСТЫ ДЛЯ КОНВЕРСИИ"
      ],
      "metadata": {
        "id": "jyuwYaMf7t4K"
      }
    },
    {
      "cell_type": "markdown",
      "source": [
        "\n",
        "Сначала подготовим данные к проведению статистических тестов. Для этого нам нужно рассчитать количество пользователей, совершивших конверсию, и общее количество пользователей в каждой контрольной и тестовой группах.\n",
        "\n",
        "Cгруппируем таблицу ab_data по признаку группы и рассчитаем количество «успехов» (сумма по столбцу converted) и общее количество наблюдений (количество непустых значений в столбце converted) для каждой группы:"
      ],
      "metadata": {
        "id": "PLouvfu17y4q"
      }
    },
    {
      "cell_type": "code",
      "source": [
        "converted_piv= ab_data.groupby('group')['converted'].agg(\n",
        "    ['sum', 'count']\n",
        ")\n",
        "display(converted_piv)"
      ],
      "metadata": {
        "colab": {
          "base_uri": "https://localhost:8080/",
          "height": 143
        },
        "id": "0_hgB2IJ7yMi",
        "outputId": "8f32f4b9-3744-4330-ad9b-7922d2882bc7"
      },
      "execution_count": 16,
      "outputs": [
        {
          "output_type": "display_data",
          "data": {
            "text/plain": [
              "         sum   count\n",
              "group               \n",
              "A      17467  145241\n",
              "B      17238  145241"
            ],
            "text/html": [
              "\n",
              "  <div id=\"df-f7820247-95f8-46a9-be99-4484cf9638f2\" class=\"colab-df-container\">\n",
              "    <div>\n",
              "<style scoped>\n",
              "    .dataframe tbody tr th:only-of-type {\n",
              "        vertical-align: middle;\n",
              "    }\n",
              "\n",
              "    .dataframe tbody tr th {\n",
              "        vertical-align: top;\n",
              "    }\n",
              "\n",
              "    .dataframe thead th {\n",
              "        text-align: right;\n",
              "    }\n",
              "</style>\n",
              "<table border=\"1\" class=\"dataframe\">\n",
              "  <thead>\n",
              "    <tr style=\"text-align: right;\">\n",
              "      <th></th>\n",
              "      <th>sum</th>\n",
              "      <th>count</th>\n",
              "    </tr>\n",
              "    <tr>\n",
              "      <th>group</th>\n",
              "      <th></th>\n",
              "      <th></th>\n",
              "    </tr>\n",
              "  </thead>\n",
              "  <tbody>\n",
              "    <tr>\n",
              "      <th>A</th>\n",
              "      <td>17467</td>\n",
              "      <td>145241</td>\n",
              "    </tr>\n",
              "    <tr>\n",
              "      <th>B</th>\n",
              "      <td>17238</td>\n",
              "      <td>145241</td>\n",
              "    </tr>\n",
              "  </tbody>\n",
              "</table>\n",
              "</div>\n",
              "    <div class=\"colab-df-buttons\">\n",
              "\n",
              "  <div class=\"colab-df-container\">\n",
              "    <button class=\"colab-df-convert\" onclick=\"convertToInteractive('df-f7820247-95f8-46a9-be99-4484cf9638f2')\"\n",
              "            title=\"Convert this dataframe to an interactive table.\"\n",
              "            style=\"display:none;\">\n",
              "\n",
              "  <svg xmlns=\"http://www.w3.org/2000/svg\" height=\"24px\" viewBox=\"0 -960 960 960\">\n",
              "    <path d=\"M120-120v-720h720v720H120Zm60-500h600v-160H180v160Zm220 220h160v-160H400v160Zm0 220h160v-160H400v160ZM180-400h160v-160H180v160Zm440 0h160v-160H620v160ZM180-180h160v-160H180v160Zm440 0h160v-160H620v160Z\"/>\n",
              "  </svg>\n",
              "    </button>\n",
              "\n",
              "  <style>\n",
              "    .colab-df-container {\n",
              "      display:flex;\n",
              "      gap: 12px;\n",
              "    }\n",
              "\n",
              "    .colab-df-convert {\n",
              "      background-color: #E8F0FE;\n",
              "      border: none;\n",
              "      border-radius: 50%;\n",
              "      cursor: pointer;\n",
              "      display: none;\n",
              "      fill: #1967D2;\n",
              "      height: 32px;\n",
              "      padding: 0 0 0 0;\n",
              "      width: 32px;\n",
              "    }\n",
              "\n",
              "    .colab-df-convert:hover {\n",
              "      background-color: #E2EBFA;\n",
              "      box-shadow: 0px 1px 2px rgba(60, 64, 67, 0.3), 0px 1px 3px 1px rgba(60, 64, 67, 0.15);\n",
              "      fill: #174EA6;\n",
              "    }\n",
              "\n",
              "    .colab-df-buttons div {\n",
              "      margin-bottom: 4px;\n",
              "    }\n",
              "\n",
              "    [theme=dark] .colab-df-convert {\n",
              "      background-color: #3B4455;\n",
              "      fill: #D2E3FC;\n",
              "    }\n",
              "\n",
              "    [theme=dark] .colab-df-convert:hover {\n",
              "      background-color: #434B5C;\n",
              "      box-shadow: 0px 1px 3px 1px rgba(0, 0, 0, 0.15);\n",
              "      filter: drop-shadow(0px 1px 2px rgba(0, 0, 0, 0.3));\n",
              "      fill: #FFFFFF;\n",
              "    }\n",
              "  </style>\n",
              "\n",
              "    <script>\n",
              "      const buttonEl =\n",
              "        document.querySelector('#df-f7820247-95f8-46a9-be99-4484cf9638f2 button.colab-df-convert');\n",
              "      buttonEl.style.display =\n",
              "        google.colab.kernel.accessAllowed ? 'block' : 'none';\n",
              "\n",
              "      async function convertToInteractive(key) {\n",
              "        const element = document.querySelector('#df-f7820247-95f8-46a9-be99-4484cf9638f2');\n",
              "        const dataTable =\n",
              "          await google.colab.kernel.invokeFunction('convertToInteractive',\n",
              "                                                    [key], {});\n",
              "        if (!dataTable) return;\n",
              "\n",
              "        const docLinkHtml = 'Like what you see? Visit the ' +\n",
              "          '<a target=\"_blank\" href=https://colab.research.google.com/notebooks/data_table.ipynb>data table notebook</a>'\n",
              "          + ' to learn more about interactive tables.';\n",
              "        element.innerHTML = '';\n",
              "        dataTable['output_type'] = 'display_data';\n",
              "        await google.colab.output.renderOutput(dataTable, element);\n",
              "        const docLink = document.createElement('div');\n",
              "        docLink.innerHTML = docLinkHtml;\n",
              "        element.appendChild(docLink);\n",
              "      }\n",
              "    </script>\n",
              "  </div>\n",
              "\n",
              "\n",
              "<div id=\"df-4485b7ff-b56d-4deb-9e67-d37a8900716d\">\n",
              "  <button class=\"colab-df-quickchart\" onclick=\"quickchart('df-4485b7ff-b56d-4deb-9e67-d37a8900716d')\"\n",
              "            title=\"Suggest charts\"\n",
              "            style=\"display:none;\">\n",
              "\n",
              "<svg xmlns=\"http://www.w3.org/2000/svg\" height=\"24px\"viewBox=\"0 0 24 24\"\n",
              "     width=\"24px\">\n",
              "    <g>\n",
              "        <path d=\"M19 3H5c-1.1 0-2 .9-2 2v14c0 1.1.9 2 2 2h14c1.1 0 2-.9 2-2V5c0-1.1-.9-2-2-2zM9 17H7v-7h2v7zm4 0h-2V7h2v10zm4 0h-2v-4h2v4z\"/>\n",
              "    </g>\n",
              "</svg>\n",
              "  </button>\n",
              "\n",
              "<style>\n",
              "  .colab-df-quickchart {\n",
              "      --bg-color: #E8F0FE;\n",
              "      --fill-color: #1967D2;\n",
              "      --hover-bg-color: #E2EBFA;\n",
              "      --hover-fill-color: #174EA6;\n",
              "      --disabled-fill-color: #AAA;\n",
              "      --disabled-bg-color: #DDD;\n",
              "  }\n",
              "\n",
              "  [theme=dark] .colab-df-quickchart {\n",
              "      --bg-color: #3B4455;\n",
              "      --fill-color: #D2E3FC;\n",
              "      --hover-bg-color: #434B5C;\n",
              "      --hover-fill-color: #FFFFFF;\n",
              "      --disabled-bg-color: #3B4455;\n",
              "      --disabled-fill-color: #666;\n",
              "  }\n",
              "\n",
              "  .colab-df-quickchart {\n",
              "    background-color: var(--bg-color);\n",
              "    border: none;\n",
              "    border-radius: 50%;\n",
              "    cursor: pointer;\n",
              "    display: none;\n",
              "    fill: var(--fill-color);\n",
              "    height: 32px;\n",
              "    padding: 0;\n",
              "    width: 32px;\n",
              "  }\n",
              "\n",
              "  .colab-df-quickchart:hover {\n",
              "    background-color: var(--hover-bg-color);\n",
              "    box-shadow: 0 1px 2px rgba(60, 64, 67, 0.3), 0 1px 3px 1px rgba(60, 64, 67, 0.15);\n",
              "    fill: var(--button-hover-fill-color);\n",
              "  }\n",
              "\n",
              "  .colab-df-quickchart-complete:disabled,\n",
              "  .colab-df-quickchart-complete:disabled:hover {\n",
              "    background-color: var(--disabled-bg-color);\n",
              "    fill: var(--disabled-fill-color);\n",
              "    box-shadow: none;\n",
              "  }\n",
              "\n",
              "  .colab-df-spinner {\n",
              "    border: 2px solid var(--fill-color);\n",
              "    border-color: transparent;\n",
              "    border-bottom-color: var(--fill-color);\n",
              "    animation:\n",
              "      spin 1s steps(1) infinite;\n",
              "  }\n",
              "\n",
              "  @keyframes spin {\n",
              "    0% {\n",
              "      border-color: transparent;\n",
              "      border-bottom-color: var(--fill-color);\n",
              "      border-left-color: var(--fill-color);\n",
              "    }\n",
              "    20% {\n",
              "      border-color: transparent;\n",
              "      border-left-color: var(--fill-color);\n",
              "      border-top-color: var(--fill-color);\n",
              "    }\n",
              "    30% {\n",
              "      border-color: transparent;\n",
              "      border-left-color: var(--fill-color);\n",
              "      border-top-color: var(--fill-color);\n",
              "      border-right-color: var(--fill-color);\n",
              "    }\n",
              "    40% {\n",
              "      border-color: transparent;\n",
              "      border-right-color: var(--fill-color);\n",
              "      border-top-color: var(--fill-color);\n",
              "    }\n",
              "    60% {\n",
              "      border-color: transparent;\n",
              "      border-right-color: var(--fill-color);\n",
              "    }\n",
              "    80% {\n",
              "      border-color: transparent;\n",
              "      border-right-color: var(--fill-color);\n",
              "      border-bottom-color: var(--fill-color);\n",
              "    }\n",
              "    90% {\n",
              "      border-color: transparent;\n",
              "      border-bottom-color: var(--fill-color);\n",
              "    }\n",
              "  }\n",
              "</style>\n",
              "\n",
              "  <script>\n",
              "    async function quickchart(key) {\n",
              "      const quickchartButtonEl =\n",
              "        document.querySelector('#' + key + ' button');\n",
              "      quickchartButtonEl.disabled = true;  // To prevent multiple clicks.\n",
              "      quickchartButtonEl.classList.add('colab-df-spinner');\n",
              "      try {\n",
              "        const charts = await google.colab.kernel.invokeFunction(\n",
              "            'suggestCharts', [key], {});\n",
              "      } catch (error) {\n",
              "        console.error('Error during call to suggestCharts:', error);\n",
              "      }\n",
              "      quickchartButtonEl.classList.remove('colab-df-spinner');\n",
              "      quickchartButtonEl.classList.add('colab-df-quickchart-complete');\n",
              "    }\n",
              "    (() => {\n",
              "      let quickchartButtonEl =\n",
              "        document.querySelector('#df-4485b7ff-b56d-4deb-9e67-d37a8900716d button');\n",
              "      quickchartButtonEl.style.display =\n",
              "        google.colab.kernel.accessAllowed ? 'block' : 'none';\n",
              "    })();\n",
              "  </script>\n",
              "</div>\n",
              "    </div>\n",
              "  </div>\n"
            ],
            "application/vnd.google.colaboratory.intrinsic+json": {
              "type": "dataframe",
              "variable_name": "converted_piv",
              "summary": "{\n  \"name\": \"converted_piv\",\n  \"rows\": 2,\n  \"fields\": [\n    {\n      \"column\": \"group\",\n      \"properties\": {\n        \"dtype\": \"string\",\n        \"num_unique_values\": 2,\n        \"samples\": [\n          \"B\",\n          \"A\"\n        ],\n        \"semantic_type\": \"\",\n        \"description\": \"\"\n      }\n    },\n    {\n      \"column\": \"sum\",\n      \"properties\": {\n        \"dtype\": \"number\",\n        \"std\": 161,\n        \"min\": 17238,\n        \"max\": 17467,\n        \"num_unique_values\": 2,\n        \"samples\": [\n          17238,\n          17467\n        ],\n        \"semantic_type\": \"\",\n        \"description\": \"\"\n      }\n    },\n    {\n      \"column\": \"count\",\n      \"properties\": {\n        \"dtype\": \"number\",\n        \"std\": 0,\n        \"min\": 145241,\n        \"max\": 145241,\n        \"num_unique_values\": 1,\n        \"samples\": [\n          145241\n        ],\n        \"semantic_type\": \"\",\n        \"description\": \"\"\n      }\n    }\n  ]\n}"
            }
          },
          "metadata": {}
        }
      ]
    },
    {
      "cell_type": "markdown",
      "source": [
        "Мы знаем, что группы независимые: пользователи в группах А и B не пересекаются. Значит, нам нужно воспользоваться либо Z- либо -критерием. Давайте рассмотрим тонкости применения обоих критериев."
      ],
      "metadata": {
        "id": "TAvDHp3T8K8G"
      }
    },
    {
      "cell_type": "markdown",
      "source": [
        "# Z-ТЕСТ ДЛЯ ПРОПОРЦИЙ"
      ],
      "metadata": {
        "id": "P5xVqwWY8NMO"
      }
    },
    {
      "cell_type": "code",
      "source": [
        "from statsmodels.stats.proportion import proportions_ztest"
      ],
      "metadata": {
        "id": "FR8D9Ux_8nux"
      },
      "execution_count": 17,
      "outputs": []
    },
    {
      "cell_type": "markdown",
      "source": [
        "Для получения p-value необходимо передать в функцию следующие аргументы:\n",
        "\n",
        "count — количество «успехов» (в каждой из групп). В данном случае это количество пользователей, которые совершили целевое действие в каждой группе.\n",
        "\n",
        "nobs — количество наблюдений (в каждой из групп), то есть размер выборки.\n",
        "\n",
        "alternative — вид альтернативной гипотезы ('two-sided' — двусторонняя, 'smaller' — левосторонняя, 'larger' — правосторонняя). По умолчанию параметр равен 'two-sided'.\n",
        "\n",
        "value — число, с которым сравнивается разница между двумя пропорциями. По умолчанию равно 0."
      ],
      "metadata": {
        "id": "veht7D6I8s_y"
      }
    },
    {
      "cell_type": "markdown",
      "source": [
        "Примечание. Этот параметр может пригодиться, если необходимо проверить разницу между пропорциями на соответствие конкретному числу: например, гипотезы вида «Конверсия в группе A меньше, чем конверсия в группе B на 3 %». Тогда в качестве значения value можно установить число 0.03."
      ],
      "metadata": {
        "id": "N-yUBqHy82ub"
      }
    },
    {
      "cell_type": "markdown",
      "source": [
        "Примечание. Давайте вспомним, что:\n",
        "\n",
        "Если полученное значение p-value ниже уровня значимости (), это означает, что результаты статистически значимы и согласуются с альтернативной гипотезой.\n",
        "Если полученное значение p-value выше уровня значимости (), результаты считаются статистически незначимыми и нельзя отвергнуть нулевую гипотезу."
      ],
      "metadata": {
        "id": "xN6GFTlk9Epe"
      }
    },
    {
      "cell_type": "code",
      "source": [
        "alpha = 0.05 # уровень значимости\n",
        "# вычисляем значение p-value для z-теста для пропорций\n",
        "_, p_value = proportions_ztest(\n",
        "    count=converted_piv['sum'], #число «успехов»\n",
        "    nobs=converted_piv['count'], #общее число наблюдений\n",
        "    alternative='two-sided',\n",
        ")\n",
        "# выводим результат на экран\n",
        "print('p-value: ', round(p_value, 3))\n",
        "# сравниваем полученное p-value с уровнем значимости\n",
        "if (p_value <= alpha):\n",
        "    print(\"Отвергаем нулевую гипотезу в пользу альтернативной\")\n",
        "else:\n",
        "    print(\"У нас нет оснований отвергнуть нулевую гипотезу\")\n",
        "\n",
        "# p-value:  0.19\n",
        "# У нас нет оснований отвергнуть нулевую гипотезу"
      ],
      "metadata": {
        "colab": {
          "base_uri": "https://localhost:8080/"
        },
        "id": "oh4EbJ_S9GyO",
        "outputId": "6d0cb2cc-c63d-45fb-bad9-f528ee7bbb05"
      },
      "execution_count": 18,
      "outputs": [
        {
          "output_type": "stream",
          "name": "stdout",
          "text": [
            "p-value:  0.19\n",
            "У нас нет оснований отвергнуть нулевую гипотезу\n"
          ]
        }
      ]
    },
    {
      "cell_type": "markdown",
      "source": [
        "Итак, мы получили p-value = 0.19. Это больше, чем заданный уровень значимости 0.05, а значит, мы должны принять нулевую гипотезу о равенстве конверсий."
      ],
      "metadata": {
        "id": "EbnooIn09PuP"
      }
    },
    {
      "cell_type": "markdown",
      "source": [
        "Что это значит для нас и для бизнеса?\n",
        "\n",
        "Так как Z-тест для пропорций показал, что истинные значения конверсий в группах равны (с уровнем значимости 0.05), то для нас это значит, что альтернативная гипотеза не подтверждается статистически.\n",
        "\n",
        "Переводим на язык бизнеса: разницы между вариантами рекомендаций сопутствующих товаров нет — они одинаково эффективны по метрике конверсии."
      ],
      "metadata": {
        "id": "aXeKS7AN9Vug"
      }
    },
    {
      "cell_type": "markdown",
      "source": [
        "На основе этого вывода мы принимаем решение о том, что делать дальше.\n",
        "\n",
        "Возможные варианты:\n",
        "\n",
        "отказаться от внедрения ML-модели для рекомендаций сопутствующих товаров и оставить текущую версию рекомендаций;\n",
        "попытаться усовершенствовать модель и провести тестирование снова;\n",
        "использовать оба варианта системы рекомендаций и посмотреть на результат в более долгосрочной перспективе."
      ],
      "metadata": {
        "id": "oqb_HkAo9cjh"
      }
    },
    {
      "cell_type": "markdown",
      "source": [
        "А что, если мы хотим уточнить исследование и проверить гипотезу о том, что варианты А и B не просто идентичны между собой, а вариант А даже лучше варианта B по метрике конверсии? Тогда нам нужно переформулировать гипотезы таким образом, чтобы альтернативная гипотеза отражала наш бизнес-вопрос:\n",
        "\n",
        "Нулевая (будет задавать отсутствие эффекта): конверсия в группе А меньше либо равна конверсии в группе B.\n",
        "\n",
        "\n",
        "Альтернативная (будет задавать наличие эффекта): конверсия в группе А больше, чем конверсия в группе B.\n",
        "\n",
        "\n",
        "\n",
        "Тогда код будет выглядеть следующим образом:"
      ],
      "metadata": {
        "id": "OhDpEkUE9hqZ"
      }
    },
    {
      "cell_type": "code",
      "source": [
        "alpha = 0.05 # уровень значимости\n",
        "# вычисляем значение p-value для Z-теста для пропорций\n",
        "_, p_value = proportions_ztest(\n",
        "    count=converted_piv['sum'], # число «успехов»\n",
        "    nobs=converted_piv['count'], # общее число наблюдений\n",
        "    alternative='larger' # правосторонняя альтернативная гипотеза\n",
        ")\n",
        "# выводим результат на экран\n",
        "print('p-value: ', round(p_value, 3))\n",
        "# сравниваем полученное p-value с уровнем значимости\n",
        "if (p_value <= alpha):\n",
        "    print(\"Отвергаем нулевую гипотезу в пользу альтернативной\")\n",
        "else:\n",
        "    print(\"У нас нет оснований отвергнуть нулевую гипотезу\")\n",
        "\n",
        "# p-value:  0.095\n",
        "# У нас нет оснований отвергнуть нулевую гипотезу"
      ],
      "metadata": {
        "colab": {
          "base_uri": "https://localhost:8080/"
        },
        "id": "N6MtTNEN9k0y",
        "outputId": "96bef651-cae8-4258-a59d-2a615c4804ec"
      },
      "execution_count": 19,
      "outputs": [
        {
          "output_type": "stream",
          "name": "stdout",
          "text": [
            "p-value:  0.095\n",
            "У нас нет оснований отвергнуть нулевую гипотезу\n"
          ]
        }
      ]
    },
    {
      "cell_type": "markdown",
      "source": [
        "Итак, p-value = 0.095 вновь больше, чем уровень значимости 0.05. А значит, что статистика говорит нам о том, что вариант A все таки не лучше, чем вариант B, что, в принципе, было ожидаемым из предыдущего тестирования о равенстве конверсий."
      ],
      "metadata": {
        "id": "buSjsyZ09olD"
      }
    },
    {
      "cell_type": "markdown",
      "source": [
        "# ХИ-квадрат-ТЕСТ ДЛЯ ПРОПОРЦИЙ"
      ],
      "metadata": {
        "id": "TeHqZ2yk9qya"
      }
    },
    {
      "cell_type": "markdown",
      "source": [
        "Теперь давайте воспользуемся  -тестом для оценки разницы в пропорциях.\n",
        "\n",
        "Этот тест основан на уже знакомом нам -критерии, который мы применяли для тестирования гипотезы о независимости двух категориальных признаков. Оказывается, этот же критерий с небольшими модификациями можно использовать и для установления статистической значимости разницы между пропорциями.\n",
        "\n",
        "Этот тест применяется только для двусторонних гипотез:\n",
        "\n",
        "Нулевая гипотеза: разница пропорций в группах A и B равна некоторому заранее заданному числу :\n",
        "\n",
        "\n",
        "Альтернативная гипотеза: разница пропорций в группах A и B отлична от числа :\n",
        "\n",
        "\n",
        "\n",
        "По умолчанию , соответственно, проверяется нулевая гипотеза равенства между истинными пропорциями  и  () против альтернативной гипотезы об их неравенстве ().\n",
        "\n",
        "Тестом не предусмотрена возможность проверки односторонних гипотез.\n",
        "\n",
        "-тест для пропорций реализован в функции proportions_chisquare() модуля proportion библиотеки statsmodels. Импортируем его:"
      ],
      "metadata": {
        "id": "qXzv9hh2980V"
      }
    },
    {
      "cell_type": "code",
      "source": [
        "from statsmodels.stats.proportion import proportions_chisquare"
      ],
      "metadata": {
        "id": "Zu4jPY0099hd"
      },
      "execution_count": 20,
      "outputs": []
    },
    {
      "cell_type": "markdown",
      "source": [
        "Для получения хи2-статистики и p-value необходимо передать в функцию следующие аргументы:\n",
        "\n",
        "count — количество «успехов» (в каждой из групп). В данном случае это количество пользователей, которые совершили целевое действие в каждой группе.\n",
        "nobs — количество наблюдений (в каждой из групп), то есть размер выборки.\n",
        "value — число, с которым сравнивается разница между двумя пропорциями. По умолчанию равно 0."
      ],
      "metadata": {
        "id": "_Up8Kiea-DjW"
      }
    },
    {
      "cell_type": "markdown",
      "source": [
        "Давайте применим -тест для пропорций на примере двух типов рекомендаций интернет-магазина с параметром value=0. То есть у нас будут две следующие конкурирующие гипотезы:\n",
        "\n",
        "Нулевая (будет задавать отсутствие эффекта): конверсии в группах A и B равны.\n",
        "\n",
        "\n",
        "Альтернативная (будет задавать наличие эффекта): конверсии в группах A и B не равны.\n",
        "\n",
        "\n",
        "\n",
        "По умолчанию функция proportions_chisquare() возвращает -статистику, p-value и таблицу сопряжённости (используется во внутренних расчётах p-value). Из всего перечня возвращаемых значений нас интересует только p-value. Занесём его в отдельную переменную для дальнейшего сравнения с уровнем значимости.\n",
        "\n",
        "Зададим уровень значимости  и будем сравнивать с ним полученное p-value."
      ],
      "metadata": {
        "id": "heLsfjBx-K4X"
      }
    },
    {
      "cell_type": "code",
      "source": [
        "alpha = 0.05 # уровень значимости\n",
        "# вычисляем значение p-value для Z-теста для пропорций\n",
        "_, p_value, c = proportions_chisquare(\n",
        "    count=converted_piv['sum'], #число «успехов»\n",
        "    nobs=converted_piv['count'] #общее число наблюдений\n",
        ")\n",
        "# выводим результат на экран\n",
        "print('p-value: ', round(p_value, 3))\n",
        "# сравниваем полученное p-value с уровнем значимости\n",
        "if (p_value <= alpha):\n",
        "    print(\"Отвергаем нулевую гипотезу в пользу альтернативной\")\n",
        "else:\n",
        "    print(\"У нас нет оснований отвергнуть нулевую гипотезу\")\n",
        "\n",
        "# p-value:  0.19\n",
        "# У нас нет оснований отвергнуть нулевую гипотезу"
      ],
      "metadata": {
        "colab": {
          "base_uri": "https://localhost:8080/"
        },
        "id": "JNOifZPV-NXH",
        "outputId": "4a7429ff-e02b-4e6b-e72f-93325b3ab92a"
      },
      "execution_count": 21,
      "outputs": [
        {
          "output_type": "stream",
          "name": "stdout",
          "text": [
            "p-value:  0.19\n",
            "У нас нет оснований отвергнуть нулевую гипотезу\n"
          ]
        }
      ]
    },
    {
      "cell_type": "markdown",
      "source": [
        "Мы получили то же самое значение p-value, что и при тестировании гипотез с помощью Z-теста. Это неудивительно, ведь Z-критерий основан на нормальном распределении, а -критерий основан на -распределении, которое получается как сумма квадратов случайных величин, распределённых нормально.\n",
        "\n",
        "То есть способы вычисления статистики для Z- и -критериев отличаются математически, однако при большом количестве наблюдений p-value для этих критериев будут совпадать."
      ],
      "metadata": {
        "id": "PwUSb4EF-UjA"
      }
    },
    {
      "cell_type": "markdown",
      "source": [
        "Итак, согласно критерию хи2, у нас нет оснований отвергнуть нулевую гипотезу, а значит, мы в очередной раз подтвердили, что разницы между рекомендациями по метрике конверсии нет."
      ],
      "metadata": {
        "id": "l-Sl6WXu-b85"
      }
    },
    {
      "cell_type": "markdown",
      "source": [
        "Отсюда возникает закономерный вопрос: какой из критериев использовать?\n",
        "\n",
        "Если есть две независимых выборки и необходимо проверить равенство пропорций в них, то можно использовать Z-критерий для пропорций или -критерий для пропорций.\n",
        "\n",
        "* Если объём выборок достаточно большой (обычно больше 30 наблюдений в каждой\n",
        "\n",
        "группе), то оба критерия дают сравнимые результаты. В противном случае рекомендуется применять  для пропорций.\n",
        "\n",
        "Также в литературе часто указывают, что при маленьких частотах в группах (менее пяти наблюдений в каждой ячейке таблицы сопряжённости) вместо -критерия рекомендуется применять точный критерий Фишера. Однако в реальных задачах A/B-тестирования стараются не применять тест на маленьких выборках, чтобы избежать эффекта подглядывания, поэтому тест Фишера вам вряд ли пригодится.\n",
        "\n",
        "* Если по каким-то причинам нельзя обеспечить независимость групп, можно использовать критерий Мак-Немара. Однако он подходит только для парных данных, то есть каждому наблюдению в одной выборке должно соответствовать наблюдение в другой выборке."
      ],
      "metadata": {
        "id": "bzdtqwAa-gXq"
      }
    },
    {
      "cell_type": "markdown",
      "source": [
        "** Примечание. ** Важно отметить, что тесты для пропорций можно применять не только к конверсии. Они подойдут для любых бизнес-метрик, которые отражают некоторые долевые соотношения: например, так можно оценивать долю курящих людей, долю просроченных кредитов и т. д."
      ],
      "metadata": {
        "id": "NZwpSyuW-8Lm"
      }
    },
    {
      "cell_type": "markdown",
      "source": [
        "# СТАТИСТИЧЕСКИЕ ТЕСТЫ ДЛЯ ДРУГИХ МЕТРИК"
      ],
      "metadata": {
        "id": "ORZ87J6e_BIe"
      }
    },
    {
      "cell_type": "markdown",
      "source": [
        "На самом деле наша задача об оценке эффективности двух вариантов была сильно упрощена: мы рассматривали только одну метрику — конверсию добавления в корзину. В реальности смотрят на несколько показателей в комплексе.\n",
        "\n",
        "Помимо конверсии (категориальной метрики), нужно рассматривать и другие, числовые метрики, например средний чек. Ведь возможно такое, что конверсия в группах одинаковая, а средние чеки существенно различаются. В таком случае проводят статистические тесты для обеих метрик и принимают решение в пользу варианта, который эффективнее по более приоритетной метрике (например, если мы хотим повысить прибыль, это будет средний чек)."
      ],
      "metadata": {
        "id": "3tpR_sv3_N4g"
      }
    },
    {
      "cell_type": "markdown",
      "source": [
        "Что делать с другими метриками?\n",
        "\n",
        "То же самое: провести визуальный анализ показателей, посмотреть на кумулятивные графики, убедиться в достаточном накопительном эффекте, после чего провести статистический тест (построить доверительный интервал, речь о котором пойдёт далее) и определить статистическую значимость разницы в показателях."
      ],
      "metadata": {
        "id": "6bPmpuXk_TcB"
      }
    },
    {
      "cell_type": "markdown",
      "source": [
        "Однако стоит помнить о том, что любой статистический метод имеет свою область применения, которая зависит от задачи и распределения данных. Перед тем как проводить статистический тест, важно узнать распределение метрики, по которой вы будете сравнивать."
      ],
      "metadata": {
        "id": "p7zY9vf__X2R"
      }
    },
    {
      "cell_type": "markdown",
      "source": [
        "## Диаграмма-алгоритм по выбору статистического теста:"
      ],
      "metadata": {
        "id": "TYpUX9XZ_sj4"
      }
    },
    {
      "cell_type": "markdown",
      "source": [
        "![asset-v1_SkillFactory+DST-3.0+28FEB2021+type@asset+block@DST_EDA_4_8_1.png](data:image/png;base64,iVBORw0KGgoAAAANSUhEUgAAB4AAAAQ4CAYAAADo08FDAAAAAXNSR0IArs4c6QAAAARzQklUCAgICHwIZIgAAAAJcEhZcwAADsQAAA7EAZUrDhsAAAR3aVRYdFhNTDpjb20uYWRvYmUueG1wAAAAAAA8P3hwYWNrZXQgYmVnaW49J++7vycgaWQ9J1c1TTBNcENlaGlIenJlU3pOVGN6a2M5ZCc/Pgo8eDp4bXBtZXRhIHhtbG5zOng9J2Fkb2JlOm5zOm1ldGEvJz4KPHJkZjpSREYgeG1sbnM6cmRmPSdodHRwOi8vd3d3LnczLm9yZy8xOTk5LzAyLzIyLXJkZi1zeW50YXgtbnMjJz4KCiA8cmRmOkRlc2NyaXB0aW9uIHJkZjphYm91dD0nJwogIHhtbG5zOkF0dHJpYj0naHR0cDovL25zLmF0dHJpYnV0aW9uLmNvbS9hZHMvMS4wLyc+CiAgPEF0dHJpYjpBZHM+CiAgIDxyZGY6U2VxPgogICAgPHJkZjpsaSByZGY6cGFyc2VUeXBlPSdSZXNvdXJjZSc+CiAgICAgPEF0dHJpYjpDcmVhdGVkPjIwMjMtMDUtMTA8L0F0dHJpYjpDcmVhdGVkPgogICAgIDxBdHRyaWI6RXh0SWQ+NjQ4Y2QyOTgtMTc3My00NmExLTk0NDUtZGIyMDJhMDRmNjk4PC9BdHRyaWI6RXh0SWQ+CiAgICAgPEF0dHJpYjpGYklkPjUyNTI2NTkxNDE3OTU4MDwvQXR0cmliOkZiSWQ+CiAgICAgPEF0dHJpYjpUb3VjaFR5cGU+MjwvQXR0cmliOlRvdWNoVHlwZT4KICAgIDwvcmRmOmxpPgogICA8L3JkZjpTZXE+CiAgPC9BdHRyaWI6QWRzPgogPC9yZGY6RGVzY3JpcHRpb24+CgogPHJkZjpEZXNjcmlwdGlvbiByZGY6YWJvdXQ9JycKICB4bWxuczpkYz0naHR0cDovL3B1cmwub3JnL2RjL2VsZW1lbnRzLzEuMS8nPgogIDxkYzp0aXRsZT4KICAgPHJkZjpBbHQ+CiAgICA8cmRmOmxpIHhtbDpsYW5nPSd4LWRlZmF1bHQnPkVEQS00IC0gMTI8L3JkZjpsaT4KICAgPC9yZGY6QWx0PgogIDwvZGM6dGl0bGU+CiA8L3JkZjpEZXNjcmlwdGlvbj4KCiA8cmRmOkRlc2NyaXB0aW9uIHJkZjphYm91dD0nJwogIHhtbG5zOnBkZj0naHR0cDovL25zLmFkb2JlLmNvbS9wZGYvMS4zLyc+CiAgPHBkZjpBdXRob3I+0J7QsdGJ0LjQuSDQsNC60LrQsNGD0L3RgjwvcGRmOkF1dGhvcj4KIDwvcmRmOkRlc2NyaXB0aW9uPgoKIDxyZGY6RGVzY3JpcHRpb24gcmRmOmFib3V0PScnCiAgeG1sbnM6eG1wPSdodHRwOi8vbnMuYWRvYmUuY29tL3hhcC8xLjAvJz4KICA8eG1wOkNyZWF0b3JUb29sPkNhbnZhPC94bXA6Q3JlYXRvclRvb2w+CiA8L3JkZjpEZXNjcmlwdGlvbj4KPC9yZGY6UkRGPgo8L3g6eG1wbWV0YT4KPD94cGFja2V0IGVuZD0ncic/PgKm6zkAACAASURBVHic7N13dJWF4cbx544swkgYIWFp2HuDgGGIBQsV0KogoIgsGRKhsg1DQBAVEQUVBERbEbCgCIiioEAAETAM2RsChCyyIIM7fn9cmzY/QAImeZOb7+cczmnufe/7PqGn59R++77X5HQ6nQIAAAAAAAAAAAAAFHhmowcAAAAAAAAAAAAAAHIGARgAAAAAAAAAAAAA3AQBGAAAAAAAAAAAAADcBAEYAAAAAAAAAAAAANwEARgAAAAAAAAAAAAA3AQBGAAAAAAAAAAAAADcBAEYAAAAAAAAAAAAANwEARgAAAAAAAAAAAAA3AQBGAAAAAAAAAAAAADcBAEYAAAAAAAAAAAAANwEARgAAAAAAAAAAAAA3AQBGAAAAAAAAAAAAADcBAEYAAAAAAAAAAAAANwEARgAAAAAAAAAAAAA3AQBGAAAACgEFi7/SqWr1Vfx2g9oxmdr5XAavQgAAAAAAAC5gQAMAAAAuLGF/16nUtXq6YUXBiqxyoO6XipYr/TrIb/fQ7CTEAwAAAAAAOBWTE4n/5MPAAAA4G7mLvtaU6e9qqtxcbK0fEKWuu0y33Ompci+6yvZd69ViSr19Or06Qp9vINMJuP2AgAAAAAAIGcQgAEAAAA3snjNRo0eO14J19Nc4bdqs9se60xNln3Xl7LvWS//mk00efIkQjAAAAAAAEABRwAGAAAA3MDiNRs1fuJkxV5NlLVNL5nvb5DtzzpTk2X/ebXse78hBAMAAAAAABRwBGAAAACgAMsMv3HxrvBbufE9n8t5PUn2natk/3WD/Gs11fTpr2nIo20IwQAAAAAAAAUIARgAAAAogDLDb2ysLK17yVK1aY6d23ktwRWCI75TyfqtNG3yZA3t0ibHzg8AAAAAAIDcQwAGAAAACpDlG7cpdNQYxUZHy9KmlyzVmufatZzXEmTf8W/Z932nMg1CNGPqFA3oFJJr1wMAAAAAAMCfRwAGAAAACoDlG7fp5QkTdTnygiwhT8tSo0WeXduZEi/7jlWy799ICAYAAAAAAMjnCMAAAABAPpYZfs+flaV1T1lqtjJsizMlXrbtX8jx6waVafKQ3pg5Q33/knt3IAMAAAAAAODuEYABAACAfGj1T7s0fNRYXT532hV+a+WfO26dyXGybV8px76NKvtAR709/VX1at/M6FkAAAAAAAAQARgAAADIV9Zu261hY8IUefKILA92l6VOW6Mn3ZYzOU628BVy7P9e5Vo8ojenTSEEAwAAAAAAGIwADAAAAOQDa7ft1vBxYTp/7JAsrbrLUu8hoydlmzMxRrbtK+Q4sEnlWjyiObNmqHtIA6NnAQAAAAAAFEoEYAAAAMBAmeH3yEHXHb/1HzZ60j1zJsbIFr5cjt9+VIWQRzV7+hRCMAAAAAAAQB4jAAMAAAAG+HbXPg3+x1idP3xAllZPydKwg9GTcowz4YorBB/aQggGAAAAAADIYwRgAAAAIA9t3n1AA0eH6cz+3bK0fEKWRo8YPSnXOBOuyLbtczkOb1WFkEc17/Wp6taintGzAAAAAAAA3BoBGAAAAMgDm3cf0OCxE3Xy112ytHhcliadjZ6UZ5zxl1x3BB8J131tumj+G6/pb01rGT0LAAAAAADALRGAAQAAgFz03/C7U5YHHpel6aNGTzKMIy5S9vAVchzbqeD2j+u91yYTggEAAAAAAHIYARgAAADIBdv2H1X/kWN1cu8OmZs/JmvzrkZPyjcccZGyb/tcjuO7CMEAAAAAAAA5jAAMAAAA5KCdB4+r/6hXdHTnjzI37yZL404yeXgZPStfcsScd4Xgk7sJwQAAAAAAADmEAAwAAADkgJ0Hj2vQmDAd2r5J5qZdZGn6KOE3m1wheJkcJ/couP3jWjx7hh6qW9noWQAAAAAAAAUSARgAAAD4E/YcPa3nR47TofAfZG76qCv8evoYPatAckSfdd0RfGafaj7SQ+/PmEgIBgAAAAAAuEsEYAAAAOAe7DtxVn1fnqgDP66XuXFnWZp3JfzmEEf0Wdm3fibH2QOEYAAAAAAAgLtEAAYAAADuwr4TZ9V/9CRF/LBW5sadZGneTSavIkbPckuOqFOyb10mx/nfVPORHlo461W1rlXJ6FkAAAAAAAD5GgEYAAAAyIYs4bdhR1keeEwm76JGzyoUHFGnZN/ymRwXj6h25976cPorhGAAAAAAAIDbIAADAAAAf+DQ2YvqM2K8Ir7/WuaGHWR54HGZfIoZPatQclw+IduWz+S8dEy1O/fWktfD9EC1ikbPAgAAAAAAyFcIwAAAAMAtHDt/SX1GTdHub76QuV57WVo+QfjNJxwXj8m2dZmcl4+rfpdn9NGMMDWvWsHoWQAAAAAAAPkCARgAAAD4H8fOX1K/MVO0c91Kmes+JEvLJ2UqUtzoWbgFx8Vjsm35l5xRJ1W/yzNaPGuymgYHGT0LAAAAAADAUARgAAAAQNKpS9Hq848w7Vy7QuY67WRp9aRMvn5Gz0I2OC4clm3rZ3LGnFOjx57TwunjCcEAAAAAAKDQIgADAACgUDt1KVr9xk3Tti+Wylz39/BbtKTRs3APHBcOy/bTp3LGRarRY8/po+kT1CQ40OhZAAAAAAAAeYoADAAAgELpXFSM+oyZqm1fLJWpdmtZH+wuU7FSRs9CDnCcOyDb1s/ljLugRo89p09mhqlepQCjZwEAAAAAAOQJAjAAAAAKlXNRMeo/bro2r1giU60HZQ15mvDrphxn98u2dZmc8RfV7O/P6+OZYapTobTRswAAAAAAAHIVARgAAACFQmTsVfUdNcUVfmu0dIXfEmWMnoU84DizT7aty6TEaLXoPkCLpo5R7fJEfwAAAAAA4J4IwAAAAHBrkbFXNWDCDG38bKFMVZu5wq9fWaNnwQCOU3tl2/a5lBRLCAYAAAAAAG6LAAwAAAC3FBWfqL7jprvCb+Umsob0kKlkOaNnIR+wn9wj+7bPpeQ4teg+QJ/OnKCqASWMngUAAAAAAJAjCMAAAABwKzGJKXp+3DRt+HSBFNxQ1tY9Cb+4JfuJ3a4QnJqotr0G66MpLxOCAQAAAABAgUcABgAAgFuISUzRwEmztPbj96UKtWVp00vmUhWMnoUCwH58lysEpyUTggEAAAAAQIFHAAYAAECBliX8lq8pS+teMpepZPQsFED2Yztl37ZcSk9R216DtejVUapSprjRswAAAAAAAO4KARgAAAAFUnxSivpN/D38BlV33fEbcL/Rs+AG7Ed3uO4Izriutr0Ga/HU0apcupjRswAAAAAAALKFAAwAAIACJfFaqgaEva4vF8+TM7CqLK17yhxYxehZcEP2I+GuO4IdN/Tws8O0ZPIIVfT3NXoWAAAAAADAHyIAAwAAoEBIvJaqIVPnaOXCuXKWqiRL296EX+QJ++Ftsocvl8lhV8fnXtTCiaGEYAAAAAAAkG8RgAEAAJCvpaSmadCUt7Vy4Vw5SlaQtW1vmYOqGT0LhZD90FbZwz+XyelUx+de1KLJI1S+hI/RswAAAAAAALIgAAMAACBfup6eocGvztbnH7wju1+QrG2fkbl8DaNnAbL/9pPs4StksljUuV+oPhw/lBAMAAAAAADyDQIwAAAA8pXr6RkaPnOe/jnvbdmKlJC1XR+ZK9Y2ehZwE/vBza4QbPUgBAMAAAAAgHyDAAwAAIB8IWv49ZO1TS+Z76tn9CzgjuwHNskWvkJmD0917heqxWHDFFDU2+hZAAAAAACgkCIAAwAAwFBpGTc0bMZ7rvDrU1zW1j1lDm5o9Czgrtn3fy/b9pWyeHip68ARWjBhqMr4ehk9CwAAAAAAFDIEYAAAABgiw2ZX6Mz39PG7b+mGp6/rjt/KjY2eBfxp9ojvZNvxhSxFiunvg0Zq/ugBhGAAAAAAAJBnCMAAAADIUxk2u16evVAfzZmlDLOHLK17yVK1qdGzgBxn//VbVwj2LU4IBgAAAAAAeYYADAAAgDyRJfzKIkubXrJUa270LCDX2fd+I9uOf8tStAQhGAAAAAAA5DoCMAAAAHKVze7QyLcWuMKv0yxL656y1Ghh9Cwgz9n3rv89BPvp74NGauG4QfLz9jB6FgAAAAAAcDMEYAAAAOQKu8Op0W8v1PuzZyrDLlf4rdnK6FmA4Wy718q+c5WsfgHqPXy03gl9lhAMAAAAAAByDAEYAAAAOcrucGrC/E/03qwZSktPc4XfWiFGzwLyHdsvX7tCsH9ZQjAAAAAAAMgxBGAAAADkiCzhN+26LCFPy1KnrdGzgHzNeSNd9l83uEJwySD1GTlBs4c+TQgGAAAAAAD3jAAMAACAP8XplMbNW+oKv9dTXOG33kNGz8oRVUv56pX21f/wmK8OXdaaw1F5tAjuynkjXfa938j+82p5lL1Pz744ihAMAAAAAADuidnoAQAAACiYnE5p2qLlKl65jt6YNF43GnWW55AFbhN/JcnpdCrN5sj80yCohDrXDMzyms3B/58Sf57Jw0vWFo/Lc9giOe5vpCUTX1RA7abq//Y/lZJhN3oeAAAAAAAoQLgDGAAAAHfF6ZSmL16uN16bppSrsbI+2EOWhh2MnpUn3vpbHXWsHqD6c340egrcnDMjVfY962Tf9ZU8A4PV76UxenPI0yrqaTF6GgAAAAAAyOcIwAAAAMiWLOE3PkbWB7vL0ugRo2flqT8KwM82rqjmFf01fM2BzNeqly6qOV3qas2hy1r4yzlJ0pud66hOYPFbnr/Xsj1KSLtx0+smk7T++Za3/MyFhFS9sHpf5rkPRCXpUlKaxrarpqKeVv18Pl4zfzyumGsZWc419Yej+vn81czzTO1YU00r+OvJf/6i6zdcd5wObH6fnqxXXv4+Hjp0JUkzfjyuE7HXbvv7StI3/Vrq9R+Pa+uZOElSueLe+kfrKmpU3k9eFrO2n43TnPBTikpOlyQ1CCqumZ3qZLlu9dJF9XaXulq+L1L/ioiUJDWt4KchLYJVM6CoUm84tO5IlObvPK0bdvf+xxlnRqrsu9e6QnBQZQ0aPVEz+z9OCAYAAAAAALfFI6ABAABwRzM/Wa3ileto0j9eVFqNNvJ6cXGhi793UqWUrx6o6J/ltXmP1dfDVcuoepmima81qeCnYl5W/XLhauafqOQ0ta9SWl7WW//Xc7PJpPZVSuvq9Ywsn/O0mNXyPv8s5362cUW9262+vjl6Rf+KuKCHqpTWlsGtVdzLmuVcZXy9Mj/XtnIpjWlbTe2rlJaHxSRJCnu4hmY/Wlc/n4/XvB2nFVDUSz++EKIS3tbb/r6S1L5KaZUt5jp3QFEvbR/aRh2qBWjVwUtauue82lcto+/6t5LZdRmVKuKZ5br+Ph76sk9zeVstWnHgoiSpXeXS+umFEJUp6qVFv5zTN0ejNLptVc3tWj/7/wYVUCZPH1kf7C7PYYtkr1hP8/7RV6XrttDwD/7No6EBAAAAAMAtWY0eAAAAgPzrrX99penTpirx0jlZWz0pr6aPGj2pwHi2cUU1Ke+nM1ev3/TervPxmvL90cyf2wSXUq+GFe54zuX7L2rtkajMn8MerqHu9ctlOaZpBT/Vn7NZkYlpkqTPIi5o/4j2Gtm6il794dhN5/S0mPVet/o6dCVZdcoWy3z9WoZNg1bt0/L9rgj7/YlonRnXUc0q+OuHkzF33CpJHmaTlu45p3fCTykxzSZJ2n4uXhEvtVPj8n7aE5mQ5XiL2aTPejaV2WxSj892Z97dm5Jh06s/HNWbW05mHnv9hl0z/1pbQ7/cn60tBZ3Jq4isIT1kadZFtl/WaN7IvvpoziwNHDlWc154Qtb/FHUAAAAAAFDocQcwAAAA7shUIsDoCQVKSR8PzexUW9M3H9PlpLQ8vfb3J2Iy468kJabZtGJ/pDrXDLzl8WPaVVMxLw9N/eFoltfnbDulFQcuqmxRL1Us4aP+ze9XfOoNHYxKyvaWi0lpevWHY0pMs8nDYlKwfxE1q+AnSSrt63nT8bP/VlfNKvjp75/+orjrGZmv74lMyIy/vp4W1ShTVNVLF5WPh0VFPArho5BN5iz/meRLfQAAAAAAwP/iDmAAAADc1qhnHtOoZx7TW//6SlMnhSl55ypZWz0pS5O/GT0tX3u9cx1FJaXp3e2n1aXWrcNrbrmQcPMdx+cSUhVUzOum16uW8tXoNlXV798RSk633fR+uWLeOjW2gyTpht2pXp/v0ZWU9Mz36wcV17Vpf3xX+NCWwXquSaXMu4t/+z0gm5T1jtUTYzqouJdV0zYd05Ho5Czv+XpaNOUvNfVo7UAF+xfRtQy7zv/+e5oKyY2vzoxU2X/5WvZf1sgzqLKGTHmD7wIGAAAAAAC3RAAGAADAHf0nBE9btFxvvDZNKTtXy/pgd74H+BZa319KzzSqqIcWhMvuyPtbM0t4e9z0WskinrcMvO91q6+fTsdq1cFLal+l9E3vX05OU5VZ38vbw6Ie9cvr815NFfLBNu27lChJSk63qcdnu7N85pt+LTP/9fAHK2tax1p69YejWnckSqfjr8vbalbc5M43XSt0zQF1qBagl0KqaOWBizoRey3zvU+6N1b9oBIK++6Iws/G6VJSmjrVKKsv+zTP/l9MAeXMSJV9zzrZd30lz8BgDXz9Q7055GnCLwAAAAAAuC0eAQ0AAIBsmzjgaSWdPqSps9+V95EflT5/gOz7vjd6Vr7haTVr3mP1tXj3Oe26cNWQDQ9VKSMPS9bbYv9Ws+xNe55pXFEtKvlrxNcHbzqHySS1uq+kSvt66WJSmk7FXdOMH48rKd2mtpX/G4rPxF/X5lOxWf78r+YV/LX5ZIzmbDulE7HXZHc4VaWU7y13bzh2RYO/3KdjMSn64pnm8v2fwNmsor/m7zyjlQcu6tLvj9S+3XnchfNGumw7Vylj/gBZzu3X4JkfKO7or/rgpd7EXwAAAAAA8IcIwAAAALgrJtP/hOC35sr78Calvz9I9gObjJ5muJplisrPx0Nh3x02bIO3h1kL/t5Q5Yp7q4yvp95+tK7qBxbX3PBTWY7rVjtQM348rjNXb35ktNMpfdy9sT5+qpEq+fmoqKdFfRpXlL+3hw7dxXcAH4lO1gOV/NW8or88LWY1CCqued3q3/b4G3anei7brVJFPPXRE42ynOfxOkG637+IvKxmda5ZVqPaVM32joLEeSNdtp9XK2P+AJnPRqjf9PmEXwAAAAAAcFd4BDQAAADuyX9CcFj/pzVu3lK9N2uG0nZ8IcuDPWSp95DR8wwz9ptDSky7+XHLeWXFvovysJp1+vfv7o1KTlevz/do/+Ws4fZIdLLmbDt1q1NIknou260lTzXW8dF/kSRdy7Br4sYj+uFkTLa3vBN+Sk0q+Gnr4BBJUkLaDY1c+5uaV/S/7WciE9PUZ8VerevbQi+3qarZW08qdM1BrejdVEdHPSxJOhaTojnhpzSrU+1sb8nvnDfSZf91g+w7V8laMkj9pr2n2UOflt8tHukNAAAAAADwR0xOpzPvv5gMAAAAbsfucGrC/E9cITjtuiwhT8tSp63RswqVzYMe1K8XEzRq/SGVLeqlol5Wnbt6XbY/8V3EFUv4yMfDonMJ15Vuc9zTOQKLeam4l4dOx1/7U1uqlCwim8Opcwmp93yO/MZ5I132iG9d4dc/UL2Hj9Y7oc8SfgEAAAAAwD0jAAMAACBHZQnB6WmytO4pS60Qo2cVCv8bgJH/2XavdYVfvwDCLwAAAAAAyDF8BzAAAABylMVs0qzhfZV8/phGjH1Flp0rlPHRcNmP7jB6GpAv2PesU/q7fWU6sk3PTXxTMScOaOmYfsRfAAAAAACQI7gDGAAAALnKZndo5FsL9NGcWcpwml13BNdoYfQst9S4fAklpdl0Mu6a0VNwC/a938i24wtZivrp74NGauG4QURfAAAAAACQ4wjAAAAAyBMZNrtenr3QFYJlkaVNL1mqNTd6FpDr7L9ucIVf3xL6+6CRmj96gMr4ehk9CwAAAAAAuCkCMAAAAPJUlhBs9pCldS9ZqjY1ehaQ4+wR38m2faUsvsUJvwAAAAAAIM8QgAEAAGCIDJtdoTPf08fvvqUbnr6ytuklc+XGRs8C/jT7vu9l275CFk9vdR04QgsmDCX8AgAAAACAPEMABgAAgKHSMm5o2Iz39M95b8vmU9wVgu9vYPQs4K7Z9//gCr8eXuo6cIQ+HD9EAUW9jZ4FAAAAAAAKGQIwAAAA8oXr6RkaPnOeKwQX8XOF4PvqGT0LuCP7gU2ybV8ps9VDnfuFanHYMMIvAAAAAAAwDAEYAAAA+UrWEFxC1nZ9ZK5Y2+hZwE3sB3+UffsKmSxWde4Xqg/HD1X5Ej5GzwIAAAAAAIUcARgAAAD50vX0DA1+dbY+/+Ad2f2CZG37jMzlaxg9C5D9t59kD18hk5zq+NyLWjR5BOEXAAAAAADkGwRgAAAA5GspqWkaNOVtrVw4V46SFWRt21vmoGpGz0IhZD+0Vfbw5TI5Her43ItaODFUFf19jZ4FAAAAAACQBQEYAAAABULitVQNmTpHKxfOlbNUJVna9pY5sIrRs1AI2I+Ey77tc5kcdsIvAAAAAADI9wjAAAAAKFASr6VqQNjr+nLxPDkDq8rSuichGLnCfmS77OHLJXuGHn52mJZMHkH4BQAAAAAA+R4BGAAAAAVSfFKK+k2cpbUfvy8FVZelTS+ZA+43ehbcgP3oDlf4Tb+mtr0Ga/HU0apcupjRswAAAAAAALKFAAwAAIACLSYxRQMn/R6Cy9eUpXUvmctUMnoWCiD7sZ9l3/a5lJ6itr0G66MpL6tqQAmjZwEAAAAAANwVAjAAAADcQpYQXKG2647gUhWMnoUCwH58lyv8piUTfgEAAAAAQIFHAAYAAIBbiUlM0fPjpmnDpwuk4Iaytu4pU8lyRs9CPmQ/uVv2rZ9LKfEKeXqglrw2nvALAAAAAAAKPAIwAAAA3FJUfKL6jpuujZ8tlKlyE1lDehCCIUlynNor29ZlUnKcWnQfoKWvjVP1QH+jZwEAAAAAAOQIAjAAAADcWmTsVQ2YMMMVgqs2kzXkaZn8yho9CwZwnP7VFX6TYtWi+wAtmjpGtcuXMnoWAAAAAABAjiIAAwAAoFCIjL2qvqOmaPOKJTLVaOkKwSXKGD0LecBxZp8r/CZGq0X3Afro1dGqU6G00bMAAAAAAAByBQEYAAAAhcq5qBj1HzfdFYJrPegKwcW4C9QdOc7ul23rMjnjL6rZ35/XxzPDCL8AAAAAAMDtEYABAABQKJ2LilGfMVO17YulMtVuLeuD3QnBbsJx7qAr/MZdUKPHntMnM8NUr1KA0bMAAAAAAADyBAEYAAAAhdqpS9HqN26atn2xVOa67WRp9aRMRUsaPQv3wHHhsGw/fSpnXKQaPfacPpo+QU2CA42eBQAAAAAAkKcIwAAAAIBcIfi5l8O04+sVMtf5PQT7+hk9C9nguHDYdcdvzFk1euw5LZw+Xk2Dg4yeBQAAAAAAYAgCMAAAAPA/jp2/pP5jp2jH2pUy131IlpZPylSkuNGzcAuOi8dk2/IvOaNOqn6XZ7R41mTCLwAAAAAAKPQIwAAAAMAtHDt/SX1GTdHub76QuV57WVo+IZNPMaNnQZLj8gnZfvqXnJePq36XZ/TRjDA1r1rB6FkAAAAAAAD5AgEYAAAA+AOHzl5UnxHjFfH91zI37CDLA48Tgg3iuHxCti2fyXnpmGp37q0lr4fpgWoVjZ4FAAAAAACQrxCAAQAAgGzYd+Ks+o+epIgf1srcsKMsDzwmk3dRo2cVCo6oU7Jv/UyOyCOq3bm3Ppz+ilrXqmT0LAAAAAAAgHyJAAwAAADchX0nzqrvyxN1YPM6mRt3kqV5N5m8ihg9yy05ok7Jvu1zOc4dVM1HemjhrFcJvwAAAAAAAHdAAAYAAADuwZ6jpzVgzGQd+HG9zI07y9K8q0yePkbPcguO6LOuO37PHlDNR3ro/RkT9VDdykbPAgAAAAAAKBAIwAAAAMCfsOfoaT0/cpwOhf8gc9NHZWn6KCH4Hjmiz7ru+D2zj/ALAAAAAABwjwjAAAAAQA7YefC4Bo0J06Htm2Ru2sUVgj28jJ5VIDhizsu+bZkcJ/couP3jWjx7BuEXAAAAAADgHhGAAQAAgBy08+Bx9R/1io7u/FHm5t1kadyJEHwbjpjzsocvl+PELwpu/7jee22y/ta0ltGzAAAAAAAACjQCMAAAAJALtu0/qv4jx+rk3h0yN39M1uZdjZ6UbzjiIl2Pej6+i/ALAAAAAACQwwjAAAAAQC7avPuABo+dqJO/7pTlgcdlafqo0ZMM44iLlD18hRzHdhJ+AQAAAAAAcgkBGAAAAMgD/w3Bu2Rp8bgsTTobPSnPOOMvyRa+XI4j4bqvTRfNf+M1wi8AAAAAAEAuIQADAAAAeWjz7gMaODpMZ/bvlqXlE7I0esToSbnGmXBFtm2fy3F4qyqEPKp5r09Vtxb1jJ4FAAAAAADg1gjAAAAAgAG+3bVPg/8xVucPH5Cl1VOyNOxg9KQc40y44rrj99AWVQh5VLOnT1H3kAZGzwIAAAAAACgUCMAAAACAgdZu263h48J0/shBWR7sLkv9h42edM+ciTGu8Pvbj4RfAAAAAAAAgxCAAQAAgHxg7bbdGjYmTJEnDsnSqrss9R4yelK2ORNjZNu+Qo4Dm1SuxSOaM2sG4RcAAAAAAMAgBGAAAAAgH1n90y6NGD9JkSePuO4IrtPW6Em35UyOky18hRz7v1e5Fo/ozWlT1Kt9M6NnAQAAAAAAFGoEYAAAACAfWv3TLg0fNVaXz52WpXVPWWqFGD0pkzM5TrbtK+XYt1FlH+iot6e/SvgFAAAAAADIJwjAAAAAQD62fOM2vTxhoi6fP+sKwTVbGbbFmRIv2/Yv5Ph1g8o0eUhvzJyhvn9pbtgeAAAAAAAA3IwADAAAABQAyzdu08jxYbpyMVKWkKdlqdEiz67tKmUqEAAAIABJREFUTImXfccq2fdvVJkGIZoxdYoGdMo/dyQDAAAAAADgvwjAAAAAQAHy6YYtGjV2nGKjo2Vp00uWarl3B67zWoLsO/4t+77vCL8AAAAAAAAFBAEYAAAAKIAWr9mo8RMnKzY2VpbWvWSp2jTHzu28liD7zlWyR3ynkvVbadrkyRrapU2OnR8AAAAAAAC5hwAMAAAAFGCZITguXtY2vWSu3Piez+W8nuQKv79ukH+tppo+/TUNebSNTKYcHAwAAAAAAIBcRQAGAAAA3MDiNRs1Nmyy4hMSXSH4/gbZ/qwzNfm/4bdmE02ePEmhj3cg/AIAAAAAABRABGAAAADAjXyw6ju98soEJVxPk6XlE7JUbXbbY52pybLv+lL2PesJvwAAAAAAAG6CAAwAAAC4obnLvtbUaa/qalycKwTXbZf5njMtRfZdX8m+Z538azQm/AIAAAAAALgRAjAAAADgxhb+e53Gjx+v+JhoWRo+IqWlyB7xrYpVrqeJr07TqKc6En4BAAAAAADcCAEYAAAAKASW/vtrvTJxkuyeRTQ+bKKGP9lJZsIvAAAAAACA2yEAAwAAAIXE1q1btWTJEi1dutToKQAAAAAAAMglZqMHAAAAAMgb8fHxSkhIMHoGAAAAAAAAchEBGAAAAAAAAAAAAADcBAEYAAAAKCS8vb2VlpZm9AwAAAAAAADkIgIwAAAAUEgQgAEAAAAAANwfARgAAAAAAAAAAAAA3AQBGAAAAAAAAAAAAADcBAEYAAAAKCR4BDQAAAAAAID7IwADAAAAhQQBGAAAAAAAwP0RgAEAAAAAAAAAAADATRCAAQAAAAAAAAAAAMBNEIABAACAQoJHQAMAAAAAALg/AjAAAABQSBCAAQAAAAAA3B8BGAAAAAAAAAAAAADcBAEYAAAAAAAAAAAAANwEARgAAAAoJHgENAAAAAAAgPsjAAMAAACFBAEYAAAAAADA/RGAAQAAAAAAAAAAAMBNEIABAAAAAAAAAAAAwE0QgAEAAIBChEdAAwAAAAAAuDcCMAAAAFBIeHt7Kz093egZAAAAAAAAyEUmp9PpNHoEAAAAgLxhMpnEPwIAAAAAAAC4L+4ABgAAAAAAAAAAAAA3QQAGAAAAAAAAAAAAADdBAAYAAAAKES8vL6WlpRk9AwAAAAAAALmEAAwAAAAUIt7e3gRgAAAAAAAAN0YABgAAAIBCLD4+XtevX8/8OSMjQ9HR0QYuAgAAAAAAfwYBGAAAAEAW3377rTZu3HjT64cOHdL8+fOVmJhowCrklgEDBmjcuHGZP8+fP1/t27c3cBEAAAAAAPgzrEYPAAAAAJB3svMI6EWLFslqtapjx46Zr504cULt27fX8OHDVaJEidyeiTw0cuRIde3aVcePH5eHh4e2bdumJUuWGD0LAAAAAADcIwIwAAAAUIjcy3cAR0ZG6i9/+Yt69OihsLCwXFoGo7Ru3Vpnz57VgQMH5HQ69cknn6hkyZJGzwIAAAAAAPeIAAwAAADgtmJjY9WhQwe1atVKc+fOven9/fv3a/HixTp37pwCAgLUu3dvtWvXLssxdrtdL7/88k2fffvtt2U2mxUfH6+pU6dq2rRpKlasWOb769ev1/fff6+hQ4eqevXqOnr0qD788MPMz/3Hli1bFB4erldeeSXztbS0NC1YsEBbt26Vp6enunbtqp49e2a5flpampYsWaItW7bIbreratWqCg0N1caNG7Vv375b/n1MmDBBZ8+e1bJlyzJf8/DwULly5dSlSxdVrVo1y/GrV6/W6tWrde3aNbVq1UrDhg1TkSJFJCnz9x43bpwCAwMzP2Oz2TRq1KjM3zu7x0nS1KlT1b59e4WEhNxy/xdffKGEhAQNHDhQkrRs2TJ5eHjoqaeeUuvWrTP/XkaPHq2KFSsqNDT0lucBAAAAAAD5F98BDAAAAOCWkpOT1alTJ1WqVEmffvqpTCZTlvfXrFmjZs2a6erVq+rQoYO8vLzUsWNHzZs3L8txsbGxmjt3rtLS0mS1WnX+/HnNnTtXDodDkpSUlKS5c+fq2rVrmZ+Jjo5Wnz599P777+v8+fOSpLNnz2b53H9ERETo448/zvz5xo0b6tChgxYtWqQ2bdqoTp06GjZsmCZNmpR5TEZGhtq3b6/p06fr/vvvV6NGjXT06FF5enrKbDbLarXKarVq4cKFOnbsWObPJpNJhw8f1oIFCzLPlZqaqvXr16t27drasWNH5uvjxo3TwIEDVaNGDT300EP65JNP1KlTJzmdziy/d2xsbJbfx2azae7cuZm/d3aPk6QlS5bcNl5L0qZNm7RmzZrMnzdu3KhNmzZlOWbatGmaO3euVq5cedvzAAAAAACA/Is7gAEAAIBCJLuPgE5PT1fXrl1lMpm0evVqeXh4ZHk/IyNDL7zwgl5++WXNnDkz8/UmTZpo8ODBeuKJJxQUFCRJioqKkuS647dIkSJat26dvvzyyz+8fmhoqLp06aINGzbc7a+oxYsX6/jx4zp+/Hjm9xU3aNBATz75pAYPHqxy5cppwYIF2r9/v44fP67y5ctn+XyfPn0y//XSpUvVo0cP9e3bN8sxvr6+euedd7K8FhISonXr1qlVq1Y6cuSI3njjDW3fvl0tW7aUJPXo0UPBwcFavXq1nnjiibv+vfLCwYMH9e6772rIkCHau3ev0XMAAAAAAMA94A5gAAAAoBDJbgC+dOmSfvvtN9WrV0++vr43vb9nzx5duXJF/fv3z/L6s88+K4vFkiXcXrhwQSVKlMh89PGdrF+/Xps3b9bs2bOVkZGR+brFYpHkeqT0H/n666/Vpk0bJScnKzIyUpGRkapWrZoyMjIUERGReY2uXbveFH/vRlpamtLS0pSYmKjw8HAdP35cLVq0kCStXbtW5cqVU8WKFTM33LhxQ1WqVNHPP/98z9fMDpvNprS0NKWnp9/V5xwOhwYOHKjRo0ercuXKubQOAAAAAADkNgIwAAAAgJsEBwdr/fr1WrlypaZMmXLT+5cvX5YkVaxYMcvrVqtV5cqVU2RkZOZrx44dU3BwcLaum5KSoqFDh2rOnDkqVapU5uOSJalGjRoym8367LPPJEmJiYlauXKl3n///SzniIyM1Jo1a1SzZs3MP02bNpWvr2/mY5QvXryo++67L1ubbiUuLk4+Pj7y8fGRn5+fOnTooBEjRqhr166ZGy5fvpxlQ82aNXXmzBldvXo1y7kaNmyY+Yhpq9WqokWL3vKa2T1u5MiR8vHxkbe3t4oVK6ZHHnlEx48fv+PvNG/ePCUnJ2vcuHFZ/t4BAAAAAEDBwiOgAQAAANxS8+bNtWrVKnXp0kXlypXToEGDMt/7z6OVExMTFRAQkOVziYmJWe723bdvn+rWrXvH65lMJoWFhalWrVrq3bv3Te9XqlRJc+bM0YsvvqghQ4bI6XTq4YcfVrt27bR58+bM47y9vTVw4EDNnz//ttfy9vZWcnLyHTfdTsmSJXXo0CFJru8cPnPmjIYMGaLExETNmjVL3t7eqlmzZuYxf2Tt2rWqVq1a5s8ZGRmqU6fOPR83Y8YMPf/883I4HLp8+bLGjBmjfv36KTw8/JbXN5lMunDhgiZOnKgNGzbI09PzjpsBAAAAAED+xR3AAAAAQCGS3UdA/0fHjh21dOlSvfjii1qzZk3m640bN5aHh4e2bt2a5fijR48qNjZWzZo1k+R6rPDmzZvVvn37O14rIiJCS5Ys0YcffnjbY0JDQ5WUlKQzZ84oNTVVGzZsUO3atbMc06xZM/30009yOBy3PU+jRo1uG0Szw2QyKTAwUIGBgapYsaLatGmjJ554Qps2bcrccOLECV24cOGO56pYsaKqVq2a+ed2j1/O7nHFihVTYGCgypUrpyZNmqhv3746duzYba/v4eGhYcOGqXfv3mrVqlU2fnsAAAAAAJCfEYABAACAQuRuA7Ak9ezZU2+99ZZ69uyp7du3S3LdATto0CCNHj1au3fvltPp1OnTp9W/f3+1aNFCbdq0kSR9/PHHSkpKynw08h8ZMWKEJk+erPvvv/8Pj/vPY6b/853A/99LL72ks2fPasCAATp//rxsNpvOnTunRYsWyWazSZKGDh2qw4cPa+zYsYqJiVFqaqp27dql6OjobP2dOJ1ORUVFKSoqShcuXNC3336rTz/9NPM7gLt166Zq1arpqaeeUkREhG7cuKGYmBh99dVXOnHiRLauca+Sk5MVFRWly5cva9euXfrggw/+MOxu3LhRe/fu1euvv56ruwAAAAAAQN4gAAMAAAC4o9DQUI0cOVJdunTR4cOHJUlz5sxRt27d1LZtW3l5ealatWoqVaqUvv76a5lMJg0bNkzDhg3T/PnzVapUqTtew9fXVyNGjPjTW6tXr67vvvtOe/fu1X333ScPDw8FBwdryZIlmcc0bNhQq1at0ooVKxQQEKAiRYqoU6dOiouLy9Y14uPjFRQUpKCgIFWuXFkvvPCCunXrplmzZkmSPD09tXHjRpUqVUpNmzaVp6enAgICNGbMGKWmpv7p3/GPTJgwQUFBQSpfvry6deumypUra+HChbc9/tixY5o3b56KFy+eq7sAAAAAAEDeMDmdTqfRIwAAAADkjXbt2mnKlClq165djp0zPT1dly5dUqlSpbJExNTUVJlMJnl7e+fYte5WdHS0rl27poCAAPn6+t7ymMjISDmdTgUFBclqteb4hqSkJMXExMjf318lS5bM8fMDAAAAAAD8r5z/XzcAAAAA5Fv38gjoO/Hy8lJwcPBNr/v4+OTode5FQEDAHY+pUKFCrm4oXrw4d9cCAAAAAIA8wyOgAQAAgEIkNwIwAAAAAAAA8g8CMAAAAAAAAAAAAAC4CQIwAAAAAAAAAAAAALgJAjAAAABQiPAIaAAAAAAAAPdGAAYAAAAKEQIwAAAAAACAezM5nU6n0SMAAAAA5K6EhAT99a9/VXR0tDw9PdW4cWMtW7bM6FkAAAAAAADIYdwBDAAAABQCfn5+qly5siIjI3Xq1Cl17NjR6EkAAAAAAADIBdwBDAAAABQiNWrUUJMmTbj7FwAAAAAAwE0RgAEAAIBC5ODhQ6pQoYL8i5cwegoAAAAAAAByAY+ABgAAANycw+HQnA/mq0TZMmrS8gGVKllS9R4O0daI3UZPAwAAAAAAQA7jDmAAAADAjS3+16caP2G8EpOSVPbBBvKvW0Vp8Ym6Er5PSScj1bhDG304+101rVXX6KkAAAAAAADIAQRgAAAAwA39tHWLnhs0QJcvXlSZlvVVulGNm45JjbmqK1sjlHIhSi3+1kELZs9V3eBqBqwFAAAAAABATiEAAwAAAG7k592/6IXQF/XbrxEKaFlfpRvXlNnD+oefuR4Vq6gtEUqNitNDTzyqD9+YoyrlK+XRYgAAAAAAAOQkAjAAAADgBiL279fgl17U3p27VLJhdZV5oK6sPl53dY6U81GK2vKrMhKS1aHH4/rozbkqXzoglxYDAAAAAAAgNxCAAQAAgALsyLGjGhg6TNu//1GlGtVQ2Zb1ZPX1+VPnTD59UVHb9smelq7HnuuleVNfV5kS/jm0GAAAAAAAALmJAAwAAAAUQKfPntGgl4Zr87oN8q9bRWUfbCCPYkVy9BqJx8/rSvg+yeFQ94F99e7E11TCt2iOXgMAAAAAAAA5iwAMAAAAFCAXL13SCyNDtWHVVype4z4FhjSQp1+xXL1mwuEzitq+T1arVX2GvaC3xk6Sr/efu8sYAAAAAAAAuYMADAAAABQAMTExGjp6pL5ctkJFK5dX2dYN5V2yRJ5uiD9wUld27JeXbxENGjFcr40cK28PzzzdAAAAAAAAgD9GAAYAAADysYSEBIWOH63PP/5UPhXKKLBNY/mUMfb7eGN/ParonQdVpGQJvTRmlCYOeUkeFquhmwAAAAAAAOBCAAYAAADyoZSUFI2eHKYlHyyQZ4CfAts2VpHA0kbPyuS4YVNcxDFF7/pNJYLKaPQrEzSq7yBZzRajpwEAAAAAABRqBGAAAAAgH0lNTdXE16Zq/tx3ZS5eREHtmsi3QlmjZ92WPeOGYvccUczuQyodXFFhkyZp2NN9ZDaZjJ4GAAAAAABQKBGAAQAAgHwgIyND096apbffeEtObw+Vbd1QxSuXN3pWttnTMhTzyyHF7j2iwJpVNHXaVPXr+pRMhGAAAAAAAIA8RQAGAAAADGSz2TTr3Tl6Y+brypBDZUMaqkT1SkbPume262mK/vmg4vafUKX6NTXztRnq+UgXo2cBAAAAAAAUGgRgAAAAwAAOh0NzF7yvqVOn6np6mgIfbCi/2sFGz8oxN1Ku68qOA4o/cEJVHmikObPeUJfWDxs9CwAAAAAAwO0RgAEAAIA85HQ6tfDTjxUWFqbEpCSVbdVAJetXNXpWrslIStGV8P1KOHJGNVs313tvztbDTVsZPQsAAAAAAMBtEYABAACAPPKvlcs1Ztw4xcbEqEzLeirdqIbRk/JM+tUkRW3bp6STF9Tg4RDNf2uOWtVtZPQsAAAAAAAAt0MABgAAAHLZV+vXKfQfI3Q58qLKNK+jMs3rGD3JMGmxCYraGqGUc5fVrHN7ffjmO2pYrZbRswAAAAAAANwGARgAAADIJRt/3KyhLw3X2RMnVbpZbZVpWltmD6vRs/KF61GxitoaodTLcWrV7REtfHOualZyn+9ABgAAAAAAMAoBGAAAAMhh4Tt36oWXXtTR/QdVuklNlWleRxYvT6Nn5UvXIq/o8k97lXE1WQ891VULZs1RcGB5o2cBAAAAAAAUWARgAAAAIIfs3RehgcOHaf+u3SrZsLoCWtST1cfL6FkFQvKZi4ratk+2lOv6a88n9cGMt1S+dIDRswAAAAAAAAocAjAAAADwJx06clgDQofp501bVKphdZVtVV9WXx+jZxVIiSfO60r4PjkybHrsuV6aN/V1lSnhb/QsAAAAAACAAoMADAAAANyjE6dO6oURofrpm+/kV7eyAh9sKI9iRYye5RYSjpzRlfD9Mpmk7gP76r1JM1S8iK/RswAAAAAAAPI9AjAAAABwl85HXtDAES/q+6/WqUT1+1Q2pIG8/IsbPcstxR88qSs7DsiziLf6hw7VzJHjVcTL2+hZAAAAAAAA+RYBGAAAAMimqOgreuEfL2ndylUqGlxOgSEN5V3az+hZhUJsxDFF7zwgH7/iGjZqpCYPHSlvD0+jZwEAAAAAAOQ7BGAAAADgDpKSkzVo5HD9+5/LVKRCgAJbN5JP2ZJGzyqUYn45pOhfDqlY2VL6x7ixGtd/iDwsVqNnAQAAAAAA5BsEYAAAAOA2rl+/rpGTJmjphwtl9S+moHZN5FuujNGzCj3HDZti9hxW7C+H5X9/eY0Nm6ARvZ6X1WwxehoAAAAAAIDhCMAAAADA/5ORkaGx06fow7nvyVzUR4GtG6rofUFGz8L/Y0/LUMzuQ4rde1QB1e/X5ClTNOjvPWU2mYyeBgAAAAAAYBgCMAAAAPA7m82mV9+apTlvviW7h1mBIQ1VvEoFo2fhDmzX0xS96zfF7TuuCvVqaNq0aerT6TGZCMEAAAAAAKAQIgADAACg0HM4HHpj3lzNfO01pdttCgxpqBI17jN6Fu7SjZTrit5xQHEHTii4eQP9H3v3HR1VuXBxeKd3ICGQhF5C702kCIgNpUizIArSRbAAYgULKkq5CooNuQJK770Zem8h9DRSSEghIZ1k0r8/0PnMDWCAJAPJ71lr1nDOvHPePRPXcjI77znTv/xK/bt2M3UsAAAAAACAYkUBDAAAgFIrNzdX3/93rj775FOlpF2XW4dmcm5Yy9SxcI8yklIUffC0Ei4Eq06H1pr19Qw93a6TqWMBAAAAAAAUCwpgAAAAlEq//LFAH388WfFx8XJr11QuzeqYOhIKWXp8kqIO+CgpIEyNurTTnBn/UefmD5k6FgAAAAAAQJGiAAYAAECpsmTtKr3z7kTFREarYrsmcm1Z/66P1aRabQ1o/7imrJ4vQ2aGcb+1pZXGd39RUQnXtGDvlsKIjXtgiE1Q1L5TSgmNVIunuuiH6d+obYMmpo4FAAAAAABQJMxNHQAAAAAoDuu2b1H1RvU0aODLUpXyqj+yzz2Vv5JU2dlV3Vu0l5WFpXGfhbm5Zgwco071m2mT98F7jY1CYOtaTjX6PqraL3WT37kL6tCitTo810NngvxNHQ0AAAAAAKDQUQADAACgRNuxb7fqtGyq/s/2UbqLveqP6qsKDzWSuZXlvz/5Lnzaf5iaVKulUfOmKzY5sUjmwN2xc3NRrecfV43nHpPPkeNq2bipur7cT/7hIaaOBgAAAAAAUGiK5lsvAAAAwMQOHDuiUW+9IV/v03JtWV/1R/WVha11kc45occAdW3USkN/nqqwa1fzPd7voS7q1qytnOzsFRAVrgV7t+hS9JU8Y9rVaawhXZ7J99yVR3brz7PHVb9SdY3v/oLeWjBLaX+ddtrKwlJfvzRa8SnJ+mLtAknS+8++opCYSC075GU8Rod6TfVCu8f05oJvjfscbe00pHN3tandQFk52ToV7K/5ezcrxZCWZ/7+bR/VU00fUhl7BwVEhmne7k0KiYmUJE3s+ZLquFe56Xvyw441Oh0amGdMbq50LSVR+31Pa6vPkTzjq7u669Uuz6hBpepKMaTJ69wJrTi8UzmFeOUah0oV5PlSNyUHR+jIzr1q1KChnnihj36aOlPVK3oU2jwAAAAAAACmwApgAAAAlCgnz/ioZZeO6tzxEV3NTlX9kX3k3qlFkZe/wx/taSxX/SIv53v8s+eGaVz3F3QqNECrju6Rs4OTFo/9RI2r1sozrmr5impctbbOXL5kvDWuWluVnF0lSWXtHdXWs5Es/3Ha6eFde+rxxq3VtHpt4776laqrWnm3PMd2K+Osh2o3MG7bWllrweiP9Fjj1tp+5qh2njuhbs3bav5rH8nG0so47tP+wzTumRfkExqglUd2y61ceS0e+4mqV3CXJF2KvpInqyTjdlLadUlSoyq1ZGFuoVMhAfIJDVBGVpamPDdcIx971jiPp3sVLX7jE1Uq56rVx/boRJCvXn+ij6a99Pqd/TAKyKlmJdUZ1F2Vn2ir3Ru2qm7duur3xnBFxsUWyXwAAAAAAADFgRXAAAAAKBEu+Ptp+Juv68ifu+XStI7qjegtK0f7Ypn7k/5D9USTNvp11wadDPbL93jLmvXUu3UnDZ/7tY5fuihJWnV0t74fMk7vP/uKXp7zmXGsrZW14lKSNGf7auO+Z1s9csu5q1dw19Au3RUYFX7HuV95pJscbOzU/9uPdD3dIEnaee6EVr79hXq26qhVR3erRY066tOmk4b+PNX42tYe36u5I95Tr5Yd9f32VVpzbG+erAf9zmrhvq355jsR5Kuf/lxr3E5NN6hr41aau3O9JOm9Xi/r4pVQvfbfGcr9a8XvQb8z+mPMx+pQr6kO+p2549dYEGXrVFPZOtWUcDFEm5es1OYlK9Vv6Cv67uMvVd6pbJHMCQAAAAAAUFRYAQwAAIAHWlBIsB7t3V2NGzaUb0So6o3so8pPPlxs5a8kmZmZ6ezlS3qx/eOq/NdK3X96tFFLBUSFGcvfvy058KeaVK0l13+UjHbWNkrNMBR47kl9XtXRwAvafcE7z/7E1BS5lrl9edm1USvtPu8tczNzOdnay8nWXtcNBp0I8tVDng3+yt5KvhGheYrt7JwcDfvlK32/fVWBc0qStaWVcZ4GlWuoXd3GOhXsL+nGqajb1KqvZYf+NJa/knQ2LEhnLl9S10Yt72iuu1GuQQ3VG95bFdo21spfF6pq7Zoa/vFEJaVeL/K5AQAAAAAACgsrgAEAAPBACo+M0Ihxb2jHmg1y8qyiukN7yca5jEmyfLryv8rMztLiNz7VjJfHatCPnysrO9v4uFtZZ4XGRud73uVrN/ZVLOus2ORESX8VwOnpBZq3Z6uOalKttvr+5wP1fahznse8Q/z12mPPqlP95joaeF5OdvbqUL+p7Kxt/j9XOWcN7PikBnZ8Mt+xjwVekCS5l3NReFxMgfL8m6Fdumtol+55Mv69IrhCmXIyMzO75ftUsaxzoWQoCJcmnnJp4qlrp/y08NsftOzXBXpt4tuaMmaC7G1siy0HAAAAAADA3aAABgAAwAMlKuaqRk8cp41LV8qhurs8X3lGtq7lTB1LhswMTVw0R0ve/Ezju7+o6RsWGx+7bjCoSvmK+Z5TxvbGKuW/T78sSWUdHHUtJfFf5ytr76gJ3V/UL17rFBGf/5q1i/dvV6MqNfT9kHG3PEZqerq2nNqm+Xu25HssMzvLmK2KS/7sd2Phvq1auPfGqaFtrKw09ql++nn4RA2c85muG268B2XsHPI9r4ytfZ73qLiUb1FP5VvUU8zxC5o1+QvN+/5HvfnuO/pw+BjZWhXtNaUBAAAAAADuFqeABgAAwAMhPjFBL4waqqrVqmnnvj2qNeAp1ejz6H1R/v4t6GqEvly7UAM7PKmujVoZ958K8VfTarXl7OCUZ3yXRi11LSVRYf9Y9VqjgoeiE+L+da7x3V/UteRE/bFv200fz8rJ1ruLf1TXz9/UKz98rn7ffqQv1y5UWsb/ry4+czlQDSrX0LWUxDy3GhXcjadh9gkJUNNqteXimHd19YD2j6tbs7b//qb8Q1pGunGOiPhYrTi8S42q1FQ1VzddTYrXlfhYdWnYIs9zHG3t1KpWfeOpok2hQpuGajCqr+yqumnquPdVpXFdfb3gZ2NJDgAAAAAAcD+hAAYAAMB9Lfl6il59+3W5VaqkTVs2q3r/rqr53OOyc3MxdbSb2njygDacPKApzw1Xpb+uB7z99FFFJ8RpxsAxqlnRQw42tnqmRTsN6dJd83ZtVE5ursraO+qFdo+pefU6Ohxw7l/n6dqopT5fs0BZOdm3HXctJVFnLgcqMCo8z2mpJWn+ni1qVt1T7/YcqIq8OlFhAAAgAElEQVRlnVXW3lEDOz6p3177UB3rN5UkbfM5oqtJ8fp20JvydKusMnYOeqHdY3qv18t3XIC6l3NRixp11KJGHT3k2VBDu3RXiiFNVxPjJUlzvdZrYIcn1adNJzna2qlaeTdNHzhGyYZUbfQ+eEdzFTZzK0tVbNdE9V/rK4vyZfTRqDdVtVkDzV6+8F9/BgAAAAAAAMWJU0ADAADgvmRIT9e4Tz7U/B9/kYWjnar06CinGh6mjlUgX65dqEZVamrGwDEa/NMXSs/K1Mh50/TF8yO1bsLXkqQUQ5p++nOtlhz8U5LUrJqnxnV/USsO79R+39P/Osfa4/vkExpwTzkDosL0+m//0aTeg43XAU5Ku64v1i7QVp8jkqT0rEyN+nW6vnxhpFaPnypJSk036JvNy7Tz3Mk7mq93607q3bqTpBsrlAOjwvXWwlnGVcnrTuyTg42txnd/UZ/2HyZJ8gkN0Ii5XyvVBKeAvhkLG2u5P9JCrq0b6uqRsxr/ynDNmDZdn376qYb27C9zMzNTRwQAAAAAAKWcWe7f53YDAAAA7gOZmZn64Ksp+mnW98qxMpd7xxYq41nF1LEKjYuDk5zsHBQRH3tfnULYrayLbK2tdeVazC1XtLo4OKmMvaMi4mOVkZVZZFksLSxUqZyrUtLTFJeSVGTzFIbMlFRdPXxW1077q3qbppr6+Rca8Hh3mVEEAwAAAAAAE6EABgAAwH0hJydHn34zTd9On6nMnGy5dWimcvVrmDoWUCAZSSmKPnhGCReCVLtdS82Y+pV6P/K4qWMBAAAAAIBSiAIYAAAAJpWbm6sZP32vqV98qbS0NLl1aCrnRrVNHQu4K+nxSYo+cFqJAZdVv3Nbzf5qhp5o097UsQAAAAAAQClCAQwAAACT+WHBPH3yySdKik9UxfZNVL5ZXVNHAgqFITZBUftPKSUkUk2eeERzvp6pjk1amjoWAAAAAAAoBSiAAQAAUOz+u3yxPvrwI12LvqqKDzeWa6sGpo4EFIm06DhF7vNWWkSsWj/TVXOm/Uet6zQ0dSwAAAAAAFCCUQADAACg2CzbuE4TJr6j6MvhqvBQI7m2rC9zK0tTxwKK3PWIGEXuOan0a4nq0Lubfpw6U41qeJo6FgAAAAAAKIEogAEAAFDkNnht19vvjFfoxQBVaNNQrm0aysLaytSxgGKXHBKhqP0+yky+rkf799KPU2fI06OqqWMBAAAAAIAShAIYAAAARWbnoX16/e23FHj6nMq3qK+KbRvLwtba1LEAk0sKDFPUAR/lpGeq20v9NWfK16rq6mbqWAAAAAAAoASgAAYAAEChO+R9XKPeekMXjp6US7M6qvhwE1na25o6FnDfSfANUfSB01Jurp599SV99/GXcivnYupYAAAAAADgAUYBDAAAgEJz6vxZjXh7rE7u2i+XJnXk1qGprBztTR0LuO/FnbukqwdPy8LKSs+PGKxvPvxMLo5lTB0LAAAAAAA8gCiAAQAAcM8uXgrQiLfG6tA2L5VrUFNuHZvJuoyjqWMBD5xrPn66euisrBztNWjMSE2f8JGc7PgjCgAAAAAAUHAUwAAAALhrIWGXNWzcWO1Zv0VOnlXl/khz2TizahG4VzEnLijmyDnZuZTVyHFvaMqYCbK34TTqAAAAAADg31EAAwAA4I5FREdpxIQ3tW3lOjlWc5d7pxaydS1n6lhAiZKTmaXYkxcVc+y8HN1dNX7SB3p30EjZWlmbOhoAAAAAALiPUQADAACgwK5ei9Xr703Q+sXLZeteXh6dW8rOzcXUsQqdo62dhnTurja1G8jC3FzHLl3Ub7s3KdmQKkma2PMl+UVc1tWkeI3o2kv21rbyCQ3QrzvXK+56svE41pZWGtjxSbX1bChnBycFRl3RogPbdfFKiHHMxJ4vqY57FUlSbq50LSVR+31Pa6vPEUmSmZmZfhk+UT/sWKPToYHG5/Vs2UGta9fXJyv/K0nq1aqjmlbz1BdrFxjH1KjgoQ+efUU7z53QiiO7jMf6W1ZOjqIT4rT2+D6dufz/xy5Ibklq69lIA9o/Lnfn8gqLjdbqY3t0JOC88fEvXhipni076Mmp4xSdGJfnuS4OTtr98Rx5nTuhCX98b3wvQmOitOLIrpv+XJ5/uKuqV3DXjI1LVNbeUV+9OEprju+T19njxjEf9RmspLTr+n7bqpse40GUnZ6hmOMXFHviosp7VtO7H36gt14cLCsLS1NHAwAAgImkpaUpKytL2dnZt72/1WMtW7aUoyOX7QGAkopvDAAAAPCv4pMS9fr7E7R64WJZuZRR9f5d5VCpgqljFQlbK2stGP2RbKystfzQTuUqVy91eEId6zXVS99/qszsLDWqUkv1K1WXW1kXrTyyS5nZWerf9lF1atBML8z+WCmGNEnSnCHj1KByDS0+sEORCdfUpWELLXx9kvp986HCrl2VJDWqUkvZOdk6EeQrSXIr66Ipzw1X1fJumrtzvczNzNTWs5GWHvLKk7NK+YpqXr2Ocbuaq5uaVq+dZ8zkvq+qda36uhR9RZKMx9pw8oAi4mNlZmam+pWqa8HojzTy12nGDAXJ3bNlB3363DCtPbZP+y76qEm12vp52ER9tHyuNp86dCOjS0VJ0ovtH9fsrSvyZHu+3WOSpPKOZY37GlWpJTOZ3fJnU6OChxpWqSlJSkxNkX9kmN7v9bIO+p1RWka6ujZqpb5tOuvF7z65/Q/5AWNhYy33js3l2qqBYo6c1XtDXtM3M2fqo8mTNar3C7I0tzB1RKDUMxgMys3N1d9/Y//3v9lmuzi2c3Jy8jzGPffc39/3BoNBhcHW1laWlpaysLC4o/uMjAyZmZlp1apVFMAAUIJRAKNUCAoK0tChQ2VmZnbbm6R/HXMv4++n55ibm5vgJwEAeNC4urrKO9hPi3+dLwsHW1Xp3kFONSubOlaReuWRbirvVE59Zr6vhNQUSZLX2RNaMPojtavTWPt8fSRJjarW0rMz3jOubN148qDWvfO1Bnd6Wj/sWCNrSyvt9z2j2VtX6nx48F9jDshr0mw91ri1FuzdYpzzRJCvfvpzrXE7Nd2gro1bae7O9Xf9Onq16qhGVWrqSlxMvsfWn9hvLHslacXbn6tLwxY6EeRboNx2VtZ6/9lX9J9NS7Xk4J+SpDXH9yrZkKq3n3neWABL0pW4GPV7qLN+8VonQ2aGJMnKwlLPt+uquJSku359kvTTn2v1RNM2GtG1l372Wqd3egzQb3s2KSAq7J6Oe7+ytLORx6Ot5dqmoa4ePquxz72saa2+1rSvv1a8b4iio6ML7YvJwjjGg5zhQX79OTk5xn//fWP7/7cL60v3W7G1vXGt7tv9bsY224W9bW5ubvwd/59juOee+wfj/u//dxSXadOmKSEhQbVq1SrWeQEAxYsCGCXe0aNHFRkZqU8++STPlwC3u0kq8NgH+TkAABSEubm5zC0t5FDVTXZu5U0dp8h1bdRKW04dMpa/khSdGKenv56QZ9whv7N5TmucbEjVFp/D6tSguX7YsUYZWZn6Y/82STe+3KngVE5VyleUpbmFXByc8hzL2tJKTrb2km6s7G1Xt3GeUynfqbL2jhrf/UX95LVOjzZsme9xe2tbOdnay8LcXM2qe6paeTfN3blBkgqUu03thnK0tdO200eNuSXpzzPHNLjT06pZ0UPBVyMlSXsv+qhzg+bq3qK9Vh/bI0l6pkU7ZefkaPd5b9X1qJYn21PN2kqScpWra8mJOhJ4XhfCQ276OtOzMvX5mgX6/tVxcnZ0UmZ2lvF1lGRWjvZyqOqmlMtRysnKlvT/ZcC/FQC3e6y47kvr3MWV4Z//Dfx9Y/vm28X9hTsAAAAAFBcKYJR4R44cUXBwsGbNmmXqKAAAPLBmTJ6i1z98R2sXLVfZBjVU4aFGsrCxNnWsIuFezkXhf53m+HaiEq7l2xcRF6OKLdobtzvUbaLBnZ9W02qesrWyVnhczI3y4R9FkCQN7dJdQ7t0N257h/jnWREsSbMGvaXsv1b2SZKFublCYiJvmm1C9xcVm5ygRfu33bQA/n7IuDzbyw555bmO7r/ldivnLEnaPfn7m87vbO+kYN3Ilpubq+VHdumljk8aC+CBHZ/UisO75Pw/RbgklXNwVCVnV0lS61r19Wa35zR13e+3vC7wkYDzOn7povq26ay3f5+tzOysm44rKZICwxR18LTKupbX9B++0+vPDbxxCuiupk4GAAAAAADuFxTAAAAA+FfOZcpq6ZxfdfWzrzR03Fj9+dtGOTevI9dWDWRhbWXqeIXqerpBZewc/nWck519vn3lHJyUkn7j+r8Nq9TQ90PGa92JfZq1dYWCoiNkyMzQ0jc+y/e8hfu2auHerZIkGysrjX2qn34ePlED5/z/2GWHvLTrvLdxe3Cnbqrskv86zK1q1lPPVh01+Mcv8hTG/zT+j+/kExIoSXJxLKOpL47SOz0GaOampQXKnZqeLkl67Is3dbOTiiSmpeTZXntsr15/oo/aejZSbm6Oalbw0KqjuzWia698z11+aKemb1xs3H6v18sa/WTfWxbAlZ1d1bJWfcUmJ6p3607a/Y/3qCRJDolQ1H4f2Ts56JNpUzXh5WGysuDXOQAAAAAAkB8XAQUAAECBVSzvqk2/L5Pf+Qtq7FZNAb9tUMyx88rJLDmrLn1C/PVoo7yrZq0sLPXW08+rUZWaxn1tPRvK0sIiz7jODZrrTOglSVKjKjWVnpmhKavn60J4iAyZGbI0t5CHc/7TaKdlpOtaSqKupSQqIj5WKw7vUqMqNVXN1c045kjgeR39x+1sWFC+41hZWGpy3yFafXSPzlwOvOVrTEy9bpwvICpM288c1dPN2xU499/HrlHBw3icaymJsrSwUIUy5ZSVnZ1nvqS069ric1gDOz6plx/ppq0+RxR/PfmW+f7pwpUQlbVzkPn/rJr+26S+Q3QxPFgj5n6tjvWa6smmDxXouA+K6+HRClyyTXHHLuidyR8q/Jy/3h88ivIXAAAAAADcEgUwAAAA7liNqtXktXK9fLxPqbajq/z/u16x3r6mjlUoFuzdIk/3Kprc91VVKFNOFcs666M+gzWgwxOKSU4wjrO2tNJn/YerYhlnuTg46b1eL6uuRzXj9XMvRUfI3sZWvVp1lI2lldzKuujz50fI0dYu35zu5VzUokYdtahRRw95NtTQLt2VYkjT1cT4O8peq2IllbG31+ytK247ro57FeN8nRu2UM+WHRQUfaXAucOuXdW200f1xQsj1dazkeysbVS/UnXNGvSWvh4w+qZl7dKDf+qR+s30SP1mWnLwz1tmcyvrrNa16qt1rfrq2bKDxj7ZT/su+ijnJkuNe7Rsr4c8G+jLtQsVdDVCC/Zt0QfPvlKgFdz3u9SoWAWt8FLUrpMaPe5NRfhe0pTR42RrVTJPvQ4AAAAAAAoPfzYOAACAu9agdh3t37hNp86f1fC3xujc3LWq+HBjuTStY+pody0w+orGzv9Gk/u+qv5tH5UkRSZc01sLZuUpZLf4HJaVhaX+/GiWJCk2OVETF8+Rb0SoJMk72E9zd67XJ/2G6vPnRyg7J0f/3b1RAZHh+ebs3bqTerfuJEnKyslWYFS43lo4S2kZ6bIwv7O/2Zy5aamSDam3HfP+s68Y/23IzNDJIF9NWTP/jnJ/vOJXvffsy/ph6HjjatSD/mc1/o/vblrW+keGySfEXzIzM75HN/N4kzZ6vEkbSVJyWqr2XvTRtA2L8o0ra++od3q8pEX7tyvwr/J6rtd6dWvWVu/2fEmTVvx62/fgfpUWE6/ofaeUmXhdL4waotkfTlEZ+we/0AYAAAAAAMXHLDf3ZlftAkqO2bNnKzg4WLNmzTJ1FAAASrx9x49o5NjXFRxwSW4dmsq5YS1TR7prZmZmci/rIgtzC12Jj9E/PzYvGD1JF8KDNX3jYpV3LCsHG1tFxMcqKyc733EcbGzlUa68rsTHKi0jvThfwj0paG47K2u5lSuvpNQUxRXwtM7IzxCXqOj9PjJcjdezQwbqu8lfyK2ci6ljAQAAoISZNm2aEhIS9NVXX5k6CgCgCLECGAAAAIWmU5uH5XvUWxu8tuvtiRPkd3i93Ds2V9l61U0d7Y7l5uYqMuHav477+/q3t3I93WBcofogKWjutMwMhcREFkOikikjIVlRB08rNfyqug3srzmffa2q/7j2MwAAAAAAwJ3iGsAAAAAodL0ef0pBp85pwfwFyvQNl//CTUoKzH/qY6C0ykxOVfj2wwpctFUtW7TQ+YsXtP6H+ZS/AAAAAADgnlEAAwAAoMi82LO3rvgGas7s75R83FeBi7YoOeTBXy06feMiLT+809Qx8ADKup6mK17H5P/bBjWoU1cnz57Wzj9WydOjqqmjAQAAAACAEoICGAAAAEVu2AsDFRMark8nf6K4A6cVuGSbrkfEmDrWXbsQHqLQ2ChTx8ADJCstXZG7T8hv/kbVqFRFB0+d0IGVm9S0Vl1TRwMAAAAAACUMBTAAAACKhZmZmSa+NlZxYZGa+PZ4RW8/qqCVXkqLjjN1NKDIZKdnKGr/KfnNWydXh7LaeXCvTmz8U20bNDF1NAAAAAAAUEJRAAMAAKBYmZub69MJ7ynuSpRGDRmmKxv2K2T1LqXFxJs6GlBocjKzdPXwWfnOXSsnWWnNts26sPuQOjd/yNTRAAAAAABACUcBDAAAAJOwsrLSzMlTdC0yWs/16qPQFV4K3bBXhrhEU0cD7knM8QvynbtG1qmZ+mPtSgUeOqlenR4zdSwAAAAAAFBKUAADAADApGxtbDTvm+8UHRGpZ7o8rqBF2xS2+YAyklJMHQ24I9d8/HTxp1Uyi03Wz4sXKuT4GQ14qqepYwEAAAAAgFKGAhgAAAD3hXJlymrJT/MUER6uLm3aKeC3jQrffkSZKammjgbcVty5S/L9ZY0yL8do5i8/KOz0RQ179nmZmZmZOhoAAAAAACiFKIABAABwX6lQ3lVr5i9SSEiI2jZoooD5GxWx67iyUg2mjgbkkeAbIr9565XqG6rPvpmuK+f99eaAV2VO8QsAAAAAAEyIAhgAAAD3pSoelbRl6Sr5XbioxpVryn/eekXu9Va2IcPU0VDKJQWGyX/BRiWc8te7n01WlH+w3h86WpbmFqaOBgAAAAAAQAEMAACA+1utGjW1e91mnT59Wp7lKsrv17WKPnha2RmZpo6GUiY5JFKBf2xR7OFzGj3hbUVfCtWUsRNkZWFp6mgAAAAAAABGfFMBAACAB0LDuvV0aNtOnTzjo5FvjdWZuWvl2qahXFvWl7lVyfxYW79SdY3v/kK+/e8u/lEJqSma2PMl+UVc1tWkeI3o2kv21rbyCQ3QrzvXK+56siTphXaPqVl1T3247Jc8x+jWrK26NXtY7yyaI0/3KjedR5L2XvDR4oM7JEkTe76kOu5VbjpuwqI5Sk4rmddrvh4Ro8g9J6X0TL3y+kj95/1P5GBrZ+pYAAAAAAAAN1UyvykDAABAidWqaXOd3H1AB44d0WtvvSG/X9eqQtvGcm3VwNTRCl1Ze0e19WykhXu3KCM7y7g/869/N6pSS/UrVZdbWRetPLJLmdlZ6t/2UXVq0EwvzP5YKYY0BV2N0Ie9B+m33ZsUGH3FeIwBHZ5QbFKCsnKybzlPj5YdVLNiJeN2oyq1ZGlhoSMB54z7PMq5qkfL9rK2sCrKt8Ik0qLjFLXPW5mJKXp+xKv6bvKXKuvgaOpYAAAAAAAAt0UBDAAAgAdSx4ce1rnDx7Vj326Nen20Lv68Wm7tmsqlWR1TRyt0v+7aqGTDzVfXNqpaS8/OeE/RiXGSpI0nD2rdO19rcKen9cOONTp+6aIiE67p6ebt9P32VZIk93IualbNU28tnHXbeVrUqJtvvjOhgZqzfbVxu3Wt+urRsv09v8b7iSE2QVH7fWS4GqdnBw3QD59PU4WyzqaOBQAAAAAAUCBcAxgAAAAPtCc7Pargc776448/lHMpSr5z1yr+fJCpYxWbQ35njeWvJCUbUrXF57A6NWhu3LfZ+5CeatbWuN2t2cOKv56sA35nijXr/S4jIVmXN+5X8Io/1blLZwUFXtKK7+ZS/gIAAAAAgAcKBTAAAABKhBd69dGVgCD99MMPSj8fIr//rleiX6ipYxW5qIRr+fZFxMWoYpn/Ly03eB9Q1fIV1bhqLUnS080f1uZTh5Sdk1NsOe9nmcmpCtt2SIF/bFGb1q3l6++vDXN/V2XXiqaOBgAAAAAAcMcogAEAAFCiDH3pFUUFXdaMadOVfNxP/gs3KelSuKljFRknO/t8+8o5OCklPc24HRoTpbNhQerWrK2qu7qrfqXqWn/iQHHGvC9lXU/TFa9j8v9tgxrXb6AzFy9ox+8rVMujiqmjAQAAAAAA3DUKYAAAAJQ4ZmZmemPYSMWEXdEnH05S3P7TCly0VSmhkaaOVujaejaUpYVFnn2dGzTXmdBLefZtPHlATzVtq2datJNvRKgCosKKM+Z9JSstXZF7Tsp//kbVrlJNx8+c0r7lG9Sgei1TRwMAAAAAALhnFMAAAAAosczNzfX+m+N07UqUxr/xlqL/PK7AJdt0PSLG1NEKjbWllT7rP1wVyzjLxcFJ7/V6WXU9qumP/dvyjNt2+qhcHMtocOdntKGUrv7NTs9Q1AEf+f93vSo7u2rv0UM6un67WtRtaOpoAAAAAAAAhYYCGAAAACWepaWlPn//I8VFRmvUkGG6smG/glftVFpMvKmj3bMtPoeVmmHQnx/N0u6P5+jJpg9p4uI58o3Ie/3jxNQU7fc9LStzC23xOWyitKaRk5mlq0fOym/eepW3tte2vTt1atsetW/cwtTRAAAAAAAACp1Zbm5urqlDAEVp9uzZCg4O1qxZs0wdBQAA3CdSU1M17pMPteCnubKtXEHunVrI1qWsqWPdsQWjJ+lCeLCmb1ys8o5l5WBjq4j4WGXlZN90/NcvjZatpbXe/n12MSc1ndgTFxVz7LyqNamvb6dNV89HHjN1JAAAAMBkpk2bpoSEBH311VemjgIAKEKsAAYAAECpY29vr19mzFJMZLR6P9FNwYu36fKm/cpISDZ1tLt2LSVRl69F37T8tba0UrPqnnqiSRstPeRlgnTF75qPvy7+vFqWiWlauGqZAg+dpPwFAAAAAAClAgUwAAAASq0yTk5aOOcXRYRfUeeWD8l//kaFbzuszORUU0crNJbmFtrz8Rz9/vpkrTi8S0cDz5s6UpGKP39Jvr+uVW5kvH76/TeFHD+jAU/1NHUsAAAAAACAYmNp6gAAAACAqbm6lNe6P5bp8ldhGvH2WP05d41cmtWVW7smsnSwM3W8W5q+cZGuGwy3HZOTm6ORv05TbHKCohLiiilZ8UvwC1X0AR+VrVBeM374TmNfHCxzMzNTxwIAAAAAACh2FMAAAADAX6pVqartq9Yr4FKghr81VgfnrZNLs7qq0LaxLO1sTB0vnwvhIf86Jic3V+fCgoo+jIkkXQpX1AEf2TvY69PpX+mdV0fK0tzC1LEAAAAAAABMhlNAAwAAAP+jTm1P7d20Tae8T6mWk6v85q5V1AEfZadnmDoa/nI9PFoBv29W3LELmjjpQ0X5B+v9oaMpfwEAAAAAQKlHAQwAAADcQpOGjXTEa48OHzokDzM7+c1dq6tHzionM8vU0Uqt1KhYBS3boejd3npt3JuKvhSqKWMnyMqCkxsBAAAAAABIFMAAAADAv2rTspV8DhyRl5eXnFNz5fvLGsUcv2DqWKVKWky8glfvVMTWwxo4ZLCigkL1zbsfy9bK2tTRAAAAAAAA7isUwAAAAEABdW7fUReOn9KGDRtkG5Oiiz+t0jUfP1PHKtEMcYkKXb9XYev3qk//fooIvqyfP/1aDrZ2po4GAAAAAABwX6IABgAAAO7Q0489oaCzF7V0yVKZhcTI95c1ijt3ydSxSpSMhGRd3nxAISt36pmnn9bloBAt/Hq2yjo4mjoaAAAAAADAfY0CGAAAALhL/Xr0UpjfJX3/3XcynAmS37x1SrgYYupYD7TM5FSFbz+sS0u269FHOulycIiWfPuTKpR1NnU0AAAAAACABwIFMAAAAHCPRg4aoujQcH31xZdKOn5R/vM3KjEwzNSxHihZqQZF7DyugAUb1bZFKwUGBmrNT/Pl5lze1NEAAAAAAAAeKBTAAAAAQCEwNzfXuNFjFRMWoUnvf6C4vT4K+GOLkoMjTB3tvpZtyFDkXm8FLNikJnXq66K/n7bMX6pqbh6mjgYAAAAAAPBAogAGAAAACpGlpaU+Gj9RsRFRGvf6WEXtOKrAJdt0PSLG1NHuK9kZmYo+eFp+v22Qp0cVnTx9SruWrpFnleqmjgYAAAAAAPBAowAGAAAAioC1tbW+nPSJrkVGa8QrgxW+bq+CVngpLTrO1NFMKiczS1ePnZf/vPWqUsZFh44e0aG1W9WkVl1TRwMAAAAAACgRKIABAACAImRnZ6dZU6frWtRVvfhsX4Ws8FLImt0yxCaYOlqxi/X2ld+89XI1t5XXvj06sWWX2jRsYupYAAAAAAAAJQoFMAAAAFAMHBwc9Ous7xV9JUI9H3tSQYu3KXTDPqXHJ5k6WpGLOxMg37lr5JiWo43bt+jszgPq1KKNqWMBAAAAAACUSBTAAAAAQDFydnbWop/n6UpYuB57qL0CFmxS2JaDykhKMXW0Qhd/IUh+89bJMjZFS1evlN+B43qqXSdTxwIAAAAAACjRKIABAAAAE6hYoYJWL1yskOBgtW3QVH6/rteVHUeUmZJq6mj3LNH/svznb1Du5Vj9unC+go+fUd+u3UwdCwAAAAAAoFSgAAYAAABMqGrlKtq6Yo0CAvzVoGJV+f26ThG7jisr1WDqaHcsOeiKAhZulsEvTN/+MEeXfS7olR59TR0LAAAAAACgVKEABgAAAO4DtWvW0v7tXjpx/KE78AsAACAASURBVISq27vIb+5aRe07pWxDhqmj/avr4dEKXLRFSd7++nzaVEWcD9Brzw2UmZmZqaMBAAAAAACUOhTAAAAAwH2kRbNmOrH3gPbv2ye3XGv5/rJG0YfOKDsj09TR8kmNilXQ8j8Vu/+M3ps8SVEBwZoweKTMKX4BAAAAAABMhgIYAAAAuA+1a/uwzhw5oR3bt6tMUqb85q5VzLHzysnMMnU0pcXEK2T1LkV7Hdfrb4xRTPBlffzaW7I0tzB1NAAAAAAAgFKPAhgAAAC4j3Xt3EX+p89pzerVso5MlN+v6xTr7WuSLOnxSQrdsFdXNh/UoFcHKzo4TNMmfCQrC0uT5AEAAAAAAEB+FMAAAADAA6Bnt2cU4hug3xcskIKuyvfn1Yo7E1Asc2ckpShsy0GFrt6t/n36KTokTN9P+kJ21jbFMj8AAAAAAAAKjgIYAAAAeIC82O85hQcG6acfflT6+VD5/bpO8ReCimSuzJRUhe84oqClO9Tt8ScUEXJZ86b+R4529kUyHwAAAAAAAO4dBTAAAADwgDEzM9PQlwcpKiRM07/+Wikn/OX/2wYl+ocWyvGzUg2K2HVclxZvU+eH2+tycIiWfPuTnJ3KFMrxAQAAAAAAUHQogAEAAIAHlLm5ud4cOVpXw67ok48mKf7AWQUs3KykoCt3dbxsQ4ai9p1S4B9b1KZxMwX4+WvNT/Pl5ly+kJMDAAAAAACgqFAAAwAAAA84S0tLvf/2BMVcidTYUa8patsRBS7aotSo2AI9PyczS9GHzihg4SY1quGp8+fOacv8parm5lHEyQEAAAAAAFDYKIABAACAEsLa2lrTP/tCsVHRGvrSK0rcf1Yha3bLEJtwy+fEHDsv/982qJaru054n9SupWvkWaV6MaYGAAAAAABAYaIABgAAAEoYBwcHfT/jG10NuqxJE95V9LYjurxpvzISko1jYr195fvLGlWyK6MDhw7p0NqtalKrrglTAwAAAAAAoDBQAAMAAAAl2MTXxiouLFLjho/WlbX7FLR8h3znrpVLjpX+3L1LJ7bsUpuGTUwdEwAAAAAAAIWEAhgAAAAo4czNzfXxuIlKuhqrL9/5UGuXrdDZnQfUqUUbU0cDAAAAAABAIaMABgAAAEqRoMBL8r/oa+oYAAAAAAAAKCIUwAAAAEApYjAYZGtra+oYAAAAAAAAKCIUwAAAAEApQgEMAAAAAABQslEAAwAAAAAAAAAAAEAJQQEMAAAAlCKsAAYAAAAAACjZKIABAACAUoQCGAAAAAAAoGSjAAYAAAAAAAAAAACAEoICGAAAAChFWAEMAAAAAABQslEAAwAAAKUIBTAAAAAAAEDJRgEMAAAAAAAAAAAAACUEBTAAAABQirACGAAAAAAAoGSjAAYAAABKEQpgAAAAAACAko0CGAAAAAAAAAAAAABKCApgAAAAoBRhBTAAAAAAAEDJRgEMAAAAlCIUwAAAAAAAACUbBTAAAAAAAAAAAAAAlBAUwAAAAEApwgpgAAAAAACAko0CGAAAAChFKIABAAAAAABKNgpgAAAAAAAAAAAAACghKIABAACAUoQVwAAAAAAAACUbBTAAAABQiqSnp1MAAwAAAAAAlGAUwAAAAAAAAAAAAABQQlAAAwAAAKWEwWCQjY2NqWMAAAAAAACgCFEAAwAAAKUE1/8FAAAAAAAo+SiAAQAAAAAAAAAAAKCEoAAGAAAASglWAAMAAAAAAJR8lqYOANxvVq9erfLly6tLly6mjgIAAFCo7qQAvnz5slavXq3Q0FB5eHiod+/eqlevXhEnBAAAAHA/uHr1qlavXi1/f385OTmpbdu26t69u6ljAQAKiBXAwF9SUlI0YMAA9e/fX8uWLTN1HAAAAJOZPXu26tWrp61bt8rMzEz79+9XkyZNtGbNGlNHAwAAAFDElixZojp16mjlypXKzs5WRESEBgwYoOeff97U0QAABcQKYECSn5+f+vTpI09PT/Xt29fUcQAAAIpEQVcAt2vXTocOHVKLFi2M+8aNG6cJEybwWQkAAAAo4bp06aKDBw+qcePGxn1DhgxRx44ddfz4cbVp0ybP+NDQUK1cuVLvvPNOcUcFANwCBTAgydLSUgMGDNCkSZM0YMCAAj0nLi5OU6ZMybd/5syZ8vb2lre3t3r37q1vv/1Wvr6+8vDw0IgRI9SqVStJ0ueff67WrVvr6aefzvP8PXv2aMeOHZo6daqWLFmiY8eO3XT+zp07q0+fPpJU4HE5OTny8vLS9u3bFRYWpgoVKmjQoEFq27ZtgV4zAAB4sBW0AH7ooYfy7evSpYtmzZqljIwMWVtb53v8dp+NkpKSNHXqVH355Zf68ccftX//ftnZ2alv377q16+fJGnp0qWKjY3VG2+8kef54eHhmjlzpiZOnKgrV65oyZIlN81cuXJlTZw4UZJ07NixAo1bsmSJMjIy9Oqrr9507KlTp7Rs2TJNmzbtpo8DAAAAJVGlSpVUqVKlPPuaN28uSYqIiMg3PiwsTD///HOBCuCbfY/5+OOPq0ePHpoyZYoGDRokb29vrVq1SgaDQZ06ddLo0aNlY2Oj+Ph4ffbZZxozZozq1KmT5xjz5s2TmZmZhg0bpilTpiguLu6m8w8bNkxNmjSRpAKN+/v3nPfff1/u7u43HfvVV1/p4Ycf1qOPPvqvrx8AigungAYk1a5dW5MnT5aZmZmysrIK9JykpCTNnj1biYmJsrS0NN4k6cKFC/ryyy/VtWtXZWdn6/HHH1d4eLjat2+vQ4cOSbrxJekHH3yQ77hffvmlQkNDJUk7duzQ5s2b841ZtWqV9u7da9wu6Ljw8HC98cYbsrGx0RNPPKG0tDR16NBB3t7eBXrNAACg9PL391e1atVuWv5Kt/9slJSUpP/85z967LHHdOLECXXt2lXlypXT888/r5kzZ0qS7O3tNWHCBMXExOQ57sKFC7VmzRp5eHjowoUL+uWXX/LNfeTIES1evNi4XdBxO3bs0KZNm275mv38/PTDDz/c5l0BAAAASofff/9d9vb297yQZMeOHdq6dWue3xnMzW/UFL/99ptefvllffPNN2rdurWaNm2qzz//3PhHo87Oztq7d2++z+gGg0ETJkxQTk6O8TinT5/ON/fs2bN16dIl43ZBxv39e05sbOwtX9PChQt18uTJO3wnAKBosQIYuEcTJkzIczqUv4WHh2v58uXGa2O88cYb6tGjhz744APt3btXI0eO1KxZs+Tt7a2WLVtKuvEXdLt27dL27duNx2nWrJlmzZqV59g+Pj755ivIuGrVqsnPz8+4PWLECJ0+fVpr1641ZgAAACVXQVcA/6/U1FR99913ev311/917K0+G0lS06ZN9eOPPxq3a9Sooc8//1zDhw9Xjx49VLFiRf3xxx8aP368cczixYs1aNAg45dCDg4O+T7zfPrpp1q3bl2efQUdBwAAACC/3NxcTZs2TdevX9eJEycUGRmp9evXG1fBxsTE6MqVK5KkwMBAZWRk5PkuskmTJrKwsLjpsZs0aWL8Q9D/lZiYqNOnTxs//z/zzDNq27atdu/erUcffVSjRo3SpEmTNH36dOMfp65fv16ZmZl64YUXjMfp16+fxo4dm+fYs2fPzjdfQccBwIOGFcBAETEzM9Ozzz6bZ9+wYcO0f/9+ZWRkqEGDBnrkkUf03//+1/j40qVLVblyZXXt2rXI8yUkJCg8PFzu7u6Kiooq8vkAAIDp3U0BnJOTo8GDB6ty5cqaMGHCPc3fu3fvPNvDhw9XUlKSjh8/LgsLCw0dOjTPZ6OTJ0/q4sWLGjx48D3Nezs5OTkyGAwyGAzKzc0tsnkAAACAB0lubq58fHx05swZRUREKDs7W+fOnTN+Zt6wYYN69OihHj166N1331VERIRxu0ePHkpKSrqreXv27Gksf6Ubl6dp2rSpvLy8JEkDBw6UwWDQ+vXrjWMWLVqkvn37qkyZMvfwim8vIyNDBoNBmZmZRTYHABQmCmCgiJQrV042NjZ59lWtWlW5ubkKDw+XJI0aNUpLliyRwWCQlH+FS2G7cOGC+vbtK2dnZzVo0EDPPPOMDh06xJedAADgpnJzczVq1CidPXtWGzZsuOXpnwvqf6+Z5ezsLAcHB4WFhUm6UQj7+vrq6NGjkm58NurQoUO+63sVprVr18rOzk52dnaytbVVixYttHXr1iKbDwAAAHgQmJuba9myZVq/fr1Onz6tuXPnavLkyfrtt98k3VjoEh4ervDwcK1Zs0Y1atQwboeHh8vZ2fmu5r3ZdXarVq1q/J3ByclJAwYMMOaIjY3V9u3b9eqrr97dCy2gVq1ayc7OTtbW1nJ1ddXw4cOVmppapHMCwL2gAAaKyN+l7j8lJCRIkvEDUP/+/WVhYaF169bp4sWLOnXqVJF9WElOTlbnzp3l6OiogIAARUZG6syZM+rQoUORzAcAAO4/d7ICODc3V2PGjNH+/fu1a9cuVaxY8Z7nT0tLy7OdmZmp1NRU42ejatWq6emnn9b8+fOVk5OjpUuXasiQIfc87+306NFDkZGRxs9GnTt3Vr9+/e56xQIAAABQErVr105du3bVtm3binSe//2dQbrxneo/C+VRo0Zpx44dioiI0IoVK+Th4VHkZ1Tcs2ePIiMjdfnyZS1fvlzbtm3T1KlTi3ROALgXFMBAEUlLS8tzvV1J2rt3r9zc3IwfWGxsbDRo0CAtXbpUS5cuVceOHeXp6VkkeU6fPq3Y2FhNmjRJrq6ukm6c8vDChQtFMh8AALj/FLQA/rv83bt3r/bs2aNKlSoVyvz/vCaYJO3bt0+5ublq0KCBcd/IkSO1atUqeXl5KSkpSc8//3yhzH0rNjY2cnd3l7u7u+rVq6cJEyYoLS3NuMIAAAAAwA1RUVFydHQs0jn+93eGv68J/M/fGVq3bq1mzZpp+fLlWrZsWZGeUfFv5cuXl7u7u6pWrarHHntMTz31VL7vfgHgfkIBDBQRCwsLjR49WqGhocrJydH27ds1e/ZsjR8/Ps+4UaNGaefOnVqxYkWRrnCpWbOmzM3NtX37dkk3VgS//fbbio6OLrI5AQDAg2nMmDFavny5ZsyYofDwcJ04ccJ4+/tSFndj2rRpOnz4sHJychQQEKA333xTTz/9tOrXr28c0717d9nZ2emDDz5Qv3795OTkVBgv6ZbS09MVFRWlqKgoXbx4UVOmTFGFChWK7I/yAAAAgPvd7NmztXv3biUmJkqSrl69qg8//FAnTpy46dkLmzVrplWrVhXK3OvXr9eiRYuUkZGh+Ph4jRw5Ura2tnr55ZfzjBs1apR+//13HTp0qMhP/yxJ165dU1RUlMLDw7VlyxZt2rRJ7du3L/J5AeBuUQADRaR69erq1auXmjRpIltbW/Xo0UMvvviixo0bl2dcvXr11Lp1a4WFhem5554rsjyVK1fWzJkz9e6778rBwUGurq6ytLTU5MmTi2xOAABwfynoCuDffvtNcXFx6t69u9q0aZPnNmvWrLue/+OPP9aAAQNka2urunXrytXVVfPmzcszxsLCQsOGDZO3t3exfJGzadMmeXh4yMPDQ+3atdOlS5e0efNm2djYFPncAAAAwP0oLi5O/fr1U7ly5WRlZSV3d3d5eXlp8+bN6ty5c77xTk5Oat68eaHM/eGHH+rnn3+Wvb29ypcvr+PHj2vNmjX5Vh6/9NJLCgwMVPv27VW7du1Cmft2unTpIg8PD9WsWVNjxozRiBEj9Oabbxb5vABwt8xyc3NzTR0CKEqzZ89WcHDwPX1ZeacWLFigiRMnKiYmRhkZGbpy5YpcXV1vuYKlR48ecnFx0e+//17k2dLT0xUREaGKFSvKwcGhyOcDAAD3jwULFmjPnj1asGBBsc4bEhKimjVr6ty5c2rYsKHCwsJka2t7y+sKz5w5U3PmzFFwcLDMzMyKNSsAAABQkk2bNk0JCQn66quvbjsuJydHsbGxSk1NlYeHR7H8gWSNGjU0ceJEjRkzRlevXpXBYFDVqlX/j727jsvq/t84fmEhNtizO+bswsTCmNjYMgtrm3NOZ6CgYgxjU2dgt9jdYmLHFANF7I6ZmKDy+4Mv9w9snXDg5vV8PPbHfd/nPue6t8fXr+dcn/M+7zwnePHihb755huNGDFCbdu2jfRsABDTxDM6AGCuwtZWJEiQQNmyZXvvdufOndOGDRvk4+MTJbksLS0/mAcAACCyhISEyMLCQpkzZ37vNi9fvtSkSZPUsWNHyl8AAADAIHHixHnvgs3IFHZN9WPH9vLykiQ1adIk0jMBQExEAQwYZMeOHbp//75cXV1Vu3Zt2draGh0JAACYuU8dAW0EX19f3b59W56engoKCtKPP/5odCQAAAAA0cjTp0+1Z88eXbp0ST169JCbmxsTDgHgPSiAgUiQPHly5cqV64PbjBs3TufPn1eVKlU0aNCgKEoGAABiM6MK4Pjx4ytPnjwfHBu3fv16LViwQHnz5pW3t7eSJUsWhQkBAAAAGC1HjhyytrZ+7+eBgYFycXFR3LhxNXDgQJ7BCwAfQAEMRIL69eurfv36H9xm8eLFUZQGAADAWBkyZNDp06c/uE3v3r3Vu3fvKEoEAAAAILrZsmXLBz9Pmzat9u/fH0VpACBmi2N0AAAAAACRb/To0dq1a5fOnz+vMWPGGB0HAAAAAAAAkYQ7gAEAAIBYYO7cuTpy5Igkyd/fX7/88ovBiQAAAABElXv37mns2LFas2aNgoODFRISoh49eihVqlRGRwMARALuAAYAAABiAW9vbyVIkECWlpaMTQMAAABiGRsbG61bt063b9/Wo0ePtGzZMspfADBj3AEMAAAAxAJPnj/TT317KEv2bEqaPJnRcQAAAABEsQMHDsjS0lIvX77Us2fPjI4DAIhE3AEMAAAAmLE9+/epskNNfVessC4EP9ScZYuULmsmuf49Qs9fBhsdDwAAAEAUOn78uE6ePKkECRIYHQUAEIkogAEAAAAztHmrt0pUKKtaDrWVvEBW9Vo9VSXqVVMDlx/VdtxArffepGx5cmrIlLEUwQAAAICZO3fxghq2bqGyVe1UpnIF9Rg+UIHPnhgdCwAQSSiAAQAAADOyc/cuFS1bWg516ih10dzqs2GGSjvWirCNTYa0auTWVU6j+2v5qpUUwQAAAICZunj1ihq2biHbiuVlkTmleqyYpM4zRmjP4YPKkiO7fh/hricvGAcNAOaGAhgAAAAwAz57dqt05QqqXqO6bL7Npt5rp6miU4MPfscmQ1o5Duymln/21TKKYAAAAMBsXLx6RU06tlHJsrYKyZBCvy2fqBL1qkmSkqW2Ud1eHdVpuod2HtirrLlzqv/Y4RTBAGBGKIABAACAGMxnz27ZVqko++r2SpwjvXqtmapqnZrLKmmST95HqkzfqPH/iuAly5eZiuDg1y8jMTkAAACAry2s+C1RppRe2CTUb8snqlTDGu/cNnmalKrfp7PaT3DXph1bKYIBwIxQAAMAAAAx0IHDh2RbpaKq2dvLKmta/b5qiuw7t/ys4vdNqTJ9o6aDf1OLEb21eNlSZf82n/6cM5kiGAAAAIjmrt26qSYd26hY6ZJ6liy+eqyYJNs3HgXzPinSp1YDlx/VfoK7Nm7bYiqCnwW/iOTUAIDIQgEMAAAAxCAHDh9SxVr2qlCxohJmSaNeq6eo+o+tlCh50q92jNRZM6rZkB5qMqS7Zs2ZQxEMAAAARFPXbt1Uq64dVah4ET1JEle/LvpbZZs5fNG+UqRPrYb9f1LbcQO1YetmZc+bW+6TxvCIGACIgSiAAQAAgBjAVPxWqCCLtMnUa/UU1fjJ6asWv29KnTWjmv/xuxzdu2nm7NmmIvhlyKtIOyYAAACAjwsrfgsWLay7cYLUbeHfKt+iruIntPzP+7bJkFaNXLvKaXR/rVyzyvSIGIpgAIg5KIABAACAaOzYyeP/X/ymSarfV01RzZ9/iNTi901ps2dWC49eajSgq2bMnKlchb/TuEWzKIIBAACAKHbr7h216tpR3xUppH9DnqvbonGq6NTgqxS/b7LJkFaOA7up5Z99tXTlCopgAIhBKIABAACAaOjYyeOq3sBBJUuWklIlCS1+u7ZWYutkhmVKlyurWo7oo3p9O8tzoqepCH4V8tqwTAAAAEBscOvuHbXr0VV5v82v2y+fqNuiv2XXppESWH394vdNqTJ9oyaDflXLP/tqyfJlypYnpwZPHqOg1ywIBYDoigIYAAAAiEbCit8SJUrqWeJ46rlykmp1a2No8fumdLmyqtWovnLo1UETxk9QrsIFNHHxHIpgAAAA4Cu79+hhaPFb4FtdfHhbvywcq8rtm8gykVWUZ0mV6Rs1HfybWozoraXLlyvHt3k0YvYkBb9+GeVZAAAfZhESEhJidAggMo0ZM0YXLlzQ6NGjjY4CAADwXqcD/PVLrx7avsFbJRtUl13rhkpik8LoWJ/k2ulz2jxxnl48eqK+g9zUpo6j4lqw1hQAAAD4UvcePZTryKHymjZLhWpWVIVW9WSVNInRsSK4c/GqNk/y0r3LN/Rr3576uUVbxY8Tz+hYAABRACMWoAAGAADR2ekAf/3u1k+bVq5ViXrVZNemUYwpft901S9Amz3nKyTopXq69KEIBgAAAD5T+OK3YPXyqtCqvhIlT2p0rA+6df6yvCd56f7VW/q1b091bdlO8SziGh0LAGI1CmCYPQpgAAAQHfkHnFFPNxdtWrlWxepUlV3rhkqW2sboWF/FVb8AbZowT3r5Sj1d+qht3caKIwujYwEAAADRVljxO3/qTBWsXl4VnRpE++L3TbfOX9bmifP0+N8H+s2llzo5tqQIBgCDUADD7FEAAwCA6OTCpYv6tc/vWr14mUo1rKFKbRzNpvh90+Xj/trsOU8Wr0LUu5+LfqjTiCIYAAAACCfw6WP1+cM9tPi1L6cKrRoosXUyo2P9JzcDLmqz53w9ufeQIhgADEIBDLNHAQwAAKKDC5cuqtfA/lo+d6FK1LdXpbbmW/y+6fJxf20cP0dxZSHXwYPUzN6BIhgAAACxWuDTxxr41wjN8pyi/JVKq+IPDWN88fuma6fPyXuyl57dD9RvLr3U2bEVj4gBgChCAQyzRwEMAACMdPX6NXXv11vL5y5U8bpVValdYyVPk9LoWIa4eMRPmzznySphQvXp348iGAAAALFOWPE7c+Jk5a9UShV/aKgkNimMjhWprp0+p80T5+nFoyfqO8hNbeo4UgQDQCSjAIbZowAGAABGuHr9mvq4u2nhzLkqWruyKsfi4vdNF4/4acO42UqcJDFFMAAAAGKFsOJ3xoRJym9XSnZtGpl98fumq34B2uw5XyFBL9XTpQ9FMABEIgpgmD0KYAAAEJWu3biu3oNctXDmXBWpZafKbRsrRfrURseKls4ePCZvz/lKnCSx3NwHqZFdDWpgAAAAmJVnL56r/8hhmjFhkvJWKCm71g1jzaNg3ueqX4A2TZgnvXxFEQwAkYQCGGaPAhgAAESF2//eUQ9XFy2YMVtFalZU5XZNKH4/UcC+o/Ke4iWblCnVr39/1a9oTxEMAACAGO3Zi+caOv4vTRg5WnkqlFClNo6xvvh90+Xj/trsOU8Wr0IoggHgK6MAhtmjAAYAAJHp9r935DJkkOZMnqaC9uVUpX1Tit8vdGbvP/Ke5KWUaVJTBAMAACBGCl/85i5XXJXaOvIomI+4fNxfmybMVZwQyWXQALWsUZdHxADAf0QBDLNHAQwAACJD+OL3u6plVbl9E9lkSGt0LLPgv/uwvCd7KVXaNBTBAAAAiBHCF7+5yhZT5XaNKX4/08UjftrkOU9WCROqT/9+ambvQBEMAF+IAhhmjwIYAAB8Tfce3Fevga6aM3maClQpoyrOTSl+I8lpn4Pynuyl1OnTaZC7u763tePyDwAAAKKVoJfBch87UhNGjlZO2yKq4tyU4vc/unjETxvGzVbiJIkpggHgC1EAw+xRAAMAgK/h/oMH6u8xWDMmTFLeCiVVuX1jpcr0jdGxYoVTOw/Ie/ICfZMts1z79VdtWzujIwEAACCWC3oZrJGTx2u0x0hlK/atKrdrwqNgvrKzB4/J23O+EidJLDf3QWpoV50iGAA+EQUwzB4FMAAA+C8ePHwo1z8Ga9oET+UpX0JVnJtQ/Brk5LZ92jJ1gTJmz6oBrm6qWaqC0ZEAAAAQy4QvfrMWza8q7ZtS/EaygP1H5T3ZS9YpbdS3Xz81sqtBDQwAH0EBDLNHAQwAAL5E4OPHchkyUNMmeCp32WKq2rEZxW80cWLrHm2dukgZc1AEAwAAIGqEL36zFM6nyu2b8CiYKHZm7xF5T/ZSytSp1K9/f9WvaE8RDADvQQEMs0cBDAAAPkfg48caOOoPTRozTjlLFVYV5yZKnTWj0bHwDse9d2vL1IXKnCu7hgwerKpFbI2OBAAAADPz6vVreXiO1WiPkcpcMI+qdGhG8Wsw/92H5T3ZS6nSpqEIBoD3oACG2aMABgAAn+LJkydyGzlMk8aMU46SBVW1QzOK3xji2OZd2jp1oXJ8l08D+rtSBAMAAOA/e/X6tcbOmqKRQ4Ypbd7sPAomGjrtc1DeUxYodbq0GuTuru9t7SiCAeB/KIBh9iiAAQDAhzx79kxuI4Zq4ui/lb1EQVXrSPEbUx3dsFPbpi9SzoL5KYIBAADwRcIXv2lyZ+VRMDHAqZ0HtGXKAqXPmlmu/fpTBAOAKIARC1AAAwCAd3n27JmGjh2lcaNGK1OhvKrasZnSZs9sdCx8BUfWb9e2aYuVp3ABDXUfonLfFjE6EgAAAKK58MVv6lxZVNW5KQtDYxi/7fu1ZcoCfZM9i1z79VdtWzujIwGAYSiAYfYogAEAQHjhi9+MBfOoWqfmFL9m6p+127R95hIVKFlUA/u5UQQDAADgLSEhIRo9c7JGDhmmVDkyMxHIDJzY4FSh+AAAIABJREFUukdbpy5SxhxZNcDVTTVLVTA6EgBEOQpgmD0KYAAAIElBQUFy/2t4aPH7XW5V7dBM6XJlNToWosDh1Vu0feZSfVe6GEUwAAAAJIUWv5MWzNYw9yFKniENE4HM0HHv3doydaEy58quIYMH84gYALEKBTDMHgUwAACxW1BQkIZPHKPRHqOULk82VevUnOI3ljq0ylvbZy5VQdviFMEAAACxFMVv7HNs8y5tnbpQOb7LpwH9XSmCAcQKFMAwexTAAADETkFBQRo58W/9OXyE0ubOKvtOLSh+IUk6sHyTds5epoJlSsjDfYiK5/zW6EgAAACIZOGL32TpUzERKBby3bhTW6ctUs6C+SmCAZg9CmCYPQpgAABil5cvX2r4+DH6c/gIpcmZRVU7NlOGvDmMjoVoaP+yjfKZu0Il7MpqUD9XimAAAAAz5ek1S8Pchyhp2pRMBIKOrt+hrdMXKVehbzVkkLsqFihudCQA+OoogGH2KIABAIgdXr58qTHTJmnEsD9knTm9qnVqTvGLT7JvyXrtmrdSJSqVowgGAAAwI7NXLJb7wIGKnzyxqnZgYSgi+mftNm2fuUQFShblETEAzA4FMMweBTAAAOYtfPGbIlM6VevYTBnz5zI6FmKgvYvXadfclSpZpbyGDnRX4Sy5jY4EAACALxBW/MZLmoiFofiow6u3aPvMpfqudDGKYABmgwIYZo8CGAAA8/T69WuNmeopj6HDlDxDGtl3bkHxi69iz4I12rNwjcrWrKIBffpRBAMAAMQQYcVv3CRWLAzFZzu0yls7Zi3Vd6WLUwQDiPEogGH2KIABADAvr1+/lufcGRrqPkSJU1vLvgvFLyLHbq9V2rNgrcp9X1WD+7iqQJacRkcCAADAOyxcv0r9+vZVnESWLAzFf3ZwxWbtmLVUBcuU0NCBg1UqdwGjIwHAZ6MAhtmjAAYAwDyEL34TpUquap1aKPN3eYyOBTMX/PyF9i3doL2L1qpCbXu59+5PEQwAABBNLFy/SoMGDlSwRYiq/9iS4hdf1f5lG+Uzd4WK2ZXV4H6uKp7zW6MjAcAnowCG2aMABgAgZgsJCdHEOdM11H2IrFImk33nlhS/iHLBz19o7+L12rd4rSo4VNfQfgOVL0NWo2MBAADESmHFb5BecX6ASLdvyXrtmrdSJSqV0yCKYAAxBAUwzB4FMAAAMVNISIimL5qvwYMGKW7ihKrWsbmyFslvdKyvbt2YmXp05+47P6vxo5NSpE8dxYnwIUHPXmjv4rU6sHSjKjesrYE9+1IEAwAARBFT8RvySvZdKH4RtfYuXqddc1eqZJXyFMEAor14RgcAAAAAwgsJCdGsxV4aOHCg4iayVI3ubc2y+A1zaud+xYkb990XryyiPg8+LIGVpSo6NZCt4/fas2C1ypW2VZWGDhrcq59yp89sdDwAAACztHrbJvXu00cvXgWrWqcWZn1+gOjL1rGWbB1rac/CNapeqapKVamgoQPdVThLbqOjAcBbKIABAAAQbcxcNF+DBg5USIJ4Zl/8hpezZCE59HA2OgY+QwIrS9m1aSTbJt9rz4I1si1RUtUa1dWgXi4UwQAAAF/J6m2b5DrATQ8ePVKNn5zM9vyAqUAxS5kmtVWmSW3t9lqtquXtVK5WVQ3u46oCWXIaHQ0ATCiAAQAAYLgFq5fJ1dVNL+OEqGpXJ+UoUdDoSNHKmlFTlT53NiVLnVLbpi/Si6fPlaVQXlVu11hJbFJIkvYuWqtLx06r6eDfInzXd+NO+W7yUYs/eunmuUtaP2bmO4+Rr0IJlW1Wx3S8m2cvvXO75h69lChZEh1evUWXj/urft8u79zuku8pbfacr7bjBypOnDhf+MujP8tEVqrU1lFlmtbW7vmrVLp4Cdk71tNQF1dlT53B6HgAAAAxkqn4DQxUtY7NzP78gKlAMVPZZg4qWd9e+5ZuUMVy5VWhtr3ce/enCAYQLVAAAwAAwDBLNqxW3z59FazXqtqpuXKa+YWdL3XFL0DX/c/r4a27KtWohuLGi6f9yzbo9K5D6jr3LyVMmlhpsmXSSo9JsmvdSOlyZjF9d8/CtUqaylpx48fT04eBOnvAVxVa1VfcBPFN2xxZu023L1yNcLzXL18pZ6nCpvce3LitI+u261VQsCTp3ys3dPm4/3szP773UGcP+CrkdYhkvv2viWUiK1Vu30Rlmjpot9cqlSxaQrWaN9SAHr0pggEAAD5RWPF7/9FDVevYXDlLFjI6UpRhKlDMFD+hpcq3qKvSDWto7+L1qli2nCo4VNfQfgOVL0NWo+MBiMUogAEAABDllmxYLbcBA/TkxTNV7dBMucIVjXi3KycD9NvSCUqRLnT8W9HalfRnox+1c+5y2XduqezFv1OKdKnlu3Gn0uVsJUl6cOOOLh87Lac/XSLsq1I7R1klTWJ6femo31vHy/xdHlXv0tL0+vyh4zqybnsk/DLzkjBJIlVxbqqyzerIZ+4KlShaXN83b0QRDAAA8AHee33Us/fvuvfggap1bK5cpTk/eNPXmgpkETeOpv/o9s5jpEiXWo3cupqOx1SgTxc/oaUqtKqn0o1qau/itSpvW0aVG9TWwJ59KYIBGMK8/9QFAABAtLJ841p9W7qYfuv1u2yd6qnzNA/K30+U27aoqfyVJKukSVS4RgWd9jkkSbKwsFCRWnY6tmmXaRvfTTuV2DqZcpcpFimZbpy5oNUjp2j1yCnaNHGe/Hbsj5TjxEQJkyRStU7N9fPcP3Xt3m2VKFJMTr1+1pX7t42OBgAAEG147/VRKXs7tevUQUUb11CXGcMpf9/jil+ADq/eohXDJipv+RIq+n0lnT3gqwltftfzwCeSpDTZMuno+h1vFbd7Fq5VnLhxFTd+PIW8DtHZA76ySpZEmb7LY/rnZfBLXTp2KsLxXjx9FmGbpKmsdfaA75dNBYolElhZqqJTA/3iNVaBr4NUrrStGnfroFPXLhodDUAswx3AAAAAiHTrdnjr9169Ffj0sap2bKbctkWNjhTjpEiX6q33rNOn1aM7202vi35fSdumL9aVE2eUqUBu+W70UeGadoobL26k5bp/I7TQfP74qbbPWKzvqpZVs6E9I+14MY1V0iSy79xS5ZrXlc/cFSpauIjqtW4u1249lck6jdHxAAAADOG910cubv1148YNVe3QTA3KRs6CRXPzNacCFa5RUd9WKm167T3JS76bdkbYhqlAXy6BlaXsWjeUbeNa2rNgjcqVKq0qjepocK9+yp0+s9HxAMQCFMAAAACINOt2eKufq6v+vXdXVTs2U55IuhM1Nghb1R/e04eBskycyPQ6ddaMocXvJh8lTJpY1/3Py3Fgt0jLlD53NjmN+v8LSSe27tHcnn+ocvsmkXbMmCpR8qSq/mMrlW9ZTztnL1eRQoVVv00LimAAABCrhBW/169fV1XnpmpQvoTRkWKUD00Fsu/cMsJUoOo/hhbAUTUVSJIsEydSxvw5lb9iqUg5VkxkmchKldo6qkzT2to9f5VKFy8he8d6GuriyiNiAEQqRkADAADgq1u3w1tFK5ZRxx+7qFDDavpx1kjK3//o7MFjehkcHOG9UzsPKPN3eSK8V/T7Sjq2eZeOrt+hb/JkV/pcWaMsY4Z8OSVJT+49jLJjxjSJkidVjZ+d1GXGCAVcOq8iBQvL2a0no6EBAIBZ233koErZ26l1u7bK930F/TR7lPJS/n62908Fumt6XfT7Srp79YaunDgjSVE2Fej+jdu6eNRPc3sOk1ffEZF2rJjKMpGVKrdvol+8xurei8cqWbSEnHr9rPN3rhkdDYCZogAGAADAV+O910dFK5ZRh86dVbBB1dALO+WKGx3LLLx8EaSlg/7Ww9t39fjeA60aMVk3Ai6oXIu6EbYraF9eT+491M45y1XMoXKkZgp6+lznDx3X+UPH5bdjvxb2/0tJU1krU4HckXpcc5DYOplqdm2tLjNHyP/8WRUuWEjObj11/dHdj38ZAAAghth95KAq1KmuJi2aK2/Ncvp57p/KR/H7xT53KtCdS9d03f+8ijlUibRMYVOBnEa5qMOkIWr+x+/y3eijW+cvR9oxY7KESRKpinNT/TzvL914cFclihanCAYQKRgBDQAAgP9s275d6u3aT9euXlPVDk2Vr0JJoyOZnUI1KurVy5caVrONJClpKms1/+N3ZcibI8J2iVMkU55yxeS/67AK1agYqZnuXr2hyR1DR0DHT5hAmb7NrbbjBip+QstIPa45SWydTN//2lYVf2ig7TOXqlDBQmrc4Qe5/txDaZNaGx0PAADgi+w+clB93PrpXMBZVWnfVN8P+MnoSGYhbCpQvPjxTe+9byrQthlLZJnIiqlA0VTCJIlUtWMzlW3uIJ+5K1WiSDF938JRg3q5KKtNOqPjATADFMAAAAD4Ytv27VJft/66cvmKqjg3VQM7nvX0uX5bOvGTtrOwkOr36ayqzk314ukzWadPo7jx3/3X+fiWCZSnXDElsU4e4f1cpQrrj8Or3tq+w+ShEV53nubx1jbZi38X4bvVu7RU9S4t35v320ql33ksvFsSmxSq3b2d7Fo31Lbpi1WgQAE17dRW/X7qThEMAABijLDi96x/gKo4N6H4/crCpgLV+PkHxY0XV1unLdKNgAtq0D/iv+eC9uW1ZtQ07ZyzXDV+ahWpmcKmAknS8ydPtXPOCtNUoDN7j0Tqsc2BVdIksu/cQuWa15HP3BUqUaSY6vzQTAN+/V2ZrNMYHQ9ADEYBDAAAgM+2+8hB9ej9uy5fuqwqzk1Vr1JpoyPFGklTWSup3l0IBr8I0vXT53R8yx61GesWxcnwNSSxSSGHHs6q+ENDbZ+5RHlz51HLrh0pggEAQLR22O+Yfu3dUwGnz6hKe4rfyMJUIPOVKHlSVf+xlcq3rKeds5erSKHCqt+mhVy79aQIBvBFLEJCQkKMDgFEpjFjxujChQsaPXq00VEAAIjxTKPczpxV5faNVaByGaMjxQoT2/VSxnw55dDD+b3bvAp+qUFVWujFk2cq07S26vTsEIUJEVke3bmnrdMW6bTPQbXs2lGuXXsodeLkH/8iAABAFDjsd0y93frrxNFjqty+sQpWK2d0JLMV/pwg8N/7H50K5NV3hIJfBMlplEsUJ8XX8OT+I+2cs0wntuxV/bYUwQA+H3cAAwAA4KP2Hj2kXq4uOusfoMqs6I9yDr+1l2XiRB/cxiKOhdpPcFfSlNZKkT51FCVDZEuW2kb1enfSw7aO2jptkfLly6cfunVW745dKYIBAIBh/r/49VWlto7q1qe90ZFiFaYCmb/E1slUs2trVWjVQDtmLVXhgoXUoG1LDfytt75JltLoeABiAApgAAAQK8ycOVM5cuRQUFCQ0VFijGzZsun+88fq3vt3nTl1muLXQBnz5/roNnHixlWmArmjIA2MkDxNStXv01kPbtzR1umLlG/0RP3QrbP6df5V5/38FRgYaHTEaO/+/fvasWOH3N3dlTRpUqPjAAAQI4UVv8f/OUrxGw29Cn6pwdVamaYC5SpV2OhI+I8SWydTrW5tVMGpvrbPXKpCBQupcYcf5PpzDx4RA+CDGAENs8cIaACAJFWqVEmlS5fWoUOHjI4SYzRv3lwLN63RxgXLVNqxliq1dVTyNKw0Bozmu3GnvCd76fWr13L3HC3fVVvl7+9vdKxo78mTJ/Lz89OhQ4eUN29eo+MAABCjnDx7Rt369JTvoX9k17qhijlUMTpSrHPVL0CWiRMpdZYM793m9atXunbqHFOBzFjg3QfaOnWhTu08oJZdO6rfT90pggG8EwUwzB4FMABACi2A3dzcZGdnZ3SUGCdslf/WFWtVulFN2bVupGSpbYyOBcQ6vpt8tGXKAr0KfqkfunWWS6dusknEnayf6sSJE2rWrJmOHz9udBQAgEF27NihLVu2SJJCQkLe+udd73/OtpH9vhHHbNWqldbu3qblM+bJvktLVW7XOBL/CwH4VI/u3NXs7kP0+N5D9Rk9TNf3Hpevr68kycLC4r3/xObPa9SoIWtraxaDItZgBDQAAAA+qFj+gtq8eKUO+x3Tr717akS9jirVoLrs2jRSEpsURscDzN7xLXu0ZbKXnj9+qpZdO8q1aw+e/wsAwBe6ffu2rK2tZWVl9dHCIDLfN+KYX5IlW7ZsKl2xvIKCg7RhygLdv35bVdo34e5SwEB+O/bLe5KXnj4MVPOfndX6+4a6nqeY7t2798FFHh9bBGLun+/evVsnTpzQzJkzo+Y/FGAwCmAAAAB8kmL5C2rnqo3afeSg+rj10/A6HVSqYXXZtXZUYutkRscDzM6JbXvlPclLzwOfMN4NAICvoGLFinJzc9OAAQOYDPSZ1sxZpJNuoWOgh9froBJ1q6ly+yY8IgaIQqd8Dsp7kpee3H+o5j87y+Wn7vomWej/BtMU5nnPH0Pxi9gmjtEBAAAAELOULVJCO1dt1NbdO6WHz+RRx1nrxszUk/uPjI4GmAW/7fs1tnk3rRk5VY3atNTpM/76u4875S8AADDUtzlza/PilTrg+4+SWiSQh0N7rfjDU4/u3DM6GmDWTu86pHFOv2nZ4PGq6VhPJ/1PaXzfIabyFwDehTuAAQAA8EXCimDTHcF1nWXr+L0qONVXouQ8lxSf5mVQsHYvWK2AvUcU8vq1cpYurHLN6yq+ZQKjo0W5UzsPhK7of/BIzX92luvPPSh9AQBAtBP+ETG93frrj9rtVLpRTdm1bqRkqW2MjgeYDf89h+U9yUsPbv6rJl3ayrVbT2WyTmN0LAAxBHcAAwAA4D8JK4K3+OzQ02t35FHHWRsnzNWzwMdGR0MMMLv7EG2btlhZCuVTtqIFtGveKs3uPtjoWFHq9K5DGtequ5YNmaCajeubVvRT/gIAgOgsrAg+4PuPEr2Mo5ENOmvNqKl6fO+B0dGAGO3M3iOa0OZ3LRn4t6o3qKOTZ05pysARlL//UcKECfX8+XOjYwBRhjuAAQAA8FWULVJC+zdtl/deH7m49ZdHbWeVaVpb5VvWlVXSJEbHQzR05WSAzuz9R06jXJTfrpQkKVfpwprYtpeu+5/XN3myG5wwcrGiHwAAmIPwdwT/2runhtftqNINa6jiDw2V2DqZ0fEQAzAVKNTZA77aPGm+/r14TQ06OGlI7/6cH3xFFMCIbSiAAQAA8FVVtS2vquGK4OEOzirbvI7KNa+rhEkSGR0v0jx//FQ7Zi3V2QO+ev3qtXIU/06V2jmayu/gF0Ha7bVa5w766sn9R0qbI7PKNq+jjPlymvaxZtRU3Tx7KfSFhZTEJoXyli2uQjUqyMLCQq9fv9b0H91UrVNzZSmUz/S9DeNm6+rJADn96aIEVgklSSEhITqwbKOObd6lZ48eK12urLJr3UhpsmWUJB1evUWXj/urft8upv3cvnBVq0ZMUoFKtirtWEuStND1Lx1Zu029105TinSpI/zmx/ceaHA1JxWobKuWI/qYfkOqzN+Yvv+mfYvX6d/L11X7t/ayTp9a7SYMUrai35o+DzvG04eBn/8fIYY4s/eIvCfN1/0bdyh+AQCA2SiWv+Bbj4gp7VhLFZ0a8IgYfNDs7kN0+bi/yjZzkIWFhXbNW6Xzh46r3fhBRkeLEucOHtPmSV66c+GKGnRw0oAevZU9dQajYwGI4RgBDQAAgEhR1ba89m/arlUb1+vR+esaXsdZW6cu1Iunz4yOFilmdx+sw2u2qmC1cipRr5pObtuneb97SAotY2d1c9eOWUuVpVA+lWlaW0FPn8uzXW/9e+W6aR9X/AL0+tUrZS2cX1kL5Ve8BPG1ZNBYbZ26KHQ/r0N09oCvHt97aPrOuYPHtH3GEp094KtXL1+a3l/q/rfWjZ2pLIXyqlTDGnp4847Gt+6hOxevSpL+vXJDl4/7R/gNK4ZN0Nn9vrpz6ZrpvXvXbkqS9i5e99Zv3rdkvSQpMNyYvyt+ARG+/6Y7l67pil+ApNCCO1epwooXP77p891eq5XAKqHS58723n3EVAH7j2pi215aPGCM7Os7MMoNAACYpfCPiHl9NzD0ETHj5/CIGLxT2FSgxgO7qVqn5qrasZmcRvVVwL6juu5/3uh4keriET95tuut+b2Hq3y1Sjp2xk+zPf6m/AXwVXAHMAAAACLVm3cEezi0V/kW9VSmaW1ZJrIyOt5XEfz8hdLnzqYaP/+gzN/lkSQlTJxIC/qN0svgYIW8DlGessVU/ScnZfo2lySp6PeVNLRmG53culcVf2ho2lf2Yt+pasdmpteWiax0cvteVXFu8tZxXwYFa8UfE5U2ZxbdCrtzWKEXEg6t9FaHyUOVvVgBSVLxutU0rUt//bN2m6r/2OqtfR1evUVX/c7KJkPatz6zyZBWB5dvUpX2TZXAytJ07H1L1iuJTfIv+Vf2luAXQVo2ZLyObfKR44BuSpzCfMYFnj14TN6e83Xn4lVGuQEAgFgjrAg23RHs4CzbJub9iJiPTQWSJN+NO+W7yUcPbtxR0tQ2Ku5QRd9VLWv6/GNTgcK2eXPqju8mHx1cvinCtKCPTQW6dvqc1o+ZGWGS0MugYC1wGanE1slN04KYCvR1XTzip82e83Tz7CXu+AUQabgDGAAAAFEi7I7glevW6tbxAA13cNb2mUsV9OyF0dH+s/gJLeXQw1npc2dT4L/39e/l6/Ld5KMshfIpXvz4im+ZQOVb1lOmb3Pp9evXenj7ri75ntLrl6/05P6jCPsKDgrSs8DHehb4WFdPnVXAvqPKWjj/O4+7fcYSPX/8TNXCFcaSdHL7Pn2TJ7up/JWkuPHiqsPkoe8sf588eKR1o2eoSoemSpra5q3P85YvoYRJEunI+u2m945u2KE4ceKoQJWyb21/bPMurR45RWtGTdX2GUt09X93/H7IZs/58tuxXx0mDVHhGhU+un1MELai36v3cJW3r2xa0U/5CwAAYpOwInjzjm16fOmmhjs4y3uyl54/fmp0tK/uQ1OBJGnLlAVa0O9PJUtlozJNaytN1oya32dEhL9nf2wqUNg24afuPLn/SCs9PN+aFvSxqUBPHwa+NUlo2/TFOrF1b4RpQUwF+jouH/fX1M79NetXdxUva8sdv1GMZwAjtuEOYAAAAESpqrbldWTHXq3etkmuA9zkMXeFKv7QQLaOtRQ/oaXR8f6TE1v2aGH/PyVJydKklLPnYNNn/nsOy2fOCl0+7q/g5y9kkyGdQkJCFBISEmEfO2Yu1Y6ZS02vsxbOr6odIha8UuhFk+0zl6jxoF9lmTjis5Uf3vr3nXfyvs+60TOUNJW1yjWvK78d+9/63MLCQqUa1dSeBatVqkF1SaEXZUo3qqknDx69tf2TB490/8ZtSdL5wye0cfwc1e3V8b13AEjSP2u2yLZRrQjPNo6pWNEPAADwtrJFSmh/uMlAw+s4q1yLuirbzMEsJgN9bCpQvPjxlTprRjUZ9KsK16xo+t6Dm3d0dP0OFalpZ3rvc6YCSdK60dOVNJWNnj74/ztmv2Qq0J2LV7Vj1lKlzZnlrc+YCvTlLh/312bPebp6MkC12zbX2hWrlDt9ZqNjxToUwIhtKIABAABgCIdK9nKoZP//RfCc5ar4Q0OVblgjxhbB31ayVZ910/X0YaC2TFmgKZ36qccyT92+cFmzurmreJ2qqvGzk9Jky6wEVpb6u2X3t/ZRvmU9VWhVX5L0MihIGyfM1fSf3NRl1sgI260YNlHZi3+ngtXKKWD/0QifWSa20r2rNz8p8/nDJ/TP2m3qNO0PxY0X973blahbTd6T5itg/1FZxImjOxevqmTDGto2bdFb29o61pJDD2fT61UjJmvzJK8PFsDpcmVV9uIF3vt5THD5uL82TZira6fOqk7bFhq6bj3FLwAA0QwFgPHefETMcAdnlW9ZT2WaOpiKxZgobCpQ8IsgBf57Xy+ePoswFUiSClYrZ9r+yf1HenDzjgL/va+XQUER9hU2FUiS7l69qYB9R5WzVKF3Hvf8oeP6Z912dZwyVJ7tepve/9BUoPdZMWyicpQspG/yZNdpn4MRPstbvoRO+xzUkfXbTYtCw6YC5bcrrRsBFyJsf2zzLkmhi0mT2KRQzlKFlDF/rvceW4o4FcgcFoZe9QvQponzdOW4v2q3ba6VS5YrX4asRscCEEtQAAMAAMBQbxbBw2cvk13rhirbrI7R0T7Z00ePdfvcZWXIn1PJ06ZS8rSpVLVDM41u2lW3L17RVb+zimdpqQb9fjJ951XwSz34312y4VkmslLSVNam16Ub1ZRnu966e/m6bDKmlyT9s3abLh8/rW4Lx70zT5ZC+XR0ww4F3n2gpClTmN7fs2CNElsnU6HqFUwZlg+doJL17ZWlYN4P/sZEyZOqcI2K2u21WpJUqHoFJbH+tJX+GfLm0L7F6/T61av3btN+gvsn7Ss6Cr+iv07bFqzoBwAgGqMAjj7eLII9HNqrglN92Tp+H6OL4A9NBbpz6Zq8J83X2f2+evLgkRJbJ1cCK0slSh7xTtdPnQr0MjhYy4dNUKkG1ZWpQJ4In33uVKDDq7fo8okz6r54nA6s2PzW50wF+nRX/QK0eZKXLvueUu22zbVi0VKKXwBRjmcAAwAAIFpwqGSvIzv2at6iBbpy4ISG1mitPQvXGB3rkzx7GKhJHfrKe9J8PX30WIF3H2jf0g1KYJVQNhnSKW32TAp6+kyHV29R8PMXenDzjhYPGKPnT95+7tmDm3d08YifLh7x09kDvtoxa5kskyRSsjQpTduc3LZXlds3UcqM6d6Zp5B9eSVLnVJzew7TzbOX9PRhoPYuWqvVI6cobvz/XwN6+8IVPQt8rBo/O33S7yzTpLb8dx+W/+7DKtO09nu3e3j7rs4fOh56N8KardrkOU95y5dQnLjvvsP43rVb8nBorx2zl31Sjujiql+Apv80QDN+HqDCpUroqL+fFoyeRPnd9U5lAAAgAElEQVQLAADwGaraltf+Tdu1Yu1q3ThyWsPrtJfP3BUKfv7C6GhfJGwq0C9eY5S5QG5N6dRPQc9eKPj5C01y7qOHt++p6dAect02X/2956hA5TJv7aN8y3py2ThLLhtnqdfqKUqRPrWm/+Sm169fR9hu+4wlev74qWr89Pbf5y0TW+nZo8eflPnpg0CtGz1DVZybyvqb95fGJepW071rNxWw/6jOHjxmmgr0LraOteQ0ykVOo1zUdf5o2Tb5XpsneX0wR0yfCnTt9DnN7OauyR37KV+B/Dp86oQWjZ5M+QvAENwBDAAAgGgl/B3Bvfv00Y5Zy1SpTaMPrhQ3WspM6eXo1lVr/pqmHbNCS8xkaVKqhUcvJUqWRNmKFlDl9o21bPB4LR4wRnHixpFdm0ZKlzPrW/s6tMpbh1Z5S5LixIurdDmy6IdRLrJMZKVXL0PvoE2TPZMqtKz/3jzxE1qq/YRBWug6WqOb/CxJSpDISjV/afPWBabvf20rq6RJPul3ps+dLXQ1fkiIMuTN8d7tTmzZoxNb9kiSrJImVt7yJSKMhH5T8PMXenTnnp7ce/hJOYx21S9Amz3n6/Kx06Er+hezoh8AAOC/qmpbXkd27P3/yUBzlseoyUAfmwqUIGFCPb77QK3HuCpjvpym7929euOtfX1oKlDqrBklSf9euaFzB3zlOOAXJUya2HSuEOZTpwJJ0roxM5UklbXKt6j7wd/IVKB3uxlwURsnztW5g8dVy8lRi+fMV4EsOT/+RUQpJkAgtqEABgAAQLTkUMleDvvstXD9Kg0aOFDbZy5VpXaNTePGopuitSurcM2KunftliwsLGSTMZ0sLCxMn9t3bqkKrRrowc07sv4mjSwTWcm+c8sI++g8zeODx4gbL67+OLzqrfdzlSr81vvW36RVp6nD9PjeAz19+FjW36RRfMsEps+rd2mp6l1avrmrtzK8+brT1GERXr9Z7H7sN7yrCE6bI7MGbPeK9s9+vnb6nDZ7ztf5wydUy8lRyxcuofgFAAD4yt58RMzQWctk16aRyjR5/wSa6CBsKlCFVvVUsXUjvQp+GWEqULz48ZQgkZUOrdgsmwzpZGEhHVi+SWf2/KO0ObJE2FfYVCApdMzzbq/Vb00F8t91SLlKF4lQ5IZXyL68tk1frLk9h6l+3y5KltpGvht3avXIKWoxvFeEbf2271PHqcMiTAt6nzJNamtsi18lST/NGfXe7cKmAoX9nk+ZCjSlk4tKO9ZSRacGH80RHdwMuKjNnvMVcMBXNVs10qJZ8yh+ozEKYMQ2FMAAAACI1prUrKMmNev8fxE8Y7EqtW2skvXtjY72ljhx4ypV5m/e+3nCJImULmeW934eGZLYpFASmxQf39Bg0bn8vXb6nLwne7GiHwAAIAq9WQTvmLVMldo6qnSjmkZHe6ePTQWSpCaDftVS97+1b8l6SVKecsVVvE5VXTkZEGFfH5oKFCaeZQLV693pvXk+ZypQ8brVlLVw/k/6nUwFkm6dv6zNnvN1Zu8R1WzVSHNnzlLhLLmNjgUAEViEhISEGB0CiExjxozRhQsXNHr0aKOjAAAMVKlSJbm5ucnOzs7oKPiPworgm9euq3K7xipep6rRkWCmwq/or+XkKPfe/Sl+Y7ATJ06oWbNmOn78uNFRAAAGqlevnlq3bq169eoZHQWfKewRMdcvXVHl9o1Vsn70nAz0+tWr904FkkLv6L17+YYS2yT/5PHJ/9X7pgJFN8HPX0TrhaG3zl+W9yQvnd51UFWb1NPQge4UvzHI0aNH1bp1ax09etToKECUiGN0AAAAAOBzNKlZRyf3HdaEyZPkt2GXRtTrqH/WbDU6FszIrfOXNbfnME1o20s58+TSYb9jWj5xFuUvAACAgRwq2evkvsPynD5Vpzfv1fA6zjq4crPRsd4SNhUoZab0b5W/khQvfnylzZE5yspfKXQqUJpsGaN1+StF36lAdy5e1fw+IzSuVXdlzJBBe47/o3UzF1L+AojWKIABAAAQI4UVweMneeqf5Zs1skFnHVm/3ehYiMFunb+seb08NK5Vd2XKlEn7/Y5qhedsil8AAIBoxLQgdMpkndq4WyPqdtTh1VuMjgUzdOfiVXm5jNTYFt2UPn16U/FbPOe3RkfDF+AZwIhtKIABAAAQozWpWUcBR05o1Oi/dHjJRo1q2EVHN+w0OhZiEFb0AwAAxDymBaGTPXVyvY9G1u+kI+u2Gx0LZuDfK9e1oN8ojW7aVSlTWMvH97A2UPzGeBTAiG0ogAEAAGAWnOo5KuDICY38608dWrxefzr+qGObdxkdC9FY+BX9GVjRDwAAECOFFcHjPCfq8NLQBaG+G1kQis/375XrWuQ2Wn85/iSb5Cm0/cgBbfFaoVK5CxgdDQA+GwUwAAAAzEpYETxi1CgdWLBWfzX5Wce37DE6FqKR8Cv6U1vbUPwCAACYgbDJQCP/+lMHF7EgFJ/u3rVbWjxgjP5y/EkpkiQ1Fb/lvi1idDQA+GIUwAAAADBLYUXwgEED5TNjqUY37aoT2/YaHQsG+vfKdS10/cu0ot/H95A2z19O8QsAAGBG3lwQOrrJzzqxlQWheNu9a7e0ZNBYjWrYWckTJ6H4BWBWKIABAABg1jo1+0EXT/rLbeAA7Zy2RGNbdJPfjv1Gx0IUunftlhb/b5SbddJkpgs7tvkKGR0NAAAAkSSsCPYYMUL75q3W2Obd5Led8wBID27c0VL3cRrZoJMs48TTln/2UvzGAjwDGLENBTAAAADMnoWFhakI7u/qqu1TFunvlt112ueg0dEQiSKs6GeUGwAAQKwUVgT3d3PV9qmh5wGnOA+IlR7evqtlQ8ZreL0OSmARRxsP+GjXsvWqWKC40dEQBSiAEdtQAAMAACDWCF8E9+vfT1snLdD4H3rIf89ho6PhKwq/ot8qTnyKXwAAAEQ4D9g2aYHGOf0m/92cB8QGD2/f1YphE+Xh0F7xQyxMxW/VIrZGRwOASEMBDAAAgFgnfBHct29fbZkwXxNa99SZvUeMjob/4MGNO6YV/Qkt4sr74B7tXLaO4hcAAACSIp4HuLi4aMvE0POAgH1HjY6GSPDozj2t9JgkD4f2ivsqhOIXQKxCAQwAAIBYK/wFoG6//qoNf03XxHa9dPaAr9HR8Bke3r6r5cMmani9DqYV/TuXrVOlwiWNjgYAAIBoKPx5QK/evbV53JzQ84CDx4yOhq/g0Z17WjVisobVaqtXj59R/EISI6AR+1AAAwAAINazsLDQr2066vKZ8/ql6y9aN3KqPNv11sUjfkZHwwc8unNPK/7wlIdDe8VjRT8AAAA+k4WFhbo0b60LJ/1DzwNGTOE8IAZ7fO+BVo+cohH1Oir40VOt2rVF+9du4fwAkkIL4BcvXhgdA4gyFMAAAADA/8SNE8dUBHft2lWrhk3U5I4uXACKZh7duaeVwydpWK22ev3kOcUvAAAA/pM44RaEhp0HTOnUT5eP+xsdDZ/g8b0HWvPnNA2v00FBD59o2dYN2r92i2rb2hkdDQAMQwEMAAAAvCF8EfxTlx+1athETe3cnwtABgu/ov9V4DOt3bONFf0AAAD4asKfB/zYuYtWuI/TtB9dOQ+Ipp7cf6S1f03X8Dod9OTmXS3dst5U/FoYHQ4ADEYBDAAAALxH+AtAXTp1/t8FIDdd9QswOlqs8r4V/TVLVTA6GgAAAMxQ+POAjs4dtNx9nKb/PIDzgGjiyf1HWj92pjzqOOvxjX/ltX6lDnv7UPwCQDgUwAAAAMBHhL8A1LqVkxa6/MkFoCjwoRX9AAAAQGSLGyeOfmvbWZfPnNMPLVppocufmvnLIF07fc7oaLHS04eB2vD3bA2v66xHV2/La90KHfb2UYOK9hS/+CSWlpZ6/vy50TGAKEEBDAAAAHyiuHHiqG+Xbrp67gIXgCLRk/uPtG7MTHk4tGdFPwAA+KoSJkzIxX98tnhx4prOA1o1a6EFfUZqVvfBuhlw0ehoscLTh4HaOH6OPOo468GVG5qzZhnFL74I/x+A2IQCGAAAAPhMCeLF5wJQJHj6MFDr/54ljzrOCrx221T8cmEHAAB8LVz8x38R/jygZeNmmve7h+b2HKZb5y8bHc0sPQt8rE0T58qjjrNun7moOauX6rC3jxztanB+AAAfQQEMAAAAfKF3XQCa02MYRfBnMq3od2ivR1duMcoNAAAA0Vr484DGDRpp7m/DNK+XB0XwV/Is8LE2e86XR21n3Tp9QdOWeumYz3452tVQHM4QAOCTUAADAAAA/1H4C0D1azto9q+DNff3P7gA9BGmFf0O7UNX9DPKDQAAADFIgnjx1f/H7rpy9rzq1vxes7oOklffEbpz8arR0WKk54+fasuUBRru4Kybp85p6tL5OuazXy3s61D8AsBnogAGAAAAvpIE8eLLvXsfXb1wSfVq1dasroM0v/dwLgC9IWxF/x+124eu6F+2wLSin8s6AAAAiGks4ycwnQc42NfUjJ8GaEG/Ufr3ynWjo8UIL54+09apC+Xh0F7XTwRoyhKKX0QOHgOA2IQCGAAAAPjKrCwTmi4A1alRSzN+GiAvl5Gxvgh+/vipvCd7yaN26Ir+sFFuXNgBAACAOQh/HlC7anVN7+yqRW6jde/aLaOjRUsvnj7TtumL5VG7vS4eOiHPhXM4P0CkogBGbEIBDAAAAESS8BeAHKrV0IyfBmhh/z9j3Z0AoaPcQlf03zh5llFuAAAAMGvhzwNq2FXRlI4uWjJwLEXw/wQ9e6HtM5bIw6G9Lhw4pjGzpshv/z9yqlGP8wMA+EoogAEAAIBIFv4C0PdV7GPNnQBhK/qH13HWpcMnNGXxPIpfAAAAxBpWlgk15Le+unrhoiqWLCPPdr20bPA4Pbhxx+hohgh69kI7Zi2VR+12Or/fV2Nmhha/7es2UVwLqgoA+Jr4UxUAAACIIuGLYLtSZeXZrpdZ3gnwrhX9pw4cofgFAABArJTI0kojXQbq6sVLKl+stCa06anlwybq4e27RkeLEsHPX2jnnBUaXqe9Tm8/oNEzJ1P8AkAk409XAAAAIIpZWSbUqH6DdPXiJVUoYSvPdr201D3m3wnwoRX9FL8AAACI7ZImSmIqgssVLqHxTr9ppcckPbpzz+hokSL4+Qv5zFspjzrO8tu6V8MmjlHA0RMUvzAMzwBGbMKfsgAAAIBBkiZKYiqCyxcrpQltemrZkPEx7k6A0BX9y+Xh0F7n9h5lRT8AAADwAeGLYNuCReTZtpdWjZiix/ceGB3tq9nttUrD63bQSe89GjZhtAKOHtdPjX/g/ACGogBGbMKftgAAAIDBwhfB5YqU1Hin37QiBoyEC37+Qj5zV8ijjrNObd2n0TMmUfwCAAAAnyhpoiQa5eKu82fOqkiufBrXsrvW/DktRhfBexas0dAarXV8024NHf+XqfiNZxHX6GgAEKtwVQYAAACIJsIXwWUKFQ8dCTc8eo6E2zU/dEW/35a9Gj5xLKPcAAAAgC+UPHESjRvkoXNnzqpQ9jwa1+o3rRszU0/uPzI62ifbu2ithtZso39Wb5XbqGEUvwBgMK7OAAAAANFM+CK4SK78Gu/UQ6tHRo+RcHsWrNGQ6q11YnPYiv4T6uzYiuIXAAAA+I9skiUPLYL9A/Rdlpwa16q7Nvw9W08fBhod7b32LV6nYbXa6vDKLXIbOVTnT55S91YdKH4BwGBcpQEAAACiqaSJkmi8+3CdDzirQjnyGjoSLvyK/gF/DuMZXgAAAEAkCSuCz54+o3wZsmpcy+7aOGGungU+Njqayf5lG/XH9+10aMVmuQwfbCp+48eJZ3Q04L14BjBiE67WAAAAANGcTbLkGu8+XOfOnFXBbLlDR8KNnhElI+FY0Q8AAAAYwyZZck0YPEJn/E4pu3U6jWn6izZ7ztfzwCeGZdq/dIM8arfXwaUb1NfDXWdPnFZPp44Uv4gRKIARm1AAAwAAADGEqQj2D1CB/42EW//3rEgZCbd/6Yb/rej3luuIIazoBwAAAAySMrm1po4Yo9MnTipr8jQa3bRrlN8RfHDlZg2v46y9C9boV9c+OnfSXz2dOsoyLucHABAdUQADAAAAMUxYEXz29Bl9mzF76Ei48XO+ShF8YPnG0BX9yzapP6PcAAAAgGgjbcrUmjpijPxPnlKGRCk0qkEXrRszM1KfEXxwxWYNr9tBu+euVHe3vrrgf1b9O3VTgjhMBAL+j707j6sp//8A/spa2fcWS0lDtmGYsY+yjX3LziC0KmVJab1tIrQglT3GvoUiIaGxZIkoUlkqskXZSuvvD997f6WimVGn5fV8PHp83Xs+55z3vd95nHvveZ3zeROVZQyAiYiIiIjKKXEQHHMvGsoN5LB2qjGCvP7dnQDiK/ov7T6OxXaWDH6JiIiIiMqopg0bYedaH0Tfu4+W9RrDdcJ8BLhtxYe3qT9sHzf9g7FqrC7+3nUUi2yW4VF0LCy1F0C6WvUftg8iIio5DICJiIiIiMq5hnXrYcvqtbgfGQWles2wdqoJzvjsKVYQXNgV/ZbaCxj8EhERERGVcQpNm0mC4FYNmsJ9oiH812zG++SUf73N8JMhWD1eH8Fb9kN/iQmDX6pQ2AOYKhMGwEREREREFUSzRk2wZfVa3LtzFy3rNIar5nycXLu90DsB8l7Rb2JphicxD3lih4iIiIioHBIHwffv3YdC7YZwm2CAoy4+ePfqTbG3cSvwAtZoGuDsxr3QW7QAjx/EwmHBUv4+oAqFATBVJgyAiYiIiIgqGEkQHBkJxVoNsXLkPBxfvQmpL17jZsA5rBqjiwu+h7HQ2pw9vIiIiIiIKgjFZnLY57MNkZFRaFGvCVaN1cURZy+kvnhd5Dq3gy7CdcJ8nPHZDd2FRpLgt1ZNmVKsnIiIfjQGwEREREREFZRiM3ns8tyEBzEP0FBKGitHayN48z7om3IqNyIiIqqcePcXVQZKzVtgn882PIiJgXyt+nAZo4PDjuuRkvRKMibidCjcJhnitNcu6JgYMvglIqpg2NiLiIiIiKiCU2reEsd27Ufm9kxUr87Al4iIiCovBsBUmSg1b4Ej23cjxtYRS+2ssGqcLlS6d0bK81fITP+MeQsNYbtgCUNfIqIKiAEwEREREVElwfCXiIiIiKjyUVVujSPbd+PZSlf4+G6FYqsWmDNpGqpJsQ0MVS68CIgqEwbAREREREREREREREQVnEIzOdgttRC6DCLBMACmyoQ9gImIiIiIiIiIiIiIiIiIKggGwEREREREREREREREREREFQQDYCIiIiIiIiIiIiIiIiKiCoIBMBEREREREREREREREVVo7AFMlQkDYCIiIiIiIiIiIiIiIqrQGABTZcIAmIiIiIiIiIiIiIiIiIiogmAATERERERERERERERERERUQTAAJiIiIiIiIiIiIiIiIiKqIBgAExERERERERERERERUYXGHsBUmVQTugAiIiIiIiKi0nTt2jUEBwfj2bNnaNSoEXr37o1BgwYJXRYREREREZUgBsBUmfAOYCIiIqo0wsLCEBQUVOiyuLg4rF+/vpQrIiKi0pSbm4uBAwdiyJAhCAsLQ9WqVRETE4PRo0dj/PjxyMnJEbpEIiIiIiIiov+MdwATERFRpREQEICbN29iyJAhBZaFh4fDyMgIhoaGAlRGRESlQUpKCjY2NujWrRtq164teV5bWxv9+/dHYGAghg8fLmCFRERERERERP8dA2AiIiIiIiKqNPr371/guZ49e6JKlSp4+vSp5LmkpCTs2bMHd+7cwefPn9GtWzfo6+tDVlYWAPDmzRvY29tLxlepUgVNmjRB37590a9fv3xjHBwcUKdOHcnYgIAAnD59GgYGBvjpp58kz4eHh2Pbtm148uQJGjVqhCFDhmDKlCkICwvD2bNnsWzZsnx1e3h44NGjR3B1dUWVKlXw9u1bODk5oU+fPhg3blyB1+ng4ICqVavCwsICwJeZMY4dOwZHR8dC36v379/D2toaixcvRosWLb773hIRlRfPnj3Dtm3boKWlVWBZeno6Nm/ejHHjxkFRUVGA6oiIqDSwLQxVdJwCmoiIiOgbDh8+jBkzZmDcuHFYtWoVPn36JFl26dIlmJmZYdKkSZg8eTKcnZ3x9u3bfOtHRETAxsYGU6dOxdy5c7F3717k5uZKloeFhcHExETyZ2pqCjc3N8TGxuYb4+zsXKA2Dw8PmJiYFJiy9OjRo9DS0sLYsWNhaGiIq1evAgB2796NAwcO5Bubnp4OU1NTrF27VvLc9evXsWTJEkRERBTY5+vXr7FkyRLs27dP8tzu3buxffv2It/D8PBwmJmZFbmciEhoW7ZsQY0aNTBw4EDJc46Ojrh8+TK6dOmCHj16YN26dZg+fbpk+bt37+Dh4YHk5GQAQHZ2NsLDwzF48GCsWrUq35iPHz9K1nv58iVmzpyJDRs2ID4+XvL8kSNH8NtvvyE+Ph69e/dGnTp1kJCQAACIioqCr69vvppPnz6NpUuXwsPDQ/I5kJqaijVr1sDY2BjZ2dn5xoeFhcHGxgYbN26UPBcVFQVvb+8i35ePHz/Cw8MDL168KN4bSURUTsTFxRW4qEbsw4cPMDIyQkxMTClXRUREJU1aWhqfPn1iWxiqFBgAExERERXB3Nwc2traaNu2LTQ0NODr64thw4ZJAtxjx44hJSUFv//+O/r06YOjR4+iX79++U666+jo4NWrV+jfvz8UFRUxZ86cfGFrVFQUfHx8JI/T0tIQEBCA9u3b49KlS5IxxTnxDwCLFy/GpEmTULNmTfTu3RsfPnxAamoqACAoKAhnz57Ntx0HBwd4eHhg//79kufu3r2LNWvWYMWKFQXek61bt2LNmjU4efKk5LmgoCD4+/sX+T5GR0fD09OzyOVERKXN3d0dzs7OWLJkCTQ0NLBnzx4EBQWhdevWkjGenp44cOAAjI2NYWxsjHXr1uH48ePIyMjIty0zMzO4u7tLjqVLlizBkSNHitz3ggULMGrUKDRo0EDyXGZmJvT19WFoaAg/Pz+YmZnBw8MDpqamhW7j06dP0NPTg4mJSaHLGzZsWOC47OXlhe7du3/3vSEiIiIiqqikpaWRkZEBGxsbJCQk4NChQ3B1dcXOnTsRGBiII0eOIDAwUOgyiX4ITgFNRERElUp4eHihJ8zz3nELAPfu3YOLiwv+/vtv9OrVCwAwefJkKCsr4/Dhw9DU1CwQkI4ePRrKysqIjY1F27ZtAQBXrlzJN+bjx484ePAgjI2NJc/VqlUL7u7u+cb17dsX/v7+6N27d4Fa8574d3FxkTwfEREBV1dX+Pn5YcyYMd99L+7cuYO1a9dCX18fN27cyLesXbt28Pf3x8uXL9G0aVMAQG5uLnx8fBggEFG5d+fOHXz8+BFv375FfHw8mjRpgmfPnhU6NiMjA2/fvoW0tDSys7Px6tWrfFOCZmRkID09HdnZ2UhISMC5c+cKPXYDX6Z+Dg4Oxr1793D06FHJ8zdu3MCLFy+gp6dXrPptbW2hpKSEadOm5fscEJs1axY2bNgg+Sx4+/Yt9u/fDxcXF8ndyXmlp6cDAKpXr46qVasWqwYiosrmxo0b2Lx5M549ewZVVVUYGxtLpsePi4vDvn37cO/ePXz8+BGtW7eGjo5Ovmn+2VqArQWIqOxgWxgeuysD3gFMRERElUpGRgZSUlIK/OWdnhMAjh8/DgUFBbRo0QKJiYlITExEZmYmVFRU8oW6ubm5yMjIQEJCAjw8PNC6dWu0atWqwH4/fvyIZ8+eoX79+nj+/HmB5enp6UhPT0dqaipCQ0Px4MED9OzZs9DXkPfEf14nTpyAvLx8scLfnJwcaGtrw9TUNN8db2L16tXDsGHDsGXLFslzp06dQnZ2NgYMGFDo9sSvIe8U10REZdGWLVuwd+9enDp1CrGxsTAwMMC0adNw/PhxAF+OaatXr0b79u3RuHFj9OvXT3LhztfHuG7dukFGRga1a9eGmpoaWrZsme8kkNiHDx9gYGAANzc3NGrUKN92xCeZCvv8+Fp4eDi8vb3h4+NT5PF2+vTpuHz5suTipu3bt6NXr15QUVEpMDY5ORkyMjKQkZFBjRo10KpVK6xevfq7dRARVSb+/v7o27cvqlatimHDhiE6OhrdunWTfK8PDw/H9evX0aVLFwwZMgTPnj1D9+7d800jzdYCbC1ARGUb28IUjsfu8ot3ABMREVGl0qNHj0L71R48eBAhISGSx4mJiUhKSkK7du0KjM3b59fT0xNGRkYAgKZNm8Lf3x/S0tKScdbW1jhy5AjS09MhJyeH9+/fo0aNGvm2Jz75LiYtLQ1ra2uMHj26wL7FJ/7Dw8Px4cOHfMuePn2Kli1bfv9NALB+/Xq8f/8e5ubm2LBhQ6FjdHR0MHfuXJiZmaFKlSrw8vLCvHnzCuwX+PIjRfwaatSogfbt22P58uUYNmxYseohIhKKlJQUZs6cKZlBYdSoUVi5ciVWrlyJAwcOYNCgQZCSksL169fx66+/Flg/JCQEbdu2RU5ODl6+fAlHR0doaGhI+q+L92FlZQU1NbV8J4zExJ8b79+/l/y7sDqzs7Ohra0NS0tLtGnTBrdu3Sp0bN26dTF58mT4+Phg1apV8PHxKfKK/oYNGyIyMhLAlzYEISEh0NbWRpcuXdCxY8dvv3lEROXY+/fvC50ZSDwrglhWVhb09PRga2sLc3NzAICenh66desGJycnrFu3DhMmTMCECRMk6+jp6UFJSQnBwcFQVVUFgAItUVq3bo1x48YhIyMj3+8DMzOzfMdfKysrHDlypMi2AOLWAnlbtORtLeDm5vbd96KoGYbExK0F8l5oKm4t8OrVq+9un4ioLHJ3d0daWhqSk5Nx48YNZGdnF9oWJi8eu6k84R3ARERERIWQlpZGu3bt8OHDhwJ/mzdvloybM2cOkpKSEBUVBQgBe24AACAASURBVCMjIwwcOBBRUVEAgClTpuDvv/9GcHAwkpOTERkZiQULFhTYV8OGDZGUlISkpCTEx8fj1KlT2LVrF8zMzCRjCjvxX1jN79+//+brkpKSQkJCAqytrbFp06YCYXReAwYMQI0aNXDy5EkkJCQgKCgIc+fOLXTsyJEjJa8hIiIC/fv3h6amJt69e/fNeoiIyoLs7GwkJyejdu3aAICzZ89i+PDhGDx4MKSkpAB8mTa6MI0aNYKcnBwUFBTQpUsXGBgYICwsLN/FMuHh4di6dWuRV9b//PPPkJKSQmhoaJE1Vq9eHe7u7sjMzMSSJUu++5r09PSwa9cunDt3DqmpqRg7dmyh46SkpCAnJwc5OTkoKytDS0sLrVq1QnR09Hf3QURUnuXk5BQ6M1Bqamq+cTdv3sTTp0/Rv39/ycxAiYmJ6NatW4F2L1lZWUhOToavry+Sk5MLbQmQkZGBFy9e5Gst8PXy9PR0fPz4Effv3y9Wa4E1a9bk61H/X1oLFEbcWkBM3Fpg9uzZhY4Xzwz09Z1nRERCk5aWllzoc+fOHdy+fRt37txBfHw8MjIyvtkWhsduKm94BzARERFRIX799Ve4u7sjISHhmz1OZGVlISsrCzk5OVhZWcHX1xcnT55E+/btERwcDE9PT0k/YKDwAEF88l2sRYsW0NTUxIkTJyTPFefEf9euXbF27Vo8f/483/byql69OubPn4/p06cX+WMkb106OjrYuXMn1NTUMGLECMjLyxc6tmbNmpJ9ysnJYfHixfDw8JBMVUREVBZkZmZixYoVGDt2LJSVlVG9enU8fPgQIpEIr169klzkoqKigpCQELx+/RqNGjXC5cuXC/R9F0tOTsbz58+Rk5ODxMREODs7o0OHDqhduzZev34NADAxMZGcoClM8+bNoampiUWLFqFp06b47bff8Pr1a8TFxaFv374AvpywsbOzw5kzZ1Ct2vd/ynfr1g0KCgpYuHAh5s6dW+Q6ubm5kilM09LScOLECcTHxxfZhoCIqLyTlpZGVlYW6tWrV+jMQK9fv8bevXsljxMTEwEAgwcPLjA2b0/4u3fvolOnTgCAatWqwdvbW/I4JycHrq6u2Lp1KxITEyEnJyc5LhfWWiCvKVOmlEprgcJmGBKbPn06bG1tERsbizZt2hSrtQDwpRdm8+bNYWRkVKyLl4iISlreADhvy6vc3Fzs3LkT06ZNg6ysLEaNGsVjN4/d5R7vACYiIiIqxJgxY6CqqoqJEyciPDwcmZmZePXqFfz8/CS9vLy8vCQnhHJzc+Hv748nT56gc+fOAL5MDXTu3DlkZGQgMzMTO3bsgJ+fX4F9iU++P3/+HAkJCQgMDMSOHTvynXwXn/jftGlTkSfxx44dCzk5OcycORNxcXHIzMxEdHS0ZGpPAAgKCsKNGzeKDDK+pqWlhTNnzmDnzp3fvAr18+fPktdw79492Nvbo0mTJoXeqUxEJKTAwEB07NhR0vNWTU0NycnJuHDhguT4bWNjg9q1a6NZs2aQlZWFlpYWdu3aJblDOC91dXXIy8ujefPmGDVqFOrWrVvgWF+rVq1CpxnNa+vWrejVqxfU1dVRo0YNKCgo4K+//pIsT0xMhJaWFn777bdiv1Y9PT3cuXMHOjo6RY558+YN5OXlIS8vjw4dOmDjxo3w9fUtcBKLiKiikJaWRmZm5j8aDwCPHj0qMDNQ3tkS2rVrh6SkJMTGxmLHjh1YunSppFfjypUr4ejoCA8PD6SmpuLBgwfYsWNHofsLCQlBUlISnj59KvkdoqGhkW/MP2ktUJTizDAklre1AAD4+PgU+dsg7+xGsbGxEIlEMDc3x5kzZ4rcPhGR0MRtYTp16iT5Ls9jN4/d5R3vACYiIiIqRI0aNRAUFAQdHR10794dOTk5AABVVVUcPHgQAHDo0CHMnz8fNWvWRG5uLurWrQsXFxfJ3QFeXl6YPn066tSpg9zcXGhoaGDfvn0wNDTMty/xyXfgy90CCgoKGDt2LJYvXy4Zk5iYiAULFnzzxL+srCxOnToFLS0tyY+AGjVqYNOmTejQoQMAIDo6GocPH0bdunWL9T40atQIQ4cORVhYGAYOHFjkOH9/f8lrqFevHn755RcEBASgZs2axdoPEVFpqF69OkJCQpCZmYmXL18iNzcX8vLyqFq1ar5xioqKkinYMjMz0bx5cwD5T8YoKSkVuPL/a98ak5KSku9xnTp1sHv3bmzatAkvXrxAo0aNUK9ePQDA7NmzC52qrUuXLvm2//X+5s2bh3nz5kkeDx06FI8fP5Y8Lmq7YnJyct99jUREFd0vv/yCKlWq4OzZs5gyZUqR46pVqyaZEUdFRQXBwcE4ePAgZs2ala+1gNj3WgsAgIKCAgwMDDBw4MBCWwtEREQUuo28rQXGjRtX6Jh/01pg1KhRGD58uKS1QGHBwNezGykrK8PR0RHR0dHsLU9EZdq32sKI8dhN5QkDYCIiIqo07OzsoK6uXuiyCRMmFDjJraioiICAALx79w6vXr1CgwYN0LBhQ8nyM2fOIC0tDS9fvoS0tDSaNm0q6RUJfOmh+/TpUzx9+hSysrJo1KgRACA2NlYy5nsn37815usT/8CXOw8uX76M5ORkvHv3DnJycpJpfLZv317oNHcmJib57kz7en9570ADUODu4aK2KzZlypRvniwjIipt1atXzzdtZ1GaNWtWCtXkV6tWLbRu3brU90tERIWTk5PDnDlzsHDhQtSuXRsDBgxAVlYWIiIikJWVBXV1dRw4cABqampQU1ND1apVcf/+fZw5c0bSl5GtBdhagIjKjo8fP7ItzFd47K6YGAATERERfUfdunWLvGNWRkbmm/1ZqlSp8s0ewiWlUaNGksCZiIiIiIj+PU9PT8jKymLSpElIS0sDADRu3Bhubm4AgNu3b2PWrFnIyMiQ9Bj+888/YWNjA+BLa4Hr16+jWbNmqFGjBlq2bIldu3YVmB4UgOSCVSkpKTRp0gR9+/aFl5dXvjHFbS2gq6sLdXV1ZGVlAQB0dXUlIUJxZhj6mp6eHnR1dXHs2LEix+Sd3UhGRgaqqqqS1gLicIGISCjS0tLIyMhAYGAgrKyskJOTgypVqkBKSgqDBg0q0BaGx24eu8szqVzO50QVnIeHBx49egR3d3ehSyEiIgFpaGjA1ta2yDuAiYioYrt79y6mTp1a5LRtRERUOYhEonz/+098/vxZMrtP06ZNUaVKFcmyrKwsvHz5EtnZ2ZCXly/0LquvWwuUho8fPxZoLUBEVFn5+flh+/bt8PPz+25bGDEeu6m84h3ARERERERERERERN9Rs2bNIqfpr1atGhQUFL65PlsLEBGVHWwLQxVdle8PISIiIiIiIiIiIiIiIiKi8oABMBERERERERERERERERFRBcEAmCo0Pz8/XLp0CTExMfD19RW6HCIiEkBKSgrs7OyQnp6Offv2Yfv27UKXREREpczPzw+bN29GtWrVYGdnh8ePHwtdEhERERERlTJpaWmkp6cLXQZRqWAPYKrQHB0dER4ejpycHERHR2PWrFlCl0RERAJYuXIl0tLSEBYWhnr16gldDhERlbLHjx/Dw8MDAHD//n3+LiAiqqRu3boluQjo1q1b6NKli7AFERFRqWIATJWJVG5ubq7QRRCVlJSUFCgoKKBGjRoICQnhF3siokoqJCQEGhoa6NatG65fvy50OUREJIAhQ4bg9OnTOHLkCMaOHSt0OUREJAAFBQW8efMGUlJSqFatGt6/fy90SUREVIpCQkIgEokQEhIidClEJY53AFOFJisrg3Ub3REfHw/Vn9oIXQ4REQmkQyc1iJyt0LtnH6FLISIigVjYmqFbny74tWd3oUshIiKBnDhxAj169EBubi6OHz8udDlERFSKHj9+jFu3biElJQXnz5/Hzz//jPr16wtdFlGJYQ9gqpA+fHwP0QorKKko4WZUGHJlPqOt2k8wMTfE6zevhC6PiIhKScyjaEydPRE9e/eATJNq2L5nC5TbtIL3dk9kZ2cLXR4REZWwnJwc7Ni3FW07qMJ9gyuaKNfD4D8GYvzU0YiIuiV0eUREVMq6dOkCb29vuLq6Ql1dXehyiIioFFlYWMDU1BRxcXFQV1dHSkqK0CURlSgGwFShiIPftmo/ISk5EQHhe7F0+QLMXfgnztw7ApmG1dGl688MgomIKjhx8PvHH3+gu3pnBEcfw+S547Dcxxq7gjci+MIZtGnbGt7bPZGZmSF0uURE9IPl5uZix76tUOvUFnv274bnARd47HKG5sxROHn7AAaN/x2TJk9kEExEVImkpL6FucgU1iJLrFyzAuYiU6SkvhW6LCIiKiUbNmxAgwYNkJGRATMzMygpKQldElGJYgBMFYI4+FVtq4qEF09w7PoeWKxahIaNG0jGyMjKQG+pFoIiD6N6HSl0/rkTg2AiogpGHPwOGjQIXft1xLkHxzBh9ph8YxRbymPVVjvsPO2NM+dOQbmNEty91zAIJiKqAHJzc7Hv6G507tYRO3ftwNq9K+B9yBWq7VXyjRsxcQhO3TkE9VG9MV5zPINgIqIKTBz8tu+ohrScdwi8cxCBEQeQVS0NHTt3gLnIlOeGiIgqgfr162PDxvUYPWEEFi1ZKHQ5RCWOATCVa+Lgt5VSKzxKjMOxa7tg42aKxk0bFrlOrdqyMLTURlDkYUhJZ6NDxw4MgomIyrnI6DuYMnsiBgwYgE692uFCXAAmzx33zXVaKCtija8jdp3diJCLwQyCiYjKsbzBr5eXJ5ZvtMLmY2vRrpPqN9cbM204zt7zQ58/fsXo0aMZBBMRVSDi4LetWlu8+/wGJ28fwCL7+ahTtzZq1ZaFkZUOAu8cRFrOO7Tv0J7nhoiIKrAjJw6hc7eOWLhwIapI50JRvjn+nDcVj+LjhC6NqMQwAKZyKW/wG/MoGidu7YP9+mVoKt+k2NuoU7c2TET6OBN1GFlVP6N9e7X/fdl/WYKVExHRjxQZfQfjpozG4EGD0eFXVYQ+OonpuhP/0TaU2rSExy5n7AjyxtlzpxkEExGVI3mD37VrPeCwYRl8A73QuXuHf7SdCbPH4HysP34b0BUjRoxgEExEVI6Jg9+f2qoi+f0LBEYcgJmzMeo3rFdgbJ26tbHIfj5ORx5GBj5BTa0dg2AiogokKCQQ3Xt1xQKDBZimp4nQRyfhssUOl+IDIVUzF+1U1TDPUAuJSQlCl0r0wzEApnLl46cPkuD3Xkwkjt/Yg+U+1pBTbPavt1m3fl2YOhnhdNQRpOd8hJoag2AiorJOHPwOHDAInXup4XJCEGbOn/KftqnSVgnr97lg+0lPnDp9kkEwEVEZljf4XbN6NWzXLsXus5vQtWfn/7TdqdpfTgp17dsRQ/8YyiCYiKgcSX2XAnORKVq1aoUXb57iZMRBWK1Zkq89WFHqN6wHsxUmCIo8jA8Z79C2bVsGwURE5diFKyHoo9ETWjO1MH7WSIQ+Pomp2pqS5U3lm8DB0wIXHgYgLfMDVFV+guESfbxKZiZAFQcDYCoX3n1Ihb2LDVq2aomIyFs4fHkHXLbYQbGl/A/bR/2G9bDMZSEC7xzCh4x3UFX9CQaLdPDi9fMftg8iIvpvbkfdwvipo6HRXwPtu6vifOxxzDGe/kP3odpeBd6HXLHFfx1OBgagRavmWLXWGZ8zPv/Q/RAR0T+Xm5uLnfu3oV3Hn7DSeQVMnY1w4OJ2/Nq36w/dz8z5U3DuwTG07/4TBg0YhBHj/sBtBsFERGXSm5RkLLMzRctWrfDk6UOcjDgA0Vrzb7YHK0rDxg1g7boEgREH8PZDMpRaKWGRhTFevn5RApUTEdGPFhZ+GSPG/YHJEybjD00NXIo/hel6Rc8UJ6fYDMt9rHH2vh+SU19CtY0qLOyX4k1KcilWTVQyGABTmfb+wzvYu9hAWVkZ4RE3cfjyDrjtXA6lNi1LbJ+NmzaEtesSnLnnh885n9BerT0WWSzgl30iIgF9CX7HYKD6APzUpTUuPAyAzpJZkJaRLrF9tuukio1+7tgasA6nTgdCRVUZaze6IoNBMBFRqcvNzcWBY3vQuVtHuK5xhcXqhThy5S/0/6N3ie1TWkYa2otn4sLDAHTu1R6DNAZi/NQxDIKJiMoIcfDbWrk14p7EIuDmXqzYZPtDbhZoKt8E9uuX4ex9P7xKeY7Wyq2xyMKYgQARURklDn5HjxyLXzW64kriacwynFrs9RVbymPFJlv439yLuCcxaK3cGhb2S/H+w7sSrJqoZDEApjLpU9pH2LvYQElZCTduXceB0O1w/6tkg9+vNW7aEDbuSxEYcQApH5OhpqbGqz6JiEqZOPgd0H8A2nRqhQsPT0DfbA5kZGVKrYYOXdWw5fg6bPRzg99RP7RWVcY6BsFERKUib/Dr6OCERQ768Lu6C+rD+pZaDTKyMtBbqoXzcQFo06kVBvQfwCCYiEhAeYPfmIfR8L+5F6u22qGFsuIP35ecYjM4brDE2ft+ePnmGZT/FwgwCCYiKhvEwe/I4aPRvf/PuPr0NLQWTPvX22uhrAiXLXbwv7kXMY8eQElZCfYutgyCqVxiAExlyqe0j3BZ6wRlFWVcvxmGA6HbsXb3Cqi0VRKspqbyTWDrYYbAiAN48/4lr/okIioF92KjMH7qGKj3U4dy++a4+OgE5lvMQ63asoLV1KGrGrYFrIfXoTU4dOSwJAjOysoUrCYioopMHPza2znAxE4Px67txoARvwtWT63asphvMQ8XH52AcvvmUO+nziCYiKgUvfuQKgl+78fcw9Fru7DG17FEgt+vySk2g5O3NU7e3o/HiQ8ZBBMRCex21M0vwe+wUejatxMuPgzAHJMZP2z7LZQVsXqbPQ5f3oGIyHBJEPwp7dMP2wdRSWMATGVC3uD3QugF7Drjg3V7XQQNfr/WVL4J7NZ9mf7ndeoLftknIioB92OjME1rEvr07INWbRVw8dEJLLDWFTT4/Vrn7h3ge3IDvA6twcFDB6Gq1gYbd2xgEExE9IMcD/JD915dYSeyh7FIF/439mLQqP5ClyVRq7YsFljr4uKjE2jVVgG/9/kd46eOwf3YKKFLIyKqkPK2B4u8fxeHr+ws9VnixBRbysN5ow1O3t6Ph/GxknND7z6klnotRESV0ZeZ4kZj8IAh+Ll3B1x4GADtxTNLrEWYUpuWWOPriMOXd+DWnRtoraKEVWudGQRTucAAmAT1OSNdEvyGXAjBrjM+8Ny/CqrtVYQurUhyis3g4GmBoLsHEZ/0WNIPgEEwEdG/Jw5+e/XojSYtGuB87HGYiPRRp25toUsrUufuHbDjlDfcdjph586dkiA4Jydb6NKIiMolcfBrvtQcumazEHBzHwaPVhe6rCLVqVsbJiJ9hD46AUWVZuj5Wy9M05rEIJiI6Af5EvzaQklZCWHXr2Lf+S1Yt2dlmbhZQLGlPFZuFiHgf70ilZWVYe9iwyCYiKiEiFuEDdIYiJ+6tMaFhwHQNZ1dai3ClNq0hNvO5dh3YSv+vhrKIJjKBQbAJIjPGZ/hsXENVFRbIzgkGDtOecHr4JoyHfx+TU6xGZy8rHDq7kHEP3vExvBERP+COPjt8WtPNFSoh5CY41hkPx9169cVurRi69qzM/467QO3nU7w9fWFWqe22LF/C3JycoQujYioXDgVEoDuvbrCzNQM2qYzceLWfgwZO0Dosoqtbv26WOJoiPOx/qgvVwc9uvdkEExE9B/kDX4vX/0b+85vKbM3C4h7RR4N24U79yIYBBMR/WDi4HdA/wFQ7ayE83EB0DebU2rB79eU2rSExy5n7D63GaFXLkqC4IyMz4LUQ/QtDICpVH3O+Iy1G12hoqqMEycCsMV/HXwOu6FdJ1WhS/vXxH1gTvyvDwwbwxMRfZ8k+O3eE/Wb1caFuACYOhmhfsN6Qpf2r3Xt2Rm7z26Ck481vLx8oNapLXbu38YgmIioCKdCAtBHoyeMjUwwd/EMnLx9AEPHDxS6rH+tfsN6MHM2RkjscdRpLIvfuvXANK1JiI69J3RpRETlwoeP7yXB79+XQ7E7eBO8D7mWyeD3a/l7Rd6SBMEf0z4IXRoRUbkkDn41fteASseWuPjoBAyWzS0zLcJU2iph7e4V2H1uMy5eOo/WqspYt9GNQTCVKVK5ubm5QhdBFV9mVia8tq6Di9NqqP38Exba6aNDVzWhyyoRT+OTsNbeB6ePhsDY1AgLDRajTu3ycycbEVFJuh8bBXsnEfwPn8RUHU3omWmhYeMGQpdVIq6FhsNlmQdS37yHla0FZkycDSkpKaHLIiIS3KmQANjbOeD1q9dYYKOLkZP+ELqkEvH65Rt4rdiKfZsPY5TmCDjZLYdyy7IfYhARlbZPaZ+wet1KeKxah196da4Q54wex8bDw84bf58NwyJzYxhqG6OWTNltb0NEVFbci42CpfUynAs6jzkm06FlPL1MtwcTi4mKg7vIG7eu3oGZpSn05xihWrVqQpdFlRwDYCpRmVmZ2LZ7I5wdXNC6rRIWOxiU+y/xxZXw6CnWOmzE2ePnYWxqhCVGZpCVKRtXKBERlbZH8XGwtF2G44dOYIr2eOiZzUHjpg2FLqtUXAoOg5vtBqR9TIe1yAoTR01lEExEldL5K2dhscwSL1+8grGtLkZNHip0SaXi9cs38HTahF3eBzB9zhRYL7NlEExEhC/Br+cmD6xZ4Yb2XdthieP8CnfOKC76Mdba++DyuWtYZG4MI20TyMrUErosIqIyR3zDQODx05hlNBVzF84oF8Hv12Ki4uBqswH3bsfA0sYcs6fOYxBMgmEATCUib/CrpNoSi+wN0Ll7B6HLEkTCo6fwsPPGxaDLWGy+EPO1jRkEE1Gl8Sg+Dg7Odji4+wgmao2BgcW8ShP8fi30zBW42Xrhc9pnBsFEVKmcvxIMOzs7xD9OgLGNLkZPHSZ0SYJ4mfQK6xw3Yd/mwwyCiahSS0tPw/qN7lizwg3tOqtisaNhhT9nFBf9GO4iL1w9fwOLzY1hyCCYiAjA/we/J48FYeb8yZi36E/UrV/+Z9O8fycGbrYbEH0njkEwCYYBMP1Q2TnZ2PKXN5wdXNBKpXml+BJfXI9j47HOYSNCT19hEExEFZ44+N21dS+m6mhivsU8NJVvInRZZcKFoEtws/VC5udMWIusMGn0NKFLIiIqEeLg98nDJ1hgo4ux00cIXVKZ8PzpC6xz2IgD247+LwgWQblla6HLIiIqcXmDX9UOKljsMB9de3YWuqxSFRf9GG42GxB28SYWmxvDWG8xataQFrosIqJSJw5+Txw9hT8NJkNnycwKEfx+7f6dGLhae+JB5ENY2phjznQdVKlSReiyqJJgAEw/RE5ONnYe3I7lds6Qa94UC+0MKt2X+OIS94G5dDYMi80XwlhvEWrUqCl0WUREP0Te4HfS3HEwtJwHOcVmQpdVJp0P/BtuthtQpUo1iOxsMGrIOKFLIiL6IcTB7+O4JzCy1sH4P0cKXVKZ9DQ+CWvtfXBkpz+mz5kCexsnNJdvIXRZREQ/XEbGZ3h4u2LNCje0bqeERfbz8WvfrkKXJaiYqDi42XrhdthdmFouht7s+QyCiahSEAe/AX6BmKE/CTpLZqF+w3pCl1XiIsPvwV3kjSexibAWWWGa5p8MgqnEMQCm/yQnJxt/HdwOJztnNFVoUimv3vy3xH1groeGw8zSFLqzDRgEE1G5lTf4nag1BkbWOgx+i+nciYtws/VCtWrVGQQTUbl2JTwUFhaWeBT7GIZW2pgwa7TQJZULCY+ewsPeB/77TkFL909YLLVmEExEFUJGxmf4bN+AlU6roNBSDkudjSt98Ps1ca/IiGuRDIKJqEJ7GB8LK1sLBBwJxHS9CdBdqlUpgt+vRYbfg6vNBiQ8fAZrkRWmT5jJ9mBUYhgA07+Sm5uDnQe2wcnOGY3lGmGhnQG/xP9L4j4wNy/dZhBMROVOYlICbOwtsWvrXoyfOQpG1jpQbCkvdFnl0ln/83AXeaN69RpwcnbEUHVOlUpE5cOV8FDY29sj6s59GFlpY8LsMUKXVC49jo3HWnsfnDh4hkEwEZVreYNf+RbNsMh+PnoP+E3osso0ca/IuzfuwdRyMQzmGKF6tRpCl0VE9J89io+DvbMIh/cexVRtTegunY2GjRsIXZbgIq5Hws3WC6+SkiGys8H4kZMYBNMPxwCY/pHc3BzsP74HjiInyNSS5tWbP5C4D0z4lQiYWZpCf44RG8MTUZmVmJSA5S4O2OazE6OmDMUCax20UFYUuqwK4fSxELiLvFCvXl1Y29owCCaiMutK+CXY24sQGXEPhpbzMGkOZzD4EeKiH8PDzhtBfuegpfsnLJfaQFG+udBlERF9V2ZmBry3eWKl0yo0U2yKhXb66De4l9BllSv/3ysyDubWppgzTRfVq1UXuiwion9MPFPcoT1+mDxvHPTN5zD4LUTE9UissfZE8ou3DILph2MATMWSN/itVUcWC+300VP9V6HLqpBiouLgLvJGZHg0LKzNoDVNm0EwEZUZeYPfERMHw0Skz+C3hAT5BcNd5I36DeoxCCaiMiU86josLS1w93YU5lvMw5R544UuqUISXyB65vh5aOn+CTsrRzRp1FTosoiICsjKyoLX1nVY6bQKTf43S1z/oX2ELqtciwy/BzdbL8Tee4Rl1kuhNU2HQTARlQt5g9+Jc8ZC33wOGjdtKHRZZV7E9UistlyHN69SIbKzgeaoyUKXRBUAA2D6jlzsO7ZbcsfvQjsDTttTSsR9YO7djmEQTESCyxv8Dh0/ECYiPSi1aSl0WZVC4OGzcBd5oWGjhlju7IT+PQcKXRIRVVLhUddh72CH61duwmDZXEzTmSB0SZVCTFQc1lh74mLQZWgbzoXFEisGwURUJmRlZWHb7k1Y7rASderVwkI7fQwY8bvQZVUokeH3sMZ6Ax5GP8Yy66WYPS2yDwAAIABJREFUO0MPVatUFbosIqICxMHvwd1HMGH2aMy31Gbw+y+EX4nAGmtPpH1Ih529HUYMHi10SVSOMQCmIh0NOgh7W0dIVZHCQjt99B3UU+iSKiVxH5joO3GwsDbD3Bm6qFKlitBlEVElkTf4HTJWA8a2elBpqyR0WZXSiYOn4WHnDYXm8rC1tWUQTESlRhL8Xr4J/WVzMF13otAlVUriaUH/PnuVQTARCSpv8FurjgxMRPoYPFpd6LIqtIjrkXC12YBnT5JgYbsMMybMZhBMRGVCYlICbOwtsWvrXkzR1sR8i7lopsDvqP/V9b/DscbaExlpmVju7Iwh6kOFLonKIQbAVMCxoEOws3VALnKx0E4fvw/pLXRJhP8/4fM4JgFWtpaYPmEmg2AiKjGvkl/C1tEK23x2YtCo/lhob8Dgt4zw338KHnY+aN5SgUEwEZWoyNgIWFlb4tqlG9A3n4MZ+pOELonw5W4wV5sNuBJynUEwEZWqvMGvjGxNmIj08Mc4fhctTRHXI7HGaj2SEl4wCCYiQeW9YWCi1hjMt5gLOcVmQpdV4VwLDYerjSekcqvA1lbEIJj+EQbAJCEJfnNzYCLSZ7+WMioy/B7cRd54EpsIK1tLzJg4i43hieiHeZX8EstXO2LT+i34/Y/eWGRvANX2KkKXRYU4tuckPOx90FKpOZyWO6FX135Cl0REFURkbAQcnOzx97nL0DGdhZnzpwhdEhUi4nok1lh74npoOHQM58LaXIQG9TjNHhH9eDk5Odjylw+WO6xETenqMLbVw/AJg4Uuq1ILvxIBV5sNePH0JSxsl+HPiVqoIsWbBIio5OUNfjVnjYKRlTaD31JwLTQcLss8UL1aDQbBVGwMgAmBIcdhucwa2dnZMBHpQWM4TyCXB+Ir/188fQ0bkRUmjJrCIJiI/rW8wW+fQT2xyN4A7TqpCl0WFYPfrgCsc9wE1XYqsLGxYRBMRP9aVOwd2DvZ4cKZUOiZaWGW4VShS6JiCL8SAXeRF25dvQt9Ex2YGpujYf1GQpdFRBVATk4Odh3cAUc7J+Tk5sDYVhejJvOEc1kSfiUCq63WI/XNO1iJLDBp1DRIMQgmohKQN/gd/+dIzLecB8WW8kKXVelcCg6Dq40nalSvySCYvosBcCUWGHIc9naO+PD+A0xEehg4sr/QJdG/EHE9Em62XniVlAxbkTU0R01mEExExZY3+O094DcsdjRk8FtOHd7pj/WOG/FTe1UGwUT0j8TER8PG1grBp85Dz0wLc4ynC10S/QvhVyKwynIdIm/eh8FCXZgvskTd2vWELouIyqG8wW92dhYW2OhizLThQpdF33AtNBxuthvw7u17WIksMWnUVAbBRPRDvHj9HHZONtjmsxNjpw+HkbUOg98y4OLpy3Cz9YJ0TWkGwVQkBsCVkDj4ff/uPUxE+hg0isFvRSCeAi75xVvYiqwxYTSn6iOiouUNfnv0747FDgbo0FVN6LLoBzjoewzrHTdBrWNbODk5oWv7X4UuiYjKqJj4aCxf4YDAY6ehvXgmputNhLSMtNBl0X90JeQa3EXeeBAZB2NTQ5gYLGYQTETFkjf4zczMxAIbHYybMVLosugfEE8RmvYxHVYiS0wePQ0AbxIgon/uy3kjB2xavxXDJw7BAmsdtFBWFLos+sr5U5fgbrsBMjKyDIKpAAbAlci5K0GwXGaN1JR3MBHpYcgYDaFLohIQcT0Sqy3X4eO7NIjsRRg5eIzQJRFRGfI29Q0cVoiwcf0WdO/bFYsd5qNz9w5Cl0Ul4MA2P3gu34Iu3TvDxtqGQTARSeQNfuct+hMz9Ccx+K2AroRcg5utF2KiHjIIJqJvys3NxV8HfOFo54TPnz/DyFoHE2aNFros+g/EnwGZGVmwsbPCmCGaYBBMRMWR94aBYZqDYGyrx+C3HAg5GQo3Wy/UqlULzs4r8HtPdaFLojKAAXAlEHLlNOztHPD82QuYiPTwx7iBQpdEpSD8SgRcbTbg0/s02NnbYcRg/ngjqszepr6Bi7szvNw3okuPjjAR6aNrz85Cl0WlYP/WI1hrvxHde/3CIJioknuc9BB2DjYIPHYac0xmYOb8yQx+K4HL58LgLvKWBMGLjZailkxtocsiojIgNzcXh47vg53IAakpqTCy0sakOeOELot+oEvBYXCz3YDsrBwGwUT0TXmD3z/GDcACG10otWkpdFn0D531Pw93kTeaNGkCW1sRg+BKjgFwBSYOfpOePoexrR6GaQ4SuiQSQPiVCKy2Wo/0j5+x3Hk5hqgPE7okIipF7z6kYoWrEza4+aBjNzUscTRk8FtJ7dl0CJ5Om9G91y9wdHBAhzZdhC6JiErJ46SHWLHKCccOBGCW0VTMMpwCGVkZocuiUnYpOAzuIi88jk3AInNjGGmbQFamltBlEZEA8ga/KW9SMN9yHqZqawpdFpWg0DNX4GbrhdycXDg622OYOm8SIKIv8ga/g8dowESkx+C3Ajh9LATuIi80a9aMQXAlxgC4ArocfgGWFlZIePIUC+30MWLiEKFLojLgWmg43EVeyM0G+wEQVQLvP76D+4bVcHdZD9X2rbHQTh891XnnJwG7Nx6Ep9Nm9BvYG1YWNujQhhcEEFVUT5IewnmVE47u98csw6mYvWAqg1/KFwQvNjeGIYNgokojb/D75vUbzLeYh+l6E4Uui0rRhaBLcLP1grS0NGxsrTBUfZTQJRGRQN6mvoH9ChE2rd+CgaP6w9hWDyptlYQui36wU0fOwsPOB3LycgyCKyEGwBXIpfALsLezx8OYx1hgo4NRkxnwUUHXQsPhsswD1avVgMhWhMEMgokqlE9pH7Fm/Uq4u6xHGzVlLLTTRy+N34Qui8qgv7z2w9tlG/pq9IaVhTWDYKIK5EnSQ6xYtRxH9h3HLMMpmGU0FbVqywpdFpUxf5+9CneRF57EJWKxuTGM9RajZg1OCU5UUR08thd2Ige8fvkaBsvmYub8KUKXRAI6H/g33EVekJaRYRBMVMmIW4RtcN+I/n/0gomdAYPfSuDkoTPwsPOGgqICg+BKhAFwBXA5/ALs7R0Qcy8WxrZ6GD2VU/zS910+FwY3Wy9Uq1odzs7O+L2nhtAlEdF/kJb+Ces3uWO1sztaqTTHQjsD9B7A4Je+b4fnXmxc5Yu+A3rDXuQA1ZbthC6JiP6lZ68T4LDcDof3HsPM+ZOhZTydwS99lzgIfhb/HKaWi6E3ez6DYKIKxD/IDyJbOyQ8eQp98znQWjBN6JKoDDl34iLcRd6QrSULJ2cHaPTkLIJEFZU4+PVy34i+g3vCRKQH1fYqQpdFpSzgQBA87LzRvEVzBsGVAAPgcuxG1BVYWVoj5n4cjKy0MXb6iCLH6mkuwvvUDwWeHzJWA7MMp5ZkmVTG/X32KtxsN6BOnboQ2YoYBBOVM58z0rHWxxWrnd3RsrUiFtoZoM/AHoWODTp6Dr7r9hS6zPuwK+rUrV2SpVIZt33dHmxa7YvBIwbAwtyKQTBROfLsdQJcXFdg346DmKY7AVrG04s8pnvY+yDswo0Cz7dQVsSKTbYlXSqVYaFnrsBd5IWkhBcMgokqAHHwG/8oAXpmWpi78E+hS6Iy7Kz/ebiLvNG4SSNY21oxCCaqQPIGv70G/IrFDvMZ/BKO7w2Eh70PWrZqwSC4AmMAXA7djAqDvYM97oZHYr6lNsb/OfK763Rt3B+rttmjqXxjyXOHfI8hNxewX7+sJMulcuLi6ctws/VCvXr1GAQTlQOfM9Lh47sBLo6rIde8GRba6aPvoJ7fXMd3/R5cOHUJxrZ6+Z6f0GcWrjw9jYaNG5RkyVRObPXYhc1rdmDIyIEMgonKuLzB7xRtTcxdOOO7F/PoT1iMth3bYMDI3yXPPbgbi42rfRF093BJl0zlwNdBsMEcI1SvVkPosoiomMTB7+O4J9BdqoWZ8ydDWoYXc1DxnD4WAneRF5o2a8IgmKicyxv89lDvjkX2BmjXSVXosqiMObr7BNba+6CVcisGwRVQNaELoOITB793bt6FgcU8eOxZ/o/Wb9epDZorKUoe/33mKpISXwAAgvyC0US+CaLC7yPqdjS69+mCcTO+BMtpn9LgvXIbFtoZAADev/uA9Y6b8KfBJDRXUkT03Vgc23MSOdnZGDV1GNr/3LbAOgCwxtoThpbzUFO6JlLepGLv5sNIePQU7X9uiyna41G1alXcvxODyPD70Jz5pfdIcMAFPIt/jhn6k/K9lm/VC6DI7QPAm9dvsdvnIJJfvkGP/t0xdPxAAMCmNTvwMulVvv1M1BqDnzq0waY1OzB0/EAc2OaH1LfvMGrKUHTv01UyTrzNV89fo6f6rximOUiy7M6NKBzbc1LyWE6xab4rb0NOhuLciYto0Kg+pulOQFP5JgCAp/FJ2L52d7569My00KhJw2+ut2nNDoydPhxN5L6E/Qe3H0XnXzvgpw5tCv5HkUe/wb3Qb3AvnD91CSYmxqjfoAGclzujR9fe31yPiEpXZlYGvLath4vjajRTbIoVm23Rb3CvYq/foFF9dO7eId9zUlJSkn9/63gX5BeMhk0aSB6fPHQGb5NTME1nAoAvx6ULQZfRoFE9TNOdgEZNGhY4rr949hL++05JjoNx9x/h0I7jeJ/6AQNH/g71YX0L3de2tbuh0k4Jvw/Jf0z63vH54unLOBdwEdWqV4PmrNFo2/H/j4Xi42jjZo0wUWsM5BSbIe1TGlxtNhR435Y4GiInJwebXXdixKQh2Om5DzK1ZDBNRzPfZ2tRx2YA2OC8BW+TUySPxZ8xwLc/Ry6fC0NwwEXJ49p1a8PYRveb633vff+WOcbTMU1HE7u8D6B/H3X8MWoQbK3toSTf+rvrElHpeJmShOUujtjrexBTtccj6O4h1K1ft9jrN1dSyPdZkJ2VLfn3/TsxeHA3Fg0a10fgoTNo1aYlputNlEwl/fV3TZ9V29HxFzX0GdgDb5NTsHfTYbx6/hq9B/bAoFH9C10n7/fTzMxMHN11ArevRaKZQhNM052Aho0bFPg9EXf/EY78FQAjK23UlK5Z7HqL2r542YFtR3Hv9gO0UVPGFG1N1KxZA0F+wbgWGp7vPfvt924YPFr9u79DxNuMuhWNNmqtMVV7vKTedynvsM5xU77tLnE0lCx/EBmLQ77HkZOTg1FThub7/2jlMg9kZWZJHg+fMBhde3b+5npff5aGXbyJ1LfvMHi0+jf/++g7qCf6DuqJi6cvw13kDfdVa2FubYo503QYBBOVYUEhgbBYtgyPYp9Ae8lMzDaaChlZmSLHc6Y4Kszg0epfPu+OnoOhvjGayTWB43IH9O7aX+jSiKiY3n98h+WrHeDlvhG//f4L9l3YyuCXijRm2nCMmTYcR/7yx+yZs6GsosQguAKpInQB9H13Y29h7NSR0BwzEf3+6IHg6GOYMGv0D91H6JmrWDzTEq9fvkH/oX3wl9cBuFisBQCkfUrHDs99krGrLdfBZ9V2JCW+xKOYJ5g2YB6U2rRAh1/UoDXcEImPnxZYBwB81+3B5/TPSPuUhhFdJyP1TSoGj1bHhaBLcFn2ZV8Pox/jzLEQAMDta3dhNleEHv27/cN6i97+u9T3GN9rJjIzMtF7YA9sX7cH7iIvAMCBbX6oXbc2VNopQ6WdMv4+G4bHMfGSZUZTlqKFsiK69uwMw8lLEXIyVLLNcT3/RFZWNvoM6oktbjux1sFHUuu10HDcu/0AKu2UIVtLBod8j0uWbV+3By4W69BL4zfUqlMLo7pPk4QDCQ8Tce5EqKSewzuOIyU59bvrHdjmhzev/z9gCPI7J3kdxdH/j944cuUvzFowGXp6uhg+bgiuhl8q9vpEVDIyszKwcacnflJTxfatvnDeZIPDl3b8o/C3OL51vAs9cxWR4fcBfLlIZfEsKwTsDwIAHPnLH8tNXdFTvTtq1KyByf3nAsh/XAeA5JdvJMfBOzeioNlnFhRbyeP3P3pjuakrggMuFNjX9nV7cGDb0XzBbnHq9V2/B6IFK/Frv1/wUwcVzB5mgBfPXkq26WKxDj36d0et2rLQ7D0Lr56/RtqndOz2OSg59qq0U8bODfv/9/mVDh+X7bBbsBI9+ndH/Yb1MLbHjALbLOzYDADeLtug2EqhwGfM9z5Hrp6/gSdxiVBpp4zGzRrhrw37vrvet9734pCWkcbchX/i3INjUFSRQ9+efaG3aC4eJz0s9jaI6Md7lfICZvaL0LXzL8itloXTkYdgItL/R+Hv9zyMfow11p44sO0oNEb8jrj7jzBrqD5ycnIA5P+uefLQGTgvdcPNy7eRm5uL8b1mIu1TGvoN6QV3kReO7wsssA6Q//vpgqnmOHnoDAaM6IeMzxmYM8IQQP7fIKlv32HeaGOotFPKF/4Wp96itg8ARlPMcOlsGPoP7YOYqIeYNfRL2Bx65ipeJr2WfA48T3yBy8FhkmVF/Q7Ju02N4X1xP+IB5ow0kixLfJKEgP1BBT5fAOBW2B38OUQfKu2U0PEXNeiMNcGV89cBALm5udi4yley3q2rdxB1K/q76+X9LAWAuzeiJK+jOPoN7oVDf/vCYYMFNvlswU9qqvDZsR7ZOVnfX5mISk1QSCD6aPTEZM0pGDj6d1x8dAL6ZnO+Gf4CX75jahlPh9kKY8lfGzVlxN1/XDqFU5k2ZIwGToTvwxSdcdDW0sWwcYNxOfyC0GUR0Td8+PgediutoaSkhGvXw7A7eCM2HfUoNPz1sPfB9EE6Bf7Mte0EqJzKgnEzRuLcg2MYPmUQZs6YiYHD1HHhSojQZdF/xDuAy7C7sbfg6OSAq6HXYbBszj++4/ef6tC1neSOoi6/dUT/NiNhaKmdb8zta3cRevqK5KryJnKNcTRsF/6PvTMPq6lr4/CtUImSZJ5nIkVmqQgpoaIkY6ZC6jUTmlQyZh5CiYSMmed5fPnM4RUyT0mJMlXfH2nrqFMJnWjf19V1dc7ea61nrVhr7/Ws5/dUqFKe5ORkFnmt4OWzKKrUrCS1HaUiSoSeDKRcxTIAqKqpMHGIBxNn/CPc8+LpSxwsRzMr0FNqTgJp9hZRll5/6Kpt6DRvIEQSNGqhxYn9Z4Q6jS3aCdFhh3dKPtj2GNCNHgO6ASBfUJ5F3isw6NSa0FXbaG6gi/NXSdXGLRuiX70zDhPsKFSoENGv3tDCsAk9B1kQfvkWB7YfBSAxMZF57kvZdWmDYOvjyCesW7aJ4ZMGEf8+gSo1KtJzkAUAS6avyla5X4VBp9YYdGrN4V3HGTJkCOUrlMN1qpsYESwiksskJiWyMngpPh4zUFNXxX3hRPQ7/t7/h9Lmu7S4jvDBqIsBr19GAynRQm06tkRdowTRUW+Y576UxMTEdHWnpX6juuy9GkqZ8qUBiAi/x/F9p2lr+k2W9OTBsyybEcDm00EUUc54E0uavdYDzTHraSxEeu1Yv5dLZ6/RvqsBfm5L2H4+mMrVKwJQpWYl3sW9R1VNhcIKhYW5F8B7zBzh93dx75nqN47qdaoC8ODuI9YuCcXZzT7Tufnz5898TPhIvxE9KVCggMQak9U6Ev8+gaZ6OvQcZMGzxy9YMTsoy3K/CkUlRQaP7ktvhx4ELdpAq2atMOtuwoSxLmJEsIhILvIq5gWz588gyD8Yy35d2Hs19Jc6fb/n86fPzAr0pHDhQrQ11cNYqztnjvwrkWP+Xdx7vMfOEZQHkpOTWbZ1jqBscHTPSR7de5JlW56LXVApXozChQuhb9wK/9lBxETHCte/fPnCsB5jMOnRXiLSNrv2Sqv/yYOnXP/fTY5F7EReXh4jM33WLd9EQnwCkPKekLoWxL+L53HkU6E9ae8h9/+L5M6Nu+y/sQV5eXnaddbHWKs7F09fpnFLbaJfvaF6napCvWnXl0VeK5jg6yT0sbBCYRZ5raC5vi4J8R9QKqIolLt09mq2yv0qUpWCju8/jZ/bUmb7+uHiOp7e3QcgLyduKYiIyIpjZ48waeJErv3vBkPG9sN/h5+gfpBdcqoU973aTPjlW4SF7GWCrzNAnlSKk6Y8BN+UFOTkCmBsaUTDJvWBn1OKy0zVYefGfVw5f134nKoyAZkrSeREKS6rcc+Kjubt6Gjejj2bDzKw/2AqV6vE1KlTaKHTJsuyIiIiucO793HMXjiD+bMW0bBpfQL3LEqn/PY9t67+R5PWOhmmhRHJ33Tv14Xu/boQGrCNPrZ9qFGruhgR/Acjvq3lQVIdv2dP/IvDBDt8A1xzpd0GaRaGUmU10ChTkkf3n6BRRh1IcTxOGuqJ+8KJQtRs0WLKKBVRxETbijevY2hl1JxGLRoSHfWGN69jsDUaItT5NjZO+P3GpVt4j5nDvduRwqn3VC6cuoxVGzs6dW+PvnGrH7a3dv0aUuv/78ZdGjZtIHxW1yhBN1vTbI5PPeH3xi21mTrcR6hzw8qtwil8gA8JH3n9Mpoy5Uvz4ukrWhg2SVffy2dRvHkdw1Dzb47v6Fdv0OuQEs0X/z6BIhm8vGWnXG+jIdT66sg+degc3fvnPGK8rWkb2pq24eCOYwwaNIiKlSqIjmARkVwgMSmR4M2BeLn5UKSoEu4LJmQ6J/5KpM13qezZfJC3MXH0c7RhqW8AkHIg6NK5a/Rpb8/TR8/xWDhRkN7fs/mgsB6EX75NiZLFAUhKSmL3poOc2H+Gpw+f8TYmjramekI7wUtDef7kJbNXTxOcqj9i7/t38ayYs4ZLZ64S9TKaqBev6d6/Ky+fRZGcnCw4fwHB6Rwd9SbTsSmirCQ4f1PbO7D9SJZz88tnUZQuX0pCbjuVrNYRaetBZuVA+rjnBKUiSgwd25++w60JXBBCiyYt6GrVmSmTXClfUvqhLxERkZ/jzbvX+M7xZvXytVj0NWPPlVCKl1D97e3W0apF4cKFAJCTk0O7WQMibt6TcADPnDSfbramJCcnC/fV0qzBmAFTuXT2KgoKhdlwPOUAY2bPpy+fvWL25IXcvHKb9+8SSPySyOdPn5EvKM+7t+/o3qofX74kMmbaCKSRmb3S6v/vxl3qN6orrFWAkNIgK6S9h/x34y53b0fSrVlv4fqzxy94dP8JjVtq8+LpK8pWLJ1hnQfCjnLu+EVW+QUD8PHDRz59/CyMX0brQFblAFwdp7N/2xEgZdztnGyz1ceMaNOhJW06tOT4/tPMdV2Il7uv6AgWEZEBx84ewcPdjQtnL2Hn3JvlYXMpWkz5l7dz8uA5Th44Q1dbU/SNW7FsRiB3wu8xznukoDZj2deMxMRExgxw5fa1O0zwdRaU4ib4OqOkrMQAkxFsPhVIkaJFCFq0QcIRuXpBCINH9yEpKQlTHWu62BjTvosBIf6beXjvMRNn/CPRVqpS3LrD/j9k77WL4fTpYM9Yb0dKldXAe+wckpKSaGvahsvnr+FgOZqRU4dSRFmJkTYTmLbEBb32LQgN2IapVUdKl0tJ6xK0aANNWutQS7MGoQHb2LVxH7b2PahWuwojrMcx3d8Vg06tuXz+GkPNRzHacxgKigoM6eaMX7CPcDgnLGQvZcqXop52bU4dPMuZw+cFB7Bjz/EULFgQ8z6mHNh+FLvOjgQfXA58U4obNColrcvMSfPpOcgCdY0SBC4IYeOqbYycMoRH959gptuLvVdDSU5Oljru2XEAp9LJ0ohOlkbsCt1Pv952VK9VlWlenjSu1/yH/l2JiIj8OtI6fhvo1suW4zct+SktTGbpIvNaWpjMUovlZlqY1GCLDSu3YmtjS606NXFzdUevuZgS4E9CfEvLQ9x5GM4U1ymcOX4e+/EDcs3xm8qb7za930TFoFzs20ZDwLxgatarTmuj5oIDGEBeXp61B5fx6vlrHCxHcf7E/6hRtyry8vKMn+4k3NelSS8ALp27xtTh3vgF+9CwiSaREY8Y3mOMcF/1OlXpNcQSz1GzGODUiwqVy/2QvZnVr1xMmehX0Tkcn2+yddGv3ghjo1y0CEPG9GOEi2T0bVGVokCKLJ2tffrNJOWiSsjJybF672IKFvy28VTo6+ZVbPRbSpYq8cPlFBQVcHa1FzbYXOyn5ai/32Nkpo+RmT77tx9h4MCBVKpcEW8vb7Tr/broAhEREUhKTmLtpgC83HxQUlZi4sx/MDTRy7rgL0TafAfwPi4e7zlzWLVzAS+eSp6Gr9+oDmsPLuPaxZuM7uuC8deoMO2m9YX1IPzybeHUuv/sII7tPYXHwolUrVWZtUtCuXMjQqhPr0NLFJUUWOobgEGnVhQqVOiH7B3dbwrV61Rl7lpvylYojb3lKCBlHo1/F8/Hj59QUPixXIYJ8R9IiE8QJPWiX0WjXEw5y7n53u1IqtWukmGdWa0jsdGxUtaDzMtJG/efQamIEg7j7eg7vCerF4TQtFEzevQ2Z+yoCaIjWETkF/Lm3Wv8Fs9m5aJAutgYs/fqplxx/Artf/ecnTK3fnMuXLtwgxP7z7DnSmi6zYupfmOJi33HtFGzCJy/DsfJQ6Q+n3769JmeBgNxXzCBCb7OqKqpoFPy24aCUhElJvg6M7rfFA7tPC5sHmXX3szqT3kvyPzQT3bHJ/U9RLloEXSaa7F6zyKJ64pf14zM1oLa9WswzmckTVp/ix4rIJeSsUnaOpBVOYDeDlZY2aWoZKz335LNHmZOqiP42L7T+Ll9cwT36WGHXAH5rCsQERHJEWcvncZl0kTB8Tt/4/Tf4vhNS3aU4lb5BVOjblVuX7sD5E2luMyUhxZ5rcDZzQHrgeYA1KxXjbcx3wIYcqIUl5U6Q/SraIaO7UfjltoSKhM3Lt3MVEkiJ0pxNkMspY57TjDt0QHTHh3YsWEvttZ9qFO/NlOmTBYdwSIiuUhax6+mTh1W7pgvOAF/FalpVho2rU8Xm04c2H6EfsYObDwegJycHKEB22jTsSUaZUoKaWFGew6nZdumWLToi1nPjuh1aMHsKYtIiE/AzNpYogykpIVRKV4iAimbAAAgAElEQVSMWpo1GGkzgU8fP9HbwYpLZ69iZzqCbeeChbQw/7gPE9LCjJw6RGpamIzs/fjho9RDRvDt4E233qYc3XOSfsbDWH9kBScPniP2zVshsCvtgZ3MDh2lrTOjwzypaWFGfl2v3Eb6Cg5taYd51NSLC2lhvJZOBmDz6jCq1KiETnOtTA8enTx4jup1qggO4OsXw3kc+TRLB3Aq1gPNsR5ozrrlm7CxtqF2vVr4ePvQVOfXpqQT+T2IOYDzAHcehtN/mC1Ghh3RalaP43d3Zfv0+a9kW/BuYt+8BWDjqq2Uq1RGcL4mxH9glV8wLrNHS5Q5tu808z2XUaKkGrXr16BKzco8up8i9aZSvBhauprCj4pqMQCePXpO1VqVadamMYpKioSF7JGoU01dlS42nXAYPwAHy9HpIoSzsjez+juat2Xz6h1ChFdYyB4cbcZna3yCFq0XIhwC5gXT7qtERjszfQ6GHSUxMQmV4io8fvAM34nzkZOT49H9Jzx58BRNnTrp6lMproJuK23CQvaiUlyFoipFWei1gptX/gPg9OHz1G1Y64fLycvL0SDNuJetkHGUQU7p0NWQXf/bQNc+nbC17YO5jRmXwy/80jZERPIjSclJbNwRTMPG9Zkz048JM5zZfj44152/IH2+A1g5dw1dbDql23RZMSeIQzuOU6KkGk31dEhOThYkPMtWLJNmPaiH3NeN6acPn9PCsAk161UnKSmZvZsPStRZqVp5xno5UrJ0CTycZ/6wvU8fPqOjeVvKVijNs8cv+PfE/4Cv82hrHQLmpURLJcQnYNVmANcuhmc5Nqkn6FPLhfhvoV3nNlnOzTs37JMawZ3ZOvIh4QP/O3OVOlrp14PMymU27r8C5aJFGDZxIAfCt1JIWZ4mOk1xnjSMp1GPflkbIiL5kTfvXuM6YxINNBvw8vVzdlwMYfx051x1/gJcvRDO/85cAeBO+F3On/gfrY2+Rf/6jJuL24IJEhsvzx6/YEz/KSgoKlC+Ull0mmvx8KsEtLTn07jYOJKTkulo3g5VNRWO7z8tkTtdvqA8zQ2asCh0JhMGuREZ8fCH7M2s/haGTbh76z4XTqWc6o+MeEh7TQs+fvyU5fhIew9ppq/L4/tPuPffA1SKq1BATo7Jw7xJeJ/A58+f2bf1MG2kpHHoaN6WLUE7KapSFJXiKuzfdoQd61NyKEt7L8iqHKQ4MlLHvUbdqhnWkVP0O7Zk65k1TJ49mnlzFtCwcQPWh60hKTnpl7YjIpLfOXvpNKYWHTFu1wmt5pqcfrgPZ1f73+78BemKB6k8efiMgHnBTE6zV1S0mDJlK5bBRNuKlpU6otmoLo1aNAQQlOJSf75XihthPQ4TbSvG9J/C50/f1Ax+VikuVXlogOkIOjawJGjReqH+FKW4+kK5etp1aG6QXsUt4/YklYgibt4HUtQZXB2nY6Zrg5muDXNdF0uMW4oiRHqFo7RKEqllU5UkIHtKcanlDoYdE8plNu45xczamH3XNtOuix42PXrTzaYzF8PP/nS9IiIi0kn4EI+77xQqV6nMgQMHWLljPmv2L/3lzt9UUtOsGJnp47N8Km9j4jhz5F+Je6SlhRnlMRxDEz0at2yY7bQwSzbPwdBED2c3B25fj8hxWpjv7U09ZDR+ujMGnVpjP24Ax/aeAlIO3lz/303mrfPByEyfaYtd6GJjnC4tTM9BFunGOfXQUYeuhizZNIuAecHEv08QDvPMW+dDu876TPd35fXLaC6evgwgkRam5yALQcko9TDPirB5GFu0Y/DovhhbtGXdsk0AEmlheg6ykDhYmnrwyMrOnK69THCdN55FXiuyHPcfodeQ7px6sJd2XfWw6GaJqXlHzl86k3VBEZkiRgDLkDsPw/Ga7sXhvccYMqYf7ouz54j8XRh1McBa3w45eXniYuNYtuVbTqoPCR8Y7jIIjdLqEmW0dOuxbEYAG1dtI/FLIlpNNDHpbkRC/Aep7bQ11WPDyq20q9uN5KQkqQ/Wds69uXTuGpOHeTNzVfoE9NLszaz+Zm0a09vBCmOtHqhrqPHxw0eWpulnZmjq1MGonjmJXxIpU6G00F6rds3oYdcNY60eaJRRJ/rVGzwXT+Ljx08Y1TMnKTGRxhqGQMpEnhD/AYuWfdlyOojZq6cx3Gos65aFEv8+AU2dOtTTrs2YAVN5/eoNJj06ZGiLtHK5ibFFO4wt2rF70wF62dhSu14tXKe4ihHBIiI/SFJyEpt2huDp6oWcvBz/eDjQrrNs5VSkzXcARYoWwXHy4HRlmhs0YYT1OGZPWcTrl9H0H2lDhcrluPrvDant2DnbMsBkBAe2H+Xd2/fUb1w3w/tmBXrStUkvNgftEHJ/ZcfecT5ODLcaKzga0jqtZ6x0x95yFFuCdvDmdSyWfc1o0LhelhLQaurFefH0FSbaVkS9jKaTZTvhRUfa3OznvpQNK7dStJgyc6cuBlI2b04cOMP8EF/adzHIcB0BMNG2on1XAypVq5DOFmnrT26iXLQII1wG08/RhlV+wTTW1sW6b3cmjZtMqeJlc9UWEZE/mbcJMcxeMIMVCwPobN2RHRdDhPzlsiD1tP7bmDieP36B67zxQtQUQMt2zWjTQdKRWbZCaYqqKNOqUkdU1VQoVLhQls/Z6hol6OdoQ9vaXVBTL06NetUy7Ld20wb84z6Moeb/sPXs2nQ54TOzV1r9xVSKMmeNNyNtJqBWsjgvn77CfeHEbClDSHsPUVVTYdbqaYywGkdxdVVePH1Fn2FWqKqpYNN2EHdv3aen/kChnrexcbSq3IkT93czbOJAxg10Q6+qCcVUiyInJ8ei0JlsXLWVFXPWsHybX4a2SCuXm+gbt0LfuBXH9p5ihttMvNx8mOw2iR5mvZArIJ45FxHJKZfCLzB5sgunjp5lgJMtM1a75YrTNy1ZKcW5jvBh5NShlNCQnLvzmlJcZspDP6cIkbESUWbqDB8SPhAb/ZYy5Uulqy8rJYmcKMUlxH+QOu6/gi42nehi04ltwbvo2d0WzYZ1xYhgEZFfTMKHBOYvm80c3/lUr1OFZVvnSswvv4u/KS1MZuki80pamJymi4TcTQtja98DW/serFm8gW5dzNHRbYjrVDcxIjiPIjqAZcD9Z3dw93Tj0O6jDB7TF/fFu397m5eijqX7zmGCncTnGnWr4r5gAq+eR6FRpqQQKVSipBqRyVck7t108ltC+HWH/HkbG4e8vLygq69URCldm1djTgq/r96zmOioNygqKUps4Jh0b49J9/bC5wUhvlL7JM1eRSVFqfWn9nuAUy/evI6ldDkNodz+65KSaN9vsphadWS4y2DexsSlc4Q7jLfDzsmWmOhYSpXVoECBAnz88JEvn79w98v/JO4Nv3wL594pG/QVq5Yn7N91RL2MRqmIojB+swI80vX3WMRO4Xdp5bLTj19N6t9s58Z92PTsRR3N2kzz9EKzxu85fSYi8reQTDKhO9bh6epFAbkCOLs7SJW2/FX0G2GT4fe3P0ie4JQ233ksnAhMFD63NmpOa6OUF/v6jepy9M4Ool5Go6pWTJBr/n5er6ddh92XNwJQpUYljvwXxvMnL1AvVUJC4jmlrRSKqRTl8O0wqf2SZq+RmT4Gj/YR9eI1pctJ5t+tWLU8u/63gVfPo1Asokixr7LJJUqqSV2/Up3DU+eOFU7Np6pbpNaZ0dz8MeEDoz2H4zh5iES9Q7o5C5EHGa0jQLp+l61Qmn+fHxY+SyuX2bj/DoqpFMVp6lDsnG1ZOWcNjRo2xnZgT0aPHCs6gkVEMiEuIZaF/n4s8fOno3lbwi6ESJX6/VUs2TQ73Xc6zbUkniGViigSuHsRUS+jKaaiLBHp+/2zZtpNGLf5E5g4cxTv495LOHIzez4dM20EDhPs+JDwAXUNyb6nnY9TNxoyIjN7M6tfv2NLTtzfzctnUZTQUBOcv2nXIEg5mJoWae8hqXUeu7uTqBevKaGhJqxtH+I/sPF4QLrNOq3irUlKSkJRSZH566YT9/Ydnz99Fsavas3KWNmZS5TxXeEm/C6tXHb68atJdQQf3XOS6W6+THPzZrLbJKy62FKAAllXICIiAqQ4fj2neXBk33GZOX5T2Ra8G/vxdqiqqUgoHlz99wbnj1+kaq3KWA80JzHxW97IY/tOc+X8NUZOGUqJkmqCUlyNulUFpbhUMlKKA6QqxUW9eI2D5Wg2nQzMMH+tNHvTKg99+vSZvZsPUr1OFSBFSWHl3DU0N9BFTk4Ot5HTqVKzMv0dM353SkvQovW06diSAgUKSCgRpaozGJroIScnx6bA7Xz69JleQ7qzZ/NBWrRtkqE6TzN9XVzsp3HvvwdoN21A3Nt3uNhPw3PRJAoXLsTpw+cx6JQ+AjqtGlF/RxuSkpKYPt4PY4t2VKlZSeq4/0q62ZrSzdaULWt2Ym1hQ30dTaZ5TqN+De1f3paISH4h4UMCC5bNZY6vH5WqV2DRxpm54vhN5W9JC5N1usi8kRYm63SReSstTJ9h1vQZZk3gghC6mnWjURNt0RGcBxGP4+Yi95/dYegoO/RbGVKlTkVORu6RuhkvK+Tk5ChdrtQPy0SqqBaTcEJmhxIl1dI5Z3+UzOzNrH5FJUXKVij9w/1UUCiczvkrXFNUkHQwFChAhSrpT6UWKlwo3UnPkqVK/PD4/Uy530Fnq47svbqJdl31sDS3pOcAS65HXJa1WSIieY5kktl+YBNNWjbC080LJzd7dlwI+e3O3x8ls/kuM0p+58jNDmXKl/7hMt8jzd6CBQtSpnxpCedvWjTKlBScvz+CimoxqRsn38/NKmoqqBRPf696qRIS61S6dSSb5LTc76CYSlGc3RzYc2UjH768R0erEeM9RvEy5pmsTRMRyVPEJcTiM98dTU1NIu5HsPXsWibPHvPbnb8/SslSJTLcYM8MBYXCPxy9rFy0SDrnbE6QZm9m9cvLy1O2Qukfzgmf2XuIvLw8pcuVkljbNMpqoKCYvo1ylcpIRBwUUymao+jvnJb7HRh0as22c8GM8RrBdC9fdFvosP3AJpJJlrVpIiJ5mkvhF7Do1YW2ekbCnpHT1KEyc/7CN8UDEx1rFkzzZ+4aL+Fa7Js4vJZOSfcMqqVbj7NHL9C6aidaVOxAocIFMelulGk7bU31KFS4EO3qdqNt7S7EvI7N8D47595UqVmJycO8f8heO2dbtq7ZhZmuDR3rW6JRtqRQxn5cf4ooK9Gmmin6NTpz/85DLPpmLC/6PalKRAY1zXjy8DmjPIYDKeoM8gXl0atqgrFWd1b5BdPCsAmnDp1j7ABXju09jVbx1mgVb43vxPmsXbIRn3FzJZQkOjfuSdvaXalRtyqqairZUorbErSDDvUtaFPdlAd3H+W6UhyARZ/OHLq1nTadWtCts7m4NyQikgMSPiQwY543VatVZvPmzfgFexN6IjBXnb/w96SFySxdZF5KC5PTdJEg27Qw/R1tOPv4ALoG2piZdhWlofMYYgRwLnD/2V2mz/Ri99Z92DnZcuLe74/4/VE6mrdFTT13c4v9DLlt75Ax/SiV5gUhOygoFJaI2k2lZr3qBO1b+qtMy3OY9TTGrKcx29ftxqJrdxo1bchklyniqU8REZLZfTSMKRNd+fjxI06u9nToaihro9KRk/lOluSmvUWUlRjlMeyHyzmMt8vwe5/lU3/WpDyLSnEVRnkMZ9CoPiyfFYR2Ax36DO7F+FETKVFUQ9bmiYjIjNSI38Vzl9O+iwGbT62mVNm89X+ijlZNCv+gM1SW5La9OX0PWb51bobf77266WdNyrMYdGqNQafWHNl9AlcXdzymTmOqx2S6tLcUI4JFRNJwI+IqU6ZOFiJ+Ty7bkytO359RivtebaZgwYKC+pmaevE8pxSXmfKQgqICC9bP4G3MWz5+/CxxqDSnSnHS1Bke3n1MM/3GBB9cLlHPKr+1REY8AqQrSeRUKU5RSTHTcf9dWPY1w7KvGZsCt9PFpBtNWzUW94ZERLIgbcRvxWrlmbPGS0JuObf5W9LCZJYuMq+lhZGWWuxPSAtj52RLryGWBC8NpbNJF5o0byRGBOcBCiSnCrSL/HIeRz1gmrc7u7bso/9IG3o7WKGopChrs0REcpWta3eyyHsljZtpiw/7IvmUZPYc3YGnuxexMW9xdh1Kh25tZW2UiEiuEhMdy/JZqwlbtwe7YX1xHjYGtaI/HmEuIvKnEv/pHfOWzsZv+iJMuhsxbOLAPOf4FRH53RzZfQI/t6XIy8vj6eNOJ4MuoiNYJF9zI+Iq07w92b/jEP0cbRj4T2+ZRvt+z9QRPlSvUyXPKddJI7ft7VDfggXrZ1D7q5Rpdjh77ALr/bfgt1Yygnnjqq08efCMf9x//LDpn8LGVVtZ7LOKZq118XD3oFYlzawLiYjkEz5//sTcxbOY4+tH+Srl+MfdAb32snWa7d50gB3r97Jk0+wM06xkxcePn9KlhcmK9+/iM0zb8qvslZYuEiAxMTFdWpjMSF1z+gyzzjAtTGqd3x/mMW/em0mzRmeYFuZoxA5hvDJK+5gdMkoLIws+JHwgaNEGls8MpGlLXdERLENECejfwOOoBzhNcqBl01aULF+Cgze3MmhUX9H5K5IvMe/dmYPhW2lq2EiQ//nvYbiszRIRyQWSOXx2Hy0NmzPGeRz9R/Zk96UNovNXJF9SvIQq47xHsvN/63kV/YIGmg1wnTGJN+9ey9o0EZHfSvynd8xZPp1aNWtx679b7LwYgtv8CaLzVyRfYmiix/bzwYyYPIiJY11oZdic3Ue3i9LQIvmOOw9vYWPXA/2WBpStUorj93bJXOo5Izqat811udGfIbftzYkSUXN93XTOXwArO/O/2vkLKX08emcHOq0aYGxkSv9hvfjv4Q1ZmyUiIlM+f/7E/GVzqFqjCutD1jNjlTtbTgfJ3Pn7PX9LWpjM0kXmtbQwOU37mFfSwigqKTJkTD9O3N+NVot6mHQ0FaWhZYQYAfwLeRz1gJlzprMlJIw+w6zpO9wapSI/l+NWRORvY1Pgdpb4BtDKoDkuEydTq1I9WZskIvKLSebw2f1M8/Di+ZMXOLnaY2zRTtZGiYjkKaKj3rBsRiA71u9l0IgBjHYch4pScVmbJSLyy4j/9I6lgQuZ4zUfQ1M9RrgMkpBLExERgcO7juPnthTlospM83HHsHlHMSJY5K/mzsNbeE+fxq4te+kz3Bo757wV8SsikpusW76JZTMCMeigh8sEF2qKe0Mi+YjPnz+xZNVCZnjPomRpdZzd7DE00ZO1WRLc+y+Se7cfYGSmL2tTskVu23vq0DnU1FWpp10nV9r700mITyBwfgj+s4No3rqJGBGci4gO4F/A85gn+MyYxubg7fQeZkV/RxvR8SsikgUbV21lqW8Ardu2FB3BIn8JyZy6dJQpLq48e/wcJ1d7OlkaydooEZE8TXTUG5ZMX8W+rYexdxrE8MFOoiNY5I/m45cEFq2axxyv+Rh0aoXjlCGi41dEJAsO7TyGn9tS1DVKMMXVRXQEi/x1iI5fERHpBC8NZdnMQAw7tsF1ihtVy9aUtUkiIr+NtI7fEhpqOLvZ067zn+FgFRH5Fbx/F0/AvGBWzFlDyzbNREdwLiA6gH+C5zFPmDN/JusDN2Ez2JJ+jjY5Cs0XEcnPrF+xhWUzAtFr1xLXqe5UEx/2Rf44Uhy/0zy9iYx4wMipQzHp3l7WRomI/FFEvYxmyfRV7N92GAfnwaIjWOSP4+OXBFauW85Mzzm0MGzCiMmDKV+prKzNEhH5oxAdwSJ/G/ef3cXD01V0/IqIZIM1izewcu5aOpi1Y8LYiaIjWOSvIq3jt7i6Ks5uDrTvYiBrs0REZEbc23cEzAtm5dy1tNJvjttUD5roNJO1WX8logM4B7yIecrs+TMICQil5yALBjjZio5fEZGfZN3yTayYHUQ7E0MmjJskOoJF/gguhJ9mymRXIiMe4DhlCKY9OsjaJBGRP5qol9Es9l7B/u1HGPbPEEbaj0K5cDFZmyUiIpW0jt/mBro4ThkiOn5FRH6SgzuOMc89xRHs6e1BKx0D0REs8kdx/9ldfGd6sXX9Tno79BAdvyIiP8DqhSGsnLsW467tRUewyB9PYmIii1bMY4b3LFTVVHB2s6dDt7ayNktEJM8Q9/YdK+esYdW8YFobtMRtqrvoCP7FyLu5ubnJ2og/hRcxT/GcMRXHoc7Ua1SLWYGe6LVvQeHChbIu/AeTEJ/AjInzObH/jMRPszaNKViwIJ8/f2b9ii1sWLmVe7cjqd2gBoUzSJi+f9th3ryOodzXTbHzJ/5H+JXbVK9dBYDb1yPwn7WawzuPo1xMWdg827/tMG9j33F453E2rNzK25i31NWqJdjWRbcXDZvWp3Q5DaGt8Cu36Wk4CCu7rhQqVIiY6FgCF4Swde0unj9+gaZOHSE5+5kj5wlatF7o16Wz12iur8uta3c4tu809RrWTtcX/9lBVKpWXnD8bwrcTsFCBVEvlZKo/sjuEwTMW8eFU5epVK0CqmoqAGwL3sVMlwV07WUiUd+Qbs58SPhAHa2azJw0H+1mDYQxvHT2KmeO/EvdhrVy9gf8Q2jQuB79HG14FPkY56FjuHHvCpoNNVErpi5r00RE0nEh/AzDnRzwX7yS3sOs8Fg4iVqa1WVt1m9n/7bDrF+xRWIt+PjhU5bzeFoS4hNYOM2fFoZNhO9mT1lE45YNs1xT/GcHUapsSVbOXcPeLYcoplpUWFOyml81dVLyspw4cIbVC0I4degcpcppUPLrvA3gO3Eex/aeEvpWTKUoZSuUTrd+/Yq+jO43maePnqPTrIFQ9v27eEy0rWjapjHx7xMI8d+Mbisd4fq24F28fxdPuYplsv9H+8MooqyEvnErOlt3ZG/YAf4ZPgaUP9OwgTaF5NM/W4iIyIrPSR9ZtmYRvaxs+cJHpvu7YtnXDBXVv//Agv/sIPZuOSixFpQpXyrL5+C0fP+c/eLpSzas2EKjFg0BeP0qmlV+awlbv5fYN2+p06AmBQoU4Na1O5w+fJ6Xz6NYPjOQu7ciqaNVS3gfy2puLVlanc+fP7N1zU5C/LcQfvkWNepVE9L3PHn4jAWeyyX6pqlThwIFSDffp5LTd5xb1+7Qp4M9XWyMUVBUEOpbs3gDK+aswaR7e4KXhlKwoDwaZUoCKYdkls9aTXMD3Zz/Af8AqtWuQq8h3VFWUWbqGE/C9mylSu2KVCpbBURHsEge5nHUA8ZNHsWYkePR1WuIX7BPyp5RBvsjIiIiGaPdtAEDnGyJuH0PpyGjufXgOjqNG6JSRFQHEvlzSExMZOXaZfSwsuLypUuMn+6E67zxVK9TVdamiYjkKRQUCtPcoAm29t2JvPeAUcPGcfLcMepr1aeMxt+795WbyMnagD+B1+9eMt7jHxo31OVT8kf2XA1l5JShFFMpKmvTcoWE+A+sW7aJ6nWqCj9rFm/k44ePAIy0mcDJA2cxNNHjyYOn9DQYyKdPn9PVc/LgOW5cuiV8vn4xnDOHzwNw5d/r9G4/lKq1KtOoRUNG95vMrtD9QrnRfV2IehmNvnEr1i4JZcak+YJtN6/+h5/bEom25rkv5e6t+yTEfyAhPgFTHWtio2Np38WA4/tPM2PifOHec8cu8uDuY6rXqUrJ0uqsXbwBgHu3IzkYdjTDMQkN2EZ0VIzwef+2I0TeeQiknFb0nTCPFoZN0ChTEosWfYiMSLn2vzNXObTzONcuhgtlb179j/3bj3Dt4k3k5eW5efUOB7YfEa4vmxkojHV+wNa+B0f+C6NSzXK01WvHkH8GcO/ZHVmbJSICwNWIi5j36kxv676069qGvVc30dmqo6zNyjVOHjzHy2dRwlrw/PGLbM3jaUmI/0DQog0S361eEJKtNSU0YBuOPcdRsWp5dJprMcJ6HEf3nASynl8hZX52G+lLE71G1NKsTv9Ow3jx9CUAycnJLJ+5Wujb5XPXCL98W+h32vXrV/Tl3LGLuDv5SszvG1dtI+LmPe7djqR0+VIs9Q3gycNnQMoLpNfo2aiVzB8bH6XKauA2fwJbz67hytUr1KpZiznLpxP/6Z2sTRPJ53xO+siqjUvRbKDJkSNHWLN/KTNWulOxanlZm5ZrhAZso6hKUWG+PHXofLaeg9Py/XP265fRbF69A0g5BW7evA+fPn5C37gVmwLDcBs5XSg3e8oiQgO2Y2jahru37tPP2IGkpCQg67kVUubmPZsP0tZUj08fP2FnOkK499G9xxzZfVLo25agHcS8js1wvk8lp+84925HcvPqf2xYuU0o++nTZ6YM9+bcsYvCWKxeuF64vnPDPu7/9yCzP89fRfsuBuy4EEL3AV0YNngExubtOXXpCCCKmInkLR5HPcBpkgNNdZpRtEQRDt/ezsgpQ8WoXxGRn2DAyF6cuLebMpU1aN28DU6THHgclX/WQJE/k8TERPyDllCjTnVmzZjNOB9H9l7dhLFFO1mbJiKSp1EprsIoj+GcjNxNNc1KtGnZBgubrlwJvyxr0/54CsragLxMTHw0cxbOIGDJGiz6dGbPlY2oFE9/gj0/UFihMD0HWQifvcfMASD88i2unL/OkTs7UFAojJGZPtb6duzbeggza+Ns17/IawVOU4cKbaiXKsGU4d6CnKqmTh2cpg4FQLtpffRrdGaEy2AA1NSL8+zxSyIjHlKlRiUe3X/CvdsPKF5CFQClIkqEngwUIqZU1VSYOMSDiTP+ASD+fQJN9XToOciCZ49fsGJ2kGDXm9ex3L4eQWGFQpSvXC7LaO/ExET83JYSeiKAGnWrARD9Khr/2UF4LZkMQAvDJgTMC2ZOkBcAK+eupXFLbaEOy35mbAnaiXnvzsS9fcfpw+eZsco922P5t9BnmDV9hlmzemEIhq3b0rGLEaVLlqF/z0FUr/73R1qK5C2uRlzE29ubS+evMMJlMOAy6DgAACAASURBVH7rvGVtksxo1EJLmKvj38XzOPIpkPU8nh2ys6b0GNCNHgO6ASBfUJ5F3isw6NQayHp+tR5ojllPY0qUVANgx/q9XDp7DWOLdiTEf0CpiKJg/6WzVyVse/rwObevR6BcrAjlK5WlQIHMI5Cy6kuRokq0MGzC9nW7sbIzJykpibWLN6DdtD6QcgrS1KoDOzfsY+jY/pw6dI6K1SpQrVaVbI/n30Cpshp4LJzIsIl2LPRaQa2atRjlMpLhA51QkFeStXki+Qj/Fcv5opDA3OkL0NKth/92P6rUqCRrs2SGsUU7atevAcDhnceB7D0HZ4fQVdvQ0tVklMdwAJrqNUKvmgnDJw0C4POnz8wK9KRw4UK0NdXDWKs7Z478S6t2zbKcWwE8F7ugUrwYhQsXQt+4Ff6zg4iJjqV4CVXi3ydQpUZFYS1YMn2VUO7jh4/cvh6BvLwcZSqUzpZjJ6u1sUlrHUKWb8LO2RZ5eXnCQvbQuKU2cbFxAJj3NsVYqweei10oXLgQYSF7cHazz/ZY/i2072JA+y4GHAg7iv2g4ZSvVI5pXh7o1mspa9NE8jnPY57gM2MaoWu20mtodw6Eb803Tt9b1+6weXWYxHdlypdi4D99gBQlh5Dlm3n+5CWNWzakm61phs/P/rOD6GZrIigdbArcjlYTTWpppqwxR3af4MjukxRTLUrPQRbCgav92w6jUVaD8Eu3CL9yG91W2pj37izY9k/vSWw4tlJiD2/N4g2cP/E/FoT4AnD31n02B+0gLvYd7Tq3Ed4pANav2MLdW/eFz5o6dehma8qta3e4cekWln3NfllftgXvYsf6vazcsUCiviHdnGnf1QCLvmbMclnAcJfBwr+vS2evcv/OQyz6dM7kr/R3YOdkS68hlgQvDaVVs9Z0s+7M2FETqFCysqxNExERSExMZFXwcrw9fSlUuCCjpw37oX1xERGRFFSKqzBm2ggGjerDspmB6LXQw8ikLa5T3GlYTzvrCkTSIUYAS8HPzw+HoQ4snulP2QqlaW7QJN86fzPj9vUItJpoopBG0qhpm8b8d/1uhve7Ok7H1mgItkZD8PhnpkQ9uq2/yVzqttbhQcQjvnz5AkADXU3hWqmyGmiUKcmj+0+E7/oMs2L1ghAAAuavo+9wa4mXixuXbjHCehwm2laM6T+Fz2kilOPfJ1BESg7ns0f/xcXeE2fbSbSqbMyFU5eEMr2/9sPWaAj7v0bsvnwWRXJysrDpBdBMX5f/rkcIn9t3NeR/Z67y6nkUUS+jOXfsAibdjYTrHboacuX8dd68jmHf1sPoG7fKF3KC0mimr4umTh3WrQhld9ge4uLiZG2SSD7DyMiIqRPd2RCwhcYttWncSnzgyIis5vG0vHkdI8yftkZDePt1ozs7a0oD3XrC741bahNx89vGTFbz6/t38fjPDqKnwUCM6plz5d8bwnqQ2VoAELRoPS72ngwwGUGnhj2Ijnrz033pN8KGwPkpa9fBHceoo1WLsmnknS37mhEWsgeAsJC9WPZLv9GUXyhTvjQtDJtQpGgRFsxYQrOmYk4Ykdxl6dKlzPGaz4eEDzQ30M3Xzl9pZOc5OC17Nh9MM38OFaJ2v19PVNVUqF2/BnfC7wFISD7Lycmh3awBETfvCfdnNbe+fPYK1xE+dGtmS8cG3Un8kpittSD+fQIu9p6MG+iGXlUTVi8MEa7l9B2nZGl1GuhqCtHQAfOC6T/SRri/dLlSNGhcl2N7T/E48gnPHj2ntVHzDO3LDzRqoUXLtk05uvckU8a7Y2dnJ2uTRPIpz2OeMM7DmSY6TZFXlONA+FYcJw/JN85fSFExOHv0gqCYUERZKVtKDt+TU3W1zJTisqOwcO1iOJat+lG+clnadGyJ99g5HN51XLh/29pdFCwoT/U6VXkbE8ehHceEukWluNxHUUmRgf/0Yf/1zRRTV6ZFk5Y4TXLgecyTrAuLiPxG0kb8+vrMZJSHAwdubMkXzl//2UF4jZkt8fPfjZTn/s+fPxO8LBQXh2n4zw7iXdz7DOu4de0Om4N2CJ9fPH3JyrlrhM+vX0Wz0MufycO82Lp2J8nJyUK5sJA9nDhwBhd7T5bPWs37d/FASqquTg17SMypkJIusl3dbiTEJwAQEx3L0hkBuDhMI3hpKImJicK9Tx4+S9e316+iSYhPYK7r4gz7sn/bYcFvAClpYQ6kWS9uX4/AZ9xc3J18+ffkt/tuXbtDp4Y9eBvzVqK+NYs34GgzHoDgpaGEX/6mOBT1Mho/96UZ2vG3ULyEKuN9nDh2dyelK6nTunlrMSI4h4gO4EworV6WB5EP6WZmiaP1eGzaDpL4DyoCysWUiX0jOUHFRMeiXCzjjZPeDlaMn+7E+OlO9BrSXWo9cbFxFCxUkIIFU4LU33zdaE/lTVSMRBvdbE04sP0ozx6/YO/mg1j26yJcu3TuGlOHe9NnuDVbzgSxKHSWRF2x0bESOSDT0snSiE0nV7P9fDDjfUay2CclCkBBUUHox/jpTjRonOKQUC6qRPy7eAmHR8p4fHsRlJeXw3qgOcFLQ1m7eANWdt0oWOhbML6CogIduhmye9MBdoTsoXuavuQn7oTfZbjVWLo16031irV4EPmAQgUU+fDhg6xNE8mHONo7cefOHeQ/F0a/emcmDfUUpHlFUshqHk+LvLy8xBwqrQ5Iv6a8SbOpEv3qjcS1rObX0f2m8OnjZ+au9eZg+FaJHIqZrQUAE3yd2XRyNQdubKF+o7psCgz76b5UrVUZjTLqnD36L6vmrqX/yF4S9zdq0ZD4dwmEX7nNsT0nMbPOP3Ljadm96QDGWt3xGePHP06jOLD3EDGv32ZdUETkF5L4JYkN60KZMX0mK2YF06a6KRtWbpW1WXmK7DwHp0W7aX2J+bPQV6duxvPnW2H+/P69IGUt+NZGZnPrp0+f6WkwkKZtGrF67xIO3NgiUTY2+q3UtUBNvTibTq5my+kgwv5dx8xJC4RNqJy+4wD0d7QhYN46zh79l+IlVIVIsVQsvh4G2rF+H91sTZCTy3+v8DHRsfhO8KNNNVOeRrzi9OnT+HrN5OLFi7I2TSSf8eLFC3rZ9aB21brcunmbvVc34TQ1/0o9V6hSjp6DLOg5yIKO5m2F79MqObTvYsDi0FlsXbuLl89eZbvuVFWJhRtm0MnSiP6ONtgMscQ/jWJbqlJch66GLNk0i4B5wcS/T9nYT1VYSN3QT1VYKF4iJbCjfqO67L0aiu3QHrTvYoB5784c33daqDv+fQKmVh3pOcgiXd71VKW4+3ceZJj+LCd9SVUySiUjpbiwkL0AglKcqVX2lZb+FhSVFBk8ui8Hbmzh2fPn1K5al6HOg4iJicm6sIjILyQpKUlw/E738sXZbSiHbm6ji00nWZuWa2SWFia76SJ/R1qYX5EuUkwLk3coUVKNCb7OHL+3C40KarRq1kp0BP8g+e/t8QdRVlZm0jgXHkQ+pLNxV+zNR9Gr3eB00pD5leYGuty+FsGlc9cAeProObtD99Ouc5sM769Zrxpauppo6WpSo+63xPcduhmycs4aIX/XshmBdOhmKFzfFrxb2DzZuGor5SqVoULlcsJ1pSJKmPRoj53pCEx6tKeI8jdZyGePnlO1VmWatWmMopKiEE0F8CHhA/87c5U6WrWy7OvzJy9RLppSr7y8HA2+9kNLV5OyFUoDKTIFjVpqEzh/HZBy4mmVX7BEXwB6DrZgU2AYoQHb6TW0O99j0deMtYs3EnHzPq3b569T/nfC7zLCehxmur2oWr4G9+/dZ8HcRairq6OoKDqARWRHjRo1WBOwjps3w5H7VAj96p1xsffk+ZMXsjYtT5DVPJ4WleLFhPlTS1dTUDnIzpoStGi9sOEeMC843XqT2fz69OEzOpq3pWyF0jx7/IJ/T/xPuHb68HnqNsx6Lfj48RPRUTEof40Q+5m+APRztMFtpC/v4t7TJE2UWCrmfUwZZ+dKcwPdfKdEsn/bYUy0rfAePZeRI5y5e+ceDkOGZXioQEQkN5CTk6OnlQ3h127i6zODVXPWYVirC1vW7JS1aXmC7D4Hp1K2Ypk082c9wbHZoZshoau2Cc/+h3cdJ/5dPPUb1QXg6oVw/nfmCpDy3Hj+xP9obSSpCiBtbo2LjSM5KZmO5u1QVVPh+P7TvHn9bdM4u2vB8ycvUSqiKCgO5fQdB0CnuRbx7xNwG+nLACfbdG11NG/L2aMX2LQ6TOKQa34gJjqWGZPm07pKJx7dfsHx4yfYsXUXjXQaydo0kXxKQkICJw+eY6SzI8f3nsax53iuXrgha7PyHFkpOaTlZ9TVMlOKy0phISkpid2bDjLAdAQdG1gStGh9BkpxGacbEZXiZMv1/93Esed4doceYKjDUPZs2S86gEVyjeTkZNZsDKRug9p4efgwYvIgDt8Oo5utqaxNkwnGFu2Eg0AVKpcFvqXD8gv2wchMH7f5E1AuWoR9Ww/9UN1ZHSZKTQtjZKaPz/KpvI2J48yRfwHJdJGA1HSR46c7Y9CpNfbjBnBs7ymh7bRpYXoOsqCoSlHhWmpamIib96RGNn9P2rQwZj2Nme7vypyp3yKJszq0ZN7blP3bjghO9LCQPflOIa5ESTUmzRzFsbu7KFFWlRZNWoiO4Gwi7qBlk1RHsNNwZ3xn+9C/03Aa6NZjtOdwdJprydo8maGiWoy5a71xtB6HWsnivHoexTgfJ2rW+7EcrQ7jBzCm/xTaVDdFQVEBjTIlWbRxhnDdqIsB1vp2yMnLExcbx7Itc9LV0WeYNQHzglm+zU/i+7amemxYuZV2dbuRnJREc4MmwjUTbSvadzWgUrUKGdp1MOwoWsVbk5ycTE3N6swL9smyL7MC3LG3HM2mwDDexsTRzkxfIn8ypCxELdo2JTk5GXWN9FEGTfUa8f5dPGY9jZGXl8+yzb+Bu7cj8XNbwoHtRxk01I779wIpU6ZM1gVFRHKZGjVqsiZgHa4u7rh5udK6igk9B1swwmUQZcqXlrV5MiOreTw7ZGdN0dSpg1E9cxK/JFKmQul060Fm8+s4HyeGW40VDu2k1rtx1VZWzFmTbv1Ii884P2ZPXgSAoake3Qd05X0mD/vZXR8NOrXG3WkGjlOGZFiPRV8z5rouYcy0EVLb+ts4EHYUP7clxL6OY5LLJAb2H0Thwt+ktMXDQCKyJtURbNXdmqC1q/H08GDhtOWMnDo0327+pJKd5+CsaK6vi619Dzo2sES9VAni3yWwKHSmcPhDr0MLZk9ZxNuYOJ4/foHrvPHp1l9pc6u6Rgn6OdrQtnYX1NSLU6NeNSEv/JgBU3n96g0mUnLXx0THolU8JT9kcXVVZq2elmVfsrs29nO0YZ77Utqa6qVzkCgVUcKgU2vu3IiQcB78zbyNeYv/7DUEzl+Hfts2HDt2XHT6iuQZ5OTk8HT1YozzOGb5zaBPe3sat9JmtOcwNHXqytq8PEFWSg5pUVBUwNnVnlpf88q72KfMrWlVJVLn/+9VJbJSiuvvaIPvhHmoqqmkU1jwnx3Esb2n8Fg4kaq1KrN2SSh3bnxzyGalFLdk02wgJc/vYp9VrNq54Kf6klbJCMhUKW7/1sPYOffO0La/mVvX7jB78kJOH/6XYY72rA/YjLq6OhvXhcraNJF8xFCHwRw9fpSk5CQC9yyiak0xF/X3ZJoOyzr9/alpYQDCL9+mRMniQj05SQuTepgzNV2k67zxQrrItE7XG5du4T1mDvduR6aT1M9OWpikpGTu//cAZzd7+o1IOWDk6jid/dtSDv+cOnQOu6+HO29fj2CU53ChjozSwpSrVJaDYUfpaN6OgHnB2I8fwALP5YBkWpi6WjXzdVqYkqVKMGXOGGrUrcrEIR4kJiVSSqUs/v7+sjYtzyI6gH8QZWVlPKZOY7TTWGbPm0n/TsPRblaf0dNGoJXm9OHfRImSalyKOibx3dWYk8Lv+h1bcuzuTl4+i0K9VAlh8v0ej4UTJT6nfWBVUFRgwfoZvI15y+fPX9Jt2teoWxX3BRN49TwKjTIlhQiBtLZVrFqeO5++yYCltXn1nsVER71BUUlRIjr48O0wiXbKVijNv88PA2DSvT0m3dtn2Jf917dIfE7rNKhQpTw7L67n1fMolJSVJOSg0o7BzFXuwu+pC0UqycnJFCwony9O89y9Hcl8j2Xs2XSAvnZ9uH/vvuj4FfkjqFGjJmu/OoInTRlPy0rG2Nr3YPikgX+tI/hn5vFUfnZNMbXqyHCXwbyNiUOjtHqGtkmbX43M9DF4tI+oF68pXa6URK54KztziXZ8V7hJ1P193wEUFArnuC9p15FjEd+iB1M3k1KRk5OjdDkN9Dq0SNf+38bhXceZ67qEN69iM3T8piI6gEXyCnJycvTvO4DevfqwZl0Q09w8WTDNH6epQ/9q+becPgen5fvn7Hraddh9eaPw2WGCHQOcehETHUupshoSssdKRRQJ3L2IqJfRFFNRRkFRIUPbpM2tY6aNwGGCHR8SPkisVbMCPNLZmbaO+0kZny7P6dqYdgws+5ph2Tflub92/RrpxlheXi5fRP/GvX3HyjlrCJi3Dj2D1hw9epRGOo1lbZaISIaoqqpKOIJ7tR1C0zaNGD1tBHUa1JS1eTKlQzdDxvSbQn9HG1TVVNIpOaQlVV2t9lenaUbqaoNG9RVUJdLukWwL3o39eDtU1VQklOKu/psSlZ1WYWGMl6NEu08fPqeFYRNq1qvOp0+f2bv5INXrVAFS1CUKKxTOlvpORkpxOekLpCgZmTW2ITk5mbAL69i5YZ/EdYu+ZriO8OFtTFy+Uoq7de0Oc6Yu5tTBcwxztCdk1SbU1dWzLigi8hs4f/YC69du5EbEVYZ2G4V28/o4Th5CxarlZW1ankFaOqzyXyOEvyc1LQykOIBT1YQyO0wU++Ztlmlhutma0L6eBUPG9mfv5oMcvLlNcACnpov0C/ahYRNNIiMeMbzHGKFsdtLCQEpkcaeGPeg7vCeQkhbGyq4bAOv9vz3PZzctjLRDS/AtLUxE+L18mxYGYP/2IyzwXE7FihW5fOMSyZ+gf//+sjYrT5M//6X8AlRVVfGYOo0HkQ9p09KQPu3t6W8yPN/K/8jLy1O2Qmmpzt/solJcRarTIGUTvFSOJ7gSJdUknL+/G40yJXOUC+jUoXOMtBlP7QY1fziS+k8iMuIh//SZRCet7miolCEi4i7+S1aKzl+RP46aNWoSGrKFq9euEh/9iZaVjJk6wiffSkNnNo9nl6zWFAWFwhLO3x+hYMGClClfWsL5+zv5mfVx/YotDLcai8MEu79aDeLonpN0bWrLxMGeDOg7UJB6zsj5KyKSFylYsCAD+tpx++YdXCZOxm/qUtprWrBz476sC/+l5PQ5OC2KSoqUKV9a6rN/yVIlJJy/P4Jy0SI/vVb9CDldGx/ee4zHPzM5e/TCX+0Ajnv7jnkey2hdpRMRVx5y+PDhr1LPovNXJO+T6gh+EPmQpo1aYN3GDnvLUdwJvytr02RGWiUH00bWeP4zS0LJIbvMCnBnW/BujLW6o1+9M/W0a0uoSqQqxZnoWLNgmj9z13ilq6Ofow3x7xNoa6on8b2dsy1b1+zCTNeGjvUt0ShbEoD7dx5gYziIMV7S1XdSleIaqLbi8K4TjPNx+um+wDcloxZtm4pKcaQ44h26j8ayZT8a1tXhQeQDZnjPEp2/IjJHTk6OPlb9uXntNkb6HejTwYEJg9158vCZrE3LE/xousjflRYmp+kiQUwLkxc5svsE3ZrZsi1wNyv9V7Fr614a1tOWtVl/BGIE8E+S6gge7TQWL99p2BgOppl+Y1H+5xfS0bwtauqqsjYj15CXl6N9V0OMLY2yvvkPJDLiIQs8l7Nj/V762vUhIuIuFStWlLVZIiI/jWY9TTaFbOHGlOu4ek6lZSVj+gyzYvikQZQqqyFr8/4KhozpR6mvmzP5AUUlBUZ5DEOv/d8Z/Xts32n8XBfz9OELxk8Yh/3gYSgp5d5BLRGRX02qI7hPr76sWReEp4snCzyX4+RqL1VVRuTHqKNVk8IK+edwSFJSErXr18Bhgl2uHmTNLd6/iydgXjAr5qyhVZuWHD50WHT6ivyxqKqqMs3Vm7HO45np50v3Vv1p3b45zm72f+XB7p9RckjLz6hKSFOKy47CQpUalTjyXxjPn7xAvVQJChX6dljzwosjEu2Y9+6Mee/OGfb7V/RFVIqT5E74XfzclnJo53EGDbVjTeR60ekrkieRk5NjcF8HBvQaTMA6f2zbDaVl2yaMnDrkr1WFyw6/Kl1kTtPCRKeJDM5JukgxLUze4ti+0/i5LaFsmTIsW7qcpjp/5/7Y76RAcnJysqyNyIv4+fkRGRmJn5/0fIAZ8fr1a3xn+7B4wVJaGOryj7uD6AgWESFFFmOexzLC1u2mr10fpkx0pVKlSj9Uh4GBAW5ubhgYGPweI0VEMsDIyIiJEyfSrl27Hyp3I/w6rp5T2LoxjL7DrRk2caDoCBYRAU4cOMNc1yU8iXyWI8dvTEwMVapUISYm5jdaKSIiiba2NoGBgWhrZ/+U8ZcvX/BftRxvL2+KFVfGydUeY4sfW0tERP5GEuITCJwfgv/sIFq0bo77VA8a6+j+UB1Xr16lT58+XLly5TdZKSKSnsjISAwMDIiMjMzy3tjYWGb6+bLQbxFtjFvi7OZA9dpVfruN+YWpI3yoXqdKOifp38qpQ+dY77+ZL18S06WM+Vu4ezsSP9fFHAg7xqChdvyfvTsPqzHvHzj+tmeZsc6YxkxCtox1GKGUpbQoJUW2su/Zs0RZQ9mXkgiRUMkeiSxZhkwIoVJ4+lnH2EaZGfz+oDPMmMGo7nPq87quuZ5Jnc7HmafOOff7vr9f93GTP2iFOF1dXQ4ePIiurm7ODynyvX97T/DHH3+wekMAXtPnYGjalKHuffN1CH7+/Pl7t4v8EJkZmX87mWh32D52bNyDX9i8d24L86HetV1kTnrflmnvM77fVOo0rEWPwe/YTDmPObLvOAunLKfil1/i6THlH8PvmTNncHFx4cyZd2/XI2QJ6GxXvnx5vL3mci3tGg2/a4xjyz70txvJpYQkpUcTQhE3UtNx6+NJqxo2aFGSpKRkAvxWfXT8FULT1NH/jrCQCM4mnOHx3QyM9ayZOnwOd27eVXo0IRRxdP+PdDJ0ZkTXiXSydSA1JY2RrqPlql+hETIzM9HS0vqo2xQuXJhB/QeTknSVYUOGM2PkPCwbOBK19UAOTSmEest4msFy79UY6lpy/scrREVFsTNi90fHXyGU8jHPBVlXBF9Lu069Wg3oaNCDEd0nkpZ8PYenzB/a2bWmiWFDpcfINVkrxS3aMFvpUbJdyuU0XLuOx6phZyprVyP1aipLFiyT7cGExilcuDD9eg4iKTGZHxoYYN/cGY+hs/LtMaDs2i4yJ7eFye3tImVbmPfLOm60en4Ivkt92RWxV676/UQSgHNIVghOS02jfu0G2Dd3ZqD9KAnBIt9Iv36T8f2m0qqGDUVflCAxMZF1q4Ml/Ip85zv9uoSFRHDy1I88uvMUYz1rpo3w5t6d+0qPJkSuOHHwFJ2Ne+PaZTwdbTqRlnqNCW7uEn6FRvkvAThL0aJFVSF46GBXpg2fi1WjzkTvOJTNUwqhnjIzMgmYF0TLqlYkHL/M3r17JfwKjfRfngteheBZpKVeo071unRo0o3RzpO4kZqeQ1PmDy3aNEW/QS2lx8g1BiZNsHGy+OSQok7Skq8zovtELOp14svS2hJ+RZ5RuHBhhvUfydWkVBrX+wE7gx5McZ2db0NwTqhVr3qeD6FvytoWJjR2TZ7cFgbgeMxJHFv2YtXcYObNXcD+yIMfFH61tLTIzMzMhQk1lwTgHFahQgW8veaRlpqGnk5NbJt2Z7DDGJIupig9mhA5Iv36TSYOmI5xtfYU/kNLFX719PSUHk0IRb0Zgm9fu49RFUumjfSRECzyrFOx8TgYuTDEwQ0bKztV+C1VqpTSowmhiDdDcB+XfrgPmIF1YycO7Dqs9GhC5JjAhesxqmrFmdiLREbukfAr8q0yZcqoQnDNqvq0b9QFtz6epF+/qfRoQuSqtOTrjHaehFmdjlT4rKJqlTgJv0ITfExsKlq0mCoEN/quCZ2N+8jFANmkag1d2lobKz1GrtHV06FzHzu+qJj39kPPOm4U4L0eH+957I88SEsDkw++vQTg95MAnEsqVKjAkgXLuJpylarfVMe6cVeGdnYj5XKa0qOJjxAZHo19C2fsmvVgc2CE0uOolVvpt3EfNAOjKpb89uiFhF8h/sF3+nXZGbGbI7GHuZ32M0ZVLJk+aq68CdAgL168YPF0f6wadaZnu4HEHY1XeiS1En/iHF3b9GOg3Shsre1JS73GRAm/QqgULVqUka6jSE1Jo1fP3kzoN50OP3TjYGSs0qOJj3D5fDLOFoOxbNiZ2eMW8ttvvys9klpZvXgDTSuZcvpQApG7IyX8CvFamTJlmOk5m7TUa+jp1MSyviMT+k+TECzyvBup6Yzp5YFZnY6ULfGFbA8mNNJ/iU1ZIfjS+cs00P8eR6NezBgtx4BE/pZ13GjBZD/m+sz/6PArPpwE4Fymra2tCsG6X1fDqmFnhjmNkxCsAY7HnGT6SB+mLR2Pl/9klswI4MShOKXHUtyt9NtMHuJFcx1znj14TkJCAqEh4RJ+hXiP7xs2VoXgW6l3aVnVkplj5smbAA2wePoKTh7+iRVbF9JjSBf6247k8aMnSo+luPgT5+huOgAXiyG0MTaT8CvEexQvXpyRrqNJTUnDubsL4/pMxc6gO4f2HlN6NPEejx48orNxb7r2tydg20KuXEjBd9YqpcdSC0HLNmLwjSmxkSfZuXMnOyMiJfwK8Q5vhuAqlfSwrO+I+6AZ3Eq/rfRoQmSr9Os3cevjSZtaHSijVV7Cr8i3skJwbEVUvwAAIABJREFUYsIlalSujX2znniNnc/9e78oPZoQuSbruJHPhKV4Tp7K0ZgTEn5zmARghbwZgiuW+RqLep0Y0X0iacnXlR5NUZfPJ+PjvoQ54xdy8exl1Z8/uP+Q5d6rcR80g+DloTx//hyASwlJhAftUH3dgV2HWe+3WfVxzO4jeAydhY/7krf22AmYF8TdW/dUH4et2caVC8lcv/o/lnuvfmumrcG7OH3sDFolijMrwJM6DWtTu14NWrZrzvnTF7P9MdAUd27exXPYLJrrmJNx/3cSEs4RGhKOvr6+0qMJoVFeheBIDh05xP+l3KFlVUt5EwAcjIxl2kgflsxYwc93/4ziKZdS8Z64mMlDvN66Wi5q64G3rsRdvXgDh6NeRZSf795n6cwAJg2eScT6nbx8+RKAjKcZLPD0fet+501exrPMZxzZd5zI8Oi3Prd4uj93b92jRp1qeC5yo5KONqY2JpStUIZryTey/THQFOfiLtCz3UBcLIbQyqgNaanXmOYxXcKvEB/ozRDco6szbr08sW/hzJF9x5UeTVG//PwAv9mBTBvh/dZ+yb///jtha7YxeYgXS2cGqJ4v//o7PeVSKnMnLeVZ5jPg1fuMWW4LmDp8Dqdi/3y++Ovzx8kjP7Fv+0GeP3/OnPELefL4V9Xn4k+cY8u6nWQ8zWT8nBG0s2tDJR1t7HpY5ev3BQDBy0Np9q0Zh3aeICxsC9GRB2jcsInSYwmh9v4MwWlU/qoq7b7rhMfQWbJXpAaRleLeLf36Tcb3m4pxtfYUfVFCwq8QrxUtWoyxrhO4eP4Set/WxM6gB7PHLcz3x4BE3pZ13MhnwlImu3tyNOYEZibmSo+VL0gA/geZmZloaWnl+P1oa2sT4LeKpKRkKnxWEbM6HRnV0z1fhuDUpGt0bd0XXb1vqdOoNr0sh/K/tHQynmZg1bAzD+8/xNTGhMNRx/CesBiAq5fTiN5+EICzp84zrs8Umhp/D8DapSHMGb+IZq2a8MVXFejYrIfqcQ1dvZX79x6o7jtqawxpSdepWOlLls9ZrVp+6fnz58wcPY+yFcrQsGldjNs1B+D61f8Rvf0QjQ0b5tbDozbu3LzL1OFzMNaz5td7v70RfusoPZoQGq1xwyaqEPy/5NsY6lowy21BvnwTELF+J15j52Ng0piixYrS2bgPAAmnL2LfwplKlbVp2a45XmPnq/bOjI3+kQvxlwBYsySE0NXbaNyiIY8fPcHOoAe/PfsNY/MWhK3ZzhTX2QBkPM0kaNmmt+577ZIQnmU+47PSpZg9bqHqzy8lJBGyIpzyX5bDspMp1fWrAa9ONHr04DFVa+rm9MOids7FXcDFcgg9TAdi3KL16/A7gzJlyig9mhAa6c0QbN+hEyO6TsTByIVjB04qPVque/nyJR2b9STjaQZGZs1YOMWPHZv2AODqNJ7I8GhaWxnx27Pf6G01FHj7d/rDXx7R12Y41WrpUkyrGGdPnae76QCq1KhMo2b1Ge08iV2hUcDbzx8A509f5PiBkxQqVIjEc0ns2xaj+py/zxqeZT6j4tdf0qVvRwCe/ppByIpwmhg1ypXHRt1sWBFGi8rmHNh2lNDQcKIjD9DCoIXSYwmhccqUKasKwd98URmrhl1kr0gNICvF/d2t9Nu4D5yOcbX2FP5DS7U9mIRfId5WoniJVyE44RJVK1WnY7OezJmwiAf3Hyo9mvgIsi3Mv8s6bjR1mDfuEzwk/CpAAvA/yK0AnEVHR0cVgsuV/BKzOh0Z4zL5ratW87ovvqrAtpPBOPSyxcrBjHIVynDn5j2KlyhOaOwaxs0egYmFIQPdenFoz9G3bnv7/+4wyH40c9dMp7p+NZ4/f87CKctZuskbC/u2uAxzwqm/PQHzgv51hmLFimLlaMbOTXsBOLr/R76t+g1Va+iqvubimUt0MnTBfe4oGvxQN9sfB3V17859po30oWW19ty9/oC4U6ck/AqRAxo3bMKu1yH4RtItjKpY5ruzQQ3bGhASsxKzDq1w6NWB/7t+k+fPn/Ndo9rsORdKtwEOmNqYYNe9PYf/slRqbPQJ/L1Xs3L7IkqULE5o4FbqNa7DqGlDMLUxwTd0LhHrd733qooGP9SlSNEinD11HoDtIZHY9WhPwYJ/vnTaHBiBx9BZrN3jS4mSxbP/gVBTF+IT6d1+GE6t+tGkgYGEXyGyWfHixZng5k5a6jVsre0Z1nkcnY17c+LgKaVHyzUvX77EP2I+o6YNoZWlEd83r8+Nq6/eF033dccvfD6tLI0YMWUQl88nv3Wg7I8//mCwwxgsHUyx694egGUzVzLcYwBd+nbEuos5swM8me/h+877fpO9szXbQ16F58ePnnDswEmsHM1Un//1yVPsDLqj36AmfUf1yM6HQO1tWhWBYRVL9kfEsmnTZgm/QmSTrBB85dIVKpathGV9h3y/V2R2rhT3+++/E+wfivugGQTMC3prlQdZKe7T3Eq/zaTBMzHUtaTAs6Kq8Cvbgwnx77JC8IVziXxV9husv3di7qSlPHrwSOnRxHvItjD/LOu40dRh3oweMZa44/ESfhUiAVjNvBmCyxQvT5taHRjb2zNfhOBSn5VE+9uvsGzgSHOddtRpVJtGzeoDcCH+EkM7u2HZwJExLpP5/Y2zaeKOnsGxZW8sOplibP7qoMOdm/d4+fIlerWrqr6uqXFjrpxPBl6dqd+9bX+6vf4n6o0z++17WrM9JBKA7SF7sHe2fmtOv9mB9B3VAxsni5x5INTMvTv3mTF6LkZVLLmTdp+jR4+yI2KXhF8hclhWCD54+CBJ51Ix1LVgzviF+eJs0C++qsD1q+lYNnCkdc0OTFs6gUKFCvHixQt2h0XTy2oo7eraE7Rs41vPB8HLQxnsMIZpyyby9bdfAa8OGL25WkPpsp9T8zs9ki5eBV4tMdrtjeeDRw8fq762Y4/2qgP/Ozftxd7Z5q05fSYuYdlmH/Tr18yxx0KdXIhPpK+NK44t+/B9vR9IS03D28tHwq8QOaRUqVJMfB2CbazsGOLghoORy1vLF+dVBQsWpEYdPcb08qBNbVtOHYmnx5DOwOttSIbOwrZpN9rV7cTzP56rnguePHpCpxbOPPzlEWNmDFV9v78+FzQ2bMi15Bv88ccfAHgOm616Hpg20kf1dWYdWnH25Hl++fkBeyMOYGzegs9Lf6b6/Nb1u6hU+WsmzRtDoUKFcvQxURdha7bRspoVUWGH2Biy8XX4NVR6LCHynDJlyuLlOYdLiVf44nNtrBo45svVgbJ7pThXp/HE7jtBK0sj0q/9H11M+qiu1pKV4v6bOzfv4jH01fZgmb/8IeFXiP+oRPESeLhN5ULCRb74XJv2jZyY77Es34dg2RZGs2QdN/IYPJuRriOJOx5PezOb999Q5BgJwGrqVQgOJCkpmWIvS9Cqhg3j+01VveDMqwoVKsT6aH/WRPry07EznDzyE/E/JuAxxIseQzqz5XgQy0LnvnWbarWqMHr6ELaHRPK/a/8HQMlSxXn65KnqoA68Oju05GclASimVYxxs4er/qn7/Z/71jZqVp+nTzK4ePYyhyJjse7c7q37a2rcmLY2xjn1EKiN+/d+wWvsfFpWteTW1Z+JjY1lR8QuGjXMn8vbCaGUxg2bEB0ZQ1T0Xq6cTaVFZfN8sSzQd41qsT7an0UbZjN73KsX2wHzgti3LYaJPiPZFb+JAW693rqNkVlzegzuzPI5q/n991cHckp+VpKHv7z9hunB/UeU/KwE8Op5583ngzfZdrdid2gUp4+dofwXZan2l2We7Xq0p07DWtn8N1c/lxKS6G87AseWfWj4XWNV+K1QoYLSowmRL7wZgm2t7RloN4qubfoRf+Kc0qPlOI+FYwna60dlvW9Zs3gDv/32O11M+vBDy0as3ePHvgtbVK/vAYqXKM74OSP45d4D9u88rPrzvz4XPH74mMJFClO4cGEAug9yVD0PdO3fSfV1xbSKYWbbit1h+9gREkmnv5wI9G3VSvR8HabzuvCgHZhUtyZy0wE2BIdI+BUil5R9HYITL16mXMkvsGzQOV+8F8iSnSvFXTxzibMnz7MweBZtrY2Zsng8JUuVYG/E/n+dQVaKe7c7N+8yxXU2Bt+Y8fTn30hISCA0JFzCr8jTtLS0yMzMzNH7+KzU53i4TeX8uQuUL/UV7b93YuEUPx4/epKj96uOZFsYzXEpIYn+diMZ32caA/oOeh1+bXP8fnPjZ1LTSQBWczo6OqxbHUxiYiKF/9DCuFp7Jg6YnidD8KG9x1g83Z9yFcpS8zs9dKtX5kZqOjdv3KJKjco0bfk9WsW1VFfnZilbvjQ2ThYMGteLQfajeZb5jM/LfE6j5g1Ys3gD8OqsoMCFwZjZtgKgUKGC1G1ch3qv/9H+puJb39OuhxVuvT0xMGnM52U+f+tzX+t8laeX+rx/7xdmj1uIoa4Fqef/x5Ej6hN+5Ze6yM9aGBgRHRnD3n17uHLmKi0qm+M9cXGePPizcn4Q+3ccplyFsvxg1JCXL1/y4P5D/u/6LZq1akJ1/Wq8ePGSPeHRb91Op2olxs4cRoWK5Zg24tUVXGa2rQgN3Ko68H9g12GePnnKd41qA/B5mc9UzwX1Gtd568qur7/9iio1KuM5bDadXDq8dV/Pnz9Hv0FN/vjjeU4+FIq6lJDEQPtR2Dd3pr5+o9fhd66EXyEU8mYIbmNsiovFELqbDsiTIfjm/24zxmUyxbSKUUlHm4YG9bh+NZ3HDx/z8sVL2tm1oXTZzzkcdYxffv7zaq1ChQthYNKEZaE+jO87hbTk68Cr54JV89fx4sULAPy916jeFwBU16+qeh7Qq13lrVk69rRmve9mkhNTMTQ1eOtzFb4sR5nypXPoUVAPW4N30bqmDbtDolm/bj3RkTESfoVQwKsQ7M3F8xcpo1Uei/qO+WKJ0OxcKe7y+WTqNalDsWJFVV/3Q8vvuXI+BZCV4j5U1vZgxnrWPLn7jISEc6+3B9N//42F0HC5eVxSFYLPXqBsiS9p36gLi6b556sQLNvCqL+s40ZjnD3o16sfZ0+fp5NN7p0gK63g/SQAawg9PT1VCC74W1GMq7XHfdAMbqXfVnq0bFOvsT4nDsZhWMWCZt+aUaRoYSw7taW1lRFFihahTW1bWte04cHP744dvUd0R7e6DpMGewEwd/VUtgbvxrxeJ4yrtUe/QU3VWTnv07GnNRfiL/1tuU+AmWPmE7U15h230mwP7j9kzoRFGOpakHzuGtHR+4mKjFaL8JtFfqkL8WcI3rMvksvxKRjqWuDjviRPhWADkybMHrcQ0zodaVHZAudhTnxT+Wt6j+hGxLpdWDd2ot139nyh/e4QOXfNdI5GnyA8aAcGxo3pNtCBdnXtsWrUmekj57Is1Ed11df72DvbkHQhhfZ/WQ3iVvodxvebxtXLaZ/611U7SRdTGOwwBtum3dHTqal24VeeC0R+V6pUKaZ5zCAt9RqtjNrgYjEEZ/NBnIu7oPRo2Ub7m4qU+rwkLXTa0aZWB7YE7WDIxD6U/6IczsOcaF3TBov6DoSu3ka5CmX/dvsGP9Rl5NTBDLAbydNfMxg0rhfFtIrSspoVbWrbci7uIp6L3D5olh+MGvHrk6dYdzH/2zLPwf5hrPBZmy1/Z3WzY+Me2tS2Zcf6KILWrnsdfo2UHkuIfK9smXJ4eXpzIeECpYqUxryeQ56/MizbVop758pAD1UrA8lKcf/uze3BHt16StypU6/Dr2wPJkROygrBCWfOo0VJLOs7snRmAL8+ear0aDlOtoVRX1nHjcY4e9DHuS/nTp+nk00XChQooPRo4i8+7OinUBtZIdjTfSoTJo+juY453QY6MGxSP77U/kLp8T5J2fJl2LA/gEcPH1OoUCFKliqh+tzaSF/u3/sFreJab119a9nJFMtOpqqPl4TMUf37N7qV2Hl6I3dv3aN4yeKUemN5uKjzW9667xVbF771ccGCBan49RcYmTX725xR58Pz1C/zB/cfEjAviDWLN9DM0IDo6GiaGTRXeiwhxHsYGrQkOjKG2BOH8ZzqgaGuBS6uXek/puffVi7QNN81qs3BpB3cu3Of0mU/o0iRIgDo6ukQc2U7t9JvU/7Lcqo/B5i2dILq3z/7vBQHLm9XfTxofG96De/Kg/sP+VL7CwoWfHX+W7kKZYm/9+ceMgDnHsS+9XGhQgVpa2NC6bJvP6aVdLS58PhYnno+SLqYwqKp/kTvOETfAb1ZmbIWbW1tpcf6Gy0tLZ49e6b0GEIorkyZMkzzmMEo1zHMXzyXHqYDadisHqOmDaZeY80/GDtl8Xgm+Izi18e/vhV5x8wYyqDxvcnMyKT8F+Xeus2bv9O7DXSg20AH1cdLNnrz6MEjfv/9j7du9+bzB7w6qfRNL1++pHDhQn+72gtgpt8k1VXFecXOzXtZNNUfHZ1vWbt6rURfIdRU2TLlmOXpw9jh4/FZNBuLeg449rGl1/BufPZ5KaXHyzaH9h7j7MkEXCcPoFyFsqqV4oqX0FKtFAf840px927/zCD70YTFrsHApDHj+04l/scEGjaty//duMXu0Cg2HlwF/LlSXM3vXi1hLCvFvXL/3i8sn7Oadb6baWPWirhTcXK1rxAK+KzU53h5eDPGdRxzF8/Bop4DXfp1xHmY01vH0PMij4VjefzwCTNGzWXN4g0McOtFF5M+TF0ynvFzRlC67Oc0rPDnSThZ28KMdp7M/p2HaWv96nMfsi2MY+9XyxZvDPizHby5LUxUxIG/vV/IT9vCpFxOY4GHL1fOpzDZcxLdHHpK9FVzcgWwhtLT0yM0JJyEhHNk3P8dg2/M8Bg6i9v/d0fp0T7Z56U/e+cTV7kKZf/TC+ovvqrwVvx9n40rtzDEcSyDxvd+54H9vHKw/9GDR8ybvAxDXQsu/3SVffv2sS9yv8RfITSMoUFL9kceZHfULi6evkKLyhbMm7wsTywHV+EvkTfLV5UqvvPP/41WcS2+qlRRFX/f58WLF8ybvIy5k5YyaHzvd35NXnk+SLmcxjCncVg37oru19W4mnKVJQuWqWX8FUL8XVYITku9RpMGBji16kfv9sO4EJ+o9GifrFixou+8wrdkqRJ/i78f4vMyn3/U7Y7u/xFXp3HUrFud6vrV3vk1H/q8ou4iw6NpV9eeiNW7CVwVKFf8CqEhypUpzyxPH86eOQcZhWlb245F0/zzzJVh2blS3OelP2PBei+GdXbDurETHZv1wG3W8H/8/f5X+W2luPv3fmGW2wJaVLbg/5LvEhv7answib9CKKtcmfJ4eXgT/9MZCv1eDMsGjvjNCSTjaYbSo2U72RZGfaRcTsO163gGdRyNo30XEhMu093RWeKvBpArgDWcvn4dQkPCuTj5Ip7TJ2NS3Qanfh0ZPLEvFb78+IMiArSKF2PUtMEYmf796t+84PGjJwQuDCZg7loafF+fqKgoib5C5AFGBsbsjzzIkROHmDBhPC0WW9B7RDf6jOyu8VcEKyEz4xlfVfqSVTuWqK4CyGvSkq+zwNOPvREH6DugN1dTAiX6CqHBypQpg7eXD26jxuE9fzaOLfvQrFVjRk4dRJ2GtZUeTyMVKlQQ0w6tMLdvq/QoOWZvxH4WTfVHW1ublQGrMDRoqfRIQoj/oFyZ8szzWsS4UROZPd8LU307ug10wMW1q0ZfGZbdK8UZt2vOoZSd3Ll5j/JflqNo0T9PKpWV4l55cP8h/j5rWLdsEyZtjImNjVWrrcGEEK9khWDVFcH1HXHqb0/PIZ0pXiJvrEjw5rYwpct+TpGiRVi+Zf5b28KULV8GPf2q790WJuLEegaN68UYl8m0rGZFMa1ifPFVBZZt9v6gWd63Lcwv9x7g+5ftCPKCtOTrLJyynIvxl5nk6U639T3zzAmw+UWBly9fvlR6CHU0ZcqUt/5XU1y8eAHP6R7s3rEHp/72DBrfW0KwAF5tSB+4cD0r56+jbv3vmOo5ndYmrZUe66PY2tri4uKCra2t0qOIfKRt27ZMmDCBNm3aKD3KR9l3cA9Tp04lIf4CvUd0o/eIbhKCBfDqBfyiqcvZtTmKnr17MM1jhsaF3wIFCiAvYUVu0tXV5eDBg+jq6io9yge7d+8e3vNn47tkOS3aNmXUtMHUqltd6bGEmti3/SALp/hRsWJFpnpO07jwe+7cOXr06MHZs2eVHkXkI2fOnMHFxYUzZ84oPcp73bl3m9nzvdgcHEr3QY64uDrlmSCghI0rt7BpVQS23SxxHuqk9Dg54tGDR6yYG8TaJSEYt27JVI/pGhF+NfE1mtBc6nxc8v6Dn5nhPY2wjVtwHtqZ7oMc0SqupfRY2eLZs9/+ti0MvDrW/a5tYd7nXdvCvM/Lly9pU6sD/hEL3rlyxIsXL/JUGE1Lvs7iaf6cP33pVfjtpJ7h98GDB+jq6vLgwYP3f3E+pX7/1cQnyboi+NTJk9xO/ZmWVS2ZOWYe9+/9ovRoQiG/PnmK76xVtKhszuFdJ9iyJYIjMUc1Lv4KIT6OqYk5sTHHCdu6mZOH4mmuY87i6f48fvRE6dGEQm6kpjPGZTJmdTpSvlRFkpKSCfBbpXHxVwjxYSpUqIC311zSUtOoX7sB9s2dGWg/iksJSUqPJhR0YNdhrBs7sWZBCH6+y9kfeVDj4q8QSsnMzERLSzMOpn9ZoSLzvRbx0+l4Ht/JoHXNDiz3Xp0nlwjNDVkrxeXF+PvowSPmeyyjRWULLp1O4eDBQ+yI2KUR8VcI8adyZcoz32sRcSfj+PXe77Sr24nAheuVHitbyLYwuedGajpjenngYjEU87aWJCZcpoeji9r+/bS0tMjMzFR6DLWmnv/lxCfT16/DjohdHDkSy82UexhVsWSW2wIJwflIxtMM/OYEYlTFkpjtRwkJ2cjJ43ESfoXIZ0xNzDkac4Lw7WGcOHAaoyqWLPNamWf2BRPvdyM1nbG9PWlTqwNlildQhV8dHR2lRxNCY2jSQf+/ehWC55GWmoaeTk1sm3ZnsMMYki6mKD2ayEUHI2OxbdqNVXODmTd3PrExxzEyMFZ6LCE0iiY+F3xZoSLL5vtz6mQcj249pU0tW/x91kgI/ki23azy3DZhjx89YeEUPwx1Lbl4Kpm9e/eyL3K/hF8h/oUmxKasE4BOnjjF4zvPMKluzerFG5QeS6NlbQuzaMNspUfJMTdS03Hr40kPs0GYtWpHUmIy/XoOUtvwm0VLS4tnz54pPYZaU+//guKTNWrYiB0Ruzh8+AjpSXcwqmLJnAmLeHD/odKjiRyS8TQDf581GOpacmBrLMHBGzh5PA5zM3OlRxNCKMjsdQjeFL6RAzuOYKhrgd+cQDn4k4elX7/JuL5TaFXDhmIvS0j4FeITaOJB/7+qUKECSxYs42rKVap+Ux3rxl0Z2tmNlMtpSo8mctDhqGPYNetBgPc6vOf4EBtzHFOTdkqPJYTIZZW0v2HZfH9O/niK26n3aVWjAwHzgsjMUO+QIbLf40dPWDTNH8PKFpz/8Qp79uxhX+R+mhk0V3o0IdSeJgTgLFkh+MfjJ7mTep+W1axYuzRE6bE0koFJE2ycLN7aNz6vSL9+k/H9ptLDbBBtjc1U4bdw4cJKjyayiQTgfOLNEHzj0i0MdS3wcV8iITgPyczIZOX8IIyqWBK95TDr1wdL+BVC/I2ZiTlxx+NZFxJE9NZDGOpasGLuWjn4k4ekX7/JxAHTMa7WniLPi5OYmMi61cESfoUQAGhra6tCsO7X1bBq2BnXruMlBOcxR/f/SCdDZ/xnrWXOrDmvw6+8LxAiv6uk/Q2rfNdw/NhxbqbcpVUNG1YtWCfvBfKBX588ZenMAAx1LYiLOUtkZKSEXyHygS8rVMR3wQqOxh7jVsrPmFS3Zr3fZqXHEgq7lX4b94HTcTTqTfMmRhJ+8zAJwPlMVgg+dOgQl3+6iqGuBfMmL+PRg0dKjyY+QeDC9RhVtWL7+r0EBKyS8CuEeC8rU2vijsezNngte8MPYFTFUg7+aLhb6bdxHzQD42rtKfhbUVX41dPTU3o0IYQaejME61TUxaphZ4Z3m0Ba8nWlRxOf4FRsPA5GLiybsQqvGbMk/Aoh3klXpwqrfNdy9Ogx0pPu0LpmBwIXBSs9lsgBvz55iu+sVbSobM6J6J+I2BLB4ZhYCb9C5DPfaH+L74IVHDkcS/qVO7SqYUOwf6jSY4lcdiv9NpMGz8S+uTNNGzXnalIqw/qPkPCbh0kAzqcaNfyefZH7iYqKIjEumRaVLVjg6SshWMOsXryBH75uy9agSFb4r+DM6XPY2tgqPZYQQoNkhWC/AD+2rttNy2rtZX8YDXMr/TaTh3hhqGtJgcwiEn6FEB/lVQj25WrKVb74/CvM6nRkVE93CcEa5lRsPF3b9GPBZD9mTPfiaMwJCb9CiPeqolOVVb5riY09SsrZazTXaSfvBfKIjKcZ+M0JxKiKJcei4ggP38KRmKO0Mmmt9GhCCAVlheDDh47wv0u3aVOrAyEB4UqPJXLYnZt38Rg6C/vmzvzQwOB1+B1J0aJFlR5N5DAJwPlcM4Pm7Ivcz969e7lwMgmjKlYsnLqcx4+eKD2a+Bdrl4bQtJIpEWt24b/c/3X4taNAgQJKjyaE0FD21g6cPX0eX/+lbFmzA4NvTAlatlHpscS/uHPzLp7DZtFcx5yM+79L+BVCfBJtbW0C/FaRlJRMuZJfYlanI6OdJ3EjNV3p0cS/iD9xju6mA5g9diGek6dyNOYEZhJ+hRAfqYpOVdYHbuTAgRiSz6TRorK57BWpoTKeZuDvswZDXUuO7jlFaGgYR2KO0jqPht/MzEy0tLSUHkMIjZMVgg/GHObKT6m0rmnD5sAIpccS2ezOzbtMcZ2N9fdOfFej/hvht5jSo4lcIgFYAH+G4MjISOIOnsVQ14IlM1bw65OnSo8m3rDebzPNvjUjPHAny/2WS/gRpktxAAAgAElEQVQVQmSrAgUKYG/tyNnT55k735v1vqE012lH8HJZFkid3Ltzn2kjvDHWs+bXe7+RkHCO0JBwCb9CiGyho6OjCsFlS1SgTa0OjO3tKSFYzcSfOEcPs4HMHDWf8W4TiTseL+FXCPHJaurVYn3gRvbvP8C5Y5dortOOdb6blB5LfIDMjEwC5gVhVMWS6C2H2bw5NE+H3ywSgIX4NN9of0ugXxDR+/aTeCqFNrU6ELZmm9JjiU907859po30wb65M/p6dUlNSWOs63gJv/mQBGDxlmYGzTkSc5QtWyL4cX88LSqbs8xrpYRghQX7v4ow65aGMn/eAgm/QogcVaBAAbo5OpOYcBnvubNZu2QjhroWsiyQwu7duc/0UXNpWdWKR7cziDt1itCQcPT16yg9mhAiD3oVggNJSkqm2MsStKphw/h+U0m/flPp0fK1c3EXcDYfhMfgWQwfNoJTx37CytRa6bGEEHlMTb1ahG2IYM+evZyJvYihrgXr/TYrPZb4B4EL12NUxZKosIOsWxfMyeNxeT78CiGyVxWdagT6BbEvKpoLPybRVt+O8KAdSo8lPtK9O/eZMXouHQ16UKuKPpcuXmGs6wSKFy+h9Gg5plixYmRmZio9htqSACzeqbVJa47EHCU8fAvH953GUNcCv9mBZDzNUHq0fCUkIBxDXQuCFm9m3tz5XExIpIujk4RfIUSuKFiwoCoEz/b2YvXCDRhVtSR09ValR8tX7t/7hZlj5mFczYqHN3/l1MmTEn6FELlGR0eHdauDSUxMpPAfWhhXa8/EAdMlBOeyc3EXcLEcgnv/GQwbMpyzp89jb+2o9FhCiDyurn49wjZEsHv3buKPXMCwiiXB/rI6kLpYvXgDP3zdlshNBwgKWs/J43GYm8lqEELkFC0trTwfmrJCcNSeKOJiztJW346I9TuVHku8x/17v+A1dj42jZ3QqViFxAuXGes6gRJ5OPxmyQ8/l59CArD4V1khOCwsnKN7T9GisgXLvVdLCM5hm1ZFYFTVkjULN+LjPVcVfgsWzN8/svILXQhlvBmCPad44OsViLFeezkbNIfdv/cLs9wWYKhrwc2Ue5z8UcKvEEI5enp6qhBc8LeiGFdrj/ugGdxKv630aHnaubgL9LIayhhnD/r26qcKv3JCqBAiN9XVr/8qBO/axbG9pzGsYimrAylo7dIQmlYyZXdINGvXBEn4FSKX5KfjklV0qrFh9WZ2bN/Byf1nMK3Tke0hkUqPJf7iwf2HzBm/EOvvnaj0RWUuXbzCZLep+SL8ig+Tv2uS+GBZITg0NIz9EUcwqmJJwLwgMjPyx5Nebglbs42W1awInL8B79k+En7/Ij+90BJCHRUsWJA+PfuTdCmFyR6TWDo9gNY1bdgavEvp0fKUrBfwRlUsSU+6w5EjseyI2CXhVwihFt4MwQUyC2Ooa8nkIV7cuXlX6dHylAvxifSxHsYYZw/6uPQlMeEy3Rx6SvgVQiiqrn59dm7ZTcSWCGIjT2FU1ZJNqyKUHivfWOe7iWbfmhEeuJPlfv4SfoUQOa6Wnj4bVm9m+7btHI86Tbu69uzYtEfpsfK9B/cf4j1xMe0bdeGrct+SeOESHm5T+azUZ0qPJtSMVKV/kJmZiZaWltJjqJ3WJq05eTyOdeuCiQo7iFEVS1YtWCch+BOFB+3ApLo1vjMDmeo5TcKvEEKtFSpUSBWCJ7pPZNEUf9rUtmXHRnkT8Cke3H+Ij/sSDHUtuHH5NocPH2FHxC4aNWyk9GhqR/Z4EUJ5r0LwBhITL5Jx/3cMvjFjiutsCcGf6EJ8Iv06DGeo4zi6OnZXhV95XyCEUCeNGzZh55bdbAmPICrsEEZVLdkcKCE4pwT7h9Jcpx2hK7fju8yPM6fPYWtjq/RYQoh8JCsEb43YxrE9cZjX68Su0Cilx8p3Hj14xNxJS7H+3omKZSpx8Xzi6/D7udKjCTUl7yL/gQTgf2duZs7J43EEBa1nz+YYjKpaEbgoWOmxNE7E+p20rmnDsukr8ZjsyZVLybj07CUHeIQQGuHNEDxi5HBmj1uE2Xcd5U3AR3r04BHzJi/DUNeCKz+lcujQYQm/7yErQgihPvT0qhMaEk5Cwjme3H2GsZ4100Z4c+/OfaVH0yiXEpLobzuCoY7j6NzJiSuJyfTu0U/eFwgh1Frjhk2IjjxAyIaN7A09iLFee8LWbFN6rDwjJCAcQ10LNvlvZdlS39fh105WgxBCKCYrBEds2Ur0liOY1+tEZHi00mPleY8fPWHRNH/a1e3EZ0XLcCHhooRf8UHk3aT4JFkheIV/AFvX7qZpJVPWLAlReiy1tz0kkja1OrBkagCT3D24cimZXj17U6hQIaVHE0KIj1aoUCGG9h9OanIaw1yH4TVmAeb1OrFny36lR1Nrjx48YoGnLy0qW5AYl0xU1D6iIqMl/AohNJK+fh1CQ8KJO3WKR7czaFnViumj5koIfo9LCUkM6DiSPu1dsbGy5UpiMn169Kdw4cJKjyaEEB+shYEh0ZExBK8PJnLTAUyqWxMetEPpsTTWplURGFWxZM3Cjfh4z5XwK4RQO7X09NkSso2NGzcTFXYIq0adidp6QOmx8pxfnzxlyYwVWNZ3pNjLEpxPuICXh7eEX/HBJACLbGFrY8uZ0+dY7recLat3YvCNKet8Nyk9ltrZsWkPbfXtWOixHPeJk7mcmCThVwiRZxQpUkQVgocMHcL0kXOxbNiZqG0xSo+mVh4/esLCqcsx1LXkwskk9u7dy77I/TQzaKb0aEII8cmyQvCpkye5nfozLataMnPMPO7f+0Xp0dRK0sUUBnUaTZ/2rlhbdOBqUipD+rlK+BVCaLQWBkZER8awft16tqzeRasaNkSs36n0WBojdPVWWlazInD+Brzn+Ki2B5PwK4RQV/X1G7AlZBvB60OI3BSDdWMn9m0/qPRYGu/XJ09Z5rUSi3oOFHlenDPxZ5nl6UO5MuWVHk1oGAnAItsUKFAAWxs7zpw+h5/vckJXbqe5TjuCl4cqPZridoVGYfZdR+a4LWbUiNGq8CsHeIQQedGbIbh3r15MHuRF+++7sH/nIaVHU1TWmZuGuhacP3GZPXv2vA6/zZUeTQghsp2+fh12ROziyJFYbqbcw6iKJbPcFuT7EJx0MYUhjmNxsRiKVTtrVfgtWrSo0qMJIUS2aWFgRGzMMQJWBBC2aidtanVga/AupcdSW2Frt2NS3ZqVc4OZM8tbFX5lGwAhhKbICsHrgoKJWL0LmyZd8/0xoP8i42kGfrMDMavTkd8fQ/xPZyT8vodsEfbv5JWEyHZvhuBlS33ZtGIrLSqbs2FFmNKj5brI8GjM63Vi1piFjHAdxdXkVAb1HyzhVwiRLxQpUoTRrm6kXb2Gi7MLE/vPoMMP3TgYGav0aLkq68zNFpXN+XF/PJG7IyX8CiHyjUYNG7EjYheHDx8hPekORlUsmTNhEQ/uP1R6tFyVdDGFoZ3d6N52IK2N2kr4FUIDZWZmoqWlpfQYGqWNiSmxMcfwX76C9UvDaFPblu0hkUqPpTYi1u+kVQ0bArzXMWvmbAm/Qqg5CU3vV1+/Absi9hKwIoDwVTuxbdqNmN1HlB5L7WU8zWC592pM9Tvy7OELfjodz4JZiyX8fgD5ufx38opC5Jg3Q/Bcn3msXbQJwyqWbFy5RenRclzU1gNYNnBk5qj5uA4doQq/RYoUUXo0IYTIdVpaWqoQ3KN7D8b1mYpdsx4cjjqm9Gg5KuvMTUNdC47vO014+BaOxByV8CuEBpKD/p/uzRB849ItDHUt8HFfkudDcMrlNIY5jaN72wGYGLYmNSWNUcPGSvgVQgPJc8F/18bElFPHT7N08VKCFm+mrb4dOzbtUXosxWzbsJs2tTqwZGoAHpM8JfwKoSEkNH24Hxo2Y1fEXvyXryA0YDt2zXpwaG/ePgb0X2RmZLJi7lrM6tiT+ctzTsf9xIJZi/myQkWlRxN5hLyyEDmuQIECdHF04mJCIj5zfFi9IASjqpZsDoxQerRst2/7QawadWby4Fn07d1fwq8QQrzhzRBsb2fPiG4T6WTozNH9Pyo9WrbKOnOzRWULju49RVhYOEdijtLapLXSowkh/qNnz57JQf9skhWCDx06xOWfrmKoa8G8yct49OCR0qNlq5TLaQzvNgEHQxeaNjQgNeUao4e5Ubx4caVHE0IIxZibWnLq+GmWLFrC2oWbMPuuI7tCo5QeK9fs2LiHtvp2LPL0x33iZC4nJuHSs5eEXyFEnpUVgpf7LmfT8gjsWzhzZN9xpcdSXGZGJivnB2Fax56nP/9O3KnTEn5FjpBXGCLXFCxYUBWCvWf7sGreBoz12hO2drvSo32y/TsPYd3YiUkDZ9LHpR9pV68x0nWUhF8hhHgHLS0t3N08uJ52A1sbO4Z1GYeDkQunYuOVHu2TZJ25aVTFkv0RRwgNDZPwK4QQ/6BRw+/ZF7mfqKgoEuOSMdS1ZIGnr8aH4LTk64zoPhEHQxea1P+Ba6nXcXfzlPArhBBvyArBs2d5s3zWGtrVtWd32D6lx8oxOzfvxbRORxZM9mPieHcuJybRq2dv2R5MCJFvZIVg36W+rJ4fkicvBvgQmRmZBC5cT9vadvx84xFxJ+Mk/IocJQFY5Lo3Q/AUj6n4zlhFqxo2bFm3U+nRPtrByFg6/NCNif1n0Ktnb1X4lStEhBDi/UqWLKkKwe1Mzelr7YpT674aF4IzMzJZtWAdRlUs2Rd+iHXrgjl5PE7CrxBCfIBmBs3ZF7mfPXv2cOFkEkZVrFg0zZ/Hj54oPdpHSUu+zqie7nRo0o3vatRThd9SpUopPZoQQqgtO+uOnD2dwCyvOfh5rcaivgN7tuxXeqxsExkeTbu69sweu4iRw0dJ+BVC5Hs/NGzG/siDzJu7gFVzg3Fs2YvjMSeVHitXrF68AdM6Hbl77QEnjv+I74IVEn5FjpMALBRTsGBBXHr24nJiEpMnebB0WgCta9qwNXiX0qO916G9x7Az6M64PlNx7u7yOvyOlvArhBD/QcmSJZnu4cW1tOu0MWlLX2tXupsOIP7EOaVHe6/ARcEYVbViz+YYgoLWc/J4HOZm5kqPJYQQGicrBEdGRpJw/BKGuhYsmbGCX588VXq0f3UjNZ0xLpPp0KQb+np1SUu9xnQPLwm/QgjxgQoUKKAKwZMnebJgsh+WDRyJ2npA6dH+s70R+7Go78DMUfMZPmykanswCb9CCPFKSwMT9kcexMd7HgHe6/PEqnD/ZO3SEFpWs+JO6n2OHT2O74IVVNL+RumxRD4hAVgornDhwvTq2ZvLiUlMcvdg8ZQVtKlty/aQSKVH+5sj+47TsXlPRnV3x6FjZwm/QgiRjUqXLq0KwSZGrXCxGIKz+SDOxV1QerS/WbMkhKaVTIncuJ+gtesk/AohRDbJCsG7d+/mx/3xtKhszjKvlWoXgm+kpjO2tyfm9Tqh+3U1VfgtU6aM0qMJIYRGKlCgAE4OXbmYcIlJ7h7Mc/fFqlFnorbFKD3aB4vaFoNlw85MHzGPYUOGq8KvbA8mhBDvlhWC5/rMx29mIF3b9NOIiwE+RNCyjRjrtedWys8cjT2G74IVfKP9rdJjiXxGArBQG2+GYPcJk1josRzTOh3ZuXmv0qNxdP+PdDJ0ZkTXiXSydeBa2nUmuLlL+BVCiBzwZghu0qgpTq360stqKBfiE5UejaBlGzH4xpQtq3ey3M9fwq8QQuSQ5gYtOBJzlPDwLRzfdxpDXQv8ZgeS8TRD0blupKbj1udV+K38VRXSUq/h4zVfwq8QQmSTggULqkKw+4TJzJu4jPbfdyF6xyGlR/tH0TsO0f77Lkxz9WHooGESfoUQ4iO9CsGH8Jo5G58JSzVmVbh3We+3GZPq1txMvkfskaMSfnOYlpYWmZmZSo+htiQAC7XzZggeOXwUs8cuol1de3aH7cv1WU4cPIVjy164dhmPnU0nVfgtWbJkrs8ihBD5TenSpfHxms+1tOt8X78xji1709fGVZEQHLw8lGbfmhG2agd+vss5c/octja2uT6HEELkN61NWnMk5ihhYeEc3XuKFpUtWO69OtdDcPr1m4zvNxXTOh35srS2KvxWqFAhV+cQQoj84s0QPGrEaGaOmo9Nk64c2HVY6dFUYnYfwaZJV9wHzKC3c18Jv0LkcRKacp6xQSuOxpxgsrsnPhOW0rPdQLVcFe5dgv1DMdZrT8q56xw5HCvhN5fIz+W/kwAs1FbhwoUZ1H8wV5NTGT5sJF6jF2BerxN7tuzP8fs+FRuPg5ELQxzc6NC+I9fSrjNRwq8QQiiifPnyqhDc4LtGOLbsTX+7kVxKSMrx+96wIowWlc3ZtGIrvsv8XodfOwoUKJDj9y2EEOJPWSE4NDSM/RFHMKpiScC8IDIzcvbNfvr1m0wcMJ02tWyp8FlFrqZcZcl8Xwm/QgiRSwoWLEivHn24kpjECNeRTB8xjw4/dONgZKxiMx3acxTbpt0Y33caLj16vd4ebJSEXyHyOAlNucfMxJyjMSdwn+DB7LGLcLEcorYhOCQgHJPq1iSfuUbMgYME+gVJ+BVqQwKwUHtFihRRhWDXoSOYMXIelg0cidp6INvvK/7EObq26Udfa1fMTa0k/KoZeaElRP72ZgiuWaUWtk27M6jTaJIupmT7fW1cuQWjKpZsXB7B0iXLJPwKIYSaaG3SmpPH41i3LpiosIMYVbFk1YJ12R6Cb6Xfxn3QDNrUsqVcyS9U4VdbWztb70cIIcSHKVy4sCoE9+87gEkDvbAz6M6hPUdzbYbDUcewa9YDt95T6NnN5XX4HS3bgwkhRA7JCsET3NyZOsyb3u2HqcX2YACbVkXQuqYNV35K5cD+AwT6BVFFp6rSYwnxFgnAQmO8GYKHDnZl2vC5WDXqzL7tBz/5e8efOEd30wG4WAyhjbEZ19KuM81juoRfNSMBWAgBr0Lw4vnLSL2aip5ODawbd2VYFzdSLqd98vfeHBiBUVVLVi8IwXuOj4RfIYRQU+Zm5pw8HkdQ0Hr2bI7BqKoVgYuCP/n73kq/zaTBM2lZ1YoSBT6T8CuEEGqmcOHCDO4/lJSkq/Tt3R/3ATPp2Lwnh6OO5dh9xkafwL6FM2NdPOnh1FPCrxBC5DIzE3Pijscz0nUkHoNnK7Y9GEDo6q20qdWBS3EpRO/b/zr8VlNkFiHeRwKw0DhZITgl6Sp9XPoyaeBMrBs7/ad9YM7FXcDZfBAuFkNoZdRGFX5Lly6dA5MLIYTITl999RWL5y/jaspVKn9dFauGnRnebQJpydc/+nuFrdmGsV57Vs3bgPdsHy4mJNLF0UnCr5qSE4KEEFlUIXjtOnZvjKZpJVPWLAn56O9z5+ZdPIbOomVVK7QoSVJSMit8V0n4FUIINVW0aFFVCO7j0peJ/aZj38KZ2OgT2XYfxw6cxMHIheFOE7Dv0EnCrxBCKKy9mS1xx+MZPnQEHoNn0992RK5sDwYQtnY7bWrbcvFkMvuioiX8Co0gAVhorKJFizLSdTRpV6/Rq2dvJvSb/sH7wJyLu4CL5RB6mA6kZfNWr8PvDAm/QgihgbS1tVky35erKVf5svRXmNXpyKie7h8Ugres24lJdWsCfNYz22uOKvwWLCgvkdSZBGAhxF+Zm5lz6vhplvstZ8vqnRh8Y8o6303vvd2dm3eZ4jqb5jrmvHxakKSkJAJ8A9HR0cmFqYUQQnyqP0NwKl07d2N0z8k4GLlw7MDJ//w9T8XG42DkwrDO47C1tuda2nUmuLlL+BVCCDWRFYKHDnbFvf8MBtqPyrEQvGXdTtrUtuX0wQT27d0n4VdoFDm6KTSelpaWKgQ7d3dhXJ+pr/aB2fv35X8uxCfSu/0wnFr1o3H9phJ+hRAiD9HW1maF7yqSkpIpX+pLzOp0ZEwvD26kpv/ta7cG76J1TRuWTgvAc/IUCb9CCJFH2NrYceb0Ofx8lxO6cjvNddoRvDz0b1935+Zdpg6fQ6saNjx/UoDExIsEBQajo1NZgamFEEJ8qqJFizLKdQypKWl0cejKyO7udDbuzfGYDw/Bp2LjcWrdl4F2o1Thd6Kbu2wPJoQQasr6dQju49yXMc4eDHYYQ9LFlGz53luDd9FW345TB86wa8cuNqzeJOFXaBw5yinyjDdDsEPHzozq7k7H5j05su84F+IT6WvjimPLPjSq24RradfwmTVXwq8QQuRBOjo6qhBcvEApWtWwYVzfKfwvLZ3tIZG0qW3L4ikrmOzuyZVLybj07CXhVwgh8pACBQqoQvCypb5sWrGVFpXN2bAijFvpt5k20geT6jY8uZvJmfgzBAUGo6dXXemxhRBCZIPixYurQrCNlR1DHcfhYOTCqdj4f7xN/IlzdGvbn77WrrQ1aSfhVwghNEwnmy6cO32eXj16M7L7JIZ2diPlctp/+l7bQyIx+64jP0bHs2P7Djas3kxNvdrZO7DINrJC3L+To53/IDMzU5Z20VBaWlpMcHPnWtp1Otk6MqLrRDq37EPDOk1IS03DZ9Zcypcvr/SYQgghcpiOjg5BgetJTEyk2ItSmFS3YaGHP5MmTFaF30KFCik9phBCiBzyZgheumQZm5ZvpbmOOU9uZ3Lq5Ek2bwiX8CuE+GBynEizFC9enImvjw3ZWtsz0G4UTq37vhWC40+co4fZQFwshtC6penrVeKmS/gVQryThCb1VqBAAVUIdu72av/2YU7jPjgE79i0h3Z17TkedZptW7ezYfVmaunp5+zQ4pPJz+W/K6z0AOpKXthrvpIlSzLBbSLjxoznxYsXFC4s/3cXQoj8SE9Pj7WBQaz0X0WRIkWUHkcIIUQuywrBtjZ2/PbbbxQtWlTpkYQQGkiOE2mmkiVLMtHNHdfBw1nsu4iBdqOoXP1bChUqyJXzKbiOHMaO0EhZIU4I8V4SmjRDVgi2t+7M+tC1DOo4Gv2GNRkxZSC6ejp/+/pdoVEsmb4C/Tq12RqxTaKvyFOkiIk8r2DBgrK0pxBCCIm/Qoj/JDMzk2LFiik9hsgmEn+FECJ/KlWqFBPd3Bk5bBSbNm8EoJO9A6VKlVJ4MiGEEDmhQIEC9HB0oVunngSHBdG/w0i++74Wrh4D0NXTITI8miXTV1Crdk02bQylnn59pUcWIttJABZCCCGEEEKIfyBXfAkhhBB5R/HixXFx7qX0GEIIIXJJwYIF/xaC/3ctHXNrU0I2bJLwK/I0CcBCCCGEEEIIIYQQQgghhBAiT8oKwT0cXeQkX5FvyLq4QgghhBBCCCGEEEIIIYQQIs+T+CvyCwnAQgghhBBCCCGEEEIIITSKXMUnhBBC/DMJwEIIIYQQQgghhBBCCCE0yrNnzyQACyFEPqalpUVmZqbSY6gtCcBCCCGEEEIIIYQQQgghhBD/QEKTEOpHfi7/nQRgIYQQQgghhBBCCCGEEEKIfyChSQihaSQACyGEEEIIIYQQQgghhBBCCCFEHiEBWAihMeRMOyGEEEIIIYQQQgghhBBCiH8nAVgIoTEkAAshhBBCCCGEEEIIIYQQQvw7CcBCCCGEEEKjyAlBQgghhBBCCCGEEEL8MwnAQgghhBBCo0gAFkIIIYQQQgghhBDinxVWeoC84MSJE8TFxb31ZzVr1sTU1FShiYTIfxISEoiLi6NXr15/+1xmZiYrV67Ezs6OSpUqKTCdEEIIIfKDGzdusG3btrf+rFSpUri4uCgzkBBCCCGEEEIIkUfJBQL/z95dh0WVvQEc/xICgoCKCHZg69oodmOt3Z3YHWvn6mJ3r+1aa9eqa9fq/hYVA2wRQUBFQUpigN8fyMjIAIMig/B+nodnd+7ce3kZ5957znlPJE4SwClg06ZNHDx4kJIlSwLw4MEDmjZtKglgIVLRpUuXmDNnjtoEcFBQEMOHD6dMmTKSABbfTVRUFGvWrIm3vUePHpibm2shIiEyplOnTqGrq4u9vX289549e8bJkycZNmyYFiITGcHly5cZNWoUdnZ2AHh5eREeHi4JYCHSEOk4KoQQQoivIYkmIdIeuS4TJwngFODh4UGHDh1Yt24dAK1bt9ZyREIIIVKbt7c3w4cPp3z58piYmBAcHIyzszNNmjSRBLAQqWjjxo3o6+urTQDfvn2b4cOHSwJYfDceHh4UKVKEq1evArBs2TIWLVqk5aiEEHFJx1HxtUJDQzEyMtJo3wMHDuDt7a2yrX79+pQqVep7hCaEUEM6/IiUJokmIcSPRhLAKeDBgwc0btw40X3u3r3L/v37efLkCcbGxjRq1IhOnTqho6OTSlEKIb508+ZNNm7ciJeXF0WLFmXkyJHky5cPgKlTpxIUFBTvGDMzM2bPnp3aoYofgIeHBwAnT57E2toaZ2dnKlSooOWohBBCpCZXV1eKFy+e6D7e3t7s3r2be/fuERYWRqVKlRg8eDDGxsapFKUQQoivkZwE8MSJE4mMjCR37txAzNJh69atkwSwEKlIOvwIIYTI6CQB/I1evHjBy5cvqVatWqL7DRgwgAoVKlCnTh28vLzo27cvr1+/ZuTIkakUqRAiruPHj9OhQwf69etH06ZNOXHiBJUqVeLu3btYW1ujp6eHvr4+7969Y+vWrTg4OGBmZoa+vtw2hXqurq6YmZlhbW2d4D5RUVGcPXuW06dP4+HhgaWlJT179qRq1aqpGKkQ4ksHDx7k4MGDBAcHU716dYYOHYqxsTE+Pj7MmzdP7TEVK1akZ8+eqRyp0IbkNPhfvnyZQYMGJbrPnDlzePPmDTVr1gRg6dKlXL16lUOHDn1zrEKI70M6jork8vT0ZMuWLXTu3BmArFmzajkiIYQQqcXDw4MjR46obMuSJYssCyNEKnr//j27du2ie/fuasthu3fvxsbGhipVqmghutQjmYxvdOXKFczMzKhcuXKi+924cUPldXBwMPv375cEsBApKDAwkFGjRsXb/uX0LAAIcXsAACAASURBVAqFgkGDBjFjxgwmTpwIwKBBg6hUqRJz585l5cqVzJo1C4D79++zdetWJk+eTMGCBb/73yB+XJcvX06yM5CnpyfDhw+nXbt2NGrUiOvXr1OjRg3+97//UbFixVSKVAgR18SJE/n9998ZNWoU5ubmbNiwgePHj3Px4kUAZccfZ2dn/vvvPxwcHADQ09PTVsgilWmaAPbw8MDd3Z0GDRokut/q1atVXhcuXJg2bdoQHh6OgYHBN8UqhEh50nFUJNfz588JDQ1NckYImSlOiLRHOvyIlHD58mVGjRqFnZ0dAF5eXoSHh0sCWIhU5OXlxfDhw2nYsKHaBPDcuXNp3769JIBF4o4cOULDhg01rtwFBwfz4cMHsmbNio+Pz3eOToiMJSoqCn9//3jbw8LCVF7funWLV69eUadOHTw9PZXbK1WqFK+zhhCaunLlSpKjvvLnz8+jR4+Urx0cHLhz5w6HDh2SBLAQKej27dtqOwQ9ffpU5fWDBw9YsGAB165dU3bg6NSpE4UKFeLgwYO0a9dOuX7rqlWrePr0qaznKhJ05MgRLC0tNb6fh4eH4+fnh5GREZGRkbx9+1amIBQilUjHUfE9Xb58mSxZslCmTJlE95OZ4oRIW6TDj0gpHh4eFClShKtXrwKwbNkyqUcKIbRCnlAJ0KSnf2BgICdOnGDHjh2J7ufn58e0adM4dOgQoaGhWFtbExgYKD38hUhh5ubmbN26Nd52X19f9uzZo3wdm/Rt1KhRvH2l4VV8DRcXF54/f06TJk00Psbf35+goCCsra2lQ5AQKSw8PFxth6Dg4GCV18eOHSN37tzky5dPpUOQjY0NN27coF27dt89VpF+7N69m44dOyY6OjwqKoolS5awefNmPD09sba2VjYaRkdHp1aoQmR40nFUfE9Xrlyhdu3aZMqUKdH9ZKY4Ib4/6fAjtMHV1TXJWSC8vb3ZvXs39+7dIywsjEqVKjF48GCMjY1TKUoh0gcjI6N49/Sv5e3tzYoVK3B1dcXS0pJ+/fopBwts3boVZ2dntcdNnjyZnDlzpkgMKU0SwAnQJAG8b98+DA0N+fnnnxPdr3Pnzrx584bz588rb/6LFi1i3bp1KRavEEJzsde2m5sblpaWWo5GpAe7du2idOnS/PTTT4nu5+rqytSpU7lw4QJGRkZYWlri4eEhSSYhUljVqlXVdgjav3+/cmpniOkQ5O3tTYkSJeLt6+fn9x0jFOnNs2fPuH79epI9++fPn8/8+fPZt28fDRs2REdHBycnJ2xtbVMpUiEESMdR8f1ERkZy4sQJpkyZovExMlOcEN+PdPgRKUnTRNPly5eTnCFuzpw5vHnzhpo1awKwdOlSrl69yqFDh1IkViEyipRKAL948QI7OzuqVKlCs2bNcHFxoW7duhw7dgx7e3t0dXWVnbfXrFlDnTp1KF26NECaXr5DEsBfKSoqigULFjBkyJAkE8Xnz59n9erVKj1/7t27971DFEIkoGLFiujq6nLu3Dk6d+6s7XDEDy4yMpJdu3YxYMCARPcLDAykTp06NG3alCdPnpAjRw6AJDsRCSG+HyMjI0qUKIGLi4u2QxE/OEdHR+zs7JJcC/7cuXM0a9ZMJZkk9QIh0i7pOCqS6/z58/j6+tKxY8dE95OZ4oRIHdLhR6QkTRJNHh4euLu706BBg0T3W716tcrrwoUL06ZNG8LDw+VZIEQKcnR0JFu2bPG2f9npbuLEiZQvX56jR48qtxkYGDB27Fju3btHz549ldu3bt1Kp06dfoh1vXW1HcCPyNfXl+XLl/P06VNq166Nk5OTyo+/vz/v37/HyckJhUJB4cKFuXDhAuHh4URERLB9+3YOHz6s7T9DiAzL2tqavn37Mnr0aI4fP05ISAgBAQFcvXpVZWSYEJrYvXs3vr6+SSaA79y5g6+vL1OnTlUmf6OionB1dU2NMIUQatja2vLkyRM8PDy0HYr4QYWFhXH27Fm2b99Oy5Yt49ULPDw8iIiIwMnJCT8/P2xsbLh58ya+vr5ER0fzzz//MG/ePG3/GUKIBMTtOCqEJnbs2EGDBg2wsrJKdL/OnTtz7do1zp8/z7t373BxcWHEiBGpFKUQ4ktxO/wEBQWp/Dx69EjL0YkfyZEjR7C0tKRixYoa7R8eHs7r168xMjIiMjKSt2/ffucIhchYAgIC8Pf3j/cTGRmp3CcqKooTJ05gb2+Pp6en8qdMmTLcv3+foKAgLf4F30ZGAH+Fw4cPM2bMGACaNm2a4H4nT57k7du3rF27lm7dumFqakp0dDT16tVj7969DBs2LLVCFkJ8YfXq1RgbG9OxY0c+fvwIQI4cOVi6dKmWIxM/krt37zJ37lyaNGmCm5sbbm5uyvceP34MxKwPZGBgQKFChdDV1eX06dMUK1aMwMBApkyZwuvXr7UVvhAZXqtWrShatCgdOnRg7dq1lClTBn9/f65du0bp0qUpWrSotkMUaZyHh4dypMikSZOYNGmS2v1sbW3Zt28f06dPx8nJCSsrKwwMDMifPz87d+6kXr16qRm2EEJDcTuOZsmShfr166NQKLh79y4KhYK6detqO0SRhrx48YLdu3dz4sSJJPeVmeKESFtkpjiRUnbv3k3Hjh3R09NLcJ+oqCiWLFnC5s2b8fT0xNraWjm1bHR0dGqFKkSG4OjoqHbZrzJlyij/39/fn6CgIKZMmcL06dNV9jMxMeHNmzdkyZLlu8f6PUgC+CsVKFCAFy9eJPi+s7MzFSpUAKB+/fq8evWKV69eYWxsjIWFBQBPnz5NjVCFyBCGDRuWYKeKHDlyxCtAGRgYsHz5chYsWKC8NnPmzImururECGXKlJHCl0hQs2bNePXqFQ8fPmT//v1q92nTpg1Dhw5l1apVLFq0iF9++YWJEyeiUCgYOnQo06ZNk+eBEFpiYGDA33//zYABA6hcuTJRUVEAFC1aNMFrWgh13NzcKFiwYILvZ82aFYiZQvDmzZu8fv2aiIgI8ubNC8QsEyCESJuk46jQhJubG9OmTSNfvnxkz54dJycnlfcjIyNxd3fHxcWF0qVLK2eK6927Nzo6OuzevZvDhw/LVONCaIl0+BEp4dmzZ1y/fp1FixYlut/8+fOZP38++/bto2HDhujo6ODk5IStrW0qRSqEiMvQ0BCA7du306FDBy1Hk7IkAZxKdHV1yZcvn7bDEOKHZmRkhL+/f4qe09DQkMKFC6foOUXGsmXLlkTXfGjdurXy/0ePHs2QIUPw8vIiZ86cmJiYpEKEQmQsiSVu27dvH69TT548eThx4gQBAQG8ffuWbNmykT179njHJtbRSIjkSmpqUCHE9yMdR8X3MG3aNHbu3AmQYAP+nDlzOHToEPfv35eZ4oRIg6TDj/hWjo6O2NnZUa1atUT3O3fuHM2aNVNZc1pmgRBCe0xMTChVqhTnzp2TBLCISebGTsuQEB0dHfT09NDR0UmlqIRI/4yMjAgNDdV2GEJ8E0NDQwoVKqTtMIQQXzAzM8PMzEzbYYgfjKZlfn19/XjJIiHEj0U6joqk9OrVi61btyb4/rJly9i4cSMgM8UJkRqkw49ILWFhYVy5coXt27cze/bseLNAeHh4EBERgZOTEzY2NtjY2HDx4kV8fX2xsLDg+vXrzJs3T0vRCyEAJk+eTO/evSlZsiTdu3fHxMSEp0+f4uLiQqdOnbQd3leTBPBX6Nu3L3379k10n3LlyqFQKFIpIiGEENqgSYO+np5eomu/CCGSTzoEibTCxsZGozK/r69vKkQjhBDiRyIzxQmRNkmHH5FcHh4eytG8kyZNYtKkSWr3s7W1Zd++fUyfPh0nJyesrKwwMDAgf/787Ny5k3r16qVm2EKkCynVPtStWzdCQkKYPn06o0aNUp574MCBkgAWQgghMqLE1oKPdeDAge8fiBAZjCSAhRBCCJGWaNLpU5PZ5IQQQqRdSdVD3dzcKFiwYILvZ82aFYhZhujmzZu8fv2aiIgI8ubNC0BgYGCKxitERpDQdZnUbA3379+Pt83BwYH+/fvj4eGBjo6OspPGl36kDt5S8hRCCCGEEEIIIYQQ4itt27YtyX1GjBjBiBEjUiEaIYQQ30NKd0S2srJKsXMJIVKGjo4O+fPn13YYKUYWohJCCCGEEEIIIYQQIhGhoaEYGRlpOwwhhBBpjI6ODnp6eujo6CS6nybLiAkhREqSEcBf8Pf3p0mTJvj4+DB58mROnz7N2rVrtR2WEBle3759uXbtGgqFggcPHnD69GlthySEEEKIdM7Z2ZmdO3diamrK8uXL6dWrl3LqNiGEEBmHvb09bm5uANy+fVvqo0Jo2YsXL3B3dwfg0qVLFChQINGpd4X4nmxsbFAoFEnu9yNNGyuESB+ky8kXsmbNipmZGR4eHjx48OCHXuBZiPTE0NAQNzc33N3dE52/X4iU4uzsjI6ODufOnaNhw4Y0b95c2yEJkeHFXpeXLl2iXr16cl2K727Pnj0sXbqU+/fvM2rUKPz9/bUdkhAZ3rJly+jWrRvv37/H1tYWZ2dnbYckMgAbGxvc3d15/vw5FhYW2g5HiAzP2dmZunXrYmRkRN26deVZIIQQQqihEy2ZlHj8/f0pUaIEvXv3Zt68edoORwjxSfHixfHz8+Px48cy+kakCnt7ey5cuICenh43btygfPny2g5JiAxPrkuR2ipXrsydO3dYuHAho0aN0nY4QmR4zs7O2NnZERYWRrFixXj06JG2QxIZRPHixYmMjMTJyUnqo0KkAV27duXPP//EwcFBZm8U393hw4eZPn0679+/J1euXCxcuJC6detqOywhMrS4M7QULlxYZmhRQyUB/MHfD79377QZT5oRGBSEaZYs2g4jzchmkQNzqeBoje+b1wQFBmo7DK0LDAoiMDCQ3LlyaTuUNMPSyhqT73CveuPjTUhwcIqf90cTGBRE506d6NGzJ51lRggAcubKhbGxibbDyJCioqLw9vQgIiJC26FolVyX8enp6ZErbz709VN2dZfIyEi8PT00ms4sPQsMCmLvnj30799f26GkGfr6mciVNy96enraDiXDCQ4K4u1rH22HoXXHT5xg8aJF7Ny1S+oGn5iam2ORwzLFzxsUGIjvm9cpft4fUWBQEIC0FX1ini0b2bLLaOjUJuWzzwKDgtj4+++MHj1a26GkCd+rTiBiODs7U6FCBQAyZ86Ml5eXdAYSQssGDx7Mpk2biIyMpFOnTuzatUvbIaU5OtHR0dEP792lY8eOWFlkp0ThQlhmz0aUDAwWn7zz8+fhczd8/T9w8PBhChUpqu2QMoyr58/So1dv8uWyxvanMphmkaSL+OyVz2uuON0ih4UFR0+eJLtFjm8+59WzZ+jSsyflSxandNEiGBkapkCkIr3wev0G5wcPMc+ajUPHT5DF1FTbIWUYjtOnsmXHH1QsXZKiBQtI0kUoRUZG4ub5ilsuD2jbqiVzFi1JkfNOHj2SQ8eOU7F0SQrlzSMNSUJJoVDw3MOTWy4P6NKxIzMcZcak1PD+7Rvat25NeFgoZYoVJXdOS6mzC6Wg4BBcnz7jwXM39u/7k0pVq33zOX1eedKmZUuCgoKoXrE8eaxyyndOKPkHBPCv8z3eBwSwa9duKlWtqu2QMgTH6VNZunotdapWpkThQlInEEoKhYInL15y6X9O9O/dkzkLF2s7pHRp2bJljB49mgsXLsjoXyHSCJmhJXE6fu98oxvUqcPaWVOpUu4nbccj0rB/ne8ybLYjZy5eImu2bNoOJ917+sCVSlWqsmjSOBw6tdd2OCIN6zdpGvefuvHvrdvfdJ6H9+7Qu2dP9q1cTD4ZSSESsfvYX2w/9hcnz13QdigZwp4tmzh66CAbf5uFcebM2g5HpGGj5szDqkBhJs2c9U3nWbt4Ic5O/7F+zowUikykR6FhYQybOZdK1WsweNQYbYeT7tWqasvkgf1oWqeWtkMRadgzdw/aDx/D4WPHKVC48Fef52NICHaVK1HHthIrpk9KwQhFerN083Yc12/k5s1b5CtQQNvhpGvrly/FceEiTmxcQ+miRbQdjkijnrq/5GeHofTp3YsJ01KmLP/o/j2uXrzAx48fU+R8Pzr/D/5kNZckE4CxiQm16tWnaMlS2g4lw5EZWj6TGUM/09PTw8TUVGWQmM6w/n2iS+TNzdDuXbQYmvhRrNy+k2dv3rFs7Xpth5Lu/dyoARVLFGP2qGHaDkX8AGp07E7vPn1wGDbiq89Rt7odv40eRvWKFVIwMpFeOUyeQdM2bWnbuau2Q0nXIiMjKZA3Dw9OHZVZIIRGijRoxn+3bpMte/avOj4sNJRiNoVxv3wmhSMT6VFoWBg29Zvy6OkzssiUqN/NgZ07uHHxPAsnjtN2KOIH8NfFy6zZe5Djf3/9fXzlgvkcPXqEM9t+T8HIRHo1as48fIM/8sef+7UdSrqlUCjIam7G1T07KF+qhLbDEWncM3cPyjRrzes3rzEzM//q84QEB9O4fl1CgkPo37EdxQrJTFTis4iICB6/cGfNH3vInz+fDBBIJT6vPGnXujX6ujqUKlKYXJYyK5D4LDAomAfPnvM+IIB9Bw6Sr1Bh9E+fu8DwDau0HZv4QdjXrE7zAcNYpu1AMoATZ8+zc+FcbYchfhDj+vfmwLmL35QAdrpzV5K/QmP2Navzz5UrkgD+zoICAihXorgkf4XGGla3w+WOMzXr1f+q4/3fv6O2beUUjkqkV0aGhtSpUpnnjx9TtmJFbYeTbt24fh37mtW1HYb4QTSrW5vm/Yd80zkuXLzIxIH9Uigikd6N6duLsj+31XYY6Vps+UySv0ITNgXy0bJBPR7cu0fVGjW/+jx9u3XBwsyMK7u2plxwIl1pVLM6vdu2ovXgkQzq05t1W7ZqO6R0r3GjRiyaMIZGUjcQiXj03I0eXbtw8NgJdD29fShWqKC2YxI/iOKFC+Hp7a3tMNK96OhocuW0xFzW1xQaKl20CC9eenz18VFRUeTLZZ2CEYn0rkCe3Lz0+PrvnNBMWGgoBfLINDZCcwXy5MLfz++rj/8YEkL+3PI8EJorkDs3AR/8tR1GuvbKy4v8ueVZIDSX2yonCoXiq49/+cqTkjZfP4W0yFjy586FQqEgWkYgfTfhoWGUKmKj7TDED6R0URv83r/76uMD/P25fP0GOxY5pmBUIj0yMTZm99IF7D14CL/377UdTrp25vhRmtWuKclfkaTihQsxokdXpk/8Bd2Ib6gUiIxJoYjUdggZgqGBgbZDED8QQwMDdHS+/ngdHR309fRTLiCR7mXS10dXV1fbYaR7Ojo6ZNKXa1NoziBTpm9qgNXR0ZGp3USyZMqkT2Sk1A++J319fbkuRbJ8a9lBX09f6qMiWTIbGUkC+HvS+fbrWmQsMW1EX99I5PfOl2Z1aslMVEIjObJno0H1qrx0c9N2KOnaiWPHqF+tirbDED+IBtWrsnX3XqTlVgghhBBCCCGEEEIIIYQQhH4MpXD+vNoOQ/xAihYoQECAzAr0Pbm/9KBAntzaDkP8IMxNTdHT1ZUEsBBCCCGEEEIIIYQQQgghQE9P95tGEIuMR2aSSg3RGBkaajsI8QMxMc4sCWAhhBBCCCGEEEIIIYQQQgghhEgvJAEshBBCCCGEEEIIIYQQQgghhBDphCSAhRBCCCGEEEIIIYQQQgghhBAinZAEsBDih/TOz5+oqCjla/+AACIiIrQYkRBCCCGEEEKItMrD25vgkBBth5GmSL1aiOSRa0YIIcSPRBLAanh4exMaFqbtMFLNx9BQgoI/V4LCwyP4EBioxYhEcjx54c6qHbvibT99+RpbDxzWQkSpo1Lrjvx99R8A/D58IG/NBjx76aHlqER6EBkZyTP3jPVdkkqsEN8mIDCIsLBw5evgkBBCPn7UYkQirZHviBA/PoVCgd+HD8rX0dHR+L7302JEadOZq/8waeEyBkyZydQlK/jn1m1th6TUYsAwzly7ru0w0hSpV4uvFRYWzrx1G3nv/0Fl+4Onz1m0cQsfQ0O1FNn3JdfMjy04JAQPb29th5GmSF5AiPRNP6kd7j9+wpGzF3jp5Y1J5szUqFSB1o3qo6enlxrxpYpn7h7sPHqc67fv8N+9+4SGhXF220bsKpTTdmipYu+JU6zb/Sc39sckEWeuWMNzDw/2LF+k5ciEJlyePGXO6vUM69FVue3EhUv0+mUKZ7b+rsXIvq9540fTd+I0CuTOjbuXF0O6daaETWFth5UhBAWHxOt0UK5kcZrWqaWliL7dtZu3OXDqDP+7e4/brg8xN82C+6W/yZQpk7ZDSxWVWndk3a/TaVK7Jn4fPpCvVkOcDu2VayoD833vx8Y/DzC2X69418G9R4+54XwXh07ttRRd2jPiV0esLXMwb/xooqOjadxnIN1b/cygrp20HVq6sGX/IV77vkvw/YmD+qdiNF9HviMivXnywp3TV66p1EEgphOq99u39G7XWkuRfT+ePq8pYd8CnxsXyWpmxpmr1+k5fhI+Ny5pO7Q0ITgkhHZDR+N034VOzZpQKF8eXnp507z/UFo3qs/G32alq3ak9ELq1eJrfQwLZdKiZbRuVJ/sWc0BeOH5ika9HZg1YiiZjYy0HOH3IddM0tJyLuHMtevMXLEG52MHtB1KmiF5ASHSt0QTwJMXLWfx5q20a9yI0kWL8CEwkIkLl+K4biN/bVpDTguL1Irzuzly9jzdx06kc/Om9O/YjlUzplA4f150dHS0HVqq6disMdsOHqFYw+ZkMTYmKCSEw2tXaDss8ZWu/HeT7mMncXDNMiqULqntcL6bzj83pUNTe96+9yObmRmGhgbaDinDePLCncmLl9OzTUsArt++Q63KFX/YBPDEhUvZvO8QA7t0YPqwwZQrWQyrHDm0HVaqkkqs+JKPry+TFi1jWI+u8RLAN++7snjTNkkAxzHeoQ+tBg7n7LUb+AcEUChfXuU9Uny75dv+ILOhEcULF1TZ/va9H39dvPxDJICT+x1RKBTMXbOBGSOGpGKUQmguI3ZCLZg3D0O7d6F009bkz5WLF69esWL6JG2HlWaMn7+YR24vcDl5WKUsPWXwAKp16M7iTdv4ZUBfLUYo1JF6tUgpPm99adizP0O6daJfx7baDue7kWsmcRkhl5DeSF5AiORRKBQEBgeTzTym81N0dDTv/PzJkT2bliNTL8EpoP/86xQLN27hwh+b2bV0AVOGDGDBhLG4nDxCjmxZ6f3L1NSM87sIDgmh78RprJ01jd9/m0W7Jo2wKZAvQyV/AYwzZ+bCzi04HdrL31s38PjsCUoVtdF2WOIr3HZ5QKtBw/l97kzq2VVRbl+3ay+LNm5h1oo15KlRH9NyVWg5cJjKtCfrdu1l0sJlKufbsGcfJexbcNXpFi5PnlLCvoXan9gpDF2fPKNRLwdMy1WhhH0Llm3ZQXR0NAC3XFzpNGIch/4+S6kmLTH5yZbKrTtx+X9Oyt93y8WVBj36qcTg7PqQko1bsGTzNuW2vhOncejvs+jp6WFtmQNDQwP6T5pOCfsWhIfHn7bW5clT7Hs7YFW1Dmblq2LXvivnr/+rcr4t+w+pHOPm4alyvqDgEEbNmUepJi3JVrE6FVq25/j5z739b7m4UqlVR+Vr7zdvqd6hu3LKs+joaOav30SR+k0xLlOZn5q1Yfexv1R+Z9+J05SfaakmLanVuSczlq9Oc1Pxenj7kNfaiq0L5rJ1wVyV79qP5vptZ1Zu38XVvdv5dfRw7GtVz3DJX4ipxHpcOcuhtctxu3CaBRPGajskIX4opYsW4en5k5zctJbbR/dzZtvvGGfOrO2w0pVebVsqnzuxP9OGDtR2WBpL7nfkitMtTl6+mooRCvFtYjuh7lu5JF13Ql08eTzPzp/k0NrleF49R8dmTbQdUpoQEBjE5n2HmDVyaLyydN5c1swYMZjFm7Yp64YAIR8/qtQp49alvqxbxRr720KVeuGHwEAGTJmJtV0dTMtVoX73vty876JyTFhYOLNWrMG2TSfuP37KoGmz6TRiHHcfPlLZ79FzNzqPHEehuo3JYVuTRr0cePTcTfn+ul17GTx9tvL1xX//o2anHrx9955KrTqqrSdf/Pc/jeLUtK6syWdSpmlrXJ48jbcfwN4TJ+k8cpzydXLr1UIkxD8ggMZ9BtC8Xm0mDx6g3J5S7UBJXWOJtUUB/NSsDU737lOna29MfrKlcL0mrNu1V+V3lmnamlc+r5Wvg0NCqN6hu1wzyZARcgnpkeQFxLc4988Njp69EG/7xj8PqLS9pyeePq/JVa0e/gEBAJy5ep0yzdLu7EcJJoCXbt5Bj9YtqF6xgsp2A4NMrJwxmZOXrsQrVC7YsFnlQRw3oaKuEPpl4RPg+PlLVGrVEZOfbClQuxHTlq5EoVAo308qQfJlofxLtTr35KrTLQBOXb6GkaEh3Vr9zKPnblz89z+1a/gkFZMmyTVNzlO3Wx9l4SXWks3bGPvbQpW/P6lEVXI+g7gFLTPTLOTInk1twk2kfY/dXtCk7yDmjhlJ+6b2Ku/5+vkzc8Uagj9+5ObhP7l34hAREQo6jxyvso/327fK157ePkxdspLA4GCCQkKwyZ+P/auWsH/VEvJY5aR+tSrK10aGhoR8/Eij3g7UrWqL+6Uz7Fwyj2Vbd7B5X8z3NeRjKEfOnmfDnv0cWbeSFxdP07hWdX4eMJR3fv7KfeKunRIZGYnDlBmEhUfw5t175faXXt58CAxSvj569gLnb/yPR8/diIr+vI5prDxWOenXoS13TxzA69oF+nVoS4sBw5Rrfb/08uadv7/KMWHh4SrnM85sRIHcuTm4ehkvL5+hT7vWdBk9XrlORsjHUB65xTQQBAYF06z/YDo1b6K8hy7bsoPf9+5n+6Lf8PrnPL+OHsaQGXM4ffmayt/VrE4t9ixbyM7F85k0qD97T5xiyebtif/jp7JbNf/W1QAAIABJREFUrg8oWSTh0aHrdu1V3qdLNm5B1XZdGDh1Fq98XnP22nXs2nclMjJS5Zh56zYyYMpMlm7eTtshI1XWo52wYAlDZvwa87tdXFWeM+VbtKP9sNFcv+2s3F/dfTLWl/fLXUf/olXDehQpkJ//7t7n+m3neGsyapK816RCmVTDz/6Tf9N+2GiVY8LDIyhh3wI3D0/l3y8NP+JH8OV1uGDDZnqNn0xUVFSqNQR9CAykz4SpWFSuQd6aDRg8fbbK2kYp1RAUtwOVpUV2TLOYqHSgEqlr2ZYd2LbphEXlGtjUb4Ljus8jEbXVwJ7c78iBU2foNGIcdx48Un6vA4OCk/9hCJFKEuqE2nfiNI6du0j3sRPJWqEaOavUZvis31TKF7HlkLjilkO27D+k9l4ft8x05Ox5yjZvi2m5Kti26cTZOGu8pmQn1NhngpGhIdaWOQgNC4v3TMiobrq4EhYeTuNa1dW+37C6HW/eveOx2wvltjfv3vPspQfnd2xi+dSJyroUqNat4nr1+rVKvbDnuMl4+rzm6t4dPD9/isa1atCgR3/evItZNuBjaCjVO3bnposr6+fMoFQRG2aOGEIt24rU696Xvy5eVp7LyNCQhjWqcXXPdh6fOUFOi+wMnPa5XcXXzx8Pbx8gZnrTrqN/YeHEsVhaZOePxfPYv2oJrRvVx9TEWFlPrlS6lEZxalpX1uQzefjcLcG1V/0+BPDilZfydXLr1UKoExIaSvP+QyhVxIZlUyeqvpdC7UCJXWNJtUUBPHj2nF7jp/Db2JG8unaO38aOZPTcBZz5tJYvxFw7EXHaaKcuXYmPr69cM8mQVnMJAP8636XtkJEMnDqb+4+fUrVdF+av3xRvv6TqEgkN/EiqvKLpoBBNyk2SFxBpybHzF9l17ITKtkkLl7Fi204qptNOoXFnBarWvhu9fpmcpmcFUpsADg+PwOm+S4KF96IFC1AgT+54DRauT5/RqmE9Lu7cQr5c1ioJFXWF0C8Lnzfvu9Bl9HjG9e+N59WzHFyzjMNnzjNt6SrlPkklSOIWytV58sKdoJCYxr/brg+wyZ+PPhOm0rz/EKYsXk7BuvZs+vNgsmLSJLmmyXmeur9UaZiEmErRq9efGx41SVQl5zPQNOEm0jZFZCTN+g2mSe0aDO6mfi05c1NT5o0fjbVlDgrmzcMmx9n8e+cet1xc1e4/dOZcRvTqRo5sWYGYCnGZYkUpU6wopiYm5LSwUL7W1dVl28Gj5LHKyZQhA8ie1ZxKZUozqncP1u3+3JgeFh7OsqkTKFqwAJYW2Zk7diT5rK3ZduiI2hhWbNuJuakpLerXSfBvDwwKZtisuSyd8kuC+2Q1M6NT86ZY5chBFhNj6ttVJSw8PMGKsTq6urqM7tuTEjaFMc1iwrAeXQkNC+ep+0uV/SIiImg/fDT2Naszsnd35fbf1v3OwoljqV6xAlnNzGjdqAFj+vZk9qq1KsfntrKkfKkSVChdkmZ1a1O9YnnequmYok2X/+dEnSqVE3zf18+fnBbZ2bNsIbuXLmThhLH4vPWl/+QZ1KpciWcvPTh56fOopujoaNbs3EMt24oM6tqRR89fKAuaZ67+w6Z9B5k8yAGIuWe99PJmz7KF7Fm2kA1zZlK8UEGa9Bmk7Aik7j4Z68v75W3XB5ibZqFah24MmjabAVNmUaRBM/53557yGE2S95pUKJNq+PEPDOSF5+dnIkBUdBSPnrsRFh6u/Pul4Uf8COJehzsOH2XTvoMsmjgOXV3dVGkIAuj9y1Q+BAbifGw/1/f9gZvHKwZP/1V5zpRqCEqqA5VIXRbZzFk5fTJuF06zbcFvzF65TtkpQFsN7Mn9jjStU5MJA/tSumgRru7ZztU928liYvx1H4gQ31linVBfennTc/xkmtWphdvFUxzbsIoTFy8za+UalX0SK4e0bFBPeX/3evOGCQP6sn/VEuaPHwPENFz2GDeJOaOH43n1HJMGOdBy4HAePnsOpGwnVE2eCRnVm3fvMDQwSHAmHascMVN+xl3P/an7SwrkzkVuq5xYZDNP9u+8//gJJy9fYeuCORQpkB9Li+xMGNiPSmVKsXzrHwBsPXAEv4AADqxaSsXSpdDV1cHaMgfDenRl1sihjJjtqDxfgTy56d+xHXmsrcie1ZyBnTvg7Pow3u/19PahxYBhrP91BtUqlAegZJHClClWFOscOTAxNv5cb85iolGckPy6ckrTpF4thDqDp//Km3fv2bbgN7UzKqZEO1Bi15gmbVEAI3p1o0almPaYzj83pU/71qzcsUttDE737rP3xCmmxBnN/CW5ZlSl5VzCrqMnaO4whJ/r1WHu2BGUtCnMsqkTOPvPDRr1clBJAidVl0ho4EdS5RVNB4VoUm6SvIBIyxZt3MLu439xavM6spqZaTuc7+ZHmhVI7RrAfgEfUCgU5M+dK8EDrXJYqBTeIaYA37C6XcwIIoNMCRyZMMd1G+nbvg1dWjQDoJK5OWtmTaVRLwemDBmgbPiITZAAVKAk+0+d+aoEic9bX67fvoNDp3ZsXTAXgEN/n6Xr6Ak0q1uLXDktNY4pNrmmqxuTU9/kOJv8tRtxy8WViqVLaXwebYstaFWvWF7boYhk0NfTY9qwQQydOYch3TpTtXzZePuUKFxI+f0EyG2Vk7zWVjx6/oKKnxrLY+0/+TfPXnqwf9US9hw/qVEM9x4/5u17P5Xe+J4+r1UKEvr6+hQtWEDlONuyZXj0/EW887m/8sJx3Uau79vJ0i0Jj4CdtGgZTevUosYXPQy/FBAYxC8LluAfEIDTPRc2z/tVOVc/wNFzF/GMM8rL70NAvHNcu3mb01eu8dLLm4CgIKKjo5WjiGM5TJmJZfbszBv/+XPweeuL73s/bH8qo7KvXfmyLNy4RWXbgVNneeruQVRUFK9ev8HUxBjHcSMT/dtSU8jHj9xwvovjuFGJ7meWxUR5nwZ48cqLFdt2YmhoQK82rdi8/yA/f6rQXfqfE/6BgbRr3IjMRkbsWrqA2l16YVe+HH0nTmf9rzPIm8taeS5dXR2Vc1tb5mDe+k2EhIZinil5zx6ftzGNdkfWraBSmdIAjPzVkQFTZ+J87AAQk7zfMGeGshdr60YNuPfoCbNXraVx7RrKc8VWKCFmSuXL/zmxcscuGtWsrmz48bx6TrnmzYSB/fj76j8s3/oHc8emjX/j2ErsyhmTaT1ohLbDEenA2WvXmbJ4BZd2bcXSIrtye9yGIIC5Y0dy+Mx5th06wpi+veKdR135JHYmgrgNQbEePH3OiYuXePu/K5ibmgIxa11XbNWBtbOnKctdiV23X4ptCPp11HB+/3N/gn9zbAeqfSdPa/w5iZTTo/XndXVrVq5ItQrlcHZ9SN2qtkDyv3vfQ1LfEePMmTHJnBl9fb00u46QEKBZJ9QmtWvQtWVzAKqWL8u88aNwmDyTOWNGxEsUqCuHWGTLisWnDqm6OroUypdX5X4/f/1mBnXpSMuG9QBo27gh9oeqs2nfQRZOjBkhlBLPnC9p+kzIKIwMDYmKjiI6OjrBBFDsfrGu3bytfAarEx4Rwag581S23XZ9SMG8eQC4//gp+XPlireepF35stx7/ASAf245U7eqLZnU1BGa1K7J8Fm/4fX6DbmtchIREcGRsxf47959PH1e8+r1m3h1vYCgYJr1H8LkwQ60aFA3kU/kM03iBM3qykl9JrEc123EMnt2DDJlomDe3HRt0Rxry8SXudG0Xi3El8b268XAqbPZsHefyrrwsb5HO1BcmrRFAZQqojqlbZWyP3Hun/jTkyoUChymzGTxpPFk0lfbbA7INfOltJpLMM5sxFjHhcwfP4a+Hdpy+Mw59PR0qVahPMc2rKJIg2bsOX6S7q1bAEnXJUD9wI+kyiuatislp9z0PUheQHyLTX8eZMGGLVzdu53cVjmV2/tOnEabRg3Y+9cpjp+/hEGmTHRq3oTFk8Zj8Om67ztxGi3q16GNfUPlcf0nTefqzdvcPX6QnUePM3/D5ni/s0yxIuxftRSImRVo2tJVuHl6UqJwIRzHjaJhjWpATKfR+es30/nnJkxZsgL3V96UtCnMksnjqf1pkNMtF1fGz1vMuR2blOd3dn1Il9HjcejUXllvKNO0Nae3rCePtRXWloYEh4TQqNcA8ue2Zs/yRSn8qX47tU+y2EJ5VFS0ureBmAJ83MJ7WFg4TvdcqLEo4Qffks3byRmn8e/eoycq799//JTWDeurbKtarizhERE8fvE5SZVUguTeoycMmjYbHR3Ibm5OjUoVaFa3drx4FJGRdG/1s8rNvY19Q0yMM3PD+Q5t7BtqHFNSyTVNzpPd3Fylh07Ix488ePqczEaGKsdpkqjS9DOI62sKWiLt6NW2FW/fv+fnAUO5tncHxQoVVHk/7vonsfT19FBEqk534h8QwKi589m/conainJCwsLDKV6oIL3bqs55r6+vl+wYIKYX6bj+vbEpkC/B33n9tjOHz57n/l+HUCgiE9wvNo4yxYoQHPIRXz9/dhw+RsdmjZX3MVMTE6zj9FjX09VTOX703PkcP3+JXwb0pUntGmQ1NeNEnCnDYuno6PDa9x0KhUL5+cX2WNT/ovKgr6+PQhGp0lBibZmDMsWKEB0djWX2bOw/dYaz127QrdXPif59qeXouYvkyJaVKuV+SnS/2HsQwHv/D7z/8IE1s2LWexnQuT0/NW/Dm3fvyGlhwc4jx+nYtLFyLcRyJYszc8QQ6nXvS682LWnXpJHKucPCI5Tn/hgaynMPT7bMn6NM8sDn54Seri5WOSxo3ag+ZUsUjxenIjKSuWNGKJO/AP07tmPFtp34ffhAWHiExsn7xCqUmjT8ZDc3x/vtWxQKhfK74nRPdQ0zkIYfkba89//Ahj37lK9bNKhL6aJFALjz4DFLt+zg+IbVFMqXV+W41GgIMsiUiX6Tpiu3hYWHEx0dzXMPD+X9IKUbgr6mA5VIWc/cPdh/6m+ee3jyzt8f16fPsI+T0Nd2A/u3fEdW7dilnC2oXMniNK1TK1nHC5HSNOmEqu4+GxAUhM9bX3LltFR572vKIfceP8bN01Ol4f/e48fo6n5uJE3pZ46mz4SMpGiBAkREKHjywj1ePRRiRnjp6OhQrNDnf4eDf59l8mCHBM+po6OjUj8DMDI0UP7/x9DQePUriPn3jp0GUxGpwDizkdrzG3yqq0UoFISFhVO3Wx9MjDMzsHMHOjS159lLD27cvqMmLlTaY5KiSZygWV05qc8klk3+fOTPnYuw8HAu3PgfSzfv4MHpownGmJx6tRBfKlu8GEfXr6Rpv0FYWVjQoVljlfdTuh3oS5q0RamLI6EYFm/aRi5LS7q0aMb+k3+r/Z1yzcSXVnMJ5llM8XnrS6Oa1dTGXLeqLZf/u6lMACdVlwD1Az8Sk5xBIZqUmyQvINKiA6fOMNZxIWe2/R6vLBg7un31zCmsnD6Jx27udBn9C2ZZTJQDYhKaFcjNw1M5K5Bt2ZhrqHrH7iyfOhHbsmXIbBhTzoudFeiPRfOoU7Uy5/75l5YDh3PryJ+UsCmsnBUoICiII+tWktXUlGVbd/DzgKG4XTiNRbas3zwrUFqdRVFtbcXc1JScFha4PHmqtkdmREQET91fUqJwIeW2ExcvUyhfnngNfHFZZM2qUlh1f+VNcJy1FtUVjHV1ddDV1VUpGCeVIDE1MVG+/9r3Hb1+mcLUIQNVpmONjeflF+v0AmQzMyPg0zpbmsaUVIFGk/MM79mVMb8t4MKN//ExLBTXp88wy5KF4oUKqhyXVKIqOZ9BXF9T0BJpy7j+fXjz7j2N+wzknz//UGlUefbSQyXR6PfhAx4+Ptjk//zvra+nxy/zl9CmUQPsKpRL1u8uXqgQ9x49UY7qVCcyMpIXnq8oHOd33nn4iDb2DVRi2HX0BN5v3zKmb88EzxUdHY3D5JksnzqRrGZmatfvjss4c2Zlb9RfBvSlSIOmHDl7nk7NmwJQz86Wcf37KPd/+Oy5chri8PAI1uzcw6nN65Xrmr19917t+qi/z51Jq0Ej6D1hKn8snoeOjg55ra2U03/FbRi++/AxRQvmV+nFV6NSeZVes8UKFWT+hs1pJgG869gJurZsnmTPw9h7EEBAUBBHz11kx+FjVCn3E8UKFaRahfL8ceQ4Q7t1Yf+pMxz/fbXK8eEREejoxPz3S7q6Ospzh4aFERQSwu9799PWvqFyVF/scyIyMorHbi+o0rYLV/duJ4ux6mwLFlmzxpt+M/unkeEBQcHKtYg1Sd4nVqHUpOHHvmZ1zLKYYNu2M6WK2PDo+QtM1cwOIQ0/IjXENmiHhoXFm6UkNCxM2Wga/qlMGOvLdUrDIyLUztKSGg1B5qam8RqCBnbuSIE8uROM41sagr62A5VIOQdPn6XPhKlMHNSPTs2bkNMiu8q036DdBvZv/Y64ebziQ2AgQLzEmRDaktxOqPp6MXXXL++1X1sOCQsPp3nd2tSp8nlkTu+2rZVTDquLITaOr33maPJMyGhKFbWhhE0hNuzZz6JJ8ddE3vjnQRrWsFNOBXjt5m1evX5D64YN4u0bK5O+PhMH9VfZ5vzg85TMJW0K4/7Ki8CgYEyzmCi33334mOKFCwJQsXQp/jhyTO35/7nljEW2rOTLZc2V/25yy9WVD7dvKJMTbh6v4h1jlsWEvcsXUb1jd3LntGRgl/hrxn9JkzhBs7pyUp9JrI7NGlP5U6JhTN9eZClbJcF165NbrxZCnVq2ldi9dCFdRo/H0iK7ymjJlGwHUkeTtiiIGWlaO85SVncePlJpD4OYBMTiTdv479CeBM8j14x6aTWXEPusT6jDlkGmTMpEjiZ1CVA/8CMxyRkUokm5SfICIq15+NyNrmN+Yd3s6cok7ZdkViDtSbC7ahv7Bmz88wD9O7ZTGdkKsPv4STLpZ6JB9arKbWt37aVfh7aJ/rJebVsqC6EQsyj51oOf13woaVOY+4+fAE2V21yePCMqKkqlx25SCZKCeXOrvG9qYsKpy1fj3eRsy5Zhz4mTREVFKf/GsLBwvN68VRYCNI0pqeSaJudx6NSempUqctv1AZbZs2FXvhxz127ghadqxSOxRFUsTT8D+LaClkh7FkwYy9v3fjTtN4jLu7ZhZpoFiCnIrv5jN8N6dEWhUDB+3mKK5M+PXfnPid7brg/x9fPj/l+Hk/17e7drxW9rf2feuo2M698bfX19fN/74e7lpTK6ctqyVWx2/BVDQwO2HjjM3UePObhmmfL98IgIxs1bxNH1K9UmzGKt2bmHIgXyxxsdqs6dB4/IkS0reaytgJi1yt6+94vXuJuQTJn0MciUiWcvPahnV4XQsDDGzVsU794IMQW4fSsXU79HP8Y5LmLx5PFkypQJh47tmbx4OWVLFCOnhQUPnz1n0catzB41VO3vjI6O5pXPa/af+puiBfNrFOf39vDZc05fucayKROS3PfLe1C3lj9TsI49s0YOVa6ptfD3Ldjkz4dl9mwqFYSb911wXLeRy7u20WnkOHYf+0s5nQ/EFNy/nFqqUN3G/H31H9o2jpkq5MvnxHMPT8798y+tPhUEYtmWLcOV/24ytHsXlX0NDDKR19qKqKgojZP3iVUoNWn4yWJizO2j+zl77QYhoR8pXbQINvnzkbl0JZWYpeFHpIb8uXNhYJCJm/ddVaakArh531V5X7K2zMFGx9lqz1GuZDH6dWxL+2GjObV5nUoZMDUagnz9/KhZuUKi686kVEPQt3SgEiln5fadjOrTg0mDPo8oe+//QWUfbTWwJ/c7oqOjE68BaPHk8UkeJ4Q2JNYJNW4nIYi53gwNDMhjZaXc9i3lkOKFCqGjo5NqnVA1eSZkVMunTqLFwKFYZDNnaLcumJlmwe/DB5Zs3s7+U3/zz58x690qFApGz53P1CED0dPTRaFQEBkZpXwvsTpgXFXLl6V00SKM+W0Ba2ZNJVOmTBw9e4FTl69y53jMUi79O7Zl5fadjHNcxMwRQ5TH/nPrNuPnLWbK4AHo6upinDkzCkUkL728KVaoIF6v36idZhBiOuCc3rKe2l16kdMiu8pUhV8bZ6yk6srJFRYWztFzF1BEKiiYNze3XR/E2yc59WohEtOiQV1WzZhCm8EjubRri8oMXCnVDqSOpm1Ry7b+QdM6Mcv93XZ5wMY/D7Lu12kq5xrruJDJgx1UOox+Sa6ZhKXFXIJZFhPMTU25fvuOsr0oVnR0NDec7zCwc0xnHk3qEqB+4EdikjMoRJNyk+QFRFpTonAhKpUpxbz1m2hRv67aZYxkViDtiZ+9+GTG8MG89PKm25gJeHwaJRseHsGuoyeUi9ybfBpJdfTsBR48e86ATh1QKBQoFAqio2OmfYgdPaWJod27sG73n9y8HzPl5YfAQMY6LqRH6xbKDH9c0dHReHr7JJggiY6OxsPbm9NXrqn0rIzVqmE99PX0mLliDZGRMT1uZq1cS5EC+aj2qWFG05hik2uA2uSapucpWaQwXVs2p1HN6ipJgq+V1GcAnwtav8+dmeyClkibNv42iwK5c9N68Ajl6MJWDetz7p9/yVaxOlkrVuPqzdvsXDJfpVB2y8WVVTOmfNV3L6eFBYfXrWDrwSOYlLUle6XqFKhjrzKVZm6rnBQpkB8ruzrksK3JmN8WsNnxV/Ll+rxGiIe3D11+bqZSwFPnsZs7q2dO0Si2264PKNmkJTmr1KZgHXuqdejGLw59qROnV2pidHR0WDFtEqPmzKNA7Ubkq9WQKuV+okpZ9dMgG2fOzInf13Di4mUWfZrO5bexI6lUphQFattjbVeHym060btdK3q3Ux2dNn7eYnSKlEG36E9UaNUBY6PMrJ45VaM4v6f3/h+YsXwNTWrVxCBTJjy9fZQ/wSEfCQkNxev1G7XH+gcEsHn/IXJkz0ZWs5hpmtvaN8TDx4dlW3bQu10r5b7BISF0HT2BOWOGY1ehHFsXzGXozDm4v/JSe+7QsDCOnr2A15s38ZI2ENPgd9vlAc4PHqq9Bw7p1olj5y9x/PwlAIKCQ5i9ah0OHdujp6enkrx/8y5mrZrY5P2o3j1UzrVs6x94v3kLoKxQxlZm4jb8RHwa1Rzb8BM3+WxkaMjP9evQsVkT5TS63yosLJz9J/9WNvyoI5VY8aXMRkb079COEb868q/zXaKjowkLC2fL/kPsOHws3vc/IXWr2rJ21jRaDBgWrzI7bdkqwsJi1gSMbQjq8WnqLfi28olt2TJULlOa/pNn4B8QMyVWaFgYl/79T2W/xK7bWJo0BN12fcjpK9f4LY2s551RGWfOzPOXnsrE6dqde3nk9iLefkl995JLk/tscr8jeaysePLCHb8P8RudhEiLFkwYS92qtjTtN4iAONO3Hfz7LP863wXgnZ8/05etpk/71ip1kG8ph4zq3YM1O/dw+vI15ban7i95/sXajyn1zNHkmZBR2deqzslN6zj09zmyV66BeXk7clatw7Wbt7mye7tylEbrwSP47+59Rs+dT6YS5clUojx27bsSHPKRTCXKa9wBQEdHh8Nrl/PcwxOz8nZYVK7B4Bm/smORo3IkejZzc/53cA8e3j7kr90Q16fP6DZmIv0mTcdx3EhGf2roti1bBodO7SnbvC0FajeiRqcezBkzPN4UsrGKFSrI0fWrcJgykyv/3fzmOEGzurKmbNt0RqdIGcwr2DF71Tp2LVmAVQKdn5NTrxYiKb3btWbyYAea9husrMOnZDuQOpq0RQH0bNOCiq06YG1XB7sOXenbvg0dmzVR2UdHR4cRvbol+vvkmklYWswlZMqUiWnDBjLWcaHKtP6BQcGMmjOPoOAQZZuUpnWJ2IEfz156MM4x6fU+k9OupEm5KTkkLyBSy4Y5MylpU5ifBwwlJM4o/VjJnRVo/i+aTbEeKyw8nDpVKtO7bWvlz/Kpk1Q6dHzPWYHSsgSv6lw5Lfnnzz8Y89tCijRohqGBAR9DwyhaMD+bHX+lfVN7IGaYc6tBwwEwr2Cnco6/Ll7mpZc3qzR8MLZoUJdZI4di33sA+nr6fAgMpHm92iyfNlFlv/HzFjN+3mIAcmTPRn27qir7nLhwGZ0iZZTv29esrtLbM1ZmIyOObVhF19ETWLJ5G7q6uhQvVJC9yxeh9+lLqGlMscm1aUtXEaGIIK+1NXuWLVTeoDU9T0rR9DOAmILWmL69vqqgJbSvdaMGtG6kOnWWnp4eR9avVNkWGRXJsQ2r8Q8IIDjko3I0bKypQwcydejAeOe/fzL+aODD61aojaVuVVse/n2M176+KBSR5LTIrjIdSkBQELNGDmXiwH68fe9H7pyWKoWLmpUrEv30frzzfnkPObt9Y7x9cmTPpvZYiKmE9GjdAl8/P6KiorHKYaFSeFJ3vhI2hVXO16d9G7q1/JnX73zJmd0CQ0MDlcRdzcoVCbr7ObFgkS0rD//+PN2YoaEBa2dPZ+mUCbx59x7rHDmUC90nFkdaMWTGr/z51ykAjp67oHafvy5ewf/2dUD1HmSaxYQKpUpybP0q5eduaGhArzatWLplOzsWOSrPMfLXeRTKm0f52dazq0Kfdm3oNmYCl3ZtBSA45KPy3EaGhtjkz8fvc2dRruTnHsaxzwk9PT3yWOVkYJeOtG7UgIfPnqvEXLZEcTbPm02fiVOJjo4m5GMoLerXxXHcKOU+v40dyai58yhQ2x5z0ywEhYQwuk/PeMn72ApldHQ0fgEBDOveVVmhjG346fXLFMzK22Gc2QgjQ8N4DT8pybZNZwAMDQwoWrBAkg0/h9eqv65FxrVk8i9MWLiEBj37oVBEooiMxCZ/PvauWEQt20pJn+CTDs0a8/rdO5r0Gci1P3cAqg1B+vp6REVFqW0I+tryiY6ODruXLaTvxGnksK1FVjNTPgQG8XO9OiqdfxK7buOeK6mGoFsurhxdvypFOu+Jrzd71FBaDxpJrmp1iYwRFOALAAAgAElEQVSKokX9uvEaVTT57mkqOffZ5H5HGteqTsXSpShQx56spqb8e2C3TPss0ryNv82i7ZBRtB48glOb1wMwqEsnBkydic/bd/gFfKC+XdV4HSG+pRxiX6s688aPptvYCcq13k0yG7Nr6XzliN+UfOZo8kzIyOpXq8r/Du4hIDAI/8BALLKaKxv741o6ZQKj+qjen33f+2FZJWZt8y/rVrH2LFdtaM+by5pzOzbxITCQoOAQclvljDcSy9oyB3tXLCIyMpIiDZox/5fR8Z71AOt+nc6iiePwDwggj7UVOjo6KjF8WVeuUu4nfP+7qrJtVJ8e8f4uTePUpK6syWeieBR/3eJYg7p2YlDXTsrXya1XCxFXVjMztd+V8Q59GO8QMzrRw9snxdqBIOFrLKm2KIhpWxjdpydeb96Q3Tz+vUndtdO+qb2y/RvkmklKWs0ljO3XGysLC3r9MgVPn9dEKCIoWNce+5rV+d/BPZibxgxU0KQuESt24EeNTj3IlTOHyohcdTRtV9Kk3KQJyQuI1Kanp8ee5Qtp3GcgHUeM5fDaFSr3epkVSHt09PX1oyMeOie6U2hYGG/evSeLsTHZs5qrvOd07z4NezooG/3jGjZzLqD+oZ2YyMhIvN+8xdzUNNUa0rzfvCWTvr7aIepJxTRn9Xr+vXM30eSaJuf5UegXL4dCEb9nhEg50dHRFM6fD7eLp1PkfHNWr+eG8x2O/74mRc73Na463aJJ34FqK63i27m/8qL7+Mlc+ffrPt/o6GjKlijOvb8OqX2/88hxFCmQnzljRqh9/8btOzTpO0jtsyAh05et4t87dzm9ZcNXxZySFAoF3m/fks3MPN56p7Fin4Xqkvf6xcvx74FdlC9ZIsEKZazEGn5+JLddHjB/83b2HE54vUvx7d76+DBn4jiWT5uktRgiIiLwfutLZkNDLC2yf/P5rjrdomm/QQTe+R8fQ0PVNgSlpA+BgXwIDCJHtqwYZ86s3J6c6/ZHsnjTVopVqkqLdu2/6nj3Z0/ZtGwxs0f9n727Dosq6wM4/qVVQEVBwA7sdg3ETmyxu8XOtbsVV+zEjtUVxVx7rddaXTtARcQAwQAR6Zz3D5wr1xlgRHQQz+d5fB7n1pwZ5t5zfieHpXHKfgyFQoHfm7eYGhtLy2Ao/ejfXlp4F/gefX09zLJlS/lgLZm+bBUNWrelTkMxi8T30rNje6YP6odNgfSxLIimGvbsT9M6NRnTrzf+b99hZGioUp+QVuLi4vB7+xYjQ0PMzcykToc/432fFgrWaYzX8xep/py2lSpydP0qtTOxfasWjkNoaFc9yQbgd/9dTLJe5lvZ1G+K86SxKh2otS0jxMoWVWvx5l1AqkepCcnz83nJynlzWDBuVMoHpyPp5betX7w8V912/lINXAtdNlGhdl3sW7RK1fleDz3Yu3m9bPTc10ivbQmb9+5nyebt3Du6X+3zKrlYIi0kV6/0I8tN38Nk5+W06NIVu9p1tZ2UDKtNU3uWTx5H/txf33n5exk114nX7wKkDmnBISHU6dqbSqVLsdkpYQ3thj37c/XOXc5s30S1CuUIDPpA494DqFq+DGtnT5eOCQ4JIY+lpTTwTFk2jHC/SSYjI+k9s1eszsF1K2TrzZ+6eIW2Q0eyb9UyaRkzrxcv0dXRoXD+fFy6cYtanXvStVVz2ZIEA6fNwuvMMfJZW3Ppxi26jh5PbFwch11WSnnGsJnzMDHOgtO4hFHJ+sXLU7FUCbq1aiGVZ92On8J501auuu36nl/3V8ttVy/pEcCJZTIy+qE/LD09PfJaW/2w9wNS7FGfUpqUQ8izZ82a7Fpz2vhsgiAI6U1oWDgbXN1YP3emtpMCJEzhk9Lor5TyQoVCgZ6eXorXyWZqKvUwFYSfgYGBQZqXA5XlpsyZMn33MmZy95ym963w89DR0UmyIyb82N9eWkiLTheCoE3Ke+57j2BP7ln+s933Gd1vZUqrnS7f0MAA+1o1MPxi1J4gCILw80mvbQmGBgbo6+sl2VklpVjiW2lSrwTfv9wkCN9LNlNTTmx2oUan7kxZvJx5n0awi1mBtOebu71mMzWlYQ1btfu+XNxZEATtqFW5EgW1vE5V/tzWTBjQT6tpEFKvbPFi5LHMleT+bKamsp5XSblx/wFHz13g8JnzVCpdKtmpOQRBEARBEARByFhmjRyqdntWUxNObHH5ru89tHsXihcq9F3fIzVErCxkVOnltz1lyABy50q6PkP4sURbgiBkHMumqi5vamVhztOzJ2TbrHOZc/fI/iRHt3/NFPtJzT45rEdXBnftpHZWIEi7pSk1WTIgPfnmBuCiBQvgtmqp2n1Dunf+1sv/FNJD45ogJKeOBg1z31v+3NZMGzZI28kQUmnKkAHJ7i9pUzjJtaETy5IpM3p6evzetycdm9n/1FMgJyYCSkHQnKgIErQlvfz2BOFX0b11C4oWLKDVNIj7XkhsdDJruWmTiJWFjCq9/LaT6ngiaIc22xLKFi+GY6fULZXzvaWHcpMgfC9iViDtydgL3/wg6aFxTRAE4WdQqmgRShXNeD06RUApCJoTFUGCtqSX354g/Cp6t3PQdhLEfS8IgiAIgqR8yeKUL1lc28lQKz2UmwRByHhEA7AgCIIgCIIgCIIgCIIgCIIgCIIgCGkmPYxu/5VnBRINwIIgCIIgCIIgCIIgCIIgCIIgCIIgpJn0MLr9V54VSDflQwRBEASljyGhREVFS6/DwsMJj4jQYooEQRAEQRAEQRAEQXMirhUEQRAEQcj4RANwOhUbG0tQcLD0WqFQEPA+SIspEn5VNx+4s/PQEW0nI90YMWcBM1asBhLuS/s+A9l+4LCWUyVkZCI/EARB+PVEREYSGhYuvY6OjiE4JESLKRIEQRAyEhHXCpqIiorGad1G3n8Ilm1/6OWN88YtRERGaillgiB8K1HXJAi/BtEAnE75vn6DdfV6fPj4EYB/Lv1LmWbaHy4v/FpCw8JpP+x3spqYaDsp6cY4xz64HT9FZYdOFG3QjMyZMtGzTSttJ0vIwER+IKSWssJm/e69SR5z4sIlnNZt5OkLnx+YMu1atmUHdzweqd13/tp1dh0++oNTJAiqXI+eoGGv/tLrmSvWMHDqLC2mSPjV7D95msOnz6nd5/3Sh0UbthAXF/eDUyUIQloRca2giYioSCY5L+NtYKC07bnvKxr1dsQsazYyZ8qkxdQJgvAtRF2TIPwa0sUawG7HT1G0YAHKlyyu7aSkGwXz5mFo9y6UbupAfmtrnr96xYrpk7SdLOEXs+4vV3LlzEHLBnW1nZR0o3RRG7zOHudd4HsyGRlhamKs7SRlKLNXrmXSoP4YGBhoOynphsgPhNSKiIpk8uLl6Ovr0aC6LUUK5JPtj4+PZ+DUWbwJCKRMsaIq+zOqF35+DJo+m6tuu2TbFQoFA6bMZHjPrlpKmSB81rGZPdv2H6JYw+aYZMlCaHg4B9eu0HayhF+Inp4u3cZMwPvsCSxy5pDtm7d2PR8+hqCnp6el1AmC8K1EXCukxut3ATTs2Z8h3TrRr2NbbSdHEIRvIOqaBOHXkC5GAK/csQv/d++0nYx0Z/HkcTw9e5wDa5fje+kMHZs10XaShF+My197cezUXmV7+2GjKdG4pfTP/YmXbH/X0eNl++37DJD2nb78L836DaZ0k9bS/gY9+iWZBoVCwUKXTdjUb0qWMpUp26wNf/19TOW489euy95z8PTZ0r51u1xlr5Vqde7JpRu3pNcPvbxp1m8w2SrYYl6lJt3HTJT1dF23y5VJi5YBYJEzB6YmxqzfvZcSjVvKriOkTkRkJE4um4iLj9d2UtIdkR8IqaVQKGhc047NbvtV9v1z6V+ymphQIE9uLaRMeyYPcsT9iRd/nzkv23703AUCgoLo276NdhImCIlkyZyZczu3cOOAK6e2rsfz9FFKFS2i7WQJv5DWDetTuqgNTi6bZNsD3gex6/AxxvTrpaWUCT+DP9ZvlsVmW9wOSPvKNHXg1es30uuw8HDsOnSn88ix0jaFQsGCdRuwqd8U47JVKNqgGacv/wtA34nTZNdW/mvWb7AsDYdOn6Vc87aYlq9KlTadpPMhIa5z3riFWSvWkKdGfUzLV6XVwGH4+PurXOO31h0xKVeFvDUbsPDT/ZA4LlRSFxemFF/ecvfgt9YdVb6/MfMXsWTzNtl39mXM7Xr0uOw76ztxmux7TuyZjy8lGrckOjpGJf0irhU09eHjR+z7DKB5vdpMHvy5jueWuwedRozlwKnTlGrSCuOyVajs0IkL/92Qnb9syw6qtOlEzso1KFK/CQvWbZDtd3/iJbtf2g0dJV0/8X3i//Yddh26c+XWbWlbcvc7JEx1W9Je/syYtnSltP/EhUs06uWIlW0d8tSoT+/xU2RLcQhCRiXqmoS0EB8fT/9J0/F++evMLPcz0WoDcGxsLI17O3Lhvxs4Tp5JicYtVQoASill+JoU4FMqpLs/8VIbSJRo3JLwiAgg+UKFJoWeW+4eKo1ddzweUdK+pUoB/9XrN2QyMsLKwpzIqCiVoEgQvicff3+8XrykoZ2tyr4b991ZOH4053duwcf/tcq6LzcfeDCufx/cVi2hf8e20tSi3i99aD1oBM3r1Wa783x2L1vEwM4deJpMBrFsyw42uLqx3Xk+flfOMmf0MIbMmMvJC5dlxz33fYVFDjPO79xCp+ZN8PF/Le0LCPoge6305PkLQsMTCvVh4eE07NWfSqVL8vifI1zfv5vo6BgcBo2UXSdxZxVf/9dMXbKSkLAw6TpC6jx66k2VNp2JiIykfIt2lGjckjNXrqo9NqX8oO/Eafx95jzdx0wke8Xq5Kpam+Gz5ksVHspjDpw6Lbtu/0nTpYqRLW4H1OYF7YeNlo7/1vxA04ojkR8I36pry+ZsO3CY+C86V2zau5++7dsQ9qmMo5RS5UxqKyG/rHwMDQtn1FwnSjVphVklOyq2as+Rs//75s+bEoucORjVuwfTlq1EoVBI25dt3cGAzh0wzpIFSLmCOqXnhCbfgabPAUG1M9f5a9ep2akH7wLfA1C2WRtu3H9Ana69MS5bhcL1mrBul6vsGin9TQdPn632b/rH+s1AQoPE/LXrKVC7ETl+s6N5/yGyIDct8h+QxwtZTU0wz2GmNl4QhO9t3u8jWLNzt+y+WffXHsqXLI5dpYqAZr9pSLnyPXHeEhsbS5dR41ix7U9pvyYdNZN7Rnz4+BHHyTOwsq1D1grVqNiqvXR+cEgIA6bMxMq2Dqblq1K/e19uPnCXfSZN8r7H3s/oPHIsheraY16lJo16OfLY+5kmX3WG4+H1lNYN63F+5xbyWVsR+OGDtO+R9zNiYmOl11OXruR1QADPX/lJ2xZv2sq6XXtYPXMqT04fZcP8WZQvkTBj3Es/f5rVqcXuZYukfz3btMTbx1c6/5a7Bz3GTmLu6OH4XjrDpEGOtBo4nEdPvYGEuG7mijWERURw8+Ae7h89QExMLJ1HjpOucf3eA7qMGs/ALh14ePIwf7usolndWtL5KcWFmsSX4RGRPH6m+ht59eYNbz/9dpXf2Zcxd1DwR9l39tLPX/Y9JxYVHc1j72fEK+I1Tr8gJBYeGUnz/kMoZVOEZVMnyvdFRHLo9FnW73bj0LqVPD9/EvtadrQYMJTAoM+/yZxm2Vg5fTLPzp1k2x/zmb1yHeevXQcS4oKGPftTrFABbh7aw1W3XYzo2U26vvI+CQkNo1n/wXRq3kTKh1K63wHevQ/isfdzXJc747ZqCeVLFMf/7ed7wMjQkJG9uuNx4jAXdm3jxn13nDdt/S7f5a8ipUEamsRAyXUKSKr+/tj5C9L5Hk+e0qiXI6blq1KicUuWbdkhi/80iR+SKz9o2qEppUEtmpQxNBnYklSnIiV1nYtEXZPwLRQKBbfcPTj4z1k27d3PnmMnuXj9JlFR0dpOmpCIVqeA1tfXZ9eSPyjd1IHFk8dS37YamTMZqT1WXYbfu62DlOEHBH3AyWUjQ7p15ubBPURGRTF4+hw6jxzH5T1/SseoK+QaGOgTGh5O5bKlcVu1BICRc5woXrggQ7p1BiCTkZFUqPjT2Yk61Spz5so1Wg0czq1DeyhRpLBU6PkYGsqhdSvJbmrKsq07aDFgKM/OnSSnWXbCIyJljV1xcXE4TplBVHSMSgFfXVCkLLALwvd275EnWU1MKJg3j2x7RGQkfm/f8lvpUlhZmKOjo3ruqzdvqFahLGWKFeWB5+dCzN1Hj8lnbcXQ7l2kbc9fvUo2HfPXbWD93BnSve7QqAH3Hz9h9qq12NeuIR3n9eIlxQsVxMrCHFPjLF/9ebfsO4i5WXbm/j5C2rbZaQ55azbgn0tXaFTTTuWcoTPnMaJXN/YeP/nV7yfIFcmfj43zZ1G9QzfO7tiEkaFhkmtPp5QfvPTzp+e4yayeOYWV0yfh+ewFXUaPJ6uJMfPGjJSOCQ4Jla55+PQ5zl79j2c+vsQr4mnVoB5VypUBwK5jd5ZPnUiVcmXIbJSwxlFa5Acp5UlKIj8QvpV9rRqMWbCIkxcv07ROQsVlYNAHjl+4yJpZU5n/RQOvsnKmlE0R7j32pFEvR6pXrEDdalWA1FdCfln5mCVzJgrkzs3+1cvIY2nJln0H6DJ6HP5XzmOSiuf41xjbvzdrdu5mz7ETdGreFPcnXly8cZNtf8yTjknp3kvpOaHJd6Dpc0CQd+Z64PmErqPHs2/1Umlq2odPvek1bgrr582kdNEinLhwmT4TplIkfz4pD0/pbzppkCNDu3fhsfdz2g8bzf1jCQ345mZmAKzYtpMdB//m4NoVFMiTm8WbttK49wA8ThzG0NAgTfIfQON4QRC+twZ2tthVqsDcNS6snT2dmJgY1u5yZdmUCdIxmvym4XPl++3Dbujp6TJnlYus8j1x3jJo2mxiYmMZ1iNhSn5lQ1qfdg5sdppDRGQkE/5YisOgkVzZ+znWT+4Z0X3MRMLCIzi+aR0WOcy48/AxuXLmBKDn2MnExMZyyXUH2UxM2Ox2gAY9+uN5+oh0jCZ5XyYjIxrWqM7iSePInCkTw2fPZ+C02ZzfueUb/xI/H2VHYisLc4wMk17a5cb9B7gePcGcUcPZsMdN2u7ksom1s6ZJ8V5uy1yy83JbWlChVAnp9QPPJ7L9C102M6hLR1o1rAdAW/uGND5gx6a9+1k0MaFiO5upKU7jRqOrmzAuYtOC2eSv3Yhb7h5UKl2Khes30aedAwM6dwAgn7V1kp9DXVyYmvhSW0RcK6Rk8PQ5vP8QzLk/t6CjphIoKjqaZVMnULRgAQDmjRnJwX/Osu3AIX7vmzBjRA+Hz2tM16xcieoVy3PH4xF1q1Vh6/6D5MyeXda4bFMgv+w9YmJiaD98NI1r2jGyd3dpuyb3u+/rN+TInk1aetAsW1ZiE5UJ69lWlf6fI3s2Ojaz55b7w9R9WQLweZDG3pVLWLvLVdaxSpMYSNkpoFPzJtK0xMrG1vCISF76+XNlz58k1mrgMD6Ghn06JoJGvR0Z0q0zrsudeebrS7uhozE1NpamL9ckfkiu/KBJXU3iQS2lbIpw/tp1+kyYRo5s2aQ8TpMyhiYDW5LqVKT06s0bDAw+NwWJuibhW9x9+JhOI8cSFPyRkjaFAdh/6jTrXd0ICQtjw7yZODRqoOVUCpAO1gA2z2GGjg5kNUno3Z6SpDJ8SLkA/6UvC7mZjIwoU6woAKbGxuTKmVN6DZoVKjQp9CS2YttOspmaYlepQpKfOamgSBC+p4CgD1iouSf/u3sfawsL8lpbqT3vbWAgYeER5FOz/7cypfHxf43zxi3Us62KkaEhL/381Vwlwet3AQS8D6JK2TKy7bYVyrFoo7wi5fLN2/Rs04qkeHh5M2quk2xbSKIpfR54eqm8j4lxFkoXLcJ9zycqAbrb8VM8femD26ol7D5yPMn3FTRjYGBA9qymAOQ0y04mI/WdgRJLLj9oUrsGXVs1B6BahXI4jRuF4+SZzP19hErAGhIaxrBZ81g5YzIOg0ZIachplh0AXR1dCuXL+93zA00qXkR+IKSGnp4uPRxastntgNQAvOPg3zSpXRPzHGayXtCQfOVMWtLV1WV0357S62E9ujJmgTNeL17KKnW/h2ympox37MuM5Wto36Qxy7bsoGPTJuSxslR7vLp7L6XnRGqICtiU+fq/puWAYbjMmUH1ivLy84he3ajxW0JnoM4tmnLh+g1W7tiltpJd3d80f+6Eyv3Y2DgAlb/ngnUb2Ow0h4qlSwIwe9Qw1v21h38uX6F5vTrAt+c/6mgSLwjC9zJ/zEhqdenJeMe+XLl1B0MDA9raN1R7bHK/6ZQq35VmrVjDkxcvObVlvRTXf01DmrpnxAPPJ5y8eIUX/zslNSQqY5kHnk84fuEivpfOSBW6Ewb249SlKyzf+qfUeUMTBfLkpn/HdtLrgZ070GrgcI3PzyiioqK5cd+dGs4Vkz0uNjYWxykzWTxpHAb6n6um3gQEEBj0AduK5VKdhvuenjzz9ZXN3nPf0xNd3c/P4RKFC0m/MUhoZM5rZclj7+dUKl0K9ydetP5U1k9OUnGhpvFldEyMSpx62+ORSkfsJZu3kyvRetz3H8sbvQH2nTiN1wsf9HR1sTTPiUOj+pT7NHL6a9MvCImN6deLgVNns951r9Q5JzF9fX0p7lWqUq4Mj72fS6+fvvDB7cQpvH18CfzwAQ+vpzT+dB+4P/GiWoWyyabBccpMLHLkwGncaNl2Te73Z76+5E+mE0dQcDB7jp3Ew+spr98F8sDzido6LUjo6OTh9TTZtH7J0jwnfX6xZWa+ZpCGuhgopU4Buro6KjGjocHnDkfb9h8mj2UupgxJmK48R/ZsjOrdg3V/ucrWr04ufkiu/PClpOpqNB3Uom2irkn4GuERETR3HELL+nVYMW0SOjo6GJSowIppk7CtWJ4Nrm50HjmOO3+7UaJIYW65e7DQZTOdWzRhypIVvHjlT8kihVkyeRy1q1YGEka5v3jlz4Jxo6T3Wb97L0s2b2fj/FnUrFxJ2n7+2nUGTfs8Ir6ebRXWzp4OgOPkGTx/5cepretl8fdj72e0GzqaId06M6R7woDPExcusXjTNu4/9kRPT49GNaqzasYUaUBC34nTqFW5kuz5/czHl6b9BnPvyH4MDQ0IDQtn6tIVnLp0Bf+3ARTMm5s5o4bTon6d7/DNp47WG4DVuePxiBMXLkmvE48WTCrDh5QL8ImlppCrSaFCk0KP0otXfixYt5F/9+5k6Zbtat8zqaBIEL43HR0d4r9oFADYd/K0NPWVOg88vbCyMCebqanKvvy5rTmzfSMDps5i1sq1WObMSVhEBEaGhmqvpewBp//Fb19fX5/Y2DgUCgU6Ojq8DQzk6p177FyyMMl0GRkaYGVuLtuW+N6NiIwkc6ZMKufp6+vLpq+DhClgRs1biNvKJRgYJN2jXfh2iYMrs2xZGdjl83Q2yeUHpWzk6yRWLVeWj6GhvH4XgHUuC9m+Sc7LaFqnFjUqJV9JlVha5wea5EkiPxC+RZ92bajQqh2BQR/IaZb9U2eFMWqPTa5yRkmTSsjDZ87jm2hKrKDgjyrHXL55m5MXL/PSz5+PoaEoFAoio6JUjnv/IZj1u/dq/HmV2jVppHIfKg3v2ZXl2/5k1Y6/2Hn4KJddd6g97lvuPU2+AyVRAZuyj6FhNOs/hMmDHWnZoK7KfnXP/jNXrqkcl5q/6dvAQN4EBLL6z91sTjS1d0xsrGy0blrnP5rEC4LwPVWrUI6mtWsxd40L7k+eMqJnN/T09NQem9xvOqXKd4DNbge48N9NLrlux8joc3ygaUNaUs8I9yde5M9tpTKKVHnt/NbWUuOvkm2Fctz/YlRpSnlfTEwMh06f4/r9B/i+fsOrN2/V5mkZ3dHzFyiULw+F8uVN9rjFm7ZhbWFBl5bNcDt+Stoe9Sn2MvyGOCsqOprmdWtTp+rnzmu92zpgaf757/xlBzgAfT09YuNipXSklIbk4kJN40sdHR2VODWTkWp8nDN7dtlxL175qyzjYWVhTpliNsTFxeP57DlV23bhkut2TLKob3wRca2gqXLFi3HYZSVN+w3CMmdOOjSzl+1P6X7af/I0fSZMZeKgfnRq3oRcOXMwePoc6dio6JhkZwuAhHvlTUAgsbGxst+rJvf7A08vihcuqPa6Xi9eYtehO23tG9KqQV3yWFqy/cBhlSl5lV4HBOD14mWyaf1SdExMygdlMCkN0lBKKgbSpFNAcu57evLufZCszsb39RuVJeiSix+SKz8kllRs8TWDWjSJr1Ma2AIJ95KyYcwkS0JZqUvLZskOshB1TcLXOnruAh9DQ1k6ZQIGBgYqnTodO7Vn676DbN1/CKdxo9N0lkRIfoaBZ76vuHLrDmf/vUaDRMtart3lirePL2/ff55RSzn9v12lCgQFf6T1oOE4b9rKzBFDgPQ/s52m0uVdHRwSIstMlQUGSDrDh5QLHEqpLeSmRRCR2ODpcxjbvzdFCuRL8j2TCooE4XszN8vOu/fyaQZDQsPYefgIJ7e4JHnehes3kx2hkj+3Nb6vX7NnxWKa1qnFwX/OMGqu+obbvFaWmJoY88DzCVYWn4Pde488KVowv9STZ4PrPhrYVUu2UFYkfz4mDuov27Zs6+fK/pJFCnPknHztyZiYGB49fcaoRKNL9fX0GL9wCW0aNcC2Yvkk309IG4mDqy8r5r4mP9D/VFH55bP439t3OHj6LA+OHZBGfGkiLfMDTfMkkR8I36KkTWEqlSrFn4eOUL1ieT58DFFp1IWUK2eUNKmENDU2lh2jpytvMBg9byFHzv6P8QP60qR2DbKbZuVoojWbEouOifnqihaAsPCIJPdlyZyZKUMGMHreQmr+Vkka1fmlb7n3UvoOlEQFrOZ0dJA1qiem7tmvrgyemr9pVHTCOkadmhaWP+cAACAASURBVDchR7Zs0vbebR0o9WnKq6TSAKnPfzSJFwThe5v7+3CqtOlMJiMj2QjXxFL6TSdX+a6kq6PLx9BQQsLCyJ41q7T9azpqqntGJNeQFxEZqdLZNKlrJ5f3RUVFU7dbH4yzZGZg5w50aNqYpy99uHr7brKfOSNau8uVfh3aJnvMSz9/Fm/axvUDu1X25bWyxMjQkAeeXlh+0TCqqeKFCqGjo5Ps6IunL32kDsWQMALQ5/VriuRPeN7aFMjHA08vOjVXf35KcaGm8aWBvr5KnHrn4SOV6/Vq24rKiRoR1u1yZev+Q7JjavxWQTY609vHlzNXrqkdySziWuFr1aryG38tXUSX0eOwyJlDNjtQXFwcz31fUTj/5/LK3UePadM4YfrPldt3MqpPDyYNcpT2v/8QLP3fpkA+jv/v80AgdTbMm0nrQSPoPWEqfy52ku5dTe73C9dv0i6J2St2HjpCSZvCrJszXdoWuTvpzjsDOneQpoYX1NNkkAYkHwNp0ikgOVHR0RQvVJDebR1k2/X15fFYcvGDJh2BIOnYQtNBLaBZfJ3SwBbl6zLFbAAICQtj6ZYdHD5zngNrl391+gUhKS/8/CiUN0+yHQuKFy7Ec9/Pyz6m5SyJKc0w0LJ+Xdbs3C01AEdERrLz8FFa1q8rOy4tpv/X5sx2mkoXDcA6OjqyB26dalWok8Q0g0ll+JByAR6+rZCrSaEipUKPMg27Dh/F/907fk/0A/lSckGRIHxvFUuVJDQsnEdPvSlRpDAKhYKZK9ZQu0plKpQsIevdExcXj0KhICw8gq37DqodkanUf/IMWtavK01DmhwDAwMcO7Zn8uLllCtRjFw5c/LoqTfOG7cye9RQIKFH0KINWzi9fYOUpvh4BQpFwv2Y1AiFL/VwaMn8dRvYuu8gvds5EB8fz7Rlq8hqYkyLep/v+dsejwgICuLBsYMaXVfQnPLZnTg/SC64Si4/+LKh6O6jxxgZGpLH8vP0rgqFAsfJM1k+dSLZs2Yl4H2QxmlNy/xAkzxJ5AdCWujboQ2rduzCw+spfdo7yGZNUUqpckZJk0rIerZVGNu/j/T60VNvlmzeBkB0dAxrdu7mxGYXqdD9LvC9SmW7kpWFORsXzFa771s0qVWTYTHzmPRFxavSt957yX0HSqICVnNZTYxxXe6MXcfu5M5lIZsVAhKe/coppCDhmZs4DoDU/03zWllhnCUz5mbZaVa3dpLHpVX+o2m8IAg/QumiNlhZmNOtVXNMTYxV9mvym06u8l2pd7vW5LHKRZM+g7jkuh2zT50tNG1IS+oZYVMgHy9e+RMSGqaS/pJFCvPilZ/KvnuPPFUarJPL+67eucstDw+Cb1+VKsOe+bziV3P49DkePvVm36qlUmymUCTEZ/Hx8VLZY8yCRUwe7EiBPLlVrqGrq4tjp4QY8NCn315wSAgRkVGyTsHJGdW7B22HjqRBdVtpik2vFy/R1dGRyuYv/fxZ/edfDOvRldjYWMY5LcYmf35sKyTkxQM7d2TgtFm0alCPKuXKEBMTg4//a+n8lOJCTePL7yEuLo57jzy58/ARA7uoj6VEXCukRssGdVk1YwptBo/kf7u2yKYYn7ZsFZsXzMHIyJCt+w5y77En+9csAxI6Xnq/9JXqbNfudOXxs+fSuT0dWjF39Xq27jtIr7at0dHR4bH3M4oXLiQdo6+vz96Vi6nfox9jFzizePI4IOX7/e7Dx1y9fZcdzvPVfqYsmTPj//Yd4RERZMmcmWt37rHr72NUK5/60ae/Ok0GaaQUA2nSKSA5xQsV4v7jJylOw5pc/JBc+UEppQ5NmgxqAc3i65QGtkBCp6LEHYHq21ajbrc+JEXUNQmpYWmeEx//17Ky3Zee+76Sln6BtJ0lMaUZBto0bsDIOU74vXlLbstc/PX3MapXLI91Lnk5UpPp/9NyZjttUf8X+sHyWFpy7e59jY5VZvhPX/owdoGzbJ+yAA+oLcBDQiH35MXLzP+KtXyURvXuwZqduzl54bK0zevFS7y/mD5i2rJVREUljBJQFnp6OLSU9kfHxDDWyZkN82aq7W2slFxQJAjfm3UuC0oXteHEp9/74k1bWbJ5Gwf/OYNBiQrSv7DwCGzbd2Xdrj0UrteECiVL0PGL6YCUNri6ccvdg6VTJmicjvljRvJbmVIUqN0YK9s6VG7Tid7tWtO7XUIvvhL2LQkOCaFKm85Smib8sYRj5y9QvoX6EQrq5LGy5Mj61SxYtxGzSnaYlq/GP5f+Zf+aZbKeiLfcPVg1Y0qShT8h9awtLNDV1U2T/GD/qdNcu3MPgMCgD0xftlqlwWvNzt3YFMhPuyaNvjqtaZUfaJonifxASAudmzfF64UP2/Yfok87B7XHJK6cAVQqZ9KKgYE+hgYG0hRckVFRjHVyTjJ4SEtvAgKIj4/nbWAgjlNm0LiWndo1YuHH3HvfUjb9FVnnsuDkFhdmLF/NgVOnZfuWbf0T/7cJ00bddn/Ixj37VUahpfZvqqOjw4ie3Rnr5Mxj72cAxMfHc/X2XUITTb2WVvmPpvGCIHwvHz5+JDwigqioaMYvXJLwnO7fW+2xKf2mlZXvDo3qp/i+kwY50sDOlpYDhkkjZ3o4tOTeY0+27ktoqEquIU3dM8K2QnmKFszPmAWLpHLZSz9/IiIjqVahHKWL2vD7/D+I+TRF5+HT5zhx4ZJsKaqUZMmcmdjYOF76+QPg9+YtC9dv1vj8jODG/Qe0HjScV6/fkK2irRSbHTt/gQl/LGHE7AXSsTo6Oozo1S3Ja80fM5ICuXOTr1ZDzKvUxLp6PW7cd0/y+C81rmWH07jRdBszAdPyVTEpV4UaHXvwLNFIlNYN63PmyjXMKtmRvVJ1Lt28zc4lC6XndbsmjRjeoyv1uvchx292mJSvysY9+6XzU4oLNY0v09I4p8Xo2JTBqFQlHAaPYGCXjjg0aqD2WBHXCqnVu50Dkwc70rTfYF688gMSluCzKZAfS9s6mFepye/z/2Dzgjnk+zT1/+xRQzl/7TrW1etiUbUW1+8/YFTvHtI181pbsWvpQqYtXSXds30nTlN57yyZM3N0wxqOnr+A86cpdJO7392On6J2l17MHjVMSsuXHDu1w9zMDOvq9chToz6j5/3Bkk+Ny8LXUw7SmDliCLGxscTGxsoGaSilFAP1dGjFzQcebN13UIpNlWVwTfRu1xrPZy9wWrdR6pAU8D5INlUsJB8/JFd+UEoutkg8qOVtYCCANKgl8e//ewkOCWHv8VPJzsAi6pqE1GhRrw6xcXFJLlF0+vK//O+/G3Ru3lTa9rWzJG6cP0tteUk5w4B9raTX0M5kZEjXVs1Y75qwnvXaXa4M7tpJdozXi5cUb9SS2x6PsK9Vg8mDHWlSu6bKtZSzuin/mZuZyfaPnreQ3uOnkM/aigGd2zN39Aj09NJFk6skXdQmzBg+mK6/j2frvoO0s28k9eJKijLDr9GpB9a5zKWRFcoC/LSlq4iJjSGvlRW7ly2SVbjccvfgsMuqVBVyExcqoqKjUSgUGGfOwq6lC6VeoIkLPfr6esTHx8sKPQA+/q/5vW8vWc8edVIKigThexvavQsrtv/JyE8961s3rM/BdStUjivT1AGLHGY8PXtc5d7q3KIpnVskPPAdO7XHsVN72X6HRg2SDEoBjIwMWTt7OkunTOBt4HuszM0x/GIamNuH3VSmVXA7foqZK9YAMHXoQLXXfn1VPpKgdtXKPP7nCG8CAtDT1cM8h/yhPnXoQLXXenBc9JpOC1lNTRIy3D4Dsc5lwaIJY2jftHGy5ySVHwzq0okBU2fy+l0gQR+DqW9bTSWw8Hz2goNrVX/Pmkir/EDTPEnkB0JaMDUxpn2TRvi+fpPkunyzRw3FYdBIrKvXJS4+npb1636X4FRHR4cV0yYxfPZ85qxaR3hkJDNHDMHz2Ys0f68vLdvyJ86bthIXF0cDO1t2Lk56arIfce99S9n0V1WsUEEOu6yiWf/BmJuZUavKbwD0bNOSSq07oFAoCPr4kWHdu9KxWRPZud/yN50+fBDvg4Mp36IdxlkyExIWRuF8+bj41zZpfZ+0yn80jRcE4Xu5duc+zfoPBhJGnBzZsFoakful5H7TbsdP0W/S9GQr37+0bOoEuowaT5dR49m3eqnUkOY4ZSaj5/1BdEwMJQoXSrIhTd0zYvcyZ3qOm4RphaqYZMmCjo4O7scPkTlTJg6uXU6v8VPIWsGWLJkzkcnIiB3OCyhWqKBG6YWEEQyOndpTrnlbLM1zoqury9rZ02RrD/4Kspma8uH2vyrbh82cJ/0/9rHqtNjtmzaWlftNTYzZs3IxoWHhvA8OJlfOHNLI6tPbN6qc392hJd0TdbKEhCn4BnfthN/btxgZGmJuZiarG4qLj+Pv9av58PEjYeER5LGy/PKyzBgxhEmDHHkdEEB2U1OympoAmseFKcWXNStXIvTedZXr7F4u79yq7jsb1LUTgxJVZqr7XpRKFCmMwuuB9FrEtYKmsmfNKvvtKI1z7MM4x4TY28f/NR9DQ5k1cigTB/bj3fsgcueykHVg+61MaV5e/Ae/N28xNTaW7qXEHBo1oHXD+vi9eYuhgQEWn9ZD/fI+yWmWnUen/padm9T9HhsbS/N6tVWWEUg83XP2rFm5svdP3gW+R4FCWnqqT/s2X/t1CSQM0ggLj6BKm84q+8q3aCc9Z1KKgZSdAobPWsCwWQl5SPkSxbm850+N0pErZ04OrlvBoGmzmbFiNcaZMxMVHcOM4YP5rUxp6bjk4gddXd1kyw+gWYemUfOcKFC7MdlMTQgND2d0n57SoJa0FhYegY5NQvxgamLMb6VLscN5QZLHi7omITXMsmVj5+KFdBszgaPnLlC5bMI95bJ7L4s2buHIuf/xx4TfqVahnHROWs2SqMkMAwCDunTEvs9AWtavQ0DQB+xr1eDkxc+DeDSd/j8tZ7bTFh19fX1FzKM72k4H0dExvAkMIHeuXBpP2ZrY3NUuXLt7L8UCfFqIi4tTG0RcunGLpv0GEXL3PyIiI9UWejIC/eLlVRb3FtKWQqGgcP58PDuvOs/9jxQdHUPVdp0Z0bMb74ODuXTjdpINwDNHDEmxse57MClXhUu7dyTZAPyrBLEvXvnRfdxkLl5TrUDQhEKhoFyJ4tw/diCNU/b1QkLDCA0PxzqXRarOb9izP03r1GRMv974v32HkaEhObKrr7D8Vr9yfnDb/SELN29n98HD2k5Khvbu9WvmThzL8mmTfth7KhSKZCtn0pKy/JcrR06MjAy/63sl9i7wPXp6et/t2aBNizdtpdhv1WjZrn3KB6vx4qkXm5YtZvaoYWmcsu9Lv3h5ru3bRYWSJfB7+5Yc2bJhnEV1PaC0EBkVxZuAQLKZmsjWKf2R+U96Mn3ZKhq0bkudhl8/o4agmZ4d2zN9UD9sCuT/oe8bEhpGSFhYihUsyYmNjSUmNlbtGr6pkVRDmqYC3gcRFR2NlYW5Sr1DcEgIoWHh5LbMJZuW8WuEhoXz4eNH8lhZpvoaaaFgncZ4PX+R6rKnbaWKHF2/ipxm2TU+58b9BzTs6ZhsA/CqmVNSlZ60Nne1C1fv3OXIhjXaTkqGYVG1Fm/eBfyQ2Vx+RX4+L1k5bw4Lxo3SdlJUXLpxiyZ9B6rtzCBoz0KXTVSoXRf7FklPk5ocr4ce7N28XrY0kCbSuo5OGZsm7hTwtd4EBBAbG0eunDlkHce+Jn5IrvygicioqCQHtWQUk52X06JLV+xq19V2UjKsNk3tWT55HPlza9ap8nt7F/iew2fO88zXl3lr1tO7nQO/lSlF09q1KFLgc0PvpRu3qNW5J11bNZctFTBw2iy8zhwjn7U1c1e7cODUGWl5CmXnkDJNHXCeNJYmtWvi6/+aMs3acHr7BiqUTHjGLNm8nf/9d4PDLivR09OjYc/+DOvRBYdGDajbrQ8KhYKmtWsycVB/Rs11InvWrMwcMYRFG7awwdWNO3+7SdP/N+k7iGrly3JiiwuQEN83qV1DpQG4pH0rItxvYmRoSNYK1Vg6ZQL9O7YjMiqKgVNn8eehI1x23ZEulvjKbVcvfYwABjA0NNC4R3BSlEPJs2fNKquMSWt6enpJplWZhsyZMqWbm1EQUsvQ0IDDLqt45uNLtiBTwiMi1R5Xs3IljddjSmuNatiRVU2PQSsLc2pWrqSFFAnfytTE+JtHwimfxaltRNaUyA+EjEhHR+e7daL7UlqU/1IjtZUHQvqmUCiSfS6nlUxGRklOk/aj8h9B+BHSokymr6+fph3gLM2/LeZIruE4m6kp2UxNv+n6JsZZpBkBfjXZTE1pWMNW7b5SNkV+cGoEQRCEjCAtYtPkyg6axg+p7XimlMnISNQLCRmORc4c9OvYltjYWOatWc/Azh2SbPRMi1kSNZ1hQGlQl470Gj+ZvSsXqxzv2KkdB06dwbp6PUyMs1Agd26WTB6H69ETGn9+bc5s9zXSTQOwIAjpU/7c1lIhJal1vRJPl/CjHVi7XO32mpUriQZgQRAEQRAEQRCEH6BowQK4rVqqdt+Q7qoVddpUq3IlCor1DgUhTeTPbc2EAf20nQwhnRCDNATh16Ovr8+TM8fIZ2WV5DEpLRWg6fIUKS0DmXhJjMTLUgIsmzpR+r8m0/+rW17jy2U1+rRvQ7dWLWQz2w3t3iXJ70EbMkwDcHoowItCjyAIgvZ1b92CogULaDUNIj8QBEH4saYMGUDuXKmfpjYtpIf8RxAEQUhZnWpVtJ0EQcgw8ue2ZtqwQdpOhpBO/EyDNNJD/CAIGUVKS9Wk11kS02J2OG3NbKepDNMAnB4K8KLQIwiCoH292zloOwkiPxAEQfjBZo0cqu0kpIv8RxAEQRAEQRCElKWH+EEQBM2JGQZSJ8M0AAuCIAiCIAiCIAiCIAiCIAiCIAiCoH1pNUvizzTDQHqiq+0ECIIgCIIgCIIgCIIgCIIgCIIgCIKQcYhZErVLNAALgpDuBAUHE/A+SNvJEARBEARBEARBEARBEARBEARB+OmIBmBBELQuOCSEVTt20XH4GArVtcfStg47Dv6t7WTJBLwPYvGmrcTGxmo7Kd9NTAb+bELaS/i96Gg7GRmfjrg3ha8TExMLOt9yb+okXEMQNJTwm9N2KjI6cV8KX0eUHb6fA6dOc/H6TZXtuw4f5fy16yrbo6KicVq3kWt37qnsi4uLw2ndRkJCw1TO2XnoCKPmOjFo2mwWumzC+6WP7JgV2/7E/YlXkmk8eu5/sm1+b94yZ9U64uLiZNtvuXuw6/BR9R9WEL7S/pOnOXz6nNp93i99WLRhi8pvUBAEQRCE70e3UL68eD57ru10CD+JR0+9KZgvr7aTIWQgT1/4ULqpA0fPXaBZ3VocWreC0LvXGd23p7aTJmOew4wzV64xb816bSflu9DR0eGx9zNtJ0P4ibx45UfevCI/+N4MjTLx4pW/tpMh/ESe+b7CLGfOVJ+fKUsWXvj5pWGKhIzuhZ8fZjnNtZ2MDM3S0lLcl8JX8XvzFn19fW0nI8O54/GI/pNnUPiLOpGQ0DAGT5/D2AXOKudEREUyyXkZ7Yf9zseQUNm+mNhYJjkvIzgkRNrm+ew5pZq2Ys5qF4wMDclnbcUt94eUadaGdbtcpeOu3LqD88atKu8XGxvLgKmzCPwQLNvusnsvM1es4fj/Lsm2F8mfj3ELF6ttvBaEr6Wnp0u3MRN4F/heZd+8teu5eucuenp6WkiZIKSO6PQjCMLPTtfe3p5/Lv+r7XQIP4mTF6/QokVLbSdDyECGzpxLk1o1OL55Hb3bOVCuRHEMDQ20nSy1Zo8ayh8bthAUHJzywT+hOjXsuHTjlraTIfwkTl3+F7u69bSdjAzPxNSUe4+fqASJgpCUU5f/pXS58qk+P3uOHFy4LvICQXMXbtyisE1RbScjQ7OtWYtTF69oOxnCT+LY+Qs0b2Kv7WRkSFOXrqB/x3bksbKUbf/ryDEa1rDFx/81dzweqZxnYKBPrpw5GP/HkmSvHx8fT7uhoylTtCgPjh1g4fjfmTJkAK4rnDmyYTUj5izg6u27AHRv3ZL9J08TGRUlu8apS1cIj4ikbeOGsutu3nuAAZ3bs3HPPtnx2UxNGd2nB5Odl3/VdyEI6rRuWJ/SRW1wctkk2x7wPohdh48xpl8vLaVMEL6e6PQjpDs6YlYg4evExMaiO2eBE1sPHuW/u/e1nR4hnbt6+y5bDh1h5pw52k6KoEV9J06jROOWlGjcklJNWlGrc09mLF9NTEwMkNCb7LfWHZM8f8z8RSzZvA1ICAJOXbrC+AF9eRMQwNl/r/HMx1flnIde3jTrN5hsFWwxr1KT7mMm8jYwUNq/bpcrzhu3MGvFGvLUqI9p+aq0GjgMH39/2TGDp8+WXp+/dp2anXpIPVP7TpzGgVOnZe/bf9J0SjRuSXR0wmerXLYMRQvm589DR772a/sprN2wkbF/LOW57yttJ0VI5/76+xi+QcG0bd9e20nJ8PT09HBa6MTA6XMIj4jQdnKEdG74HCcGDR6CmZlZqq9hZGTElKlT6DtpukqlsiAkFhkVRd/JM5gydRomJibaTk6G1q5TJ64/8uTY+QvaToqQzj194cOMVetZvc5Fq+k4ceESjXo5YmVbhzw16tN7/BRCw8Kl/X0nTmOL2wHZOc98fGWxV2hYOKPmOlGqSSvMKtlRsVV7jpyVj3C6cuu2FJsq//195ry0v0xTB169fiO9DgsPx65DdzqPHAuA+xMvGvd2xLJaHbJWqIZt+66c/fea2s/k4+/PsfMXceykWv7d4OpGO/tGdGxmzwZXN5X9MTGxrJsznS37DiRb6f7PpX955P2MJZPHq4zgrl+9Gh2bNWHxp1i6Se0aGBoayD4vwK6/j9G6YT1MjLNI247/7yKZMxkxc8QQTl68jP/bd7Jzerd14L9797n/2DPJtAmCpub9PoI1O3fL7r11f+2hfMni2FWqCIBCoWChyyZs6jclS5nKlG3Whr/+PqZyra6jx8vub/s+A2T7k3sG3HL3oEGPfrLj73g8oqR9S6lOSpmWBes2YFO/KcZlq1C0QTNOfxooldKzTMjYRKcfIb2xsrISswIJGgsNCyciMgr97Nmzs2f/furWqUOxggUoUTA/Oc2yazt9QjoS8D6Ixy998PZ5xZmzZ8meXfw+fmUv/fxpVqcWPdu0QqFQ4P/uHb/PX0SWTJmYMLAf4RGRPH6W9FTCr968wcAgIZi98/ARBgb6nLhwCSeXTRQtWIC7Dx/TvkkjNi5IaKwNCw+nYa/+9GnnwGanOURERjLhj6U4DBrJlb1/AhAQ9AEnl40M6daZmwf3EBkVxeDpc+g8chyX93w+xsf/NQAPPJ/QdfR49q1eikXOHNLnCk7UO+/w6XOcvfofz3x8iVfES9sbVLfl9OWrDO/ZLQ2/1fShZMmSLFjkTEWHttT8rRIlCxckS+bM2k6WkI74vXnLHU8vMpuYcPTYcW0n55fRrUdP/Pz8KdKwOXWq/EaRfHkxMEifMyUIP15cXBzPfP24fPsuHTp2YMKkSd98zcFDh/HqlR/FGrei1m8VKZQ3t5hKVJDExsbi7fuKS7fu0L9ffwYPGaLtJP0SDh05SlN7e+av30yZIoWxshDTbgufhYaF4+H9nGt373Lo0GEKFCig1fQYGRoysld37CpVICj4I60HDcd501Zmjkh4Xrz08yfwwwfZOVHR0Tz2fibFXlkyZ6JA7tzsX72MPJaWbNl3gC6jx+F/5bzUuPnilT/GmTOzbdE8AFoNHC4bWfXI+5lsPeSpS1fyOiBAeo88lrno16EtdatVwThzFv46coyWA4YReOMSmYyMZOk7f+06+XNbY1Mgv2z7HY9HeD57QZvGDShWqAANezriPGksmTNlkh1XskhhxvXvg+PkGdw7ul9lP8CV23ewKZCPIgXyqf1eG9rZMsl5GQD6+vp0ataEnYeP0qFZwojv8IgIDv5zhj0rFsvO2+C6j15tW2Npbk4Du2ps3X+QSYMcpf3mOcwoX6I4py9fpWzxYmrfWxA01cDOFrtKFZi7xoW1s6cTExPD2l2uLJsyQTpm2ZYdbHB1Y7vzfErZFOH8tev0mTCNHNmyYV+7hnTczQcejHfsS7UKZTlx4RLrdu2RvVdyz4DwiEieJppGNy4uDscpM4iKjuFtoimqF2/ayrpde1g/dyZlixfF8/kLStsUAVJ+lgkJTly4xOJN27j/2BM9PT0a1ajOqhlTpGd134nTqFW5En3at5HOeebjS9N+g7l3ZD+GhgaEhoUzdekKTl26gv/bAArmzc2cUcNpUb+OdM6VW7fpO3G67L0XTRhDywZ1gYROPye3uEgNtmHh4TTqNYD8ua3YvdwZ9ydejJ63kLsPPYmIiqSUTRHmjxlJ/erVVD6TstPPsqkTVfZtcHVjdJ+e5M6Viw2ubqyeNVW2X9npp2bnHnRu0ZS61aqo/d6UnX4Orl2RbKefvSuXyDr9KJ/5kHKnn4J17PF/+w7rXBbS/t5tHZi4aBn3H3uqfeYrFAqcXDayac9+/N8FkDuXBWtnT6NhjepqP4fw49StX59/Ll1U+5sVhC+dvHiZ3j26ow9QqFAhvJ4+xcPDg6CgIG2nTUiHzMzMKFWqlKhwFgDIbWlBhVIlAKhISdxO/MO791//7Hj9LoDo6BievvTh2bmTGBkZ8tLPn9JNW9Oifh0cGjVgy76DmJtlZ+7vI6TzNjvNIW/NBvxz6QqNatoBCb3YnMaNRldXF4BNC2aTv3Yjbrl7UKl0KelcX//XtBwwDJc5M6hesYLadIWEhjFs1jxWzpiMw6ARsn0VShXH7cSpr/6sP4t69evj6/sKd3d3wsNFz1ZB1Rhra4oXL67tZPxyxk2YQO++ffH09JRmXBAEJT09PRYWLkyePHnS7Jpz589n2IgReHl5ERsrppkS5PT127dPIAAAIABJREFU9VliY4OVlZW2k/LLyJEjB9euX8fDw4O3b99qOzlCOtTZxITSpUuTOR104KxnW1X6f47s2ejYzJ5b7g+/6hq6urqM7ttTej2sR1fGLHDG68VLKRb1ff2GQvnyUKZYwjT0hsnUV9y4/wDXoyeYM2o4G/YkjNLNnjUrnZo3lY6pb1uNqOhoIiIjVRqA7z3ypHwJ1TLwBlc3OjazJ3OmTFQuW4Z81lbsPX6Knm1ayY6Li49j2tBB7D91mmlLV+E8aazKtd4GBpI/t3WSn8HSPKes4apb6+bU7daHoOBgzLJl49Dpc2TJlJnGn2JkAP+37zh+4SIrZyR0EOvd1oEJi5YwcWB/dHR0pOMqlCrOnYeqI9kEITXmjxlJrS49Ge/Ylyu37mBoYEBb+88jFOev28D6uTOkEcEOjRpw//ETZq9aK2sAfvXmDdUqlKVMsaI88FRd//RrngErtu0km6kpdpXk9UBOLptYO2ua9L65LXNJ+9LiWfYrEJ1+Mlann+Q6RQja1bJte5YsWy6rDxcEdR56eTNv/WaOn/oHqXuJgYEB5cunfr0wQRB+HftOnMbrhQ/x8fG8evMWU+MsLBg7UtofFR3DoGkJI3hNsmShdNEidGnZTKVAFRsXR6F8eVk+7fNopfy5rWlc045zV//DoVEDHnh6UaVsGdl5JsYJ17zv+UTK8EoULiQ1/kJCoT2vlSWPvZ9LDcAfQ8No1n8Ikwc7Sj0E1ZnkvIymdWpR41Mwkpi5mVmqGrt/JsbGxlStWjXlAwVB+KEsLCywsLBI+UBBSCNWVlaigU8Q0plSpUpRqlSplA8UBC0KCg5mz7GTeHg95fW7QB54PiGftTw/OXzmPL6JpogNCv6ocp3LN29z8uJlXvr58zE0FIVCIZv+8pmvL/mtk24wVYqNjcVxykwWTxqHwRejrD6GhDL+jyV8+PiRG/fd2ew0B7Ns2VSuERD0AYsc8iUWIiIj2Xn4KJ2aN2HVjl0AWOcyZ4Orm0oDsEKhwMjIkE0LZlOna286NrOnXAl5xXsmIyPi4xVJfo6o6GiMDA2l19UrViCflRVuJ/7BsVN7dv19lM4tmspGkm3Zd4BcOXJy6PQ5AKJjYnju68fZf6/RwM5WOs7czIz7j58k+d6C8DWqVShH09q1mLvGBfcnTxnRsxt6enpAwkCAgPdBKvU8thXKsWjjFun128BAwsIjVJ4diWn6DHjxyo8F6zby796dLN2yXdr+JiCAwKAP2FYsp/Y8TZ5lguj0k9E6/STXKULQrixZsnDw7yPYN26E2bpNlCpcAEtzMSuQ8FlIaBgez57j/uQpu/76C0tLS8RcboIgfDUrC3PKFLNBoVBgkcMMtxP/cPryVbq1bgGArq4OZYrZABASFsbSLTs4fOY8B9bK15jImT07IWFhKtfPkS0bH0MTtkdERqrtKaevry+tDwUJAbXKMXp6xMbJRy3p6CCraPjSv7fvcPD0WR4cO0BsbJzK/vj4eFmhSRAEQRAEQRAEQUjg9eIldh2609a+Ia0a1CWPpSXbDxzG/Yl89J6psTFWiSot9XT1ZPtHz1vIkbP/Y/yAvjSpXYPsplk5+sU62A88vejWqnmKaVq8aRvWFhZ0adkMt+Py2Zz09fUoU8yGsPAIAoI+sOPg33RsZq/SGKCjo0P8FzHnnmMnyZI5E4EfPkhr+2Y1MeHsv//x6Kk3JYoUVklL9YoVGNKtM30nTuPavl2yfUULFGDPsZMoFAq1MaeH11NKFC4k29atdQtcj56gYzN7Tl68zKXdO6R9CoWCTXv3U7xwQdnaw6VsirBxzz5ZA7CIc4W0Nvf34VRp05lMRkb079hO2h4RGQmgMuWtvr4+sbFx0u//gacXVhbmZDM1TfI9NH0GDJ4+h7H9e6uMtIz6VKekriFR02eZIDr9ZKROPyl1ihC0z9ramnv3H4hZgQS1jIyMsLCwwMbGRtomGoAFQfhqNX6rwLAeXaXXxQoVZOH6zVIDsIG+vmx/fdtq1O3WR+U6lcuW5v2HYJXg2NvHV+pBWLJIYY6c+5/svJiYGB49fcao3t2lbU9f+sgC5aDgYHxev6ZI/s8F/Kwmxrgud8auY3dy57JgYJeOsusqFAocJ89k+dSJZM+alQA1I33fBr5XKQQKgiAIgiAIgiAIsPPQEUraFGbdnM/rNEbujlI5rp5tFcb2/xwjPnrqzZLN2wCIjo5hzc7dnNjsIsWF7wLfyzoAh0dEcOO+O6tnTkk2PS/9/Fm8aRvXD+xWuz9L5sxS7Dp+QF9sGjTl0OmzslFiAOZm2fHweirbtsHVjbH9e/N7316y7c36DWbjnv1qR3wBzPt9BIfPnOePDVtklfutGtRlxJwFHD13QbbuJSTEwNsP/E3PNi1l27u1ao6Ty0b2Hj9Fobx5qVq+rLTvzJWrfAwN49jGtRgafm7g+u/ufWp36UVg0AdymmUHRJwrpL3SRW2wsjCnW6vmmJoYS9vzWlliamLMA88nsvXs7z3ypGjB/FKdzoXrN1Wma05Mk2eAvp4euw4fxf/dO35PNLo0cVqMDA154OmlMopO02fZr050+slYnX6S6xQhpC9iViBBU7opHyIIgqCeQqHA1/81bidOUbRgfrXHBIeEsPf4KYoXLqiyzzqXBW3tGzJq7kJCPo34Pf6/i1y7e49ebRN6z/VwaMm9x55s3XcQSCikTFu2iqwmxrSo9zkofunnz+o//wISevuNc1qMTf782FYor/KeJ7e4MGP5ag6cOi3bt2bnbmwK5Kddk0ZJfuYb992pWKpkCt+MIAiCIAiCIAjCrydL5sz4v31HeEQEANfu3GPX38e+6hoGBvoYGhjw9KUPAJFRUYx1cpYt+bNp737y57ZWu35hYmMWLGLyYEcK5Mmtsu/uw8e8SjQizfPZc969D5I1UihVKFmCG/fdpdcPvby5fv8BPVq3VDm2f8d2bD9wWNZgnZhxlixsmDcTJ5eNxMXHS9vzWlsxebAjvcZPZv/J08R+WsvS+6UP7Yf9jp6uLqN695Bdq1ihgpQvUZxpS1eqNIxscN1H99YtZI2/AFXLl6V44YLsOPi3tE3EuUJa+PDxI+EREURFRTN+4ZKEe7d/b9kxBgYGOHZsz+TFy3kbGAgkdABx3rhV+n2HhoWzdd9BOjS1T/K9NHkGRMfEMNbJmQ3zZqqMOIaEaYcdOyWk5fW7ACChDuv1u4A0eZb9ChI3lDerW5vyJYvLRu0q1bOtwsRB/aV/jp0+jwpXdvpZP28mjp3aY1epIhY5zNR2+kmuUwB87vSzdvY0tfuVnX4mDOzHP9s24O3jw6HTZ1WOMzfLLv0+lZSdftxWLZX9a1zTjo179ieZpnm/jyA8MlJtp583AYEcPXdB5Rxlp5/2TeX1k91aNefijZspdvpJnL5NC2Zz4NQZAoM+r8OcVKefxJ0iBEHIGEQDsCAIX22c02J0bMqgW7QsFVt3IEumzKyeOVXaHxYegY5NGXRsypCvVkNuPnBnh/MCtdfaOH8WBgb65KxSg1xVa+M4ZSY7lywk36dpXfJYWXJk/WoWrNuIWSU7TMtX459L/7J/zTIMEvVIa92wPmeuXMOskh3ZK1Xn0s3b7FyyUFZJoFSsUEEOu6zCccpMLl6/KW33fPYixR7kpy5dka2vIQiCIAiCIAiCICRw7NQOczMzrKvXI0+N+oye9wdLJo/7qmvo6OiwYtokRs11okDtRuSr1ZCq5ctStVxCRfc4J2dmLF+dZAX/l9ca0aub2n23PR5SskkrclWtTcE6janeoRvjHf/P3l3HRZH+cQD/LCwpYICSghIWqIiBBbaiYmF7tmKf3Yp6tmfr2X32iS3G2fXTswNQUTFQsBCDrv39gYysLLCL4C7L5/163evcYeaZ78TzPPPMM/NMb9RxrZpu3vo1XPEh4hPuBKZ8M3Hdbl941quDosZF0s3bon4daGiIZHYqpGpQszq6t24pdPKmmj58CKYPH4KRs/+EfvkqMHJ2RfnmXihkZIjzOzZDX08vXVpdW3nizfsP6PptRC4A+PAxAgdOnUbvdm1krr9Pey+s253yXcyQsDA8eBrMdi79tP/u3IdhRVfol6+CQ6fP4si6FTKH1509ahgqO5WDjXtjmFWvgyptOqJn21bo2bY1XoaGwbaeB5zLlkGHZrI7gOUtA0LC3qCzZzNU+eF7wz/GYmNhgeJuDWFStTbMa9TDjfsBOVKW5Qd86Ee9HvrJ7KEIIsqbRBJZH84kIqWSSCSwtS6OZ+dOKDuUXybi82dEx8TCwrRYht8eevvhAzQ1NGHyw1NqM1eswX937+Hw2hX49OULoqJjYGlmmuMxnrnyH7wGDUfIxVNSQxipghevQ9F1zERcTDPMCxERERERkaKqu1SC39q/hOGBs+N9+EdIIEExY+NspxEfn4C34R9QrIgxdHS+vzUVExsLLbFY5ht9ikpKSsKHiAgkJ0tgamIs8wHiVB2HjkbhgkZSQ8LmpvfhHxEbHwczExOph59z2pQlf+Hyzds4vXVDttMoWs0Nb99/yHT/UfaFhrzE8lkzMGfMcGWHkqWvkVH4GhUFC9NiWc4bGxeHd+EfYWZiItVp9TUyKtN7LjlZBqSKjIrGx8+fUcy4iNRwwDlRlinDvDUb4OxeF008W2Y9swxPHgRiz8a1mDDAO9P5Pn35gmZ9BiHg8RMYFNCHjYUFvDu2xW6/4zi+aQ0AoGH3vvBwr5Vu2P+yTVoiJuAmdHV0sMl3P36fPhvGhQohOjYW04YOwrYDR7B40ljsPXESG/bsw94VS4TPAgBAmcYtMHlQP3RtndIpKy5dES6OZXHVd4dQFvke+xcLNmzGVd8d2Lz3AIbOmANdbR3o6+niS2QkRvbugcmD+6fbrjfvP8CqdgPc2L8bzuXKYOSsP/EiNBR7VyxJN29CQgKKuzXE8ikT0ah2DRR2qYmIW/9DISMjqfm8J07F+n/2IuTiKVil+Ubyim07MX/dJoS+ewddHR0kJSWjnUcjLJwwJt39TwBYtmUbhs2Yi6dnjsH222fvPnyMgGXt+rixf7fMTvJlW7Zhzc49CDh+ECFhYbBxb4yAYwdR1j79sNVfI6PQZ8IU7D95GgUNDRAdE4t/li1M92mCH01csBSenbugpnvdTOcjol+LHcBEKig/dgD/jJkr1uDqnbs4sm5lrq0jOTkZNTt0RffWLTGoa6dcW092sQOYiIiIiIhyQk50AKujpy9C4NquMy7t+lvmtx7zorB371HRsy1ObFqDSo7ZHwKaHcC5Ky91AJNq+FUdwKn40M/PU7WHfjJ6KCIj7AAmUk0596gUEZEa+xIZCZ/B/dG8XuZPvBEREREREZH6sbMpjn83r5UawjOvi4qJwaE1y3+q85eISNZw+IrS1tYSPgeXlp6u7k+nnUpTUxOmMoZ8lmX2qGFwbdcZw3t2/SUP/eTEPsxK2Lv3WL3jH5z49nZ2ZgwK6MOggH6ux0REuYsdwESU57lVcUEJGd/3yEmFjIzY+UtERERERJSPuTiWU3YIOcrexhr2NtbKDoOISOXwoR8iUgfsACaiPK+Oa1Vlh0BERERERERERERqgg/9EFFex49zEBERERERERERERERERGpCXYAExERERERERERERERERGpCXYAE6mohMREZYdAeUhcfLyyQyAiIiIiIjXB9igpIiY2VtkhqD3mSVIE7xERERHADmAilSQSifD6zVtlh0F5SMDjJ7ApXlzZYRARERERUR5nYWaGF69DlR0G5REvQ8MAiKChwVuMuUVbRwcvQpknSX4Bj5+iUOEiyg6DiIiUjFdnRCqqecP6OH7hkrLDoDxixbZdqFO3rrLDICIiIiKiPK5e3bo4efmKssOgPGLDnn1o3bypssNQa4WKGONO4ENEx8QoOxTKA8LevceRs+dRtnx5ZYdCRERKxg5gIhW1YvUaTFy4FE9fhCg7FFJxG/fsQ1xiEryHDFV2KERERERElMf1HfI7/M5fxIVrN5QdCqm4a3fvY+X2XZi3cLGyQ1FrYrEYo0cMx6CpMxEbF6fscEjFeU+aiikTxsHIqKCyQyEiIiUTKzsAIpLNxs4eS5YsQcMeveHoYIeydrYooK+v7LBIxTwLeYWnr0Lhe/CgskMhIiIiIiI1oKevj30HD6FNy5bQ09ZCWXtbFDM2VnZYpGK+RkbhyLkLOHHsOCz5OaJc13/YCHwMD0eF5l6oUt4RtsWtIBbzti5JO3npCurUrYNxPlOVHQoREakAkUQikSg7CCLKXNCDQIS+eq3sMEgFOVasgKLFTJUdBhERERERqaHQVyEIevBQ2WGQCrIuWQK29g7KDiPfiYuLxe3r1xEbE6vsUEjF6OrpwrlKVejq6v50Wk8eBGLPxrWYMMA7ByKj/GDigqXw7NwFNd3rKjsUIkqDj4oR5QGlypZDqbLllB0GERERERER5SMWVsVhYcW3O4lUhY6OLqrXdlN2GEQ54lZAILqMGCfzb4smjkGzuu4AgM9fv2LM3IU4dPosomJiULW8E+aPH4XKTo4y09HV0Ya9jTVG9emBGpWcMXDKdJy9ej3dOnq3a4Ox/XrLlf68NRvRydMDkxYtw4vXYShrZ4tFE8fAvVoVYR7vidNw8+A/UusYNXs+LM2KYWTvHgAAp6atsXvZAjg62KeLZ7ffMez/9zR2LV0AAFi7aw+W/70DRzesRHFzc2G+pKQk1OvaG3bWxbFp3syUbRnvgxb166BN44bCfH0nTMGlm7dx78g+aGtrZXYoiEhNsQOYiIiIiIiIiIiIiIh+meiYWLwMDcP//tkmNb1l/yH4Ehkl/O4+eiISEhNxafdWFDQwwEbf/WjQrS+CTh1BMWPjdOnEJyTg4Kkz8Og1AB+uX8SEAd4Y3LUzHgU/R7shI3D/6H4AgEnhwnKnf/DUGXyJjMTB1ctRyNAQSzZvhWe/wXh29gSMCxdCdEwsHj17lm4bX799Cy2t710wD4OfISZW9hv8EZ+/4PnrUOH3u/CPePoyBGt3+WLGiN+F6YfPnMON+wHQ0NAQpr0MDcPnr5HC70OnzuLM1Wt4FvIKyZLkrA8GEakljaxnISIiIiIiIiIiIiIiyjkaGiI4lysj9Z+21ve3Vf2DHuPYhYvY/OdM2NtYo6hxEYzr3weVncph6eZtMtOpVrE8+nfugMjoaETHxsLawhxOpRxgZ50yooVTKQc4lXKAWVETudOPi4/Hksnj4FDCBkWNi2DWqGEobmaGLfsP5ur+aVbXDRt99yMhIUGYtmrHbrRuVD/DZb5GRmHIH7OweNLYXI2NiFQf3wAmIiIiIiIiIiIiIiKV4h/0BNbm5ihmbCw1vbpzBdwPeiz8jotPwACf6QCAmNhYBIe8wqZ5M1HQ0DBH0heLxXAoYSM1T9UKTngU/Fz4HZ+QgOEz50rNczvwIUpYWUpNm7N6PYoWKQJtLS2UsLJAlxbNYVbURGZ8VmamqFimNPafPI0OzTzw9EUI7gQ+wrIp47Fqxz8yl5mwYAma1nFDLZdKmW47Eak/vgFMREREREREREREREQqJSY2FmJx+nfYxGIx4uO/vxWroSGCUyl7OJWyR/nSDihmXATrdvsiMio6R9KXSCTp59HURGJSovBbJBLBzMRE6j9dHe10y9lZF4dTKXvYWJrj7NVrqNqmU6Zx9u/cHiu37wYArN65Gz3btoKOdvp0AeDK7Ts4cOoM5o0dkfFGE1G+wTeAiYiIiIiIiIiIiIhIpZS1s8WL16H4GhkFQ4MCwvR7D4NQ2raE8FtLLMaQbl2kli1Ztwn+vfQ/eDVp+NPpJyUl4fmr17D9Now0ANx9+AhtGjeQimH8gL5S6d958DDdOjs0a4Iq5Z0AACN794BBhWoIePwkwxg969XBkGmz8fBpMLbsO4Qre7bjflBQuvkkEgm8J07D0snjUcjICB8+RmSYJhHlD3wDmIiIiIiIiIiIiIiIVIqrcwU4Othj5Ow/he/gHjp1FscvXMLgrp1lLhMbF4dDp84i9N074bu/OZG+z5K/EBcXDwDYvPcA7j0KQrfWLbK9bXFx8fA99i8SkxJRwsoiw/k0NTXRp4MX+vtMh4tjWdjZyN6mldt3wd7GGm09GmU7JiJSL3wDmIiIiIiIiIiIiIiIVIpIJMKBVUvRY+wkGDlXh76eLnR1dLB1wRyUKllCmC8qOgYi+5S3anV1dGBnXRzrZv2BimVL50j6FqbFYG9jDdPqdSAWayI5ORkb58xAcXNzhbepaptOAAAdbW04lLDBjkV/wtRE9jeAU3l3aIuZK9bA969FGc4T9OwFDqxapnA8RKS+RBJZA9gTEREREREREREREVG+8uRBIPZsXIsJA7yVHYqUz1+/IjIqGhamxSASiX5Z+pdu3ELTPgPw9e41xMTG4v3HCFgUKyrz28H51cQFS+HZuQtqutdVdihElAZLKSIiIiIiIiIiIiIiUlkFDQ1R0NBQKemnvkOnp6sLawvF3/olIlIGfgOYiIiIiIiIiIiIiIiIiEhNsAOYiIiIiIiIiIiIiIjoB9YW5hjXr4+ywyAiUhg7gImIiIiIiIiIiIiIiH5gbWEOnyEDlB0GEZHC2AFMRERERERERERERERERKQm2AFMRERERERERERERERERKQm2AFMRERERERERERERERERKQm2AFMRERERERERERERERERKQm2AFMRERERERERERERERERKQm2AFMRERERERERERERERERKQm2AFMRERERERERERERERERKQm2AFMRERERERERERERES5yqlpa7x+81b4HRUdjZrtu6LTsNEAgIDHT9C4pzdMXevAyNkV1dt1wZkr/wnze0+cikY9vCGRSKTSfRT8DE5NW2Pltl3CNIlEgtmr1sLGvRGKVK6J5n0HIfhliPD33uN9cPj0OXQdNR6FKtVAsWru+P2P2YiPT5A7jdU7dmPglOnpttOtU3dcunELAHArIBANuvWR+vudwIco26QFFm3cIkw7dfkKmvUZCEePVijTuAXKNG4htZwi257Vfiai/IEdwERERERERERERERElKseBj9DQmKi8Hvy4uV48+EDnr8OBQBYmhZDn/ZeuOe3F6GXz6JPey+06DcEsXFxAIBnr17j8s3bUp3CALBqx24Eh7zCu48fhWnLtmzH1gOHcWDVMjw5fQzOZUujcc9+Qgfvy9AwdB8zEc3quOHZueM4vPYv+J27gD+Wr5Q7jQ8RnxAS9ibddj5+/gKR0dEAgOiYWDxN02mclJQE70lTERefgHfhKfEGvwxBqwFD0byeO/5eMBu7lsxH/07tpZZTZNuz2s9ElD+wA5iIiIiIiIiIiIiIiH6ZG/f9sdvvOCYN7CdMK2RkhI7Nm8LUxAQGBfRRv7or4uLjERMbK8zTon5drNz+/W3XmNhYbD/khxb160qlP2f1OiycMAaVHMuiSKGCmD58CCK+fMHJy/8T5vFwr4UuLZujcMGCcHWugLljhuOvrTuFt2zlSUNRy7ZsR0FDQ7SoX0eYdvfhIxQ3N8Pgrp1R2ckRzuXKoGRxy3TLyrvtacnaz0SUP4iVHQAREREREREREREREeUPiYmJ8J40DQsnjIGWWLqL4svXSIz9cxE+ffmCG/cDsHHuDBQuWFD4e5vGDTBsxlyEvn0HC9Ni2Hn4KGpUqgjzYibCPO/Cw/H2QzhWbNuFjb77hekJiYlSb9WWs7eTWne1CuXxJTISb95/gKamhlxpBD4JxvCZc6XS+RoVLXO7X7wOxZzV63Flz3Ys3vS3ML2ykyNCwt5gwfpNqFe9GnS0tfEyNCzd8vJse1qZ7WciUn/M9URERERERERERERE9Ess3LAF5kWLonOLZvA99q/U38RiTTiVskdUdAw+RHzC1gOH0aFZE+jq6AAAdHW00aVlM6zd7YtpQwdh1Y7dmD58CE5cvCykERcfDwDo2NwDRdJ0Hvf0ao1y9rbC7x+/pyvW1AQAJCYlIjEJcqWho60FMxPpDlgNDZHM7R44ZQZG9+0JO5viUtOtLcxx+u/16Df5D/yxfBVMjY0RFRMDHW1tqfnk2fa0MtvPRKT+2AFMRERERERERERERES57mVoGBZu2ILr+3fJ/Lu+nh6GdOsCABjbrzfsGzTFwVNn0LF5U2GeAZ07oEmv/mhRvw4+RHxCE7daUp2gVmZmKKCvB5PChdCsrnuGsTx58VLq992Hj6CjrQ1LU1OIRCK50rCzLo7xA/pKTVuyeavUb7GmJnYc8kPY+/cY2bu7zHSsLczx6s0b/LNsIZrWccOBk6cxfOa8dPNlte2pstrPRKT++A1gIiIiIiIiIiIiIiLKdaPmzMfEgd6wsbRI97e7Dx7h9Zu3wu+gZ8/x/mNEujdsS9uWRAkrS4ycPR/9O7WHhoZ0N4dIJMLQ7l0xeu4CPAp+BgBITk7G1dt3EZlmeOZ9/57Cf3fuAQDCIz5hypIV6NWuNTQ0NOROQx7xCQkYPXcB1s2aBnEGQzH3nTgVLerXRdM6bpmmldW2p8psPxNR/sA3gImIiIiIiIiIiIiIKNeJRCIM7fGbzL/dDnyAoTPmQFdbB/p6uvgSGYmx3r1Rx7VqunkHdO6AHmMnYs/yhTLTmvL7AHz8/BkVPduigL4evkZFwbZ4cVzcuQUGBfS/pdER/SZPw5v34Yj48hn1q7ti9qhhCqUhj5CwNxjZuweqlHeS+fd1u31xKyAQgccPyZVeVtsOZL6fiSh/EEl+HOieiIiIiIiIiIiIiIjynScPArFn41pMGOCtlPUnJSXhQ0QEkpMlMDUxzvANV3nFxsXh7YdwFDQ0QCEjI2F6w+590bRObYzq0xNh795DR1sbRQoVVCgNSjFxwVJ4du6Cmu51lR0KEaXBN4CJiIiIiIiIiIiIiEjpNDU1YfrDkM8/Q1dHJ8NhkFPfjTMvVjTbaRARqSp+A5iIiIiIiIiIiIiIiIiISE3wDWDzx1BHAAAgAElEQVQiIiIiIiIiIiIiIso3urbyhEMJG2WHQUSUa9gBTERERERERERERERE+UbPtq2VHQIRUa7iENBERERERERERERERERERGqCHcBERERERERERERERERERGqCHcBERERERERERERERAQAiIyKVnYIlIfExMUqOwQikoEdwEREREREREREREREBANDI9z0D1R2GJSHPHnxEmbmFsoOg4h+wA5gIiIiIiIiIiIiIiKCiakpbgYE4tj5i8oOhfKAV2Fv8DD4OWwdSik7FCL6ATuAiYiIiIiIiIiIiIgIYi0tbFu7Gh2GjsK+E6eUHQ6pMP+gx+gwdDQ2r1+n7FCISAaRRCKRKDsIIiIiIiIiIiIiIiJSDX67tmP2/IV48uIlHEpYQywWKzskUhGJiYkIDnkFhxI2mOrjg/qeLZUdEhHJwA5gIiIiIiIiIiIiIiJKJyYqEkmJScoOg1SMWEsMXf0Cyg6DiDLBDmAiIiIiIiIiIiIiIiIiIjXBbwATEREREREREREREREREakJdgATEREREREREREREREREakJdgATEREREREREREREREREakJdgATEREREREREREREREREakJdgATEREREREREREREREREakJdgATEREREREREREREREREakJdgATEREREREREREREREREakJdgATEREREREREREREREREakJdgATEREREREREREREREREakJdgATEREREREREREREREREakJdgATEREREREREREREREREakJdgATEREREREREREREREREakJdgATEREREREREREREREREakJdgATEREREREREREREREREakJdgATEREREREREREREREREakJdgATEREREREREREREREREakJcdofnz9HIOJjuLJiIRVWuIgJChYspOww8q3Q1yGIj49TdhikYjQ0NGFuYQUtLa0cT/vd2zBER0fleLqU9xUzNYe+fgFlh5EvJScnIyz0FRIS4pUdCqkYTU0xzC2sIBaLs55ZQdHRUXj3NizH06W8TU9PH6ZmFsoOQ+1FRITj86cIZYdBKsjYpBgMDY1yfT1sh1JGNDQ0YG5hCS0tHWWHku8kJSUhLPQVEhMTlB0KqZjcahMkJSXhTdhrtkMpHbFYC+YWVtDU1FR2KPlOZORXfHj/VtlhkIrR1NREAQNDFCliIkwTA8DDwPvo0KEDTIsWQZlStihqUgTJyclKC5RUy7v34bhy/Q4ADezbfwAlbe2VHVK+8deS+Vj210o4ly+DUvYlIRazQqUUycnJeBL8Ev+euYw2rZpj3catOZLupfOn0Pm37nAuXwaOZeyhq8sGPX338lUYzl36D3a2JbH/oB8MDAyVHVK+MWeGDzb/vR0uFcvB3taaDSwSJCUlIejJc5y/fB19e3fHzDkLcyTdyMiv6NKxLfwDH6BubVeUsLZk+4AAADGxsXjwKBgBDx5j5fLFaOLZVtkhqZ2HgffQpo0XrK3MUd6xFAwK6Cs7JFIhb95+wKWrN6Gnp4dDh4/C3MIyx9execMqzJo9D5UqlIW9rQ20tXP+gVPKuyQSCV6EhOLq9TuoXbMa1m/aCoh4jvwKqW2Cys6OsLe1hoYGB3akFElJSXj24hVu3glEW6/WmDlnQY6kO2eGD7Zs3YFKFcrCwc6G5xwJEhOT8Pjpc5y7dA3efXth5uz5yg4pX3gT9hptvVpBrKmBcqXtYVrMWNkhkQr59PkLrt28j2SJBHt896K4tS3EnyLC0bVrF6xfPgPVKldQdoykwiZNX4ymHh64eu06ChUqrOxw1J7fIV+cPHkc18/6omBBdrKQbKFhb9Gy0yCMGz0M8xYs/am0Hgbew8iRI3Hx2DaUsLHKoQhJ3cTExKL7gHFo37YVjp04o+xw8oVd2zciwP8ubl/cD319PWWHQyoq+FkIWnYeCENDI4ybOPWn02vv1RK6OmLc/99hFGDnE8kQGvYWXl1/RzFTU1SqWlvZ4aiNt29eo0uXzvhn82KUdyyt7HBIhQ0bNwvNm3ng8pVr0NPLuesDv0N78c/uXbh+1heFCuX+W8aUt02ZtRQjfu+PxX+tB78yl7vWrFiCJ48f4O7lg3xQmzI1aOQ0zJv9x0+3CdasWIJHDwNw59IBnnOUoSfBL9Ci44CUdugEH2WHo/aaNG6EhTPHomG9msoOhVTYstV/o369+vjv+g2IhgzsIyljZ4nB3r8pOy7KAzr2HA5zqxJYsmylskNRaxKJBCVsrHDj3F4UNSmi7HBIxYW9eQdHV0/cvXcPxYtbZzuduu41MH3CELjXqpqD0ZG6qlirJWbMmI2Wrb2UHYpaS0pKgm1JawRcPQIDAw69TZkLfhaC8jVb4NWr1yhcOPsP612/egm9eveG/9UjORgdqaObt/0xePR0XL1+R9mhqI2e3Tqifu3K6N65tbJDoTzAw6sv6tZvhPETc+6Gq4NdCVw8vh1mpkVzLE1Sb67122P3ji0oUcpZ2aGorcTERJR2sIX/1SPQ09NVdjiUB5QoXx/37gfCyCh7D/IkJSXBztYGgf/58SFkylLQk2eoWKsV3rx5i4IFCyo7HLV18vhhnD99DDN9his7FMoDRk+eh9gEETROnDyNRnxigOQ0emgfHPE7puww1F5cXCxKWFuy85fkYm5WDF3ae+LOrZs/lc75i1fZ+UtyG9q/Oy5cOKfsMNReZOQXVHQqw85fkottyeJo3bwhAvzv/VQ6N29cw9D+3XIoKlJnlSs54UHQUyQl8TuEOeXI0ZNoXL+WssOgPGLM0D44fuJEjqUXGxsDE+PC7PwlhTSuXwsB9/kgUG76FBGOqi7l2flLcmtYtwYeBPpne/kvnyNQ2dmRnb8kl1L2JeHpUQ8PAgOUHYpa8/M7zH48ktuoIb2weetOaLx6/Qal7EsqOx7KIxzL2OPV6zBlh6H24uPjYG1lruwwKA9xKueAiE8fs718cnIy6wJSiGNZe7x9+07ZYai9uNhYFLc0U3YYlIc4lrXHp4iIn0ojIiICZUvb5VBEpO4cbEsgOSlJ2WGojfCPEex8I7k5lrVHaGjOtc8TExPZDiWFlbC2wrt3b5UdhlqLj49DceZNUoBNcUtE/ESbgPclSVGOZewREZH9+5KUtRcvQmBtZaHsMCiPMDcrBk1NTWgkJCQqOxbKQ/T19ZCYyHMmt4lEImhqaio7DMpDtLW0kJSUnO3lRSIRtLTEORgRqTsdbW3WB7+ASCSCWMy8SfLT0daGRCL5qTREIhG0tbVyKCJSd9raWj99ztF3/OY2KUJHWxsJCTn3Bj7boZQdKdcMImWHofbEzJukAG0tLYh+IltKJGB9QArR0dGG6GdOOpKLpqaGskOgPKSAvh54xhARERERERERERERERERqQl2ABMRERERERERERERERERqQl2ABMRERERERERERERERERqQl2ABNRnvLp0xeEvXkn9/wREZ8Vmp+IiIiIiPK32Ng4BD8LUXYYlMe9ev0Gjx4HIykpSdmhEBFRNoW9eYdPn77IPX9o2FuF5ici5YiI+Az/wCDExMTm6nri4uKV2q7ItQ7gp89eovfgibmVPCnozdv3+HPJOnz9GqnsUIh+yupNu9BrkPxly4r12+E91CcXIyJ5sE5QDYePncGCZRuUHQapiOTkZHTvPxavXr9RdihERPQLzJy/Ev+euaTsMFTSj3Xijdv+qFCrpZKjUg/5tR3Qrd8YVK7jhdZdBmPVhp3KDoeIiLKp16CJWL1pl9zzdx8wDuv/3pOLERHlrPzYRlizaRdKVmyA37xHZ3qdmhP3UW/fC0Q512Y/lcbPyLUO4Pj4BHwIj4BEIsmtVWQoMTERf8z9S+HlfA8cx937D7O9XlnLBz58gp2+R7Kd5o+ys20X/3cDrg06YNzUBfj8hR3A+Ul2zr/s5p/8JjvlRU6XB3mJMusEAJg+bwUSEhIUWuZn6wRZxzs3zgFFti0qOgafPn/N0fVT3pWcnIwP4RGIj1csb+QUlqNERL/Wp89fERUVo5R1Z7f8zs41XHYou05UZ/mxHXDt5j3sP3IKD68fw4PrxzCkX9dsp0VElJewjZd7slOfcd+SPPJaG+Fn+y6SkpIwxudP7NmyFHcvH8LOjYsynFcd7qPmWgdw2dJ2OLRrFUQiUW6tIkMX/3cDx05eUHi55Wu3Iext9oeKlbX87n1Hf6rh8CNFt233vqNo2+13rF06PcdioLwjO+dfdvNPfpOd8iKny4O8RJl1QkxMLOYuXoukpGSFlvvZOkHW8c7pc0DRbevUtjlm+gzPsfVT3iYWi3HUdx1sSxZXyvpZjhLlHU+fvURcXLyyw6CftGDmOLRp0Ugp685O+Z3da7jsUHadqM7yYzsg6Mlz2Ntao3DhgtlOg4hyV2jYW3xWwk39p89eIj4+e9dUeeHzBGzj5Y7s1mfctySPvNZG+Nm+i7A37/H1axSqViqf5bzqcB81yw7gT5++oHv/sTAvVRtGVi6o5NYaew+eEP4e8OAxmrXzRsHilWFS0hVtu/0OALh1JwCV63gJ8/UePBGHj51BV+/RKGRdBcXsauD3MTOESq91l0HYsmO/1Lo/f/4Kp+qeuOf/KF1c9/wfoVGrXihiUw0mJV1Rz7M7Ah8+wd6DJ9Cx1wjc9X+IMlU8UKaKhzDs8ZKVW1C1blsYl3CFXcWGmLNoDYCUpwYat+6NC5evw3uoD8pU8cCcRWsgkUgwfd4K2FZsAAOLSrB3boRpc5aniyWj5SdNX4x5S9Zh3ZY9KFPFA21+GwwAkEgkmL1wNWyc6qGITTU0b99PqgLPzrZlpJarC66c2g23GlWydXxJ9e09eALOtVvB0NIFlmXc0L7HMMTGxmV4/kVGRmH4+FkoV60ZCttURSW31jhy/KyQlqxzLLPz5NadALTrPhT/7D+G0pU9YGjpgjrNuuJJ8AusXL8DdhUbomDxymjYqieePX8lxC2RSDBv8TrYOzeCvllFlK/RIt0TP/Hx8Rg2bhaK2dVAIesq+K3vaERHSz+RlFV++nFeefJ0ZvNmlN8B4NHjYHTqNQIlK9SHSUlXNGrVC48eBwNAhscjo/yuqnKqTli9cScWLNuAP+b+BcsybjC0dEHLTgMR8ioMADB74WoMHvVHuvV7dR2C9VvSD6WTUVwPg4JRtV47xMTEomKtVihTxQOnz10BABw/dQGNWvWCmUMtWJZxQ8+B4xEZGZXpMc4ov/1I1vHO6BwAgIN+p1GhZgsYWrqgat22OHX2fz+1bRlZvXEnBo6YJvzuPXgiDvqdRu/BE2FcwhVmDrXQvf9YfOFoEXlKVmXbp09f4D10Mswcagnn0Lv34QAAp+qeCHjwGEBKPu3Yczj2Hz6JctWaoYC5M6rUaYsLl68DAE6d/R+qN+iQ7jt2cxevRb9h6Yfaz045mlG+BHKmHO09eCL2Hz6JTr1GwMjKBVZl3TFn0RqEvApDi44DYGTlAhunelj01yap5TKLCwDK12iBG7fvo2GrnjC0dEGJ8vUxc/5KqTQymyc5ORmV63jh6vU7wvxnzl9FmSoeuHnbX5h29N/zqN+iu8xtU3X5cVgpdVK6sgfuB6Zvk5FyZHY9IpFIMGfRGtg7N0IBc2c4VGosXFf0HjwRm7btFdJJLZfqNOuKAubOsK3YAKs3pgxVGxHxGU7VPfHg0VOpdZ85fxVV67aV+QZKTrZLMrrOkbf9es//EcrXaCH14MLcxWtRya211I33aXOWY/zUBQCk60RZDvqdRuU6XjCwqASrsu6Yt3id8Lcjx8+ich0vFDB3ho1TPfjMXILExEQAwKUrN+Hi3gZv3r6X2ld1mnVFVFQ0gJR7H/2G+cDMoRYMLV1Qv0V3qfJfFbAdIF87YP7S9Zg8cwkePX6GMlU80K770Cz37YNHT6X2XVfv0cK1Wuo++3PJOsxeuBrWjnVRyLoKGrTskS5/ZtSmyE5+yKxtS+onP34apvuAcdi0fd8vX2/pyh4IfPg06xllUIXPE6jCvbLVG3di3uJ18Jm5BGYOtVDYpiq69x+LjxGfMHTsTBSzq4FidjXQe/BEqXJanvuQr0PfolXngTCySinrp85eBm1tLal5Pn/+il6DJsC4hCusyrpj4IhpUm1DefaXLDlZn2W2b+Wtz7I6dqR68kMbITt9F2n5nTgHr65DAACuDTqgTBUPREfHYPXGnVi8YjN27fVDyQr1YeZQC0D6+6jy9EOs3bQbdhUbwsCiEtyb/oagJ8+l/p7dMiyr+1IZEWc1w8TpixAfn4C7lw9CW0sLN+8EwMK8mHAwGrbqhY5eTbHsz8kAUgpKAIiOicWjx8+EdF6+CkX3AeOwYsEULP/TB0FPn6Nzn5EwMjTArCkj4FajCpav2YYeXdoIy+w5cByxsXEo71gqXVydeo9An27tsH/7X4iMisa5S9dgU9wCJawtMW64N3b6+uH4vvUAAAODAgAA4yKFsHy+D8qVtse9gEdo1LoXalR1Rl03V+zYsBCOrs2xcNZ41HevDj1dHew5cBw7fY/g3/0bYVbMBEFPnst85VssFstcPjExCQ+CnqK4pTl8xg6CWFMTALBs9d/YuusgDmxfARtrCyxcvgmN2/RG4DU/aGtrZ2vbMmJlaSYcK0WPL6m+0LC36NZ/LI7vXY8qlZwQ+uYdbt8NhK6uDsYO6yvz/NPX14NNcUvs2/YXLM2LYdP2fejcZxTCHl1E00buMs+xwaP+yPA8iY6JxaGjZ5CYmIgT+9ZDX18PPQeOh3vTrqhWuTzOHN4CPT1d9Bw4HiMmzsaBHSk3u5es3IJ1W/7B32vmoVxpe5y7dA29Bk9AkcIF0aSBGwBgxp8rcfzURRzfux421hbYe/BfDJ8wG+41qwr7IKv8lJa8eTqzeTPK7wCgq6ODhnVrYuGs8dDT08HvY2ai//CpOOe3NcPjkVF+V1U5VSd8CI/A3MXrMKhvF9w8vw+xsXEYOHIaOvUeicv/7oRHAzfUbNwJMyYPQ5HChQAAT4Jf4KDfaSyePUHuuOxKFsf65TNRo2FHnDm8BTo62jAyTCk3dbS1MWxgd9R0rYSIT1/QqvMgLFi+EdMm/C7zGGeW334k63iLRCKZ58CtOwHo1n8Mtq2djzq1quH0+Sto2Xkgbl3YjzKlbLO1bRn5EB6BkNdhwu+Xr0LRY+A4LJ07CQtmjsWH8Ai07TYUsxauwrw/xsh9XpByZVW2de03BlHRMTjmuw5FTYrgzv0HKFbUGEDKDfaY2FgAKfn04NHT+PI1Egd3rkShgkZYsnILPDv2x7N7p+FWswqePnuJYycvwNOjHoCUi9+V63dgls8IuePKrBzNLF/mRDn68lUo+gyZhPXLZ2LNkum4/N8ttOw0EBv+9sWCmeOwbe18YVp99+pwrlA2y7iAlBu3Xb3HYPXiP+BS0RE37/jDs+MAVHZ2QtNG7nLNU8ykCI6fuojqVZ0BALv2+eHL1yj4HjyBypWcAKR0MFhbqW4dkRllDyt11/8hOrfzlHuZxMREzFqwGlPHD8nWOjNafvq8FZgwsh+0tLQyWFIx2dk2ytuyuh5ZuHwjVm/chbVLp6N8uVIIevIcjmUdAKSUgeEf7YS0Hjx6ih4DxmPt0ulwLOOA46cvotegCbAraY1G9WqhpI0VNmxNKR9TbdzmiwpOpdOdwzndLsnoOmf4+NlytV/LlbHDi5DXuHLtNuq6uabEvnUvIqOicfbif0J745/9xzB2WF8A0nXij67fuo/OfUZiyZyJaNrIHR/CIyAWp2zHzdv+6NxnFNYunQ6PBm4Ifh6CnoMmIDExCXOmjULtGpXhXL4svIf64PDu1Xjz9j0GjJiKzavmokABfQBA9wFjkZCQiEsndqCgkSE2bt2LBq16IujmCaHOVja2A+RrB/Tr2RFaWlrYvGMfTh3cDC1x5rfdoqKi0bBVT/T6rS02rpiNmJg4jJs6H627DMb/Tu4S9tmcRWvh3aM9rpzcDW1tLQwbNws9B47Hf2dSOsUza1NkJz9k1rYl9aPsYfB9DxyHg10JVCxfRu5leA2kHKpwr+xDeARmL1yDMUP7wP/qEbx7H46m7bzhVL0FBvXtjMBrR4VpqzfuwvBBPQDIdx+yU+8RMC5SCAFX/SASiTDjz5SHWGu6VhL2Qc9B4yESiXDn0gEAgPdQHwwcOQ1b186Xe3/JktP1max9q0h9ltWxI9WSX9oI2em7SKuemyuKFTVGtXrt8O/+DShQQB/6+nr4EB6Bf/YfQ5HChfDP5qUwKVIYQPr7qFn1Q5w+dwUjJ83F1jV/op6bK27c9kef3ydJxZDdMiyr+1IZybIDODIqGnp6uihqUgQikQgN6tYQ/rZ5x34YFymEJXO/b4S9rU2GaXk0cEOX9i0AAK5VKmLutNHwHjoZM32Go+dvbTBpxmLc83+ECk6lAQDb/jmEHl3ayBwqKDIqGkUKF4SBQQEYGBRAp7bNhb8VKKAHsVgTJsaFpZbp1qmV8O/aNSqjRjVn3Ln/EHXdXGFiXBgikQhGhgWE5SIjoyAWi2FWzAQGBgXg4uyY4bbJWh4AtLW0oKerIzVtzqK12LhiNipVLAcAmD5pKFZv3IWTZ/+H5k3qZmvbsiuz40uqLzY2HomJSTAzNYG+vh7sbW2EPFiwoKHM809DQwMjBvcUfg/p1xWjJs3Dk+CXcK5QVuY5ltV5kpCQgPkzxqKEjRUAYFDfLmjRcQBWLJgKSwtTYdrAkdOEZWYvXI21S2egpqsLAKC1Z0PcDwzC9Hkr0aSBGyQSCZav3YbNK+cKea9fr444ePS01JAnWeWntBTJ05nNm1F+t7G2RN8e7YXf/Xt1RMvOAzM9Hpnld1WUk3VCQSMDzJ02ChoaKYNRbPhrFqwd6+HWnQC4ODvCqWwpbNt9CEMHpLzttm33IdR1qwYba0uF4ipU0AhAykNAaS9q67lXF/5dpHAhdGjTFLfuBgCQfYzfvgvPML+l27YMjresafOWrMOA3p3RslkDAIBXy8ZovOsANmz1xfwZY7O1bYpoUr+28PBVkcKF4N2jPfYe+jdbaZFyZFZe+QcG4cTpS3jhfwYW5inlcerDYbLExcVjydyJcLArAQCYNWUEDvidwpYdBzBySC/06NIGG7ftFTqAz1+6hk+fv6Bty8YKxZVROZpZvsypcrRpI3d4fYu3WeM6cC5fFpUqlkVrz4ZS027eCRA6gDOLK9Wwgd2Fm6r13KujSYPauHr9jtABnNU8jerVwgG/U5g24XckJyfjoN9pTBo9AKs27MScaaMAAKfPX8W0CdnrkFS2tI3DX233vqOIi4tX6AZh6rBS2e0AlrV86tBtY4f1RQ71/2Zr2yhvy+z6H0h5q2/VomnCjczUsj8jQwd0Q63qlQGkDHF24fJ1LF+zDY3q1UL/Xh3RZ8gkzJk6ElpaWoiKisYBv9M45rsuXTq50S6RdZ0jb/tVLBajbm1XnLlwFXXdXOEfGISvkVHo9ZsXDhw5jSYN3BD25h0eBgWjcf1aWe12zFuyDr1+80K/Xh0BAMWtzIW/zVm8Fr27thXyYeXCBbFy4VQ0at0Lk0YPgIFBASybNwmV3Npg/ZY9OOB3Cp3beQptFf/AIBw7eRGvHpwXOnvHjfDGv2cvYemqvzFrSvqHrJSB7QD52wEGBfQh1hTLdd9m0/Z9MDEuLDW84MYVs2FVrg5Onr2MRvVqfdsWQyycNR6a326Ojh/RDy7ubZCQkAAtLa0s2xSK5ofM2rakflKHwVeW5Wu3YcLIfgp1APMaSDlU5V6ZcZFCmDp+CDQ0NGBiXBjtW3vg0NEzmDxmkBBL+9YeuHnn+2gaWd2HvHUnAP/duCdVHy/7czJ807xF+ODRU/idOI/3T6+gYEFDAMDcaaPg4t4GqxZNS/eilkL3IXO4PpO1bz9GfJa7PgNYF+Ql+amNkJ2+i1T6+nooXOh7fkqbZ5+/fI0zh//O9Potq36Ipav/Rt/u7YQhtRvWq4kh3r/BZ9ZSqXSyU4bJc19KliyHgPYZOwiXrtyEU3VP/LV2m9SQwwEPnsC1SoUsV5KqXBl7qd/VXMrjy5dIvHn7HsZFCsOrRWNs3OYLAAh5FYZLV26iR+fWMtNa/qcPRkycg8ate2P/4ZPphiOU5emzl5i3eB36D5uCdt2HIvDhU8TGyR7iAEg5ua2tzGHn3AgT/1iElyGhcm9rRt69D8fbdx+wYt12tOs+FO26D0XHXiOQkJiAp89eZnvbsiuz40uqz7ZkcYwb3hcu7l7oOXA8rt28J9dyl6/exJRZS9Fz4Hi06z4UEokk07yQ1XkiFothV9Ja+G3w7emZ1M7f1Glfv72J/ubte3wIj0BVF+mx9qtXrSgMLxj25h0+f/6abp4KjqWFf8uTn9JSJE9nJ/8nJCTA98BxjJs6H7/1HY0ps5dlOIxKql+Z33NCTtYJZUrZCjd9gJSLDytLMzx6kvKGQL+eHbAxzRAk2/85jF6/tVU4roxERHzGmk27MGzcLHTsORy79x1FbGzG3+LJbn7Lyv3AIJy7+J9wDrfrPhT3A4KEczi3y+nUJ/5SGRka4POXX/8tJMq+zMqrgIdPYG1lnuXFfSqxWCx0/qaq6lJeeHOnX88O8DtxThiWcPuew+jQpin09fUUiisjiuZLQPFytEwpW6nfBgb6KPXDNhsYfK+z5I3LsUzWeSmzeRrXr4X/btxFdHQMLl25CX19XXj36IAXIaF49DgYr16/wZPgF8KNYGXhsFJZDysla/mbt+9nOHRbVsPIKbptmXGq7om37z6gbbffYWjpguVrtsoVA6mOzK5H3r77gPCPn4SRBORRrvQPbfTKFYQyv2kjd+joaMPvxHkAwAG/UzA3LQq3muk/L6Qq7ZK0GtevhTMXrgIA9h0+CY+GbmjSoDYOHTsNiUSC0+evwqmcg1x1ZMCDxxnuV//AoHRtFtcqFRAfnyAM+WZgUADb1y/A0HEz8fzla5AVBiYAACAASURBVPw5/ftIK/4PHsPayjzdm77VqzjjfmBQlrH9KmwH5Hw7AAD8Ax+nO38MDArAsYwD7gd8P/6lHUoKnb8AYGRYAElJScLoGlm1KRTND9lp25Ly5dSnYXJ6qPZf9WkYRYa2/dHK9Tvg4dVXKENkXTN9+vQFZap4CCMcpBo4YppwHavIkL/JycnoM2QiRk6cAyDz61NVoSr3ykrZl5CqRwwK6MPBTrojU9H7kA8fB8OmuIVUfayjo41S9iWE3/cDg6CtrYU+v08SylqfWUshkUgQnOazd6kU2V+qWJ+xLsg72Eb4+XunLhUdM+38lacf4mFQcPq+DKfS6dJStAwDsne/DJCjA9jBrgQeXD+KWT4jsO/wvyhZoQEu/u8GACAuPh7aWtpZpPCdRCKR+i3+NhROYmJKId6vZwds230I8fHx2LHnCOq5ucI6gyH8WjVvgJf+59DasyHGT1uY7ps6P9p36F+4uLdBsiQZHb2aYdr4Iel26o/09fXgt2ctDu9ejddhb1G6igeWrf5b7u2VJfWbKx29mqFnlzbCfzvWL4Rnk3rZ2rafkdnxpbxhxuThCLh6BJbmpvDw6otOvUYgOTk5w/lHTJiNngMnoLilOfr17ICZk4dDUzPzoiCr80RHR1uq0AIALa2MBxiIiUkpsFOHTUsl1tREYmISJBIJEhISZaajp6cr/Fue/JSWInla0fwfFxcP96ZdsXrTLlRxdsKIwT0wsE/nDOdP9Svze07IzToB+H4OAECX9p54+izk21OYd/HuQzi8vj1BpUhcsjwJfoHSVTxw++4DNGlQGxNHDYBHQ7csY1Y0v8kjLi4edWpXkzqHl86bhAkj+2dr2xSlnyZPUd6UWXkVFxef7ptFmZGZL8WaSExKKZNL2ZdEjWqVsG33IcTFxcP34An0+s0r3TJZxSVLdvOlouWonoy35TMbjlfeuPT1s85Lmc3jVK4UjIsUxuX/bmH/kZPwatEYenq6aNKgNg4cOY0zF67CpWK5HBsFJjtSh29aNm8y3j6+jPNHt6FDa490w0qtWDgFj2+dwLplM4Q3OVKGlfokpJU6rNTsKSPw+sEFzJ4yEiMmzMHJs5dRuHBBYViptLIaVkpWXGOH9UWzxnXQtWNLXDqxE5tWpNxgSzus1Ev/s+j1mxc69xmFyMgoYVgpxzIOuHRiJy6d2AkDgwJSw7K99D+HBTPGpXvAFYDM5cs7lsb65TMBAGcOb8GlEzvhVjPlieqeg8bj85evuHPpAK6c3I1nL14Jo6ZkZ9sy8zAoGC07DUQ9N1fcuXQAXTu0zDIGUj0ZXY+kXhv/TLkvFouFb9dqamqid9e2Qkfctt2H0PO3NunSyCqujORGuyStRvVq4trN+4iKiv5WrjZC7RqVER+fgGs37+HMhavCWxBZiYvPuD6NiY1L167R0NCAhoYG4tM8sJKYmAiJRIKkpCSp/RITE5tueSCl/lXWcKyysB2Q8+0AAIiJjYVYM33bWSzWlDp/9PXSP2yXVlZtCkXyQ3bbtqR8aYebfRN0Cf9sXiL1Ca2u/cbgSfBLHPNdh8D/jmLGpGEyPw3zITwC0+b+hajoGNw8vw/3/3cICQkJ6NR7JICUER43bPXFx4jv13apQ7U3qldT7rhShw0uVtQYC2eNx6UTOzG0fzcA34e6DLzmhwvHtuPGbX8sWL4RAGReA2V1nZqZrbsOYvbC1VixcAoMDQ2E/fHjNVNiUhIePX6W7mHEkNdh+BAeIdcxSKv/8Cl4+ixE+JxOZtenqkJV7pXp6aZvV+XEfUhZaejpfT+H4uLiUdDIQKqs7d+rIw7vXi3zM0SK7C9Vq89YF+Q9bCP83L1Tg2+fZsmIPP0QCYkJ6e5XyCqvFC3DspvfATmGgAZSDnBrz4Zo7dkQ46bOx9Q5y3Dm8N+wt7XGsZMX5FpRaqBp3fV/CB0dbeEtwdShmI+fuohd+/ww+vfemaZnZGSAQX27wLtHe9Rv0QNrN/+DKeMGQyQSpTtJl6/dhuEDewgXv0DKsAdppSyXfj3VKldAtcoV0Lldc7TqPAiD+nYROq+zWl4kEkGC7xOtLM1QoIA+TIwLo1njOjmybT8ro+NLeYeNtSVmTRmB3/t3RZmqTXHpyk2416qa7vyLj4/HyvU7cHzvemHYgPcfPkrdWMjoHMvJ88TK0hSGhgXgH/gYZqZFhen3Ah7Bwc4GIpEIlham0NLSwsOgYKmn756/fJ0mHfny04/kzdOZzftjfr96/Q5u3Q3A55CbQgPj2Q9P//14PFJllN9VVU7VCU+fhUAikQjD/EdEfEbI6zDYlSwOIOXJ9y7tPLHtn0OQSCQZvmWYVVypXxFIe15v/+cwypa2w+ol359ajt0s/SRZRnVCRvntR7KOt6xppR1KQiQSCUPq/uy2Uf4lq7yyt7XGi5BQfP0aKdzMyExSUhKev3gN22/5EADu3n8oDF8DpAz7NH/ZBtiVtEZR4yLCsECKxCWrHJU7X/7iclSeuHJKw7o1cO7iNRw8ehrbvn1Dqo1nI6zdvBv2tjZyd1TkFg4rJf+wUrKWlzV0W1bDyGVn27LSoE4NDOnXVfit6FB2pBpkXY/UrlEZOjra8A98DNNiJnKl8yT4hdR1zF3/h1Ij+/Tt3h4OLo3x6HEwzly4irVLZygcV/bbJSn/l3UDSp52SWkHW5ibFcWuvUfx9NlLNK5fG5qammjRtD4OHzuLMxeuYv2ymXLtJ/uSNvAPDEJHr2bp/la2lB38Ax8DaV5QDXjwBMnJycJD51++ROI379FYvfgP7D9yEiMmzMGapdNTli9tJ7OuvhfwCKUdSsoV36/CdoB87QBFlC1tl+4Nv4SEBDwMCsbwgT3kTierNoUi+UGeti2pppz8NEyODtX+Cz4No+jQtkBKPXPgyCmM8fkTpw9tlqr/gPTXTKmdvJmRZ8hfkUiEUZPm4p7/I5w6uEl40SGr61NVktfulclzH7KkjRVevgpDTEys1Msnae9DlnYoiQ/hEahdvTIKfRtGVh7y3ofMlfpMxr6Vpz5jXZA35Y82Qu73XcgiTz9ESRsrPAwKlpqWtgzJrp+5L5XlG8D/++8WoqKiAaQMTREbGy98BLl7p9a4eScAm7fvE3b6o8fBGaa17/BJ/HfjLgAg/GMEpsxehl6/tZV6c9C7RwcsXrkFz168gleL79+TC34Wgu79xyL8Y0ple+b8VeFJgYSERCQkJAqVvqW5KR4/fYGINB28+nq6CH4eIsS5asMO4bX1VJbmpkJ8QMowT2Fv3gm/o6JiUNDIEGKxGElJSegzZKLU/D8uDwCWFqa4cdtfiFUkEmFo/24YPXmesK+Sk5Nx9fod4YkuRbftZ2R2fEn1vXsfjnv+j4TfsbFxSE5OhnGRQgDSn39aWlrQ1tbG02chwvyjJ8+TyoOyzrGcPk+0tLTg3aMDJk5fJAw39DAoGAuWbxQauWKxGF3ae2LqnOXCsA03b/vD9+BxIR158lNaiuTpzOZN3U9p87u+vh4SE5Pw8lXKcC6hYW8xb8l6qfX/eDyAzPP7sZMXMGLCbPl37C+Qk3XCy5BQrFi3HUDKGxFjpvwJe1sbqSFJ+vfqiIN+p7Hv8Emptwx/PF6ZxWVuWgwaGhrSx0tPF2Fv3iM6OmXItP9u3MUO3yNS8f14jLPKb38uWSc1vKms4y1r2vBBPbBy/Q6cOH1RmPYk+AWCv+VTRbeN8p/MyqvqVZ3hYGeDUZPnCU8rvgwJRUxMbIbp+cxaKsy7efs+3At4hG4dWwl/92rRGCGvwrBk1Rappzx/uhyVJ18qoRyVJ66c0rh+bew9dAJxcfGoUa0SAMDToy5u3Q3E2Yv/oUmD2rmyXnlxWKmcH5I/q2HkcmPY0R+/d6roUHakXJldj2hoaAjX2KlvyXz+/DXTURGWrNoilNW37wZi/d970Kd7O+HvVpZmaFi3JgaMmIY6tapJffs2bRmbG+0SWdc5mV0X/XjPAEh563H+svVo3rgudHRS3lBt49kQu/b64d37cJlliiz9e3XEqg07cf3WfQApHXSp12qDvbtg9caduHk75Rtdnz9/xajJc9GtUysYf4tt4MhpqOzshB5d2mDdspk44HcKB46cAgC4VqkIxzIOGDlprvBW2aGjp3H81EUM9u4iV3y/gqq0A348zqrYDlBEt46tcC/gETZv3ydsg8/MpTAyNICnR12508mqTQHInx/kaduSasrJT8Pk5FDtv+LTMNm5Zrrr/wid+4zEotnj030aCUh/zSQPebZ1zaZdWLrqb/j+vSzdQ7qKXp/+aqpwryw75LkPWau6C8xNi2LqnOXCutds2oXnL7533lR1KY8qlcqj79DJ+PTpC4CUOuH8pWsy16vIfchcqc9+2LeK1GesC/IWVWojpD2PVKHvQlYbITvk6Yfo3qk1Vm/chaBvdeXbdx+wZNWWn1ov8HP3pbLsAN5z4DiMS7rCxqkeTEpWx/Vb94Xv1VhZmmHH+oXwmbUUhpYuMLCohN6DJ2WY1oDendBvmA9M7WvCvJQbihoXwewpI6Tm6flbG1y5dhsd2zSTetrmxh1/bN11EM9epNyEGDtlPgwsKsG2YgOYlaoFBzsb9P12EjZpUBsuzuVgU74erB3rIuzNO0yfOBTnLl2DeanaKGpbHddv+WP4IOmnKaeOH4yFf21CifL1MWrSXNwPDELpKh4wL1UbVmXdMdpnHrau/RNAylNfm7btk3qV/MflAWBQny4Ifh4Ci9JuqNU4ZZiEKeMGw71mVVSs1QrGJVyhW6wCeg4cj5hvY+grum0/I7PjS6rv0+cvaNquLwrbVEXJCvXh4u4FnzGDhAvXH88/kUiEZfMmYfiE2bBxqofi5eoIT6GlknWO5cZ5MnvKSFR2doKNUz2YOdRClbptU4ZOSNO4nz9jLEQiwMS2Okzta6Lf8Cnw+fYx9FRZ5ae0FMnTmc0LpM/vVV3Kw7tHB1So2RI2TvVQq0lnzPQZJvVEn6zyILP8fvjYGWzctlelvguck3VCq+YNcPr8FRS2qYpC1lVx6cpNbF+3QKpSd3F2ROFCBaGro4Oari7C9B+PV2ZxGRkZYOKo/vBo2xclK9SH74Hj8O7RASbGhWFeujYsy7hhxIQ5WDRrvFR8Px7jrPLb5h37sffQv8Lyso63rGmN69f+P3v3HRXVtYUB/BuG3nsVEezGBoJgAbuCXbGjIvYejcaaGDU2NNhb7B1roibGklifxhJ7QcXeQASkSx3m/YGMDMww9AH8fmu99eItZ/Yd5raz790Hi2ZPgs/QyZLvrUnbvpLzXX63jb4+uR2vVFRUsHfLMty6EwQ9GycY2zWEo3s3ueM8W1uZo4pDRVhUbQxTe1d8N2MRtqxZIHUxr6GhDt9+3XDh0n8Y2KerZHphj6N52S+VcRzNS1xFpXXzRgh++hJdO7SWvBVlbGSIxq6OiIqOQaOGeU+uFheWlSrakvx5KSNX1GVHdXWlS1vlt5QdKZei65EFsybCztYatrWaw9TeFVbVm+L658SkLAP7dIWTR3dYVm0Ct9a9MLi/N3p185JaZoRfb5z731X49Zcu+Z/1GFsc9yWyrnNyuy7K3mcAAG1aNMHjJy+kyge3adEE7z9EoFkTF0kSTBHvLu0wbsQAtOg4EMZ2DaFr7YhNOzLGuezk1RJzZoxH225DYFGlMSyqNoaBvh5WLMq4Dt617yjO/u8qfv38xL6ZqTE2rZqHoeNm4l1IGAQCAQ7vWYPnL99Av0IDmFRyxajvZmPnr4tRrUrpeQO4tNwHZP87l8b7gPywsbbAn/t+xcKlG2Bk5wI9Gyf8fe5f/LZrVa5DVGSn6J4CyPv+kJd7Wyqdin1omAKWai+poWHye8108vT/0KubF+b6r5H5EkH2ayZ5Mq+Dgbxt672gYDRqWB/T5wRITS/I9WlJKw19ZQWlqB9SKBRi18Yl+O3oKRhWdIaxXUOcOX9FKuklEAgQuDkA0TGxMHVwg6m9K/RsnOQmePLTD1kc57Ps321+zmc8F5QtpekeIevvqDTkLmTdIxSUojzEgD5d0K1ja9R26wSrak3RoFl3TBrrV+jPLUy/lEBVVVWcGvkg14WSkpIRHvERhgZ6MssHisVihIR+gLq6GsxMjWW20brLIHi19sCkcYMR+v4DNDTUYWxkmGO5uLh4WFV3x9+Ht0jefMj0LiRMUi4ayCijFBMbB3MzE5k3buERH6EqFMLIyEAqTj1dHejryy6DmJKSgrAPkbC2ModQKERaWlpGO6qqObYtJDQMlhZmUjcp2dcHMp4ECH0fDmMjA6mkdlJSMsI+RMBAXy9H2Yj8blthKPr7ZqdqXEvSOUfFIy4uBuNG+mHbukUKlxWLxYj8GI2UlBRYmJtKfneZZP3+Mn+n8n5fQM7fWH5/J3mVlJSMD+GRsLQwhbq67FgiIqOQlpYmVaZFVjvy9qes8rNP57YsIHt/j49PQHRMHGysLSSd91nJ+nvI299TUlIQExsv97ia1ZadByHQMoPf4GEKl5VFLBajzjfVcf+K4qeHiuKcMG/JWly9fhd/7FuP6OhYJHxKlDq+Z+Xh5QOvNh5SJfyBnH8vRXHFxcUjPuETrCzNJdPCIz5CLBZLlRnPKvvfOLf9LSoqBhoa6lLl6WT9veWdE0QiEUJCM86PpiZGUueWgmxbcbt1JwiLV+9C4L6DihemAgv/8B7zfpqKFf7yO1EBxccrIONYmpycAkuLnOcKALh4+Qa8egxD3LubSExMQnjER1hbmcu8wZs1fwWuXr+Lk79vlppeFMdRRftlcR1HFVEUV2kRsGoLqtV2Racu8pOliiyaNwstGteBq3O9XJd7HxaOGi5eOBq4Dk0bNYC2ZT0c279BZmnk1l0GwbOVOyaPHwIg43pyw4q5GDzgS4fK9z8uxp17j3DqcMb4bm/fvUdVp7a4ffEw6jbujKe3/pZ6GCEvcXk0cUHfwd+hoq0V/Odk3ACmpKRAz8YpR1kp88qNcPmffXBzqY9ft+7Flp2HcPXMAbmfM/WnJfjv5j2ZZaVkrf/4yXPUcPbCp/d3JL/dazfuwt2zH8Ke/JunMnKKtk0RVeNauHJ6H5wd60im5SUGWetlatymD85duAR1jdzHp6S80dXVQXzIrVyXUXT9D2Rck36MioG5mYnc8Q9VjWvh6un9qF+3JkJCP8DYyAA6Msa+OnP+CroPGIv3wZek2sp+jC2u+5Ls1zm5XRdl7zMoaikpKXgfFgFDA/0cfQoikQih78NhoK9b4PulmJg4xCd8grWVucx7ieyiomLg1MwbL16+LtDnZZeQEI9hg/piz+YAmfNLy31A9r9zabwPKIiwDxEQCoWFesstt3uK/FJ0b5tp594jSBOJ4TdqSoE/i3IX8u41VgXMx8LZk/K13ol/LqBL39FICL2NazfuonUXP4Q9uSRzP8l6rp+3ZC02bj+Al/fOSJVqt6zWBGf/3CF5KGPEt7Ogo6MFsViM+IRP2JjHsvpZ41JVVYVVtabYsmYBvNp4AADmLFqNMxeu4PxfuyTrjJk0B89evMGJ3zLeQFR0DZT9mim71l0GoWO7Fhg3oj9adBwIWxsr7N70i8zvI1NCwifoWjsi6NpfqFm9smS6Q71WGNzfGz9ke2FB1raqGtfC9XOHYGZqjPpNu2DBrO8wbFCvPF2fXrx8A57eQxVeJwCA/7KNqO/aHO08OyhcVpb3oe/wy8JZ+GXe1BzzlN1XVliK+iEzz2U62lq5Xp/HxMQhJjYOpiZGuR7/89MPWRzns+zfbX7PZ3k9Fyxc+iscXVvC06tgvzlSrFtnL6xYOBUV5TykW1ruEbL/jkpD7qKo7xEU5SHi4xMQFR0rdRwsCvntl7Ku7p63MYA1NTVy7WzJHK9Tkcynx3LroN6wbT+qV7XPkfwFkOMz9PV15SZyAeQ4qOYlTnV1daltVVVVlRuvrLIp2dcHMt6+kfW5mpoaMsfGAPK+bTv3HsGhoydlLrNt7aI8dSQp+vtS6SYQCHK9QZT1+5P1O80u+/5TXL8TTU0NuSeuTHm5Ac5tf8oqP/t0bssCsr9HXV2dXMfKk/X3kLe/q6urF0nSoqgV9TnB0FBf7rHq+q17uH7rPg5sX5FjXva/l6K49PRydsYp+n6z/41z299kPZAj6+8t75wgFArlxp/Xbbt1Jwhz/FfLXGbyuCFo2ij3sVqp7FJ0vALydizN3C+1tDTlHpvj4xOwcfsBbPg8dmFWRXEcVbRfKus4WhqPxyXtQ3gk3odFoG7t6gDkl5U6UnMtLC3MEBMTh8SkJLkPcC1ftx1ebTxgZWkuKSu1ftmXMW0UlZUyMzWGX3/vXOMCpMtKqaioSJWVauHhprCsVObx/d+rN1Gvdg3o6GjLLCs1e9EqLFs4HSbGRjLXz1q6rbm7KwDpMnKbVs6DoaE+kpKScfX6HTRr2jDf21YQimKg0kfR9T+g+Jo0kxjiXK9BAGDZ2m0YMqBHjk6i7MfY4rovyX4Nl9t1UXEmf4GMeOWdH4VCYa7jaeaFgYGeZCzu0qi03Adk/4zSeB+QKT/X53kdly83ivbn/MjrcYRKjwcPn8DYyEBy/S1vaJhVi3+EhoY6Xr8JgZmpsdSDyZkyS7WPHd4/11LtPX2/RZpIhMAsD46IRCIM//ZHDB/UG67O9XKNC/hSNjgzAZy11KW2tpak1KVrgy8PJ2a/BlJ0zZT12jEroVCIwM1LUb9pF2zYug/D/XrL/X51dLRRyc4Gu/YdxfzPFS1Xrt8hVSJY0bZmjX/nhsXwHjAeDRvURd3a1RVen5YWyu4rKyxF/ZB5PZfl9Zydn37I4jifZf9u83s+47mg7Cgt9wjZf0elIXdR1PcIivIQxbXfFKRfqtS8sx+wagtevHqL7YGHcfzgRmWHU2Y0cXWCrZybTG3tnBdwRERlwcHDJ3Dr7kNs2XUIs6eNLZLOkK+BXUVryfg12VWrUqlkg6Fy5/qtezh28jyOHj8Dp3q10NGzhbJDohKWWb7pU2ISDA30EBMTn6Os1JCxM2FbqzkM9HXxKTEJ+7ctl/tbySwrJRaLERUdg7HD+8ssK9Wp98gcb6Nt2/M7HCrZwq+/t8K4Rg/ph1ZdfGFd3R2V7Svi0qlArPSfiXFT5uHnJWvx6VMiZk8fh+CnLyXtZy0rZWigj6un9+PA4RNo2ckXFuamiItLQI1qDtjz+U2RzLJS40cOgImxkcz1rSzNJaXbrCzNsGTuFPTo6onAzQEYPHYGTB3cMuKPjUdHz+Zo1rRhgbYtvzJL2cmLgb5OkR+jsHrDbty+9xB3HzzGljWFG0+dKK/K230Ar8+pJN0LCsbwb3+EjrY2hEIVqKmp5hgaZuCIKRllwnW0IRAI8ODqnzITwJml2n+cvwKpqWmoYG2BvVuWySzVHhefIHPIpprVKsPVuV6ucQEZZYP7DZ2MbXt+h3fntvjx+9H4/c9/YFW9KXR1tGFna4Ol86dh32/HJetkvwbaunZBrtdMWa8ds7OxtsCOXxfDe8A4uDrXQ706NeR+x+uWzobf6Bn4detepIlEaNeyqVT5U0XbmpVnaw+MG94fvQZNwPVzBxVenxIRKRvvEcqeEksA9+/VGVUr28mdr6urDVsbK1w7c0CqjAblzsHeFg72tsoOg4goX9wbOaNSxQpy5+vqakNbWxO7NiyRWUqUZDM2MpS8VUaUXxUrWGHqBPll5LW1tCAUquC7MYPQq5tXnkpTUvlSrYo93j68ILd8k56eLvZvXyGzrNQ/R7blaK+FuysmjhmUa1kpbS0tGBjooVtH6THlLp0MlJSCUhSXg70tnt3+R1JWCgD8+nvDp1cnqbJSY4b5SNZRU1PDP0e2SZWVWrZwBhb+NElmWale3bzQxNVJ8mSxrPWBjLHppnw7VKp0W0Vba/xzZJvMMnIF2bbcpH0Mkjk9txhyW4/KtpmTR8Jazhspaqpq0NBQR6tmjbBp1TyYGBe8JC1RVl/bfQCvz6kk9fHugB5d2sktN1uzemX8d+6QzKFhsp/rRaL0PJVq19bWhHeXtlLTLMxN8fbheUkVGEVxdfJqicgXV6TKBv/7994cpS6zJm+zXwNpaWnmes2U9doRyHlt6tXGA5/e35H8W961j2drD4Q8/h/eh4VLrlOzUrSt2dtdNGcyFs2ZLNm+3K5PmzZqkKfyz0REhcF7hPKlxBLAmQOqyzPCr08JRUJERMqm6I0iz9Ye8GztUULREBGQkQD6cUrOcasy1apRBbVqVCnBiKg0Ylmp/JWVklWiSVbpNkB+Gbm8bltqaiq69pO9D3u2dsfIwX3ltqEoBiqf5swYL3eevr4upk0cXoLR0NeC9wFExauoh4YpqiGbSmJomIKWas8vgUCQ67bk5W8gT16uT4mIihPvEcqXUlMCmoiIiIiIiGWlCkYoFMotM2ptVbBOSCIiIqLsylupdiIiovKKCWAiIiIiIipRLCtV9FRUVFhmlIiIiArtayvVTkREVF4xAUxERERERCWKZaWIiIiISieWaiciIiofVJQdABEVjdD3HxAdHavsMIjKreTkFDx/8UbZYRCVGc9evEZycoqywyAiIiIiIiIiolIgJDSMOYwSxAQwUTnhN3oG1m/dq7TPn7dkLU6duVhq2ilrnr14jcFjZig7DMrFrbtBqOXaXtlhEJUZ1Rt44l7QY7nz09PTMXDEFLx9974EoyIiIiIiIiKS9u/Vm9i2+zdlhyHXk2cvsWjZBixatgFLVmzCrn1HEfz0hcxlTvxzQW47G7buw6JlG5CamlrcIRPJNHDkVGzacSDXZb7W/EBxYAKYiIpEdEwcEhIS87XOwcMncOfeo0K3UxBpaWmYs2h1vteb67+mWC6SUlJSEREZBbFYXORtExGVRunp6YiIjEJKypdjanEdY4mIiIiIiIjkmT5nKUZPmoPIj1HKDkWmBw+fYq7/Gjx9/gpBj59hR+Bh1G3cGTPnLpNa7twCXQAAIABJREFU5qcFKzFy4mykp6fnaOPp81f4dtp8TJ8dwGpdVKqVVH7ga8AEMBEViV/mTUW3Tm3ytc6qDbsQGvah0O0UxP/+vY7jf8t/Ik6WxMQkLFq2ASJRzouowqpZvTKO7l0HgUBQ5G0TEZVGqqqq+OvgRjjY2wIo3mMs5V9qapqyQ6Aygg9tEBERFb/UNF6bUd6lpvH6LD+Cn77A4ycv4NXGAzv3HlV2OHLp6+li06r52Lp2IU4d3oIThzZhQcB6PHvxWrJM/To18elTIk6fv5xj/c07DqJDu+YlGDFRwZRUfuBr8FUkgJev3Q6X5t4wqeSKyvVaY+HSX6Xm12nUCZev3UKTtn2ha+2IWg3b49jJczh/8Rqcm3lDz8YJdRt3wt9nL0nWWb8lEL+s3Iw5i1bDpoY79Gyc0LnPKLx5G1rSm0dfoXchYejSdxT0KzjBpoY7flqwEurqalLLxMTEwW/0dJhUckWFmh4YNXE24uMTJPMPHTmJ+k27QM8mo42evt8iKSkZACAWi7Fw6a+oUr8NdKzqo6pjW/xz9l8AwOAxM/C/f69jxpylMKnkip6+30qmb911SNJ+nUadcP3WPTRr3x86VvXhUK8V1m8JBJDx9m3broNx4dJ/GDb+R9Rw9pTsl5ntHP/7Ahq17p3jibU5i1Zj3Pc/S+JcELAedrVbwNiuITr0HC41Ruvd+4/RposfjO0awtTeFS06DkTQo6c4dOQkevtNxJ37j1DD2RM1nD0RFxeP+PgETJg2H7UatoeRnQsc3bvizxNnAQCPgp/DpUUPJCYmoV6TLqjh7InT5y5DLBZjrv8aONRrBV1rR1Sp3wazF66S+XeLjo7FwBFTYFWtKfQrOMHRvSsOHTkJALh5+wEaNOsuWTY2Nh7Dxv+Aqo5tYV+3pSTOVp198/QbocLbsHUfKtdrDV1rR3h4+SD46Utlh0RU5jx59gqtuwyCkZ0Lqjq2xeLlG6Xm13briAcPn8g9xt68/QA9Bo7H0b9Oo27jTpJrsqN/nZZqJ+jRU7Tp4gc9GyfUcPbE8rXbIRaLERUVg9puHfHw8TOp5c+cvwKX5t5ITU3FvCVrMX12gNT8Bw+foLZbx+L5UsoAQ0NDvHnHa1rKm1dvQiAUCpUdBpVDeT0HEBWXf87+C7dWvSASiaSmL1q2AcO//VFJUdHXSF1dA6/ehCg7DCpDXrx6C0NDI2WHIWX9lkAsXr4RCwLWo+I3zWFY0RmtOvvmuFf788RZNGjWHTpW9WFXuwV+nLccaZ8fgMjaJ5hVh57DsXPvEQCK8wCybNx+AJ3bt0S/Hh2xcfv+HPMHj5mBI8dOY/CYGTCp5ArLqk0wcMQUxMbGS5YRi8XwX7YRVeq3gbZlPdRp1AmBB/8EAIRHfESthu3x+MlzqXaP/30Bjdv0gUgkwuMnz9HHbyLs67aEqb0r2nTxy7F8ds2aNoSamppUf5VIlI7+vTtjy85DUsuKRCJsDzyM3t28FH4fRLnJ6/4gL7cAAJ8Sk+A3ejrMHNxgW6sZho6bibi4eKnPyMwzKOp7z5onqVDTA3P912DJik3YuC1jX46OjkUNZ0+8CwmT2o5RE2dLchUAcOKfC2jTxQ+WVZvApoY7Bo2aJpVLqe3WEWEfIuA9YBz0bJyw6tedABTnYJTtq0gAmxgbYtWSH/Hi7mlsX++Puf5rcO5/VyXzHz5+hhETZmH5ohl49/ACenb1RN8h32HSTH/8unwO3gadR7eObeAzdLLkCfeIyCjMXrQaCZ8SceP8b7j371Gkpqaiz+DvlLWZ9BXpM3giBAIBHlw5hqunD+B9WESOuviDRk9DTGwcbl88jMt/78OLV28x6rvZADIGWx8wYgpW+v+AsCeXcP6vXejV1ROamhoAgIBVW7B+y16sCZiFJzdPYuPKn1GvTg0AwOu3IRg/dR6iY2Jx8eQerFg0QzI98mO05PMfPn4G35HTsGDWRLx7eAELZn2HidMX4u+zl6Cqqoo9mwNgbmaCgPnTcPFkIMaPGCDVTrMmLnjw6AnOnL8iaVMkEmHd5kA0a+ICAFi5fgd27j2Cw7vX4OntU6hfpybadhuMlJQUyffk2dodrx+cxf0rf2KEX2/Y2VrDq40Hpk4Yhm9qVMXFk4G4eDIQuro60NbWgp2tDX7btRqv75+Fn0939B0yCfHxCahsb4tNq+YBAM78sR0XTwbCvXEDHDh8AoEH/8Sp37fgffBF7N+2HB6NXWT+3WbMXYqUlFTcuXQEr++fwy8/T0WtGlUAZJz4Hj95IbXsh/BIPLj6J57fOY12rdzhUMkWp49uL8AvhvLr9LnL+G7mIvwybyreBp3HrClj8OP8FcoOi6jMmbNoNWZOGolX985iw4q5mOO/Rmo8okfBz5GYlCT3GPspMQlH/zqD1Rt2Y++WZXgbdB6D+/dA3yGTEBGZUZrr06dEtOnqh+buDfHq/hns3vgLlq/bji07D8HIyAD2dhWweedBqbi27DqIurWrQ01NDe/DIhAaFi41PzEpCY+Cc7/ZLs8aOLvIfGKcKLs79x7BoZIthKrqyg6FyqG8nAOIipN7Y2c8e/FaqnKUWCzG2k174N7IWYmR0dfG0MgYt+8+xKdPLIdJeXPmwhXUrPWNssOQEhEZhTn+a/AhPBKX/96HJzdPwcLMFINGTZMsc+PWffQdMgmTxw3G26Dz+G3nKhw+dho/zsvoj2np4YbNOw9KJYruBwXj5OmLaNOiMQDFeYDsUlNTsX3P7/Dt2xWdvFrgfVgELl+7JbXM67ch8B01Fc2auODJrZO4cHwXbt19iPkB6yTLLF+7HRu378eOX/0R8uh/+Hnmtxg9aQ5Onv4fzEyNYWVpluPt4k07DsCpXi0IhUJoamigdfPGuHgiEME3T8LczAQjJvyU63d670Ew0tLSUK1KJck0UboIg/t74/CxfxAVFSOZ/tep87C0MJX0QxIVVF72h9xyCwCwdM1WeDR2xuMbJ3D66DZcvX4X839ZL/UZmXkGRX3vWfMkV/7Zj3chYZjjvwaRURnrp4lEePzkRY7KVW/ehUrdU2ioq+PbUQMRdO0YLhzfjeu37uOXVVsk8x8FP0fnPqPQwt0Vty8eRv9enQHknoMpDb6KBPCAPl3g5lIf+vq6aNqoARo1rI/b2cYdHTd8AFyc6sDAQA/fjx+CuLgETBzjiwaOtSXTwiM+4nWWN3wN9HWxaPYkWFqYoZJdBWxePR9Xr9/BzdsPSnoT6Sty8/YDXL1+FxtW/AzbClaoYGOJlYt/gI62tmSZh4+f4djJ89i6ZiFsK1jBtoIVFs2ehN37/0B8fAKSklKQliaCpYUptLW1UMXBDj2zPAG2aNkG/PLzFLRr5Q5rKws0d3eFmamxZL62lhbWLp2NmtUrw9rKQm6s40cOQBO3BjA01Ecf7w7w8+mOVb/uAgCYmhhBIBBAX08HpiZG0NHRllpXW1sLvbp5Yee+I5JpJ09fRFpaGjq3bwkAWLh0AwLmT4NjvVowNjLE3JnjERUdi78/P1EUn/AJxkYG0NXVgaWFGfp4d4COjja0tbWgo6MFVVUhTE2MJLGoqKhg4phBqFHNAXp6uhg7vD+SkpLx9PlrqKmpwdBAH0DGxaSpiRHU1dURH58AVVVVWJqbQldXB071v0HLZm4yv4/4hE/Q0tKEmakxDA310ap5I9SsXlnmshev3EDv7u2hrq4OgUCA3t29cPm/23K/aypaK9bvwNCBPdCtUxsYGuqjdYvGGDvMR9lhEZU540cORAsPN+jr66KFhxvatWqKy9dyHsvkHWOBjBvyFf4zUatGFRgY6GHCaF9oqKvj3oPHAIDtgb/DxsoCMyePgrGRIRo41saEUb6SJzlH+PXGzr1HJBf7CQmfcPjYaQzq1z1HHJTBxa0p3oWGS55YJ5IlJDQMo76bjfVrlis7FCrHFJ0DiIqThoY6fPt1w5Ysla7OX7yG6JhYeHduq8TI6GujqqqGyRPHYPSkOZLKbUTyjJo4GyOHDYa+voGyQ8nB0EAPAfOnwcbaAmamxpg2cThu3H4guVdbuGwDBvf3Rt8eHWFkZIAGjrWxNuAnLFu7DfHxCXBv7AwbKwsc/FxNDwB27D0CrzYesLQwA5C3PEBWh//8B4YG+mji1gDq6uro26MDNm4/kGO5di2bwrdfNxgbGaJaFXsM8+2JK//dkcxfELAeS36egsauTjA01EfXjq3x3Rg/zPVfCwDw8/HG7gNHIRaLAWS8lXjs5Dn4+WTcl9pVtMFQ356wsbaAsZEhRvj1xu17D6ViSExKwqbtB7Bh6z788PNyePUYitnTx6GyfUXJMmKxGLVrVUOdWtWwJ8v93OadBzFkQA/J5xMVhqL9QVFuoW2LJvDr7y21vrx+79z63m/dCZKZJ9FQz/8Dyi083NDRswWMjQxR2b4ienXzyrEPtmrWCGOH90dl+4owMjJQmIMpDVSVHUBJePbiNQ4ePonnL98gMioaQY+eoW3LplLL1KjmIPlvXV0dAEC1KvY5psXFJUito6LyJYdubWWBCjaWePz0BZzql66nrKj8ePTkOexsrWFuZiKZpqGhLvW0172gYKirq2HIuJmSacnJKRCLxXj+8i3q1q6OqROGwsmjO3p0aYfRQ/uhYYO6AICwDxGI/BgNN5f6cmPIfKpOkVrVpZ8qa9igLk6f35CndQHAz6c7PL2HYd3S2dDW1sLu/X+gX89OUFdXx4fwSIR9iMCajbulbshT01IlY1+sWvwjfEdNReDBYxg1pC86t2+psEThpSs3cPL0Rbx+G4rYuHiIxWIkJcu/werj3QGHjp5C5fptMGRAD4wc3AcVba1lLvvjlNFo32M4art1xKghfeHbtyv09HRlLmtjZYGbd4LQr2cnAMDdB49RJcsFHRWvR8HP0bu7dFmcurWrKykaorKrds2qUv/W19NFTGxcvtoQCoWoXtVeapq+vi5iPpcXuvcgGOGRH9Fj4HjJ/Lfv3uPZ5yEBvNp4QENDHcdOnkfXjq1x+Ng/sLIwg3tjvrkjnwC/H/4Dc2dNwbIWPVC/bk1YW5orOygqJTLfkI+IjMbaFf6o37C5skOickzROYCouA0f1At1GnXCh/BImJuZYPeBP9Crmxe0tbWUHRp9ZUaM/R4mRr/CtVVPfFOjKhwq2UJVlUMwUAaRSITnL9/iYfAzjB89DIOGT1B2SDJVr2ov1S+nr6cDkUiEhIREGBqq4X5QMLp2aC21jqtzXaSkpCL46Us41f8Gg3y6Ydf+o/Dr74309HQEHvwTKxZ96f/MSx4gq43bD6CCjQVWb8h4YUUsFmP/78exfOEM6Ot/6bP7Jpd72/dh4YiIjIKLUx2pZdxc6mHJyk0AAO/ObTFm8hxcvHwD7o2dceDwCVSvao8GjrUBZDz0duTYafx36x7evgvDu9CwHA98pKSk4p9zGS+9nDpzCTMmjcDk8UNkbpdf/+7YtOMgxgzzQdiHCJy5cAVb1yzEu9AwmcsT5Udu+0Necgu1a1WTu352ufW95yVPkldRUTHYf/g4gh49w/uwcNx/+AS2NlZSy7Rt2UTq33nJwShbuU8A/3b0FPzGTMe0icPRu3t7mJsZy3wFW0tLI8c0NdXcvx5ZT8yoCoVISxPJWJqoaKSmpkFNLedvM+tvODk5BQb6uhjUr5vUMpklkAHg5x8mYOjAntiwbT88uw9F25ZNsGdzAJKTM8onZx9TOCvdbG/rypN9H1FVVZWM25EXTdwawMbKHIeP/YPOXi1x+Ng/uHQyULKNANC7e3sYG315qnFQv26SxHOXDq3w+v457Np/FNNmB2D2olU4+dtmyVOB2U2cvgB/njiHKd8OhWdrdxga6OPYyXO5xqitrYVjBzbg2o27WLNxN6o7e8J/zmSMHzkwx7JVK1fCw//+wp8nzmHlrzswe+Eq/L57jcwkhP+cyWjfczguXbkJHR0tvAsJw55NATmWo+KRmpYKNTXpfUBLU1NJ0RCVXdrahd9vNDU1pB64yy45JQXVqzjkOOdldogJhUIM7u+NLbsOoWvH1ti17ygG+XST1dSXNj+fY75mmtp6WPDLWvwUH47Q108RHROr7JColNBQV4ellRWMLOwBIc+NVLwUnQOIilu1KvZo1NARu/YdxZhhPjh45CT+3Lde8YpExaCHzwj06DMA718HIzw8PMf41PT1UlFRgbm5OcxsqkCoLvtFg9JAWyv3h2cSk5JzPNigoqICFRUVpHx+S9i3bzfMXrgab9+9x5NnL5GUlIxOXi0A5D0PkOnlq7c4f+kaOnm1xLmL1yTTdXW0EXjoT4zw65MldvnXvYmJGYna7LFn5gnEYjG0tDTRp3sH7Nx3BO6NnTOS2D7eADLuP5t3GAAdHS2MGNQbPbt64tmLN7iS7Y1IA3097N26DACwdtMeLAhYj5GD+0heXMuqX49OmDTTH3fuPcLJ0/9DJ8+WMDIyYAKYikRu+0Necgu5rZ9j2Vz63lNSUhXmSRTFCQBPn79C4zZ90L1TW3Ru3xI2VhbYsfcwHjx8KrWOrq52jjYU5WCUrdwngFdt2IUJo3wx/bsRkmkfs9S/L4xnL95ALBZDIBAAyHhK4M27UFS2ty2S9olksbergNdvQ5GYmAStLAfLl6/fSf67elV7RERGoenn8svy2FW0wfxZEzFuRH/UcPHCxcs30LRRA2hoqON+0BNYmJsWKtanz1/Bo8mXmvx37j+SKksiEAigqPLIIJ/u2HvoL6Sni1GtSiXUr1sTAFDBxhI6OtowNTFC+7bN5K6vr6+L0UP7YZhvT7Ts5IsN2/Zj1tQxnz/7y4enpKRg7aY9OHFoE1p4ZJSRCI/4iJSUL+MDfN7VZT780bBBXTRsUBd9e3RAl76jMXpoP6jKeIhEVVUVXTu2RteOrTH1pyX4aeFKnPljR47lNDU1YGFmgnVLZ8PM1BjWVuaSYw0VP3u7CjnG/8y6jxFR0cvtGJub6lXsce9BMDp6tpC7zNCBPVHVqS0eP3mOMxeuYMOKnyXztLQ0ER7xUWr5p89f5yuG8ksADV1zVKrFt3+JiOjrNcKvN5as3IzK9hVhZmKMJm4NlB0Sfc2E2rC0rw9Le8WLEpU1NatVxv2gJ4D3l2kPHj5Feno6qla2A5DRH9iqWSPs//04gh4/Rf/enSUP8Oc3D7Bpx0G0a+WOgztWSk1fvHwjNm47IJUAzk0FGwvo6engftATqZdO7j54jKqV7ST9eX79u6NDzxGYNmE4rl6/I/ncK//dxs07DxDz5gY0NTMSVy9evs31M0f49cb6LYGYvWg1fpk3Ncd8AwM9dOvYBpt3HsSpMxexNmB2nraFqLAq2FgWWW4hK1l97w6VbPHqTUiOPElmRTgA0Pq8TyVme6P+2cvXaNY0I2+xe/8fqFm9MtYvnyOZn7RN8ZALec3BKFO5f5RWW0sTz1++kXQmrtu8B4+fvCiStl+/CcGajbsBAGlpafh+1mJUcbDL9fV2osJq4uYEKwsz/LRwFdLT0wEAv27di5evviSnXJzqwNmxDoaO/wHR0Rlv7CQlJeP856fZPoRH4u79L+NmJSUlIz09HSbGhlBRUcEw316YMXcp3oeFAwBiYuIk/50fy9dtR+j7DwAyavJv2nEAQwb2kMy3sbLA1et35K0OAPDt2xWnz1/G1t2HMLj/lytAgUCA8SMGYPIP/nj8JCNRl56ejiv/3ZbU2D9z/orkO0pNTUNqahpMTYwkn/3k2StEfb4QVFNTg7q6uuQEkZSUjMk/+Eu9cWBlYQ4VFRWpmB88fCLZRgBISEiEgb4eVFVVIRKJMGTsDMny/169iYSET5JYk5JSYGpsJHO7/7t5D6lpafgQEYknz17i+q37iItjqbuSMrBPV6zfshfBTzPOF2EfIrB83XYlR0VUvsk6xubFIJ/uCH72EouWbZBUmYiIjMKNW/cly1SwsUTr5o0xcuJsNGvSELYVvpTxqV2zKs5dvIZ3IRlPQr8LCUPA6i1FsEVERERUHnTv1BZv3oZi+brtCquIEBFRwY0Z1g/rtwRK7uViYuIw6YdFGNCnC0yy9J8NHuCN/b8fx+9//CPVV6goD5C1n04kEmHr7kMYMuBLP2Um337dcPfBY9y++zDHPFnU1NQkfakfwiMBZAwt9suqLZgwyleynJtLfViYm2DclJ/RoV1zyZio2tpaSEsT4fXbEABASGgY/JdvyvUzhUIhVvr/gJXrd+J+ULDMZQb398b6LXuRkpqKFh6uedoWosIqytwCkHvfe2NXR9hYWUjlSdZvCcSbt6GS5XV0tFHJzga79h2VTFu5fodULkVbSxOh78Px6VMiAODq9TtSY2jLoygHUxqU+wTw3Bnjce7iNVhVawozBzf8d/M+Joz2VbxiHnTp0Aqnz1+GkZ0LDCu64OLlG9i98ReWqKJiJRQKsWvjEvx29BQMKzrD2K4hzpy/IpVYFQgECNwcgOiYWJg6uMHU3hV6Nk6SBFZ0TCy8egyFkZ0L7Ou2hJNHd/z4/WhJ/f4FsybCztYatrWaw9TeFVbVm+J6lo70vBrYpyucPLrDsmoTuLXuhcH9vdGr25dxVX+aNgYBq7eiUp2WmDRzkcw2rCzN0bxpQ1y8fAP9enaUmjdr6hh4NHZBvSZdYFLJFZrmdTFo1DTJEz1TZi2BrrUjHOq1gmW1Jqha2Q5DP39P7Vo1hVP9WrCr0wIVv2mO92HhWOk/ExOmL4Bd7RawrdVM8mRRJn19XcyYNAKe3kNhX7clDh4+gXtBwaju7Amrak1RoaYHJv/oj50bFgPISEBs3fUb/vfvdQDAgcMnYGLvCrvaLWBq74b/bt7D4rnfy9xuQwN9hIR+wIRpCzD2+5/Rvf9Y2NT0wJ8nzub770D5N6BPF3Tr2Bq13TrBqlpTNGjWHZPG+ik7LKJyTdYxNi/MzUxwePcabNv9G3Ss6sPYriHsarfA6fOXpZYb4dcb5/53FX79u0tN79ezIzyauMChXivY1HBHw5Y98P34oUW2XURERFS2aWiow7dfN1y49B8G9umq7HCIiMqtTl4tMWfGeLTtNgQWVRrDompjGOjrSY3xCwBd2rfCk2evYG9XAXW++TLGpqI8QNZ+umMnz0EkSkeHdjmrClqYm6KjZ3Ns3L4/z7EvmPUdGtSvDbvaLWBZtQmcm3tjUL9uGOQjff/p59Mdf506D78s012c6mCYby/UbdwZdrVboEm7vpj347cyKwtm1dzdFV06tMKYyXNlzm/ZzA021ubw8/FmVUEqUUWVWwCQa9+7UCjE7k2/SOVJzl/8L0e10HVLZ2PLrkMwtXeFYUVnXLpyU6pvaJhvL5iaGMGqelPY1HDHxOkLsXT+NIWxKcrBlAYCVVVVcWrkA2XHUazEYjFCQj9AT1dHavD2wpi3ZC2uXr+LP/atR3R0LBI+JcLG2qJI2i7tVI1r5WscV8q/uLgYjBvph23rZCdFgS+/ax1trVxLDMTExCEmNg6mJkbQ1taSWj/yYzRSUlJgYW4KoVCYY934+AR8jIqBuZmJpARJXqka18LV0/tRv25NhIR+gLGRAXRkjB2ckpKCsA+RsLYylxlDXiQlJSPsQwQM9PVyfBexsfGIiY2DuZkJNDTUc6wbHvERqkIhjD6PI5wZj7zlASAuLh7xCZ9gZZlREjMtLS2jHVVVydN7mUJCw2BpYSZ5MCQpKRnhER9haKAHPT3Zx6OLl2+g39BJuHH+N6n2/JdtxF9/n8f5v3blWGfLzoMQaJnBb/AweV9TrsRiMep8Ux33ryh+uulrEh+fgKjo2EL9PsurW3eCsHj1LgTuO6jsUMq18A/vMe+nqVjhP1PxwuVE9mNsfoR9iEBamgjmZsY5xvE+c/4Kug8Yi/fBl2Se0z59SsTHqBhYW5mX6Yf5AlZtQbXarujUhW8oEZVFuro6iA+5pewwqIyIioqBUzNvvHhZNEMXJCTEY9igvtizOaBI2itPZs1fgavX7+Lk75uVHUqps3PvEaSJxPAbNUXZoRBREXkf+g6/LJwls7RwSRCJRAh9Hw4DfV25fWfyKMoDZO+nK2pJScn4EB4JSwtTqKvL7leUJz4+AdExcbCxtihzCduFS3+Fo2tLeHp1UHYo5Va3zl5YsXAqKpaSsWXzojC5haxy63sHvuz3ujraMDDQg5f3UDRr2hDTJg6XWuZ9WDi0tbRgYKAn83PCIz5CLBbD3Mwk3zHKy8Eok3V19/I/BjCQkYkvjuRsZjkJQ0P9Ulvjm8qvvP6uDQz0ZB7UBAKBpByyPLq6OtDV1SlwjGKIIRQKpUptZqeurp7r/LzQ1NSAXUUbmfP09XVzffAj+0kjL/Ho6UlfgKqqqspNVFhbSf+NNDU1FLZ//2Ewqla2yxHbp8REaGlqylmLikNh9wEiyr/sx9j8yG18mWVrt2HIgB5ybzq0tbVKzUU6ERERlR7x8QnYuP0ANqyQ/YYVEREVLaFQiAo2lgVaV1F/afZ+uqKmqalR4AQd+6CovCmq33Rufe9Azv3+c9ouxzKKXjSQlVzOK3k5GGX7KhLARERlSYe2zTFn0Rr4jZ4OZ8faSEpKxrUbd3Hh3+s4ErhW2eEREZUZkR+jsHrDbty+9xB3HzzGljULlB0SERERlRHXb93DsZPncfT4GTjVq4WOni2UHRIRERERUZ6V3fp2SubeyBl9vFnSgEiemZNHwroA5TsJsK1ghUf/HUcLd1dERcdAIBCgX89OeHnvjNSYxERElDs1VTVoaKijVbNGuHnht0I9zUlERERfF20tLQiFKvhuzCAc3rOmzJXjJCIiIvoa9evZEU1cnZQdRqnAN4ALqFnThsoOgahUmzNjvLJDKNMMDPQwsG9XZYdBRFSm6evrSo35QkRERJRXtWpUQa0aVZQdBhERERHlA/vUv1ABMgYnJ8oL/laIyq+UlFRlh0BlSGpamrJD+Gpw36T84L5JVLYlJHxSdghUhhQFFgR/AAAgAElEQVTHMT8lldcdlD+p/M0QlUu8D6X8SE3lfWhJ4HUa5UdqahpU7O0q4OHjZ8qOhcqIV2/eoZKdrbLDIKIiJhAI8OTZS2WHQWXIq9fvYGNjpewwyj11dXU8DOZ1GuXdi5dvYWTMUtdEZZWJsSGevXit7DCojHj1JgR2FYvu/lwoFLJ/iPLt1ZsQmJuZKDsMIipCGhoaPB9Qvrx49RaGhobKDqNcs7Qw435JeRYfn4DEpCSotGvdHJt2HFB2PFRG/H32X3Rs307ZYRBRMWjWtCF+3bpX2WFQGXHq7CV4uHsoO4xyT1dPHzduP8Cj4OfKDoXKiFNnL+Kbb2orOwwiKqCOXq2xaTvvzylvTp25CM92rYusPU1NLcTGxePytVtF1iaVfyf++R+vPYjKGX0DQ1y5fgfBT18oOxQqI85cuIKatb5RdhjlWvNmHszjUZ6dPH0Rg/r3hsrP8+bh9PnL2P/7cWXHRKXc1et3sHX3b5g952dlh0JExWDd6hVYEPArrl6/o+xQqJQLPPgn3oaEoXO3HsoOpdwTClWxfsUC+I2ejtD3H5QdDpVy477/GSOHDoSRMd/CISqr/Bctwu4Df+CvU+eVHQqVcv/79zqOHDuNbydOLtJ2161YjOHfzsLLV2+LtF0qn+b6r0FjV0dUqlZX2aEQURESClXxy/wf4Dd6Bj6ERyo7HCrlRk74CaOH+8HAgG8AF6fefX3wPiwCq37dqexQqJR7+PgZlq/bjrk//wxVQ1Mb/O/0Xxg59lssWbEJLk51WLqFpER+jMaj4OcwMtTHiT+PwNDYTNkhEVExqFnPDccObcfI8VOhqamBerVrQE9XR9lhUSkS8v4Dbt99CI8mLvj998MABMoO6avg4zcGOlrqcPf0Qd3a1VGjqgPU1dWUHRaVEiKRCC9evcX9h08wYfRgDBrxnbJDIqJCsKhQGVfOH8eIMRMx/5f1cHasDSNDfWWHRaVIeMRHBD1+Bjtba5w6cQxa2npF2n5Hbx/oaKmhZWdf1KlVDbWqV4GGhnqRfgaVbWKxGK/ehODug8fw6dkJs2b9BAi1lB0WERWxEeO+h4mRHpq07Ys631RDzWqVoaamquywqJQQiUR4/vItHgY/w/iRgzFo5ERlh1T+CbVw8q+jmDJ1Cmq7dURjV0dYW5orOyoqReLiExD06CmiomNxIHA7jM1sIBCLxWIAQHoyYiLf48XzZ4iOiVFyqFSaGBoYwL5yFRgYWwIqvPErCXFxMRg30g/b1i1Sdiilwlz/NZj+3XCoqRVNwiPo0VPcuf8IfXt0LJL2SoMtOw9CoGUGv8HDCt+YKBEfQl7h5cuX+JSYWPj2qNywMDdDJYdq0NIzBgS88StZ6UBaIl6/CMabt++Qmpqq7IColFBRUYFtBRvYVqoKVU09ACrKDomIioIoCVERoXjx/Bli4+KUHQ2VIqYmxqjkUBW6BmaASnE9ECYG0hLx9tVTvH7zBikpKcX0OVQWCQQCVLCxRkU7e6hpGbCfiKhc430oySYUCmFrWwEVKlb5fB/KFwRKTHoKEmIj8OLZE0REflR2NFSKaGhowMzMElVqfAOoaABAlgQwEZUaTAB/kZiYBBN7V3x8eQ2amhpF0uZPC1YiOTkFi+YUbbk0ZSrSBDAREREREREREREREZVZfEWAiIrd4DEzcOTYaQweMwMmlVxhWbUJBo6YgtjY+FzXexT8HC4teiAxMQn1mnRBDWdPnD53GQAQExMHv9HTYVLJFRVqemDUxNmIj0+QrHvoyEnUb9oFejZOsKnhjp6+3yIpKRkz5y6D//KN2Lj9AGo4e6Kbz5hi3XYiIiIiIiIiIiIiIqKSxAQwERW7129D4DtqKpo1ccGTWydx4fgu3Lr7EPMD1uW6XmV7W2xaNQ8AcOaP7bh4MhDujRsAAAaNnoaY2DjcvngYl//ehxev3mLUd7MBACGhYRgwYgpW+v+AsCeXcP6vXejV1ROamhqY8u1QtG/bDP17d8bFk4HYumZhsW47ERERERERERERERFRSeIAfkRUItq1bArfft0AAMZGhhjm2xOHjp7KdR01NTUYGugDAEyMDSUloB8+foZjJ88j/NllGBjoAQAWzZ4EJ49uWLd0NpKSUpCWJoKlhSm0tbVQxcEOVRzsAAAGBnpQV1ODlqYGTE2MimtziYiIiIiIiIiIiIiIlIIJYCIqEd/UrCr1b309XcTExhWorXtBwVBXV8OQcTMl05KTUyAWi/H85VvUrV0dUycMhZNHd/To0g6jh/ZDwwZ1CxU/ERERERERERERERFRWcAEMBGVCG0tzSJrKzk5BQb6uhj0+Y3iTCP8esPO1hoA8PMPEzB0YE9s2LYfnt2Hom3LJtizOQAqKqx8T0RERERERERERERE5RcTwERUqgkEGf8vFosl06pXtUdEZBSaujWAoaG+3HXtKtpg/qyJGDeiP2q4eOHi5RvwaOICgUAAMcRy1yMiIiIiIiIiIiIiIiqr+CocEZVqVhbmUFFRwdXrdyTTXJzqwNmxDoaO/wHR0bEAgKSkZJy/eA0A8CE8EnfvP5Ysn5SUjPT0dJgYGwIAbKwtcP3WfaSnp5fglhARERERERERERERERU/JoCJqFTT19fFjEkj4Ok9FPZ1W+Lg4RMQCAQI3ByA6JhYmDq4wdTeFXo2Tli+bjsAIDomFl49hsLIzgX2dVvCyaM7fvx+tGQc4tFD+uH5yzewru6OJm37KnPziIiIiIiIiIiIiIiIipRAnLWuKhGVCnFxMRg30g/b1i1SdiilRlxcPOITPsHK0lxqekxMHGJi42BqYgRtbS3JdLFYjMiP0UhJSYGFuSmEQqHUeunp6Qh9Hw5jIwNoFeH4xMqyZedBCLTM4Dd4mLJDISIiIiIiIiIiIiIiJeIYwESkVKmpqejp+63MeZ6t3TFycMYbunp6utDT082xjIGBHgwM9HJMFwgEMDUxkvu5KioqsLG2KGDUREREREREREREREREpRMTwESkVEKhEBNG+cqcZ21lLnM6ERERERERERERERERycYEMBEplYqKCpq7uyo7DCIiIiIiIiIiIiIionJBRdkBEBERERERERERERERERFR0WACmKiUSk1NU3YIVIakpvH3QkRERERERERERERETAATlUpqaup49eadssOgMuTV6xCYmpgqOwwiIiIiIiIiIiIiIlIyJoCJSiENDU28fP0O4REflR0KlREnz1xEvfr1lB0GEREREREREREREREpGRPARKWQQCDAuhX+GDRqGqKjY5UdDpVyP85bjtYt3FHRzkHZoRARERERERERERERkZKpKjsAIpKtU48B0FAToHUXPzhUqoAqDnZQV1dTdlhUSqSnp+PVmxDcffAYg/v3xLjJPyg7JCIiIiIiIiIiIiIiKgUEYrFYrOwgiEgOsQhIjUVsxBvERMdAJBIpOyIqJQQCAfT09GBgZguhlhEg4PM8RERERERERERERETEBDARERERERERERERERERUbnBMYCJiIiIiIiIiIiIiIiIiMoJJoCJiIiIiIiIiIiIiIiIiMoJJoCJiIiIiIiIiIiIiIiIiMoJJoCJiIiIiIiIiIiIiIiIiMoJJoCJiIiIiIiIiIiIiIiIiMoJJoCJiIiIiIiIiIiIiIiIiMoJJoCJiIiIiIiIiIiIiIiIiMoJJoCJiIiIiIiIiIiIiIiIiMoJJoCJiIiIiIiIiIiIiIiIiMoJJoCJiIiIiIiIiIiIiIiIiMoJJoCJiIiIiIiIiIiIiIiIiMoJJoCJiIiIiIiIiIiIiIiIiMoJJoCJiIiIiIiIiIiIiIiIiMoJJoCJiIiIiIiIiIiIiIiIiMoJJoCJiIiIiIiIiIiIiIiIiMoJJoCJiIiIiIiIiIiIiIiIiMoJJoCJiIiIiIiIiIiIiIiIiMoJJoCJiIiIiIiIiIiIiIiIiMoJJoCJiIiIiIiIiIiIiIiIiMoJ1az/EIvFEIlEyoqFiIjySSgUQiAQFHm76enpSE9PL/J2iYioeKiqqipeqAB4PiAiKhuK6zzAfiIiorKB/UNERF83gUAAoVAoNU0VAJKSkjB9+nTs27cPhoaGMDU1VUqARESUdxEREYiIiED//v2xcOFCaGhoFLrN0NBQTJkyBcePH0elSpWgra1dBJESEVFxCgkJAQCMGjUKkyZNKpI2Q0NDMXXqVBw7dgz29vY8HxARlWIhISEQiUQYPXo0vv/++yJrd/r06di+fTv09fVhYWEBsVhcZG0TEVHRiY2NRWhoKLp27YolS5ZAX1+/0G3evHkTs2bNwtWrV1GlShWoqakVQaRERFQc0tPT8fz5c5ibm2PSpEkYMGAAAEAgFovFHTt2hLOzM6ZMmaLkMImIKL8WL16MW7du4ciRI4VqJy4uDq1atcLo0aPRq1evIoqOiIhKQlRUFKZNmwY7OzvMmzevUG0lJiaiZcuWGDJkCPr161dEERIRUXGKjo7G1KlTUaFCBSxcuLDQ7fXt2xe2traYNm0aNDU1iyBCIiIqbqtWrcLx48dx5swZqKgUfOTH4OBg9OrVC/7+/nB3dy/CCImIqDidPn0a/fv3x9q1a+Hj4wPBhg0bxNeuXcOKFSuUHRsRERXQ+PHj4ezsjJEjRxa4jREjRqBu3brw8/MrwsiIiKgkeXh4YOvWrahTp06B2xg7diwcHBwKdU4hIiLl8PDwwM6dO1GzZs0Ct3H69GmsW7cOO3bsKMLIiIioJPz0008wMDDADz/8UOA2XF1dsXjxYri4uBRhZEREVBJu3boFLy8vvHz5Eiq7d++Gj4+PsmMiIqJC8PHxwZ49ewrVxr59+9C3b98iioiIiJTB19e30BUhAgMDJeWCiIiobPHz88PZs2cL1cYff/zBfiIiojLKx8cHu3btKvD6qampiI2NZfKXiKiMcnR0RPv27fHvv/9CJTg4GPb29sqOiYiICsHe3h7BwcEFXl8sFkNHR4fl3YiIyjh7e3s8f/68UG0IhULo6OgUUURERFSSHBwcJGPDF9Tjx49RqVKlogmIiIhKVLVq1fD8+fMCj9uemprKXAERURnXoEEDhIaGQkUkEkFbW1vZ8RARUSFoa2vj06dPhWqDyV8iorJPR0cHaWlpBV5fLBZDS0urCCMiIqKSpKuri5SUlEK1IRAIeC4gIirDhEJhgRPAAHgOICIq4/T09JCeno6CjwZPRERERERERERERERERESlChPARERERERERERERERERETlBBPARERERERERERERERERETlBBPARERERERERERERERERETlhKqyAyAiIiIiIiIiIiIiIipqZ8+exc2bNwEA2traqFChAlq0aAFdXV0lR0ZEVLz4BjAREREREREREREREZU7x48fx7Zt2/Dq1Sv8999/mD17NmrUqIFz584pOzQiomLFN4CJiIiozIuNjYWGhgY0NDQAAAkJCRAIBNDW1s5zGyKRCK9evYKDg0NxhUlERIWQlpaGuLg4GBkZAQDEYjEiIyNhamqar3aioqIgEonyvR4RERERlU1OTk5YuXKl5N8TJ07E+PHjcffuXSVGRURUvIrlDeDk5GQEBAQgICAAy5Ytw+7du3Hnzp3i+CgiIioHdu7ciYCAACxduhRbtmzB2bNnkZ6eruywqAyZPHky5s2bByAjIdClSxfs2bNH4XqXL1/GtGnT0Lp1a1haWqJNmzZITU0t7nCJvkpPnz6V3COsXLkSBw4cwNu3b5UdFpUh7969Q+XKlREdHQ0AOHPmDFxcXBSuFxMTg/Xr12PAgAGoVasW7O3tERgYWNzhElEpcfbsWcn5Z926dfjjjz8QHx+v7LCIiEiJevTogWfPnuHTp08AgODgYPj6+qJWrVqoWLEiOnXqhODgYABAUFAQOnXqBHt7e1haWqJ58+Y53h6+cuUKHB0dpf73119/AQBu376NDh06SC1/9+5dqaT0mzdv4OjoKIknk6+vLw4ePCj5t4uLC4KCgqSWOXjwIHx9fSX/FovFWLp0KerUqQNTU1M0bNgQ+/fvV/id+Pn5ScXfuXNnybyRI0fi6NGjUsuPHj0ajo6OSElJkdnepk2bJG05OTmhWbNmGDduHEJCQiTfy8CBA3H06FE0aNAAZmZmaNq0KS5evCjVzsOHD9GpUydYWFjA0dERq1evhlgslsx3c3PDrFmzcnx+YGAgXFxccOPGDQBAXFwcZsyYAQ8PD6ntzL5dmW7fvi21nJubG3x8fHD16lXJMjExMRg7dizs7e1hYWGB9u3b49atW1LtBAUFoVu3/7N35nE15f8ff7Vo00Irpawh2whlmxhMIcpeQ9ZCEWXNvsUwCElhlEwLoxkztiwjjH39lshto11alCTtpd8fPe7nd89dzjm3rqkZ5/l49Hh0z/I5n/M5n/N+vz/b60xC27ZtYWJighkzZtDui4+PF6lL/D9+/fD394eVlRWMjY3Rq1cv+Pj4UPI9dOhQkftZt24dZRIEm7xbWFiQa1tYWMDOzk6kr83f318kn3l5eWQ/3fNjm1c29S8lJQUuLi4YNGgQJS/8+iaIo6MjTp48SdlWXFwMCwsLxMXFiRz/b+aLrAAuLy/H5s2bMXXqVKirq+PevXvw8PCAjY0NwsPDoaCg8CUuy8HBwcHxLyUgIACampro3r07CgsL8eDBA7Rq1QpXr16FgYFBU2eP41/AsmXL4OjoiL///hvFxcXo0KEDJagWx6ZNmxAWFgZnZ2esW7cOvXr14uobB8cXJCEhAbt27cKMGTNQWVmJixcvYuHChdi8eTOWL1/e1Nnj+BfQvn17uLq6YsCAATA2NkZGRgals0McqampGD16NHr27ImpU6fCy8sL3bp1g5KS0j+Uaw4OjqbmypUruHLlCkaMGIFPnz4hKCgIixYtQnh4OL777rumzh4HBwcHRxOQmpqKVq1aQUVFBQCgoqKCESNGYNeuXVBRUcGqVavg4eGBq1evwtDQEHPmzIGVlRVatmyJ33//HdOmTUNWVhY5PzMzE2pqajh27BgAwMHBAcXFxQCAsrIypKamkmvX1tbC3d0dlZWVePfuHQCgqqoKycnJIoshMjIyyORHAEhKSkJFRQXlmA8fPiAjI4P89vf3x4kTJxAYGIju3bvj7t27cHNzg7a2Nr7//nuJZfLs2TMsX74cAwYMQFRUFI4fP072vXnzBh8/fiS/L126hNu3byM9PV3iAo7CwkLo6emReP3jx4/w8/PD4sWLce7cOZSVlSEyMhIfP35EREQEtLS0EBAQgKlTp4LH40FHRwdlZWWws7PDwoULERISgoyMDMyYMQMaGhpk0Ds+Ph45OTlYtWoVNDU1yfX9/PyQlpaG0tJSAMDatWvx+vVrbN++nSgKzZ49m3JfgpSVlSErKws3b94EUP+MIiMjMXHiRGRmZqJFixZYsGABqqurcf36dWhqaiIsLAzjxo1DbGws9PX18enTJ4wfPx5Tp04l5cAfkJS0r1OnTggPDwcAeHl5wdTUFAsWLAAAUt+0tbWxb98+dO/eHS9fvoSdnR0sLS0xbNgwlJWV4dWrVyL38/btWygq/v9wIFPegfr6FhgYCDMzM9TW1iIhIQEeHh4wNTUlE3GTkpJgZWUFV1dXvH//HmPGjEFNTQ0pQ7rnxzavbOrfpEmTMHLkSPj5+UFFRQUlJSWwsbERu8hjyJAhOHLkCJycnMi2s2fPoqKiAr169RJbH/6tfFEJ6PXr16Nbt24A6kfghw4dit9//x0//PDDl7wsBwcHB8e/EAcHB8yfPx9A/UQia2treHt7IyAgoIlzxvFvoEePHoiLi8O7d++goqICDQ0N2uMfP36Mo0eP4sGDBzA1Nf2HcsnBwaGhoUGZyfvHH39g7ty5mDZtGtq1a9eEOeP4t7Br1y5s2bIFxcXF0NXVZZxcvHz5clhbW+Pw4cP/UA45ODiaI5z0JwcHB8fXTUlJCZKSkvDhwwdER0fjp59+wurVqyEvXy+QamJigrlz55LjnZ2d4eDgAABo1aoVpk6dSvYNHz4clZWVKC8vJwNyb9++RYcOHdCzZ08AoJ1sePjwYWhpaWHQoEGyvk0AgI+PDw4dOkTSt7OzA4/Hw65du2gHgN++fYsBAwagZ8+eIquMBSkpKcGKFSuwb98+ODo60uZFQ0MDffr0Ib8zMzMpcXllZSX27NmDLl26AAC2bt2KyMhInDx5Eh4eHjh58iQMDQ3h5eUFoH7g093dHUFBQZRVz8OHD8fJkyexaNEiAPV9PtXV1SRdAPjf//6HVatWYfjw4WQb//lJQl5enpJ/AwMD7Nu3D2VlZXjz5g2uXbuG5ORkMmC6YsUK3LhxA4cPH8bWrVsRHh4OHR0d7Nmzh6TRuXNnAKDdx69H6urq0NPTI7/5CC54GDJkCAYOHIgXL15g2LBhtPfDh8fjMeadj6mpKSmDvn37YteuXSgoKCD7s7OzYWNjg549e1JW/gJg/fykQVz9KyoqQkpKCqKiosjCDsGJE8LMnDkT27ZtQ1xcHHr37g0AOH36NJycnCAnJ9egfDVXvogEtDg6d+6M/v374+XLl2Qb01J1piX2bm5uCAsLo1wnPT1dRHrgypUrGDp0KPT09NC9e3d4e3uTWQiSoJM8CAoKEpEVCA4Ohrm5OR48eCAxzcjISAwdOhT6+vowNTXF/v37SXq+vr7YuXMnunTpAgMDA0ybNk1EEi8yMhIDBw6EgYEBrKysyOwTQQ4cOEDJt2D5sC0vpuswyS4IwuY5WlpaIiYmBqNHjyYGLSgoiJJOcXExXF1dYWxsDFNTU3h6elIkm9zd3WFnZyeSj+TkZFhYWJDZVwBw9OhRjB49Gv369SP5EicTwYdJ6kBcufIRLl9B6QvhP0HDmZiYSJF/cHFxQX5+PiVtOmkRfr7ZSILs3bsX3bt3R7t27TB58mSkpaWR/UFBQfD09BS5L2tra1LX2ciYANKV+7lz52BlZQUjIyOYmJjAwcGBMpMtKiqKSK906dIFCxcuFJHwKisro5SNoJzEp0+f4OXlhf79+8PIyAiDBw/GlStXyH628hMWFhYUGYnS0lKMHDmSUsY3b97EpEmTMGDAAJIX4fLiEEVVVRXjx49n7TOY6gzQeLt+9uxZyswwoH72n7m5OdLT08k2OhvKtm6JQ9ZSPHV1dfDx8UHv3r2hp6eHPn36kLy6ubnh8uXLcHFxgaGhITp06ICVK1dS0mKyH3ycnJwo+Ra0S2zsFJt7E3x+enp60NDQYPTLv/32G8aPH4/OnTsjOjoajx8/FpFaopOA4sNki2tqaih2z9zcHN7e3mLzxC8TJnkdQYR90IEDB7BgwQIyA5LJn0hj74Sf1YYNG3DgwAHym8lXi8u7OH84adIkcgwbP8UUQzHJTrEtJ+F88mMVNrJJHJKZNGkSFBQUSP2ie+/Ky8sxb948dOvWDfr6+ujbty9+/vlnSnqNlV4DgDFjxuDOnTuU4/z8/LBu3Trym6m+s427hZFF/oWRJDkmK8k1ALhz5w4lz4LxoyzjSX7spaKiAgMDA1RUVIjEXoIUFBTgxo0bWL58OfLy8nDr1i2Kz+ZDF2PwofPD/DTopM/47N27V+yK9+nTp+OXX36hbLt58ya+++471NbWUrbv27cPS5YsYS0VKIv6yiZWEvYpubm5GDlyJB49ekS2MbXNBX1D//79YW1tjR07dtB+noFNe5+ubSArmTzOV/y7EJb+pGtjspH+pLMB/wbpT6aYtSHtDab3WRZ+6Pnz57CwsMD58+dFrr969WrKZwKklf5kE0M2hfSnrPozpLVp4vrzAGb/J4v2saz7Xr4m6U+O/+fOnTuws7ODh4cH7t27hxMnTmDZsmVkf3V1Nc6ePYuNGzfC2dkZO3bsoKy0/fjxIzw8PDBnzhxMmDABR48eJatIgfrYydjYmDEfmZmZ5JM4gjEePy3Btmx2drZIfzAAHDp0CF5eXuTv7NmzZF9eXh4KCgrQv39/yjkWFhbg8XgS85Wfn4/S0lJWk3K3bNkCGxsbVgPYPB4PHh4e8PDwwKxZs3Dq1Cn4+vqS/YqKipRBWqB+0hZ/VSiPx0NBQQGcnJzI35kzZ0T6n+bMmUMZTwgMDMTs2bMpxwwePBgBAQG4ceMGeDweeDweKisrafNfWVlJ8r9gwQI4Ozvj559/hpaWFuLj42FsbEwGUPkIlnVCQgIGDBggNm26fUykpqZi//79WLp0KZycnJCQkEC5l6qqKkod8fLyonyilU3e+fj4+MDDwwOLFi2Cra0tJkyYgNGjR5P9GRkZEus+m+fHlFdhxNW/1q1bw8zMDJs2bcLjx4/B4/GQlJQkMQ0dHR1MmDCBtIHevHmDBw8eiPT7/hf4oiuABamtrUV6ejrGjBlDtjEtVWdaYv/mzRsUFhZSrlNZWUmRS3j27Bnmzp2LQ4cOwdraGunp6XB1dUVNTQ1tByyd5EFhYSFyc3PJ7+zsbHh7e0NRUZFICggTHR2NuXPnYs+ePbCxsUFhYSGZrV5YWIh9+/ZhwYIFuH//PioqKuDp6Yk5c+bgxo0bAOqDovnz5+P48eP49ttvcevWLTg4OOD+/ftklTVQbzjGjRuHpUuXYv78+ZTyYVNeTNdhI7sgCJvnmJiYiIULF+LQoUMwMzNDVFQU3Nzc0LFjR4waNQoA4OrqCjk5OTx8+BBA/YDvsmXLiGHPyMjAo0ePcOvWLYwYMYJcPygoCGlpaURO4/Tp0+TbP+3bt4ecnBx8fX0pz1MYJqkDceUqqXyFpS8A4N27d7C3tydOv7S0FOPHj8esWbNw9OhRlJeXY9OmTfjhhx8ogTKdtAg/30ySIIcPH8avv/6KiIgIGBsbw8/PD/b29oiOjoaSkhIKCwvFfpvv9evXpK6zkTGRttw7d+6MHTt24JtvvkF1dTW2bt2KxYsX49KlSwDqZ9EtXrwYAwcOxIcPH+Do6IiDBw9iw4YNlHJNTU1FYilcVRQAACAASURBVGIieDwepZGlpqYGY2NjnDp1CoaGhggLC8PcuXORkpICdXV11vITSUlJlM4ob29v5OXlkeedlpYGR0dH7NixA5aWllBQUMDt27e5FSgsSUlJocjx0vkMpjoDNN6uFxcXiwwqf/78GcnJySTIYmND2dQtcchaiufgwYMICgqCv78/evbsiVevXsHMzIykt2DBAuzfvx8+Pj54/fo15s6dCw0NDTILkMl+8ImJicHevXthYWGBXr16UewSGzvF5t4a4pefP3+Onj17YsSIEaipqUF1dTUKCwsRERFBAnA6CSg+TLa4oKAAycnJePjwIeTl5bF79+5G+RxhBH3QqVOnEBISgqioKMjLy7PyJ9LYO+FnlZubSxkEYvLV4vI+evRoin3+66+/KAPebPwUUwzFJDvFtpyysrJw+/Ztkjd+Q4mNbBKHZDIzM1FdXU3sPd17p6qqirFjx2LLli3Q19dHXFwcJk6ciF69epHOw8ZKrwH1/kfYdrx7947S8chU39nE3ZLKo7H5F4ROckxWkmv8fOvq6iI8PByBgYGUDmRZxZMAc+wlzIsXL9CiRQtERUVh37596NKlC6k3gvEYXYzBh84P8/MmSfpMEGtra4wcORKbNm2CtrY2gPo6FxkZid27d1OOHTp0KNLS0nDt2jWMHTsWQP3AzrFjx7BlyxbWUoGyqK9sfK2gTykpKcGkSZMwc+ZM0jnDpm0u6Bvq6uqQm5uLtWvXQk1NDStWrBApT7btfbq2gaxk8jhf8e9CWPqTro3JRvqTSf6wuUt/MsWsDWlvML3PsvBDpaWlSEtLg7+/PyZMmECunZ+fj1OnTlHKTlrpT6YYEmB+t7+U9Kcs+jPY2jS6/jyAvu7Lqn0s676Xr0n6k+P/GTduHEJCQsTuq6ysxJgxY9CyZUs4Oztj8uTJSE1NxZMnT8gxioqK6NGjB8rKylBYWIhff/0VkydPJu9lfHw842pYAPD09ISnpyc6depE2a6trY3p06fDzs4Ow4YNQ05ODt69eyd2ko22tjalvywzM5PEY+Xl5SS/gigqKqKmpgZ1dXViVzjGx8fDwMAAWlpatPl//PgxLl68iKdPnzIusAPqVwD36NEDQH18eOnSJfz666+k30XcojJ+XoH6Z2NqaoqZM2eKHCNI//79oaysjDt37qBnz564cuUK9uzZQ+lf2L17N3bv3g17e3sYGxuT8SU65OXlSf4rKipQWlqKEydOwN7eHhUVFWL78hQVFclzq6yshLKysti06fbRcf78ebi5uWHlypWYMmUK9PT0KJMZAEBOTk7kE2eC12KTdz4dO3aEsbExampqoKamhosXL8LR0RG9e/dGZWUlUlJSJCrrsXl+THkVhK7+XbhwAStWrIC1tTXat29P2+4G6if4zpw5Ezt27MBvv/2G4cOHs5rE8W/jiw4AZ2RkoKqqCm/fvkVwcDBqamoozpVpqTrdEnsmY8THx8cHs2fPJpINrVu3xoEDB2BnZwcvLy+oq6uLPY+t5AFQLx20aNEi/PnnnxKP2b9/P2bNmgVnZ2cAEJlNo6mpie3btxPZiSNHjqBbt26IjY1F3759sX//fri4uJDZaxMmTCAdvTt37iTppKamYsSIETAwMGjQd62YrtOQZftsnuOiRYswePBgAMC0adNw//59HD16FKNGjUJiYiKuXr2KjIwMcvz27dsxZMgQ+Pr6kmdoa2uLwMBAMgBcXl6OiIgI2NrakmtHR0dj7NixlBn7urq6tJIAALPUgTQIS19kZ2dT9oeFhUFHRwdbtmwh244cOYKuXbvixo0bZFBcGmkRSfj4+ODo0aP45ptvANR/D/P48eO4efMmZbKGNIiTMZG23PnSC3wsLS0RGxtLfgtKdWhra2Py5MmU/UB9R5qJiQnatm2LnJwcyj55eXksXbqU/HZzc8O6deuQmppKeTbSEBMTgzNnzmDz5s04ceIEACAuLg7t2rWDq6srOU54AJHj/8nPz0dCQgIKCgpw9epV/Pnnn4iMjCT76XwGU50BZG/XxcHWVjcEWUvx7N+/H76+vqQTqG3btpT91tbW5HwLCwt4e3tjyZIl2LJlC+Tk5FjZj/LycuTk5MDc3BwGBgaNllFhe29snl9eXh4yMjLw22+/wdzcHED9KoElS5aQlUp0ElB8mGxxdnY2tLW1SR1t1aoVYyOpIT7n5s2b2LZtG/766y/o6ekBYO9PZAFbXy1MmzZtKHZX3ExTpnrGFEMB9LJTbMtJXl5eRHZJGtkkjno+f/6MpKQk0uG3b98+jBkzhjxjpvdO8P9+/fpBW1ubMunin5Bea2h9Z4Os808nKwbITnKN3+g3MDBo1P1Lc2/iYi9h8vLyUFVVhbS0NMTHx0NZWRlZWVkYMGAAxo4dCzs7OwDsJNSY/DCd9Jkgffv2RY8ePXD69GksXrwYQP1kyWHDhsHExIRyrLKyMpycnBAaGkoGgO/evYvi4mJMnDhRJMYVx5eqr3S+trq6Gk5OThg1ahTc3d3JdrZtc0Hf8M033+Ds2bMS/SDbNOnaBmxga+85X9F8YZL+pGtjspH+ZGsDgOYp/SlNzCqN9CfT+ywLP9SlSxe8e/cOL1++JIN3oaGhsLGxoax8boj0J10Myebd/lLSn43tz5DGpjH159HV/S/RPpZF38vXJP3JwY4nT54gNjYWOTk5xC4Iq8aoqanBzc0NQH0c1Lt3b0RGRmLq1KkoKytDTEwMUfsUh6KiIiIiIpCbm0t5hwUJCgrC/fv38ebNG7Rv3x4WFhZi2+1OTk7o168f5Tz+xBEjIyNoaGiAx+NRBtVevnyJzp07S6zj9+/fZ/RLdXV1WLJkCfbu3YtWrVqx6hs3MTEh5QbUr8A3MzMji3hqa2uRkZGBjh07kmPi4uJIH3LXrl3B4/FILEyHi4sLwsLC0Lt3b9ja2pLJlnyUlZVRWVmJgQMH4vr165CXl2e85xYtWlDyD9R/guzGjRvo1q0bMjMzUVJSQvkM2cuXL9G1a1cA9Xb92rVrYtOm20fH0aNH4e7ujlWrVpFtRUVFIvleuXIlZZvgZy/Y5J3PlClTKPXN1dUVISEh8PHxwePHj6GlpSWyipsPm+fHlFc+TPXPwMAA+fn58PT0xPbt2/HhwwcYGRlJvO6wYcOgo6ODqKgo/P7772JVq/4LfNEBYFdXV6ipqcHIyAhWVlY4cuQI5cVLTU3FuXPnkJaWhvfv3yMhIYFi1PhL7IH6TuT09HSyxJ7P5cuXKbPxhSt7fHw8xo8fT9lmYWGBqqoqvH79mnQMCiKN5MHZs2eRlpaGkydPUmR5hOGvzJVEt27dSMMDqO+INzIyQnJyMvr27Qsej4f09HTKADqPx6OcU1lZiZiYGIkrbQDm8mK6juCyfT7Z2dliZT8F88X0HLt37045Z8CAAURSicfjkdm4gmnW1dUhLS2NBGv8Rn5OTg7atm2L33//HZaWlmjTpg05b9CgQVi5ciWGDx+Orl27Ql5eHu/fv6eUozh8fHygq6uL6upqpKeni0gdnD9/HqmpqVBQUIC+vj7Gjx8vMiDFlvj4eBGZDnV1dZiZmYHH45F3hI20yKFDh8hAAEDtWM/Pz0d+fj5+/vlnhIaGku3V1dWU2cmJiYmkscVHkqQnX8bk5s2b8Pf3J9sbUu4xMTEIDg5GTk4O3rx5Q/kObFFREf78808kJiYiLy8P8fHxIgb90aNHtE784cOHuH79OrKyslBSUoK6ujrKTGq+/IQgz58/F+mYA+rlstzd3bFr1y4yCxYAzM3N8ebNG/j6+mL48OFQUlJCVlaWxDx97QQEBCAkJAQGBgbo3bs3Hjx4QFE4YPIZdHVGFna9devWyM3NRU1NDZmpFhMTQzmXja2Wpm41JP9spHjy8vJQWFgIS0tLiceIs8sfP35EXl4e5OXlWdmP//3vf2jTpg1twEVnpxpyb2z9ck1NDbZu3UoGf4F6yaDDhw+jqKgIrVu3RnV1NSIjIxEdHY23b9/i7du3IisumGxxenq61N81ZfI5wrx8+RL+/v74448/0KFDB7KdrT9pSJ0Uhq2vlga2foophuLnjx+LFBUVoaioiMhOsS0ncUgjm8RRz/v37zF+/Hioq6ujXbt2cHNzo8wGZvPe/fjjj0hPT0d0dDTs7e0p74e00mvCMQtQ37ksOBO8rKwMSUlJUFVVBcC+vjPF3eKQRf4FYZIVk0ZyjY+42P/Ro0eUQVRhZBFPCiIp9hKmtrYWHTp0wN69e8k2Y2NjjBo1isgAAswxBhs/TCd9JoyzszOOHTtG6lBERARFYlyQefPmwdLSEvn5+dDX10dERAQmT54MNTU1ilQg328LSwV+ifrK5Gvd3d2hp6eH7du3U7azbZvz21afP3/G27dvoaGhIbFDhm2aTG0DJl/YGHvP+YrmAf+db926NTp37owTJ05Q3nOmNubHjx+xceNGFBcXIyYmRkT6k60NkGTj2LzPfOjiZzrpT0HJTWGkiVmlkf5kep9l5Yf40p++vr74/PkzgoODERAQQBkA5kt/amtrk34iJulPphiyqaQ/G9ufwdYusenPY5L+lGX7WFZ9L4LSn3v27CHSn4GBgRLP4fhvo6amhpqaGmRlZcHU1BQ5OTmUwdy4uDjo6OjA0NAQAPDq1SsUFBSQAdaQkBDyKRFJVFVVYf369fj9999pFeDEyaJLQ4sWLTBv3jxs3boVvXr1gr6+PpKSknDw4EFs2rRJ7DmfPn1CeHg4rVoqABw7dgydOnXCxIkTG5S3Dx8+IDQ0FLq6umjVqhXZvn37dhw5cgTKysoIDw/Hy5cv8euvvwKoH+zeu3cv9u3bB09PTygqKqKgoIB8OkEQR0dH7NmzBy9evMChQ4dErv/o0SMcO3YMd+/eZRwLEEdFRQVu3LiBnJwcdOrUCb169YKZmRnWrl0LX19ftGjRApcuXUJUVBRZWDBjxgzs3r0b4eHhZJJJcnIyunbtSruPDlVVVaSnp5PV3IGBgSKfK2PCwsKCMe/C1NTUICEhAffu3cOSJUsAAD///DMmTJggsTyleX5MMNU/X19fvH//nqIQysTcuXPh7++PjIwMipLIf4kvOgB89epVSue9IGyWqtMtsefP5FVXV6fMZuHLKvMpLy8XMary8vKQl5eX+J0StpIHHz58gJeXF06ePEnb8QDUB010M/jZyB2MHj0aVlZWZP/MmTMpwdrVq1fRoUMHSuevMEzlxXQdtrILgrB5jsL3r6CgQLl3TU1NkWu6uLhQAkIVFRU4ODggODgYGzZsQGBgIDZt2oTr16+TY6ZMmYLq6mosXboUSkpK0NDQQGFhoUingTB0UgdA/QyTHj16oLa2Fq9fv8bw4cNx/fp1tGzZkjZdcZSXl5MORkEUFRUpkjdspEXoJEH49X/q1KmUhuvMmTMpAz/KysoiMgySjLokGZOGlLumpiZ69eqFtm3bIiMjAxcuXMCAAQOQkpKCUaNGwd7eHuPGjYOhoSFOnTolshLj/PnzWL16tdi016xZgytXrmD58uWwtraGlpYWRdIVkE5+ws/PD23atIGDgwPluxvGxsa4dOkSli5dil27dkFfXx+lpaUNkvf4Gti2bRvmz58vdh8bnyGpzgCyseujRo2CpqYmrKysYGZmhuTkZMosOYCdrZambvGRtRQP//2n813Cdplv5wXTZbIf58+fpx24BOjtlCBs7k0av6ytrS0y+MCfpFZSUgI1NTVGCSiA2RbHx8czBu/CMPkccVRXV4vMfmTrTxpSJ4Vh66ulga2fYoqhAHrZKbblJA5pZJM46tHV1RUr9Qewk14D6mdKa2hoQF5eHpcuXYKzszORnGqs9BpQv5Jm7dq1uHPnDsrLy5GYmAgNDQ3yLrOt70xxtzhkkX9BmGTFZCG5lp+fjydPniA4OFjidWQRTwoiKfYSRpytB+oHWviSn2xiDCY/zCR9JoyDgwPWrVuH2NhYVFdX4927dxI7HExNTTFw4ECcPn0arq6uOHfuHBl0ZSMVKOv6ysbXysnJIT8/HzU1NZRj2LbN+W2ruro66Orq4ty5c/j777/xww8/iFyLbZp0bQN+nmUlkycM5yuaB3TSn2zamHTSn9LYgOYs/ckmZpVW+pPpfZaV9OfMmTPRv39/bN++Hffv34eenp5Ix3JDpD/pYsimkv6URX8GW7vE1J/HRvpTlu1jWfa9fC3Snxzs6N+/P+bNm4eBAwdCX18f8vLyOHjwIJm88Pz5c6xatQoqKipQVVVFSUkJli9fDisrK6xfvx6hoaEi35UW5s2bN/Dw8KCspPxSbN26FV5eXjAzM4OmpiZKS0uxZMkSEVsK1H+D3srKCgMHDsSUKVNo0339+jUiIiKkysvVq1dJ/7iGhga++eYb/P7776Qt0LZtW3Tq1AkdO3aEoqIiPn/+jCNHjpBJSfr6+jh9+jQ8PT2xY8cOtGzZEpWVlVi/fr2InVdXV8fo0aPx5MkTkQUPZWVlcHV1xerVq0UWPNBRWlpK8q+iooJOnTohICCA9M9ERERg4cKFaNOmDdTU1KCsrIygoCBiF42MjHDixAmsXLmSfM6kd+/euHHjBu0+OjZt2gRHR0d06tQJnz9/xtixY8mALFvk5OQY886Hb8MVFBTQtm1bTJs2DQsXLsTw4cPx8eNHXL58WeJ1pHl+TNDVPx6Ph507d+LChQuM6h6C8BUhnJycxPYL/Rf4x74BLAzbpeqSltjzG8jDhg2jNNCTkpLg5+dHfnfr1k1kYCghIQGfP3+myJ8JwkbyQFFRERs3boS9vT3tCio+nTp1opXsTE1NpQTiRUVFePPmDWkUmJqaQk5Ojna5fFBQkMjHzYVhKi+m60gju8CHzXNMTU3Ft99+S/bHxcUR6YeuXbuisLAQgwcPpswOEoeLiwsmTJgAW1tbFBYW4vvvv6cMAAP1jSV5eXk8evQIbdq0gZeXF6MENJ3UAVC/wlXwHtPS0nDr1i3aVd+S6N69O65cuULZVl1djeTkZCKhxkZaBGCWBGnZsiV0dHRoB2g6duwoIsMgvBqDjYyJtOXepUsXMhN41qxZMDMzg7u7OyIiItCtWzdKvRVeGfTw4UPk5OSQVR2CVFVV4dixYzh37hyRfhLXsGYrP5GVlQU/Pz/cuXNH7H0YGxsjOzsbYWFhsLGxwcWLF0Vmt3Iww8ZnSKozBgYGMrHr6urqePDgAf7++2+UlZVh1apV6NSpE3R0dMgxbGw127oliKyleIyMjKCsrEw6tMWRkpJC+R0XFwdlZWUYGhpCTk6O0X6UlJQgIiIC58+fp803nZ2S5t6k9cv9+/fHgwcPKDJhaWlpUFJSgpGRER48eMAoAcXGFt+/f1/qWYRMPkeYXr16Yfbs2Zg5cybOnTtHzmXjT4CG1UlhpPHVbGHrp5hiKIBedoptOYlDGtkkDmbYSK8BoAwCubq6wt/fHwcPHpSZ9Nq8efMwePBgPH/+HLq6urC0tMSePXuQmZkJgH19Z4q7hZFV/gVhkhWTheTaL7/8gu+++07kUwKCyCqeBJhjL0H69euH9+/fIykpiTIxOT09ncg7s4kxmPwwk/SZMOrq6nBwcMDp06dRV1dHVvRKwtnZGb6+vujUqRN0dXXJp3MAZqlAWdZXtr42ICAADg4OcHV1xfHjx4l9Zts2F25bmZqa4sCBA2IHgNmkSdc24CNLmTxxeeR8RfOGTRuTTvqTjQ34N0h/MsWsDZH+ZHqfZSX9qaenh5EjR+LcuXO4cOGC2InFDZH+pIshm0L6U1b9GWztElN/HlPdl2X7WNZ9L1+L9CdHPYJS65Lw8/PDzp07UVxcTPo9+CoMM2fOxPTp01FQUIC6ujoySAzUD8Z5e3uLTKp49uwZ+X/IkCFiJ7oz9esCIAqZfMR9t3z+/PkUu6esrIyDBw9i9+7dePfuHe2nIo2NjREXFyeywGHatGmYNm0a+S34iTY+urq6Yu+Lz5o1a7BmzRqJ+4H6vqONGzdi5cqVKCgoQNu2bUXKctiwYXj27Bny8vJQW1sLPT09yiRDwTIRjl8FV7M+f/5c5PqSVrsCkp+bIEZGRrh06RKKi4tRWlqKtm3bivhaOzs7jB8/Hjk5OWjRogVFxYNuHwCxA57m5uZISkpCTk4O1NXVoampKZJvcQoiwhPh2ORdXH3jExkZKVJvDAwMRMqM7vmxzStT/evZsycKCwsp+1u1asX4/JSUlKCoqCh2csR/BenXussIwaXqABiXqldUVODSpUtkiT1b+I1OvtEtLi7GunXrMH36dEqnPR++5MGkSZNo033+/DmuX7/O+ns9Li4uCAoKQnR0NID6jkVByZqsrCz8/PPPAOpXV23YsAGdO3cmDeslS5YgMDCQMpiZkpJC0rh06RISExPh7OyMmpoaMrOzrq6O8YPXgjBdx8nJCa9fv8a+ffvIjMyCggKKU6ND0nMMCAhAbm4ugPqyDQkJId9z6d+/P/r16wd3d3cyYFhRUYG7d++KpN+1a1e0b98ea9euhYuLi8jKgqKiIixevBi7du2iSEOzpaamBnFxcbh3757YCQS1tbV4/vw5Xrx4wXoFgDDTp0/Hy5cvSQPu8+fP8Pb2hoaGBgma2UiLMCEnJ4dFixZh/fr15N37/Pkznjx5IlGSTxJ8GZOAgACxs0ilLfd79+6hpKSE/H748CFUVVWhpaUFNTU15ObmoqysDADw9OlTiqxTTU0N1qxZAy8vL7KSvLa2luxr0aIFlJSUSJ2uqKjA+vXrGyT9AQDr1q3DqlWrJK5wW7x4McaOHQsbG5sGpc9RD5PPoKszsrTrKioqGDt2LKZMmUJmQgvCZEMbAtv8SyPFIy8vTySB+N9pKi4upnyz6cKFC3j69CkAoLCwENu3b8esWbMgLy/PaD/q6uqwc+dODB06FH369CF+Cai3k+Jm+jf23qT1ywsWLMDly5fJwN+nT5/w008/Yd68eVBQUKBIQAEQkYACmG1xXFwcnjx5QtvhTAeTzxFk2LBh8PX1xdSpU8ngPRt/Ig21tbXkWQrHGdL4araw9VNMMZQwwrJTjSknQdkk/mphvmzSwoULG3zvXytM793bt28RFxdHfn/8+JEykUUa6TVJMQuf7t27w9HREaNGjRJp1H6J+i7r/POZMWMGnj17hvDwcGJ7hdtc27dvJxKYfMm16dOnA2CO/bOzs+Hr64sNGzaI2AZ+/MUWtvfGFHsJ0qZNG0yYMAFeXl4kTrh27RqePn1KVnQwxRhs/DCT9Jk4XFxcEBkZifPnz2PWrFm0x06YMAHZ2dkICAgQ2zkxdOhQODo6YtCgQSIrd2VZX9n6WkVFRYSHhyM1NRXr168n26Vtm9fV1SE7Oxtnz56V6AeZ0mRqG7ClMfae8xXNH6Y2ZlxcHEUiXVj6k40NYGvj6N5nNghKf/I7VPnSn5JWB7GNWRsj/Un3PjfGDwni7OyMEydO4OnTp5RvNvPhS38ePny4Qe1/4RiSzbtN54fZ+GhhZNWf0RC7JK4/j6nuy7J9/CX6Xr4G6U8O6VBXV4eRkZHYyTIKCgowMDBAmzZtKHVeVVWVVVzeFKioqMDY2JhWlRSASHvnn4Rv/1RVVWFsbExblgYGBjA0NGRUfGsKtLS0yMQBccjJycHQ0FBkgJdpnyT45wgP/jYEprxLQtp60xyfX3BwMFFc+q/SZNaJzVJ1piX2bLC1tcWGDRtgb28PRUVFFBcXY8yYMZTvQPGRRvIgNjYWv//+O+uKPnHiRMTHx2Ps2LFQUlJCaWkpPDw8sG3bNgDA+PHjcevWLWzfvh3V1dUwMjJCSEgIcSijRo2Ct7c3nJ2dyTebWrZsieDgYBQVFcHBwQEARGbe//XXX8jKymI1o4jpOh07dmzQsn02z3H69OkYMmQI6urq8OHDB7i5uZFnICcnh19++QWLFi2CiYkJWrVqheLiYowdO5YiI8PHxcUFCxcuRFhYmMi+lStXwszMjLGTRRhJUgd8NmzYgA0bNkBBQQGGhoZwcXGBnZ0dkpKSpLoOABgaGuLMmTNYsmQJ1qxZg6qqKnTt2hWnTp1CixYtWEuLsGHdunUoKirCoEGD0LJlS5SUlKBjx464du0akedmA5OMibTlfubMGdjb25NvYKqpqSE0NBQqKiqYO3cuLly4gM6dO6Nly5YwMTHBTz/9RKTwHB0dER0djejoaJFZZlpaWsjIyICPjw9WrlyJn376CeXl5Vi/fj1ev37N+n4FkZOTo3xTTZATJ04gNjaWTPzgaDhMPkNSnXn37t0Xs+viYLKh0vIlpXi2bt2KxYsXo2vXrtDS0kJZWRnCwsLIgNf8+fOxZMkS5Ofno6ioCMOHD6d0+NLZj6CgIDLrUlgu87vvvmM1oC3tvUn7/Hr37o0jR47Azc0NdXV1KCsrg62tLfHLTBJQTLb47NmzWLx4MTZt2iT1N4CZfI4kJk+ejPz8fEycOBHXr19n9CfS8t1334nd/vbtW4SEhEjlq9nCxk8xxVAAvexUY8pJGtkkDmaY3rvCwkJMnjwZnz59gra2NgoKCmBra4tly5b9o9Jr0sambPhS+WeSFWus5Jq5uTlKS0vF3vegQYPIRCI2sL03uthLHAEBAXBxcYGxsTFatWqFFi1aIDg4mNwjXYzBxg+zkT4TR9++fdGqVSt8+vSJcQWasrIynJyccOjQIQQFBUl1HVnWV2l8rZqaGv744w98//33MDAwwLJly1i3zfltK6B+Zv/w4cPFtt8B5vY+m7YBGxpj7zlf0fxhamPSSX+ytQHNVfpTmpi1IdKfTO+zLKU/hw0bhg8fPsDBwQGqqqqU7/s2VPqTSbr0n5b+lJOTk0l/Blu7RNefx6buy7J9/CX6Xr4G6U8ODg4ODlEOHjyIjIwMnDx5kvaTQv8F5PT19etevnzZoG+VNpa6ujqJS9VlTW1tLXJzc6GpqUnbYBWWP5E1VVVVyMvLg5aWFrnn7kaNfQAAIABJREFU3bt34+nTpzhz5gw+fPiAsrIy8lF5YWpra5GTkwMlJSXo6upCXl4eMTExGD9+PGVGKh9+EMl2AJjuOsJIkl2QFk1NTdy+fRt9+vRBTk4OWrduLbE+FhcX4+PHj9DR0aGVSfuvkJeXBwUFBejq6pJt5eXlaNGihUxnl1VUVCA/Px+ampoyk+5sLJWVlSgoKICKiorYFQHv3r0jsiuCTJkyBSNGjBCZUFJQUID27dsjIyMDurq6qKqqQn5+PvT09P4T3+T99OkTunTpQivNQUddXR26dOlCWVnV3GDyGZLqzJe26+JgY0PZ8qXz/+nTJxQVFUFPT49Iro4fPx7W1tbw9PREbm4ulJSUyPdxhRFnP3x9ffHw4UOxHUQWFhZYv369VAPAX5Kamhrk5uaiVatWYie+fPr0iSIBxYfJFtfU1KC6urrZdCSI8yeyYNOmTcjMzKTI83wJXy3JT0kTQ7GhMeVEJ5v0T/L48WOcOHECoaGhDTq/rq4OHTp0QEJCgoxzxh5J7x2f9+/fo6ysDPr6+mQ2+5eIj9ggq/r+pfPP96GCsmIPHjzApEmTkJeXh/LycomSa3zExf76+vq4fv06+vTpQzn27Nmz2Llzp1QDwF+aoqIilJeXi31H6WIMJj/cGD9tY2MDGxsbivy0JLZv346nT5/iwoULDboW0HzaUmzb5rJIk23bQBoaY+//CV8RHR2NixcvspK7lIStrS3279/PaqX9fwlJbUygvo6Jk/5sirYGWyoqKhilP5syZpWFH2ouML3b4vwwm32SkGV/RkPtkjR1X5btY1lSUlKCzp074+LFi/+51V86OjooLS1tUFmXlZVh1qxZYhfWcHDIkqysLJw8eRJr165t6qxwfGUcP34cxcXFsLW1lWpi2L+J0NBQyMnJNd0KYOD/l6r/EygoKMDIyIjxuC8duCspKcHY2FhkO1/uoFWrVrQDcAoKClKvJGoIbK4j6buRDaGuro7VNbW0tERWk/2XEVfGX6JhpqKi0uwa98rKyrTvrDSyGOJQUlL6R94lDtnB5DMk1Zmm6JCRpa3+0vlXV1cXO/DJ90tMsu3N0X5Ig6KiIu2zklQ+TLZYUVGxWclAydJnM/ElfDVdPWMbQ7GhMeX0tcUoXxJJ7x0fbW1tkUkpTTXZQlbP/UvnX5IPFZZco+OftCNfgtatW6N169Zi99HFGEx+uKF+OiYmBjExMaw6Vz99+oQTJ06IfDdZWpqLnWLbNm/qNCXRmHJsLs+AQzx0bUy+9KcwzXXwF/h/6U86mjpm/a/4IaZ3m87PNKRvVJb9GQ21S9LU/X+qL1NavgbpTw6O5oyxsTE3+MvRJLi4uDR1Fv4xmk/PJEeD0dTUxIgRI8Tu+6/OYODgkIS5uTnat28vsl1JSQnff/8943cvODg4Gk+HDh1QXl4udt/gwYObdecNh3R07dq12ShHcHBw/POMHDlSbAewgYEBBg8e3AQ5av6cPXsWz58/R2hoKDZs2EDrE2NiYnD16lVcunQJffv2bdD32792uLYBBwcHB4cwX5P0JwcHBwfH1w03ANwMGDJkSKNWT3Xp0kXi98LYfDOwqfHy8hL5djEHR0PZuHGj2O2ampo4f/78P5wbDo5/Jz/88AM6d+7c4PMnTpyIiRMnit3H/zYwx38Dtt92/1I0Nobi4PiaMTY2Jp+LaSinT58Wu33IkCEYMmRIo9L+r6Kurg41NTUcP35c4iRePqqqqlBQUMDSpUsxZcqUJpWX/7fCtQ04OJovsvBDHBwNQV1dHe3atcPt27e5hTMcHBwcHP9puAHgZoCVlVVTZ6FJkdQo5+Dg4OBoGmbOnNnUWeDgYMXXHkNxcDQGTnKtabC2toa1tTWrY83MzGBmZvaFc8TBwcHRNHB+iKOp+JqkPzk4ODg4vm6k/xI8BwcHBwcHBwcHBwcHBwcHBwcHBwcHBwcHB4cQHz9+RGVlJfldWlqKsrKyJswRB8fXCTcAzMHBwcHBwcHBwcHBwcHBwcHBwcHBwcHBwdFoVq1ahR07dgAA6urqMGHCBJw6daqJc8XB8fXBDQBzcHBwcHBwcHBwcHBwcHBwcHBwcHBwcHBwNJply5bh3Llz+Pbbb9GnTx+oqqpixowZTZ0tDo6vDu4bwBwcHBwcHBwcHBwcHBwcHBwcHBwcHBwcHByNpkePHoiLi8O7d++goqICDQ2Nps4SB8dXCbcCmOOr4MOHDwgMDMSKFSvw448/Ii4uTuSYuLg4bNy4EcuXL8eFCxeaIJfNn4yMDPj7+2P16tXYsWMHEhISmjpLHBwcHBwczYKamhpcunQJ3t7eWL16NUJDQ1FdXd3U2eLg4ODgaAZwPoKDg4Oj+VBcXIywsDCsX78eGzZsQFRUVFNn6V9PXV0dfHx80Lt3b+jp6aFPnz64efMmAMDNzQ3m5uYif5MmTaKcv3//fvTu3Ru6urqwtLTEb7/9RrmGpaUlYmJiMHr0aOjp6aFnz54ICgoi+4cOHSr2Onfu3AFQ3zfs7u6Ojh07ok2bNhg8eDDy8/MBAIMGDcLmzZtF7uvXX3+FhYUFoqOjybaEhATY2dnBwMAA5ubm8Pf3R11dHdlvYWGB+Ph4SjpnzpzBnDlzpLpfCwsLcg8WFhaws7OjlVBmkyYA3Llzh1I+np6eZF9QUBDlNx9ra2s8ePCA/E5MTMSkSZPQtm1bmJiYwMXFhZQlPx1+eerp6UFDQwPBwcEwNzenpCNIbGwshg4dStm2e/dueHt7U7aNGDGCpCF8Tm5uLkaOHIlHjx5JVSb+/v4i9SYvL4+2TCSVjSBBQUEkvX79+mH48OFYunQp3r59y7oMAGDdunXw8/Mjv6OiomBnZ4eOHTuiS5cuWLhwIT59+kT2jxkzhtR7Pn5+fli3bh3rNJjKBWB+F+igsxl1dXXYu3cvunfvjnbt2mHy5MlIS0sj5wYFBcHX1xc7d+5Ely5dYGBggGnTpuHNmzeUa0RGRmLgwIEwMDCAlZUVSV+QAwcOUO4vLCyM7LOwsKA8q9LSUowcOZLyLru5uVHOAYD09HSYm5ujqqpKqrzwiY2Nxbhx4yjbXrx4gX79+lHqAVu4AWCO/zyvXr1C3759cevWLRgbG6O4uBgjRoygDPLeuXMHo0aNwufPn9G+fXts3LgRmzZtasJcNz/q6uowbdo0REdHQ0dHBzk5ObCyssL//ve/ps4aBwcHBwdHkxMREQFvb29UVFSgdevWOHToEJycnJo6WxwcHBwczQDOR3BwcHA0H9atW4fffvsNqqqqkJOTg4uLCw4dOtTU2fpXc/DgQQQFBeHAgQN48eIF/P390bt3bwDAmzdvMHr0aISEhJC/GTNmID09nZzv7++PEydOIDAwEK9fv8amTZuwfPlyXL9+nRyTmJiIhQsXYuvWrXj16hW2bt2KNWvW4MaNGwCA48ePIzw8HOPHj4e6ujrCw8MRHh4Oc3NzAICLiwtSU1Nx7tw5REdHY/PmzdDX1wcAxMfHIyQkBB8/fqTcl5+fH9LS0lBaWgoAKCsrg52dHaysrJCQkIDg4GAEBAQgNDSUnJOUlISKigpKOh8+fEBGRoZU95uUlIS1a9ciJCQEx44dw/Tp0+Hh4YGnT5+KfQZs0gSAzMxM6Orq4urVq5gyZQpl0KywsFBkEA0AXr9+TcqgtLQU48ePR9++fREbG4s7d+6gqqoKP/zwAyWd3Nxc8js7Oxve3t4oKSkh6QhTVlaGV69eUbbl5eVR0gGAlJQUyvPgn1NSUoJJkyZhypQpGDRokFRlkpSUBCsrK4SHh8PPzw/JycmoqamhLRNxZSNMYWEh9PT0EBISgl9++QU//vgj8vLysHjxYtZlAABv377Fu3fvyG8lJSUsXrwY0dHRuHbtGp49e4aDBw+KLSM+7969owxmMqXBVC5s3gU66GzG4cOH8euvvyIiIgIvXrxAnz59YG9vTwZUCwsLsXPnTpSWluL+/ft48uQJqqurKQOzsbGxmD9/PjZv3ozk5GSsWrUKDg4OSEpKouQjISEB48aNw9WrV9GuXTsUFhZS7l9wwqa3tzfy8vIo7/KbN28o5wBAZWUlkpOT8fnzZ6nywqesrAypqankd21tLdzd3VFZWUmpB2zhJKA5/vOYmpriypUrMDMzI9tat26NAwcOwN7eHgCwadMmrFmzBitXrgQATJ48GX379sX8+fPRvn37Jsl3c0NOTg6PHz+GnJwc2SYvL4/Tp09jwIABTZgzDg4ODg6OpmfGjBmUznxnZ2d07twZhYWF0NHRacKccXBwcHA0NZyP4ODg4Gg+BAQEUPq2+vTpg3379mHp0qVNmKt/N/v374evry++//57AEDbtm0p+9u0aYM+ffqQ3zwej7Lfx8cHhw4dIgN3dnZ24PF42LVrF0kTABYtWoTBgwcDAKZNm4b79+/j6NGjGDVqFLp37w4AMDAwQMuWLdGzZ0/K9a5fv47ExESSNyMjI0oehg8fjpMnT2LRokUAgMePH6O6uhpdunQhx5w8eRKGhobw8vICAGhra8Pd3R1BQUGUwScm2N6vqakpKbe+ffti165dKCgoaFSaKSkpMDU1hYGBAdTV1VnnmU9YWBh0dHSwZcsWsu3IkSPo2rUrbty4gVGjRomcs3z5cixatAh//vmn1NdjQ3V1NZycnDBq1Ci4u7uT7WzLJDs7GzY2NujZsydlhass0NDQoNT9zMxMHD58uFFpDh8+nPyvra2NyZMnIzY2VuZp0JVLY98FOpvh4+ODo0eP4ptvvgFQP25z/Phx3Lx5E2PGjAEAaGpqYvv27ZCXr1/feuTIEXTr1g2xsbHo27cv9u/fDxcXF7KSdsKECTh16hRCQkKwc+dOcq3U1FSMGDECBgYGUFJSkpjfmJgYnDlzBps3b8aJEycY70/4XtnkRRKHDx+GlpYWqcfSwq0AbmZIkqOQJGNx8OBBfPfdd6itraWks2/fPixZsoT8Lisro5wnLCdAtwydjfwAk8wGk6wAW6mNhi6BFxz8BQATExO8f/8eAFBUVITo6GhMnjyZsr9fv364cuWK2PSCg4NhaWkpMgOotrYWNjY2cHV1Jdvc3NxEJKUXL15MkQJgkti4efMm7XP29PQUW/4HDhwAwFz+7u7usLOzE5FpSE5OhoWFBY4dOwYAlAAZqJcyE97GwSEtgrI2gn8//vgjOaa4uBhLlixBx44dYWBgAFtbWzx79kwkrXnz5lHS4E/ycHR0xMmTJynHFhcXw8LCAnFxcYiNjRW5Pl9KiO216WRD2NiBlJQUuLi4YNCgQZR0xEnD7N27F8uXLxfZPn36dPzyyy+UbUz2IysrC+bm5igrK6PsnzNnDs6cOUMpL1dXVxgbG8PU1BSenp4UO8JG9kRQBoiPsAyQLCR8BCWm+vfvD2tra+zYsYNWapHOTwrXj0GDBsHJyQmPHz9GUVERLCwskJiYSEnv1q1bsLKyQl5eHoYNG0ZmJfPLZeDAgXj58qXYvDBJWwH0dv3cuXOwsrKCkZERTExM4ODgQJmhyPZZsZE5qqurw9y5c7Fnzx6yr7q6Gvb29ggPDxd7rvD1Dxw4gAULFpDZkTU1NejXrx+lzAVln5KTkzFnzhz06NEDJiYmsLOzQ3JyMtnPJCVEt68xMlzifKS47V87wnXrzp07+P777ykzWSXZcgD49OkTvLy80L9/fxgZGWHw4MEi8VpkZCSGDh0KfX19mJqaYv/+/Yz72KQrfB+NkfNqiG1jIycn7t0VZ+elkaASvFfhP8EOKCYJMDa2jUnqTtr31NzcHG5ubmTflStXMHToUOjp6aF79+7w9vYm76o42Mh+CUPng8LCwsSWI39gkK2Pu3z5MlxcXGBoaIgOHTpg5cqVFImxxpQTW6k8urS4WE40luN8RPNAkg9ga+eYbAjT+8nUbqeLU9i22QHZxO1s75dtzM1k/9jaNkmSkIWFhVLH3HRysLKya42RrGXb/8XkO9k8b0n9fnwE+/8OHTqE6dOnk9gdADZu3Ihly5aJPVdcbDJt2jRcvnyZ/H79+jVtW0Q4XmysT5FkkzkaRl5eHgoLC2Fpadng8wsKCtC/f3/KdgsLC5GBYv4gL58BAwaIXTEpTEJCAoyNjUUGpgWZM2cO5f0MDAzE7NmzKcfweDwUFBTAycmJ/J05c4YiTwvUvydeXl7k7+zZsw26Xx8fH3h4eGDRokWwtbXFhAkTMHr0aJG8S5Pmo0ePyCC6OBITEyl59/LyoviQ+Ph4keuoq6vDzMxM5FoAcPbsWaSlpWHFihUUuyFL3N3doaenh+3bt5Nt0pRJRkYGjI2NJabP4/Hg4eEBT09PbN26FX/99RfrvPHP9fDwwKxZs3Dq1Cn4+vpKPL6qqkqk/J8/f045pqioCMePH8fq1asxe/Zs/PHHH5RV59ra2pQxi7KyMpHVpkxpAPTlwvZdEAedzcjPz0d+fj5+/vlnku7s2bNRXV1NWRXbrVs3MvgL1A8gGxkZkb4hHo+Hu3fvUvLH4/Eo+ausrERMTAzt+wDU+wh3d3fs2rULmpqaIvsvX75MeV4+Pj4iZcWUF0lkZmZi37598PPzE+nXZQu3AriZ4eLigrKyMpw7dw66urp48eIF9PX1cfz4cdTW1uL06dO4desWjh49CqB+VtP+/ftx7do1jB07FkB9UHzs2DHKTJx3794hNTUViYmJ4PF4mDFjBtnHX4Z+/PhxfPvtt7h16xYcHBxw//59dOvWjVZ+QFGxvgpJyp+JiQmA/5cVGDhwID58+ABHR0ccPHgQGzZsAFDvPHJycrBq1SrKiyROakMWS+D//vtvDBkyBACQlpYGBQUFkZW+nTt3pnQoC8Ivz+DgYMpgxuXLlxETE0MxQG/evKFIiFy6dAm3b99Geno6cXxMEhvDhg1DWlqaxOdsZWWFhQsX4tWrV3BycsKTJ08AALq6ugCYyz8jIwOPHj3CrVu3MGLECHL9oKAgpKWliS3bu3fvIjIyElevXpVUzBwcrEhKSkJgYCBlosauXbsos8sWLFiA6upqXL9+HZqamggLC8O4ceMQGxtLJHsA4NmzZ1i+fDkGDBiAqKgoHD9+HAAwZMgQHDlyhLLy4uzZs6ioqECvXr3w8OFDZGVl4fbt22Q/P1221+bLhixduhTz58+nSICwsQOTJk3CyJEj4efnBxUVFZSUlMDGxkZsB4q1tTVGjhyJTZs2QVtbG0B9p2NkZCR2795NOXbo0KG09qOqqooiTcInIyMDHz58IL9dXV0hJyeHhw8fAqgPsJctW0YaSGxkTyTJACkqKtJK+MycOVOshE/37t1x9+5duLm5QVtbm8wc5EtMzZgxA3V1dcjNzcXatWuhpqaGFStWiJQnQO8ny8rKkJWVRTrgqqqqEBkZiYkTJyIzMxPt27dHaGgoZeZeWFgYevXqBQMDA7i5uWHRokV48uQJNDU1sXDhQlhbW6NXr15i88KXtjp06BDMzMwQFRUFNzc3dOzYkcympbPrnTt3xo4dO/DNN9+guroaW7duxeLFi3Hp0iWpnhUbmSM5OTmsW7cOw4cPx4gRI2BhYYEff/wRnz59wvTp08WeK3h9/qzHqKgo4jsLCgqQnJyMhw8fQl5eHrt376bUGxUVFYwYMQK7du2CiooKVq1aBQ8PD+KP+FJC/v7+6NmzJ169ekXsC90+NnVL0F7V1tYiISEBHh4eMDU1hYWFBcljVVUVVq1ahenTp5N3lKMewbrF4/Ewb948nDp1Cnp6euQYSbYcANTU1GBsbIxTp07B0NAQYWFhmDt3LlJSUqCuro7o6GgyKcHGxgaFhYVQUFAAANp9TOmKuw89PT3SuPv48SP8/PywePFinDt3TuR4Wdg2NnJy4t5dYTvPFPsz3StQbzPt7e1JI5QvAbZw4UKEhIQgIyMDM2bMgIaGBhksZWPbmN4xtuUUHBxM3m3+83v27Bnmzp2LQ4cOwdraGunp6XB1dUVNTY3It8X4SJL9ouu8ovNBc+bMQb9+/QAAo0aNwt69e9GvXz+oqqoCYO/jFixYgP3798PHxwevX7/G3LlzoaGhga1bt7JOR1I5sTlXXDlxsRz7WI7zEU0DnQ9gY+fY2BCm93PVqlW07Xa6OEWaNrss4na298s25ra1taW1f2xsm6AkpLGxMfz8/GBvb08+UyVtzC2p/w2QnV1j8n10fWlxcXGs+r+YfCeb5y2p34+PYP/f/PnzERISAj8/Pyxbtgw3btxAaGgoqW/CiItN0tPTUVxcLDE/TPFiY32K8L3t3r1bYjuRgxn+wH2LFi0adH55eTkAkDrGR1FRETU1NairqyOD9sKTYBQUFFgN4FdVVdGu7gOA/v37Q1lZGXfu3EHPnj1x5coV7NmzhzKhorKyEqamppg5c6ZIXgXR1taGgYEB+Z2ZmUn6PKS5344dO8LY2Bg1NTVQU1PDxYsX4ejoSKRy+bBNMz8/H0+ePEFwcLDEclBWVqbkHQCln7u8vJzYbuFrCcc8Hz58gJeXF06ePNng+sEG/r3V1NSQ67Atk8rKSrIqWhIaGhro0aMH6urqkJ+fj4ULF8LLy4uy2pjpXKC+HXjp0iX8+uuvEtU05eTkRMpfWVmZ/J+SkoJRo0bB3t4e48aNg6GhIU6dOkWZKOzm5oa1a9fizp07KC8vR2JiIjQ0NNC1a1fWaTCVC9t3QRx0NoO/b+rUqWjdujXZPnPmTMoEEHHfGuY/W37+Ro8eDSsrK0oagj7i6tWr6NChAzp06ECbXz8/P7Rp0wYODg6UyRx81NXVKc+MH1/yYZMXSXh6esLT0xOdOnViPFYS3ABwM4JOjoJOxsLJyQmhoaGkY//u3bsoLi7GxIkTyTEpKSkwMTFB27ZtkZOTQ7luY5ehM+UPYCcrwEZqQ5iGLIG/d+8erly5gnv37gGoN76qqqoUZwbUv7yCAakwo0ePRmhoKNatW0cMVmBgIOzs7ETKmE9JSQlWrFiBffv2wdHRkXWelZWVaZ+zmpoaAJDGaUPK39bWFoGBgaQxWV5ejoiICNja2ork59q1a1iwYAFCQkJErsXB0RAEZW0AUJw8j8fDtWvXkJycTJzjihUrcOPGDRw+fJh0CAD1jbcBAwagZ8+elMBl5syZ2LZtG+Li4kigfPr0aTg5OZHAWl5eXqQ+S3NttrIh4uxAUVERUlJSEBUVRYIGwcFXYfr27YsePXrg9OnT5Nshp0+fxrBhw8jEGz5M9kOSvRIkMTERV69eRUZGBrS0tAAA27dvx5AhQ+Dr69sg2SCAXgaosRI+ghJT33zzDc6ePStRKgmg95NAff0QrKMGBgbYt28fysrK4OLigsWLF2Pbtm1o0aIFSktLcfHiRRIYzpgxA3/99RdWrlyJ3r17o7S0lDJJSxx00lYAvV0XbgxaWlpKLQckDd26dcOOHTuwYMEC+Pr6IigoCPfu3RMJeoW5efMmtm3bhr/++osy+JednQ1tbW1yH61ataI06k1MTDB37lzy29nZGQ4ODuQ3nZQQk8yQLGS4KisrMXXqVLRs2RL+/v4Mpff1kp2djWnTpuHQoUMYOHAgZZ8kWw7Uv4uC8nxubm5Yt24dUlNT0adPH+zfvx+zZs2Cs7MzAKBdu3bkWLp9TOmKoyFyXo21bbKgIbG/8L1mZ2dT9rOVAGOybQD9O8a2nDp16iTi0318fDB79mxiL/ifhLGzs4OXlxejL5NG9kuSD9LR0SFyv/Ly8mjfvj0ln2zvz9ramsQQFhYW8Pb2xpIlS7BlyxbIyck1upwaUhe5WI5dLMf5iKaDzgcAzHaOrQ2hez/5q2gktduZJFTZtNllFbezvV+2MTeT/WMqO75to5OElCbmZiMHKyu71lDJWmHo+r+kkYltLKqqqjhx4gRsbGxgaWmJRYsWwc/PT6T8ZIG4eFEWPoVPRkYGxowZgwULFkgl38tBxcjICMrKyoiPjxcZuGJ7voaGBng8HuX8ly9fonPnzpQV26mpqfj222/J77i4OHTs2JHxGp06dUJmZiZKSkqgoaEh8TgXFxeEhYWhd+/esLW1FZmo1bVrV/B4PNK3IgknJycy6QWon6zDV8iS5n6nTJlCScfV1RUhISEiKwzZpvnLL7/gu+++o10J3bFjR/KJRD6CMUv37t1FlJKqq6uRnJxMad8oKipi48aNsLe3b/DqcLYEBATAwcEBrq6uOH78OOTk5FiXyePHj6GlpUU7/mBiYkJRFdLQ0EBUVBSrAWDhcx0dHWFmZoYNGzaInQjYokULkfJ/8eIF+T8iIgLdunWjKEEITxKeN28eBg8ejOfPnxNFnz179iAzM5N1GkzlwvZdEAedzTAyMkLLli2ho6MjdrU7n9TUVMpkiaKiIrx584YMlJqamkJOTo42f0FBQSKr/IXJysqCn58fUbkVx7BhwygqGElJSZSyZZMXYRQVFREREYHc3NxGf56AGwBuRrCRoxDHvHnzYGlpifz8fOjr6yMiIgKTJ08mg4JAvbyDpEFSHo+H9PR0ymxqHo9HGRDlyw8I8vz5c5GBBkkUFRXhzz//RGJiIvLy8hAfHy8SHM75P/buOy6Ka/8f/2uXKiCgdKUGxPJVgzWW2GLJNVclllhiRUw0EQMmBnviVe8nRk0Eo7FEIdZoNA+RYC+xRRMbGBFLVDSAFCH0Xub3B7+dy7JtgDUovp6PBw/d2ZmzZ87unjk755z3mTwZwcHBYgewItRG1ZFWVSmmwJ8+fVryj+fY2FhMnDgR3333ndhAMDIyUjuFvqysTOvN6+bNm6Ndu3aIjIzEyJEj8fDhQ9y8eROrVq1SCWen8Pnnn2PQoEFq3wtFiI2qqobYkPI+ayKl/BU/5JKTk+Hk5IR9+/aha9eucHR0VNqvuLgY06dPxw8//CDOoiZ6luLi4uDi4qIyMqp62Ja0tDTk5+er3MwBKm84+Pr6YseOHVi5ciUSExNx8eJFfPfdd3p5bUXuQR04AAAgAElEQVTYEE3f/arU1QNNmjRB69atsXjxYvj7+8PCwkLp+6/O1KlTsXnzZrEDeO/evZg/f77afbXVH4obGYmJieINiKSkJDH8GVB5TVDMOK16zoIgID4+XrwRe/jwYaVQmZmZmRrzrwgDtGvXLqVQ0wo1DeFTPYTOwYMH8fDhQ1RUVODJkydo3Lix1pDG2q6TivP96KOPAFTebHv06BE2bdoEKysrDBo0CMbGxjh69CiGDh2Kn3/+GY6Ojkph1EJDQ9G9e3ccPnwYZ8+e1Tn6VV1oqzNnzoiPddXr169fR1hYGJKTk5GYmIj169crpSflvVKEKpLJZGjSpAm6d++usQE+bdo0nDhxAr6+vti4caPOEZSxsbFYt24dfvrpJ5V9Hz16pPZ7rFBaWoqoqChcu3YNT548wZMnT8QfK9pCCel6Tupna/Xq1bC1tUVpaSkePXqkEoZrw4YNMDY2xq5du3R2gr+scnNzMWLECHz66acqA8201eUKly5dwsmTJ5GQkIDc3FwIgiB+BhQz+NTR9pyudNVRfEeAyu9QZmam1nBeQN3rtm+++UZpwIS6MGu6SGn71yZNRQgwhaSkJJWwVrrqNkDzd6wm5aROXFwchgwZonJsSUkJ7t+/Dx8fH43HVg37JWX2Qk2vQUDNPgfqyjEnJwepqamQyWS1Lqe6lrEmbMv9D68R9UfXNUAXqXWItu9n9d/WVUkJoSrlN7u+2u1Sz7c29Z0m2spOLpeLISG3b98u7lM9JKTUNndt778pSK1bNJ1X9WufLrruf+lqn0pp+1f9vaMI5/rOO+/A1NRUZd927dphwYIFGDx4MMaPH680AUVfNLUX9XFNUZg9ezamTZvG2b91JJfL4efnhyVLlqBNmzZwcHBAdnY2ioqKJHUIGxkZice3bdsW9vb2uHv3LkJDQ7F48WKlfdevX49BgwbB0dERN27cwLZt2xAaGqrzNbp27QpPT0/Mnz8fX331FUxMTJCQkABbW1ul2axjxozBypUr8ccff+Cbb75RSWf8+PFYtWoVvvrqKwQGBsLQ0BDp6enikitS1OR8FcrKynD79m1cuHBBacnHmqSZlJSEkJAQREVFiQOsBUGAIAgoLy+X3C4ZN24cVq1ahZ07d2LChAmoqKjA0qVL0bhxY6UOrhs3biAjIwNXrlyRlG7Vc1VQ5E/XLG9DQ0Ps3LkTb731FhYsWCC22aWU86ZNm+Dr6yvpt5AgCEhKSsLJkyc1RpfQJisrC9u3b4etrS2sra1rfDxQGbkqJSUFBQUFMDMzw5UrV/Djjz+qzChu1aqVyvWnJmnoKhdd34Vz587hm2++wc6dO5VmMAO664wPPvgACxYsgIeHB7y9vVFRUYGrV6+iTZs24gC0hIQEbNq0CTNmzEBZWZkYDU/RjgoICMC4cePQr18/cWDdgwcPIJfL4eHhgUOHDuHOnTvYtWuXyvehoqJCPO/58+djzpw5kvvA1NGVF3VKSkqwYMEC7Nu3T9Ksam3YAfwckRKOQp0WLVrgtddew549ezB9+nRERESo3Ew/ePAgPv30U7XHS5mGriv8gDZSwgoA0kJtVFXTKfB37tyBr68vVq5cqdR4dHR0REFBAfLy8pRGwz59+lTr6B+gcmTYunXrMHLkSGzZsgXjx4/XWC6///47fv75Z1y5ckXthUtXiA0p77M6Usvf1NQUo0ePRlhYGBYuXIjvvvsOixcvxsmTJ5X2e/jwIdzd3dn5S/+YoqIitRc7Q0NDpTWhFCPHFCPdq/Pz88OECROwfPly/Pjjj+jTp4/WNT5q8tpSw4ZoqwciIyPx8ccfY+DAgXBzc9O5Nsro0aMxf/58xMTEoLS0FE+fPoWvr6/afbXVH02bNsW4ceMwdOhQ9O7dG8nJyXj69KnS+RUXF8PS0lIltIu/v79SI0hX2BMFKWGA6hLCB6gcRa8I0WNra4uIiAj88ssvGDt2rNrX03adBCrrY0XYnqKiIuTn5yM8PBzDhg2DhYUFJk2ahO3bt2Po0KHYs2ePSllVVFSIg42khKjSFtpKSr1uaWmJtm3bwsnJCY8fP0ZkZKRSY17Ke1XTMEelpaWQyWRa11quvr+6mQlxcXFiaKLqiouL8a9//Qvm5uaYOnUqRowYgYcPH4ohFKWEElL3nD7DcF27dg0ffPABb+xLUH12FaC7Lp87dy6OHDmC2bNnY+DAgbCyslJajqK4uFhje1rbc7rSVaem4byAutdt2sLJSVWXEFTa0pQSAkxK2D5N3zHFbA0p5aROYWGhyrFyuRxyuVzpmqeOrrBf1dX0GqTIn+J8qpIS/lBxTFlZmVietSmnmuShJtiW+x9eI+qPtmuAFFLrEG3fT22khFCV8ptdX+12qedbm/pOEyllpyskpNQ2d23vvylIrVuA2oesrUrX/S9d7VMpbf+qv3fy8vKwbt06HDp0CHv27FH7moq2v65raF1Vby/q65oCVIaI1nTPkWpGseyQt7c3rKysUFBQgB07dkie8bZkyRIEBwejdevWsLS0RH5+PgICAlTqsnHjxqFHjx4QBAFZWVmYMWMGRo4cqTN9uVyObdu24b333oODgwMsLCwgk8lw9epVpQ5gCwsLvPnmm7h8+bLaATn29vbYs2cPAgMDsXz5cpibm6O4uBgLFiyQ3AFck/NVtNcNDAzg5OSEd955B++//36t0uzQoQPy8/OVfgModOvWTXJHbbNmzbB//34EBARg7ty5KCkpgbe3N3bv3q10DYuJicG+ffu0zriuLj8/X+13turAH03MzMzw008/YcCAAXBwcEBQUJDOMunTpw9ycnKU1iRX5+jRozA3NwdQuWxD//79sWDBAknnVPXYxo0b49VXX8W+fftqPfh2ypQpiIyMhKenJ8zNzeHq6ooVK1ZI6iOQmoaUctH1XThz5gwyMzM19pNoqzPmz5+PzMxMdOvWDebm5sjNzYWHhweOHz8u9t0MGTIEZ86cwbJly1BaWormzZtj27ZtYrn2798fS5cuxdSpU8WBcObm5ggLC0NmZqYY4aT6QLBjx44hISEBX3/9NYDK3+9VB9XVhra8aOoATkxMxEcffaQUAaC22AH8HJEajkKdqVOnIiQkBK+88gpsbW2VFq++dOkSkpOTMXToULXHSpmGriv8gDZSwgoo6Aq1AdRuCvzdu3cxbNgwrFixAu+8847Sc+7u7rCzs8OVK1fEUEqCIODq1asq+1Y3ePBgfPzxx7h79y52796N06dPq52JIQgCAgICsGrVKlhbW6u94a0rxAag/X3WpKbl7+vri7feegsZGRkYMGCASgewl5cX9u3bp/N1ifSlZcuWauvG2NhYpU6iX3/9VesMzt69e8PGxgYnTpzAvn37JI1Ml/raUsKG6KoHHBwckJaWhsDAQCxbtgxZWVlaw2hZWFhg9OjR2LNnDwRB0BkRQFv9sWXLFvz6669ITEyEm5sbunTpohSO09vbGxkZGejevbvWUYq6wp4A0sMA1SWED1D5A6ZqmJ0WLVpgzZo1am9G6bpOApXXwarpAUCbNm1w6tQp+Pr6YsqUKWjfvj3u3buHs2fPqtTfAQEB6NevH9q2bQs/Pz+cO3dO60AqbaGtpNTrXl5e4iCmiRMnonXr1pg5c6ZYblLeq5qEOfr222/x+PFjREVFYcyYMejRo4fWQVRt27bFpEmTMGHCBERERCg1an/99VeNgxkuX76MmJgYJCcni7MRHj16JD6vK5SQtuf0FYYrJCSkxu24l03jxo2xfft2vPHGG3BycoK/v7/4nLa6vKSkBJs3b0ZERIQYBr36gJVXXnlFbYg/bc9JSVedmobzAupet2kLJydVbUJQ6SI1BJiUsH2avmNffPGF5HJSp2XLlirv/+3bt1FRUQFPT0+Nx0kJ+1VdTa5BCjX5HDx48EDp2Js3b8LExATNmjVDeXl5rcupJnmoCbbl/ofXiPqj7foghdQ6RNv3UxupIVR1/WbXV7td6vnWpr7TRFvZyWQySSEhpba563L/DZBetwC1D1kLSL//pat9KqXtX/33Tp8+ffCvf/1L7etFR0dj9erVOH78OCZNmoQff/xRaUkWfdDUXtTXNQWo/B2oboYz1Vzjxo2xY8cO5OXlITMzE3Z2dmLZRkVFqew/btw4jBs3TnxsYmKC0NBQfPnll3j69KnG5Rj69OmDWbNmITk5GU2aNBE71qoKCAhQO0u2VatWOH/+PNLT01FSUgIHBwdxMEROTo64X/Xvxm+//ab0uHfv3oiOjkZqairKy8thZ2en1PFZNS2FadOmYdq0aTU6X3XpaCMlzUuXLqksb3PgwAFxGZi5c+eqTbt6VJ/XX38dMTExSE1NhYGBgbiWvcLcuXPVpqWtk7lHjx41Htjao0cPpeh1NjY2iI6OFh/rKpOoqCiVa4CDg4NSPjSdi0L1sqlK17G6zkdh27Zt4v+tra1x+vRpPH36FIIgiIN4J06cqDXtqhGodKUhpVwA7d+Fq1evam0LaKszTE1NsXbtWqxcuRJpaWmwtLRUadOUl5dj//79yMrKQkFBgdp21owZM/Dee+8hOTkZxsbGsLW1hVwux/Xr12FlZaUUGUOhakQIdd/B4cOHY/jw4eJjdfVby5YtVcpKU17U0fRdUHRK11Tt43yR3lUNR1FcXAyg8oaDYiS2Nr6+vkhKSsL69euVRguVlZVh7ty5CA4OFkcZVh8NGRAQgO+++07pR8ODBw+0VmA1UTWsAAAxrIA6Y8aMwblz57Br1y689957avdRTIFfv369pCnwf/75J9566y3MmjULPXr0QFJSkvhXWFgIuVyOyZMn44svvkBubi6Ayo7XsrIyrT8sgMoRWJMnT8ZHH32EV199VeNozM2bN+OVV16pc1gcTe+zNjUpf29vb7i5uWHevHnw9/dXWxH98ccfWLRoUY1HrBLVVpcuXdC6dWvMmzdPnFl46NAhnDhxQhz5mJeXh507dypdhNWZMmUK1q1bh8ePH2vsYKrpayvChkydOlWceVM1bIiCrnogJCQEf//9NxYuXKi7UP5//v7+iIqKwsGDB3U29nTVHz179sSYMWPQrVs3lRHhnTp1QseOHTFz5kxxPbuioiKcP39ecl4Vbty4gZMnTyqtzaSOIoTPw4cPxZGVVUP4KBrFihA+6n7gAf8L0XPgwAG1N/ilXCerKyoqwqFDh5CcnCzW+82bN0e/fv0QGBiI119/XSnUWHh4OGJiYrB69WoEBATA1tZWY2gnhfXr1yMlJQUAxNBWinWpdNXrFy5cEK9nQOWPvEaNGmkd/a6NIAhITEzEyZMn1c7MjY2NxdKlS7F161a8/vrrmDlzJvz8/HTOBO7duzdCQkIwatQo8YbfzZs3cfnyZY2d8WZmZigrK0NCQgIAIDk5WakRXDWUUGpqKgAgOztbDB2o6bnafLbKyspw8+ZNXLhwQemztXr1apw6dUrruVNlBJaDBw9i+fLliIyMBKC7LjcyMoKxsbHYRi0qKsKCBQuU2iv+/v7YsmULrl27BqBydopif03PSUlXF6nhvPRVt2mjCJOm+FPUaYp/n0Xbf/z48bh//z6++uorse5MT09XugEDaK/bqqv+HatrOSk63RV5ys7Oxvz58zFu3DhxXUp16hL2S9c1qKqanF9kZKR4Ay0jIwPLli3DxIkTIZfL61RO+v4sKrAt9z+8RtQfbdcHKaTWIdq+n9poa6dUpes3u77a7TWtM2tS32mirexkMpkYEvLevXsAKmf7Xr58WQy3XpM2d13uvwHS6haFmlz7qqvp/S9N7dOays7OxoEDB9CiRQuV5/Lz8+Hn54fPPvsMXbt2xaZNm/Dxxx+La0uqU71tUn2bpuhX6tqL+rqmZGZmYtGiRSoDD6huLCws4OLiUuuOdVNTU7i4uGicoS8IAgwMDODs7Ky281cKW1tbNGvWrM7ROBwcHNCsWTNJy4Noout8n5c0NXFwcFDp/H0eaSqTF3lQnp2dXZ0iOGlLo6blUv27IAgCMjIyMGbMGJ3HaqszTE1N4erqqvb3tSK6hrW1tdZBdor6wt7evk5LHulDfeWFHcDPEUU4ihs3bsDBwQHOzs7o0aOHpBE/JiYmGD9+PC5cuIB3331X3D5mzBhcu3YNc+fOhZWVFaysrNC3b18xpEJ6errSNHQHBwfY29tjwIABSjNq6mLKlCmwsbGBp6cnvLy8MHfuXKxYsULtvopQGzKZTOPMsMTERIwePVryFPjt27cjJSUF8+bNg7e3t9KfYpTGggUL4OzsDE9PT7i6umLz5s3Ys2ePpPV1/fz8cOnSJaWRXNXdv38fa9askZRfbTS9z9rUpPyByh/Gly9f1tiZpOig//vvv2t1DkQ1JZPJsHfvXjx69AiOjo5wcXFBYGAgtmzZghYtWiAhIQFt27ZF+/btdYb+mTBhAn7//XeMHDlSKcxPbV/7+vXrGD16NJ48eQInJyexnj127BgWLVqEOXPmiGlpqwdu3bqF//u//8P69etr9EPJx8cH1tbWMDU11Tm6uTb1h4JMJsP333+P7OxsuLq6wtXVFQ4ODirrykoRExODr7/+WlKDUhHC5+jRo+Lag0uWLEGHDh3QunVreHh4oFevXpgwYYJKp/bChQthbm4OCwsL9OjRA2ZmZmrLX8p1Eqi80WFubg5zc3M0b94cS5Yswfr168WwakBl/Xnu3Dml+vPevXuYP38+tmzZgsaNG0Mmk2HTpk3YvXs3jh8/rvHcFaGtPDw80LdvX0yaNEn8fOuq1/fv3w83Nzd4e3vDw8MDS5cuxfbt22v8I1wRqsjCwgI9e/aEo6OjSpijoqIiTJ06FXPmzBHXggsODoZcLsfSpUt1vsaIESMQHByMt99+G99//z0GDRqExYsXa1yrq1OnTvDz88Nrr72GVq1aoX///vj888+VbogtWbIErq6u8Pb2hqurKzw9PXH9+nVJz0n5bPXq1Qvm5uZo2rQpRo0aheHDh4s3mwRBwNatW3HixAmJpfxya9GiBfbt24eAgAAcOHBAZ10uk8mwevVqBAcHo1WrVmjZsiU6d+6sFHL57bffxowZMzB48GDxx9X333+v9Tkp6aqj+I6Ym5uLMwqkhPOqS90mxbFjx8T6zMrKSgxH16xZM9y9e/eZtP0VIcB27twJOzs7ODs7o3Xr1iprHGqr2xS0fcfqUk5vvfUWFi5ciGHDhsHDwwMeHh6wtLTEqlWrtB5Xm7BfUq9B1Uk9v2nTpiEgIAAeHh7w9PSEra2t0sCqupSTPj+LCmzLVeI1on5puz5IIbUO0fX91EZbO6Uqbb/Z9dVul3q+ta3v1NFVdvPnz0fPnj3RrVs3uLi4oGnTppg+fToKCwtr3Oauy/03QHfdUpWUa58mUu9/abt2SlX1907Lli0RHR2tdl30Tz/9FG5ubpg+fTqAyhmZEydOxNSpU8XBZtVVb5vExcXhvffeEx9r+y1btb3466+/6u2a8uDBA/zwww+SoxsSvejeeOMNtfdhHBwcJEWYJJJKJpPh119/fW472C0tLcUosNVpWzv5RSWzt7cXYmNjaz1qhp4NdeEodFm2bBmuXLkijooDKsPA9OvXT2XEdnp6Otzc3PD48WNxpE55ebmkaei1VT2swPMoOzsbBQUFcHR0rHWIs2dN3fsshb7Kv6KiAmlpaXB0dKxTOqRfeXl58PLyqnGIGAVBEODl5YWbN2/qOWf6lZ2djfz8fDg5OSl9R6WG7srNzYWnpyd+/vlnvPbaa3V+7evXr2PIkCFaw4bUNkSHVIMGDcKgQYOUblBqUtv6o6rs7Gzk5OTAxsZG0iCZZ6WoqEhraCipanKd1OXMmTN499138fDhwzqFErO0tMTZs2fRvn17raGttNXrxcXFSE9Ph6mpqdaZbc+TsrIylJaWSrqhn5eXh+zsbDEkoKZ9qocSkvJcXT9baWlpaNKkSZ1GgtfF77//jvDwcEnrJKkjCALc3d1x+/ZtPedMN6l1eUlJCdLS0mBnZ6cxlHpJSQlSU1NhZWUFS0tLSc9JSfdZ01fdpi5dGxsbXL9+HS1btgTw7Nr+msLhSa3bpJ5PbcupvLwcKSkpsLS0fG5vSmg7vyFDhmDgwIEIDAxESkoKjI2NNYYcr0s5PavP4svelvsnrhHXrl3Dzz//jJUrV9Y6jbfeegtff/11rWa+P++0XR+k0FaH1OT7qY22dkpN6KPd/k/VmTWt2zSFhKyN2tx/q0pTvQbo99pHqup6TUlKStK67NKLzMbGBvn5+bVq3xUUFGDixInYsWPHM8hZ7S1fvhz+/v4qa3YS0cvl/PnzSExMVAojT6q2b98OmUzGNYCfVzUNn5CXl4fw8HCVNQdrQjEN/Vmxs7N7Zmnri2L04fOqLu+zvspfLpez85fqjabvqNSbEWFhYWjRokWNbxhqe+36dP36dVy/fl3SDzN9XCeA56ccFCF8nifr1q3D5MmT9bKOVNXQVppoq9dNTExeuJsZhoaGkkLbAZURQywsLGq9j7bn6vrZep4Huj3vpNblxsbGOtusxsbGGt9HTc9JSfdZ+yfrtmfV9te2dqWUuk2KupSTgYHBc18/6jo/RcgzXW3yupTTs/osvuxtOV4j6p+264MUuuoQqd9PbaS0c6TQx2f+n6wza1K36XNwQl3Dl+oqZ31d+0hVXa8pz3t7gJQtWrSovrNARM+BXr161XcWXijsAH7BXb9+HUePHsWhQ4fg4+ODwYMHKz3foUMHuLm5qRxnbGyMAQMG/CPrAVDd6XqfiUi70NBQPH78GLt27cKBAwf0lq6usCHPyoEDB3Djxg1s374dCxcu1HqznfWHdnW9TmZkZGDTpk34448/EBsbiw0bNjyrrBIR1ZqBgQEGDBiglw4FovrQ0NpyREREREREzxo7gF9wjRo1goGBAWbNmoWRI0eqhJvRNDrK0tISBw8e/CeySHqg630mIu0sLCzg7OyMs2fP6vVmnpeXF3bt2qX2uZquuVQTFhYWMDMzw9atWzXetFRg/aFdXa+TRkZGMDExQd++fbF+/Xq9hFsODg5mWCsi0isjI6N6b/uzbtOPsWPHwtPTs76z8Y9raG05aphe1u+nPjTUsuO1j4iIiOoT1wAmImoAXpY1gImISLsXeQ1gIiKqO64BTEREDXENYCIikk6xBnDNrwJERERERERERERERERERPRcYghoIiIiIiIiIiIiIiIioufU1atXcfr0aaSmpsLFxQUTJ07Uy1Jk1HBxBjARERERERERERERERHRc+jRo0cYN24cnjx5Ant7e5w9exY9e/ZEdnZ2fWeNnmOGAFBRUVHf+SAiojoQBOG5SIOIiOqXPtr1vB4QEb249HV/h/eJiIheXEVFRfWdBSLSM3d3d9y7dw8ymQxA5e/2Tp064cyZM/D19a3n3NHzSt60aVOkpKTUdz6IiKgOkpOT4eDgUOvjZTIZ4uPj9ZgjIiKqDw8fPoS1tXWtj5fJZEhISNBjjoiI6J/04MEDWFpa1imNpk2bIi0tTU85IiKif1JGRgYsLCwglzPwJz0bM2bMwI4dO8THa9aswXvvvScOHrtz5w6GDx8OJycnuLq6wt/fX6ldsWXLFgQGBqqkO3DgQFy8eFF83KVLF8TFxSnts3DhQqxZs0Z8nJ2djenTp8PFxQUtWrRAYGAg8vLyNOY9KysLM2fOhIeHBxwdHdG9e3cxb9rSiouLw9ChQ8Xj+vbtizNnzojpCoKAr7/+Gu3atYOtrS26du2KH3/8UWu5AZWzejt06ICSkhIAQF5eHoKDg9GpUyc0b94c3bt3x5EjR8T9FZ2/iv+XlJQobSOqTt6nTx9cv369vvNBRER1EB0djb59+9YpjU6dOuH27dv6yRAREdWLH3/8EZ07d65TGp06dcLNmzf1lCMiIvon7d+/H23btq1TGh07dkRMTIyeckRERP+kmJgY9OrVq76zQQ1YYmIiMjIyAAC7d+/Gtm3b8H//93+Qy+XIz8/HkCFD4OPjg5iYGJw7dw4lJSUYO3aseHxGRgYSExNV0r1//z7y8/PFx3fv3lWZzZ6SkoKnT5+Kj6dPn46cnBxcunQJv/zyCx49eoSgoCCNeff398fDhw8RERGBa9eu4bPPPoO9vb3OtJo1a4bJkyfjt99+w/379zF58mS88847Yv7WrVuH8PBwfPfdd7h//z4WL16M2bNn4+TJk2rLTaG4uBj37t0TO8/NzMzg4uKC3bt3486dO5g4cSKmTJmitlM7JCQEBgYGGDRokMbzJTKcM2cORowYgTfffLNOswWIiKh+ZGVlYdWqVTh69Gid0vnvf/+LefPm4eDBg3rKGRER/ZO+/PJLxMfHY9SoUXVKZ82aNZg3bx4OHTqkp5wREdE/ISQkBHfv3sW//vWvOqUzdepU9OrVC8OHD4ednZ2eckdERM9aQUEBli1bhg0bNtR3VuglcPr0afznP//BsWPHxPbCjh07YGNjg88//1zcb8OGDfD29sapU6fQv39/vb3+nTt3cPToUTx+/BhWVlYAgGXLlqFHjx4ICQmBhYWF0v63bt3CyZMncefOHTg5OQEAmjdvLikta2trpd/Zffr0QXFxMQoLC2FqaorVq1fjm2++Qbdu3QAAQ4cOxa1bt/DFF19gwIABks9JLpdj1qxZ4uMZM2Zg/vz5ePjwIdq3by9uX758OX766SdERUXB1NS0JsVGLxlDLy8vrFq1Cl27dsXUqVPRsmVL2NjY1He+iIhIh/T0dNy9exfh4eEICwuDq6trndJ78803ERcXBx8fH0yZMgWtWrWCmZmZnnJLRETPSkJCAqKionD58mWcPXu2znV3r169MH78eLRt2xb+/v5o1aoVzM3N9ZRbIiLSt8TERBw+fBiXLl3C2bNn63wj0NraGhs3bkSPHj0wefJktGrVSpwdQ0REz5+cnBzcvn0bmzZtwtq1a9GpU6f6zhI1cLGxsV7k8J8AACAASURBVFi3bh1++uknuLu7i9vj4uJUPn8WFhZo3bo1bt26JXYA37lzB8HBwUr7aQvdrM6tW7dgbGyMDz/8UNxWXFwMQRAQHx+Pdu3aKe1/+/ZtuLi4iJ2/NU0rJycHixYtQnZ2Nq5fv46NGzeiSZMmSE1NRXp6usp5d+nSBSEhIUrbDh8+jCdPnoiPMzMzVfJy6dIlnDx5EgkJCcjNzYUgCEozoa9du4adO3fi3LlzbJ+RToZA5U3/ixcv4qeffsKVK1fqO09ERCSRm5sbLl68WOfOX4XZs2ejX79+iIyMxLlz5/SSJhERPVtyuRz//ve/sW3bNr1F9Jk2bRo6d+6MyMhInD9/Xi9pEhHRsyGTyTBgwACEhYXp7TrQs2dPXL16Ffv27eOyYS8Arv9H9PIRBEHpsaOjI86fPw9PT896yhG9bEpLS5Genq60rbCwEI0aNVLZ19DQEKWlpeJjExMTODg4KO1T03Wri4uLYWlpiQkTJiht9/f3V3uftKSkBMbGxrVOy9DQEG3atEFBQQEyMjLwww8/YMSIESgsLBSfr8rQ0BBlZWUQBEG8TltYWCidt4GBgdIxc+fOxZEjRzB79mwMHDgQVlZWKhEfr127htGjR7PzlyQRP5Wurq6YPXt2feaFiIieAz4+PvDx8anvbBARUT3j9YCI6OXm5OSEjz76qL6zQURERM+Ztm3bYtKkSZgwYQIiIiLQsWNHAECrVq1w5MgRpX1LS0tx7949zJw5U9zm4eGBTz75RGm/devW1SgP3t7eyMjIQPfu3SUNgHvllVfw119/ITc3F40bN65xWmZmZpgxYwaAygk07dq1Q1RUFHx9fdG4cWPcunVLqXM3NjYWnp6eSoO0evfurbRG8d27d7F27VoAlR3UmzdvRkREBPr06QMAePr0KUpKSpTy8e6776oMACHSpGbDKoiIiIiIiIiIiIiIiOil1bt3b4SEhGDUqFF48OABAGDcuHGIjY3Fzp07AQAVFRVYunQpGjdujMGDB9f4NcrLy1FWVib+CYIAQRBQUVGBTp06oWPHjpg5cyaysrIAAEVFRRojWHXt2hWenp6YP38+iouLAVQup1RYWKgzrZs3byqFbv7zzz+Rnp4OBwcHGBkZwc/PD0uWLEFaWhqAyo7d0NBQBAQESD5XIyMjGBsbIz4+Xnz9BQsWqMyMjoiIwKZNmySnSy83dgATERERERERERERERGRZCNGjEBwcDDefvttpKamolmzZti/fz9Wr16N5s2bw8HBAadPn8bu3bthZGRU4/T79u0LKysr8W/v3r1Yu3Yt/Pz8IJPJ8P333yM7Oxuurq5wdXWFg4MD1q9frzYtuVyObdu24caNG3BwcICzszN69OiBnJwcnWnduHEDHTt2hLu7O1q3bo033ngDs2fPRq9evQAAS5YsQYcOHdC6dWt4eHigV69emDBhgkpIaW1kMhlWr16N4OBgtGrVCi1btkTnzp3RuXNnpf1++ukn7N27t8ZlSS8nmcD54kREREREREREREREL7WCggJMnDgRO3bsqO+s0AsuNTUVBgYGsLW11Wu6ixcvxl9//YVt27aJ27Kzs5GTkwMbGxuYmZnpTCM9PR0lJSVwcHBQWYdXU1rl5eVIT0+HIAiwt7dXu2ZxUVERnj59CgcHB43rDetSUlKCtLQ02NnZwcTEROX5/Px8lJaWSgp7TS+v7du3QyaTwVD3rkRERERERERERERERES6VV0P91lTzBCWSluntKa0DAwMdJ6TqakpXFxcJOdDHWNjYzg7O2t83tzcvE7p08uFHcBERERERERERERERET0XPP29ubsVyKJ2AFMREREREREREREREREz7WJEyfWdxaIXhiqgcqJiIiIiIiIiIiIiIiIiOiFxA5gIiIiIiIiIiIiIiIiIqIGgh3AREREREREREREREQvOblcjpSUlPrOBhER1cGTJ09gaWnJDmAiIiIiIiIiIiIiopedsbExHj58iKKiovrOChER1VJ0dDRat27NDmAiIiIiIiIiIiIiopedXC7HzJkzsXz58vrOChER1cKZM2dQVFSEdu3aQSYIglDfGSIiIiIiIiIiIiIiovolCAKmTJmCx48fw9fXF15eXjAyMqrvbBERkQYVFRVISEjApUuXcOPGDRw9ehQODg7sACYiIiIiIiIiIiIiokoVFRWIi4vDgQMHkJqaWt/ZISIiHYyNjfHvf/8bvXr1grGxMQCwA5iIiIiIiIiIiIiIiIiIqKHgGsBERERERERERERERERERA0EO4CJiIiIiIiIiIiIiIiIiBoIdgATERERERERERERERERETUQ7AAmIiIiIiIiIiIiIiIiImog2AFMRERERERERERERERERNRAsAOYiIiIiIiIiIiIiIiIiKiBYAcwEREREREREREREREREVEDwQ5gIiIiIiIiIiIiIiIiIqIGgh3AREREREREREREREREREQNBDuAiYiIiIiIiIiIiIiIiIgaCHYAExERERERERERERERERE1EOwAJiIiIiIiIiIiIiIiIiJqINgBTERERERERERERERERETUQLADmIiIiIiIiIiIiIiIiIiogWAHMBERERERERERERERERFRA8EOYCIiIiIiIiIiIiIiIiKiBoIdwEREREREREREREREREREDQQ7gImIiIiIiIiIiIiIiIiIGgh2ABMRERERERERERERERERNRDsACYiIiIiIiIiIiIiIiIiaiDYAUxERERERERERERERERE1ECwA5iIiIiIiIiIiIiIiIiIqIFgBzARERERERERERERERERUQPBDmAiIiIiIiIiIiIiIiIiogaCHcBERERERERERERERERERA0EO4CJiIiIiIiIiIiIiIiIiBoIdgATERERERERERERERERETUQhlUfpKemIC8np3YpyWSwsLKGrZ2dPvJFREREREREREREREREREQ1ZAgAMVd+h98UP7g1c4JPm1a1TizixCnIDIwQvmMHfHx89JZJIiIiIiIiIiIiIiIiIiLSTRb/5z2hT58+OLv7e7g7N69zgiHhO/CfdRsRHRMDd3f3uueQiIiIiIiIiIiIiIiIiIgkMchKS1niN3wo+nbrqpcEu3V4FSlPn+Lo6V/w9vARekmTiIiIiIiIiIiIiIiIiIh0k1lbWgrRkfv0MvtXISbuDvpN9EdmVpbe0iQiIiIiIiIiIiIiIiIiIu1kAAThfqz+E/ZqC0EQ9J4uERERERERERERERERERGpJ6/vDGhz8+ZNhIeHq32uqKgI69atQ1JS0j+cKyIiIiIiIiIiIiIiIiKi59Nz3QF89uxZzJ8/X+1zeXl5mDVrFv78889/OFdERERERERERERERERERM+n57oDmIiIiIiIiIiIiIiIiIiIpDOs7wzoU0FBAfbv34/ffvsN6enp8PT0xMyZM+Hs7AwAePDgAfbu3Yvbt28jPz8fr7zyCt5//314e3sDAC5fvozdu3eL6RkZGaFZs2YYOnQovLy8xO3Jycn44YcfcPPmTRQXF6NTp0744IMPYGZmJqYTGRmJ5cuXK+Xvzp072LhxI77++mvI5XL8/fffWLp0KZYtW4bGjRuL+x06dAgnTpzAhx9+KOYNAK5du4YtW7bgyZMnaNGiBQIDA+Hi4qK1TKKjoxEeHo7Hjx/DxsYGgwYNQt++fbFixQq1+3fs2BGTJk3SWZaLFi1CXl6eyvGWlpZYunQpLl++jFOnTqnM4A4NDUV8fLxYBgoHDx5EREQEMjMz4ezsjIkTJ+L27duIiYlRm88FCxbA0NBQUvlVL3eFs2fP4sKFC1i4cKG4raioCJs2bcK5c+dgbGyMYcOGYdy4cUqvXVRUhLCwMJw9exbl5eXw8vLCRx99hGbNmmH37t0oKSnBlClTAAAVFRX44osv0K5dOwwbNgwAUFxcjLCwMJw5cwalpaXo2rUrPvzwQ1haWoqvsXv3bly+fFnpdQcMGIAhQ4YAAG7cuIGtW7fi8ePHsLe3x/jx49G3b1+1ZZWSkqLz/QYqP9dr165FXFwc7Ozs4O/vj+7du6uktWHDBvzxxx8wMzND27ZtERwcjM8//1zr56GiogInT57EsWPHkJCQADs7O0yaNAmvvfaa2nwRERERERERERERERFR7TSoGcAHDhzA5s2b4erqiv79++PixYvo0aOH2DEVHR2Nq1evwsfHB4MGDcKTJ0/QuXNnMYx0XFwcNm3aJKZXWFiIQ4cOoU2bNrh48aK4ffny5bh06RJ8fHzw2muv4ZtvvsH48ePF5+Pi4rBx40aV/D169AihoaGoqKgAAOTk5CA0NBT5+fniPmlpaZg0aRK+/fZb/PXXX+L2qKgovP766zAwMMDgwYNx9+5ddOrUCSkpKVrLo2vXrvjrr7/Qo0cPNG7cGAkJCQAAQ0NDGBoaIjY2FuHh4eJjAwMDSWVpYGAAQ0NDZGdnIzQ0FAUFBWIaijLYtm2bUn5OnDiB4OBgpTIAgE8++QSjR4+GiYmJ+BrZ2dmQy+Vimps3b8bdu3fFxzKZTHL5VS93BUXnuEJpaSkGDhyILVu2oHfv3vh//+//YebMmfjss8/EfUpKSvDGG29g+fLlcHd3R4cOHXDnzh0YGxsDAI4fP46oqChx/6CgIEREROCNN94Qjx8wYABWrVqFdu3aoXv37ti7dy+6du2Kv//+Wzzu+PHjOHLkiHi+hoaGYuf1wYMH0aVLF2RmZmLgwIEwMTHBoEGDsG7dOo2fBV3v96NHj9ChQwfcunULgwcPRqNGjdC3b18cP35cTOPBgwd49dVXcejQIXTo0AEeHh64d+8eDAwMdH4eEhMTMWvWLJiYmGDgwIEoLCxEz549cf36dY15JiIiIiIiIiIiIiIiotoRhPuxev8DINTVN998I5iZmQmBgYEqf9OnTxcACL/88ovG4zMzMwW5XC6cPHlS4z5ubm7Cxo0bBUEQhPDwcMHGxkZln549ewrz58/XmEZkZKRgYGAgFBcXa03nyJEjAgChtLRUEARBiI+PFwAIycnJ4j5jxowRJk+eLNjb2wsnTpwQBEEQSktLhebNmwtffPGFUnodO3YUAgIC1OappKREcHBwEIKCgjTmWxAqy9jNzU3rPoKguSxv3rwpABDi4+OVtoeHhwstW7YUH+fn5wuvvPKKEBwcrFQGN27cEAAIERERWl/fxsZGCA8PV9omtfyql7vCmjVrBE9PT/Hxhg0bBHt7eyErK0vcFhkZKRgbGwtJSUmCIAjC2rVrBTMzMyExMVFtPidPniyMHDlSEARBWLFiheDl5SWkpqaKz4eGhgqNGzcW0tLSxG2FhYWCt7e30ntZNZ2qiouLBQcHB2HevHlK28PCwgRjY2PhyZMnavOloOn9HjNmjPDmm28qbfv444+Ftm3bio9HjBghdOnSRSgpKdGYvqbPgzodO3YUFi1apHM/IiIiIiIiIiIiIiIiku65nwFcUVGBrKwslb/s7GyNx5SXlyM9PR05OTmwtrZWmSVbVlaGjIwMbNu2DRkZGejRo4fS80VFRSgqKkJ2djYuXLiAe/fuoVu3biqvU1JSgtTUVJiamqK8vBxPnz6t07keOnQIp0+fxldffYWSkhJx+/Xr15GUlIQ+ffogMTFR/OvUqRN+++03tWldu3YNqampmDFjRp3ypKsspfr888/h7u6Od999V2n74cOH4eTkBF9f3zrlE9BcfopZruXl5VqPj4yMRO/evZGbmyuWcYsWLVBSUoLo6GjxNYYNG4bmzZtrTWvXrl0ICQnB0aNHYW9vL26PiorCsGHDYGdnJ24zNTXFpEmTcPDgQZ3nePXqVaSmpsLf319p+8SJE2FgYIAjR47oTKO6iooKHDp0CIMGDVL6fLVt2xaxsbHIy8tDRUUFjh49Cn9/fxgZGdX4NarKyspCYmIiHB0da/15IiIiIiIiIiIiIiIiIvWe+zWArays8P3336tsT09Px549e5S2/fzzz1ixYgX++OMP2NjYoEmTJsjOzoYgCOI+sbGxaNeuHYDKsLgbN24UHwNARkYGGjVqJD42NTXF4sWLxfVbKyoq8PXXXyMsLEzsxFKEua36OhkZGeJ2harPV5eXl4cPP/wQa9asgY2NjdK+iYmJAICBAweqHKepIzIpKQkA4ObmpvE1tZFSllJFR0dj48aNiI6OVlknNikpCa6urrXKY1Xayq9ly5aQy+XYtWsXpk6diuzsbBw7dgzffvutUhqJiYm4c+eOSiequbk50tPTxfz6+PhozcuDBw/g5+eHPXv2wNPTU+m55ORkdOrUSeUYNzc38T3TJjk5GQBU1n42NDREs2bNxM9KTWRlZSEvLw8LFy5UCncNVJ57WloarKysUFBQUOvPU1xcHBYtWoRffvkFpqamsLOzQ0JCAkaOHFmr9IiIiIiIiIiIiIiIiEi9574DWKqLFy/C19cXa9aswenTp2FiYgIAaNy4sdJ+rVq1QnJyMvLz83H58mUEBATA0NAQkydPBgA0bdoUt27dAlC5Jmx8fDw++OADZGdn48svvxT/9u3bhwEDBkAmk+Hq1avo0qWL0us0adIEly9fVtp2/vx5TJ06VSXvMpkMixYtQuvWrZXWElYwNTUFAMTHxyvNHNVGcUxubq74f6mklqUuMpkM5eXleO+997Bw4UJ4eXkhJiZGJZ+5ubk1Slfd62grP1dXV6xZswYBAQH44IMPIAgC+vfvj759++L06dNKeXnvvfewfv16ja8lJb+enp7o1asX5s2bh169eim9Z1ZWVmpnr2dnZysNPNDEyspK3L/qzGLFNjMzM51pVKd4f7dv34533nlH7T6KdZZr817l5uaiT58+GDx4MP7880/Y2toCAIYMGVLjtIiIiIiIiIiIiIiIiEi75z4EtFSnT5+Go6MjAgMDxQ6t+Ph4lRmnhoaGcHR0hKenJ8aNG4cRI0Zg//794vMymQyOjo5wdHSEi4sLevfujZEjR+LUqVMAgFOnTuGtt97CwIEDIZPJAAA3b95UyY9cLoeXl5fSn5OTk9q8R0dHIywsDBs3blT7fMeOHSGXy8U8SPHqq69CJpPhwoULko9RkFqWuhgZGSEkJASlpaWYM2eO2n06dOiA+/fv1ykUsK7yA4CPPvoIOTk5iI+PR2FhIY4cOYI2bdoo7dOlSxecOXMGFRUVGtPp0KGDpDINCQmBj48P/v3vf4udpwDw2muv4fz58yr7X7hwQWUQgTodO3aEkZERzp07p7T9zp07SE9Pl5RGdebm5mjTpo3Wz5e5uTlatGhRq8/TjRs3kJ6ejkWLFomdvxUVFYiLi6txWkRERERERERERERERKRdg+kA9vT0RHp6Oq5duwYAePToEaZNm6Y0+3Xfvn2IjY0V14K9c+cOTp48ifbt24v7CIKAlJQUpKSkICEhAUePHsX27dvFNYA9PT1x7do1pKenQxAEXLx4EStWrKhT3oOCgsQ1ctVxdHTE1KlTMXv2bERFRaGgoAA5OTm4cOECzpw5o/YYZ2dnjBw5Eh9//DF+/fVXlJaWIjk5WVIHnpSylCIzMxP/+c9/8N1336mEw1Z4++234ejoiEmTJuHBgwcoLS3F3bt3xVnYUugqPwVFmGTFmsDVBQYGiuf6119/oaysDI8fP8aWLVtQVlYGAPjwww8RFxeHuXPn4unTpygsLMTvv/+OtLQ0pbTkcjl27NgBCwsLjBw5EqWlpQCAWbNm4dGjR5g7dy5yc3NRVFSErVu3Yv/+/QgODtZ5rk2bNsX777+PTz/9FFeuXIEgCHj48CH8/f3RrVs39O7dW0KJqVqwYAG2bt2K0NBQZGRkoKioCLGxsdi7d69S+WzevBk7d+5Efn6+GEpbFw8PD8jlcnHf3NxcBAUFITU1tVZ5JSIiIiIiIiIiIiIiIs0aTAfw6NGjMWrUKHTu3Bnm5ubo0KEDpk6din79+on73LhxA127doWJiQksLCzg4+ODAQMGKK17+vfff8PJyQlOTk545ZVXMH36dPj6+uLLL78EAHz22WewsLCAg4MDzMzM4Ofnh127dsHCwqLWeTc3N0dQUJDWfdavX4/Ro0dj9OjRMDc3h5WVFYYPH651zdewsDB0794dffv2hbGxMZo1a4adO3fqzI+UspQiMTERfn5+6Nq1q8Z9zMzMcOzYMeTm5sLLywvGxsZo37692PkshZTyk8Lb2xvHjh3DtWvX4ObmBiMjI3h4eCAsLEzcx8fHBz/99BP27t0Le3t7mJmZYfDgwcjIyFBJz8TEBBEREUhJScHUqVMhCALc3d1x/PhxHD58GFZWVrCwsMCiRYuwdetWDB48WFI+16xZA19fX/Tp0wcmJiZo0aIFbGxsEBkZKc5Kr6nx48fj22+/xYoVK2Bra4tGjRqhS5cuuHTpkrjPhx9+iIULF+LDDz+EhYUFrK2tJZV78+bNsXr1agQHB8Pc3By2trYwNDTE4sWLa5VXIiIiIiIiIiIiIiIi0kwGQBDux+o/Ya+2EARB7+nqkpOTg7///hvOzs5qZ52WlZUhLS0N5eXlcHJy0jgzVZfU1FSUlpbC2dm5rlmukeLiYiQlJcHMzAz29vaQy3X34efn5yM1NRU2NjbiGrJS6CpLfcvIyEBOTg4cHR0lrYf7LKWlpSE/Px/29vYwNzdXu09iYiIEQaj15yg1NRXFxcVwcXGpVcdtcXExnjx5AhsbG1haWtb4eHUEQUBCQgJkMhkcHBxgbGyssk9paSkSExNhZmYGBweHGudXW5kSERERERERERERERFR3cjcmjcTvl/5X/R9reZrh2py5vcrmDLvMzz66y+9pUlERERERERERERERERERNrJp4wbi9DvdYcFronQ73diyuRJek2TiIiIiIiIiIiIiIiIiIi0kwfNnYf4xCT8Z+23eknwP2u/RfyTZAR9Mkcv6RERERERERERERERERERkTQyQRCErLQUvD1sGB4nPYFP61bwad2yxgnF3L6LmNt34ObigoioQ7Bu2vQZZJeIiIiIiIiIiIiIiIiIiDSRCYIgAAAEAVnpaXj0MB5ZmRk1Tsi6qQ3cPb1gbWOr7zwSEREREREREREREREREZEE/+sAJiIiIiIiIiIiIiIiIiKiF5q8vjNARERERERERERERERERET6wQ5gIiIiIiIiIiIiIiIiIqIGgh3AREREREREREREREREREQNBDuAiYiIiIiIiIiIiIiIiIgaCEPFfwoL8nHuzAnc//N+7VKSAe3a+aBLt55o1KiRvvJHREREREREREREREREREQSyQRBECL270bgx5/Cb/wI9H29a60SysrORcShkzh4+BTCw8Px9tsj9JxVIiIiIiIiIiIiIiIiIiLSRhZ97Xfh7eEjEHM+AtbWlnVOMOaP2+g3dDJ++eUMfHx89JBFIiIiIiIiIiIiIiIiIiKSwiDlScKSeUHT4NO+tV4SdHSwg6mJMb7fsQdjx72rlzSJiIiIiIiIiIiIiIiIiEg3GQAh/o9TcHdz1luiilnAmZlZekuTiIiIiIiIiIiIiIiIiIi0kwEQhOy7+k/YqiUEQdB7uvr04MED2NjYwNraur6zoiQ5ORkymQyOjo71nRUiIiIiIiIiIiIiIiIieoE89x3AW7duRWFhIQDAxMQELi4u6NWrF8zNzeuctru7O+bMmYOAgIA6p6VPU6ZMgaGhIbZs2VLfWSEiIiIiIiIiIiIiIiKiF4hhfWdAl7lz58LBwQEuLi7IysrCnTt3AABbtmzBqFGjJKVRWFiIsLAwzJw581lmlYiIiIiIiIiIiIiIiIioXsnrOwNSzJo1C0ePHsVvv/2GpKQkvPXWW5g8eTIyMzMlHX/q1Cn88MMPzziXRERERERERERERERERET164XoAK7K3NwcS5YsQUFBAa5evYply5bhyJEjKvudOXMGCxYswKlTp/DZZ58hPj4eQUFBCAoKwv3798X95HI5jhw5Aj8/P7z77rv48ssvkZeXp5Lezz//DD8/P/j6+mLOnDl48OCB0vOXL1/Ghg0bkJ6ejsWLF2P48OF4//33cfr0acnnFhMTg+XLl+P8+fM4e/YsVqxYIc54BoDMzEwEBQXhzz//VDl2y5Yt2Lp1KwBg6dKluHDhgso+ISEhOHz4sPi4+n7p6en45JNPEBcXJ57TokWLVNKJiorC2rVrlc79iy++UNkvNDQUQUFBqKioELcdP34cS5YsEd+LoKAgpbSIiIiIiIiIiIiIiIiIqPZeuA5gACgvLwcAGBsb4++//8b8+fNV9vnvf/+Lx48fIzMzE02bNoWJiQnc3d3h7u4OU1NTcb/w8HB8/vnnaNOmDTp37ozvvvsOb775ptL6xcHBwRg7dizs7OzQv39//Pnnn/Dx8cHvv/8u7hMXF4dly5ahd+/eyMnJwcCBA1FRUYEBAwao7aCubsGCBXj99dfx+PFj2NjYoGnTprh58yY6deqE0NBQAECTJk1w9uxZrF+/XunYoqIifPLJJ2JHa1hYGGJiYlReY8+ePbh48aL4uOp+BQUFGDJkCAoKCtCmTRvxnDZu3KiSzoULF/Djjz8qnfu2bduU9jlx4gSCg4MRGhoq5uvTTz/FyJEjlTrgf/31V6W0iIiIiIiIiIiIiIiIiKj2nvs1gKsrKSnBihUrYGdnh65du8Le3h4hISG4fv06OnbsCAB48uQJTp8+jWPHjmHAgAG4evUqioqKEBQUpJJebm4uYmNjYWhYWRS9e/dGly5dcO/ePbRs2RJ//PEHVq1ahaNHj+LNN98EAHz00UeYPHkypk2bhps3b4ppJScnY+XKlZgwYYK4LSUlBdu3b8fgwYM1ntMPP/yA1atX4/Lly/Dx8cGUKVNgaGiILVu24NSpUxg4cCDat2+Pfv36Yfr06Vi0aBFWrlwJY2NjAMDBgwdRWlqKMWPG1KpMy8vLMXbsWDg5Oal0LtdGQUEBZsyYgaCgTBVxigAAGF9JREFUIKxcuRIAUFFRgQ0bNmDLli0YO3asuO+8efPUzlYmIiIiIiIiIiIiIiIiopp7IWYAh4eHY/z48XjzzTfh7OyM48ePY//+/WjUqBFat26NXr16ieGPgcoO1ebNm+ONN97Qmfbbb78tdv4CQLt27QAACQkJACrDHTdv3lzs/FV4//33ERsbi4cPHyptHzVqlNLjdu3aiWlpsn37dgwdOhQ+Pj4qz/Xv3x/9+vUTz2/8+PEoKirCwYMHxX127tyJESNGwNLSUtfpqvXBBx8gMzMTP/zwA+Tyun8kPv/8c7i7u+Pdd98Vt8lkMshkMhQXF9c5fSIiIiIiIiIiIiIiIiJS74XoALazs4O3tzcGDBiAsLAwxMfHo3fv3uLz06dPx+7du1FUVAQA2LVrFyZNmiSpM9PJyUnpsYGBAQCgrKwMQOWsXhcXF5Xj3NzcAACJiYniNmtra6Xw0or0FGlFRkbC2dlZ/Pv6668BAI8fP4aXl5fGPLZs2RLx8fEAgMaNG2PcuHEICwsDULlu77FjxzBlyhSlYwIDA2FoaKj0VzVktcL27duxbds2/Pjjjyp5r43o6Ghs3LgRmzZtUgqjLZPJsHjxYnzwwQcYO3YsPvnkE8yZMwe//PJLnV+TiIiIiIiIiIiIiIiIiCq9ECGghwwZghkzZmh8ftSoUQgMDERERAReffVVREdHS15XVtHhq4mVlRWys7NVtiu2mZmZSU6rc+fOSmvqent7A6js1P3/2rvzoKiu9P/jH6ARBFlUJIgrijHqVzTB0XIJplymhhRRRwhumVFRFEdUjMSMG5oYY2K0lMQ9xCGOu3FgImV0ZtwNo8YlGsu4kBnQhkTQgDigAk3//sjPLjvdKGqrCfV+VXVV33POfc5zz/3zqXNuUVFRlfcVFRWpTp06luuxY8eqS5cuysvLU3p6uho2bGiz23nWrFlWR1FL0quvvmoTOyoqSi4uLpowYYK2bNny0DuAnZycZDKZFBsbqxkzZig4ONjmO8RTp05VcHCwIiMjNXToUNWtW1cVFRVydXV9qDkBAAAAAAAAAAAAWPtVFIDvx83NTX/84x+1ceNGnT17Vj169LDaUWswGCy7cB9Uly5dtGDBAuXl5SkwMNDSfujQIXl4eKhdu3bVjhUYGGgV447evXtrw4YNKi8vtymGlpaWas+ePZo0aZKlrVOnTurQoYM2b96stLQ0u7ud/fz8bHYVu7m52czt4eGhjIwMde/eXfHx8Vq+fHm1n+durq6uWrJkicrLy5WYmGh3jNlsVnJysvr166f169dL4hvAAAAAAAAAAAAAgCP9Ko6Aro6xY8dq9+7d2rJli0aOHGnV17JlS6vv9ZpMpmrHDQ8PV7t27TRixAgZjUZVVlbqwIEDmjNnjiZMmKDatWs/cu5TpkyRJEVGRurs2bOSfiqWnjlzRgMGDJC3t7f+9Kc/Wd0zduxYrV27VpmZmTbHPz+o+vXra9euXUpPT9fcuXOt+iorK5WdnW31u379um7fvq2cnBzLuMLCQr311lv6+OOPrb6pfLfk5GSdOnVKK1aseKR8AQAAAAAAAAAAANhXYwrArVu3VqdOnXT58mWbo46HDBmiTp06qVWrVvLy8tKOHTuqHddgMGjHjh1ydXVV06ZN5e7urvDwcL322muaN2+eQ3KvX7++MjMz5eXlpdDQUK1du1Z/+ctf1KtXL7Vs2VLHjh2Tj4+P1T1Dhw5VVlaWunXrppYtWz5yDs2aNdPOnTu1aNEipaSkWNoLCwsVFBRk9Vu5cqWOHTtmNa/RaNTIkSPVuXNnu/EvXLig6dOna9GiRXZ3QQMAAAAAAAAAAAB4dE6SzIU5X8nX19thQYuKilW32W9kNpsdFrM6IiIiVK9ePa1du9Zuf35+vkwmkxo2bPhQ8YuLi3Xt2jUFBgbaPU7ZESoqKjRgwAD5+vpq3bp1VY67ffu2AgMD9cEHHygmJuax5HIv6enpioqKeuijtQEAAAAAAAAAAAA4nqFD+zb6+ptv9dKLXRwW9OtvvlWHkP9zWLzq+O6777Rz504dPHiwyjH+/v6PNIe3t7e8vR1XKLfHYDDI3d1d7u7u9xy3ceNGSdKgQYMeaz4AAAAAAAAAAAAAfj0MI/44TJOnz9fJg+kOCzp5+nwlJExxWLx72b9/vwoLC5WUlKSIiAh17dr1icz7NJSWliozM1M5OTlKTEzU7Nmz5enp+VRycXFxuW+RGgAAAAAAAAAAAMCT5WQ2m8wvvdhNTk7SX5a9q+bNGj90sOwco0aOny6zXLTvwJcOTLNqr776qv7zn/8oLCxMb7/9try8vJ7IvI/TpEmT5O3trblz51q1X7lyRf369ZOLi4sGDx6siRMnPqUMAQAAAAAAAAAAAPwSOZnNZrPM5Zoz800tWZaiur7eat70wYvA2ZeMKiwqVsKEcZoz9/3HkCoAAAAAAAAAAAAA4F5+KgBbmPW/G8WSzFXeUDVn1fF6vN/HBQAAAAAAAAAAAABU7WcFYAAAAAAAAAAAAADAr5Xz004AAAAAAAAAAAAAAOAYFIABAAAAAAAAAAAAoIagAAwAAAAAAAAAAAAANQQFYAAAAAAAAAAAAACoIQw/bzCbzTKZTA8cyMXFRU5OTg5JCgAAAAAAAAAAAADw4CwF4KSkJK1du1ZFRUUKCQl54ECnT5+Wr6+vRowYoTlz5jgyRwAAAAAAAAAAAABANRgkafjw4WrcuLEyMzPl6+v70MFOnz6tMWPGKDs7W6mpqY7KEQAAAAAAAAAAAABQDc6ffPKJTCaTZsyY8UjFX0kKCQnR4cOHdeLECQrAAAAAAAAAAAAAAPCEOX/00Ud67bXXHBp0xowZSk5OdmhMAAAAAAAAAAAAAMC9OUkyl5SUODRoUVGRGjVqJLPZ7NC4sGU0GuXm5qYGDRo87VQAAAAAAAAAAAAAPGWGxxH0UY+SvtvOnTuVlZVVZX/dunU1bNgwh833S3f27Flt3bpVR44c0VdffaWrV69q8eLFSkhIeNqpAQAAAAAAAAAAAHjKHssOYEny9PR0yA7gqKgoHThwQG3btrXpy8nJkZubm86dO/fI8/waLFiwQDNnztTLL7+sPn36qGPHjmrfvr18fHyedmoAAAAAAAAAAAAAfgEeyw5gR+vVq5c2bdpk0/7OO+9o3bp1TyGjJ+/IkSOaPn260tPTFRER8bTTAQAAAAAAAAAAAPAL5Py0E3CkH3/8UYmJibp9+7YWL16sgQMHatiwYdq2bZvVuKNHj2r+/Pk29ycnJyshIUGVlZWSpMLCQiUmJiotLc3ufHPnztW7775r1Xbr1i0lJycrMjJSQ4YM0caNG23mXrlypX744Qe9+eab6t+/v+Li4nT8+PF7PtuKFSvUu3fv+xZ/3377bZ08edKq7fz580pISNCOHTskSd99953effdd/eEPf9DAgQOVmJioCxcuWMb/+OOPSkhI0A8//GAVp6KiQgkJCVZjJen48eMaN26c+vfvr8TERF2+fNkmr5MnT2rixInq37+/YmJi7Bb078jMzNSbb76p6OhoDRo0SPPnz1dhYaGlv7KyUv/4xz80ZcoURUdHa/z48Tpy5IjdWHfe6Z3f1q1brfpPnz6tpKQkDRkyRKNGjdKmTZusdq4vWbLEsm53mzZtmtU7q866AwAAAAAAAAAAAI9bjSoAFxcXa9GiRerdu7eOHTumXr16ydfXV9HR0Vq4cKFl3NmzZ/Xpp59a3fvPf/5TU6dOVXJysqUAfP36dS1atEiTJk2SyWSyGn/06FElJSVp9erVlrby8nL17dtXKSkpCgsLU7t27TR+/HglJSVZzT1v3jz16tVLJpNJffr0kdFoVLdu3ZSZmVnlsx08eFA9evTQ4sWL1aZNG/n6+iosLExHjx61GrdmzRqdP3/ecm02mzV69GgtX77cEv/kyZM6duyYOnbsqN/+9rfKy8tTp06ddPHiRcs6Jicn6+rVq1axKyoqlJycrEuXLlnaMjIy1KNHD7m4uCg8PFznz59XaGioVfE4LS1NnTt31qVLl9StWzd5eXnZLRLf8fnnn6uoqEhhYWHq3r27/v73v+vFF1+0vAOj0agJEybIzc1Nffv21c2bN9W9e3edOHHCJtbq1auVl5enxo0ba//+/dq9e7dV/5gxY1RQUKCePXuqUaNGiomJ0Ycffmjp37Rpk933smLFCn377bcPtO4AAAAAAAAAAADA4/arOAL6QYWEhGj58uWW6+bNm2vu3LkaPXq0fH19bcaXlpYqLi5OCQkJWrBggU1/vXr1lJGRof79+1vaVqxYoU6dOqmgoMDS9sknn+jChQu6cOGC5bu8HTp0UFRUlOLi4hQYGCjppwLm5s2bFR0dLUmaMGGCIiIiNG3aNO3fv99m/srKSuXk5CglJUWhoaFaunSpfH199f777+t3v/udsrKyVK9ePbtrsWrVKuXn5ys8PNzSFhUVpaioKMt1XFycmjdvrj179qhVq1b2F9WOiooKxcXFafbs2frzn/9siRUaGqp58+bpo48+Unl5ucaNG6f4+HgtXry4WnHfe+89q+t+/fopKChIWVlZat26tZo2bWpVbI2NjdWpU6eUlpamF154were/Px8LVy4UOHh4Tp27JjNXIcPH7a6Likp0WeffaZJkyZVK9eq2Ft3AAAAAAAAAAAA4HGrUTuA7xgwYIDV9ejRo1VcXKyvvvrK7vjZs2erefPmGjp0qN3+4cOHWxWUCwsLtWXLFo0YMcJq3Oeff66wsDDduHFDRqNRRqNRrVq1UllZmdXxwE5OTlbFZEkaNWqUDh48qLKyMpv5S0tLZTKZ9Morr+hvf/ubevfurdDQUKWmpqqyslKpqal2887Ly9O0adO0evVqOTvbvuqKigpdu3ZNn376qa5du6Zu3brZjVOVEydOKDc3Vz179rQ8r9FoVGhoqKWwevz4cV25ckVxcXEPFNtsNqusrEyXL19WcnKyWrRooWbNmtmMKyoqktFoVEBAgM2R1dnZ2bp69aratWt33/lKSkqUl5cnX19fqzguLi42u7/v537rDgAAAAAAAAAAADwuNXIHcEBAgNV13bp15enpWeW3aVeuXKmTJ0/qf//7n914w4YN0+zZs5WVlaXg4GClpqaqa9euatmypdU4o9Goc+fO6YsvvrBq9/T0tDpO2dfXV25ublZjmjRpIrPZLKPRqBYtWlj1GQw/vaZevXpZtXt4eKhNmzZWu2HvFh8fr6ioKPXs2dNm9+2ZM2fUvn17S/yVK1daru/o2LGj3bh3P68k9e3b16avUaNGkqTc3FxJslu8LSgo0PPPP2+57tq1q+UbvcuWLdOECRMkSf7+/srIyJC7u7ukn47Rnjlzpvbu3St3d3c1aNBAly9fVmRkpFX8gwcPqkWLFmratKnd/AsLCzVr1iylpaXp1q1bCggI0I0bN1SrVi3LmLZt22rnzp2aMmWK6tWrp3Pnzmnp0qUqLi6ucl3ute4AAAAAAAAAAADA41QjC8A3b960ui4vL1dpaanq1q1raXNycpLJZFJsbKxmzJih4OBgff3113bjeXt7a9CgQVq1apU++OADrVq1Su+8847NOHd3d8XGxmrZsmX3zO/WrVs2bUVFRZJklePdcf38/JSXl2fT5+zsbLND1cnJSenp6crMzLT6Tu3dnnvuOX3//fcqKSnR0aNHFR8fL4PBoOHDh1vGbN++3epI6LKyMqvdtHcKsv/973/VoEEDu/PcGXPjxg3L/zu8vb21cuVKy3X9+vUt/2NiYhQVFaXCwkJt27ZNvXv31uHDh9WkSRP17NlT4eHhunjxovz8/CRJERERNnOnpqbaFIXvNnjwYOXn52vPnj1q3bq1JGnhwoVWOc2ZM0cDBw6Uv7+/XF1d5efnp4SEBNWpU8cmXnXWHQAAAAAAAAAAAHicauT5tD8v5B44cEBms1lt2rSxtLm6umrJkiUqLy9XYmLifWPGxcVp/fr12rt3r65fv25zzLQk/eY3v9G+fftUWVl5z1g3b9602bW7f/9+PfPMM3YLwJL00ksvafv27VZtt2/f1rlz59ShQweb+PHx8frwww+rjGcwGBQQEKCWLVtqyJAhGjhwoD777DOrMU2aNFFwcLDl9/OdyS+88IKcnZ21e/fuKp+1Q4cOcnJy0qFDh2z63NzcFBERYfl17drV0ufh4aGAgAC1adNGM2fO1DPPPKMvvvhCp06d0tWrVzVz5kxL8beyslJnz561in3q1CkdOHBAsbGxVea2Z88ejRs3zlL8laRvvvnGakyjRo105MgRFRQU6MqVK8rNzdUbb7xh92jn6qw7AAAAAAAAAAAA8DjVyALw+++/r3//+9+qrKzUxYsXNXHiRIWHh+u5556zjCksLNRbb72ljz/+2HLE8r2EhoYqMDBQkydP1qhRo+zeM2nSJGVnZ2v06NG6dOmSKioqlJOTo5SUFFVUVFjGubi4aNy4ccrJyVFlZaV27dql5ORkvf7661XOn5iYqD179mjVqlUymUy6ceOGJk+eLIPBoGHDhlmNfe+99/T8888rOjrabqytW7fqzJkzlp3D586d07/+9S+FhITcdx3uFhAQoJiYGE2ePFkZGRkqLS1VcXGxDh06pH379kmSGjdurMjISL3++uv68ssvVV5eru+//95uQfiOFStWWI6XNpvNysjIUE5OjkJCQhQUFCRnZ2ft2rVL0k87ixMSEnTlyhXL/QUFBRo/fryioqLk6uqq7OxsZWdnq6SkRDdu3LDspG7RooX27t2rsrIylZeXa+3atUpPT7ebU/369eXr63vP9bjfugMAAAAAAAAAAACPW40sACclJWnIkCFyd3fXs88+Kz8/P6WkpFiNMRqNGjlypDp37lztuHFxcfrmm280ZswYu/3PPvusdu3apePHj6tZs2ZydXVVUFCQ1qxZYzWuWbNm6tevn9q3by93d3dFRERo8ODBmjx5cpVzd+nSRRs3btScOXPk4eEhHx8fHT58WLt27VK9evWsxubm5mr58uVVxjp16pQ6d+4sNzc31alTRx07dlSfPn2UlJRU7bW4Y9myZYqOjlZ0dLQ8PT3l4+Oj3//+95YCriStWbNGXbt21UsvvaRatWopMDBQ69atqzLmtm3b1LRpU9WuXVu1a9dWTEyMFixYoL59+6pRo0ZauHChpk6dKk9PT/n5+clgMGjWrFmW+8eNG6cvv/xSmzZtUlBQkOWXkZGhDRs26OWXX5b0U6F537598vLykqenp9avX6/Nmzc/8Brccb91BwAAAAAAAAAAAB43J0nmkpIShwf29PSU2Wx2eNx7yc7OVlBQkM6cOaO2bdvq8uXLcnd3l7+//xPNQ5Ly8/NVUlIif39/eXp6WtpTU1P1xhtvqKCgQGVlZcrNzZWfn5+8vLyqFddkMsloNKp27dqP9FwVFRXKz8+XyWRSw4YNq7UL+l5u376t3NxceXh4yN/f3+4RySUlJbpy5Yrq168vHx+fe8a7efOm8vPzLe/PycnJZr68vDyb9ZWkqKgoBQQEaOnSpTZxlyxZotTUVMsx4ZWVlZa87/4GMQAAAAAAAAAAAPBrZJCknJwcNWvWzGFBc3JyHBbrYZjNZjk5Oalp06ZPLYd7FWfvFMZr1aqloKCgB4rr4uLikHdlMBgUGBj4yHHucHNzs/lG8M95enred8wdtWvXvudzurm5PfDa2ePs7KwmTZo8chwAAAAAAAAAAADgl8D5lVde0fbt2x0adPv27erXr59DYwLVVatWLbm6utrtMxgMcnNze8IZAQAAAAAAAAAAAE+GISEhQZGRkQoLC1NISMgjBzx9+rTmz5+vtLQ0B6T3YFxdXdW6detfdIHPx8dHrVq1etpp1GgbNmyosi8+Pl7x8fFPMBsAAAAAAAAAAADgyXEym83mlJQUxcbGKj4+XhEREQ8dLCMjQ3/961+1ePFijRw50oFpAgAAAAAAAAAAAADux8n8/z9Im5ubq61btyorK+vhAjk5KTg4WNHR0WrYsKFDkwQAAAAAAAAAAAAA3J+lAAwAAAAAAAAAAAAA+HVzftoJAAAAAAAAAAAAAAAcgwIwAAAAAAAAAAAAANQQFIABAAAAAAAAAAAAoIagAAwAAAAAAAAAAAAANQQFYAAAAAAAAAAAAACoISgAAwAAAAAAAAAAAEANQQEYAAAAAAAAAAAAAGoICsAAAAAAAAAAAAAAUENQAAYAAAAAAAAAAACAGoICMAAAAAAAAAAAAADUEBSAAQAAAAAAAAAAAKCGoAAMAAAAAAAAAAAAADUEBWAAAAAAAAAAAAAAqCEoAAMAAAAAAAAAAABADfH/ANnK4XGXMXdkAAAAAElFTkSuQmCC)"
      ],
      "metadata": {
        "id": "FGqHnbI3_gnL"
      }
    },
    {
      "cell_type": "markdown",
      "source": [
        "Например, время, проведённое на сайте, часто бывает нормально распределённым. Тогда мы можем использовать двухвыборочный T-критерий для средних. А вот денежные метрики, такие как средний чек, часто (но не всегда) напоминают логнормальное распределение: большинство наблюдений сосредоточены около нуля, и частота постепенно падает.\n",
        "\n",
        "Напомним, что для проверки распределения на нормальность мы всегда можем воспользоваться самым популярным и знакомым нам тестом Шапиро — Уилка или любым другим, например, тестом Д’Агостино K2."
      ],
      "metadata": {
        "id": "g2LqOZvu_wd1"
      }
    },
    {
      "cell_type": "markdown",
      "source": [
        "# ПАРАМЕТРИЧЕСКИЕ ТЕСТЫ"
      ],
      "metadata": {
        "id": "JRiHcKtB_0HO"
      }
    },
    {
      "cell_type": "markdown",
      "source": [
        "Давайте рассмотрим пример.\n",
        "\n",
        "Мы проводим A/B-тест, чтобы оценить, влияет ли тема оформления на привлекательность сайта для пользователя. Гипотеза заключается в том, что тёмная тема более привлекательна для посетителей, поэтому их сильнее заинтересует наш сайт, следовательно, они проведут на нём больше времени. Уровень значимости равен 0.05.\n",
        "\n",
        "Результаты тестирования представлены в этом файле."
      ],
      "metadata": {
        "id": "2ICpcSFb_3om"
      }
    },
    {
      "cell_type": "code",
      "source": [
        "time_data = pd.read_excel('/content/drive/MyDrive/Data/asset-v1_SkillFactory+DST-3.0+28FEB2021+type@asset+block@time_data.xlsx')\n",
        "display(time_data.head())"
      ],
      "metadata": {
        "colab": {
          "base_uri": "https://localhost:8080/",
          "height": 206
        },
        "id": "hMwyqTVa_gPD",
        "outputId": "0cc808c6-eefd-455a-f9ed-3251193c8833"
      },
      "execution_count": 22,
      "outputs": [
        {
          "output_type": "display_data",
          "data": {
            "text/plain": [
              "   time(A)  time(B)\n",
              "0    435.0    549.2\n",
              "1    454.5    630.2\n",
              "2    447.0    437.2\n",
              "3    480.0    637.2\n",
              "4    561.0    712.4"
            ],
            "text/html": [
              "\n",
              "  <div id=\"df-8ee3ddc0-caff-410d-bbda-01b5b58c28b2\" class=\"colab-df-container\">\n",
              "    <div>\n",
              "<style scoped>\n",
              "    .dataframe tbody tr th:only-of-type {\n",
              "        vertical-align: middle;\n",
              "    }\n",
              "\n",
              "    .dataframe tbody tr th {\n",
              "        vertical-align: top;\n",
              "    }\n",
              "\n",
              "    .dataframe thead th {\n",
              "        text-align: right;\n",
              "    }\n",
              "</style>\n",
              "<table border=\"1\" class=\"dataframe\">\n",
              "  <thead>\n",
              "    <tr style=\"text-align: right;\">\n",
              "      <th></th>\n",
              "      <th>time(A)</th>\n",
              "      <th>time(B)</th>\n",
              "    </tr>\n",
              "  </thead>\n",
              "  <tbody>\n",
              "    <tr>\n",
              "      <th>0</th>\n",
              "      <td>435.0</td>\n",
              "      <td>549.2</td>\n",
              "    </tr>\n",
              "    <tr>\n",
              "      <th>1</th>\n",
              "      <td>454.5</td>\n",
              "      <td>630.2</td>\n",
              "    </tr>\n",
              "    <tr>\n",
              "      <th>2</th>\n",
              "      <td>447.0</td>\n",
              "      <td>437.2</td>\n",
              "    </tr>\n",
              "    <tr>\n",
              "      <th>3</th>\n",
              "      <td>480.0</td>\n",
              "      <td>637.2</td>\n",
              "    </tr>\n",
              "    <tr>\n",
              "      <th>4</th>\n",
              "      <td>561.0</td>\n",
              "      <td>712.4</td>\n",
              "    </tr>\n",
              "  </tbody>\n",
              "</table>\n",
              "</div>\n",
              "    <div class=\"colab-df-buttons\">\n",
              "\n",
              "  <div class=\"colab-df-container\">\n",
              "    <button class=\"colab-df-convert\" onclick=\"convertToInteractive('df-8ee3ddc0-caff-410d-bbda-01b5b58c28b2')\"\n",
              "            title=\"Convert this dataframe to an interactive table.\"\n",
              "            style=\"display:none;\">\n",
              "\n",
              "  <svg xmlns=\"http://www.w3.org/2000/svg\" height=\"24px\" viewBox=\"0 -960 960 960\">\n",
              "    <path d=\"M120-120v-720h720v720H120Zm60-500h600v-160H180v160Zm220 220h160v-160H400v160Zm0 220h160v-160H400v160ZM180-400h160v-160H180v160Zm440 0h160v-160H620v160ZM180-180h160v-160H180v160Zm440 0h160v-160H620v160Z\"/>\n",
              "  </svg>\n",
              "    </button>\n",
              "\n",
              "  <style>\n",
              "    .colab-df-container {\n",
              "      display:flex;\n",
              "      gap: 12px;\n",
              "    }\n",
              "\n",
              "    .colab-df-convert {\n",
              "      background-color: #E8F0FE;\n",
              "      border: none;\n",
              "      border-radius: 50%;\n",
              "      cursor: pointer;\n",
              "      display: none;\n",
              "      fill: #1967D2;\n",
              "      height: 32px;\n",
              "      padding: 0 0 0 0;\n",
              "      width: 32px;\n",
              "    }\n",
              "\n",
              "    .colab-df-convert:hover {\n",
              "      background-color: #E2EBFA;\n",
              "      box-shadow: 0px 1px 2px rgba(60, 64, 67, 0.3), 0px 1px 3px 1px rgba(60, 64, 67, 0.15);\n",
              "      fill: #174EA6;\n",
              "    }\n",
              "\n",
              "    .colab-df-buttons div {\n",
              "      margin-bottom: 4px;\n",
              "    }\n",
              "\n",
              "    [theme=dark] .colab-df-convert {\n",
              "      background-color: #3B4455;\n",
              "      fill: #D2E3FC;\n",
              "    }\n",
              "\n",
              "    [theme=dark] .colab-df-convert:hover {\n",
              "      background-color: #434B5C;\n",
              "      box-shadow: 0px 1px 3px 1px rgba(0, 0, 0, 0.15);\n",
              "      filter: drop-shadow(0px 1px 2px rgba(0, 0, 0, 0.3));\n",
              "      fill: #FFFFFF;\n",
              "    }\n",
              "  </style>\n",
              "\n",
              "    <script>\n",
              "      const buttonEl =\n",
              "        document.querySelector('#df-8ee3ddc0-caff-410d-bbda-01b5b58c28b2 button.colab-df-convert');\n",
              "      buttonEl.style.display =\n",
              "        google.colab.kernel.accessAllowed ? 'block' : 'none';\n",
              "\n",
              "      async function convertToInteractive(key) {\n",
              "        const element = document.querySelector('#df-8ee3ddc0-caff-410d-bbda-01b5b58c28b2');\n",
              "        const dataTable =\n",
              "          await google.colab.kernel.invokeFunction('convertToInteractive',\n",
              "                                                    [key], {});\n",
              "        if (!dataTable) return;\n",
              "\n",
              "        const docLinkHtml = 'Like what you see? Visit the ' +\n",
              "          '<a target=\"_blank\" href=https://colab.research.google.com/notebooks/data_table.ipynb>data table notebook</a>'\n",
              "          + ' to learn more about interactive tables.';\n",
              "        element.innerHTML = '';\n",
              "        dataTable['output_type'] = 'display_data';\n",
              "        await google.colab.output.renderOutput(dataTable, element);\n",
              "        const docLink = document.createElement('div');\n",
              "        docLink.innerHTML = docLinkHtml;\n",
              "        element.appendChild(docLink);\n",
              "      }\n",
              "    </script>\n",
              "  </div>\n",
              "\n",
              "\n",
              "<div id=\"df-e9bcf69e-8d44-44f5-b6f9-f87ea8290dd1\">\n",
              "  <button class=\"colab-df-quickchart\" onclick=\"quickchart('df-e9bcf69e-8d44-44f5-b6f9-f87ea8290dd1')\"\n",
              "            title=\"Suggest charts\"\n",
              "            style=\"display:none;\">\n",
              "\n",
              "<svg xmlns=\"http://www.w3.org/2000/svg\" height=\"24px\"viewBox=\"0 0 24 24\"\n",
              "     width=\"24px\">\n",
              "    <g>\n",
              "        <path d=\"M19 3H5c-1.1 0-2 .9-2 2v14c0 1.1.9 2 2 2h14c1.1 0 2-.9 2-2V5c0-1.1-.9-2-2-2zM9 17H7v-7h2v7zm4 0h-2V7h2v10zm4 0h-2v-4h2v4z\"/>\n",
              "    </g>\n",
              "</svg>\n",
              "  </button>\n",
              "\n",
              "<style>\n",
              "  .colab-df-quickchart {\n",
              "      --bg-color: #E8F0FE;\n",
              "      --fill-color: #1967D2;\n",
              "      --hover-bg-color: #E2EBFA;\n",
              "      --hover-fill-color: #174EA6;\n",
              "      --disabled-fill-color: #AAA;\n",
              "      --disabled-bg-color: #DDD;\n",
              "  }\n",
              "\n",
              "  [theme=dark] .colab-df-quickchart {\n",
              "      --bg-color: #3B4455;\n",
              "      --fill-color: #D2E3FC;\n",
              "      --hover-bg-color: #434B5C;\n",
              "      --hover-fill-color: #FFFFFF;\n",
              "      --disabled-bg-color: #3B4455;\n",
              "      --disabled-fill-color: #666;\n",
              "  }\n",
              "\n",
              "  .colab-df-quickchart {\n",
              "    background-color: var(--bg-color);\n",
              "    border: none;\n",
              "    border-radius: 50%;\n",
              "    cursor: pointer;\n",
              "    display: none;\n",
              "    fill: var(--fill-color);\n",
              "    height: 32px;\n",
              "    padding: 0;\n",
              "    width: 32px;\n",
              "  }\n",
              "\n",
              "  .colab-df-quickchart:hover {\n",
              "    background-color: var(--hover-bg-color);\n",
              "    box-shadow: 0 1px 2px rgba(60, 64, 67, 0.3), 0 1px 3px 1px rgba(60, 64, 67, 0.15);\n",
              "    fill: var(--button-hover-fill-color);\n",
              "  }\n",
              "\n",
              "  .colab-df-quickchart-complete:disabled,\n",
              "  .colab-df-quickchart-complete:disabled:hover {\n",
              "    background-color: var(--disabled-bg-color);\n",
              "    fill: var(--disabled-fill-color);\n",
              "    box-shadow: none;\n",
              "  }\n",
              "\n",
              "  .colab-df-spinner {\n",
              "    border: 2px solid var(--fill-color);\n",
              "    border-color: transparent;\n",
              "    border-bottom-color: var(--fill-color);\n",
              "    animation:\n",
              "      spin 1s steps(1) infinite;\n",
              "  }\n",
              "\n",
              "  @keyframes spin {\n",
              "    0% {\n",
              "      border-color: transparent;\n",
              "      border-bottom-color: var(--fill-color);\n",
              "      border-left-color: var(--fill-color);\n",
              "    }\n",
              "    20% {\n",
              "      border-color: transparent;\n",
              "      border-left-color: var(--fill-color);\n",
              "      border-top-color: var(--fill-color);\n",
              "    }\n",
              "    30% {\n",
              "      border-color: transparent;\n",
              "      border-left-color: var(--fill-color);\n",
              "      border-top-color: var(--fill-color);\n",
              "      border-right-color: var(--fill-color);\n",
              "    }\n",
              "    40% {\n",
              "      border-color: transparent;\n",
              "      border-right-color: var(--fill-color);\n",
              "      border-top-color: var(--fill-color);\n",
              "    }\n",
              "    60% {\n",
              "      border-color: transparent;\n",
              "      border-right-color: var(--fill-color);\n",
              "    }\n",
              "    80% {\n",
              "      border-color: transparent;\n",
              "      border-right-color: var(--fill-color);\n",
              "      border-bottom-color: var(--fill-color);\n",
              "    }\n",
              "    90% {\n",
              "      border-color: transparent;\n",
              "      border-bottom-color: var(--fill-color);\n",
              "    }\n",
              "  }\n",
              "</style>\n",
              "\n",
              "  <script>\n",
              "    async function quickchart(key) {\n",
              "      const quickchartButtonEl =\n",
              "        document.querySelector('#' + key + ' button');\n",
              "      quickchartButtonEl.disabled = true;  // To prevent multiple clicks.\n",
              "      quickchartButtonEl.classList.add('colab-df-spinner');\n",
              "      try {\n",
              "        const charts = await google.colab.kernel.invokeFunction(\n",
              "            'suggestCharts', [key], {});\n",
              "      } catch (error) {\n",
              "        console.error('Error during call to suggestCharts:', error);\n",
              "      }\n",
              "      quickchartButtonEl.classList.remove('colab-df-spinner');\n",
              "      quickchartButtonEl.classList.add('colab-df-quickchart-complete');\n",
              "    }\n",
              "    (() => {\n",
              "      let quickchartButtonEl =\n",
              "        document.querySelector('#df-e9bcf69e-8d44-44f5-b6f9-f87ea8290dd1 button');\n",
              "      quickchartButtonEl.style.display =\n",
              "        google.colab.kernel.accessAllowed ? 'block' : 'none';\n",
              "    })();\n",
              "  </script>\n",
              "</div>\n",
              "    </div>\n",
              "  </div>\n"
            ],
            "application/vnd.google.colaboratory.intrinsic+json": {
              "type": "dataframe",
              "summary": "{\n  \"name\": \"display(time_data\",\n  \"rows\": 5,\n  \"fields\": [\n    {\n      \"column\": \"time(A)\",\n      \"properties\": {\n        \"dtype\": \"number\",\n        \"std\": 50.556898639058154,\n        \"min\": 435.0,\n        \"max\": 561.0,\n        \"num_unique_values\": 5,\n        \"samples\": [\n          454.5,\n          561.0,\n          447.0\n        ],\n        \"semantic_type\": \"\",\n        \"description\": \"\"\n      }\n    },\n    {\n      \"column\": \"time(B)\",\n      \"properties\": {\n        \"dtype\": \"number\",\n        \"std\": 104.6250830346146,\n        \"min\": 437.2,\n        \"max\": 712.4,\n        \"num_unique_values\": 5,\n        \"samples\": [\n          630.2,\n          712.4,\n          437.2\n        ],\n        \"semantic_type\": \"\",\n        \"description\": \"\"\n      }\n    }\n  ]\n}"
            }
          },
          "metadata": {}
        }
      ]
    },
    {
      "cell_type": "markdown",
      "source": [
        "Для начала сравним среднее время в группах на глаз. Рассчитаем среднее и медианное время в каждой группе:"
      ],
      "metadata": {
        "id": "wG5y_MebAVYC"
      }
    },
    {
      "cell_type": "code",
      "source": [
        "time_data[['time(A)', 'time(B)']].agg(['mean', 'median'])"
      ],
      "metadata": {
        "colab": {
          "base_uri": "https://localhost:8080/",
          "height": 112
        },
        "id": "EJ0FEHsJ_DWv",
        "outputId": "401c9a67-06ff-40e8-9e93-cc57c08fade6"
      },
      "execution_count": 23,
      "outputs": [
        {
          "output_type": "execute_result",
          "data": {
            "text/plain": [
              "        time(A)     time(B)\n",
              "mean     492.90  595.406667\n",
              "median   482.25  600.400000"
            ],
            "text/html": [
              "\n",
              "  <div id=\"df-5db65e22-ca72-4c7a-8d80-f822a28f0997\" class=\"colab-df-container\">\n",
              "    <div>\n",
              "<style scoped>\n",
              "    .dataframe tbody tr th:only-of-type {\n",
              "        vertical-align: middle;\n",
              "    }\n",
              "\n",
              "    .dataframe tbody tr th {\n",
              "        vertical-align: top;\n",
              "    }\n",
              "\n",
              "    .dataframe thead th {\n",
              "        text-align: right;\n",
              "    }\n",
              "</style>\n",
              "<table border=\"1\" class=\"dataframe\">\n",
              "  <thead>\n",
              "    <tr style=\"text-align: right;\">\n",
              "      <th></th>\n",
              "      <th>time(A)</th>\n",
              "      <th>time(B)</th>\n",
              "    </tr>\n",
              "  </thead>\n",
              "  <tbody>\n",
              "    <tr>\n",
              "      <th>mean</th>\n",
              "      <td>492.90</td>\n",
              "      <td>595.406667</td>\n",
              "    </tr>\n",
              "    <tr>\n",
              "      <th>median</th>\n",
              "      <td>482.25</td>\n",
              "      <td>600.400000</td>\n",
              "    </tr>\n",
              "  </tbody>\n",
              "</table>\n",
              "</div>\n",
              "    <div class=\"colab-df-buttons\">\n",
              "\n",
              "  <div class=\"colab-df-container\">\n",
              "    <button class=\"colab-df-convert\" onclick=\"convertToInteractive('df-5db65e22-ca72-4c7a-8d80-f822a28f0997')\"\n",
              "            title=\"Convert this dataframe to an interactive table.\"\n",
              "            style=\"display:none;\">\n",
              "\n",
              "  <svg xmlns=\"http://www.w3.org/2000/svg\" height=\"24px\" viewBox=\"0 -960 960 960\">\n",
              "    <path d=\"M120-120v-720h720v720H120Zm60-500h600v-160H180v160Zm220 220h160v-160H400v160Zm0 220h160v-160H400v160ZM180-400h160v-160H180v160Zm440 0h160v-160H620v160ZM180-180h160v-160H180v160Zm440 0h160v-160H620v160Z\"/>\n",
              "  </svg>\n",
              "    </button>\n",
              "\n",
              "  <style>\n",
              "    .colab-df-container {\n",
              "      display:flex;\n",
              "      gap: 12px;\n",
              "    }\n",
              "\n",
              "    .colab-df-convert {\n",
              "      background-color: #E8F0FE;\n",
              "      border: none;\n",
              "      border-radius: 50%;\n",
              "      cursor: pointer;\n",
              "      display: none;\n",
              "      fill: #1967D2;\n",
              "      height: 32px;\n",
              "      padding: 0 0 0 0;\n",
              "      width: 32px;\n",
              "    }\n",
              "\n",
              "    .colab-df-convert:hover {\n",
              "      background-color: #E2EBFA;\n",
              "      box-shadow: 0px 1px 2px rgba(60, 64, 67, 0.3), 0px 1px 3px 1px rgba(60, 64, 67, 0.15);\n",
              "      fill: #174EA6;\n",
              "    }\n",
              "\n",
              "    .colab-df-buttons div {\n",
              "      margin-bottom: 4px;\n",
              "    }\n",
              "\n",
              "    [theme=dark] .colab-df-convert {\n",
              "      background-color: #3B4455;\n",
              "      fill: #D2E3FC;\n",
              "    }\n",
              "\n",
              "    [theme=dark] .colab-df-convert:hover {\n",
              "      background-color: #434B5C;\n",
              "      box-shadow: 0px 1px 3px 1px rgba(0, 0, 0, 0.15);\n",
              "      filter: drop-shadow(0px 1px 2px rgba(0, 0, 0, 0.3));\n",
              "      fill: #FFFFFF;\n",
              "    }\n",
              "  </style>\n",
              "\n",
              "    <script>\n",
              "      const buttonEl =\n",
              "        document.querySelector('#df-5db65e22-ca72-4c7a-8d80-f822a28f0997 button.colab-df-convert');\n",
              "      buttonEl.style.display =\n",
              "        google.colab.kernel.accessAllowed ? 'block' : 'none';\n",
              "\n",
              "      async function convertToInteractive(key) {\n",
              "        const element = document.querySelector('#df-5db65e22-ca72-4c7a-8d80-f822a28f0997');\n",
              "        const dataTable =\n",
              "          await google.colab.kernel.invokeFunction('convertToInteractive',\n",
              "                                                    [key], {});\n",
              "        if (!dataTable) return;\n",
              "\n",
              "        const docLinkHtml = 'Like what you see? Visit the ' +\n",
              "          '<a target=\"_blank\" href=https://colab.research.google.com/notebooks/data_table.ipynb>data table notebook</a>'\n",
              "          + ' to learn more about interactive tables.';\n",
              "        element.innerHTML = '';\n",
              "        dataTable['output_type'] = 'display_data';\n",
              "        await google.colab.output.renderOutput(dataTable, element);\n",
              "        const docLink = document.createElement('div');\n",
              "        docLink.innerHTML = docLinkHtml;\n",
              "        element.appendChild(docLink);\n",
              "      }\n",
              "    </script>\n",
              "  </div>\n",
              "\n",
              "\n",
              "<div id=\"df-35e76876-8d67-4f6d-9e40-588171455d26\">\n",
              "  <button class=\"colab-df-quickchart\" onclick=\"quickchart('df-35e76876-8d67-4f6d-9e40-588171455d26')\"\n",
              "            title=\"Suggest charts\"\n",
              "            style=\"display:none;\">\n",
              "\n",
              "<svg xmlns=\"http://www.w3.org/2000/svg\" height=\"24px\"viewBox=\"0 0 24 24\"\n",
              "     width=\"24px\">\n",
              "    <g>\n",
              "        <path d=\"M19 3H5c-1.1 0-2 .9-2 2v14c0 1.1.9 2 2 2h14c1.1 0 2-.9 2-2V5c0-1.1-.9-2-2-2zM9 17H7v-7h2v7zm4 0h-2V7h2v10zm4 0h-2v-4h2v4z\"/>\n",
              "    </g>\n",
              "</svg>\n",
              "  </button>\n",
              "\n",
              "<style>\n",
              "  .colab-df-quickchart {\n",
              "      --bg-color: #E8F0FE;\n",
              "      --fill-color: #1967D2;\n",
              "      --hover-bg-color: #E2EBFA;\n",
              "      --hover-fill-color: #174EA6;\n",
              "      --disabled-fill-color: #AAA;\n",
              "      --disabled-bg-color: #DDD;\n",
              "  }\n",
              "\n",
              "  [theme=dark] .colab-df-quickchart {\n",
              "      --bg-color: #3B4455;\n",
              "      --fill-color: #D2E3FC;\n",
              "      --hover-bg-color: #434B5C;\n",
              "      --hover-fill-color: #FFFFFF;\n",
              "      --disabled-bg-color: #3B4455;\n",
              "      --disabled-fill-color: #666;\n",
              "  }\n",
              "\n",
              "  .colab-df-quickchart {\n",
              "    background-color: var(--bg-color);\n",
              "    border: none;\n",
              "    border-radius: 50%;\n",
              "    cursor: pointer;\n",
              "    display: none;\n",
              "    fill: var(--fill-color);\n",
              "    height: 32px;\n",
              "    padding: 0;\n",
              "    width: 32px;\n",
              "  }\n",
              "\n",
              "  .colab-df-quickchart:hover {\n",
              "    background-color: var(--hover-bg-color);\n",
              "    box-shadow: 0 1px 2px rgba(60, 64, 67, 0.3), 0 1px 3px 1px rgba(60, 64, 67, 0.15);\n",
              "    fill: var(--button-hover-fill-color);\n",
              "  }\n",
              "\n",
              "  .colab-df-quickchart-complete:disabled,\n",
              "  .colab-df-quickchart-complete:disabled:hover {\n",
              "    background-color: var(--disabled-bg-color);\n",
              "    fill: var(--disabled-fill-color);\n",
              "    box-shadow: none;\n",
              "  }\n",
              "\n",
              "  .colab-df-spinner {\n",
              "    border: 2px solid var(--fill-color);\n",
              "    border-color: transparent;\n",
              "    border-bottom-color: var(--fill-color);\n",
              "    animation:\n",
              "      spin 1s steps(1) infinite;\n",
              "  }\n",
              "\n",
              "  @keyframes spin {\n",
              "    0% {\n",
              "      border-color: transparent;\n",
              "      border-bottom-color: var(--fill-color);\n",
              "      border-left-color: var(--fill-color);\n",
              "    }\n",
              "    20% {\n",
              "      border-color: transparent;\n",
              "      border-left-color: var(--fill-color);\n",
              "      border-top-color: var(--fill-color);\n",
              "    }\n",
              "    30% {\n",
              "      border-color: transparent;\n",
              "      border-left-color: var(--fill-color);\n",
              "      border-top-color: var(--fill-color);\n",
              "      border-right-color: var(--fill-color);\n",
              "    }\n",
              "    40% {\n",
              "      border-color: transparent;\n",
              "      border-right-color: var(--fill-color);\n",
              "      border-top-color: var(--fill-color);\n",
              "    }\n",
              "    60% {\n",
              "      border-color: transparent;\n",
              "      border-right-color: var(--fill-color);\n",
              "    }\n",
              "    80% {\n",
              "      border-color: transparent;\n",
              "      border-right-color: var(--fill-color);\n",
              "      border-bottom-color: var(--fill-color);\n",
              "    }\n",
              "    90% {\n",
              "      border-color: transparent;\n",
              "      border-bottom-color: var(--fill-color);\n",
              "    }\n",
              "  }\n",
              "</style>\n",
              "\n",
              "  <script>\n",
              "    async function quickchart(key) {\n",
              "      const quickchartButtonEl =\n",
              "        document.querySelector('#' + key + ' button');\n",
              "      quickchartButtonEl.disabled = true;  // To prevent multiple clicks.\n",
              "      quickchartButtonEl.classList.add('colab-df-spinner');\n",
              "      try {\n",
              "        const charts = await google.colab.kernel.invokeFunction(\n",
              "            'suggestCharts', [key], {});\n",
              "      } catch (error) {\n",
              "        console.error('Error during call to suggestCharts:', error);\n",
              "      }\n",
              "      quickchartButtonEl.classList.remove('colab-df-spinner');\n",
              "      quickchartButtonEl.classList.add('colab-df-quickchart-complete');\n",
              "    }\n",
              "    (() => {\n",
              "      let quickchartButtonEl =\n",
              "        document.querySelector('#df-35e76876-8d67-4f6d-9e40-588171455d26 button');\n",
              "      quickchartButtonEl.style.display =\n",
              "        google.colab.kernel.accessAllowed ? 'block' : 'none';\n",
              "    })();\n",
              "  </script>\n",
              "</div>\n",
              "    </div>\n",
              "  </div>\n"
            ],
            "application/vnd.google.colaboratory.intrinsic+json": {
              "type": "dataframe",
              "summary": "{\n  \"name\": \"time_data[['time(A)', 'time(B)']]\",\n  \"rows\": 2,\n  \"fields\": [\n    {\n      \"column\": \"time(A)\",\n      \"properties\": {\n        \"dtype\": \"number\",\n        \"std\": 7.530687219636715,\n        \"min\": 482.25,\n        \"max\": 492.9,\n        \"num_unique_values\": 2,\n        \"samples\": [\n          482.25,\n          492.9\n        ],\n        \"semantic_type\": \"\",\n        \"description\": \"\"\n      }\n    },\n    {\n      \"column\": \"time(B)\",\n      \"properties\": {\n        \"dtype\": \"number\",\n        \"std\": 3.5308198607248316,\n        \"min\": 595.4066666666666,\n        \"max\": 600.4,\n        \"num_unique_values\": 2,\n        \"samples\": [\n          600.4,\n          595.4066666666666\n        ],\n        \"semantic_type\": \"\",\n        \"description\": \"\"\n      }\n    }\n  ]\n}"
            }
          },
          "metadata": {},
          "execution_count": 23
        }
      ]
    },
    {
      "cell_type": "markdown",
      "source": [
        "По предварительным подсчётам, среднее время, проводимое на сайте, в группе B выше, чем в группе A. Однако делать выводы ещё рано — необходимо определить статистическую значимость полученных результатов."
      ],
      "metadata": {
        "id": "C3cNEe4sAdPb"
      }
    },
    {
      "cell_type": "markdown",
      "source": [
        "Затем построим гистограмму времени, которое провели на сайте пользователи в каждой из групп:"
      ],
      "metadata": {
        "id": "nxgzb5poAfZ7"
      }
    },
    {
      "cell_type": "code",
      "source": [
        "# создаём два графика размером 12x4\n",
        "fig, axes = plt.subplots(1, 2, figsize=(12, 4))\n",
        "# строим гистограмму для времени на сайте в каждой группе\n",
        "sns.histplot(x='time(A)', data=time_data, ax=axes[0])\n",
        "sns.histplot(x='time(B)', data=time_data, ax=axes[1])\n",
        "# задаём названия графикам\n",
        "axes[0].set_title('Распределение времени на сайте в группе А');\n",
        "axes[1].set_title('Распределение времени на сайте в группе B');"
      ],
      "metadata": {
        "colab": {
          "base_uri": "https://localhost:8080/",
          "height": 410
        },
        "id": "H-z9QWQPAhU8",
        "outputId": "b12ab784-cd5a-4733-8b3b-a9bed9c00607"
      },
      "execution_count": 24,
      "outputs": [
        {
          "output_type": "display_data",
          "data": {
            "text/plain": [
              "<Figure size 1200x400 with 2 Axes>"
            ],
            "image/png": "[encoded data removed]"
          },
          "metadata": {}
        }
      ]
    },
    {
      "cell_type": "markdown",
      "source": [
        "Гистограммы напоминают нормальное распределение. Давайте проверим гипотезу о нормальности обоих распределений с помощью критерия Шапиро — Уилка. Для этого используем функцию shapiro() из модуля scipy.stats:"
      ],
      "metadata": {
        "id": "PrG25CKeBVpE"
      }
    },
    {
      "cell_type": "code",
      "source": [
        "from scipy.stats import shapiro"
      ],
      "metadata": {
        "id": "WOyfHboYBXND"
      },
      "execution_count": 25,
      "outputs": []
    },
    {
      "cell_type": "markdown",
      "source": [
        "Зададим уровень значимости  и проверим гипотезу о нормальности каждого из распределений (нулевая гипотеза — распределение нормальное, альтернативная — распределение отлично от нормального):"
      ],
      "metadata": {
        "id": "8HwsPyHPBaUT"
      }
    },
    {
      "cell_type": "code",
      "source": [
        "alpha = 0.05 # уровень значимости\n",
        "# вычисляем результат теста Шапиро — Уилка для выборок\n",
        "shapiro_result_a = shapiro(time_data['time(A)'])\n",
        "shapiro_result_b = shapiro(time_data['time(B)'])\n",
        "print('p-value группы А', round(shapiro_result_a.pvalue, 2))\n",
        "print('p-value группы B', round(shapiro_result_b.pvalue, 2))\n",
        "\n",
        "# сравниваем полученное p-value для группы А с уровнем значимости\n",
        "if shapiro_result_a.pvalue <= alpha:\n",
        "    print(\"Отвергаем нулевую гипотезу в пользу альтернативной. Распределение в группе А отлично от нормального\")\n",
        "else:\n",
        "    print(\"Принимаем нулевую гипотезу. Распределение в группе А является нормальным\")\n",
        "\n",
        "# сравниваем полученное p-value для группы B с уровнем значимости\n",
        "if shapiro_result_b.pvalue <= alpha:\n",
        "    print(\"Отвергаем нулевую гипотезу в пользу альтернативной. Распределение в группе B отлично от нормального\")\n",
        "else:\n",
        "    print(\"Принимаем нулевую гипотезу. Распределение в группе B является нормальным\")\n",
        "\n",
        "# p-value группы А 0.43\n",
        "# p-value группы B 0.12\n",
        "# Принимаем нулевую гипотезу. Распределение в группе А является нормальным\n",
        "# Принимаем нулевую гипотезу. Распределение в группе B является нормальным"
      ],
      "metadata": {
        "colab": {
          "base_uri": "https://localhost:8080/"
        },
        "id": "CkqRKdtfBd-0",
        "outputId": "e492e9a3-4618-4f06-8737-7932f0b78f5a"
      },
      "execution_count": 26,
      "outputs": [
        {
          "output_type": "stream",
          "name": "stdout",
          "text": [
            "p-value группы А 0.43\n",
            "p-value группы B 0.12\n",
            "Принимаем нулевую гипотезу. Распределение в группе А является нормальным\n",
            "Принимаем нулевую гипотезу. Распределение в группе B является нормальным\n"
          ]
        }
      ]
    },
    {
      "cell_type": "markdown",
      "source": [
        "Итак, распределение в обеих группах нормальное, а значит, мы можем воспользоваться T-тестом, чтобы сравнить среднее время посещения сайта в группах."
      ],
      "metadata": {
        "id": "H43Vq7ArCknF"
      }
    },
    {
      "cell_type": "markdown",
      "source": [
        "Напомним формулировки статистических гипотез для T-теста:\n",
        "\n",
        "Нулевая гипотеза (об отсутствии эффекта): среднее время, которое проводят на сайте пользователи из группы А, равно среднему времени, которое проводят на сайте пользователи из группы B:\n",
        "\n",
        "\n",
        "Альтернативная гипотеза (о наличии эффекта): среднее время, которое проводят на сайте пользователи из группы А, отличается от среднего времени, которое проводят на сайте пользователи из группы B:\n"
      ],
      "metadata": {
        "id": "y-27hmUWCnv9"
      }
    },
    {
      "cell_type": "markdown",
      "source": [
        "Примечание. Ещё раз обратите внимание на то, что именно альтернативная гипотеза отвечает на бизнес-вопрос «Увеличилось ли время, которое пользователь проводит на сайте, после внедрения варианта B?»."
      ],
      "metadata": {
        "id": "LM5g9SV6Cxi4"
      }
    },
    {
      "cell_type": "markdown",
      "source": [
        "Применим двухвыборочный T-тест для сравнения средних — функцию ttest_ind() из модуля scipy.stats."
      ],
      "metadata": {
        "id": "IWbcV7TvC2zo"
      }
    },
    {
      "cell_type": "code",
      "source": [
        "from scipy.stats import ttest_ind"
      ],
      "metadata": {
        "id": "TNXC3XYDC49I"
      },
      "execution_count": 27,
      "outputs": []
    },
    {
      "cell_type": "markdown",
      "source": [
        "Функция принимает на вход следующие параметры:\n",
        "\n",
        "a и b — выборки, соответствующие каждой из групп.\n",
        "alternative — вид альтернативной гипотезы (‘two-sided’ — двусторонняя, 'less' — левосторонняя, 'greater’ — правосторонняя). По умолчанию используется двусторонняя гипотеза."
      ],
      "metadata": {
        "id": "vj_aBKegDRS7"
      }
    },
    {
      "cell_type": "code",
      "source": [
        "alpha = 0.05 #уровень значимости\n",
        "# вычисляем результат T-теста для выборок\n",
        "results = ttest_ind(\n",
        "    a=time_data['time(A)'],\n",
        "    b=time_data['time(B)'],\n",
        "    alternative='two-sided'\n",
        ")\n",
        "print('p-value:', round(results.pvalue, 2))\n",
        "\n",
        "# сравниваем полученное p-value с уровнем значимости\n",
        "if results.pvalue <= alpha:\n",
        "    print(\"Отвергаем нулевую гипотезу в пользу альтернативной\")\n",
        "else:\n",
        "    print(\"У нас нет оснований отвергнуть нулевую гипотезу\")\n",
        "\n",
        "# p-value: 0.0\n",
        "# Отвергаем нулевую гипотезу в пользу альтернативной"
      ],
      "metadata": {
        "colab": {
          "base_uri": "https://localhost:8080/"
        },
        "id": "rEK-DVnBDTU8",
        "outputId": "08ac194b-aabd-4ecb-be97-47a8a548564f"
      },
      "execution_count": 28,
      "outputs": [
        {
          "output_type": "stream",
          "name": "stdout",
          "text": [
            "p-value: 0.0\n",
            "Отвергаем нулевую гипотезу в пользу альтернативной\n"
          ]
        }
      ]
    },
    {
      "cell_type": "markdown",
      "source": [
        "Итак, в результате проведения T-теста мы получили p-value = 0, что меньше, чем уровень значимости . Это значит, что мы отвергаем нулевую гипотезу в пользу альтернативной."
      ],
      "metadata": {
        "id": "BZnRNbiQD3N4"
      }
    },
    {
      "cell_type": "markdown",
      "source": [
        "Что это значит для нас и для бизнеса?\n",
        "\n",
        "Так как истинные значения конверсий в группах не равны (с уровнем значимости 0.05), то для нас это значит, что альтернативная гипотеза подтверждается статистически.\n",
        "\n",
        "Переводим на язык бизнеса: существует разница между вариантами дизайна сайта по метрике времени, которое пользователь проводит на сайте. На основе данных мы видим, что тёмная тема более привлекательна для посетителей, чем светлая."
      ],
      "metadata": {
        "id": "9AwLkU7pD-nZ"
      }
    },
    {
      "cell_type": "markdown",
      "source": [
        "Обратите внимание: так как при двусторонней гипотезе p-value = 0, не нужно проверять одностороннюю гипотезу о том, что среднее время, которое проводят на сайте пользователи из группы A, меньше, чем среднее время для пользователей из группы B. Мы можем сделать итоговый вывод об этом только на основе данных, ведь мы доказали статистическую значимость разницы в метриках. Однако при желании вы можете проверить одностороннюю гипотезу самостоятельно — для этого в функции установите параметр alternative='less'."
      ],
      "metadata": {
        "id": "cgKjfFelEDfa"
      }
    },
    {
      "cell_type": "markdown",
      "source": [
        "# НЕПАРАМЕТРИЧЕСКИЕ ТЕСТЫ"
      ],
      "metadata": {
        "id": "fhMWcAm6EFNq"
      }
    },
    {
      "cell_type": "markdown",
      "source": [
        "Давайте рассмотрим ещё один пример."
      ],
      "metadata": {
        "id": "N7_lSDeZEIdy"
      }
    },
    {
      "cell_type": "markdown",
      "source": [
        "Мы проводим A/B-тест, чтобы оценить, влияет ли наличие рекомендательной системы сопутствующих товаров на средний чек покупки. Гипотеза заключается в том, что рекомендательная система мотивирует пользователей, помимо основных товаров, добавлять в покупку сопутствующие, тем самым повышая средний чек. Уровень значимости равен 0.05.\n",
        "\n",
        "Результаты тестирования представлены в этом файле."
      ],
      "metadata": {
        "id": "bEhoMOslEKjc"
      }
    },
    {
      "cell_type": "code",
      "source": [
        "check_data = pd.read_excel('/content/drive/MyDrive/Data/asset-check_data.xlsx')\n",
        "check_data.head()"
      ],
      "metadata": {
        "colab": {
          "base_uri": "https://localhost:8080/",
          "height": 206
        },
        "id": "GUgyR23EEstv",
        "outputId": "35d13398-ee3d-41ab-9b20-d982ed84b254"
      },
      "execution_count": 29,
      "outputs": [
        {
          "output_type": "execute_result",
          "data": {
            "text/plain": [
              "        date   mean_check_a   mean_check_b\n",
              "0 2020-11-06   68701.239649   88665.123322\n",
              "1 2020-11-07   26136.309375   46230.394893\n",
              "2 2020-11-08  119470.770656  139356.451490\n",
              "3 2020-11-09   71110.880188   90867.073191\n",
              "4 2020-11-10   85896.024022  105977.473589"
            ],
            "text/html": [
              "\n",
              "  <div id=\"df-f41c3081-042f-4ff5-ad9a-9878894316c1\" class=\"colab-df-container\">\n",
              "    <div>\n",
              "<style scoped>\n",
              "    .dataframe tbody tr th:only-of-type {\n",
              "        vertical-align: middle;\n",
              "    }\n",
              "\n",
              "    .dataframe tbody tr th {\n",
              "        vertical-align: top;\n",
              "    }\n",
              "\n",
              "    .dataframe thead th {\n",
              "        text-align: right;\n",
              "    }\n",
              "</style>\n",
              "<table border=\"1\" class=\"dataframe\">\n",
              "  <thead>\n",
              "    <tr style=\"text-align: right;\">\n",
              "      <th></th>\n",
              "      <th>date</th>\n",
              "      <th>mean_check_a</th>\n",
              "      <th>mean_check_b</th>\n",
              "    </tr>\n",
              "  </thead>\n",
              "  <tbody>\n",
              "    <tr>\n",
              "      <th>0</th>\n",
              "      <td>2020-11-06</td>\n",
              "      <td>68701.239649</td>\n",
              "      <td>88665.123322</td>\n",
              "    </tr>\n",
              "    <tr>\n",
              "      <th>1</th>\n",
              "      <td>2020-11-07</td>\n",
              "      <td>26136.309375</td>\n",
              "      <td>46230.394893</td>\n",
              "    </tr>\n",
              "    <tr>\n",
              "      <th>2</th>\n",
              "      <td>2020-11-08</td>\n",
              "      <td>119470.770656</td>\n",
              "      <td>139356.451490</td>\n",
              "    </tr>\n",
              "    <tr>\n",
              "      <th>3</th>\n",
              "      <td>2020-11-09</td>\n",
              "      <td>71110.880188</td>\n",
              "      <td>90867.073191</td>\n",
              "    </tr>\n",
              "    <tr>\n",
              "      <th>4</th>\n",
              "      <td>2020-11-10</td>\n",
              "      <td>85896.024022</td>\n",
              "      <td>105977.473589</td>\n",
              "    </tr>\n",
              "  </tbody>\n",
              "</table>\n",
              "</div>\n",
              "    <div class=\"colab-df-buttons\">\n",
              "\n",
              "  <div class=\"colab-df-container\">\n",
              "    <button class=\"colab-df-convert\" onclick=\"convertToInteractive('df-f41c3081-042f-4ff5-ad9a-9878894316c1')\"\n",
              "            title=\"Convert this dataframe to an interactive table.\"\n",
              "            style=\"display:none;\">\n",
              "\n",
              "  <svg xmlns=\"http://www.w3.org/2000/svg\" height=\"24px\" viewBox=\"0 -960 960 960\">\n",
              "    <path d=\"M120-120v-720h720v720H120Zm60-500h600v-160H180v160Zm220 220h160v-160H400v160Zm0 220h160v-160H400v160ZM180-400h160v-160H180v160Zm440 0h160v-160H620v160ZM180-180h160v-160H180v160Zm440 0h160v-160H620v160Z\"/>\n",
              "  </svg>\n",
              "    </button>\n",
              "\n",
              "  <style>\n",
              "    .colab-df-container {\n",
              "      display:flex;\n",
              "      gap: 12px;\n",
              "    }\n",
              "\n",
              "    .colab-df-convert {\n",
              "      background-color: #E8F0FE;\n",
              "      border: none;\n",
              "      border-radius: 50%;\n",
              "      cursor: pointer;\n",
              "      display: none;\n",
              "      fill: #1967D2;\n",
              "      height: 32px;\n",
              "      padding: 0 0 0 0;\n",
              "      width: 32px;\n",
              "    }\n",
              "\n",
              "    .colab-df-convert:hover {\n",
              "      background-color: #E2EBFA;\n",
              "      box-shadow: 0px 1px 2px rgba(60, 64, 67, 0.3), 0px 1px 3px 1px rgba(60, 64, 67, 0.15);\n",
              "      fill: #174EA6;\n",
              "    }\n",
              "\n",
              "    .colab-df-buttons div {\n",
              "      margin-bottom: 4px;\n",
              "    }\n",
              "\n",
              "    [theme=dark] .colab-df-convert {\n",
              "      background-color: #3B4455;\n",
              "      fill: #D2E3FC;\n",
              "    }\n",
              "\n",
              "    [theme=dark] .colab-df-convert:hover {\n",
              "      background-color: #434B5C;\n",
              "      box-shadow: 0px 1px 3px 1px rgba(0, 0, 0, 0.15);\n",
              "      filter: drop-shadow(0px 1px 2px rgba(0, 0, 0, 0.3));\n",
              "      fill: #FFFFFF;\n",
              "    }\n",
              "  </style>\n",
              "\n",
              "    <script>\n",
              "      const buttonEl =\n",
              "        document.querySelector('#df-f41c3081-042f-4ff5-ad9a-9878894316c1 button.colab-df-convert');\n",
              "      buttonEl.style.display =\n",
              "        google.colab.kernel.accessAllowed ? 'block' : 'none';\n",
              "\n",
              "      async function convertToInteractive(key) {\n",
              "        const element = document.querySelector('#df-f41c3081-042f-4ff5-ad9a-9878894316c1');\n",
              "        const dataTable =\n",
              "          await google.colab.kernel.invokeFunction('convertToInteractive',\n",
              "                                                    [key], {});\n",
              "        if (!dataTable) return;\n",
              "\n",
              "        const docLinkHtml = 'Like what you see? Visit the ' +\n",
              "          '<a target=\"_blank\" href=https://colab.research.google.com/notebooks/data_table.ipynb>data table notebook</a>'\n",
              "          + ' to learn more about interactive tables.';\n",
              "        element.innerHTML = '';\n",
              "        dataTable['output_type'] = 'display_data';\n",
              "        await google.colab.output.renderOutput(dataTable, element);\n",
              "        const docLink = document.createElement('div');\n",
              "        docLink.innerHTML = docLinkHtml;\n",
              "        element.appendChild(docLink);\n",
              "      }\n",
              "    </script>\n",
              "  </div>\n",
              "\n",
              "\n",
              "<div id=\"df-abcde8b9-db5f-4814-a85c-65b4c5a331c8\">\n",
              "  <button class=\"colab-df-quickchart\" onclick=\"quickchart('df-abcde8b9-db5f-4814-a85c-65b4c5a331c8')\"\n",
              "            title=\"Suggest charts\"\n",
              "            style=\"display:none;\">\n",
              "\n",
              "<svg xmlns=\"http://www.w3.org/2000/svg\" height=\"24px\"viewBox=\"0 0 24 24\"\n",
              "     width=\"24px\">\n",
              "    <g>\n",
              "        <path d=\"M19 3H5c-1.1 0-2 .9-2 2v14c0 1.1.9 2 2 2h14c1.1 0 2-.9 2-2V5c0-1.1-.9-2-2-2zM9 17H7v-7h2v7zm4 0h-2V7h2v10zm4 0h-2v-4h2v4z\"/>\n",
              "    </g>\n",
              "</svg>\n",
              "  </button>\n",
              "\n",
              "<style>\n",
              "  .colab-df-quickchart {\n",
              "      --bg-color: #E8F0FE;\n",
              "      --fill-color: #1967D2;\n",
              "      --hover-bg-color: #E2EBFA;\n",
              "      --hover-fill-color: #174EA6;\n",
              "      --disabled-fill-color: #AAA;\n",
              "      --disabled-bg-color: #DDD;\n",
              "  }\n",
              "\n",
              "  [theme=dark] .colab-df-quickchart {\n",
              "      --bg-color: #3B4455;\n",
              "      --fill-color: #D2E3FC;\n",
              "      --hover-bg-color: #434B5C;\n",
              "      --hover-fill-color: #FFFFFF;\n",
              "      --disabled-bg-color: #3B4455;\n",
              "      --disabled-fill-color: #666;\n",
              "  }\n",
              "\n",
              "  .colab-df-quickchart {\n",
              "    background-color: var(--bg-color);\n",
              "    border: none;\n",
              "    border-radius: 50%;\n",
              "    cursor: pointer;\n",
              "    display: none;\n",
              "    fill: var(--fill-color);\n",
              "    height: 32px;\n",
              "    padding: 0;\n",
              "    width: 32px;\n",
              "  }\n",
              "\n",
              "  .colab-df-quickchart:hover {\n",
              "    background-color: var(--hover-bg-color);\n",
              "    box-shadow: 0 1px 2px rgba(60, 64, 67, 0.3), 0 1px 3px 1px rgba(60, 64, 67, 0.15);\n",
              "    fill: var(--button-hover-fill-color);\n",
              "  }\n",
              "\n",
              "  .colab-df-quickchart-complete:disabled,\n",
              "  .colab-df-quickchart-complete:disabled:hover {\n",
              "    background-color: var(--disabled-bg-color);\n",
              "    fill: var(--disabled-fill-color);\n",
              "    box-shadow: none;\n",
              "  }\n",
              "\n",
              "  .colab-df-spinner {\n",
              "    border: 2px solid var(--fill-color);\n",
              "    border-color: transparent;\n",
              "    border-bottom-color: var(--fill-color);\n",
              "    animation:\n",
              "      spin 1s steps(1) infinite;\n",
              "  }\n",
              "\n",
              "  @keyframes spin {\n",
              "    0% {\n",
              "      border-color: transparent;\n",
              "      border-bottom-color: var(--fill-color);\n",
              "      border-left-color: var(--fill-color);\n",
              "    }\n",
              "    20% {\n",
              "      border-color: transparent;\n",
              "      border-left-color: var(--fill-color);\n",
              "      border-top-color: var(--fill-color);\n",
              "    }\n",
              "    30% {\n",
              "      border-color: transparent;\n",
              "      border-left-color: var(--fill-color);\n",
              "      border-top-color: var(--fill-color);\n",
              "      border-right-color: var(--fill-color);\n",
              "    }\n",
              "    40% {\n",
              "      border-color: transparent;\n",
              "      border-right-color: var(--fill-color);\n",
              "      border-top-color: var(--fill-color);\n",
              "    }\n",
              "    60% {\n",
              "      border-color: transparent;\n",
              "      border-right-color: var(--fill-color);\n",
              "    }\n",
              "    80% {\n",
              "      border-color: transparent;\n",
              "      border-right-color: var(--fill-color);\n",
              "      border-bottom-color: var(--fill-color);\n",
              "    }\n",
              "    90% {\n",
              "      border-color: transparent;\n",
              "      border-bottom-color: var(--fill-color);\n",
              "    }\n",
              "  }\n",
              "</style>\n",
              "\n",
              "  <script>\n",
              "    async function quickchart(key) {\n",
              "      const quickchartButtonEl =\n",
              "        document.querySelector('#' + key + ' button');\n",
              "      quickchartButtonEl.disabled = true;  // To prevent multiple clicks.\n",
              "      quickchartButtonEl.classList.add('colab-df-spinner');\n",
              "      try {\n",
              "        const charts = await google.colab.kernel.invokeFunction(\n",
              "            'suggestCharts', [key], {});\n",
              "      } catch (error) {\n",
              "        console.error('Error during call to suggestCharts:', error);\n",
              "      }\n",
              "      quickchartButtonEl.classList.remove('colab-df-spinner');\n",
              "      quickchartButtonEl.classList.add('colab-df-quickchart-complete');\n",
              "    }\n",
              "    (() => {\n",
              "      let quickchartButtonEl =\n",
              "        document.querySelector('#df-abcde8b9-db5f-4814-a85c-65b4c5a331c8 button');\n",
              "      quickchartButtonEl.style.display =\n",
              "        google.colab.kernel.accessAllowed ? 'block' : 'none';\n",
              "    })();\n",
              "  </script>\n",
              "</div>\n",
              "    </div>\n",
              "  </div>\n"
            ],
            "application/vnd.google.colaboratory.intrinsic+json": {
              "type": "dataframe",
              "variable_name": "check_data",
              "summary": "{\n  \"name\": \"check_data\",\n  \"rows\": 18,\n  \"fields\": [\n    {\n      \"column\": \"date\",\n      \"properties\": {\n        \"dtype\": \"date\",\n        \"min\": \"2020-11-06 00:00:00\",\n        \"max\": \"2020-11-23 00:00:00\",\n        \"num_unique_values\": 18,\n        \"samples\": [\n          \"2020-11-06 00:00:00\",\n          \"2020-11-07 00:00:00\",\n          \"2020-11-14 00:00:00\"\n        ],\n        \"semantic_type\": \"\",\n        \"description\": \"\"\n      }\n    },\n    {\n      \"column\": \"mean_check_a\",\n      \"properties\": {\n        \"dtype\": \"number\",\n        \"std\": 39637.136899297475,\n        \"min\": 26136.30937492366,\n        \"max\": 179970.0767018066,\n        \"num_unique_values\": 18,\n        \"samples\": [\n          68701.23964916186,\n          26136.30937492366,\n          85117.07704990626\n        ],\n        \"semantic_type\": \"\",\n        \"description\": \"\"\n      }\n    },\n    {\n      \"column\": \"mean_check_b\",\n      \"properties\": {\n        \"dtype\": \"number\",\n        \"std\": 39639.10840549519,\n        \"min\": 46230.39489322861,\n        \"max\": 199973.0927648344,\n        \"num_unique_values\": 18,\n        \"samples\": [\n          88665.12332157104,\n          46230.39489322861,\n          105027.0520815838\n        ],\n        \"semantic_type\": \"\",\n        \"description\": \"\"\n      }\n    }\n  ]\n}"
            }
          },
          "metadata": {},
          "execution_count": 29
        }
      ]
    },
    {
      "cell_type": "markdown",
      "source": [
        "В данных содержится информация о значениях ежедневного среднего чека в группах A и B. Период проведения A/B-тестирования — 18 дней.\n",
        "\n",
        "Сначала сравним среднее время в группах на глаз. Рассчитаем среднее и медианное время в каждой группе:"
      ],
      "metadata": {
        "id": "bhaVnU8PE0PZ"
      }
    },
    {
      "cell_type": "code",
      "source": [
        "check_data[['mean_check_a', 'mean_check_b']].agg(['mean', 'median'])"
      ],
      "metadata": {
        "colab": {
          "base_uri": "https://localhost:8080/",
          "height": 112
        },
        "id": "Aijsnl16E6bK",
        "outputId": "ef90520b-fc0e-404a-bbfa-1c34cfce97c6"
      },
      "execution_count": 30,
      "outputs": [
        {
          "output_type": "execute_result",
          "data": {
            "text/plain": [
              "        mean_check_a  mean_check_b\n",
              "mean    76684.763071  96658.897304\n",
              "median  62883.707793  82854.201467"
            ],
            "text/html": [
              "\n",
              "  <div id=\"df-b778972d-e008-4e14-8320-2757c831b25f\" class=\"colab-df-container\">\n",
              "    <div>\n",
              "<style scoped>\n",
              "    .dataframe tbody tr th:only-of-type {\n",
              "        vertical-align: middle;\n",
              "    }\n",
              "\n",
              "    .dataframe tbody tr th {\n",
              "        vertical-align: top;\n",
              "    }\n",
              "\n",
              "    .dataframe thead th {\n",
              "        text-align: right;\n",
              "    }\n",
              "</style>\n",
              "<table border=\"1\" class=\"dataframe\">\n",
              "  <thead>\n",
              "    <tr style=\"text-align: right;\">\n",
              "      <th></th>\n",
              "      <th>mean_check_a</th>\n",
              "      <th>mean_check_b</th>\n",
              "    </tr>\n",
              "  </thead>\n",
              "  <tbody>\n",
              "    <tr>\n",
              "      <th>mean</th>\n",
              "      <td>76684.763071</td>\n",
              "      <td>96658.897304</td>\n",
              "    </tr>\n",
              "    <tr>\n",
              "      <th>median</th>\n",
              "      <td>62883.707793</td>\n",
              "      <td>82854.201467</td>\n",
              "    </tr>\n",
              "  </tbody>\n",
              "</table>\n",
              "</div>\n",
              "    <div class=\"colab-df-buttons\">\n",
              "\n",
              "  <div class=\"colab-df-container\">\n",
              "    <button class=\"colab-df-convert\" onclick=\"convertToInteractive('df-b778972d-e008-4e14-8320-2757c831b25f')\"\n",
              "            title=\"Convert this dataframe to an interactive table.\"\n",
              "            style=\"display:none;\">\n",
              "\n",
              "  <svg xmlns=\"http://www.w3.org/2000/svg\" height=\"24px\" viewBox=\"0 -960 960 960\">\n",
              "    <path d=\"M120-120v-720h720v720H120Zm60-500h600v-160H180v160Zm220 220h160v-160H400v160Zm0 220h160v-160H400v160ZM180-400h160v-160H180v160Zm440 0h160v-160H620v160ZM180-180h160v-160H180v160Zm440 0h160v-160H620v160Z\"/>\n",
              "  </svg>\n",
              "    </button>\n",
              "\n",
              "  <style>\n",
              "    .colab-df-container {\n",
              "      display:flex;\n",
              "      gap: 12px;\n",
              "    }\n",
              "\n",
              "    .colab-df-convert {\n",
              "      background-color: #E8F0FE;\n",
              "      border: none;\n",
              "      border-radius: 50%;\n",
              "      cursor: pointer;\n",
              "      display: none;\n",
              "      fill: #1967D2;\n",
              "      height: 32px;\n",
              "      padding: 0 0 0 0;\n",
              "      width: 32px;\n",
              "    }\n",
              "\n",
              "    .colab-df-convert:hover {\n",
              "      background-color: #E2EBFA;\n",
              "      box-shadow: 0px 1px 2px rgba(60, 64, 67, 0.3), 0px 1px 3px 1px rgba(60, 64, 67, 0.15);\n",
              "      fill: #174EA6;\n",
              "    }\n",
              "\n",
              "    .colab-df-buttons div {\n",
              "      margin-bottom: 4px;\n",
              "    }\n",
              "\n",
              "    [theme=dark] .colab-df-convert {\n",
              "      background-color: #3B4455;\n",
              "      fill: #D2E3FC;\n",
              "    }\n",
              "\n",
              "    [theme=dark] .colab-df-convert:hover {\n",
              "      background-color: #434B5C;\n",
              "      box-shadow: 0px 1px 3px 1px rgba(0, 0, 0, 0.15);\n",
              "      filter: drop-shadow(0px 1px 2px rgba(0, 0, 0, 0.3));\n",
              "      fill: #FFFFFF;\n",
              "    }\n",
              "  </style>\n",
              "\n",
              "    <script>\n",
              "      const buttonEl =\n",
              "        document.querySelector('#df-b778972d-e008-4e14-8320-2757c831b25f button.colab-df-convert');\n",
              "      buttonEl.style.display =\n",
              "        google.colab.kernel.accessAllowed ? 'block' : 'none';\n",
              "\n",
              "      async function convertToInteractive(key) {\n",
              "        const element = document.querySelector('#df-b778972d-e008-4e14-8320-2757c831b25f');\n",
              "        const dataTable =\n",
              "          await google.colab.kernel.invokeFunction('convertToInteractive',\n",
              "                                                    [key], {});\n",
              "        if (!dataTable) return;\n",
              "\n",
              "        const docLinkHtml = 'Like what you see? Visit the ' +\n",
              "          '<a target=\"_blank\" href=https://colab.research.google.com/notebooks/data_table.ipynb>data table notebook</a>'\n",
              "          + ' to learn more about interactive tables.';\n",
              "        element.innerHTML = '';\n",
              "        dataTable['output_type'] = 'display_data';\n",
              "        await google.colab.output.renderOutput(dataTable, element);\n",
              "        const docLink = document.createElement('div');\n",
              "        docLink.innerHTML = docLinkHtml;\n",
              "        element.appendChild(docLink);\n",
              "      }\n",
              "    </script>\n",
              "  </div>\n",
              "\n",
              "\n",
              "<div id=\"df-08ba583a-3f35-4ca0-ab37-a0438a4e1986\">\n",
              "  <button class=\"colab-df-quickchart\" onclick=\"quickchart('df-08ba583a-3f35-4ca0-ab37-a0438a4e1986')\"\n",
              "            title=\"Suggest charts\"\n",
              "            style=\"display:none;\">\n",
              "\n",
              "<svg xmlns=\"http://www.w3.org/2000/svg\" height=\"24px\"viewBox=\"0 0 24 24\"\n",
              "     width=\"24px\">\n",
              "    <g>\n",
              "        <path d=\"M19 3H5c-1.1 0-2 .9-2 2v14c0 1.1.9 2 2 2h14c1.1 0 2-.9 2-2V5c0-1.1-.9-2-2-2zM9 17H7v-7h2v7zm4 0h-2V7h2v10zm4 0h-2v-4h2v4z\"/>\n",
              "    </g>\n",
              "</svg>\n",
              "  </button>\n",
              "\n",
              "<style>\n",
              "  .colab-df-quickchart {\n",
              "      --bg-color: #E8F0FE;\n",
              "      --fill-color: #1967D2;\n",
              "      --hover-bg-color: #E2EBFA;\n",
              "      --hover-fill-color: #174EA6;\n",
              "      --disabled-fill-color: #AAA;\n",
              "      --disabled-bg-color: #DDD;\n",
              "  }\n",
              "\n",
              "  [theme=dark] .colab-df-quickchart {\n",
              "      --bg-color: #3B4455;\n",
              "      --fill-color: #D2E3FC;\n",
              "      --hover-bg-color: #434B5C;\n",
              "      --hover-fill-color: #FFFFFF;\n",
              "      --disabled-bg-color: #3B4455;\n",
              "      --disabled-fill-color: #666;\n",
              "  }\n",
              "\n",
              "  .colab-df-quickchart {\n",
              "    background-color: var(--bg-color);\n",
              "    border: none;\n",
              "    border-radius: 50%;\n",
              "    cursor: pointer;\n",
              "    display: none;\n",
              "    fill: var(--fill-color);\n",
              "    height: 32px;\n",
              "    padding: 0;\n",
              "    width: 32px;\n",
              "  }\n",
              "\n",
              "  .colab-df-quickchart:hover {\n",
              "    background-color: var(--hover-bg-color);\n",
              "    box-shadow: 0 1px 2px rgba(60, 64, 67, 0.3), 0 1px 3px 1px rgba(60, 64, 67, 0.15);\n",
              "    fill: var(--button-hover-fill-color);\n",
              "  }\n",
              "\n",
              "  .colab-df-quickchart-complete:disabled,\n",
              "  .colab-df-quickchart-complete:disabled:hover {\n",
              "    background-color: var(--disabled-bg-color);\n",
              "    fill: var(--disabled-fill-color);\n",
              "    box-shadow: none;\n",
              "  }\n",
              "\n",
              "  .colab-df-spinner {\n",
              "    border: 2px solid var(--fill-color);\n",
              "    border-color: transparent;\n",
              "    border-bottom-color: var(--fill-color);\n",
              "    animation:\n",
              "      spin 1s steps(1) infinite;\n",
              "  }\n",
              "\n",
              "  @keyframes spin {\n",
              "    0% {\n",
              "      border-color: transparent;\n",
              "      border-bottom-color: var(--fill-color);\n",
              "      border-left-color: var(--fill-color);\n",
              "    }\n",
              "    20% {\n",
              "      border-color: transparent;\n",
              "      border-left-color: var(--fill-color);\n",
              "      border-top-color: var(--fill-color);\n",
              "    }\n",
              "    30% {\n",
              "      border-color: transparent;\n",
              "      border-left-color: var(--fill-color);\n",
              "      border-top-color: var(--fill-color);\n",
              "      border-right-color: var(--fill-color);\n",
              "    }\n",
              "    40% {\n",
              "      border-color: transparent;\n",
              "      border-right-color: var(--fill-color);\n",
              "      border-top-color: var(--fill-color);\n",
              "    }\n",
              "    60% {\n",
              "      border-color: transparent;\n",
              "      border-right-color: var(--fill-color);\n",
              "    }\n",
              "    80% {\n",
              "      border-color: transparent;\n",
              "      border-right-color: var(--fill-color);\n",
              "      border-bottom-color: var(--fill-color);\n",
              "    }\n",
              "    90% {\n",
              "      border-color: transparent;\n",
              "      border-bottom-color: var(--fill-color);\n",
              "    }\n",
              "  }\n",
              "</style>\n",
              "\n",
              "  <script>\n",
              "    async function quickchart(key) {\n",
              "      const quickchartButtonEl =\n",
              "        document.querySelector('#' + key + ' button');\n",
              "      quickchartButtonEl.disabled = true;  // To prevent multiple clicks.\n",
              "      quickchartButtonEl.classList.add('colab-df-spinner');\n",
              "      try {\n",
              "        const charts = await google.colab.kernel.invokeFunction(\n",
              "            'suggestCharts', [key], {});\n",
              "      } catch (error) {\n",
              "        console.error('Error during call to suggestCharts:', error);\n",
              "      }\n",
              "      quickchartButtonEl.classList.remove('colab-df-spinner');\n",
              "      quickchartButtonEl.classList.add('colab-df-quickchart-complete');\n",
              "    }\n",
              "    (() => {\n",
              "      let quickchartButtonEl =\n",
              "        document.querySelector('#df-08ba583a-3f35-4ca0-ab37-a0438a4e1986 button');\n",
              "      quickchartButtonEl.style.display =\n",
              "        google.colab.kernel.accessAllowed ? 'block' : 'none';\n",
              "    })();\n",
              "  </script>\n",
              "</div>\n",
              "    </div>\n",
              "  </div>\n"
            ],
            "application/vnd.google.colaboratory.intrinsic+json": {
              "type": "dataframe",
              "summary": "{\n  \"name\": \"check_data[['mean_check_a', 'mean_check_b']]\",\n  \"rows\": 2,\n  \"fields\": [\n    {\n      \"column\": \"mean_check_a\",\n      \"properties\": {\n        \"dtype\": \"number\",\n        \"std\": 9758.819774343348,\n        \"min\": 62883.70779315835,\n        \"max\": 76684.76307078946,\n        \"num_unique_values\": 2,\n        \"samples\": [\n          62883.70779315835,\n          76684.76307078946\n        ],\n        \"semantic_type\": \"\",\n        \"description\": \"\"\n      }\n    },\n    {\n      \"column\": \"mean_check_b\",\n      \"properties\": {\n        \"dtype\": \"number\",\n        \"std\": 9761.394038741806,\n        \"min\": 82854.20146661851,\n        \"max\": 96658.89730387506,\n        \"num_unique_values\": 2,\n        \"samples\": [\n          82854.20146661851,\n          96658.89730387506\n        ],\n        \"semantic_type\": \"\",\n        \"description\": \"\"\n      }\n    }\n  ]\n}"
            }
          },
          "metadata": {},
          "execution_count": 30
        }
      ]
    },
    {
      "cell_type": "markdown",
      "source": [
        "По предварительным подсчётам, ежедневный средний чек в группе B выше, чем в группе A. Однако делать выводы ещё рано — необходимо определить статистическую значимость полученных результатов."
      ],
      "metadata": {
        "id": "0zwniC_fE9Ti"
      }
    },
    {
      "cell_type": "markdown",
      "source": [
        "Построим гистограмму ежедневного среднего чека в каждой из групп:"
      ],
      "metadata": {
        "id": "mUOtMmDcE_4K"
      }
    },
    {
      "cell_type": "code",
      "source": [
        "# создаём два графика размером 12x4\n",
        "fig, axes = plt.subplots(1, 2, figsize=(12, 4))\n",
        "# строим гистограмму для времени на сайте в каждой группе\n",
        "sns.histplot(x='mean_check_a', data=check_data, ax=axes[0])\n",
        "sns.histplot(x='mean_check_b', data=check_data, ax=axes[1])\n",
        "# задаём названия графикам\n",
        "axes[0].set_title('Распределение времени на сайте в группе А');\n",
        "axes[1].set_title('Распределение времени на сайте в группе B');"
      ],
      "metadata": {
        "colab": {
          "base_uri": "https://localhost:8080/",
          "height": 410
        },
        "id": "oKM4AaHoFCvL",
        "outputId": "361bd33a-3797-48a0-96ef-532219835692"
      },
      "execution_count": 31,
      "outputs": [
        {
          "output_type": "display_data",
          "data": {
            "text/plain": [
              "<Figure size 1200x400 with 2 Axes>"
            ],
            "image/png": "[encoded data removed]"
          },
          "metadata": {}
        }
      ]
    },
    {
      "cell_type": "markdown",
      "source": [
        "Распределения не являются нормальными. Можно проверить это с помощью теста Шапиро — Уилка, однако мы опустим этот шаг (при желании вы можете сделать это самостоятельно). Формы распределений больше напоминают логнормальные: большинство наблюдений сосредоточено около нуля, и частота постепенно падает."
      ],
      "metadata": {
        "id": "HcFPXxDRFbn2"
      }
    },
    {
      "cell_type": "markdown",
      "source": [
        "Итак, поскольку данные не распределены нормально, для сравнения истинных средних чеков T-тест уже нё подойдет. Здесь нам придётся обратиться к непараметрическим тестам, например, к критерию Манна — Уитни (U-тест), критерию Колмогорова — Смирнова и другим. Напомним, что эта категория тестов применяется в случаях, когда нет информации о распределении."
      ],
      "metadata": {
        "id": "WwMuHGrQFhjH"
      }
    },
    {
      "cell_type": "markdown",
      "source": [
        "Примечание о критерии Манна — Уитни:\n",
        "\n",
        "Постоянно ведутся споры о том, целесообразно ли при A/B-тестировании применять критерий Манна — Уитни, чтобы проверить, является ли статистически значимой разница в метриках между группами A и B.\n",
        "\n",
        "Часто в учебных материалах для начинающих дата-сайентистов и аналитиков говорится, что критерий Манна — Уитни — это непараметрический аналог T-теста, и вместо сравнения средних он определяет разницу между медианами. Однако это не совсем так, почему — отлично показано в статье Дмитрия Лунина, аналитика из «Авито». Мы настоятельно рекомендуем вам ознакомиться с ней, если вы хотите лучше понять тонкости применения статистических тестов при обработке результатов A/B-тестирования."
      ],
      "metadata": {
        "id": "Mg9enNdqFjrX"
      }
    },
    {
      "cell_type": "markdown",
      "source": [
        "Основные идеи этой статьи:\n",
        "\n",
        "* Критерий Манна — Уитни не проверяет равенство средних или медиан в группах. Он позволяет убедиться, что выборки из контрольной и тестовой групп соответствуют одному и тому же распределению, то есть проверяет наличие (отсутствие) сдвига между распределениями. Например, если тестовая выборка имеет распределение , а тестовая — , то тест будет проверять нулевую гипотезу  против альтернативной .\n",
        "* Пытаясь использовать критерий Манна — Уитни для установления равенства средних/медиан при A/B-тестировании, вы повышаете вероятность возникновения ошибки I рода более чем в два раза.\n",
        "Критерий Манна — Уитни чаще, чем T-тест, завышает вероятность наличия эффекта в данных, что может привести к искажению результатов A/B-тестирования.\n",
        "* Применение логарифмирования или других трансформаций к целевой метрике не поможет уменьшить ошибку U-теста.\n",
        "*Для реальных задач A/B-тестирования критерий Манна — Уитни стоит использовать с осторожностью, подкрепляя его результаты другими статистическими тестами.\n",
        "\n",
        "В учебных целях мы будем использовать U-критерий Манна — Уитни для случаев, когда метрики не распределены нормально. Однако при этом будем помнить, что результатам этого критерия при p-value, близким к уровню значимости, доверять не стоит."
      ],
      "metadata": {
        "id": "HFkRh7MDGDck"
      }
    },
    {
      "cell_type": "markdown",
      "source": [
        "Давайте воспользуемся тестом Манна — Уитни, чтобы проверить, статистически значима ли разница ежедневных средних чеков для двух вариантов рекомендательной системы."
      ],
      "metadata": {
        "id": "Qeb5hZRBGS1e"
      }
    },
    {
      "cell_type": "markdown",
      "source": [
        "Для критерия Манна — Уитни гипотезы будут выглядеть следующим образом:\n",
        "\n",
        "Нулевая гипотеза (об отсутствии эффекта): распределение, лежащее в основе среднего чека в группе А, идентично распределению, лежащему в основе среднего чека в группе B:\n",
        "\n",
        "\n",
        "Альтернативная гипотеза (о наличии эффекта): распределение, лежащее в основе среднего чека в группе А, отлично от распределения, лежащего в основе среднего чека в группе B:"
      ],
      "metadata": {
        "id": "J650HJtSGVFm"
      }
    },
    {
      "cell_type": "markdown",
      "source": [
        "Напомним, что U-тест Манна — Уитни реализован в функции mannwhitneyu() из модуля scipy.stats."
      ],
      "metadata": {
        "id": "LoHgSKqHGXfm"
      }
    },
    {
      "cell_type": "code",
      "source": [
        "from scipy.stats import mannwhitneyu"
      ],
      "metadata": {
        "id": "JcUHJWFOGaMP"
      },
      "execution_count": 32,
      "outputs": []
    },
    {
      "cell_type": "markdown",
      "source": [
        "Функция принимает на вход следующие параметры:\n",
        "\n",
        "x и y — выборки, соответствующие каждой из групп.\n",
        "alternative — вид альтернативной гипотезы (‘two-sided’ — двусторонняя, 'less' — левосторонняя, 'greater’ — правосторонняя). По умолчанию используется двусторонняя гипотеза."
      ],
      "metadata": {
        "id": "uX3FvRIeGcIP"
      }
    },
    {
      "cell_type": "code",
      "source": [
        "alpha = 0.05 # уровень значимости\n",
        "\n",
        "# вычисляем результат теста Манна — Уитни для выборок\n",
        "results = mannwhitneyu(\n",
        "    x=check_data['mean_check_a'],\n",
        "    y=check_data['mean_check_b'],\n",
        "    alternative='two-sided'\n",
        ")\n",
        "print('p-value:', round(results.pvalue, 2))\n",
        "\n",
        "# сравниваем полученное p-value с уровнем значимости\n",
        "if results.pvalue <= alpha:\n",
        "    print(\"Отвергаем нулевую гипотезу в пользу альтернативной\")\n",
        "else:\n",
        "    print(\"У нас нет оснований отвергнуть нулевую гипотезу\")\n",
        "\n",
        "# p-value: 0.06\n",
        "# У нас нет оснований отвергнуть нулевую гипотезу"
      ],
      "metadata": {
        "colab": {
          "base_uri": "https://localhost:8080/"
        },
        "id": "ySOp83geGdzv",
        "outputId": "98780970-c70b-409c-9d2e-0ea7e047ac24"
      },
      "execution_count": 33,
      "outputs": [
        {
          "output_type": "stream",
          "name": "stdout",
          "text": [
            "p-value: 0.06\n",
            "У нас нет оснований отвергнуть нулевую гипотезу\n"
          ]
        }
      ]
    },
    {
      "cell_type": "markdown",
      "source": [
        "Итак, согласно результатам тестирования, p-value = 0.06, что больше, чем уровень значимости . Значит, у нас нет оснований отвергнуть нулевую гипотезу."
      ],
      "metadata": {
        "id": "xhxfL4dkGhtw"
      }
    },
    {
      "cell_type": "markdown",
      "source": [
        "Что это значит для нас и для бизнеса?\n",
        "\n",
        "Средние чеки в группах А и B статистически равны между собой. Отсюда можно сделать бизнес-вывод, что рекомендательная система не влияет на мотивацию пользователей добавлять сопутствующие товары в корзину."
      ],
      "metadata": {
        "id": "7MRcCU_YGoOx"
      }
    },
    {
      "cell_type": "markdown",
      "source": [
        "Однако нас должно насторожить, что p-value очень близко к уровню значимости. Поэтому давайте дополнительно проведём односторонний U-тест со следующими гипотезами:\n",
        "\n",
        "Нулевая гипотеза (об отсутствии эффекта): распределение, лежащее в основе среднего чека в группе А, статистически больше либо равно распределению, лежащему в основе среднего чека в группе B:\n",
        "\n",
        "\n",
        "Левосторонняя альтернативная гипотеза (о наличии эффекта): распределение, лежащее в основе среднего чека в группе А, статистически меньше распределения, лежащего в основе среднего чека в группе B:"
      ],
      "metadata": {
        "id": "MvphXpIBGsC5"
      }
    },
    {
      "cell_type": "code",
      "source": [
        "alpha = 0.05 # уровень значимости\n",
        "\n",
        "# вычисляем результат теста Манна — Уитни для выборок\n",
        "results = mannwhitneyu(\n",
        "    x=check_data['mean_check_a'],\n",
        "    y=check_data['mean_check_b'],\n",
        "    alternative='less' # изменили альтернативную гипотезу\n",
        ")\n",
        "print('p-value:', round(results.pvalue, 2))\n",
        "\n",
        "# сравниваем полученное p-value с уровнем значимости\n",
        "if results.pvalue <= alpha:\n",
        "    print(\"Отвергаем нулевую гипотезу в пользу альтернативной\")\n",
        "else:\n",
        "    print(\"У нас нет оснований отвергнуть нулевую гипотезу\")\n",
        "\n",
        "# p-value: 0.03\n",
        "# Отвергаем нулевую гипотезу в пользу альтернативной"
      ],
      "metadata": {
        "colab": {
          "base_uri": "https://localhost:8080/"
        },
        "id": "y0uhEGFeGt4a",
        "outputId": "62d2cdb6-2f90-4fa6-f0f8-c8fffeecd59e"
      },
      "execution_count": 34,
      "outputs": [
        {
          "output_type": "stream",
          "name": "stdout",
          "text": [
            "p-value: 0.03\n",
            "Отвергаем нулевую гипотезу в пользу альтернативной\n"
          ]
        }
      ]
    },
    {
      "cell_type": "markdown",
      "source": [
        "Получаем значение p-value = 0.03, что меньше, чем уровень значимости . Значит, мы должны отвергнуть нулевую гипотезу в пользу альтернативной. Таким образом, односторонний тест говорит нам, что разница в средних чеках всё-таки статистически значима. То есть рекомендательная система всё-таки мотивирует пользователей добавлять сопутствующие товары в корзину и повышает средний чек, а значит, её можно внедрять для всех пользователей сайта."
      ],
      "metadata": {
        "id": "aZbaypesG5dD"
      }
    },
    {
      "cell_type": "markdown",
      "source": [
        "Итак, мы получили два противоречивых вывода: двусторонний тест говорит, что эффекта нет, а односторонний — что есть. Какой вывод правильный?\n",
        "\n",
        "Ответ:\n",
        "\n",
        "На самом деле никакой. Когда двусторонний и односторонний тесты противоречат друг другу, это, скорее всего, означает, что данные неоднозначны и нужно более внимательно исследовать результаты тестирования.\n",
        "\n",
        "В такой ситуации для более точной оценки эффекта можно попробовать провести анализ данных с помощью других методов и моделей. Также стоит обратить внимание на размер выборки, возможные выбросы, несбалансированность групп, а также на то, были ли учтены все факторы, которые могут влиять на результаты тестирования.\n",
        "\n",
        "В нашем случае очевидной проблемой является размер выборки, а точнее длительность A/B-теста. Замеры среднего чека сделаны только за 18 дней, что очень мало. Размер выборки играет важную роль, особенно при применении непараметрических тестов (каким является тест Манна — Уитни), которые обладают меньшей мощностью, чем параметрические, а потому требуют большего количества наблюдений.\n",
        "\n",
        "Таким образом, в данном случае мы не можем принять решение о внедрении или невнедрении рекомендательной системы, так как у нас попросту недостаточно данных, чтобы сделать вывод. Необходимо продолжить A/B-тестирование, чтобы получить однозначные результаты."
      ],
      "metadata": {
        "id": "NHhuJeuBG7Ws"
      }
    },
    {
      "cell_type": "markdown",
      "source": [
        "# ДОВЕРИТЕЛЬНЫЙ ИНТЕРВАЛ ДЛЯ СРЕДНЕГО ПРИ ИЗВЕСТНОМ ИСТИННОМ СТАНДАРТНОМ ОТКЛОНЕНИИ"
      ],
      "metadata": {
        "id": "Gngq_k7xhcnH"
      }
    },
    {
      "cell_type": "markdown",
      "source": [
        "Задача:\n",
        "\n",
        "Была опрошена случайная выборка из 36 жителей региона об их затратах на продукты питания за последний месяц. Выборочное среднее оказалось равным 16 100 рублей.Допустим, откуда-то известно, что истинное стандартное отклонение расходов равно 12 000 рублей.Нам нужно построить доверительный интервал для истинных средних расходов жителя данного региона на продукты питания в месяц. Интервал должен определять истинное значение с надежностью в 95 %."
      ],
      "metadata": {
        "id": "A5wrpNS7iUc-"
      }
    },
    {
      "cell_type": "markdown",
      "source": [
        "![Screenshot_20250101_140057.png](data:image/png;base64,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)"
      ],
      "metadata": {
        "id": "uHrLnsY1htSx"
      }
    },
    {
      "cell_type": "markdown",
      "source": [
        "Задаём необходимые для вычисления переменные:"
      ],
      "metadata": {
        "id": "fwZ213JAhipg"
      }
    },
    {
      "cell_type": "code",
      "source": [
        "n = 36 # размер выборки\n",
        "x_mean = 16100 # выборочное среднее\n",
        "sigma = 12000 # истинное стандартное отклонение\n",
        "gamma = 0.95 # уровень надёжности\n",
        "alpha = 1 - gamma # уровень значимости"
      ],
      "metadata": {
        "id": "3DjS5_Q9hgIg"
      },
      "execution_count": 35,
      "outputs": []
    },
    {
      "cell_type": "markdown",
      "source": [
        "Найти значение z-критического для любого уровня значимости можно при помощи функции norm.ppf() из модуля scipy.stats. По специфическим причинам реализации функция возвращает не совсем z-критическое, а его отрицательный модуль, поэтому мы берём его со знаком минус."
      ],
      "metadata": {
        "id": "dfcVThSkh3tK"
      }
    },
    {
      "cell_type": "markdown",
      "source": [
        "![Screenshot_20250101_140222.png](data:image/png;base64,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)"
      ],
      "metadata": {
        "id": "3BBulp_kiAzk"
      }
    },
    {
      "cell_type": "code",
      "source": [
        "from scipy.stats import norm\n",
        "z_crit = -norm.ppf(alpha/2) # z-критическое\n",
        "print(z_crit)"
      ],
      "metadata": {
        "colab": {
          "base_uri": "https://localhost:8080/"
        },
        "id": "Lu0_gLEeiDVs",
        "outputId": "d401787f-e99e-4dc1-c936-3170f25d7c6d"
      },
      "execution_count": 36,
      "outputs": [
        {
          "output_type": "stream",
          "name": "stdout",
          "text": [
            "1.959963984540054\n"
          ]
        }
      ]
    },
    {
      "cell_type": "markdown",
      "source": [
        "Итак, теперь у нас есть всё, чтобы построить доверительный интервал. Напишем функцию z_mean_conf_interval(), которая будет принимать на вход:\n",
        "\n",
        "mean — выборочное среднее;\n",
        "sigma — истинное стандартное отклонение;\n",
        "n — размер выборки;\n",
        "gamma — уровень надёжности.\n",
        "Функция будет вычислять нижнюю и верхнюю границы по формуле и возвращать их в виде кортежа.\n",
        "\n",
        "Округлим результат до целого и выведем на экран:"
      ],
      "metadata": {
        "id": "F1SHvVD0iLPF"
      }
    },
    {
      "cell_type": "code",
      "source": [
        "def z_mean_conf_interval(x_mean, sigma, n, gamma=0.95):\n",
        "    alpha = 1 - gamma  # уровень значимости\n",
        "    z_crit = -norm.ppf(alpha/2)  # z-критическое\n",
        "    eps = z_crit * sigma/(n ** 0.5) # погрешность\n",
        "    lower_bound = x_mean - eps  # левая (нижняя) граница\n",
        "    upper_bound = x_mean + eps  # правая (верхняя) граница\n",
        "    # возвращаем кортеж из границ интервала\n",
        "    return lower_bound, upper_bound\n",
        "\n",
        "# строим доверительный интервал для среднего при известном СКО\n",
        "lower_bound, upper_bound = z_mean_conf_interval(x_mean, sigma, n)\n",
        "\n",
        "# выводим результат\n",
        "print('Доверительный интервал: {}'.format((round(lower_bound), round(upper_bound))))"
      ],
      "metadata": {
        "colab": {
          "base_uri": "https://localhost:8080/"
        },
        "id": "vsTQKrxriMHt",
        "outputId": "81ba1fd3-cf91-4240-8cd1-ba05db5a6955"
      },
      "execution_count": 37,
      "outputs": [
        {
          "output_type": "stream",
          "name": "stdout",
          "text": [
            "Доверительный интервал: (12180, 20020)\n"
          ]
        }
      ]
    },
    {
      "cell_type": "markdown",
      "source": [
        "Примечание. Заметьте, что это универсальный код. Если перед вами возникнет другая задача расчёта доверительного интервала для истинного среднего, то вам достаточно будет правильно поменять значения переменных."
      ],
      "metadata": {
        "id": "QbTgniCAigd5"
      }
    },
    {
      "cell_type": "markdown",
      "source": [
        "Полученный результат интерпретируется следующим образом: мы на 95 % уверены, что истинные расходы жителей на продукты питания лежат в интервале от 12 180 рублей до 20 020 рублей."
      ],
      "metadata": {
        "id": "cQM8KrhKijpx"
      }
    },
    {
      "cell_type": "markdown",
      "source": [
        "Чтобы построить доверительный интервал для среднего при известном стандартном отклонении, можно использовать функцию norm.interval() из модуля norm библиотеки scipy. В неё нужно нужно передать следующие параметры:\n",
        "\n",
        "confidence — уровень надёжности ;\n",
        "loc — центр интервала (выборочное среднее);\n",
        "scale — погрешность (стандартное отклонение, нормированное на ).\n",
        "Пример вызова функции:"
      ],
      "metadata": {
        "id": "G9UcYSFnmKHp"
      }
    },
    {
      "cell_type": "code",
      "source": [
        "# строим доверительный интервал\n",
        "lower, upper = norm.interval(gamma, loc=x_mean, scale=sigma / n**0.5)\n",
        "print('Доверительный интервал: {}'.format((round(lower), round(upper))))\n",
        "# Доверительный интервал: (12180, 20020)"
      ],
      "metadata": {
        "colab": {
          "base_uri": "https://localhost:8080/"
        },
        "id": "KmiP0T9EmMIY",
        "outputId": "0c9ece03-2c22-44cf-d1a5-e2ee3c54e3d9"
      },
      "execution_count": 38,
      "outputs": [
        {
          "output_type": "stream",
          "name": "stdout",
          "text": [
            "Доверительный интервал: (12180, 20020)\n"
          ]
        }
      ]
    },
    {
      "cell_type": "markdown",
      "source": [
        "Важно! Доверительный интервал не даёт нам 100 % результата. Всегда есть шанс, что мы промахнулись и не захватили истинного значения. Этот шанс как раз равен уровню значимости alpha. То есть в нашем примере существует 5 %-ый шанс, что истинное среднее расходов вовсе не лежит в интервале от 12 180 до 20 020. Существует вероятность, что математическое ожидание на самом деле равно 5 000 рублей или 25 000 рублей. Но такая вероятность составляет менее 5 %, и это нас устраивает."
      ],
      "metadata": {
        "id": "8ils3njSmUL5"
      }
    },
    {
      "cell_type": "markdown",
      "source": [
        "# ДОВЕРИТЕЛЬНЫЙ ИНТЕРВАЛ ДЛЯ СРЕДНЕГО ПРИ НЕИЗВЕСТНОМ СТАНДАРТНОМ ОТКЛОНЕНИИ"
      ],
      "metadata": {
        "id": "RtyYbqFrmmVT"
      }
    }
  ]
}