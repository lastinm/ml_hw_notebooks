{
  "nbformat": 4,
  "nbformat_minor": 0,
  "metadata": {
    "colab": {
      "provenance": [],
      "authorship_tag": "ABX9TyPQ6Dq2Y5Tk+sZZjosgDZTA",
      "include_colab_link": true
    },
    "kernelspec": {
      "name": "python3",
      "display_name": "Python 3"
    },
    "language_info": {
      "name": "python"
    }
  },
  "cells": [
    {
      "cell_type": "markdown",
      "metadata": {
        "id": "view-in-github",
        "colab_type": "text"
      },
      "source": [
        "<a href=\"https://colab.research.google.com/github/lastinm/ml_hw_notebooks/blob/main/%D0%A5%D1%80%D0%B0%D0%BD%D0%B5%D0%BD%D0%B8%D0%B5%2C_%D0%B8%D0%B7%D0%B2%D0%BB%D0%B5%D1%87%D0%B5%D0%BD%D0%B8%D0%B5_%D0%B8_%D0%BE%D0%B1%D1%80%D0%B0%D0%B1%D0%BE%D1%82%D0%BA%D0%B0_%D0%91%D0%94_%D0%9B%D0%B0%D0%B1%D0%BE%D1%80%D0%B0%D1%82%D0%BE%D1%80%D0%BD%D0%B0%D1%8F_%D1%80%D0%B0%D0%B1%D0%BE%D1%82%D0%B0_%E2%84%965.ipynb\" target=\"_parent\"><img src=\"https://colab.research.google.com/assets/colab-badge.svg\" alt=\"Open In Colab\"/></a>"
      ]
    },
    {
      "cell_type": "markdown",
      "source": [
        "# Задание 1. Structured Streaming из набора файлов"
      ],
      "metadata": {
        "id": "nw-PCLkaqy5R"
      }
    },
    {
      "cell_type": "code",
      "execution_count": 16,
      "metadata": {
        "id": "RsnUJj9gjQvU"
      },
      "outputs": [],
      "source": [
        "from pyspark.sql import SparkSession\n",
        "\n",
        "spark = SparkSession \\\n",
        "  .builder \\\n",
        "  .appName(\"Streaming 1\") \\\n",
        "  .config(\"spark.sql.streaming.schemaInference\", \"true\") \\\n",
        "  .getOrCreate()"
      ]
    },
    {
      "cell_type": "markdown",
      "source": [
        "1. Подготовить данные, имеющиеся во вложении.\n",
        "2. Открыть на основе исходных json файлов потоковый датафрейм."
      ],
      "metadata": {
        "id": "zpvJHH-3q5WB"
      }
    },
    {
      "cell_type": "code",
      "source": [
        "df = spark.readStream \\\n",
        "  .format(\"json\") \\\n",
        "  .option(\"path\", \"/content/sample_data\") \\\n",
        "  .option(\"maxFilesPerTrigger\", 1) \\\n",
        "  .load()"
      ],
      "metadata": {
        "id": "eTBrXZ0Gj--F"
      },
      "execution_count": 17,
      "outputs": []
    },
    {
      "cell_type": "markdown",
      "source": [
        "3. Написать преобразование исходного датафрейма, для получения плоской (flat) структуры."
      ],
      "metadata": {
        "id": "VOUAt1PZrDNT"
      }
    },
    {
      "cell_type": "code",
      "source": [
        "df2 = df.selectExpr(\"InvoiceNumber\",\n",
        "                    \"CreatedTime\",\n",
        "                    \"StoreID\",\n",
        "                    \"PosID\",\n",
        "                    \"CashierID\",\n",
        "                    \"CustomerType\",\n",
        "                    \"CustomerCardNo\",\n",
        "                    \"TotalAmount\",\n",
        "                    \"NumberOfItems\",\n",
        "                    \"PaymentMethod\",\n",
        "                    \"TaxableAmount\",\n",
        "                    \"explode(InvoiceLineItems) as Item\")"
      ],
      "metadata": {
        "id": "RSnhBDkXmTSZ"
      },
      "execution_count": 18,
      "outputs": []
    },
    {
      "cell_type": "code",
      "source": [
        "from pyspark.sql.functions import expr\n",
        "\n",
        "# [{\"ItemCode\":\"458\",\"ItemDescription\":\"Wine glass\",\"ItemPrice\":1644.0,\"ItemQty\":2,\"TotalValue\":3288.0},{\"ItemCode\":\"283\",\"ItemDescription\":\"Portable Lamps\",\"ItemPrice\":2236.0,\"ItemQty\":1,\"TotalValue\":2236.0},{\"ItemCode\":\"498\",\"ItemDescription\":\"Carving knifes\",\"ItemPrice\":1424.0,\"ItemQty\":2,\"TotalValue\":2848.0},{\"ItemCode\":\"523\",\"ItemDescription\":\"Oil-lamp clock\",\"ItemPrice\":1371.0,\"ItemQty\":2,\"TotalValue\":2742.0}]\n",
        "df3 = df2 \\\n",
        "  .withColumn(\"ItemCode\", expr(\"Item.ItemCode\")) \\\n",
        "  .withColumn(\"ItemDescription\", expr(\"Item.ItemDescription\")) \\\n",
        "  .withColumn(\"ItemPrice\", expr(\"Item.ItemPrice\")) \\\n",
        "  .withColumn(\"ItemQty\", expr(\"Item.ItemQty\")) \\\n",
        "  .withColumn(\"TotalValue\", expr(\"Item.TotalValue\")) \\\n",
        "  .drop(\"Item\")"
      ],
      "metadata": {
        "id": "O5vY-QoVn-AY"
      },
      "execution_count": 19,
      "outputs": []
    },
    {
      "cell_type": "markdown",
      "source": [
        "4. Сохранять получаемые каждые X секунд исходные файлы в json."
      ],
      "metadata": {
        "id": "K0AnqNQhrIR7"
      }
    },
    {
      "cell_type": "code",
      "source": [
        "query = df3 \\\n",
        "  .writeStream \\\n",
        "  .format(\"json\") \\\n",
        "  .option(\"path\", \"/content/output\") \\\n",
        "  .option(\"checkpointLocation\", \"/content/checkpoint\") \\\n",
        "  .trigger(processingTime=\"10 seconds\") \\\n",
        "  .start()"
      ],
      "metadata": {
        "id": "nrt-QYLZpRxT"
      },
      "execution_count": 21,
      "outputs": []
    },
    {
      "cell_type": "code",
      "source": [
        "query.lastProgress"
      ],
      "metadata": {
        "colab": {
          "base_uri": "https://localhost:8080/"
        },
        "id": "rPT-YVP7qWYt",
        "outputId": "0c744bf2-faa0-453f-c844-37708a93cf36"
      },
      "execution_count": 25,
      "outputs": [
        {
          "output_type": "execute_result",
          "data": {
            "text/plain": [
              "{'id': 'b5c88650-07d1-4a2f-80bc-4787b726564a',\n",
              " 'runId': '36e98a25-8bab-4937-b15d-d2283405e630',\n",
              " 'name': None,\n",
              " 'timestamp': '2025-01-04T18:53:40.000Z',\n",
              " 'batchId': 9,\n",
              " 'numInputRows': 0,\n",
              " 'inputRowsPerSecond': 0.0,\n",
              " 'processedRowsPerSecond': 0.0,\n",
              " 'durationMs': {'latestOffset': 4, 'triggerExecution': 6},\n",
              " 'stateOperators': [],\n",
              " 'sources': [{'description': 'FileStreamSource[file:/content/sample_data]',\n",
              "   'startOffset': {'logOffset': 8},\n",
              "   'endOffset': {'logOffset': 8},\n",
              "   'latestOffset': None,\n",
              "   'numInputRows': 0,\n",
              "   'inputRowsPerSecond': 0.0,\n",
              "   'processedRowsPerSecond': 0.0}],\n",
              " 'sink': {'description': 'FileSink[/content/output]', 'numOutputRows': -1}}"
            ]
          },
          "metadata": {},
          "execution_count": 25
        }
      ]
    },
    {
      "cell_type": "code",
      "source": [
        "spark.stop()"
      ],
      "metadata": {
        "id": "hdSuPpd-kX5J"
      },
      "execution_count": 6,
      "outputs": []
    },
    {
      "cell_type": "markdown",
      "source": [
        "{\"InvoiceNumber\":\"51402977\",\"CreatedTime\":1595688900348,\"StoreID\":\"STR7188\",\"PosID\":\"POS956\",\"CashierID\":\"OAS134\",\"CustomerType\":\"PRIME\",\"CustomerCardNo\":\"4629185211\",\"TotalAmount\":11114.0,\"NumberOfItems\":4,\"PaymentMethod\":\"CARD\",\"TaxableAmount\":11114.0,\"CGST\":277.85,\"SGST\":277.85,\"CESS\":13.8925,\"DeliveryType\":\"TAKEAWAY\",\"InvoiceLineItems\":[{\"ItemCode\":\"458\",\"ItemDescription\":\"Wine glass\",\"ItemPrice\":1644.0,\"ItemQty\":2,\"TotalValue\":3288.0},{\"ItemCode\":\"283\",\"ItemDescription\":\"Portable Lamps\",\"ItemPrice\":2236.0,\"ItemQty\":1,\"TotalValue\":2236.0},{\"ItemCode\":\"498\",\"ItemDescription\":\"Carving knifes\",\"ItemPrice\":1424.0,\"ItemQty\":2,\"TotalValue\":2848.0},{\"ItemCode\":\"523\",\"ItemDescription\":\"Oil-lamp clock\",\"ItemPrice\":1371.0,\"ItemQty\":2,\"TotalValue\":2742.0}]}"
      ],
      "metadata": {
        "id": "2QuXTboWmxGG"
      }
    }
  ]
}